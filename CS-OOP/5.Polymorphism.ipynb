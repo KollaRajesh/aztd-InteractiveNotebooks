{
 "cells": [
  {
   "cell_type": "markdown",
   "metadata": {},
   "source": [
    ">  ### Polymorphism"
   ]
  },
  {
   "cell_type": "markdown",
   "metadata": {},
   "source": [
    "> **Polymorphism**  is the ability of objects to take on many forms.   \n",
    ">   This allows us to write code that can work with objects of different types, without having to know the details of those types.\n",
    "> \n",
    ">  We can also achieve Polymorphism by implementing function overloading and operator overloading.\n",
    "\n",
    "> Here’s an example of encapsulation in C#.\n",
    "\n",
    "> Example 1:"
   ]
  },
  {
   "cell_type": "code",
   "execution_count": null,
   "metadata": {
    "dotnet_interactive": {
     "language": "csharp"
    },
    "polyglot_notebook": {
     "kernelName": "csharp"
    },
    "vscode": {
     "languageId": "polyglot-notebook"
    }
   },
   "outputs": [],
   "source": [
    "public abstract class Animal\n",
    "{\n",
    "    public abstract void MakeSound();\n",
    "}\n",
    "\n",
    "public class Dog : Animal\n",
    "{\n",
    "    public override void MakeSound()\n",
    "    {\n",
    "        Console.WriteLine(\"The dog says woof!\");\n",
    "    }\n",
    "}\n",
    "\n",
    "public class Cat : Animal\n",
    "{\n",
    "    public override void MakeSound()\n",
    "    {\n",
    "        Console.WriteLine(\"The cat says meow!\");\n",
    "    }\n",
    "}\n",
    "\n",
    "Animal dog=new Dog();\n",
    "dog.MakeSound();  //The dog says woof!\n",
    "\n",
    "Animal cat=new Cat();\n",
    "cat.MakeSound();  //The cat says meow!\n"
   ]
  },
  {
   "cell_type": "markdown",
   "metadata": {},
   "source": [
    "> In the above example,  \n",
    ">  - The Animal class is an abstract class that defines an abstract method called MakeSound.  \n",
    ">  - The Dog and Cat classes inherit from the Animal class and provide their own implementation of the MakeSound method.  \n",
    ">  - By using polymorphism, we can write code that works with objects of type Animal, without having to know whether the object is a Dog or a Cat."
   ]
  },
  {
   "cell_type": "code",
   "execution_count": null,
   "metadata": {
    "dotnet_interactive": {
     "language": "csharp"
    },
    "polyglot_notebook": {
     "kernelName": "csharp"
    },
    "vscode": {
     "languageId": "polyglot-notebook"
    }
   },
   "outputs": [],
   "source": [
    "public interface IShape\n",
    "{\n",
    "    double CalculateArea();\n",
    "}\n",
    "\n",
    "public class Rectangle : IShape\n",
    "{\n",
    "    private double length;\n",
    "    private double width;\n",
    "\n",
    "    public Rectangle(double length, double width)\n",
    "    {\n",
    "        this.length = length;\n",
    "        this.width = width;\n",
    "    }\n",
    "\n",
    "    public double CalculateArea()\n",
    "    {\n",
    "        return length * width;\n",
    "    }\n",
    "}\n",
    "\n",
    "public class Circle : IShape\n",
    "{\n",
    "    private double radius;\n",
    "\n",
    "    public Circle(double radius)\n",
    "    {\n",
    "        this.radius = radius;\n",
    "    }\n",
    "\n",
    "    public double CalculateArea()\n",
    "    {\n",
    "        return Math.PI * radius * radius;\n",
    "    }\n",
    "}\n",
    "\n",
    "IShape circle= new Circle(10);\n",
    "Console.WriteLine($\" Area of Circle: {circle.CalculateArea()}\");\n",
    "\n",
    "IShape reactAngle= new Rectangle(10,5);\n",
    "reactAngle.CalculateArea();\n",
    "Console.WriteLine($\" Area of Rectangle:  {reactAngle.CalculateArea()}\");"
   ]
  },
  {
   "cell_type": "markdown",
   "metadata": {},
   "source": [
    ">  - In this example, the IShape interface defines a method called CalculateArea.  \n",
    ">  - The Rectangle and Circle classes implement the IShape interface and provide their own implementation of the CalculateArea method.   \n",
    ">  - By using polymorphism, we can write code that works with objects of type IShape, without having to know whether the object is a Rectangle or a Circle.  "
   ]
  },
  {
   "cell_type": "markdown",
   "metadata": {},
   "source": [
    "> 1. **Function overloading** allows us to define multiple methods with the same name, but with different parameters.\n",
    ">    -  This allows us to write code that can work with objects of different types, without having to know the details of those types.\n",
    ">    -  Function overloading is a part of polymorphism in C#.\n",
    ">    -  Polymorphism is the ability of objects to take on many forms. In C#, function overloading is one way to achieve polymorphism.\n",
    "\n",
    "Here’s an example of function overloading in C#:"
   ]
  },
  {
   "cell_type": "code",
   "execution_count": null,
   "metadata": {
    "dotnet_interactive": {
     "language": "csharp"
    },
    "polyglot_notebook": {
     "kernelName": "csharp"
    },
    "vscode": {
     "languageId": "polyglot-notebook"
    }
   },
   "outputs": [],
   "source": [
    "public class Calculator\n",
    "{\n",
    "    public int Add(int a, int b)\n",
    "    {\n",
    "        return a + b;\n",
    "    }\n",
    "\n",
    "    public double Add(double a, double b)\n",
    "    {\n",
    "        return Math.Round(a + b,1);\n",
    "    }\n",
    "}\n",
    " \n",
    " Calculator calc=new Calculator();\n",
    " calc.Add(1,2).Display();\n",
    " calc.Add(10.2f,20.2f).Display();"
   ]
  },
  {
   "cell_type": "markdown",
   "metadata": {},
   "source": [
    ">  In this example, the Calculator class has two methods called Add, but with different parameter types.   \n",
    ">  By using function overloading, we can write code that works with both int and double values, without having to know the details of those types.  "
   ]
  },
  {
   "cell_type": "markdown",
   "metadata": {},
   "source": [
    ">  3. **Operator overloading** allows us to define custom implementations of operators such as +, -, *, /, ==, !=, etc. \n",
    ">  for our own classes. This allows us to write code that can work with objects of different types, without having to know the details of those types.\n",
    "\n",
    ">  Operator overloading is a part of polymorphism in C#. Polymorphism is the ability of objects to take on many forms.\n",
    "> In C#, operator overloading is one way to achieve polymorphism"
   ]
  },
  {
   "cell_type": "code",
   "execution_count": null,
   "metadata": {
    "dotnet_interactive": {
     "language": "csharp"
    },
    "polyglot_notebook": {
     "kernelName": "csharp"
    },
    "vscode": {
     "languageId": "polyglot-notebook"
    }
   },
   "outputs": [],
   "source": [
    "public class Complex\n",
    "{\n",
    "    public double Real { get; set; }\n",
    "    public double Imaginary { get; set; }\n",
    "\n",
    "    public static Complex operator +(Complex a, Complex b)\n",
    "    {\n",
    "        return new Complex { Real = a.Real + b.Real, Imaginary = a.Imaginary + b.Imaginary };\n",
    "    }\n",
    "\n",
    "    public static Complex operator -(Complex a, Complex b)\n",
    "    {\n",
    "        return new Complex { Real = a.Real - b.Real, Imaginary = a.Imaginary - b.Imaginary };\n",
    "    }\n",
    "\n",
    "    public static Complex operator *(Complex a, Complex b)\n",
    "    {\n",
    "        return new Complex { Real = a.Real * b.Real - a.Imaginary * b.Imaginary, Imaginary = a.Real * b.Imaginary + a.Imaginary * b.Real };\n",
    "    }\n",
    "\n",
    "    public static Complex operator /(Complex a, Complex b)\n",
    "    {\n",
    "        double denominator = b.Real * b.Real + b.Imaginary * b.Imaginary;\n",
    "        return new Complex { Real = (a.Real * b.Real + a.Imaginary * b.Imaginary) / denominator, Imaginary = (a.Imaginary * b.Real - a.Real * b.Imaginary) / denominator };\n",
    "    }\n",
    "     public override string ToString()\n",
    "     {\n",
    "       if (this.Imaginary> 0)\n",
    "        return $\"{this.Real}r+{this.Imaginary}i\";\n",
    "        else \n",
    "        return \n",
    "                $\"{this.Real}r- {this.Imaginary*-1}i\";\n",
    "     }\n",
    "}\n",
    "\n",
    "Complex complex1= new Complex {Real=10f,Imaginary=30};\n",
    "Complex complex2= new Complex {Real=20f,Imaginary=40};\n",
    "Console.WriteLine($\"Result of adding two complex numbers : {complex1+complex2}\");\n",
    "Console.WriteLine($\"Result of subtraction of two complex numbers : {complex1-complex2}\");;\n",
    "Console.WriteLine($\"Result of Multiplication of two complex numbers : {complex1*complex2}\");\n",
    "Console.WriteLine($\"Result of Division  of two complex numbers : {complex1/complex2}\");\n",
    "\n"
   ]
  },
  {
   "cell_type": "markdown",
   "metadata": {},
   "source": [
    "# Continue learning\n",
    "\n",
    "There are plenty more resources out there to learn!\n",
    "\n",
    "> [⏩ Next Module - Polymorphism ](6.Association_Aggregation_Composition.ipynb) -->\n",
    "> \n",
    "> [⏪ Last Module - Inheritance ](4.Inheritance.ipynb)\n",
    ">\n",
    "> [Reference- Object-Oriented programming](https://learn.microsoft.com/en-us/dotnet/csharp/fundamentals/tutorials/oop)\n",
    "> [Reference- function overloading](https://dotnettutorials.net/lesson/function-overloading-csharp/)\n",
    "> [Reference- Operator overloading](https://learn.microsoft.com/en-us/dotnet/csharp/language-reference/operators/operator-overloading)"
   ]
  }
 ],
 "metadata": {
  "language_info": {
   "name": "python"
  },
  "orig_nbformat": 4
 },
 "nbformat": 4,
 "nbformat_minor": 2
}
