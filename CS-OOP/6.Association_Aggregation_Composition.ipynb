{
 "cells": [
  {
   "cell_type": "markdown",
   "metadata": {},
   "source": [
    ">  ### Association vs Aggregation vs Composition"
   ]
  },
  {
   "cell_type": "markdown",
   "metadata": {},
   "source": [
    "> In object-oriented programming, there are three types of object relations: **association**, **aggregation**, and **composition**."
   ]
  },
  {
   "cell_type": "markdown",
   "metadata": {},
   "source": [
    " >  **Association** is a relationship between two objects, where one object knows about the other object. \n",
    " >   - There are two types of association: unidirectional and bidirectional.\n",
    " >\n",
    " >  In unidirectional association, only one object knows about the other object, while in bidirectional association, both objects know about each other.\n",
    "\n",
    "Here’s an example of unidirectional association in C#:"
   ]
  },
  {
   "cell_type": "code",
   "execution_count": 10,
   "metadata": {
    "dotnet_interactive": {
     "language": "csharp"
    },
    "polyglot_notebook": {
     "kernelName": "csharp"
    },
    "vscode": {
     "languageId": "polyglot-notebook"
    }
   },
   "outputs": [],
   "source": [
    "public class Car\n",
    "{\n",
    "    private Engine engine;\n",
    "\n",
    "    public Car(Engine engine)\n",
    "    {\n",
    "        this.engine = engine;\n",
    "    }\n",
    "}\n",
    "\n",
    "public class Engine\n",
    "{\n",
    "    public int Horsepower { get; set; }\n",
    "    public int Torque { get; set; }\n",
    "    public double Displacement { get; set; }\n",
    "    public int Cylinders { get; set; }\n",
    "    public bool Valvetrain { get; set; }\n",
    "    public bool FuelSystem { get; set; }\n",
    "    public bool CoolingSystem { get; set; }\n",
    "}\n",
    "\n",
    "var engine= new Engine(){Horsepower=1200,\n",
    "                                    Torque=12,\n",
    "                                    Displacement=10f,\n",
    "                                    Cylinders=23,\n",
    "                                    Valvetrain=true,\n",
    "                                    FuelSystem=true,\n",
    "                                    CoolingSystem=true };\n",
    "\n",
    "Car car =new Car(engine);\n",
    "\n",
    "// In this example, the Car class has a private field called engine, which is an instance of the Engine class.\n",
    "//  The Car class knows about the Engine class, but the Engine class does not know about the Car class."
   ]
  },
  {
   "cell_type": "markdown",
   "metadata": {},
   "source": [
    "> **Aggregation** is a relationship between two objects, where one object is a part of the other object.  \n",
    ">  -  The part object can exist independently of the whole object. In other words, the part object has its own lifecycle."
   ]
  },
  {
   "cell_type": "code",
   "execution_count": 11,
   "metadata": {
    "dotnet_interactive": {
     "language": "csharp"
    },
    "polyglot_notebook": {
     "kernelName": "csharp"
    },
    "vscode": {
     "languageId": "polyglot-notebook"
    }
   },
   "outputs": [],
   "source": [
    "public class Car\n",
    "{\n",
    "    private List<Wheel> wheels = new List<Wheel>();\n",
    "\n",
    "    public void AddWheel(Wheel wheel)\n",
    "    {\n",
    "        wheels.Add(wheel);\n",
    "    }\n",
    "}\n",
    "\n",
    "public class Wheel\n",
    "{\n",
    "    public int Diameter { get; set; }\n",
    "    public string Material { get; set; }\n",
    "    public string Brand { get; set; }\n",
    "}\n",
    "Car car= new Car();\n",
    "car.AddWheel(new Wheel{Diameter =10, Material =\"Iron\",Brand=\"Mercdez\"});\n",
    "car.AddWheel(new Wheel{Diameter =10, Material =\"Iron\",Brand=\"Mercdez\"});\n",
    "car.AddWheel(new Wheel{Diameter =10, Material =\"Iron\",Brand=\"Mercdez\"});\n",
    "car.AddWheel(new Wheel{Diameter =10, Material =\"Iron\",Brand=\"Mercdez\"});\n",
    "\n",
    "// In this example, the Car class has a private field called wheels, which is a list of Wheel objects.\n",
    "// The Wheel objects are part of the Car object, but they can exist independently of the Car object."
   ]
  },
  {
   "cell_type": "markdown",
   "metadata": {},
   "source": [
    ">  **Composition** is a relationship between two objects, where one object is a part of the other object.   \n",
    ">   -  The part object cannot exist independently of the whole object. In other words, the part object has the same lifecycle as the whole object.  "
   ]
  },
  {
   "cell_type": "code",
   "execution_count": 12,
   "metadata": {
    "dotnet_interactive": {
     "language": "csharp"
    },
    "polyglot_notebook": {
     "kernelName": "csharp"
    },
    "vscode": {
     "languageId": "polyglot-notebook"
    }
   },
   "outputs": [],
   "source": [
    "public class Car\n",
    "{\n",
    "    private Engine engine ;\n",
    "    public Car()\n",
    "    {\n",
    "        this.engine= new Engine(){Horsepower=1200,\n",
    "                                    Torque=12,\n",
    "                                    Displacement=10f,\n",
    "                                    Cylinders=23,\n",
    "                                    Valvetrain=true,\n",
    "                                    FuelSystem=true,\n",
    "                                    CoolingSystem=true };\n",
    "\n",
    "    }\n",
    "}\n",
    "\n",
    "public class Engine\n",
    "{\n",
    "    public int Horsepower { get; set; }\n",
    "    public int Torque { get; set; }\n",
    "    public double Displacement { get; set; }\n",
    "    public int Cylinders { get; set; }\n",
    "    public bool Valvetrain { get; set; }\n",
    "    public bool FuelSystem { get; set; }\n",
    "    public bool CoolingSystem { get; set; }\n",
    "}\n",
    "\n",
    "\n",
    "Car car =new Car();\n",
    "\n",
    "//  In this example, the Car class has a private field called engine, which is an instance of the Engine class.\n",
    "//   The Engine object is part of the Car object, and it cannot exist independently of the Car object.\n"
   ]
  },
  {
   "cell_type": "markdown",
   "metadata": {},
   "source": [
    "# Continue learning\n",
    "\n",
    "There are plenty more resources out there to learn!\n",
    "\n",
    "<!-- > [⏩ Next Module -  ]()  -->\n",
    "> \n",
    "> [⏪ Last Module - Inheritance ](5.Polymorphism.ipynb)\n",
    ">\n",
    "> [Reference- Object-Oriented programming](https://learn.microsoft.com/en-us/dotnet/csharp/fundamentals/tutorials/oop)\n",
    "> [Reference- Object-Oriented programming](https://www.c-sharpcorner.com/UploadFile/ff2f08/association-aggregation-and-composition/)\n",
    "> [Reference- association-aggregation-and-composition](https://www.c-sharpcorner.com/UploadFile/ff2f08/association-aggregation-and-composition/)"
   ]
  }
 ],
 "metadata": {
  "language_info": {
   "name": "python"
  },
  "orig_nbformat": 4
 },
 "nbformat": 4,
 "nbformat_minor": 2
}
