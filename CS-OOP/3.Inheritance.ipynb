{
 "cells": [
  {
   "cell_type": "markdown",
   "metadata": {},
   "source": [
    ">  ### Inheritance"
   ]
  },
  {
   "cell_type": "markdown",
   "metadata": {},
   "source": [
    "> **Inheritance** is a fundamental concept in object-oriented programming that allows us to create new classes from existing ones.    \n",
    ">   - It is used to reuse code that has already been written, and to create new classes that are similar to existing ones, but with some modifications. \n",
    ">   - Nothing but creating class from existing one. \n",
    ">\n",
    "\n",
    "> Example 1:"
   ]
  },
  {
   "cell_type": "code",
   "execution_count": null,
   "metadata": {
    "dotnet_interactive": {
     "language": "csharp"
    },
    "polyglot_notebook": {
     "kernelName": "csharp"
    },
    "vscode": {
     "languageId": "polyglot-notebook"
    }
   },
   "outputs": [],
   "source": [
    "public class Animal\n",
    "{\n",
    "    public void Eat()\n",
    "    {\n",
    "        Console.WriteLine(\"Animal is eating.\");\n",
    "    }\n",
    "}\n",
    "\n",
    "public class Dog : Animal\n",
    "{\n",
    "    public void Bark()\n",
    "    {\n",
    "        Console.WriteLine(\"Dog is barking.\");\n",
    "    }\n",
    "}\n",
    "\n",
    "Dog dog = new Dog();\n",
    "dog.Eat(); // Output: Animal is eating.\n",
    "dog.Bark(); // Output: Dog is barking."
   ]
  },
  {
   "cell_type": "markdown",
   "metadata": {},
   "source": [
    " > In this example, \n",
    " >  - the Animal class has a method called Eat, which is inherited by the Dog class.\n",
    " >  - The Dog class also has a method called Bark, which is not present in the Animal class.\n",
    " >  - By inheriting from the Animal class, the Dog class is able to reuse the Eat method, while adding its own Bark method.\n",
    "\n"
   ]
  },
  {
   "cell_type": "code",
   "execution_count": null,
   "metadata": {
    "dotnet_interactive": {
     "language": "csharp"
    },
    "polyglot_notebook": {
     "kernelName": "csharp"
    },
    "vscode": {
     "languageId": "polyglot-notebook"
    }
   },
   "outputs": [],
   "source": [
    "public class Vehicle\n",
    "{\n",
    "    public void Start()\n",
    "    {\n",
    "        Console.WriteLine(\"Starting the vehicle...\");\n",
    "    }\n",
    "\n",
    "    public void Stop()\n",
    "    {\n",
    "        Console.WriteLine(\"Stopping the vehicle...\");\n",
    "    }\n",
    "}\n",
    "\n",
    "public class Car : Vehicle\n",
    "{\n",
    "    public void Accelerate()\n",
    "    {\n",
    "        Console.WriteLine(\"Accelerating the car...\");\n",
    "    }\n",
    "\n",
    "    public void Brake()\n",
    "    {\n",
    "        Console.WriteLine(\"Braking the car...\");\n",
    "    }\n",
    "}\n",
    "\n",
    "Car car = new Car();\n",
    "car.Start(); // Output: Starting the vehicle...\n",
    "car.Accelerate(); // Output: Accelerating the car...\n",
    "car.Brake(); // Output: Braking the car...\n",
    "car.Stop(); // Output: Stopping the vehicle...\n"
   ]
  },
  {
   "cell_type": "markdown",
   "metadata": {},
   "source": [
    ">   - In this example, the Vehicle class has two methods called Start and Stop, which are inherited by the Car class.\n",
    ">   - The Car class also has two methods called Accelerate and Brake, which are not present in the Vehicle class.\n",
    ">   - By inheriting from the Vehicle class, the Car class is able to reuse the Start and Stop methods, while adding its own Accelerate and Brake methods."
   ]
  },
  {
   "cell_type": "markdown",
   "metadata": {},
   "source": [
    "# Continue learning\n",
    "\n",
    "There are plenty more resources out there to learn!\n",
    "\n",
    "> [⏩ Next Module - Polymorphism ](5.Polymorphism.ipynb)\n",
    ">\n",
    "> [⏪ Last Module - Abstraction ](3.Abstraction.ipynb)\n",
    ">\n",
    "> [Reference- Object-Oriented programming](https://learn.microsoft.com/en-us/dotnet/csharp/fundamentals/tutorials/oop)"
   ]
  }
 ],
 "metadata": {
  "language_info": {
   "name": "python"
  },
  "orig_nbformat": 4
 },
 "nbformat": 4,
 "nbformat_minor": 2
}
