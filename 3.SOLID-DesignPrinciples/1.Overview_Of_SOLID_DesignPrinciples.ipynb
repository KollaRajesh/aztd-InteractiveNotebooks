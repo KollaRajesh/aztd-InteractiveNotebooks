{
 "cells": [
  {
   "cell_type": "markdown",
   "metadata": {},
   "source": [
    "### Overview of  SOLID Design Principles "
   ]
  },
  {
   "cell_type": "markdown",
   "metadata": {},
   "source": [
    "> The SOLID design principles are a set of five principles that help create maintainable, reusable, and flexible software designs. \n",
    ">\n",
    "> Each letter in the acronym SOLID stands for a specific principle. Here is what each letter in the acronym stands for:   \n",
    ">\n",
    ">         S: Single Responsibility Principle (SRP)\n",
    ">         O: Open-Closed Principle (OCP)\n",
    ">         L: Liskov Substitution Principle (LSP)\n",
    ">         I: Interface Segregation Principle (ISP)\n",
    ">         D: Dependency Inversion Principle (DIP)\n",
    "\n",
    "> -  The Single Responsibility Principle states that each software module or class should have only one reason to change.\n",
    ">\n",
    "> -  The Open-Closed Principle states that software entities such as modules, classes, functions, etc., should be open for extension but closed for modification.\n",
    ">\n",
    "> -   The Liskov Substitution Principle states that the object of a derived class should be able to replace an object of the base class without bringing any errors in the system or modifying the behavior of the base class.\n",
    ">\n",
    "> -   The Interface Segregation Principle states that clients should not be forced to implement any methods they don’t use.\n",
    ">\n",
    "> -   The Dependency Inversion Principle states that high-level modules/classes should not depend on low-level modules/classes. Both should depend upon abstractions.\n",
    ">       Secondly, abstractions should not depend upon details. Details should depend upon abstraction."
   ]
  },
  {
   "cell_type": "markdown",
   "metadata": {},
   "source": [
    "# Continue learning\n",
    "\n",
    "There are plenty more resources out there to learn!\n",
    "\n",
    "> [⏩ Next Module - Single Responsibility Principle](2.Single_Responsibility_Principle.ipynb) \n",
    "> \n",
    "<!-- > [⏪ Last Module - Overview of Design Principles](1.OverviewOfDesignPrinciples.ipynb) -->\n",
    ">\n",
    "> [Reference- solid-design-principles](https://dotnettutorials.net/course/solid-design-principles/)\n",
    "> [Reference- solid-design-principles of OOP](https://www.digitalocean.com/community/conceptual-articles/s-o-l-i-d-the-first-five-principles-of-object-oriented-design)"
   ]
  }
 ],
 "metadata": {
  "language_info": {
   "name": "python"
  },
  "orig_nbformat": 4
 },
 "nbformat": 4,
 "nbformat_minor": 2
}
