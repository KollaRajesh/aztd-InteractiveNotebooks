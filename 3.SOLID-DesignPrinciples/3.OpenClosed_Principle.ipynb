{
 "cells": [
  {
   "cell_type": "markdown",
   "metadata": {},
   "source": [
    "> ### Open-Closed Principle (OCP)"
   ]
  },
  {
   "cell_type": "markdown",
   "metadata": {},
   "source": [
    "> **Open-Closed Principle**: This principle states that software entities should be open for extension, but closed for modification.   \n",
    "> In other words, we should be able to extend the behavior of a class without modifying its source code    \n",
    ">\n",
    "\n",
    ">   The benefits of following the Open-Closed Principle (OCP) include the following:\n",
    ">\n",
    ">       1. Improved maintainability and scalability of code.\n",
    ">       2. Reduced risk of breaking existing functionality when introducing new features.\n",
    ">       2. Easier debugging and testing of code.\n",
    ">       2. Increased flexibility and reusability of code.\n",
    ">       2. Facilitation of parallel development and implementation of new features.\n",
    "\n",
    ">  - By following the OCP, software entities such as modules, classes, functions, etc., are open for extension but closed for modification.\n",
    ">  -  This allows us to add new functionality without changing the existing code, reducing the risk of breaking existing functionality. \n",
    "\n",
    "> Here’s an example:"
   ]
  },
  {
   "cell_type": "code",
   "execution_count": 1,
   "metadata": {
    "dotnet_interactive": {
     "language": "csharp"
    },
    "polyglot_notebook": {
     "kernelName": "csharp"
    },
    "vscode": {
     "languageId": "polyglot-notebook"
    }
   },
   "outputs": [],
   "source": [
    "public abstract class Shape\n",
    "{\n",
    "    public abstract double Area();\n",
    "}\n",
    "\n",
    "public class Rectangle : Shape\n",
    "{\n",
    "    public double Width { get; set; }\n",
    "    public double Height { get; set; }\n",
    "\n",
    "    public override double Area()\n",
    "    {\n",
    "        return Width * Height;\n",
    "    }\n",
    "}\n",
    "\n",
    "public class Circle : Shape\n",
    "{\n",
    "    public double Radius { get; set; }\n",
    "\n",
    "    public override double Area()\n",
    "    {\n",
    "        return Math.PI * Radius * Radius;\n",
    "    }\n",
    "}"
   ]
  },
  {
   "cell_type": "markdown",
   "metadata": {},
   "source": [
    ">  - In this example, the Shape class is an abstract class that defines an abstract method called Area.   \n",
    ">  - The Rectangle and Circle classes inherit from the Shape class and provide their own implementation of the Area method.   \n",
    ">  - By using the Open-Closed Principle, we can add new shapes to our program without modifying the existing code.  "
   ]
  },
  {
   "cell_type": "code",
   "execution_count": null,
   "metadata": {
    "dotnet_interactive": {
     "language": "csharp"
    },
    "polyglot_notebook": {
     "kernelName": "csharp"
    },
    "vscode": {
     "languageId": "polyglot-notebook"
    }
   },
   "outputs": [],
   "source": [
    "public interface IAnimal\n",
    "{\n",
    "    void MakeSound();\n",
    "}\n",
    "\n",
    "public class Dog : IAnimal\n",
    "{\n",
    "    public void MakeSound()\n",
    "    {\n",
    "        Console.WriteLine(\"The dog barks.\");\n",
    "    }\n",
    "}\n",
    "\n",
    "public class Cat : IAnimal\n",
    "{\n",
    "    public void MakeSound()\n",
    "    {\n",
    "        Console.WriteLine(\"The cat meows.\");\n",
    "    }\n",
    "}"
   ]
  },
  {
   "cell_type": "markdown",
   "metadata": {},
   "source": [
    "> In this example,\n",
    ">   - we have created an IAnimal interface and two classes that implement the interface: Dog and Cat.\n",
    ">   - Both classes provide their own implementation of the MakeSound method.\n",
    ">   -  By using interfaces, we can write code that works with objects of different types, without having to know the details of those types."
   ]
  },
  {
   "cell_type": "markdown",
   "metadata": {},
   "source": [
    "# Continue learning\n",
    "\n",
    "There are plenty more resources out there to learn!\n",
    "\n",
    "> [⏩ Next Module - Liskovs Substitution Principle  ](4.Liskovs_Substitution_Principle.ipynb) \n",
    "> \n",
    "> [⏪ Last Module -  Single Responsibility Principle](2.Single_Responsibility_Principle.ipynb)\n",
    ">\n",
    "> [Reference- Open-Closed-principle](https://dotnettutorials.net/lesson/open-closed-principle/)"
   ]
  }
 ],
 "metadata": {
  "language_info": {
   "name": "python"
  },
  "orig_nbformat": 4
 },
 "nbformat": 4,
 "nbformat_minor": 2
}
