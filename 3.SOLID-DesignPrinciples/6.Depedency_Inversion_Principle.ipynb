{
 "cells": [
  {
   "cell_type": "markdown",
   "metadata": {},
   "source": [
    ">  ### Dependency Inversion Principle and Dependency Injection: "
   ]
  },
  {
   "cell_type": "markdown",
   "metadata": {},
   "source": [
    ">  **Dependency Inversion Principle and Dependency Injection**: \n",
    "\n",
    ">  *Dependency Inversion Principle (DIP)* is a design principle in object-oriented programming that states that high-level modules should not depend on low-level modules.    \n",
    ">  Instead, both should depend on abstractions. In addition, abstractions should not depend on details. Details should depend on abstractions.\n",
    "\n",
    "\n",
    "> *Dependency Injection (DI)* is a technique used to implement the Dependency Inversion Principle.     \n",
    "> It involves passing dependencies to an object from the outside, rather than creating them inside the object.    \n",
    "\n",
    ">  The benefits of following the Interface Segregation Principle (ISP) include the following:\n",
    "\n",
    ">      - Improved maintainability and scalability of code.\n",
    ">      - Reduced risk of breaking existing functionality when introducing new features.\n",
    ">      - Easier debugging and testing of code.\n",
    ">      - Increased flexibility and reusability of code.\n",
    ">\n",
    "\n",
    "\n",
    ">  - Here’s an example:"
   ]
  },
  {
   "cell_type": "code",
   "execution_count": null,
   "metadata": {
    "dotnet_interactive": {
     "language": "csharp"
    },
    "polyglot_notebook": {
     "kernelName": "csharp"
    },
    "vscode": {
     "languageId": "polyglot-notebook"
    }
   },
   "outputs": [],
   "source": [
    "public interface ILogger\n",
    "{\n",
    "    void Log(string message);\n",
    "}\n",
    "\n",
    "public class ConsoleLogger : ILogger\n",
    "{\n",
    "    public void Log(string message)\n",
    "    {\n",
    "        Console.WriteLine($\"{nameof(ConsoleLogger)}:{message}\");\n",
    "    }\n",
    "}\n",
    "\n",
    "public class DisplayLogger : ILogger\n",
    "{\n",
    "    public void Log(string message)\n",
    "    {\n",
    "        \n",
    "        $\"{nameof(DisplayLogger)}:{message}\".Display();\n",
    "    }\n",
    "}\n",
    "\n",
    "public class CustomerService\n",
    "{\n",
    "    private ILogger logger;\n",
    "\n",
    "    public CustomerService(ILogger logger)\n",
    "    {\n",
    "        this.logger = logger;\n",
    "    }\n",
    "\n",
    "    public void AddCustomer(string name)\n",
    "    {\n",
    "        logger.Log($\"Added customer {name}\");\n",
    "    }\n",
    "}\n",
    "\n",
    "ILogger logger=new DisplayLogger();\n",
    "CustomerService  customerService =new CustomerService(logger);\n",
    "customerService.AddCustomer(\"rob\");\n",
    "\n",
    "ILogger consolelogger=new ConsoleLogger();\n",
    "CustomerService  anotherCustomerService =new CustomerService(consolelogger);\n",
    "anotherCustomerService.AddCustomer(\"mark\");\n"
   ]
  },
  {
   "cell_type": "markdown",
   "metadata": {},
   "source": [
    ">  In this example, we have created an ILogger interface and a ConsoleLogger class that implements the interface.   \n",
    ">   -  We have also created a CustomerService class that depends on the ILogger interface.  \n",
    ">   -  By using Dependency Injection, we can pass an instance of the ConsoleLogger class to the CustomerService class from the outside, rather than creating it inside the CustomerService class.   \n",
    ">   - This allows us to implement the Dependency Inversion Principle"
   ]
  },
  {
   "cell_type": "markdown",
   "metadata": {},
   "source": [
    "# Continue learning\n",
    "\n",
    "There are plenty more resources out there to learn!\n",
    "\n",
    "<!-- > [⏩ Next Module - Liskovs Substitution Principle  ](4.Liskovs_Substitution_Principle.ipynb)  -->\n",
    "> \n",
    "> [⏪ Last Module -  Interface Segregation Principle](5.Interface_Segregation_Principle.ipynb)\n",
    "\n",
    "> [Reference- Dependency Inversion Principle](https://dotnettutorials.net/lesson/dependency-inversion-principle/)  \n",
    "> [Reference- Examples-of-Dependency-Inversion-Principle](https://dotnettutorials.net/lesson/real-time-examples-of-dependency-inversion-principle-in-csharp/)  \n",
    "> [Reference- Dependency-Inversion-Principle-in-C-sharpe](https://www.c-sharpcorner.com/article/dependency-inversion-principle-in-c-sharp/)  "
   ]
  }
 ],
 "metadata": {
  "language_info": {
   "name": "python"
  },
  "orig_nbformat": 4
 },
 "nbformat": 4,
 "nbformat_minor": 2
}
