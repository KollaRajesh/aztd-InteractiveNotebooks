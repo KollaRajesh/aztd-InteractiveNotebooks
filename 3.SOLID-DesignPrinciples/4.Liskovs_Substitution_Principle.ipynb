{
 "cells": [
  {
   "cell_type": "markdown",
   "metadata": {},
   "source": [
    "### Liskov Substitution Principle (LSP)"
   ]
  },
  {
   "cell_type": "markdown",
   "metadata": {},
   "source": [
    "> **Liskov Substitution Principle**: This principle states that objects of a superclass should be replaceable with objects of a subclass without affecting the correctness of the program.\n",
    "\n",
    "> The benefits of following the Liskov Substitution Principle (LSP) include the following:\n",
    "\n",
    ">  1. Improved maintainability and scalability of code.\n",
    ">  2. Reduced risk of breaking existing functionality when introducing new features.\n",
    ">  3. Easier debugging and testing of code.\n",
    ">  4. Increased flexibility and reusability of code.\n",
    "\n",
    ">Here’s an example of the Liskov Substitution Principle in C#:"
   ]
  },
  {
   "cell_type": "code",
   "execution_count": null,
   "metadata": {
    "dotnet_interactive": {
     "language": "csharp"
    },
    "polyglot_notebook": {
     "kernelName": "csharp"
    },
    "vscode": {
     "languageId": "polyglot-notebook"
    }
   },
   "outputs": [],
   "source": [
    "public class Animal\n",
    "{\n",
    "    public virtual void MakeSound()\n",
    "    {\n",
    "        Console.WriteLine(\"The animal makes a sound.\");\n",
    "    }\n",
    "}\n",
    "\n",
    "public class Dog : Animal\n",
    "{\n",
    "    public override void MakeSound()\n",
    "    {\n",
    "        Console.WriteLine(\"The dog barks.\");\n",
    "    }\n",
    "}\n"
   ]
  },
  {
   "cell_type": "markdown",
   "metadata": {},
   "source": [
    ">  In this example, the Dog class is a subclass of the Animal class. \n",
    ">  -  we have created an Animal class that defines a virtual method called MakeSound.\n",
    ">  - The Dog and Cat classes inherit from the Animal class and provide their own implementation of the MakeSound method. \n",
    "> - By using the Liskov Substitution Principle, we can use a Dog object anywhere we would use an Animal object, without affecting the correctness of the program."
   ]
  },
  {
   "cell_type": "markdown",
   "metadata": {},
   "source": [
    "> Example 2:"
   ]
  },
  {
   "cell_type": "code",
   "execution_count": 1,
   "metadata": {
    "dotnet_interactive": {
     "language": "csharp"
    },
    "polyglot_notebook": {
     "kernelName": "csharp"
    },
    "vscode": {
     "languageId": "polyglot-notebook"
    }
   },
   "outputs": [
    {
     "data": {
      "text/plain": [
       "totalArea: 100.53981633974483"
      ]
     },
     "metadata": {},
     "output_type": "display_data"
    }
   ],
   "source": [
    "// Define an interface for Shape with an Area method\n",
    "public interface IShape\n",
    "{\n",
    "    double Area();\n",
    "}\n",
    "\n",
    "// Define a class for Rectangle that implements IShape\n",
    "public class Rectangle : IShape\n",
    "{\n",
    "    public double Length { get; set; }\n",
    "    public double Width { get; set; }\n",
    "\n",
    "    public Rectangle(double length, double width)\n",
    "    {\n",
    "        Length = length;\n",
    "        Width = width;\n",
    "    }\n",
    "\n",
    "    public double Area()\n",
    "    {\n",
    "        return Length * Width;\n",
    "    }\n",
    "}\n",
    "\n",
    "// Define a class for Square that inherits from Rectangle\n",
    "public class Square : Rectangle\n",
    "{\n",
    "    public Square(double side) : base(side, side)\n",
    "    {\n",
    "    }\n",
    "}\n",
    "\n",
    "// Define a class for Circle that implements IShape\n",
    "public class Circle : IShape\n",
    "{\n",
    "    public double Radius { get; set; }\n",
    "\n",
    "    public Circle(double radius)\n",
    "    {\n",
    "        Radius = radius;\n",
    "    }\n",
    "\n",
    "    public double Area()\n",
    "    {\n",
    "        return Math.PI * Radius * Radius;\n",
    "    }\n",
    "}\n",
    "\n",
    "\n",
    "  // Create an array of IShape objects\n",
    "    IShape[] shapes = new IShape[3];\n",
    "    shapes[0] = new Rectangle(2, 3);\n",
    "    shapes[1] = new Square(4);\n",
    "    shapes[2] = new Circle(5);\n",
    "\n",
    "    // Calculate the total area of all shapes\n",
    "    double totalArea = 0;\n",
    "    foreach (IShape shape in shapes)\n",
    "    {\n",
    "        totalArea += shape.Area();\n",
    "    }\n",
    "    $\"{nameof(totalArea)}: {totalArea}\".Display();\n",
    "\n"
   ]
  },
  {
   "cell_type": "markdown",
   "metadata": {},
   "source": [
    "> In the above example,\n",
    ">  - we have created an IShape interface and two classes that implement the interface: Rectangle, square and Circle.\n",
    ">  - Both classes provide their own implementation of the Area method.\n",
    ">  - By using interfaces, we can write code that works with objects of different types, without having to know the details of those types .\n",
    "\n",
    "> So This example follows the Liskov Substitution Principle (LSP) because any object of a subtype (Rectangle, Square, or Circle) can be replaced by an object of the base type (IShape) without affecting the correctness of the program."
   ]
  },
  {
   "cell_type": "markdown",
   "metadata": {},
   "source": [
    "# Continue learning\n",
    "\n",
    "There are plenty more resources out there to learn!\n",
    "\n",
    "> [⏩ Next Module - Liskovs Substitution Principle](5.Interface_Segregation_Principle.ipynb) \n",
    "> \n",
    "> [⏪ Last Module -  Single Responsibility Principle](3.OpenClosed_Principle.ipynb)\n",
    ">\n",
    "> [Reference- liskov-substitution-principle](https://dotnettutorials.net/lesson/liskov-substitution-principle/)"
   ]
  }
 ],
 "metadata": {
  "language_info": {
   "name": "python"
  },
  "orig_nbformat": 4
 },
 "nbformat": 4,
 "nbformat_minor": 2
}
