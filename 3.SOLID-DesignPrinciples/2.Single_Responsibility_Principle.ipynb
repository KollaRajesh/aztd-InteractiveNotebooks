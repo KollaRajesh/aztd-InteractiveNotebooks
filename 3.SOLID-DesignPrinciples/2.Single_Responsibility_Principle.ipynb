{
 "cells": [
  {
   "cell_type": "markdown",
   "metadata": {},
   "source": [
    "> ### Single Responsibility Principle (SRP)"
   ]
  },
  {
   "cell_type": "markdown",
   "metadata": {},
   "source": [
    "> **Single Responsibility Principle**: This principle states that a class should have only one reason to change. \n",
    ">  In other words, a class should have only one responsibility   \n",
    "\n",
    "> The benefits of following the Single Responsibility Principle (SRP) include the following:   \n",
    "\n",
    ">       1. Better code organization and maintainability.   \n",
    ">       2. Improved readability and understanding of code.   \n",
    ">       3. Easier debugging and testing of code.     \n",
    ">       4. A higher degree of code reusability.      \n",
    ">       5. Facilitation of parallel development and implementation of new features. \n",
    "\n",
    ">  Here is an example:   "
   ]
  },
  {
   "cell_type": "code",
   "execution_count": null,
   "metadata": {
    "dotnet_interactive": {
     "language": "csharp"
    },
    "polyglot_notebook": {
     "kernelName": "csharp"
    },
    "vscode": {
     "languageId": "polyglot-notebook"
    }
   },
   "outputs": [],
   "source": [
    "public class Car\n",
    "{\n",
    "    private Engine engine;\n",
    "\n",
    "    public Car(Engine engine)\n",
    "    {\n",
    "        this.engine = engine;\n",
    "    }\n",
    "\n",
    "    public void Start()\n",
    "    {\n",
    "        engine.Start();\n",
    "    }\n",
    "\n",
    "    public void Stop()\n",
    "    {\n",
    "        engine.Stop();\n",
    "    }\n",
    "}\n",
    "\n",
    "public class Engine\n",
    "{\n",
    "    public void Start()\n",
    "    {\n",
    "        Console.WriteLine(\"Starting the engine...\");\n",
    "    }\n",
    "\n",
    "    public void Stop()\n",
    "    {\n",
    "        Console.WriteLine(\"Stopping the engine...\");\n",
    "    }\n",
    "}\n"
   ]
  },
  {
   "cell_type": "markdown",
   "metadata": {},
   "source": [
    ">   - In this example, the Car class has a single responsibility: to start and stop the engine.     \n",
    ">   - The Engine class has a single responsibility: to start and stop the engine.     \n",
    ">   - By using the Single Responsibility Principle, we can create classes that are easier to understand and maintain. "
   ]
  },
  {
   "cell_type": "markdown",
   "metadata": {},
   "source": [
    "# Continue learning\n",
    "\n",
    "There are plenty more resources out there to learn!\n",
    "\n",
    "> [⏩ Next Module - OpenClosed Principle  ](3.OpenClosed_Principle.ipynb) \n",
    "> \n",
    "> [⏪ Last Module - Overview of Design Principles](1.OverviewOfDesignPrinciples.ipynb)\n",
    ">\n",
    "> [Reference- Object-Oriented programming](https://dotnettutorials.net/lesson/single-responsibility-principle/)\n",
    "<!-- https://dotnettutorials.net/course/solid-design-principles/\n",
    "https://www.digitalocean.com/community/conceptual-articles/s-o-l-i-d-the-first-five-principles-of-object-oriented-design\n",
    "https://dotnettutorials.net/lesson/dependency-inversion-principle/\n",
    "https://dotnettutorials.net/lesson/real-time-examples-of-dependency-inversion-principle-in-csharp/\n",
    "https://www.c-sharpcorner.com/article/dependency-inversion-principle-in-c-sharp/ -->"
   ]
  }
 ],
 "metadata": {
  "language_info": {
   "name": "python"
  },
  "orig_nbformat": 4
 },
 "nbformat": 4,
 "nbformat_minor": 2
}
