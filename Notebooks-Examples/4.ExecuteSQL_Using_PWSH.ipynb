{
 "cells": [
  {
   "cell_type": "code",
   "execution_count": null,
   "metadata": {
    "dotnet_interactive": {
     "language": "pwsh"
    },
    "polyglot_notebook": {
     "kernelName": "pwsh"
    }
   },
   "outputs": [],
   "source": [
    "$server =\"ServerName\" \n",
    "$database='DatabaseName'\n",
    "#$connectionString=\"Server=$server;Database=$database;Trusted_Connection=True; TrustServerCertificate=True;\"\n",
    "$sqlConnection=\"integrated security=SSPI;data source=$server;persist security info=False; Trusted_Connection=True; TrustServerCertificate=True;initial catalog=$database;Connect Timeout=18000;Min Pool Size=20\" "
   ]
  },
  {
   "cell_type": "code",
   "execution_count": null,
   "metadata": {
    "dotnet_interactive": {
     "language": "pwsh"
    },
    "polyglot_notebook": {
     "kernelName": "pwsh"
    }
   },
   "outputs": [],
   "source": [
    "$query=\"Select top 1 ErrorId,ErrorName from Errors where ErrorID=1\""
   ]
  },
  {
   "cell_type": "code",
   "execution_count": null,
   "metadata": {
    "dotnet_interactive": {
     "language": "pwsh"
    },
    "polyglot_notebook": {
     "kernelName": "pwsh"
    }
   },
   "outputs": [],
   "source": [
    "Invoke-SqlCmd -Query $query -ConnectionString $sqlConnection"
   ]
  },
  {
   "cell_type": "code",
   "execution_count": null,
   "metadata": {
    "dotnet_interactive": {
     "language": "pwsh"
    },
    "polyglot_notebook": {
     "kernelName": "pwsh"
    }
   },
   "outputs": [],
   "source": [
    "$cmd=\"\"\n",
    "$cmd= \"Read-SqlTableData -ServerInstance $server -DatabaseName $database -SchemaName 'dbo'  -TableName 'Errors' \"\n",
    "$cmd=$cmd + \" -ColumnName  'ErrorID', 'ErrorName'\"\n",
    "$cmd =$cmd + \" -TopN 5 \"\n",
    "$cmd"
   ]
  },
  {
   "cell_type": "code",
   "execution_count": null,
   "metadata": {
    "dotnet_interactive": {
     "language": "pwsh"
    },
    "polyglot_notebook": {
     "kernelName": "pwsh"
    }
   },
   "outputs": [],
   "source": [
    "Invoke-Expression $cmd"
   ]
  },
  {
   "cell_type": "code",
   "execution_count": null,
   "metadata": {
    "dotnet_interactive": {
     "language": "pwsh"
    },
    "polyglot_notebook": {
     "kernelName": "pwsh"
    }
   },
   "outputs": [],
   "source": [
    "Invoke-Sqlcmd -Query $qry -ConnectionString $sqlConnection -Querytimeout 0 -OutputAs DataRows"
   ]
  },
  {
   "cell_type": "code",
   "execution_count": null,
   "metadata": {
    "dotnet_interactive": {
     "language": "pwsh"
    },
    "polyglot_notebook": {
     "kernelName": "pwsh"
    }
   },
   "outputs": [],
   "source": [
    " $DSLOrig_Alias=\"ServerName\"\n",
    "$sqlConnection=\"integrated security=SSPI;data source=$DSLOrig_Alias;TrustServerCertificate=True;persist security info=False;initial catalog=$database;Connect Timeout=18000;Min Pool Size=20\" \n",
    "$query=\"Select top 1 ActivityID,Description from Activity where ActivityID=1\"\n",
    "Invoke-Sqlcmd -Query $query -ConnectionString $sqlConnection -Querytimeout 0 -OutputAs DataRows"
   ]
  },
  {
   "cell_type": "code",
   "execution_count": null,
   "metadata": {
    "dotnet_interactive": {
     "language": "pwsh"
    },
    "polyglot_notebook": {
     "kernelName": "pwsh"
    }
   },
   "outputs": [],
   "source": [
    " $DSLOrig_Alias=\"ServerName\"\n",
    " $Database=\"DatabaseName\"\n",
    "$sqlConnection=\"integrated security=SSPI;data source=$DSLOrig_Alias;persist security info=False; Trusted_Connection=True; TrustServerCertificate=True;initial catalog=$Database;Connect Timeout=18000;Min Pool Size=20\" \n"
   ]
  },
  {
   "cell_type": "code",
   "execution_count": null,
   "metadata": {
    "dotnet_interactive": {
     "language": "pwsh"
    },
    "polyglot_notebook": {
     "kernelName": "pwsh"
    }
   },
   "outputs": [],
   "source": [
    "$lines=  $(gc -path \"1.OverviewOfHourlyReportForToday.sql\" )\n",
    "$query=\"\"\n",
    "foreach($line in $lines){\n",
    " $query=$query+\"`n\"+ $line  \n",
    "}"
   ]
  },
  {
   "cell_type": "code",
   "execution_count": null,
   "metadata": {
    "dotnet_interactive": {
     "language": "pwsh"
    },
    "polyglot_notebook": {
     "kernelName": "pwsh"
    }
   },
   "outputs": [],
   "source": [
    "Invoke-Sqlcmd -Query $query -ConnectionString $sqlConnection -Querytimeout 0 -OutputAs DataTables"
   ]
  }
 ],
 "metadata": {
  "kernelspec": {
   "display_name": ".NET (PowerShell)",
   "language": "PowerShell",
   "name": ".net-pwsh"
  },
  "language_info": {
   "name": "polyglot-notebook"
  },
  "polyglot_notebook": {
   "kernelInfo": {
    "defaultKernelName": "pwsh",
    "items": [
     {
      "aliases": [],
      "languageName": "pwsh",
      "name": "pwsh"
     }
    ]
   }
  }
 },
 "nbformat": 4,
 "nbformat_minor": 2
}
