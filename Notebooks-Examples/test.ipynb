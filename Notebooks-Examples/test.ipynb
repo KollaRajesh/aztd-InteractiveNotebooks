{
 "cells": [
  {
   "cell_type": "code",
   "execution_count": null,
   "metadata": {
    "dotnet_interactive": {
     "language": "csharp"
    },
    "polyglot_notebook": {
     "kernelName": "csharp"
    },
    "vscode": {
     "languageId": "polyglot-notebook"
    }
   },
   "outputs": [],
   "source": [
    "## test code sample for explanation "
   ]
  },
  {
   "cell_type": "code",
   "execution_count": 7,
   "metadata": {
    "dotnet_interactive": {
     "language": "csharp"
    },
    "polyglot_notebook": {
     "kernelName": "csharp"
    },
    "vscode": {
     "languageId": "polyglot-notebook"
    }
   },
   "outputs": [
    {
     "name": "stdout",
     "output_type": "stream",
     "text": [
      "Test\r\n"
     ]
    }
   ],
   "source": [
    "var name =\"Test\";\n",
    "Console.WriteLine(name);"
   ]
  },
  {
   "cell_type": "markdown",
   "metadata": {},
   "source": [
    "### explanation on HTML code "
   ]
  },
  {
   "cell_type": "code",
   "execution_count": 6,
   "metadata": {
    "dotnet_interactive": {
     "language": "html"
    },
    "polyglot_notebook": {
     "kernelName": "html"
    },
    "vscode": {
     "languageId": "polyglot-notebook"
    }
   },
   "outputs": [
    {
     "data": {
      "text/html": [
       "<html>\r\n",
       "<table>\r\n",
       "<tr>\r\n",
       "<th>\r\n",
       " <td>Name</td>\r\n",
       " <td>Role</td>\r\n",
       "</th>\r\n",
       "</tr>\r\n",
       "<tr>\r\n",
       "<td>user1  </td>\r\n",
       "<td>Manager</td>\r\n",
       "</tr>\r\n",
       "<tr>\r\n",
       "<td>User3  <td>\r\n",
       "<td>Devloper</td>\r\n",
       "</tr>\r\n",
       "</table>\r\n",
       "</html>\r\n"
      ]
     },
     "metadata": {},
     "output_type": "display_data"
    }
   ],
   "source": [
    "<html>\n",
    "<table>\n",
    "<tr>\n",
    "<th>\n",
    " <td>Name</td>\n",
    " <td>Role</td>\n",
    "</th>\n",
    "</tr>\n",
    "<tr>\n",
    "<td>user1  </td>\n",
    "<td>Manager</td>\n",
    "</tr>\n",
    "<tr>\n",
    "<td>User3  <td>\n",
    "<td>Devloper</td>\n",
    "</tr>\n",
    "</table>\n",
    "</html>\n"
   ]
  }
 ],
 "metadata": {
  "language_info": {
   "name": "python"
  },
  "orig_nbformat": 4
 },
 "nbformat": 4,
 "nbformat_minor": 2
}
