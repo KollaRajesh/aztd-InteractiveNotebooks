{
 "cells": [
  {
   "cell_type": "code",
   "execution_count": null,
   "metadata": {
    "dotnet_interactive": {
     "language": "csharp"
    },
    "polyglot_notebook": {
     "kernelName": "csharp"
    }
   },
   "outputs": [],
   "source": [
    "#!javascript\n",
    "console.log(\" Hi , I am beautiful javascript for client side programming.\")\n",
    "\n",
    "\n",
    "#!html\n",
    "<br>\n",
    "<div>\n",
    "<h3> Hi  </h3>\n",
    "<span> I am Html for UI \\Presentation with the help awesome css. </span>\n",
    "</div>\n",
    "\n",
    "<!--#!sql\n",
    "PRINT 'Hi , This is Awesome SQL'-->\n",
    "\n",
    "#!pwsh \n",
    "Write-Host \" Hi , I am awesome powershell for automation\" -ForegroundColor Green\n",
    "\n",
    "\n",
    "#!csharp \n",
    "System.Console.WriteLine(\" Hi , I am Brilliant csharp for server side programming.\");\n",
    "\n"
   ]
  }
 ],
 "metadata": {
  "kernelspec": {
   "display_name": ".NET (C#)",
   "language": "C#",
   "name": ".net-csharp"
  },
  "language_info": {
   "name": "polyglot-notebook"
  },
  "polyglot_notebook": {
   "kernelInfo": {
    "defaultKernelName": "csharp",
    "items": [
     {
      "aliases": [],
      "languageName": "csharp",
      "name": "csharp"
     }
    ]
   }
  }
 },
 "nbformat": 4,
 "nbformat_minor": 2
}
