{
 "cells": [
  {
   "cell_type": "markdown",
   "metadata": {},
   "source": [
    "### Loading Dotnet Interactive with SQLServer (microsoft.dotnet.interactive.sqlserver)"
   ]
  },
  {
   "cell_type": "code",
   "execution_count": null,
   "metadata": {
    "dotnet_interactive": {
     "language": "csharp"
    },
    "polyglot_notebook": {
     "kernelName": "csharp"
    }
   },
   "outputs": [],
   "source": [
    "#!import BaseNotebook.ipynb"
   ]
  },
  {
   "cell_type": "markdown",
   "metadata": {},
   "source": [
    "#### Creation of Kernals"
   ]
  },
  {
   "cell_type": "code",
   "execution_count": null,
   "metadata": {
    "dotnet_interactive": {
     "language": "csharp"
    },
    "polyglot_notebook": {
     "kernelName": "csharp"
    }
   },
   "outputs": [],
   "source": [
    "#!connect mssql --kernel-name PReadOnly \"data source=PServer;initial catalog=DatabaseName;integrated security=SSPI;persist security info=False; Trusted_Connection=True; TrustServerCertificate=True;Connect Timeout=18000;Min Pool Size=20\" \n",
    "#!connect mssql --kernel-name TEST1 \"data source=TEST1Server;initial catalog=DatabaseName;integrated security=SSPI;persist security info=False; Trusted_Connection=True; TrustServerCertificate=True;Connect Timeout=18000;Min Pool Size=20\" \n",
    "#!connect mssql --kernel-name TEST2 \"data source=TEST2Server;initial catalog=DatabaseName;integrated security=SSPI;persist security info=False; Trusted_Connection=True; TrustServerCertificate=True;Connect Timeout=18000;Min Pool Size=20\" \n",
    "#!connect mssql --kernel-name TEST3 \"data source=TEST3Server;initial catalog=DatabaseName;integrated security=SSPI;persist security info=False; Trusted_Connection=True; TrustServerCertificate=True;Connect Timeout=18000;Min Pool Size=20\" \n",
    "#!connect mssql --kernel-name TEST4 \"data source=TEST4Server;initial catalog=DatabaseName;integrated security=SSPI;persist security info=False; Trusted_Connection=True; TrustServerCertificate=True;Connect Timeout=18000;Min Pool Size=20\" \n",
    "#!connect mssql --kernel-name TEST5 \"data source=TEST5Server;initial catalog=DatabaseName;integrated security=SSPI;persist security info=False; Trusted_Connection=True; TrustServerCertificate=True;Connect Timeout=18000;Min Pool Size=20\" \n",
    "#!connect mssql --kernel-name TEST6 \"data source=TEST6Server;initial catalog=DatabaseName;integrated security=SSPI;persist security info=False; Trusted_Connection=True; TrustServerCertificate=True;Connect Timeout=18000;Min Pool Size=20\" \n"
   ]
  },
  {
   "cell_type": "markdown",
   "metadata": {},
   "source": [
    "#### Executes select queries on multiple databases using multiple kernels"
   ]
  },
  {
   "cell_type": "code",
   "execution_count": null,
   "metadata": {
    "dotnet_interactive": {
     "language": "csharp"
    },
    "polyglot_notebook": {
     "kernelName": "csharp"
    }
   },
   "outputs": [],
   "source": [
    "#!pwsh \n",
    "Write-Host  \"Below result is from PROD\"  -ForegroundColor Cyan\n",
    "\n",
    "#!sql-PReadOnly\n",
    "USE DBName\n",
    "SELECT\n",
    "    top 1 e.ErrorID, e.ErrorCode,a.Description\n",
    "FROM\n",
    "   [dbo].[Error] e\n",
    "   join [dbo].[AcitvityError] a on a.ErrorID =b.ErrorID\n",
    "WHERE b.ErrorID =1\n",
    "\n",
    "#!pwsh \n",
    "Write-Host \"Below result is from TEST1\" -ForegroundColor Cyan\n",
    "\n",
    "\n",
    "#!sql-TEST1\n",
    "USE DBName\n",
    "\n",
    "SELECT\n",
    "    top 1 e.ErrorID, e.ErrorCode,a.Description\n",
    "FROM\n",
    "   [dbo].[Error] e\n",
    "   join [dbo].[AcitvityError] a on a.ErrorID =b.ErrorID\n",
    "WHERE b.ErrorID =1\n",
    "\n",
    "\n",
    "\n",
    "#!pwsh \n",
    "Write-Host \"Below result is from TEST6\"  -ForegroundColor Cyan\n",
    "\n",
    "#!sql-TEST6\n",
    "USE DBName\n",
    "SELECT\n",
    "    top 1 e.ErrorID, e.ErrorCode,a.Description\n",
    "FROM\n",
    "   [dbo].[Error] e\n",
    "   join [dbo].[AcitvityError] a on a.ErrorID =b.ErrorID\n",
    "WHERE b.ErrorID =1\n",
    "\n",
    "\n"
   ]
  },
  {
   "cell_type": "markdown",
   "metadata": {},
   "source": [
    "### SQL Server configuration details"
   ]
  },
  {
   "cell_type": "markdown",
   "metadata": {},
   "source": [
    "#### SQL Server version and is_trustworthy_on"
   ]
  },
  {
   "cell_type": "code",
   "execution_count": null,
   "metadata": {
    "dotnet_interactive": {
     "language": "csharp"
    },
    "polyglot_notebook": {
     "kernelName": "csharp"
    }
   },
   "outputs": [],
   "source": [
    "#!sql-PReadOnly\n",
    "--SET NOCOUNT ON\n",
    "select name,@@SERVERNAME [ServerName], is_trustworthy_on from sys.databases  where name in ( 'WebDBName','LoggingDBName', 'DBName')\n",
    "#!sql-TEST1\n",
    "--SET NOCOUNT ON\n",
    "\n",
    "select name,@@SERVERNAME [ServerName], is_trustworthy_on from sys.databases  where name in ( 'WebDBName','LoggingDBName', 'DBName')\n",
    "#!sql-TEST2\n",
    "--SET NOCOUNT ON\n",
    "\n",
    "select name,@@SERVERNAME [ServerName], is_trustworthy_on  from sys.databases  where name in ( 'WebDBName','LoggingDBName', 'DBName')\n",
    "#!sql-TEST3\n",
    "--SET NOCOUNT ON\n",
    "select name,@@SERVERNAME [ServerName], is_trustworthy_on  from sys.databases  where name in ( 'WebDBName','LoggingDBName', 'DBName')\n",
    "#!sql-TEST4\n",
    "--SET NOCOUNT ON\n",
    "select name,@@SERVERNAME [ServerName], is_trustworthy_on   from sys.databases  where name in ( 'WebDBName','LoggingDBName', 'DBName')\n",
    "#!sql-TEST5\n",
    "--SET NOCOUNT ON\n",
    "select name,@@SERVERNAME [ServerName], is_trustworthy_on  from sys.databases  where name in ( 'WebDBName','LoggingDBName', 'DBName')\n",
    "#!sql-TEST6\n",
    "--SET NOCOUNT ON\n",
    "select name,@@SERVERNAME [ServerName], is_trustworthy_on from sys.databases  where name in ( 'WebDBName','LoggingDBName', 'DBName')\n"
   ]
  },
  {
   "cell_type": "markdown",
   "metadata": {},
   "source": [
    "#### SQL Server version "
   ]
  },
  {
   "cell_type": "code",
   "execution_count": null,
   "metadata": {
    "dotnet_interactive": {
     "language": "csharp"
    },
    "polyglot_notebook": {
     "kernelName": "csharp"
    }
   },
   "outputs": [],
   "source": [
    "#!sql-PRODReadOnly\n",
    "--SET NOCOUNT ON\n",
    "Select  @@SERVERNAME [Server],@@VERSION [version]\n",
    "#!sql-TEST1\n",
    "--SET NOCOUNT ON\n",
    "\n",
    "Select  @@SERVERNAME [Server],@@VERSION [version]\n",
    "#!sql-TEST2\n",
    "--SET NOCOUNT ON\n",
    "Select  @@SERVERNAME [Server],@@VERSION [version]\n",
    "#!sql-TEST3\n",
    "--SET NOCOUNT ON\n",
    "Select  @@SERVERNAME [Server],@@VERSION [version]\n",
    "#!sql-SLO4\n",
    "--SET NOCOUNT ON\n",
    "Select  @@SERVERNAME [Server],@@VERSION [version]\n",
    "#!sql-SLO5\n",
    "--SET NOCOUNT ON\n",
    "Select  @@SERVERNAME [Server],@@VERSION [version]\n",
    "#!sql-SLO6\n",
    "--SET NOCOUNT ON\n",
    "Select  @@SERVERNAME [Server],@@VERSION [version]\n"
   ]
  },
  {
   "cell_type": "markdown",
   "metadata": {},
   "source": [
    "#### Enabling CLR features"
   ]
  },
  {
   "cell_type": "code",
   "execution_count": null,
   "metadata": {
    "dotnet_interactive": {
     "language": "csharp"
    },
    "polyglot_notebook": {
     "kernelName": "csharp"
    }
   },
   "outputs": [],
   "source": [
    "#!sql-PRODReadOnly\n",
    "--SET NOCOUNT ON\n",
    "USE DBName\n",
    "--SELECT @@SERVERNAME [ServerName],* FROM sys.configurations WHERE name = 'clr enabled'\n",
    "\n",
    "USE WebDBName\n",
    "--SELECT @@SERVERNAME [ServerName],* FROM sys.configurations WHERE name = 'clr enabled'\n",
    "\n",
    "#!sql-TEST\n",
    "--SET NOCOUNT ON\n",
    "--SELECT @@SERVERNAME [ServerName],* FROM sys.configurations WHERE name = 'clr enabled'\n",
    "#!sql-SLO2\n",
    "--SET NOCOUNT ON\n",
    "\n",
    "--SELECT  @@SERVERNAME [ServerName], * FROM sys.configurations WHERE name = 'clr enabled'\n",
    "#!sql-SLO3\n",
    "--SET NOCOUNT ON\n",
    "--SELECT @@SERVERNAME [ServerName], * FROM sys.configurations WHERE name = 'clr enabled'\n",
    "#!sql-SLO4\n",
    "--SET NOCOUNT ON\n",
    "--SELECT  @@SERVERNAME [ServerName],* FROM sys.configurations WHERE name = 'clr enabled'\n",
    "#!sql-SLO5\n",
    "--SET NOCOUNT ON\n",
    "--SELECT  @@SERVERNAME [ServerName],* FROM sys.configurations WHERE name = 'clr enabled'\n",
    "#!sql-SLO6\n",
    "--SET NOCOUNT ON\n",
    "--SELECT  @@SERVERNAME [ServerName],* FROM sys.configurations WHERE name = 'clr enabled'\n"
   ]
  },
  {
   "cell_type": "markdown",
   "metadata": {},
   "source": [
    "#### Enabling TRUSTWORTHY"
   ]
  },
  {
   "cell_type": "code",
   "execution_count": null,
   "metadata": {
    "dotnet_interactive": {
     "language": "csharp"
    },
    "polyglot_notebook": {
     "kernelName": "csharp"
    }
   },
   "outputs": [],
   "source": [
    "#!sql-TEST6\n",
    "--select name,@@SERVERNAME [ServerName], is_trustworthy_on  from sys.databases  where name in ( 'WebDBName','LoggingDBName', 'DBName')\n",
    "/*  IF EXISTS (SELECT  1\n",
    "                    FROM   sys.[databases]\n",
    "                    WHERE  [name] = ( N'DBName')  and is_trustworthy_on =1)\n",
    "BEGIN\n",
    "    EXECUTE sp_executesql N'ALTER DATABASE DBName\n",
    " \t\t\t\tSET TRUSTWORTHY OFF     ';\n",
    "END\n",
    "--Need to execute below commmand from SQL server where SQL Server is installed \n",
    "USE DSL_Orig\n",
    "ALTER ASSEMBLY [Origination.SqlServer.Functions]\n",
    "FROM 'D:\\SqlDataFiles\\Origination.SqlServer.Functions.dll'\n",
    "WITH PERMISSION_SET = SAFE \n",
    "\n",
    "-- Testing\n",
    "use dsl_orig\n",
    "\n",
    "execute uf_computehash 'My password', 'sha256', 'My salt'\n",
    "*/\n"
   ]
  }
 ],
 "metadata": {
  "kernelspec": {
   "display_name": ".NET (C#)",
   "language": "C#",
   "name": ".net-csharp"
  },
  "language_info": {
   "name": "polyglot-notebook"
  },
  "polyglot_notebook": {
   "kernelInfo": {
    "defaultKernelName": "csharp",
    "items": [
     {
      "aliases": [],
      "name": "csharp"
     },
     {
      "aliases": [],
      "languageName": "sql",
      "name": "sql"
     },
     {
      "aliases": [],
      "languageName": "T-SQL",
      "name": "sql-DSLSQLDB1"
     },
     {
      "aliases": [],
      "languageName": "T-SQL",
      "name": "sql-PRODReadOnly"
     },
     {
      "aliases": [],
      "languageName": "T-SQL",
      "name": "sql-SLO1"
     },
     {
      "aliases": [],
      "languageName": "T-SQL",
      "name": "sql-SLO2"
     },
     {
      "aliases": [],
      "languageName": "T-SQL",
      "name": "sql-SLO3"
     },
     {
      "aliases": [],
      "languageName": "T-SQL",
      "name": "sql-SLO4"
     },
     {
      "aliases": [],
      "languageName": "T-SQL",
      "name": "sql-SLO5"
     },
     {
      "aliases": [],
      "languageName": "T-SQL",
      "name": "sql-SLO6"
     }
    ]
   }
  }
 },
 "nbformat": 4,
 "nbformat_minor": 2
}
