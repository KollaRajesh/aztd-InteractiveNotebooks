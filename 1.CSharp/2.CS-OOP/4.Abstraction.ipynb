{
 "cells": [
  {
   "cell_type": "markdown",
   "metadata": {},
   "source": [
    ">  ### Abstraction"
   ]
  },
  {
   "cell_type": "markdown",
   "metadata": {},
   "source": [
    ">  - Abstraction is the process of identifying the essential characteristics of an object, and ignoring everything else.\n",
    ">  - This allows us to create models of complex systems that are easier to understand and work with.\n",
    ">  - Nothing but implementing function overriding and keeping the details of its implementation hidden.\n",
    "\n",
    "\n",
    "> Here’s an example of abstraction in C# 10.0:\n",
    "\n",
    "> Example 1:"
   ]
  },
  {
   "cell_type": "code",
   "execution_count": null,
   "metadata": {
    "dotnet_interactive": {
     "language": "csharp"
    },
    "polyglot_notebook": {
     "kernelName": "csharp"
    },
    "vscode": {
     "languageId": "polyglot-notebook"
    }
   },
   "outputs": [],
   "source": [
    "public abstract class Shape\n",
    "{\n",
    "    public abstract double CalculateArea();\n",
    "    public abstract double CalculatePerimeter();\n",
    "}\n",
    "\n",
    "public class Rectangle : Shape\n",
    "{\n",
    "    private double length;\n",
    "    private double width;\n",
    "\n",
    "    public Rectangle(double length, double width)\n",
    "    {\n",
    "        this.length = length;\n",
    "        this.width = width;\n",
    "    }\n",
    "\n",
    "    public override double CalculateArea()\n",
    "    {\n",
    "        return length * width;\n",
    "    }\n",
    "\n",
    "    public override double CalculatePerimeter()\n",
    "    {\n",
    "        return 2 * (length + width);\n",
    "    }\n",
    "}\n",
    "\n",
    "Shape rectangle= new Rectangle(20,10);\n",
    "Console.WriteLine($\"Aread of Reactangle: {rectangle.CalculateArea()}\");\n",
    "Console.WriteLine($\"Preimeter of Reactangle: {rectangle.CalculatePerimeter()}\");"
   ]
  },
  {
   "cell_type": "markdown",
   "metadata": {},
   "source": [
    ">  In this example, the Shape class is an abstract class that defines two abstract methods: CalculateArea and CalculatePerimeter.\n",
    ">  These methods allow other objects to interact with the Shape object, while keeping the details of its implementation hidden.\n",
    ">\n",
    ">  The Rectangle class inherits from the Shape class and provides an implementation for the CalculateArea and CalculatePerimeter methods.\n",
    ">  The Rectangle class also has two private fields called length and width, which are not accessible from outside the class.\n",
    ">  Instead, the class provides a public interface consisting of two methods: CalculateArea and CalculatePerimeter\n",
    ">  These methods allow other objects to interact with the Rectangle object, while keeping the details of its implementation hidden.\n",
    "\n",
    ">  The CalculateArea method calculates the area of the rectangle, and the CalculatePerimeter method calculates the perimeter of the rectangle. \n",
    ">  However, the length and width fields themselves are not accessible from outside the class, ensuring that the internal workings of the Rectangle object remain hidden."
   ]
  },
  {
   "cell_type": "markdown",
   "metadata": {},
   "source": [
    "> Example 2:"
   ]
  },
  {
   "cell_type": "code",
   "execution_count": null,
   "metadata": {
    "dotnet_interactive": {
     "language": "csharp"
    },
    "polyglot_notebook": {
     "kernelName": "csharp"
    },
    "vscode": {
     "languageId": "polyglot-notebook"
    }
   },
   "outputs": [],
   "source": [
    "public abstract class Vehicle\n",
    "{\n",
    "    public abstract void Start();\n",
    "    public abstract void Stop();\n",
    "}\n",
    "\n",
    "public class Car : Vehicle\n",
    "{\n",
    "    public override void Start()\n",
    "    {\n",
    "        Console.WriteLine(\"Starting the car...\");\n",
    "    }\n",
    "\n",
    "    public override void Stop()\n",
    "    {\n",
    "        Console.WriteLine(\"Stopping the car...\");\n",
    "    }\n",
    "}\n",
    "\n",
    "Vehicle car= new Car(); \n",
    "car.Start();\n",
    "car.Stop();\n"
   ]
  },
  {
   "cell_type": "markdown",
   "metadata": {},
   "source": [
    ">  In this example,the Vehicle class is an abstract class that defines two abstract methods: Start and Stop.\n",
    ">\n",
    ">   These methods allow other objects to interact with the Vehicle object, while keeping the details of its implementation hidden.\n",
    ">\n",
    ">   - The Car class inherits from the Vehicle class and provides an implementation for the Start and Stop methods.\n",
    ">   - The Car class also has no private fields, which means that there is no data that can be accessed from outside the class.\n",
    ">   - Instead, the class provides a public interface consisting of two methods: Start and Stop.\n",
    ">   - These methods allow other objects to interact with the Car object, while keeping the details of its implementation hidden.\n",
    ">\n",
    ">  The Start method starts the car, and the Stop method stops the car. However, the internal workings of the Car object remain hidden."
   ]
  },
  {
   "cell_type": "markdown",
   "metadata": {},
   "source": [
    "# Continue learning\n",
    "\n",
    "There are plenty more resources out there to learn!\n",
    "\n",
    "> [⏩ Next Module - Inheritance ](4.Inheritance.ipynb)\n",
    ">\n",
    "> [⏪ Last Module - Encapsulation ](2.Encapsulation.ipynb)\n",
    ">\n",
    "> [Reference- Object-Oriented programming](https://learn.microsoft.com/en-us/dotnet/csharp/fundamentals/tutorials/oop)"
   ]
  }
 ],
 "metadata": {
  "language_info": {
   "name": "python"
  },
  "orig_nbformat": 4
 },
 "nbformat": 4,
 "nbformat_minor": 2
}
