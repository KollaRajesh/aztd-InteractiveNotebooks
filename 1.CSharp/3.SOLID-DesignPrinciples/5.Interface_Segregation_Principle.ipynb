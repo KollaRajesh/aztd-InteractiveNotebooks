{
 "cells": [
  {
   "cell_type": "markdown",
   "metadata": {},
   "source": [
    "### Interface Segregation Principle"
   ]
  },
  {
   "cell_type": "markdown",
   "metadata": {},
   "source": [
    ">  **Interface Segregation Principle**:\n",
    ">    -  This principle states that a client should not be forced to depend on methods it does not use.\n",
    ">    -  In other words, we should create interfaces that are specific to the needs of the client\n",
    "\n",
    "> The benefits of following the Interface Segregation Principle (ISP) include the following:\n",
    ">\n",
    ">       - Improved maintainability and scalability of code.\n",
    ">       - Reduced risk of breaking existing functionality when introducing new features.\n",
    ">       - Easier debugging and testing of code.\n",
    ">       - Increased flexibility and reusability of code.\n",
    "\n",
    "> Example:1"
   ]
  },
  {
   "cell_type": "code",
   "execution_count": 1,
   "metadata": {
    "dotnet_interactive": {
     "language": "csharp"
    },
    "polyglot_notebook": {
     "kernelName": "csharp"
    },
    "vscode": {
     "languageId": "polyglot-notebook"
    }
   },
   "outputs": [],
   "source": [
    "public interface IAnimal\n",
    "{\n",
    "    void MakeSound();\n",
    "}\n",
    "\n",
    "public class Dog : IAnimal\n",
    "{\n",
    "    public void MakeSound()\n",
    "    {\n",
    "        Console.WriteLine(\"The dog barks.\");\n",
    "    }\n",
    "}\n",
    "\n",
    "public class Cat : IAnimal\n",
    "{\n",
    "    public void MakeSound()\n",
    "    {\n",
    "        Console.WriteLine(\"The cat meows.\");\n",
    "    }\n",
    "}\n"
   ]
  },
  {
   "cell_type": "markdown",
   "metadata": {},
   "source": [
    ">  In the above example, we have created an IAnimal interface and two classes that implement the interface: Dog and Cat.\n",
    ">  Both classes provide their own implementation of the MakeSound method.\n",
    ">  By using interfaces, we can write code that works with objects of different types, without having to know the details of those types."
   ]
  },
  {
   "cell_type": "code",
   "execution_count": 2,
   "metadata": {
    "dotnet_interactive": {
     "language": "csharp"
    },
    "polyglot_notebook": {
     "kernelName": "csharp"
    },
    "vscode": {
     "languageId": "polyglot-notebook"
    }
   },
   "outputs": [],
   "source": [
    "public interface IShape\n",
    "{\n",
    "    double Area();\n",
    "}\n",
    "\n",
    "public interface ICircle : IShape\n",
    "{\n",
    "    double Radius { get; set; }\n",
    "}\n",
    "\n",
    "public interface IRectangle : IShape\n",
    "{\n",
    "    double Width { get; set; }\n",
    "    double Height { get; set; }\n",
    "}\n",
    "\n",
    "public class Circle : ICircle\n",
    "{\n",
    "    public double Radius { get; set; }\n",
    "\n",
    "    public double Area()\n",
    "    {\n",
    "        return Math.PI * Radius * Radius;\n",
    "    }\n",
    "}\n",
    "\n",
    "public class Rectangle : IRectangle\n",
    "{\n",
    "    public double Width { get; set; }\n",
    "    public double Height { get; set; }\n",
    "\n",
    "    public double Area()\n",
    "    {\n",
    "        return Width * Height;\n",
    "    }\n",
    "}\n"
   ]
  },
  {
   "cell_type": "markdown",
   "metadata": {},
   "source": [
    ">  In this example, we have created an IShape interface and two classes that implement the interface: Rectangle and Circle.\n",
    ">  Both classes provide their own implementation of the Area method.\n",
    ">   By using interfaces, we can write code that works with objects of different types, without having to know the details of those types."
   ]
  },
  {
   "cell_type": "markdown",
   "metadata": {},
   "source": [
    "# Continue learning\n",
    "\n",
    "There are plenty more resources out there to learn!\n",
    "\n",
    "> [⏩ Next Module - Depedency Inversion Principle](6.Depedency_Inversion_Principle.ipynb) \n",
    "> \n",
    "> [⏪ Last Module - Liskovs SubstitutionPrinciple](4.Liskovs_Substitution_Principle.ipynb)\n",
    ">\n",
    "> [Reference- Interface Segregation principle](https://dotnettutorials.net/lesson/interface-segregation-principle/)"
   ]
  }
 ],
 "metadata": {
  "language_info": {
   "name": "python"
  },
  "orig_nbformat": 4
 },
 "nbformat": 4,
 "nbformat_minor": 2
}
