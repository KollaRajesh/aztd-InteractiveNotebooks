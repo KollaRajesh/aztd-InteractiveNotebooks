{
 "cells": [
  {
   "cell_type": "markdown",
   "metadata": {},
   "source": [
    "### Overview of GOF Design Patterns"
   ]
  },
  {
   "cell_type": "markdown",
   "metadata": {},
   "source": [
    "> The *Gang of Four (GoF) Design Patterns* refer to a collection of 23 design patterns outlined in the influential book titled “Design Patterns: Elements of Reusable Object-Oriented Software.” \n",
    ">\n",
    ">   - These patterns are widely used by software developers to address common design problems and enhance code quality. \n",
    ">   - They can be applied across various programming languages and domains.\n",
    ">   - The GoF patterns are categorized into three main groups:\n",
    "\n",
    ">  **Creational Patterns**: These patterns focus on object creation. They help manage object instantiation and ensure that only one instance of a class is created.\n",
    ">\n",
    ">     - Singleton: Restricts class initialization to a single instance.    \n",
    ">     - Factory: Delegates object instantiation to a factory class.  \n",
    "                The Factory Method Pattern provides an interface for object creation, allowing subclasses to implement specific creation logic.\n",
    "                It enables different subclasses to create objects of varying types using the same method.   \n",
    ">     - Abstract Factory: Creates factories for other factory classes. it means that the abstract factory pattern helps create families of related objects.\n",
    ">     - Builder: Constructs objects step by step.      \n",
    ">     - Prototype: Creates new instances based on existing ones.    \n",
    ">     - Object Pool : Manages a pool of reusable objects.\n",
    "      \n",
    "> **Structural Patterns**: These patterns deal with class structure, relationships between objects, and composition. Key structural patterns include:\n",
    ">\n",
    ">     - Adapter: Provides an interface between unrelated entities.\n",
    ">     - Composite: Implements part-whole hierarchies.\n",
    ">     - Proxy: Acts as a surrogate or placeholder for another object.\n",
    ">     - Flyweight: Caches and reuses object instances (often used with immutable objects).\n",
    ">     - Facade: Wraps existing interfaces to simplify client interactions.\n",
    ">     - Bridge: Decouples interfaces from implementation details.\n",
    ">     - Decorator: Modifies object functionality at runtime.\n",
    "\n",
    "> **Behavioral Patterns**: These patterns focus on object interaction, loose coupling, and extensibility. Examples include:\n",
    ">\n",
    ">     - Template Method: Defines the structure of an algorithm, allowing subclasses to provide specific implementations.  \n",
    ">     - Observer: Establishes a dependency between objects, ensuring that changes in one object trigger updates in others.  \n",
    ">     - Strategy: Defines a family of interchangeable algorithms.   \n",
    ">     - Command: Encapsulates requests as objects, allowing parameterization and queuing.  \n",
    ">     - State: Represents different states of an object and allows it to change behavior based on state transitions.  \n",
    ">     - Visitor: Separates algorithms from the objects they operate on.   \n",
    ">     - Interpreter : Provides a way to evaluate language grammar or expressions.    \n",
    ">     - Iterator : Provides a wau to access elements of a collection sequentially without exposing its internal structure.     \n",
    ">     - Memento : Captures and restores an object’s internal state, allowing it to revert to a previous state.   \n",
    ">     - Chain of Responsibility: Passes a request along a chain of handlers until one of them handles it.\n"
   ]
  }
 ],
 "metadata": {
  "language_info": {
   "name": "python"
  },
  "orig_nbformat": 4
 },
 "nbformat": 4,
 "nbformat_minor": 2
}
