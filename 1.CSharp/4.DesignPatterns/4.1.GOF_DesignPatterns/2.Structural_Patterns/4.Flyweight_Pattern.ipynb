{
 "cells": [
  {
   "cell_type": "markdown",
   "metadata": {},
   "source": [
    "### 4. Flyweight Pattern"
   ]
  },
  {
   "cell_type": "markdown",
   "metadata": {},
   "source": [
    "> The Flyweight pattern, a structural design pattern that aims to minimize memory usage by sharing common data among multiple objects. Here’s a comprehensive overview:\n",
    "> \n",
    "> 1. **What is the Flyweight Pattern**?\n",
    ">    -  The **Flyweight pattern** focuses on efficiently sharing a large number of objects by separating their *intrinsic state* (which is shared) from their *extrinsic state* (which is external and context-dependent).\n",
    ">    -  In simpler terms, it allows us to represent a large number of fine-grained objects using a smaller set of shared objects.\n",
    ">    -  This pattern is particularly useful when dealing with objects that have repetitive elements and would otherwise consume excessive memory if stored individually.\n",
    ">\n",
    "> 2. **Problems Solved by the Flyweight Pattern**:\n",
    ">    -  *Memory Efficiency*: By sharing common data, the Flyweight pattern reduces memory usage significantly.\n",
    ">    -  *Performance Optimization*: It improves performance by minimizing object creation and storage overhead.\n",
    ">    -  *Scalability*: When dealing with a large number of similar objects, the Flyweight pattern ensures scalability without consuming excessive resources.\n",
    ">\n",
    "> 3. **Advantages of the Flyweight Pattern**:\n",
    ">    -  *Memory Savings*: Objects share common data, reducing memory footprint.\n",
    ">    -  *Performance Improvement*: Fewer objects lead to faster execution.\n",
    ">    -  *Scalability*: Easily handle large numbers of objects.\n",
    ">    -  *Flexibility*: Separation of intrinsic and extrinsic state allows for flexibility in object creation.\n",
    ">\n",
    "> 4. **Disadvantages of the Flyweight Pattern**:\n",
    "> \n",
    ">    -  *Complexity*: Implementing the pattern can be intricate, especially when managing shared state.\n",
    ">    -  *Increased Complexity for Clients*: Clients need to manage both intrinsic and extrinsic state.\n",
    ">    -  *Not Suitable for All Scenarios*: It’s most effective for fine-grained objects with shared data.\n",
    "> \n",
    "> 5. **Structure of the Flyweight Pattern**:   \n",
    ">  The Flyweight pattern consists of the following components:  \n",
    ">    -  *Flyweight*: Represents the shared objects and defines methods for handling extrinsic state.  \n",
    ">    -  *ConcreteFlyweight*: Implements the Flyweight interface and stores intrinsic state.  \n",
    ">    -  *FlyweightFactory*: Creates and manages Flyweight objects, ensuring sharing and reusability.  \n",
    ">    -  *Client*: Utilizes Flyweight objects by passing in extrinsic state.  \n"
   ]
  },
  {
   "cell_type": "markdown",
   "metadata": {},
   "source": [
    "> Example 1: Text Editor Glyphs"
   ]
  },
  {
   "cell_type": "code",
   "execution_count": null,
   "metadata": {
    "dotnet_interactive": {
     "language": "csharp"
    },
    "polyglot_notebook": {
     "kernelName": "csharp"
    },
    "vscode": {
     "languageId": "polyglot-notebook"
    }
   },
   "outputs": [],
   "source": [
    "// Flyweight interface\n",
    "interface IGlyph\n",
    "{\n",
    "    void Draw(int positionX, int positionY);\n",
    "}\n",
    "\n",
    "// ConcreteFlyweight representing a character glyph\n",
    "class CharacterGlyph : IGlyph\n",
    "{\n",
    "    private char character;\n",
    "\n",
    "    public CharacterGlyph(char c)\n",
    "    {\n",
    "        this.character = c;\n",
    "    }\n",
    "\n",
    "    public void Draw(int positionX, int positionY)\n",
    "    {\n",
    "        // Draw the character at specified position\n",
    "        Console.WriteLine($\"Drawing '{character}' at ({positionX}, {positionY})\");\n",
    "    }\n",
    "}\n",
    "\n",
    "// FlyweightFactory manages shared glyphs\n",
    "class GlyphFactory\n",
    "{\n",
    "    private Dictionary<char, IGlyph> glyphs = new Dictionary<char, IGlyph>();\n",
    "\n",
    "    public IGlyph GetGlyph(char c)\n",
    "    {\n",
    "        if (!glyphs.ContainsKey(c))\n",
    "            glyphs[c] = new CharacterGlyph(c);\n",
    "        return glyphs[c];\n",
    "    }\n",
    "}\n",
    "\n",
    "// Client code\n",
    "class TextEditor\n",
    "{\n",
    "    private GlyphFactory factory = new GlyphFactory();\n",
    "\n",
    "    public void DisplayText(string text)\n",
    "    {\n",
    "        int x = 0, y = 0;\n",
    "        foreach (char c in text)\n",
    "        {\n",
    "            IGlyph glyph = factory.GetGlyph(c);\n",
    "            glyph.Draw(x, y);\n",
    "            x += 10; // Advance position\n",
    "        }\n",
    "    }\n",
    "}\n"
   ]
  },
  {
   "cell_type": "markdown",
   "metadata": {},
   "source": [
    "> Example 2: Chess Pieces"
   ]
  },
  {
   "cell_type": "code",
   "execution_count": 1,
   "metadata": {
    "dotnet_interactive": {
     "language": "csharp"
    },
    "polyglot_notebook": {
     "kernelName": "csharp"
    },
    "vscode": {
     "languageId": "polyglot-notebook"
    }
   },
   "outputs": [],
   "source": [
    "using System;\n",
    "\n",
    "// Flyweight interface\n",
    "interface IChessPiece\n",
    "{\n",
    "    void Move(int x, int y);\n",
    "}\n",
    "\n",
    "// ConcreteFlyweight representing a chess piece\n",
    "class ChessPiece : IChessPiece\n",
    "{\n",
    "    private string pieceType; // e.g., \"Pawn\", \"Rook\", etc.\n",
    "    private ConsoleColor color;\n",
    "\n",
    "    public ChessPiece(string type, ConsoleColor color)\n",
    "    {\n",
    "        this.pieceType = type;\n",
    "        this.color = color;\n",
    "    }\n",
    "\n",
    "    public void Move(int x, int y)\n",
    "    {\n",
    "        Console.WriteLine($\"{color} {pieceType} moves to ({x}, {y})\");\n",
    "    }\n",
    "}\n",
    "\n",
    "// FlyweightFactory manages shared chess pieces\n",
    "class ChessPieceFactory\n",
    "{\n",
    "    private readonly ChessPiece[,] pieces = new ChessPiece[2, 6];\n",
    "\n",
    "    public IChessPiece GetPiece(string type, ConsoleColor color)\n",
    "    {\n",
    "        int row = color == ConsoleColor.White ? 0 : 1;\n",
    "        int col = GetTypeIndex(type);\n",
    "        \n",
    "        if (pieces[row, col] == null)\n",
    "            pieces[row, col] = new ChessPiece(type, color);\n",
    "\n",
    "        return pieces[row, col];\n",
    "    }\n",
    "\n",
    "    private int GetTypeIndex(string type)\n",
    "    {\n",
    "        // Map piece type to an index (e.g., \"Pawn\" -> 0, \"Rook\" -> 1, etc.)\n",
    "        // Implement as needed based on your piece types.\n",
    "        // For simplicity, assume \"Pawn\" and \"Rook\" here.\n",
    "        return type switch\n",
    "        {\n",
    "            \"Pawn\" => 0,\n",
    "            \"Rook\" => 1,\n",
    "            _ => throw new ArgumentException(\"Invalid piece type\"),\n",
    "        };\n",
    "    }\n",
    "}\n",
    "\n",
    "// Client code\n",
    "class ChessGame\n",
    "{\n",
    "    static void Main()\n",
    "    {\n",
    "        ChessPieceFactory factory = new ChessPieceFactory();\n",
    "\n",
    "        IChessPiece whitePawn = factory.GetPiece(\"Pawn\", ConsoleColor.White);\n",
    "        IChessPiece blackRook = factory.GetPiece(\"Rook\", ConsoleColor.Black);\n",
    "\n",
    "        whitePawn.Move(2, 3);\n",
    "        blackRook.Move(7, 5);\n",
    "    }\n",
    "}\n",
    "\n"
   ]
  },
  {
   "cell_type": "code",
   "execution_count": null,
   "metadata": {
    "dotnet_interactive": {
     "language": "csharp"
    },
    "polyglot_notebook": {
     "kernelName": "csharp"
    },
    "vscode": {
     "languageId": "polyglot-notebook"
    }
   },
   "outputs": [],
   "source": [
    "using System;\n",
    "using System.Collections.Generic;\n",
    "\n",
    "// Flyweight interface\n",
    "interface IPen\n",
    "{\n",
    "    void Write(string content);\n",
    "}\n",
    "\n",
    "// ConcreteFlyweight representing a pen\n",
    "class Pen : IPen\n",
    "{\n",
    "    private string brand;\n",
    "    private string size;\n",
    "    private string material;\n",
    "\n",
    "    public Pen(string brand, string size, string material)\n",
    "    {\n",
    "        this.brand = brand;\n",
    "        this.size = size;\n",
    "        this.material = material;\n",
    "    }\n",
    "\n",
    "    public void Write(string content)\n",
    "    {\n",
    "        Console.WriteLine($\"Using {brand} pen ({size}, {material}) to write: {content}\");\n",
    "    }\n",
    "}\n",
    "\n",
    "// FlyweightFactory manages shared pens\n",
    "class PenFactory\n",
    "{\n",
    "    private Dictionary<string, IPen> pens = new Dictionary<string, IPen>();\n",
    "\n",
    "    public IPen GetPen(string color)\n",
    "    {\n",
    "        if (!pens.ContainsKey(color))\n",
    "        {\n",
    "            // Create a new pen with the specified color\n",
    "            pens[color] = new Pen(\"Generic\", \"Medium\", \"Plastic\");\n",
    "        }\n",
    "        return pens[color];\n",
    "    }\n",
    "}\n",
    "\n",
    "// Client code\n",
    "class DrawingApp\n",
    "{\n",
    "    static void Main()\n",
    "    {\n",
    "        PenFactory factory = new PenFactory();\n",
    "\n",
    "        IPen bluePen = factory.GetPen(\"Blue\");\n",
    "        IPen redPen = factory.GetPen(\"Red\");\n",
    "\n",
    "        bluePen.Write(\"Hello, world!\");\n",
    "        redPen.Write(\"Flyweight pattern is awesome!\");\n",
    "\n",
    "        // Both bluePen and redPen share the same pen instance\n",
    "    }\n",
    "}\n"
   ]
  },
  {
   "cell_type": "markdown",
   "metadata": {},
   "source": [
    "# Continue learning\n",
    "\n",
    "There are plenty more resources out there to learn!\n",
    "\n",
    "> [⏩ Next Module - 5.Facade Pattern](5.Facade_Pattern.ipynb)\n",
    "> \n",
    "> [⏪ Last Module - 3.Proxy Pattern](3.Proxy_Pattern.ipynb)\n",
    ">\n",
    "> [Reference- flyweight-design-pattern/](https://dotnettutorials.net/lesson/flyweight-design-pattern/)  \n",
    "> [Reference- flyweight-pattern](https://www.oodesign.com/flyweight-pattern)"
   ]
  },
  {
   "cell_type": "markdown",
   "metadata": {},
   "source": []
  }
 ],
 "metadata": {
  "language_info": {
   "name": "python"
  },
  "orig_nbformat": 4
 },
 "nbformat": 4,
 "nbformat_minor": 2
}
