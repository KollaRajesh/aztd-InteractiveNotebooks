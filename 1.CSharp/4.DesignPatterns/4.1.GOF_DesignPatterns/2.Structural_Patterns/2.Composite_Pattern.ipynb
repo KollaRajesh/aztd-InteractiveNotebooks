{
 "cells": [
  {
   "cell_type": "markdown",
   "metadata": {},
   "source": [
    "### 2. Composite Pattern"
   ]
  },
  {
   "cell_type": "markdown",
   "metadata": {},
   "source": [
    ">  The **Composite Pattern** is a structural design pattern that allows you to compose objects into tree structures to represent part-whole hierarchies. \n",
    ">  It enables treating individual objects and compositions uniformly. Let’s dive deeper into the Composite Pattern: \n",
    " \n",
    "> **Challenges**: \n",
    "> \n",
    "> **Uniform Treatment**: \n",
    ">   - How can we treat individual objects and compositions (composites) uniformly? \n",
    ">   - How can we work with complex hierarchical structures without distinguishing between leaf nodes and branches? \n",
    ">\n",
    "> **Hierarchical Representations**:\n",
    ">   - How can we represent part-whole hierarchies (e.g., tree structures) consistently?\n",
    ">   - How can we manage both individual objects and their compositions?\n",
    "\n",
    "> **Advantages and Disadvantages**\n",
    ">\n",
    "> *Advantages*:\n",
    ">   - *Uniformity*: Allows treating individual objects and compositions uniformly.\n",
    ">   - *Simplified Client Code*: Clients don’t need to distinguish between leaf and composite objects.\n",
    ">   - *Flexible Hierarchies*: Supports flexible part-whole hierarchies.\n",
    ">\n",
    "> *Disadvantages*:\n",
    ">   - *Complexity*: Implementing composite objects (composites) can be complex.\n",
    ">   - *Performance Overhead*: Managing a tree structure may introduce some runtime overhead.\n",
    "\n",
    "> **Structure**\n",
    ">\n",
    ">  The Composite Pattern consists of the following components:\n",
    ">\n",
    ">  1. *Component Interface*:\n",
    ">    - Defines operations that can be performed on both leaf (individual) objects and composite (collection) objects.\n",
    ">    - Represents the common interface for all components.\n",
    ">  2. Leaf:\n",
    ">    - A concrete implementation of the Component interface.\n",
    ">    - Represents individual objects (e.g., leaves in a tree).\n",
    ">\n",
    ">  3. Composite:\n",
    ">    - A concrete implementation of the Component interface.\n",
    ">    - Can hold child components (leaves or other composites).\n",
    ">    - Implements operations that manipulate its children."
   ]
  },
  {
   "cell_type": "code",
   "execution_count": null,
   "metadata": {
    "dotnet_interactive": {
     "language": "csharp"
    },
    "polyglot_notebook": {
     "kernelName": "csharp"
    },
    "vscode": {
     "languageId": "polyglot-notebook"
    }
   },
   "outputs": [],
   "source": [
    "using System;\n",
    "using System.Collections.Generic;\n",
    "\n",
    "// Component interface\n",
    "interface IOrganizationComponent\n",
    "{\n",
    "    void DisplayInfo();\n",
    "}\n",
    "\n",
    "// Leaf (Employee)\n",
    "class Employee : IOrganizationComponent\n",
    "{\n",
    "    public string Name { get; set; }\n",
    "\n",
    "    public void DisplayInfo() => Console.WriteLine($\"Employee: {Name}\");\n",
    "}\n",
    "\n",
    "// Composite (OrganizationalUnit)\n",
    "class OrganizationalUnit : IOrganizationComponent\n",
    "{\n",
    "    private readonly List<IOrganizationComponent> _children ;\n",
    "\n",
    "    public OrganizationalUnit() => _children = new List<IOrganizationComponent>();\n",
    "\n",
    "    public string Name { get; set; }\n",
    "\n",
    "    public void Add(IOrganizationComponent component) =>_children.Add(component);\n",
    "\n",
    "    public void Remove(IOrganizationComponent component) =>_children.Remove(component);\n",
    "\n",
    "    public void DisplayInfo()\n",
    "    {\n",
    "        Console.WriteLine($\"Organizational Unit: {Name}\");\n",
    "        foreach (var child in _children)\n",
    "            child.DisplayInfo();\n",
    "        Console.WriteLine();\n",
    "    }\n",
    "}\n",
    "\n",
    "// Client code\n",
    "class Client\n",
    "{\n",
    "    public void BuildOrganization()\n",
    "    {\n",
    "        var engineering = new OrganizationalUnit { Name = \"Engineering\" };\n",
    "        engineering.Add(new Employee { Name = \"John\" });\n",
    "        engineering.Add(new Employee { Name = \"Alice\" });\n",
    "\n",
    "        var sales = new OrganizationalUnit { Name = \"Sales\" };\n",
    "        sales.Add(new Employee { Name = \"Bob\" });\n",
    "\n",
    "        var company = new OrganizationalUnit { Name = \"Company\" };\n",
    "        company.Add(engineering);\n",
    "        company.Add(sales);\n",
    "\n",
    "        company.DisplayInfo();\n",
    "    }\n",
    "}\n",
    "\n",
    "// Usage\n",
    "var client = new Client();\n",
    "client.BuildOrganization();\n"
   ]
  },
  {
   "cell_type": "markdown",
   "metadata": {},
   "source": [
    ">  **File System Hierarchy**    \n",
    ">  Consider a file system where you have files (leaf nodes) and directories (composite nodes). Each directory can contain files and subdirectories. \n",
    ">\n",
    "> Example 2:"
   ]
  },
  {
   "cell_type": "code",
   "execution_count": null,
   "metadata": {
    "dotnet_interactive": {
     "language": "csharp"
    },
    "polyglot_notebook": {
     "kernelName": "csharp"
    },
    "vscode": {
     "languageId": "polyglot-notebook"
    }
   },
   "outputs": [],
   "source": [
    "// Component interface\n",
    "interface IFileSystemNode\n",
    "{\n",
    "    string Name { get; set; }\n",
    "    void DisplayInfo(int depth);\n",
    "}\n",
    "\n",
    "// Leaf (File)\n",
    "class File : IFileSystemNode\n",
    "{\n",
    "    public string Name { get; set; }\n",
    "\n",
    "    public void DisplayInfo(int depth)\n",
    "    {\n",
    "        Console.WriteLine(new string('-', depth) + Name);\n",
    "    }\n",
    "}\n",
    "\n",
    "// Composite (Directory)\n",
    "class Directory : IFileSystemNode\n",
    "{\n",
    "    private readonly List<IFileSystemNode> _children = new List<IFileSystemNode>();\n",
    "\n",
    "    public string Name { get; set; }\n",
    "\n",
    "    public void Add(IFileSystemNode node)\n",
    "    {\n",
    "        _children.Add(node);\n",
    "    }\n",
    "\n",
    "    public void DisplayInfo(int depth)\n",
    "    {\n",
    "        Console.WriteLine(new string('-', depth) + Name);\n",
    "        foreach (var child in _children)\n",
    "            child.DisplayInfo(depth + 2);\n",
    "    }\n",
    "}\n",
    "\n",
    "// Client code\n",
    "class Client\n",
    "{\n",
    "    public void BuildFileSystem()\n",
    "    {\n",
    "        var root = new Directory { Name = \"Root\" };\n",
    "        root.Add(new File { Name = \"File1.txt\" });\n",
    "\n",
    "        var subDir = new Directory { Name = \"Subdirectory\" };\n",
    "        subDir.Add(new File { Name = \"File2.txt\" });\n",
    "\n",
    "        root.Add(subDir);\n",
    "        root.DisplayInfo(0);\n",
    "    }\n",
    "}\n",
    "\n",
    "// Usage\n",
    "var client = new Client();\n",
    "client.BuildFileSystem();\n"
   ]
  },
  {
   "cell_type": "markdown",
   "metadata": {},
   "source": [
    "# Continue learning\n",
    "\n",
    "There are plenty more resources out there to learn!\n",
    "\n",
    "> [⏩ Next Module - 3.Proxy Pattern](3.Proxy_Pattern.ipynb)\n",
    "> \n",
    "> [⏪ Last Module - 1.Adapter Pattern](1.Adapter_Pattern.ipynb)\n",
    ">\n",
    "> [Reference- composite-design-pattern](https://dotnettutorials.net/lesson/composite-design-pattern/)  \n",
    "> [Reference- composite-pattern](https://www.oodesign.com/composite-pattern)"
   ]
  }
 ],
 "metadata": {
  "language_info": {
   "name": "python"
  },
  "orig_nbformat": 4
 },
 "nbformat": 4,
 "nbformat_minor": 2
}
