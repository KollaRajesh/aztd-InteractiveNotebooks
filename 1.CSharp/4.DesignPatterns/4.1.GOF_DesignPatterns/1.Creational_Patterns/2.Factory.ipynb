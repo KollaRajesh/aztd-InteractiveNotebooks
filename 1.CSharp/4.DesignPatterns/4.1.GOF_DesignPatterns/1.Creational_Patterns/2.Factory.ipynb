{
 "cells": [
  {
   "cell_type": "markdown",
   "metadata": {},
   "source": [
    "### 2. Factory Pattern"
   ]
  },
  {
   "cell_type": "markdown",
   "metadata": {},
   "source": [
    "> The **Factory Method Design Pattern** addresses the problem of creating objects without specifying their concrete classes.\n",
    ">   - It allows subclasses to decide which class to instantiate.\n",
    ">   - This pattern promotes code reuse, loose coupling, and encapsulates object creation logic. \n",
    "\n",
    "> Let’s dive into a detailed code example in C#:\n",
    "\n",
    "> \n",
    "> **Problem**:\n",
    ">\n",
    ">   Imagine an application that needs to create different types of credit cards (e.g., MoneyBack, Tit anium, Platinum).  \n",
    ">   We want to create these credit card objects without knowing their exact implementation classes.  \n",
    "\n",
    ">\n",
    "> **Solution (Factory Method)**:\n",
    ">\n",
    "> Define an abstract class or interface (the Creator) with a method (the Factory Method) that returns a product (the Product).     \n",
    "> Subclasses (the Concrete Creators) override the Factory Method to create specific product instances (the Concrete Products).  \n",
    ">\n",
    "\n",
    "> **Benefits**:\n",
    "\n",
    "> **Loose Coupling**: The client code doesn’t depend on concrete credit card classes.   \n",
    "> **Code Reuse**: Different factories can create various credit card types.   \n",
    "> **Encapsulation**: Object creation logic is encapsulated in the Factory Method.  \n",
    "\n",
    "> **Example 1 **:   "
   ]
  },
  {
   "cell_type": "code",
   "execution_count": null,
   "metadata": {
    "dotnet_interactive": {
     "language": "csharp"
    },
    "polyglot_notebook": {
     "kernelName": "csharp"
    },
    "vscode": {
     "languageId": "polyglot-notebook"
    }
   },
   "outputs": [],
   "source": [
    "// Abstract Product (CreditCard)\n",
    "public interface ICreditCard\n",
    "{\n",
    "    string GetCardType();   // Method to get the type of the credit card\n",
    "}\n",
    "\n",
    "// Concrete Products (MoneyBack, Titanium, Platinum)\n",
    "public class MoneyBack : ICreditCard {\n",
    "     // Implementation for MoneyBack card\n",
    "     public string GetCardType() => $\"{nameof(MoneyBack)} Card\";\n",
    "      }\n",
    "public class Titanium : ICreditCard { \n",
    "    // Implementation for Titanium card\n",
    "public string GetCardType() => $\"{nameof(Titanium)} Card\";\n",
    "}\n",
    "public class Platinum : ICreditCard { \n",
    "    // Implementation for Platinum card\n",
    "public string GetCardType() => $\"{nameof(Platinum)} Card\"; }\n",
    "\n",
    "// Abstract Creator (CreditCardFactory)\n",
    "public abstract class CreditCardFactory\n",
    "{\n",
    "    public abstract ICreditCard CreateCard();\n",
    "}\n",
    "\n",
    "// Concrete Creators (MoneyBackFactory, TitaniumFactory, PlatinumFactory)\n",
    "public class MoneyBackFactory : CreditCardFactory\n",
    "{\n",
    "    public override ICreditCard CreateCard() => new MoneyBack();\n",
    "}\n",
    "\n",
    "public class TitaniumFactory : CreditCardFactory\n",
    "{\n",
    "    public override ICreditCard CreateCard() => new Titanium();\n",
    "}\n",
    "\n",
    "public class PlatinumFactory : CreditCardFactory\n",
    "{\n",
    "    public override ICreditCard CreateCard() => new Platinum();\n",
    "}\n",
    "\n",
    "CreditCardFactory factory = new PlatinumFactory();\n",
    "ICreditCard card = factory.CreateCard();\n",
    "\n",
    "Console.WriteLine($\"Card type: {card.GetCardType()}\");\n",
    "\n",
    "/*\n",
    "    The CreditCardFactory abstract class declares the Factory Method (CreateCard()).\n",
    "    Concrete factories (MoneyBackFactory, TitaniumFactory, PlatinumFactory) override the Factory Method to create specific credit card instances.\n",
    "    The client code can create credit cards without knowing their exact implementation classes.\n",
    "*/"
   ]
  },
  {
   "cell_type": "code",
   "execution_count": null,
   "metadata": {
    "dotnet_interactive": {
     "language": "csharp"
    },
    "polyglot_notebook": {
     "kernelName": "csharp"
    },
    "vscode": {
     "languageId": "polyglot-notebook"
    }
   },
   "outputs": [],
   "source": [
    "using System;\n",
    "\n",
    "// Abstract Product (CreditCard)\n",
    "public interface ICreditCard\n",
    "{\n",
    "    string GetCardType();\n",
    "}\n",
    "\n",
    "// Concrete Products (MoneyBack, Titanium, Platinum)\n",
    "public class MoneyBack : ICreditCard{\n",
    "    public string GetCardType() =>  $\"{nameof(MoneyBack)} Card\"; // Implementation for MoneyBack card\n",
    "}\n",
    "\n",
    "public class Titanium : ICreditCard{\n",
    "    public string GetCardType() => $\"{nameof(Titanium)} Card\"; // Implementation for Titanium card\n",
    "}\n",
    "\n",
    "public class Platinum : ICreditCard{\n",
    "    public string GetCardType() =>  $\"{nameof(Platinum)} Card\";   // Platinum for Titanium card \n",
    "    }\n",
    "\n",
    "    // Abstract Creator (CreditCardFactory)\n",
    "        public abstract class CreditCardFactory<T> where T : ICreditCard, new()\n",
    "        {\n",
    "            public T CreateCard() => new T();\n",
    "        }\n",
    "\n",
    "        // Concrete Creators (MoneyBackFactory, TitaniumFactory, PlatinumFactory)\n",
    "        public class MoneyBackFactory : CreditCardFactory<MoneyBack> { }\n",
    "        public class TitaniumFactory : CreditCardFactory<Titanium> { }\n",
    "        public class PlatinumFactory : CreditCardFactory<Platinum> { }\n",
    "\n",
    "      ICreditCard moneyBackCard = new MoneyBackFactory().CreateCard();\n",
    "  Console.WriteLine($\"Card type: {moneyBackCard.GetCardType()}\");\n",
    "\n",
    "   ICreditCard titaniumCard  = new TitaniumFactory().CreateCard();\n",
    "   Console.WriteLine($\"Card type: {titaniumCard.GetCardType()}\");\n",
    "\n",
    "/*\n",
    "The CreditCardFactory<T> abstract class defines the Factory Method (CreateCard()).    \n",
    "Concrete factories (MoneyBackFactory, TitaniumFactory, PlatinumFactory) create specific credit card instances.    \n",
    "The client can create credit cards using generics without knowing their exact implementation classes.   */"
   ]
  },
  {
   "cell_type": "markdown",
   "metadata": {},
   "source": [
    "# Continue learning\n",
    "\n",
    "There are plenty more resources out there to learn!\n",
    "\n",
    "> [⏩ Next Module - Factory ](2.Factory.ipynb)\n",
    "> \n",
    "> [⏪ Last Module - Singleton ](1.Singleton.ipynb)\n",
    "\n",
    "> [Reference- factory-method-design-pattern-csharp](https://dotnettutorials.net/lesson/factory-method-design-pattern-csharp/)  "
   ]
  }
 ],
 "metadata": {
  "language_info": {
   "name": "python"
  },
  "orig_nbformat": 4
 },
 "nbformat": 4,
 "nbformat_minor": 2
}
