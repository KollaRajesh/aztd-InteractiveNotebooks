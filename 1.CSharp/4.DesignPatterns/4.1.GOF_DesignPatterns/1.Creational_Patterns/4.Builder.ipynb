{
 "cells": [
  {
   "cell_type": "markdown",
   "metadata": {},
   "source": [
    "### 4. Builder Pattern"
   ]
  },
  {
   "cell_type": "markdown",
   "metadata": {},
   "source": [
    "> The **Builder Design Pattern** is a powerful technique used in object-oriented programming to address various object creation challenges.\n",
    "\n",
    " > Let’s explore its key aspects:\n",
    "\n",
    "> **Purpose**:\n",
    "> \n",
    ">   - The Builder pattern provides a flexible solution for creating complex objects.\n",
    ">   - It aims to separate the construction process of an object from its representation.\n",
    ">   - By doing so, the same construction process can create different representations of the same complex object.\n",
    "\n",
    "> **Why Use It**?:\n",
    ">\n",
    ">   - Consider scenarios where:\n",
    ">       - You need to create an object with many optional and required fields.\n",
    ">       - The object’s construction process is complex.\n",
    ">       - Multiple representations of the object are possible.\n",
    ">   - Directly assembling the parts of a complex object within a class can be inflexible and limit future changes.\n",
    "\n",
    ">**Advantages**:\n",
    ">\n",
    ">   - Allows you to vary a product’s internal representation.\n",
    ">   - Encapsulates code for construction and representation.\n",
    ">   - Provides control over the construction process steps.\n",
    "\n",
    ">**Disadvantages**:\n",
    ">\n",
    ">   - Requires creating a distinct ConcreteBuilder for each type of product.\n",
    ">   - Builder classes must be mutable.\n",
    ">   - May complicate dependency injection.\n",
    "\n",
    "\n",
    "> **Structure**:\n",
    ">\n",
    ">   - The Builder pattern involves the following components:\n",
    ">     - Director: Manages the construction process but doesn’t create the product directly.\n",
    ">     - Builder Interface: Defines methods for building parts of the complex object.\n",
    ">     - Concrete Builders: Implement the builder interface and create specific representations.\n",
    ">     - Product: Represents the final complex object."
   ]
  },
  {
   "cell_type": "code",
   "execution_count": 4,
   "metadata": {
    "dotnet_interactive": {
     "language": "csharp"
    },
    "polyglot_notebook": {
     "kernelName": "csharp"
    },
    "vscode": {
     "languageId": "polyglot-notebook"
    }
   },
   "outputs": [
    {
     "name": "stdout",
     "output_type": "stream",
     "text": [
      "Title :Excel Title: Monthly Sales Report\n",
      "Author : Excel Author: John Doe\n",
      "Content : Excel Content: Content\n",
      "\n",
      "Title :PDF Title: Monthly Sales Report\n",
      "Author : PDF Author: John Doe\n",
      "Content : PDF Content: Content\n",
      "\n"
     ]
    }
   ],
   "source": [
    "public class Report {\n",
    "    public  string Title {get;set;}\n",
    "    public string Author {get;set;}\n",
    "    public string Content {get;set;}\n",
    "    public void DisplayReport()\n",
    "    {\n",
    "        Console.WriteLine($\"Title :{Title}\");\n",
    "        Console.WriteLine($\"Author : {Author}\");\n",
    "        Console.WriteLine($\"Content : {Content}\");\n",
    "        Console.WriteLine();\n",
    "    }\n",
    "}\n",
    "// Abstract builder interface\n",
    "interface IReportBuilder\n",
    "{\n",
    "    void SetTitle(string title);\n",
    "    void SetAuthor(string author);\n",
    "     void SetContent(string content);\n",
    "    // Other methods for adding components...\n",
    "    Report GetReport();\n",
    "}\n",
    "\n",
    "// Concrete Excel report builder\n",
    "class ExcelReportBuilder : IReportBuilder\n",
    "{\n",
    "    private Report report = new Report();\n",
    "    public void SetTitle(string title)  =>report.Title=  $\"Excel Title: {title}\";\n",
    "    public void SetAuthor(string author)  =>report.Author=  $\"Excel Author: {author}\";\n",
    "    public void SetContent(string content)  =>report.Content=  $\"Excel Content: {content}\";\n",
    "    \n",
    "    // Implement other methods...\n",
    "    public Report GetReport() => report;\n",
    "}\n",
    "\n",
    "// Concrete PDF report builder\n",
    "class PdfReportBuilder : IReportBuilder\n",
    "{\n",
    "    private Report report = new Report();\n",
    "\n",
    "    public void SetTitle(string title)  =>report.Title=  $\"PDF Title: {title}\";\n",
    "    public void SetAuthor(string author)  =>report.Author=  $\"PDF Author: {author}\";\n",
    "    public void SetContent(string content)  =>report.Content=  $\"PDF Content: {content}\";\n",
    "\n",
    "    // Implement other methods...\n",
    "    public Report GetReport() => report;\n",
    "}\n",
    "\n",
    "// Director class to manage the construction process\n",
    "class ReportDirector\n",
    "{\n",
    "    public Report ConstructReport(IReportBuilder builder)\n",
    "    {\n",
    "        builder.SetTitle(\"Monthly Sales Report\");\n",
    "        builder.SetAuthor(\"John Doe\");\n",
    "        builder.SetContent(\"Content\") ;\n",
    "        // Add other components...\n",
    "        return builder.GetReport();\n",
    "    }\n",
    "}\n",
    "// Usage\n",
    "var director = new ReportDirector();\n",
    "var excelBuilder = new ExcelReportBuilder();\n",
    "var pdfBuilder = new PdfReportBuilder();\n",
    "\n",
    " var excelReport = director.ConstructReport(excelBuilder);\n",
    " excelReport.DisplayReport();\n",
    "\n",
    " var pdfReport = director.ConstructReport(pdfBuilder);\n",
    " pdfReport.DisplayReport();"
   ]
  },
  {
   "cell_type": "markdown",
   "metadata": {},
   "source": [
    "# Continue learning\n",
    "\n",
    "There are plenty more resources out there to learn!\n",
    "\n",
    "> [⏩ Next Module - Prototype Pattern](5.Prototype.ipynb)\n",
    "> \n",
    "> [⏪ Last Module - Builder Pattern](4.Builder.ipynb)\n",
    "\n",
    "> [Reference- Builder pattern](https://dotnettutorials.net/lesson/builder-design-pattern/)"
   ]
  }
 ],
 "metadata": {
  "language_info": {
   "name": "python"
  },
  "orig_nbformat": 4
 },
 "nbformat": 4,
 "nbformat_minor": 2
}
