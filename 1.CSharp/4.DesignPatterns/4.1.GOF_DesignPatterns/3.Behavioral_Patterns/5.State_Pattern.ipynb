{
 "cells": [
  {
   "cell_type": "markdown",
   "metadata": {},
   "source": [
    "### 5. State Pattern"
   ]
  },
  {
   "cell_type": "markdown",
   "metadata": {},
   "source": [
    ">  The **State Design Pattern** is a behavioral design pattern that allows an object to alter its behavior when its internal state changes. \n",
    ">    \n",
    ">   1. The pattern encapsulates the behavior of an object into different states and allows the object to transition from one state to another at runtime.  \n",
    ">   2. The purpose of the State pattern is to provide a systematic and loosely coupled way to change the behavior of an object based on its internal state.  \n",
    ">    \n",
    "> -  The *State pattern* addresses the following challenges:    \n",
    ">    1. It allows an object to change its behavior when its internal state changes.   \n",
    ">    2. It avoids the use of conditional statements to change the behavior of an object.  \n",
    ">    3. It simplifies the code by dividing the behavior of an object into different states.  \n",
    ">  \n",
    "> - The *advantages* of the State pattern are:  \n",
    ">    1. It supports the principle of loose coupling between objects that interact with each other.   \n",
    ">    2. It allows for the separation of concerns.  \n",
    ">    3. It simplifies the code by dividing the behavior of an object into different states.\n",
    ">\n",
    "> - The *disadvantages* of the State pattern are:\n",
    ">    1. The number of classes can increase significantly, which can make the code more complex.\n",
    ">    2. It can be difficult to decide when to use the State pattern.\n",
    ">\n",
    "> - The *components* of the *State design pattern* are:\n",
    ">    1. *Context*: This is the object whose behavior changes based on its internal state.\n",
    ">    2. *State*: This is the interface that declares the methods that all concrete states should implement.\n",
    ">    3. *ConcreteState*: This is the class that implements the State interface and contains the behavior of the object for a particular state.\n",
    ">    \n",
    ">  Here are two examples of the State design pattern in C#:"
   ]
  },
  {
   "cell_type": "markdown",
   "metadata": {},
   "source": [
    "> Example 1:"
   ]
  },
  {
   "cell_type": "code",
   "execution_count": null,
   "metadata": {
    "dotnet_interactive": {
     "language": "csharp"
    },
    "polyglot_notebook": {
     "kernelName": "csharp"
    },
    "vscode": {
     "languageId": "polyglot-notebook"
    }
   },
   "outputs": [],
   "source": [
    "using System;\n",
    "\n",
    "// Define the MobileAlertState interface that declares the Alert method.\n",
    "public interface MobileAlertState\n",
    "{\n",
    "    void Alert();\n",
    "}\n",
    "\n",
    "// Define the Vibration class that implements the MobileAlertState interface.\n",
    "public class Vibration : MobileAlertState\n",
    "{\n",
    "    public void Alert()\n",
    "    {\n",
    "        Console.WriteLine(\"Vibration...\");\n",
    "    }\n",
    "}\n",
    "\n",
    "// Define the Silent class that implements the MobileAlertState interface.\n",
    "public class Silent : MobileAlertState\n",
    "{\n",
    "    public void Alert()\n",
    "    {\n",
    "        Console.WriteLine(\"Silent...\");\n",
    "    }\n",
    "}\n",
    "\n",
    "// Define the AlertStateContext class that maintains a reference to the current state of the mobile alert system.\n",
    "public class AlertStateContext\n",
    "{\n",
    "    private MobileAlertState currentState;\n",
    "\n",
    "    public AlertStateContext()\n",
    "    {\n",
    "        currentState = new Vibration();\n",
    "    }\n",
    "\n",
    "    public void SetState(MobileAlertState state)\n",
    "    {\n",
    "        currentState = state;\n",
    "    }\n",
    "\n",
    "    public void Alert()\n",
    "    {\n",
    "        currentState.Alert();\n",
    "    }\n",
    "}\n",
    "\n",
    "// Client \n",
    "// public class Program\n",
    "// {\n",
    "//     static void Main(string[] args)\n",
    "//     {\n",
    "        var alertStateContext = new AlertStateContext();\n",
    "        alertStateContext.Alert();\n",
    "        alertStateContext.Alert();\n",
    "        alertStateContext.SetState(new Silent());\n",
    "        alertStateContext.Alert();\n",
    "        alertStateContext.Alert();\n",
    "        alertStateContext.Alert();\n",
    "//     }\n",
    "// }\n"
   ]
  },
  {
   "cell_type": "markdown",
   "metadata": {},
   "source": [
    ">  In this example, we define four classes:\n",
    ">    -  MobileAlertState, Vibration, Silent, and AlertStateContext. MobileAlertState is the interface that declares the Alert method. \n",
    ">    -  Vibration and Silent are the concrete states that implement the MobileAlertState interface.\n",
    ">    -  AlertStateContext is the context object that maintains a reference to the current state of the mobile alert system.\n",
    ">  \n",
    ">  In the Main method\\ Client, we create an instance of the AlertStateContext class and call the Alert method twice.\n",
    ">   -  We then set the state of the AlertStateContext object to Silent and call the Alert method three times. \n",
    ">   -  This changes the behavior of the AlertStateContext object from vibration to silence.\n",
    "\n"
   ]
  },
  {
   "cell_type": "markdown",
   "metadata": {},
   "source": [
    "> Example 2: Using the State pattern to implement a traffic light system"
   ]
  },
  {
   "cell_type": "code",
   "execution_count": null,
   "metadata": {
    "dotnet_interactive": {
     "language": "csharp"
    },
    "polyglot_notebook": {
     "kernelName": "csharp"
    },
    "vscode": {
     "languageId": "polyglot-notebook"
    }
   },
   "outputs": [],
   "source": [
    "using System;\n",
    "using System.Timers;\n",
    "\n",
    "// Define the TrafficLightState interface that declares the Change method.\n",
    "public interface TrafficLightState\n",
    "{  \n",
    "     double Interval{get;  }\n",
    "    void Change(TrafficLight light);\n",
    "}\n",
    "\n",
    "// Define the RedLight class that implements the TrafficLightState interface.\n",
    "public class RedLight : TrafficLightState\n",
    "{\n",
    "    public double Interval{get; private set;}\n",
    "    public RedLight()=> Interval =500;\n",
    "    public void Change(TrafficLight light)\n",
    "    {\n",
    "        Console.WriteLine(\"Red Light\");\n",
    "        light.SetState(new GreenLight());\n",
    "        \n",
    "    }\n",
    "}\n",
    "\n",
    "// Define the GreenLight class that implements the TrafficLightState interface.\n",
    "public class GreenLight : TrafficLightState\n",
    "{\n",
    "    public double Interval{get; private set;}\n",
    "    public GreenLight()=> Interval =1000;\n",
    "    public void Change(TrafficLight light)\n",
    "    {\n",
    "        Console.WriteLine(\"Green Light\");\n",
    "        light.SetState(new YellowLight());\n",
    "    }\n",
    "}\n",
    "\n",
    "// Define the YellowLight class that implements the TrafficLightState interface.\n",
    "public class YellowLight : TrafficLightState\n",
    "{ \n",
    "\n",
    "    public double Interval{get; private set;}\n",
    "    public YellowLight()=> Interval =250;\n",
    "    public void Change(TrafficLight light)\n",
    "    {\n",
    "        Console.WriteLine(\"Yellow Light\");\n",
    "        light.SetState(new RedLight());\n",
    "    }\n",
    "}\n",
    "\n",
    "// Define the TrafficLight class that maintains a reference to the current state of the traffic light system.\n",
    "public class TrafficLight\n",
    "{\n",
    "    private TrafficLightState currentState;\n",
    "    private Timer internalTimer;\n",
    "\n",
    "    public TrafficLight()\n",
    "    {\n",
    "        currentState = new RedLight();\n",
    "        internalTimer= new Timer();\n",
    "        internalTimer.Elapsed += OnTimedEvent; // Specify what to do when the time is up\n",
    "        internalTimer.AutoReset = true; // Repeat the timer after it goes off\n",
    "        internalTimer.Enabled = true; // Start the timer\n",
    "\n",
    "    }\n",
    "\n",
    "    public void SetState(TrafficLightState state) {  \n",
    "        currentState = state;\n",
    "        internalTimer.Interval=currentState!.Interval;\n",
    "    }\n",
    "\n",
    "    public void Change()=>  currentState.Change(this);\n",
    "    \n",
    "    // Timer elappsed event is not working in notebook\n",
    "     private  void OnTimedEvent(Object source, ElapsedEventArgs e)\n",
    "    {\n",
    "        Console.WriteLine(\"The Elapsed event was raised at {0}\", e.SignalTime);\n",
    "        ((TrafficLight)(source)).Change();\n",
    "    }\n",
    "\n",
    "  \n",
    "}\n",
    "//Client\n",
    "// public class Program\n",
    "// {\n",
    "//     static void Main(string[] args)\n",
    "//     {\n",
    "        var trafficLight = new TrafficLight();\n",
    "         trafficLight.Change();\n",
    "         trafficLight.Change();\n",
    "         trafficLight.Change();\n",
    "         trafficLight.Change();\n",
    "         trafficLight.Change();\n",
    "//     }\n",
    "// }"
   ]
  },
  {
   "cell_type": "markdown",
   "metadata": {},
   "source": [
    "# Continue learning\n",
    "\n",
    "There are plenty more resources out there to learn!\n",
    "\n",
    "> [⏩ Next Module - Visitor Pattern](6.Visitor_Pattern.ipynb)\n",
    "> \n",
    "> [⏪ Last Module - Command Pattern](4.Command_Pattern.ipynb)\n",
    "\n",
    "> [Reference- State design pattern](https://dotnettutorials.net/lesson/state-design-pattern/)"
   ]
  }
 ],
 "metadata": {
  "language_info": {
   "name": "python"
  },
  "orig_nbformat": 4
 },
 "nbformat": 4,
 "nbformat_minor": 2
}
