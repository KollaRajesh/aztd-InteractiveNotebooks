{
 "cells": [
  {
   "cell_type": "markdown",
   "metadata": {},
   "source": [
    "### 3. Strategy Pattern"
   ]
  },
  {
   "cell_type": "markdown",
   "metadata": {},
   "source": [
    ">  The **Strategy Design Pattern** is a behavioral design pattern that allows you to define a family of algorithms, encapsulate each one, and make them interchangeable.   \n",
    ">   It enables selecting an algorithm’s behavior at runtime, rather than hard-coding it directly into the client code. \n",
    ">\n",
    ">  Let’s explore this pattern in detail:\n",
    ">\n",
    ">  **Purpose of the Strategy Design Pattern**:\n",
    "\n",
    ">    **Algorithm Variation**: The Strategy pattern lets you vary an algorithm independently from the clients that use it.\n",
    ">    **Dynamic Selection**: It allows you to switch between different algorithms or behaviors dynamically at runtime.\n",
    ">    **Clean Code**: By encapsulating algorithms in separate classes, you avoid conditional statements and promote cleaner, more maintainable code.  \n",
    ">\n",
    "> **Challenges and Solutions**:\n",
    ">  1. **Multiple Solutions for a Task**:\n",
    ">     - **Challenge**: When you have multiple solutions (algorithms) for a specific task, how do you choose the right one dynamically?   \n",
    ">     - **Solution**: Use the Strategy pattern to encapsulate each solution in a separate class and let the client decide which one to use.\n",
    ">  2. **Avoiding Conditional Statements**:  \n",
    ">    \n",
    ">     - **Challenge**: Hard-coding different algorithms directly into the client code leads to messy, inflexible code.\n",
    ">     - **Solution**: Separate the algorithms into their own classes (strategies) and allow the client to select the appropriate strategy.\n",
    "\n",
    "> **Challenge**: Dynamic Payment Processing\n",
    ">  Suppose you’re building an e-commerce platform that needs to handle payments.  \n",
    ">  You want to support various payment methods and allow users to choose their preferred method during checkout.  \n",
    ">  Additionally, you want to add new payment methods without modifying existing code.\n",
    "\n",
    ">\n",
    ">  **Solution**: Strategy Pattern for Payment Methods\n",
    ">\n",
    ">  1. Define the Abstract Strategy (PaymentMethod):\n",
    ">     - Create an interface or abstract class (IPaymentMethod) that declares methods common to all payment methods (e.g., ProcessPayment, Refund).\n",
    ">  2. Create Concrete Strategies (CreditCard, PayPal, BankTransfer):\n",
    ">     -  Implement concrete classes (CreditCardPayment, PayPalPayment, BankTransferPayment) representing specific payment methods.\n",
    ">     -  Each concrete class should implement the methods declared in IPaymentMethod.\n",
    "\n",
    "> **Client Code**:\n",
    ">    - The client code can dynamically select a payment method (strategy) during checkout.\n",
    ">    - The selected payment method processes payments without knowing its exact implementation class.\n",
    "\n",
    "> **Benefits**:\n",
    ">   The Strategy pattern allows dynamic selection of payment methods during runtime.   \n",
    ">    Adding new payment methods (e.g., cryptocurrency, mobile wallets) doesn’t impact existing code.   "
   ]
  },
  {
   "cell_type": "code",
   "execution_count": null,
   "metadata": {
    "dotnet_interactive": {
     "language": "csharp"
    },
    "polyglot_notebook": {
     "kernelName": "csharp"
    },
    "vscode": {
     "languageId": "polyglot-notebook"
    }
   },
   "outputs": [],
   "source": [
    "using System;\n",
    "\n",
    "// Abstract Strategy (PaymentMethod)\n",
    "public interface IPaymentMethodStrategy\n",
    "{\n",
    "    void ProcessPayment(decimal amount);\n",
    "    void Refund(decimal amount);\n",
    "}\n",
    "\n",
    "// Concrete Strategies (CreditCardPayment, PayPalPayment, BankTransferPayment)\n",
    "public class CreditCardPayment : IPaymentMethodStrategy\n",
    "{\n",
    "    public void ProcessPayment(decimal amount) => Console.WriteLine($\"Credit card payment of ${amount}\");\n",
    "    public void Refund(decimal amount) => Console.WriteLine($\"Refund for credit card payment of ${amount}\");\n",
    "}\n",
    "\n",
    "public class PayPalPayment : IPaymentMethodStrategy\n",
    "{\n",
    "    public void ProcessPayment(decimal amount) => Console.WriteLine($\"PayPal payment of ${amount}\");\n",
    "    public void Refund(decimal amount) => Console.WriteLine($\"Refund for PayPal payment of ${amount}\");\n",
    "}\n",
    "\n",
    "public class BankTransferPayment : IPaymentMethodStrategy\n",
    "{\n",
    "    public void ProcessPayment(decimal amount) => Console.WriteLine($\"Bank transfer payment of ${amount}\");\n",
    "    public void Refund(decimal amount) => Console.WriteLine($\"Refund for bank transfer payment of ${amount}\");\n",
    "}\n",
    "\n",
    "// The Context Provides the interface which is going to be used by the Client.\n",
    "    public class PaymentProcessorContext\n",
    "    {\n",
    "        // The Context has a reference to one of the Strategy objects.\n",
    "        // The Context does not know the concrete class of a strategy. \n",
    "        // It should work with all strategies via the Strategy interface.\n",
    "        private IPaymentMethodStrategy paymentStrategy;\n",
    "\n",
    "        // The Client will set what TravelStrategy to use by calling this method at runtime\n",
    "        public void SetPaymentStrategy(IPaymentMethodStrategy strategy)\n",
    "        {\n",
    "            paymentStrategy = strategy;\n",
    "        }\n",
    "        // The Context delegates the work to the Strategy object instead of\n",
    "        // implementing multiple versions of the algorithm on its own.\n",
    "        public void ProcessPayment(decimal amount) => paymentStrategy.ProcessPayment(amount);\n",
    "\n",
    "         // The Context delegates the work to the Strategy object instead of\n",
    "        // implementing multiple versions of the algorithm on its own.\n",
    "        public void Refund(decimal amount)=> paymentStrategy.Refund(amount);\n",
    "    }\n",
    "    \n",
    "    \n",
    "    // Client code\n",
    "        \n",
    "        public enum PaymentMethods\n",
    "        {  \n",
    "            Bank = 1,  // 1 for Bank\n",
    "            CreditCard = 2,   // 2 for CreditCard\n",
    "            PayPal = 3, // 3 for Train\n",
    "        }\n",
    "     \n",
    "     private PaymentProcessorContext GetPaymentContext(PaymentMethods paymentMethod)\n",
    "     {\n",
    "        PaymentProcessorContext ctx = new PaymentProcessorContext();\n",
    "        //Based on the payment Method  Selected by user at Runtime,\n",
    "        //Create the Appropriate Travel Instance and call the SetPaymentStrategy method\n",
    "        // Dynamically select payment method\n",
    "        \n",
    "\n",
    "        switch (paymentMethod)\n",
    "        {\n",
    "            case PaymentMethods.Bank:\n",
    "                ctx.SetPaymentStrategy(new BankTransferPayment());\n",
    "                break;\n",
    "            case PaymentMethods.CreditCard:\n",
    "                ctx.SetPaymentStrategy(new CreditCardPayment());\n",
    "                break;\n",
    "            case PaymentMethods.PayPal:\n",
    "                ctx.SetPaymentStrategy(new PayPalPayment());\n",
    "                break;\n",
    "            default:\n",
    "                // Handle the default case (if needed)\n",
    "                 throw new Exception(\"Invalid payment method.\");\n",
    "            }\n",
    "            return ctx;\n",
    "     }\n",
    "\n",
    "        //Ask the user to Select the payment Method\n",
    "        Console.WriteLine(\"Please Enter payment Type : \\n1 for Bank \\n2 for CreditCard \\n3 for PayPal\");\n",
    "        int paymentMethod = 1 ;//Convert.ToInt32(Console.ReadLine());\n",
    "\n",
    "        Console.WriteLine(\"You Select payment type : \" + paymentMethod);\n",
    "        //Create an Instance of the PaymentContext class\n",
    "        \n",
    "        var paymentContext=GetPaymentContext((PaymentMethods)paymentMethod);\n",
    "        \n",
    "        var orderAmount=100;\n",
    "        paymentContext.ProcessPayment(orderAmount); \n",
    "        \n",
    "        var refundAmount=50;\n",
    "        paymentContext.Refund(refundAmount); "
   ]
  },
  {
   "cell_type": "code",
   "execution_count": null,
   "metadata": {
    "dotnet_interactive": {
     "language": "csharp"
    },
    "polyglot_notebook": {
     "kernelName": "csharp"
    },
    "vscode": {
     "languageId": "polyglot-notebook"
    }
   },
   "outputs": [],
   "source": [
    "using System;\n",
    "\n",
    "// Define a delegate for logging actions\n",
    "delegate void LogAction(string message);\n",
    "\n",
    "public class Logger\n",
    "{\n",
    "    private LogAction _logAction;\n",
    "\n",
    "    public Logger(LogAction logAction)\n",
    "    {\n",
    "        _logAction = logAction;\n",
    "    }\n",
    "\n",
    "    public void Log(string message)\n",
    "    {\n",
    "        _logAction(message);\n",
    "    }\n",
    "}\n",
    "\n",
    "    // Create a logger with different strategies (log to console and log to file)\n",
    "    var consoleLogger = new Logger(message => Console.WriteLine($\"Console Log: {message}\"));\n",
    "    var fileLogger = new Logger(message => System.IO.File.AppendAllText(\"log.txt\", $\"File Log: {message}\\n\"));\n",
    "\n",
    "    // Use the logger with different strategies\n",
    "    consoleLogger.Log(\"User logged in.\");\n",
    "    fileLogger.Log(\"Data saved successfully.\");\n"
   ]
  },
  {
   "cell_type": "markdown",
   "metadata": {},
   "source": [
    "> Above code is already using the strategy pattern.\n",
    "> The strategy pattern defines a family of algorithms, encapsulates each one, and makes them interchangeable.\n",
    "> In your case, the LogAction delegate is the strategy interface, and the Logger class uses this to perform its logging operation."
   ]
  },
  {
   "cell_type": "code",
   "execution_count": 1,
   "metadata": {
    "dotnet_interactive": {
     "language": "csharp"
    },
    "polyglot_notebook": {
     "kernelName": "csharp"
    },
    "vscode": {
     "languageId": "polyglot-notebook"
    }
   },
   "outputs": [
    {
     "name": "stdout",
     "output_type": "stream",
     "text": [
      "Console Log: User logged in.\r\n"
     ]
    }
   ],
   "source": [
    "using System;\n",
    "\n",
    "public interface ILogStrategy\n",
    "{\n",
    "    void Log(string message);\n",
    "}\n",
    "\n",
    "public class ConsoleLogStrategy : ILogStrategy\n",
    "{\n",
    "    public void Log(string message)\n",
    "    {\n",
    "        Console.WriteLine($\"Console Log: {message}\");\n",
    "    }\n",
    "}\n",
    "\n",
    "public class FileLogStrategy : ILogStrategy\n",
    "{\n",
    "    public void Log(string message)\n",
    "    {\n",
    "        System.IO.File.AppendAllText(\"log.txt\", $\"File Log: {message}\\n\");\n",
    "    }\n",
    "}\n",
    "\n",
    "public class Logger\n",
    "{\n",
    "    private ILogStrategy _logStrategy;\n",
    "\n",
    "    public Logger(ILogStrategy logStrategy)\n",
    "    {\n",
    "        _logStrategy = logStrategy;\n",
    "    }\n",
    "\n",
    "    public void Log(string message)\n",
    "    {\n",
    "        _logStrategy.Log(message);\n",
    "    }\n",
    "}\n",
    "\n",
    "// Usage:\n",
    "var consoleLogger = new Logger(new ConsoleLogStrategy());\n",
    "var fileLogger = new Logger(new FileLogStrategy());\n",
    "\n",
    "consoleLogger.Log(\"User logged in.\");\n",
    "fileLogger.Log(\"Data saved successfully.\");\n",
    "\n",
    "/*\n",
    "In above version,\n",
    "  - ILogStrategy is an interface that represents the strategy.\n",
    "  -  ConsoleLogStrategy and FileLogStrategy are concrete strategies that implement the ILogStrategy interface.\n",
    "  - The Logger class uses an ILogStrategy to perform its logging operation.\n",
    "\n",
    "This makes it clear that you’re using the strategy pattern.\n",
    "*/\n"
   ]
  },
  {
   "cell_type": "markdown",
   "metadata": {},
   "source": []
  },
  {
   "cell_type": "markdown",
   "metadata": {},
   "source": [
    "# Continue learning\n",
    "\n",
    "There are plenty more resources out there to learn!\n",
    "\n",
    "> [⏩ Next Module - Command Pattern](4.Command_Pattern.ipynb)\n",
    "> \n",
    "> [⏪ Last Module - Observer Pattern](2.Observer_Pattern.ipynb)\n",
    "\n",
    "> [Reference- strategy design-pattern](https://dotnettutorials.net/lesson/strategy-design-pattern/)"
   ]
  }
 ],
 "metadata": {
  "language_info": {
   "name": "python"
  },
  "orig_nbformat": 4
 },
 "nbformat": 4,
 "nbformat_minor": 2
}
