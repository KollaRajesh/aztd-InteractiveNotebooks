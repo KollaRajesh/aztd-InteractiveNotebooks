{
 "cells": [
  {
   "cell_type": "markdown",
   "metadata": {},
   "source": [
    "> ### Interpreter Pattern"
   ]
  },
  {
   "cell_type": "markdown",
   "metadata": {},
   "source": [
    ">  The Interpreter design pattern is a behavioral design pattern that defines a grammar for a language and provides an interpreter to interpret the language.\n",
    ">  \n",
    ">  The Interpreter pattern is used to define a language and provide a way to evaluate expressions in that language.  \n",
    ">  \n",
    ">  The Interpreter pattern is used to solve the following challenges:  \n",
    ">   \n",
    ">    - **Parsing**: The Interpreter pattern is used to parse and interpret expressions in a language .  \n",
    ">    - **Extensibility**: The Interpreter pattern is used to make a language more extensible by allowing new expressions to be added to the language .  \n",
    ">    - **Complexity**: The Interpreter pattern is used to manage the complexity of a language by breaking it down into smaller, more manageable parts. \n",
    ">  \n",
    ">  Here are some advantages of the Interpreter pattern:  \n",
    ">    \n",
    ">    - **Flexibility**: The Interpreter pattern is very flexible and can be used to define and interpret any language.  \n",
    ">    - **Extensibility**: The Interpreter pattern is very extensible and can be used to add new expressions to a language.  \n",
    ">    - **Simplicity**: The Interpreter pattern is very simple and easy to understand.  \n",
    ">  \n",
    ">  Here are some disadvantages of the Interpreter pattern:  \n",
    ">  \n",
    ">    - **Performance**: The Interpreter pattern can be slow and inefficient, especially for large expressions.  \n",
    ">    - **Complexity**: The Interpreter pattern can be complex and difficult to implement, especially for complex languages.  \n",
    ">  \n",
    ">  The Interpreter pattern consists of three key components:\n",
    ">    - The **Context** object contains information that is shared across all expressions in the language.  \n",
    ">    - The **AbstractExpression** object defines the interface for all expressions in the language.  \n",
    ">    - The **TerminalExpression** object represents a single expression in the language.  "
   ]
  },
  {
   "cell_type": "markdown",
   "metadata": {},
   "source": [
    "> Example 1: \n",
    ">\n",
    ">  In this example, we have a Context class that contains information that is shared across all expressions in the language.\n",
    ">  We also have an IExpression interface that defines the interface for all expressions in the language.\n",
    ">  We have three classes that represent a single expression in the language: ReverseExpression, UpperCaseExpression, and LowerCaseExpression.\n",
    ">  Each of these classes implements the Interpret method of the IExpression interface.\n",
    ">\n",
    "> In the client usage we create a Context object and a list of expressions.\n",
    ">  We then interpret each expression in the list using the Interpret method."
   ]
  },
  {
   "cell_type": "code",
   "execution_count": null,
   "metadata": {
    "dotnet_interactive": {
     "language": "csharp"
    },
    "polyglot_notebook": {
     "kernelName": "csharp"
    },
    "vscode": {
     "languageId": "polyglot-notebook"
    }
   },
   "outputs": [],
   "source": [
    "using System;\n",
    "\n",
    "    // The Context class contains information that is shared across all expressions in the language.\n",
    "    class Context\n",
    "    {\n",
    "        public string Input { get; set; }\n",
    "        public string Output { get; set; }\n",
    "\n",
    "        public Context(string input)\n",
    "        {\n",
    "            Input = input;\n",
    "        }\n",
    "    }\n",
    "\n",
    "    // The IExpression interface defines the interface for all expressions in the language.\n",
    "    interface IExpression\n",
    "    {\n",
    "        void Interpret(Context context);\n",
    "    }\n",
    "\n",
    "    // The ReverseExpression class represents a single expression in the language.\n",
    "    class ReverseExpression : IExpression\n",
    "    {\n",
    "        public void Interpret(Context context)\n",
    "        {\n",
    "            char[] charArray = context.Input.ToCharArray();\n",
    "            Array.Reverse(charArray);\n",
    "            context.Output = new string(charArray);\n",
    "\n",
    "            Console.WriteLine(context.Output);\n",
    "        }\n",
    "    }\n",
    "\n",
    "    // The UpperCaseExpression class represents a single expression in the language.\n",
    "    class UpperCaseExpression : IExpression\n",
    "    {\n",
    "        public void Interpret(Context context)\n",
    "        {\n",
    "            context.Output = context.Input.ToUpper();\n",
    "\n",
    "            Console.WriteLine(context.Output);\n",
    "        }\n",
    "    }\n",
    "\n",
    "    // The LowerCaseExpression class represents a single expression in the language.\n",
    "    class LowerCaseExpression : IExpression\n",
    "    {\n",
    "        public void Interpret(Context context)\n",
    "        {\n",
    "            context.Output = context.Input.ToLower();\n",
    "\n",
    "            Console.WriteLine(context.Output);\n",
    "        }\n",
    "    }\n",
    "\n",
    "//Client (or) outage\n",
    "Context context = new Context(\"Hello, World!\");\n",
    "\n",
    "// Create a list of expressions\n",
    "List<IExpression> expressions = new List<IExpression>();\n",
    "expressions.Add(new ReverseExpression());\n",
    "expressions.Add(new UpperCaseExpression());\n",
    "expressions.Add(new LowerCaseExpression());\n",
    "\n",
    "// Interpret the expressions\n",
    "foreach (IExpression expression in expressions)\n",
    "{\n",
    "    expression.Interpret(context);\n",
    "}\n"
   ]
  },
  {
   "cell_type": "markdown",
   "metadata": {},
   "source": [
    "# Continue learning\n",
    "\n",
    "There are plenty more resources out there to learn!\n",
    "\n",
    "> [⏩ Next Module - Chain Of Responsibility Pattern](10.Chain_Of%20_Responsibility_Pattern.ipynb)\n",
    "> \n",
    "> [⏪ Last Module - Memento Pattern](8.Memento_Pattern.ipynb)\n",
    "\n",
    "> [Reference- Interpreter Design Pattern](https://dofactory.com/net/interpreter-design-pattern)"
   ]
  }
 ],
 "metadata": {
  "language_info": {
   "name": "python"
  },
  "orig_nbformat": 4
 },
 "nbformat": 4,
 "nbformat_minor": 2
}
