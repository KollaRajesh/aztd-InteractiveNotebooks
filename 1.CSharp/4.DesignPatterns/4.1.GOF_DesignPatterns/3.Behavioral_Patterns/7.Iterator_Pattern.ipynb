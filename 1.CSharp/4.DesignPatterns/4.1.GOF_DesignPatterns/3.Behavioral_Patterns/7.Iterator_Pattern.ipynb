{
 "cells": [
  {
   "cell_type": "markdown",
   "metadata": {},
   "source": [
    "### Iterator Design Pattern"
   ]
  },
  {
   "cell_type": "markdown",
   "metadata": {},
   "source": [
    "> The Iterator Design Pattern is a behavioral design pattern that allows you to access the elements of an aggregate object sequentially without exposing its underlying representation.\n",
    ">  It provides a way to traverse different data structures12.\n",
    "> \n",
    "> - Challenges Solved by Iterator Design Pattern\n",
    ">   1. It allows the elements of an aggregate object to be accessed and traversed without exposing its representation (data structures).\n",
    ">   2. It enables defining new traversal operations for an aggregate object without changing its interface.\n",
    ">   3. It decouples algorithms from containers.\n",
    "> ---\n",
    "> - Advantages of Iterator Design Pattern\n",
    ">   1. It allows adding new operations to an object structure without changing the structure itself.\n",
    ">   2. It provides a uniform interface for traversing different data structures.\n",
    ">   3. It makes the code easier to use, understand, and test.\n",
    "> ---\n",
    "> - Disadvantages of Iterator Design Pattern\n",
    ">   1. The iterator can modify your elements since an instance of the element is sent to the Iterator.\n",
    ">   2. The code of the Element objects is spread out in all the Visitor objects.\n",
    ">   3. It necessitates one new Visitor class for every action.\n",
    "> ---\n",
    "> - Components of Iterator Design Pattern\n",
    ">   1. **Iterator**:\n",
    ">            -  It is defined as the method for accessing or traversing the elements list.\n",
    ">            -  It is responsible for providing methods that concrete iterators need to follow as well as implement.\n",
    ">   2. **ConcreteIterator**: Iterator interface functions are implemented by 'ConcreteIterator’.\n",
    ">   3. **Aggregate**: The fourth design participant is the aggregate which is defined as a collection interface that offers a function for creating an Iterator object.\n",
    ">   4. **ConcreteAggregate**: It is the last required participant which takes care of the implementation of the Aggregate interface.\n",
    "> ---\n",
    "> Code Examples of Iterator Design Pattern in C#."
   ]
  },
  {
   "cell_type": "markdown",
   "metadata": {},
   "source": [
    "> Example 1: Iterating over a Collection\n",
    "> In this example, we have a collection of items and we want to iterate over them."
   ]
  },
  {
   "cell_type": "code",
   "execution_count": 1,
   "metadata": {
    "dotnet_interactive": {
     "language": "csharp"
    },
    "polyglot_notebook": {
     "kernelName": "csharp"
    },
    "vscode": {
     "languageId": "polyglot-notebook"
    }
   },
   "outputs": [
    {
     "name": "stdout",
     "output_type": "stream",
     "text": [
      "Name : Robert\n",
      "Name : John\n",
      "Name : Julie\n",
      "Name : Lora\n"
     ]
    }
   ],
   "source": [
    "// Define an interface for an iterator\n",
    "public interface IIterator\n",
    "{\n",
    "    // Method to check if there is a next element in the collection\n",
    "    bool HasNext();\n",
    "    // Method to get the next element in the collection\n",
    "    object Next();\n",
    "}\n",
    "\n",
    "// Define an interface for a container that can return an iterator\n",
    "public interface IContainer\n",
    "{\n",
    "    // Method to get an iterator for the container\n",
    "    IIterator GetIterator();\n",
    "}\n",
    "\n",
    "// Define a concrete class for a container of names\n",
    "public class NameRepository : IContainer\n",
    "{\n",
    "    // Array of names\n",
    "    public string[] names = { \"Robert\", \"John\", \"Julie\", \"Lora\" };\n",
    "\n",
    "    // Return an iterator for the names\n",
    "    public IIterator GetIterator() => new NameIterator(this);\n",
    "\n",
    "    // Define a concrete class for an iterator of names\n",
    "    private class NameIterator : IIterator\n",
    "    {\n",
    "        // Index for the current position in the names array\n",
    "        int index;\n",
    "        // Reference to the NameRepository that this iterator iterates over\n",
    "        NameRepository _nameRepository;\n",
    "\n",
    "        // Constructor that takes a NameRepository\n",
    "        public NameIterator(NameRepository nameRepository) => _nameRepository = nameRepository;\n",
    "\n",
    "        // Check if there is a next name in the NameRepository\n",
    "        public bool HasNext()=> (index < _nameRepository.names.Length)?true: false;\n",
    "\n",
    "        // Get the next name in the NameRepository, or null if there are no more names\n",
    "        public object Next() => (this.HasNext())? _nameRepository.names[index++]: null;\n",
    "    }\n",
    "}\n",
    "//Client (or) Usage\n",
    "   NameRepository namesRepository = new NameRepository();\n",
    "   for (IIterator iter = namesRepository.GetIterator(); iter.HasNext();)\n",
    "   {\n",
    "      string name = (string)iter.Next();\n",
    "      Console.WriteLine(\"Name : \" + name);\n",
    "   }\n",
    "\n",
    "   \n",
    " /* In this example,\n",
    "   IIterator is the Iterator interface,\n",
    "   IContainer is the Aggregate interface, \n",
    "   NameRepository is the ConcreteAggregate class, and NameIterator is the ConcreteIterator class.\n",
    " */"
   ]
  },
  {
   "cell_type": "markdown",
   "metadata": {},
   "source": [
    "Example 2: Iterating over a List\n",
    "In this example, we have a list of integers and we want to iterate over them2."
   ]
  },
  {
   "cell_type": "code",
   "execution_count": null,
   "metadata": {
    "dotnet_interactive": {
     "language": "csharp"
    },
    "polyglot_notebook": {
     "kernelName": "csharp"
    },
    "vscode": {
     "languageId": "polyglot-notebook"
    }
   },
   "outputs": [],
   "source": [
    "// Interface for Iterator pattern\n",
    "public interface IIterator\n",
    "{\n",
    "    // Method to check if there is a next element\n",
    "    bool HasNext();\n",
    "    \n",
    "    // Method to get the next element\n",
    "    object Next();\n",
    "}\n",
    "\n",
    "// Interface for Container which returns an Iterator\n",
    "public interface IContainer\n",
    "{\n",
    "    // Method to get an Iterator\n",
    "    IIterator GetIterator();\n",
    "}\n",
    "\n",
    "// Concrete class implementing the Container interface\n",
    "public class NumberRepository : IContainer\n",
    "{\n",
    "    // List of numbers\n",
    "    public List<int> numbers = new List<int> { 1, 2, 3, 4, 5 };\n",
    "\n",
    "    // Returns an Iterator for the list of numbers\n",
    "    public IIterator GetIterator()\n",
    "    {\n",
    "        return new NumberIterator(this);\n",
    "    }\n",
    "\n",
    "    // Private class implementing the Iterator interface\n",
    "    private class NumberIterator : IIterator\n",
    "    {\n",
    "        // Index for current iteration\n",
    "        int index;\n",
    "        \n",
    "        // Instance of NumberRepository to iterate over\n",
    "        NumberRepository _numberRepository;\n",
    "\n",
    "        // Constructor to initialize the NumberRepository instance\n",
    "        public NumberIterator(NumberRepository numberRepository)\n",
    "        {\n",
    "            _numberRepository = numberRepository;\n",
    "        }\n",
    "\n",
    "        // Checks if there is a next element in the NumberRepository instance\n",
    "        public bool HasNext() =>  (index < _numberRepository.numbers.Count)? true : false;\n",
    "            \n",
    "        // Returns the next element in the NumberRepository instance\n",
    "        public object Next() => (this.HasNext()) ? _numberRepository.numbers[index++]: null;\n",
    "\n",
    "    }\n",
    "}\n",
    "\n",
    "//Client (or) Usage of Iterator Pattern\n",
    "NumberRepository numbersRepository = new NumberRepository();\n",
    "for (IIterator iter = numbersRepository.GetIterator(); iter.HasNext();)\n",
    "{\n",
    "    int number = (int)iter.Next();\n",
    "    Console.WriteLine(\"Number : \" + number);\n",
    "}\n",
    "\n",
    "/*\n",
    "In this example, \n",
    "    IIterator is the Iterator interface\n",
    "    IContainer is the Aggregate interface\n",
    "    NumberRepository is the ConcreteAggregate class\n",
    "and NumberIterator is the ConcreteIterator class.\n",
    "*/"
   ]
  },
  {
   "cell_type": "markdown",
   "metadata": {},
   "source": [
    "# Continue learning\n",
    "\n",
    "There are plenty more resources out there to learn!\n",
    "\n",
    "> [⏩ Next Module - Memento Pattern](8.Memento_Pattern.ipynb)\n",
    "> \n",
    "> [⏪ Last Module - Visitor Pattern](6.Visitor_Pattern.ipynb)\n",
    "\n",
    "> [Reference- Iterator Design Pattern](https://dotnettutorials.net/lesson/iterator-design-pattern/)"
   ]
  }
 ],
 "metadata": {
  "language_info": {
   "name": "python"
  },
  "orig_nbformat": 4
 },
 "nbformat": 4,
 "nbformat_minor": 2
}
