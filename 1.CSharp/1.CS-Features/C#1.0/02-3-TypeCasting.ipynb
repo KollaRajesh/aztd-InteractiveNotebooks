{
 "cells": [
  {
   "cell_type": "markdown",
   "metadata": {},
   "source": [
    "> ### Type Casting\n",
    ">    Version *C# 1.0*"
   ]
  },
  {
   "cell_type": "markdown",
   "metadata": {},
   "source": [
    "> In C#, type casting is the process of converting a value of one data type to another data type. \n",
    ">\n",
    "> There are two types of type casting in C#: implicit casting and explicit casting.\n",
    ">\n",
    "> **Implicit casting** is the automatic conversion of a smaller data type to a larger data type. \n",
    ">\n",
    "> **Explicit casting** is the manual conversion of a larger data type to a smaller data type.    \n",
    "> "
   ]
  },
  {
   "cell_type": "markdown",
   "metadata": {},
   "source": [
    "> Here is an example of implicit casting:\n",
    ">\n",
    ">For example, an `int` can be implicitly cast to a `long` because a `long` can hold a larger range of values than an `int`. "
   ]
  },
  {
   "cell_type": "code",
   "execution_count": null,
   "metadata": {
    "dotnet_interactive": {
     "language": "csharp"
    },
    "polyglot_notebook": {
     "kernelName": "csharp"
    },
    "vscode": {
     "languageId": "polyglot-notebook"
    }
   },
   "outputs": [],
   "source": [
    "int myInt = 10;\n",
    "Console.WriteLine($\"Type for {nameof(myInt)} is : {myInt.GetType()}\");\n",
    "Console.WriteLine($\"Value of {nameof(myInt)}:{myInt}\");\n",
    "Console.WriteLine();\n",
    "\n",
    "long myLong = myInt; // Implicit casting: int to long\n",
    "Console.WriteLine($\"Type for {nameof(myLong)} is : {myLong.GetType()}\");\n",
    "Console.WriteLine($\"Value of {nameof(myLong)}:{myLong}\");\n",
    "Console.WriteLine();"
   ]
  },
  {
   "cell_type": "markdown",
   "metadata": {},
   "source": [
    ">\n",
    "> Here is an example of explicit casting: \n",
    ">\n",
    "> For example, a `long` must be explicitly cast to an `int` because an `int` cannot hold the larger range of values that a `long` can hold.  \n",
    "> In this example, `myLong` is explicitly cast to an `int` using the `(int)` syntax."
   ]
  },
  {
   "cell_type": "code",
   "execution_count": null,
   "metadata": {
    "dotnet_interactive": {
     "language": "csharp"
    },
    "polyglot_notebook": {
     "kernelName": "csharp"
    },
    "vscode": {
     "languageId": "polyglot-notebook"
    }
   },
   "outputs": [],
   "source": [
    "long myLong = 123456789;\n",
    "Console.WriteLine($\"Type for {nameof(myLong)} is : {myLong.GetType()}\");\n",
    "Console.WriteLine($\"Value of {nameof(myLong)}:{myLong}\");\n",
    "Console.WriteLine();\n",
    "\n",
    "\n",
    "int myInt = (int)myLong; // Explicit casting: long to int\n",
    "Console.WriteLine($\"Type for {nameof(myInt)} is : {myInt.GetType()}\");\n",
    "Console.WriteLine($\"Value of {nameof(myInt)}:{myInt}\");\n",
    "Console.WriteLine();"
   ]
  },
  {
   "cell_type": "markdown",
   "metadata": {},
   "source": [
    "> Here are some examples of how to type cast different data types in C#:"
   ]
  },
  {
   "cell_type": "code",
   "execution_count": null,
   "metadata": {
    "dotnet_interactive": {
     "language": "csharp"
    },
    "polyglot_notebook": {
     "kernelName": "csharp"
    },
    "vscode": {
     "languageId": "polyglot-notebook"
    }
   },
   "outputs": [],
   "source": [
    "//Example -1 \n",
    "int myInt = 10;\n",
    "long myLong = myInt; // Implicit casting: int to long\n",
    "\n",
    "Console.WriteLine($\"Type for {nameof(myLong)} is : {myLong.GetType()}\");\n",
    "Console.WriteLine($\"Value of {nameof(myLong)}:{myLong}\");\n",
    "Console.WriteLine();\n",
    "\n",
    "//Example -2\n",
    "double myDouble = 3.14;\n",
    "int myInt2 = (int)myDouble; // Explicit casting: double to int\n",
    "\n",
    "Console.WriteLine($\"Type for {nameof(myDouble)} is : {myDouble.GetType()}\");\n",
    "Console.WriteLine($\"Value of {nameof(myDouble)}:{myDouble}\");\n",
    "Console.WriteLine();\n",
    "\n",
    "//Example -3\n",
    "float myFloat = 1.23f;\n",
    "double myDouble2 = myFloat; // Implicit casting: float to double\n",
    "\n",
    "Console.WriteLine($\"Type for {nameof(myDouble2)} is : {myDouble2.GetType()}\");\n",
    "Console.WriteLine($\"Value of {nameof(myDouble2)}:{myDouble2}\");\n",
    "Console.WriteLine();\n",
    "\n",
    "//Example -4\n",
    "int myInt3 = 10;\n",
    "byte myByte = (byte)myInt3; // Explicit casting: int to byte\n",
    "\n",
    "Console.WriteLine($\"Type for {nameof(myByte)} is : {myByte.GetType()}\");\n",
    "Console.WriteLine($\"Value of {nameof(myByte)}:{myByte}\");\n",
    "Console.WriteLine();"
   ]
  },
  {
   "cell_type": "markdown",
   "metadata": {},
   "source": [
    "### Convert class has lot functions to convert type to any other specific type.\n",
    "\n",
    "Here are some examples for each of the functions you requested:\n",
    "\n",
    "> - `System.Convert.ToBoolean`: This method converts a specified value to an equivalent Boolean value.   \n",
    ">    For example, `bool boolNum = System.Convert.ToBoolean(1);` will return `true`.  \n",
    ">\n",
    "> - `System.Convert.ToByte`: This method converts a specified value to an equivalent 8-bit unsigned integer.   \n",
    ">    For example, `byte byteNum = System.Convert.ToByte(255);` will return `255`.  \n",
    "> - `System.Convert.ToChar`: This method converts a specified value to an equivalent Unicode character.   \n",
    ">    For example, `char charNum = System.Convert.ToChar(65);` will return `A`.  \n",
    "> - `System.Convert.ToDateTime`: This method converts a specified value to an equivalent date and time.  \n",
    ">    For example, `DateTime dateNum = System.Convert.ToDateTime(\"2023-11-26\");` will return `11/26/2023 12:00:00 AM`.  \n",
    "> - `System.Convert.ToDecimal`: This method converts a specified value to an equivalent decimal number.  \n",
    ">     For example, `decimal decimalNum = System.Convert.ToDecimal(123.45);` will return `123.45`.  \n",
    "> - `System.Convert.ToDouble`: This method converts a specified value to an equivalent double-precision floating-point number.   \n",
    ">    For example, `double doubleNum = System.Convert.ToDouble(123.45);` will return `123.45`.  \n",
    "> - `System.Convert.ToInt16`: This method converts a specified value to an equivalent 16-bit signed integer.   \n",
    ">    For example, `short shortNum = System.Convert.ToInt16(123);` will return `123`.  \n",
    "> - `System.Convert.ToInt32`: This method converts a specified value to an equivalent 32-bit signed integer.   \n",
    ">    For example, `int intNum = System.Convert.ToInt32(123);` will return `123`.  \n",
    "> - `System.Convert.ToInt64`: This method converts a specified value to an equivalent 64-bit signed integer.   \n",
    ">    For example, `long longNum = System.Convert.ToInt64(123);` will return `123`.  \n",
    "> - `System.Convert.ToSByte`: This method converts a specified value to an equivalent 8-bit signed integer.   \n",
    ">    For example, `sbyte sbyteNum = System.Convert.ToSByte(-128);` will return `-128`.  \n",
    "> - `System.Convert.ToSingle`: This method converts a specified value to an equivalent single-precision floating-point number.  \n",
    ">    For example, `float floatNum = System.Convert.ToSingle(123.45);` will return `123.45`.  \n",
    "> - `System.Convert.ToString`: This method converts a specified value to its equivalent string representation.   \n",
    ">    For example, `string stringNum = System.Convert.ToString(123);` will return `\"123\"`.  \n",
    "> - `System.Convert.ToUInt16`: This method converts a specified value to an equivalent 16-bit unsigned integer.   \n",
    ">    For example, `ushort ushortNum = System.Convert.ToUInt16(123);` will return `123`.  \n",
    "> - `System.Convert.ToUInt32`: This method converts a specified value to an equivalent 32-bit unsigned integer.   \n",
    ">    For example, `uint uintNum = System.Convert.ToUInt32(123);` will return `123`.  \n",
    "> - `System.Convert.ToUInt64`: This method converts a specified value to an equivalent 64-bit unsigned integer.   \n",
    ">     For example, `ulong ulongNum = System.Convert.ToUInt64(123);` will return `123`.  \n",
    "\n"
   ]
  },
  {
   "cell_type": "code",
   "execution_count": null,
   "metadata": {
    "dotnet_interactive": {
     "language": "csharp"
    },
    "polyglot_notebook": {
     "kernelName": "csharp"
    },
    "vscode": {
     "languageId": "polyglot-notebook"
    }
   },
   "outputs": [],
   "source": [
    "bool boolNum = System.Convert.ToBoolean(1);\n",
    "Console.WriteLine($\"Type for {nameof(boolNum)} is : {boolNum.GetType()}\");\n",
    "Console.WriteLine($\"Value of {nameof(boolNum)}:{boolNum}\");\n",
    "Console.WriteLine();\n",
    "\n",
    "\n",
    "byte byteNum = System.Convert.ToByte(255);\n",
    "\n",
    "Console.WriteLine($\"Type for {nameof(byteNum)} is : {byteNum.GetType()}\");\n",
    "Console.WriteLine($\"Value of {nameof(byteNum)}:{byteNum}\");\n",
    "Console.WriteLine();\n",
    "\n",
    "char charNum = System.Convert.ToChar(65);\n",
    "Console.WriteLine($\"Type for {nameof(charNum)} is : {charNum.GetType()}\");\n",
    "Console.WriteLine($\"Value of {nameof(charNum)}:{charNum}\");\n",
    "Console.WriteLine();\n",
    "\n",
    "DateTime dateNum = System.Convert.ToDateTime(\"2023-11-26\");\n",
    "Console.WriteLine($\"Type for {nameof(dateNum)} is : {dateNum.GetType()}\");\n",
    "Console.WriteLine($\"Value of {nameof(dateNum)}:{dateNum}\");\n",
    "Console.WriteLine();\n",
    "\n",
    "decimal decimalNum = System.Convert.ToDecimal(123.45);\n",
    "Console.WriteLine($\"Type for {nameof(decimalNum)} is : {decimalNum.GetType()}\");\n",
    "Console.WriteLine($\"Value of {nameof(decimalNum)}:{decimalNum}\");\n",
    "Console.WriteLine();\n",
    "\n",
    "double doubleNum = System.Convert.ToDouble(123.45);\n",
    "Console.WriteLine($\"Type for {nameof(doubleNum)} is : {doubleNum.GetType()}\");\n",
    "Console.WriteLine($\"Value of {nameof(doubleNum)}:{doubleNum}\");\n",
    "Console.WriteLine();\n",
    "\n",
    "short shortNum = System.Convert.ToInt16(123);\n",
    "Console.WriteLine($\"Type for {nameof(shortNum)} is : {shortNum.GetType()}\");\n",
    "Console.WriteLine($\"Value of {nameof(shortNum)}:{shortNum}\");\n",
    "Console.WriteLine();\n",
    "\n",
    "\n",
    "int intNum = System.Convert.ToInt32(123);\n",
    "Console.WriteLine($\"Type for {nameof(intNum)} is : {intNum.GetType()}\");\n",
    "Console.WriteLine($\"Value of {nameof(intNum)}:{intNum}\");\n",
    "Console.WriteLine();\n",
    "\n",
    "long longNum = System.Convert.ToInt64(123);\n",
    "Console.WriteLine($\"Type for {nameof(longNum)} is : {longNum.GetType()}\");\n",
    "Console.WriteLine($\"Value of {nameof(longNum)}:{longNum}\");\n",
    "Console.WriteLine();\n",
    "\n",
    "sbyte sbyteNum = System.Convert.ToSByte(-128);\n",
    "Console.WriteLine($\"Type for {nameof(sbyteNum)} is : {sbyteNum.GetType()}\");\n",
    "Console.WriteLine($\"Value of {nameof(sbyteNum)}:{sbyteNum}\");\n",
    "Console.WriteLine();\n",
    "\n",
    "float floatNum = System.Convert.ToSingle(123.45);\n",
    "Console.WriteLine($\"Type for {nameof(floatNum)} is : {floatNum.GetType()}\");\n",
    "Console.WriteLine($\"Value of {nameof(floatNum)}:{floatNum}\");\n",
    "Console.WriteLine();\n",
    "\n",
    "string stringNum = System.Convert.ToString(123);\n",
    "Console.WriteLine($\"Type for {nameof(stringNum)} is : {stringNum.GetType()}\");\n",
    "Console.WriteLine($\"Value of {nameof(stringNum)}:{stringNum}\");\n",
    "Console.WriteLine();\n",
    "\n",
    "ushort ushortNum = System.Convert.ToUInt16(123);\n",
    "Console.WriteLine($\"Type for {nameof(ushortNum)} is : {ushortNum.GetType()}\");\n",
    "Console.WriteLine($\"Value of {nameof(ushortNum)}:{ushortNum}\");\n",
    "Console.WriteLine();\n",
    "\n",
    "uint uintNum = System.Convert.ToUInt32(123);\n",
    "Console.WriteLine($\"Type for {nameof(uintNum)} is : {uintNum.GetType()}\");\n",
    "Console.WriteLine($\"Value of {nameof(uintNum)}:{uintNum}\");\n",
    "Console.WriteLine();\n",
    "\n",
    "ulong ulongNum = System.Convert.ToUInt64(123);\n",
    "Console.WriteLine($\"Type for {nameof(ulongNum)} is : {ulongNum.GetType()}\");\n",
    "Console.WriteLine($\"Value of {nameof(ulongNum)}:{ulongNum}\");\n",
    "Console.WriteLine();"
   ]
  },
  {
   "cell_type": "markdown",
   "metadata": {},
   "source": [
    "> `Parse` or `TryParse` method found on numeric types (int, long, double, and so on) is used to convert a string to a number/\n",
    ">\n",
    "> Here are some examples of how to use `Parse` and `TryParse` functions in C#\n",
    ">\n",
    ">In this example, `Parse` is used to convert a `string` to an `int`, `TryParse` is used to convert a `string` to an `int`, and `TryParse` is used to convert a `string` to a `double`.\n"
   ]
  },
  {
   "cell_type": "code",
   "execution_count": null,
   "metadata": {
    "dotnet_interactive": {
     "language": "csharp"
    },
    "polyglot_notebook": {
     "kernelName": "csharp"
    },
    "vscode": {
     "languageId": "polyglot-notebook"
    }
   },
   "outputs": [],
   "source": [
    "\n",
    "string myString = \"123\";\n",
    "int myInt = int.Parse(myString); // Parse string to int\n",
    "Console.WriteLine($\"Type for {nameof(myInt)} is : {myInt.GetType()}\");\n",
    "Console.WriteLine($\"Value of {nameof(myInt)}:{myInt}\");\n",
    "Console.WriteLine();\n",
    "\n",
    "string myString2 = \"abc\";\n",
    "int myInt2;\n",
    "bool success = int.TryParse(myString2, out myInt2); // TryParse string to int\n",
    "Console.WriteLine($\"Type for {nameof(myInt2)} is : {myInt2.GetType()}\");\n",
    "Console.WriteLine($\"Value of {nameof(myInt2)}:{myInt2}\");\n",
    "Console.WriteLine();\n",
    "\n",
    "string myString3 = \"3.14\";\n",
    "double myDouble;\n",
    "bool success2 = double.TryParse(myString3, out myDouble); // TryParse string to double\n",
    "Console.WriteLine($\"Type for {nameof(myDouble)} is : {myDouble.GetType()}\");\n",
    "Console.WriteLine($\"Value of {nameof(myDouble)}:{myDouble}\");\n",
    "Console.WriteLine();\n"
   ]
  },
  {
   "cell_type": "markdown",
   "metadata": {},
   "source": [
    ">  ### Boxing and Unboxing \n",
    ">\n",
    ">  In C#, `boxing` is the process of converting a value type to the type `object` or to any interface type implemented by this value type. \n",
    ">    When the Common Language Runtime (CLR) boxes a value type, it wraps the value inside a `System.Object` instance and stores it on the managed heap.\n",
    ">\n",
    ">  `Unboxing` extracts the value type from the object. Boxing is implicit; unboxing is explicit.\n",
    ">\n",
    ">  Here is an example of boxing and unboxing in C#:\n",
    ">\n",
    ">  In this example, `i` is a value type that is boxed and assigned to `o`. The value of `o` is then unboxed and assigned to `j`."
   ]
  },
  {
   "cell_type": "code",
   "execution_count": null,
   "metadata": {
    "dotnet_interactive": {
     "language": "csharp"
    },
    "polyglot_notebook": {
     "kernelName": "csharp"
    },
    "vscode": {
     "languageId": "polyglot-notebook"
    }
   },
   "outputs": [],
   "source": [
    "int i = 123; // value type\n",
    "object o = i; // boxing\n",
    "int j = (int)o; // unboxing\n",
    "\n",
    "// In C#, `static` keyword is used to declare a class or a member of a class as static. A `static` class is a class that cannot be instantiated and can only contain static members. A `static` member is a member that belongs to the class itself, rather than to instances of the class ².\n",
    "\n",
    "// Here is an example of a `static` property in C#:\n",
    "\n",
    "// ```csharp\n",
    "// class MyClass {\n",
    "//     private static int _count;\n",
    "//     public static int Count {\n",
    "//         get { return _count; }\n",
    "//         set { _count = value; }\n",
    "//     }\n",
    "// }\n",
    "// ```\n",
    "\n",
    "// In this example, `Count` is a `static` property of the `MyClass` class. The `Count` property can be accessed without creating an instance of the `MyClass` class ².\n",
    "\n",
    "\n"
   ]
  },
  {
   "cell_type": "markdown",
   "metadata": {},
   "source": [
    "# Continue learning\n",
    "\n",
    "There are plenty more resources out there to learn!\n",
    "\n",
    "> [⏩ Next Module - Enum Type ](02-4-Enum.ipynb)\n",
    ">\n",
    "> [⏪ Last Module - Variable - access modifiers](02-2-Variables-Access-Modifiers.ipynb)\n",
    ">\n",
    "> [Microsoft Learn Reference: Casting and type conversions](https://learn.microsoft.com/en-us/dotnet/csharp/programming-guide/types/casting-and-type-conversions)  \n",
    ">\n",
    "> [Microsoft Learn Reference: Convert](https://learn.microsoft.com/en-us/dotnet/api/system.convert?view=net-8.0)\n",
    ">\n",
    "> [Int16.TryParse Method](https://learn.microsoft.com/en-us/dotnet/api/system.int16.tryparse?view=net-7.0)\n",
    "> [Boxing and Unboxing ](https://learn.microsoft.com/en-us/dotnet/csharp/programming-guide/types/boxing-and-unboxing)"
   ]
  }
 ],
 "metadata": {
  "language_info": {
   "name": "python"
  },
  "orig_nbformat": 4
 },
 "nbformat": 4,
 "nbformat_minor": 2
}
