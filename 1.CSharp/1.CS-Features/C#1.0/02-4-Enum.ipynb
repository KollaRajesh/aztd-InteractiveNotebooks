{
 "cells": [
  {
   "cell_type": "markdown",
   "metadata": {},
   "source": [
    "> ### Data Types in C#\n",
    ">    Version *C# 1.0*\n",
    ">\n",
    "> C# has two main categories of data types: **value types** and **reference types**. "
   ]
  },
  {
   "cell_type": "markdown",
   "metadata": {},
   "source": [
    ">  An enumeration type (or enum type) is a value type defined by a set of named constants of the underlying integral numeric type.  \n",
    ">  To define an enumeration type, use the `enum` keyword and specify the names of enum members.   \n",
    ">  By default, the associated constant values of enum members are of type `int`;   \n",
    ">  They start with zero and increase by one following the definition text order.   \n",
    ">  You can explicitly specify any other integral numeric type as an underlying type of an enumeration type.  \n",
    ">  You can also explicitly specify the associated constant values .   \n"
   ]
  },
  {
   "cell_type": "markdown",
   "metadata": {},
   "source": [
    ">  Here is an example of how to define an enumeration type in C#:\n",
    ">\n",
    ">  In this example, `Season` is an enumeration type that defines four named constants: `Spring`, `Summer`, `Autumn`, and `Winter`.   \n",
    ">  By default, the associated constant values of these enum members are of type `int`, and they start with zero and increase by one following the definition text order."
   ]
  },
  {
   "cell_type": "code",
   "execution_count": null,
   "metadata": {
    "dotnet_interactive": {
     "language": "csharp"
    },
    "polyglot_notebook": {
     "kernelName": "csharp"
    },
    "vscode": {
     "languageId": "polyglot-notebook"
    }
   },
   "outputs": [],
   "source": [
    "enum Season\n",
    "{\n",
    "    Spring,\n",
    "    Summer,\n",
    "    Autumn,\n",
    "    Winter\n",
    "}\n",
    "Season Currentseason=Season.Autumn;\n",
    "\n",
    "if(Currentseason!=Season.Spring)\n",
    "{\n",
    "    Console.WriteLine(Currentseason.ToString()+ \" is not \"+Season.Spring );\n",
    "}\n",
    "\n",
    "\n"
   ]
  },
  {
   "cell_type": "markdown",
   "metadata": {},
   "source": [
    ">  Here is another example of how to define an enumeration type with an underlying type and explicit constant values:  \n",
    ">  \n",
    "> In this example, `ErrorCode` is an enumeration type that specifies `ushort` as its underlying type. The associated constant values of the enum members are explicitly specified."
   ]
  },
  {
   "cell_type": "code",
   "execution_count": null,
   "metadata": {
    "dotnet_interactive": {
     "language": "csharp"
    },
    "polyglot_notebook": {
     "kernelName": "csharp"
    },
    "vscode": {
     "languageId": "polyglot-notebook"
    }
   },
   "outputs": [],
   "source": [
    "enum ErrorCode : ushort\n",
    "{\n",
    "    None = 0,\n",
    "    Unknown = 1,\n",
    "    ConnectionLost = 100,\n",
    "    OutlierReading = 200\n",
    "}\n",
    "\n",
    "ErrorCode errorCode=ErrorCode.ConnectionLost;\n",
    "\n",
    "if(errorCode==ErrorCode.ConnectionLost)\n",
    "{\n",
    "    Console.WriteLine(errorCode.ToString()+ \" is not \"+ errorCode);\n",
    "}\n"
   ]
  },
  {
   "cell_type": "markdown",
   "metadata": {},
   "source": [
    "# Continue learning\n",
    "\n",
    "There are plenty more resources out there to learn!\n",
    "\n",
    "> [⏩ Next Module - Basics of Strings](02.BasicsOfStrings.ipynb)\n",
    ">\n",
    "> [⏪ Last Module - Type Casting](02-3-TypeCasting.ipynb)\n",
    ">\n",
    ">[Microsoft Learn Reference: enums](https://learn.microsoft.com/en-us/dotnet/csharp/language-reference/language-specification/enums)   \n",
    ">[CSharp language-reference builtin-types enum](https://learn.microsoft.com/en-us/dotnet/csharp/language-reference/builtin-types/enum)"
   ]
  }
 ],
 "metadata": {
  "language_info": {
   "name": "python"
  },
  "orig_nbformat": 4
 },
 "nbformat": 4,
 "nbformat_minor": 2
}
