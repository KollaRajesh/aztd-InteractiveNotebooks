{
 "cells": [
  {
   "cell_type": "markdown",
   "metadata": {},
   "source": [
    "### Break , Continue and Return in the loops"
   ]
  },
  {
   "cell_type": "markdown",
   "metadata": {},
   "source": [
    "> **break, continue, and return** statements are used in loops to control the flow of execution.   \n",
    ">  \n",
    ">  Here’s a brief description of each statement:"
   ]
  },
  {
   "cell_type": "markdown",
   "metadata": {},
   "source": [
    "> 1. **break** : The *break* statement is used to exit a loop early. When executed, it causes the program to jump to the first statement after the loop.  \n",
    ">  \n",
    "> Here’s an example:"
   ]
  },
  {
   "cell_type": "code",
   "execution_count": null,
   "metadata": {
    "dotnet_interactive": {
     "language": "csharp"
    },
    "polyglot_notebook": {
     "kernelName": "csharp"
    },
    "vscode": {
     "languageId": "polyglot-notebook"
    }
   },
   "outputs": [],
   "source": [
    "for (int i = 0; i < 10; i++)\n",
    "{\n",
    "    if (i == 5)\n",
    "    {\n",
    "        break;\n",
    "    }\n",
    "    Console.WriteLine(i);\n",
    "}\n",
    "//In this example, the loop will exit when i is equal to 5, and the program will print the numbers 0 through 4."
   ]
  },
  {
   "cell_type": "markdown",
   "metadata": {},
   "source": [
    "> 2. **continue**: The **continue** statement is used to skip the current iteration of a loop and move on to the next iteration.  \n",
    "> \n",
    "> Here’s an example:"
   ]
  },
  {
   "cell_type": "code",
   "execution_count": null,
   "metadata": {
    "dotnet_interactive": {
     "language": "csharp"
    },
    "polyglot_notebook": {
     "kernelName": "csharp"
    },
    "vscode": {
     "languageId": "polyglot-notebook"
    }
   },
   "outputs": [],
   "source": [
    "for (int i = 0; i < 10; i++)\n",
    "{\n",
    "    if (i == 5)\n",
    "    {\n",
    "        continue;\n",
    "    }\n",
    "    Console.WriteLine(i);\n",
    "}\n",
    "\n",
    "//In this example, the loop will skip the iteration when i is equal to 5, and the program will print the numbers 0 through 9, except for 5.\n"
   ]
  },
  {
   "cell_type": "markdown",
   "metadata": {},
   "source": [
    "> 3. **return**: The return statement is used to exit a method early and return a value to the caller.\n",
    ">\n",
    "> Here’s an example:"
   ]
  },
  {
   "cell_type": "code",
   "execution_count": null,
   "metadata": {
    "dotnet_interactive": {
     "language": "csharp"
    },
    "polyglot_notebook": {
     "kernelName": "csharp"
    },
    "vscode": {
     "languageId": "polyglot-notebook"
    }
   },
   "outputs": [],
   "source": [
    "public int Sum(int a, int b)\n",
    "{\n",
    "    if (a < 0 || b < 0)\n",
    "    {\n",
    "        return -1;\n",
    "    }\n",
    "    return a + b;\n",
    "}\n",
    "Sum(1,2).Display();\n",
    "\n",
    "//In this example, the Sum method will return -1 if either a or b is negative. Otherwise, it will return the sum of a and b"
   ]
  },
  {
   "cell_type": "markdown",
   "metadata": {},
   "source": [
    "# Continue learning\n",
    "\n",
    "There are plenty more resources out there to learn!\n",
    "> [⏩ Next Module - Objects and Classes](13.0.Objects_And_Classes.ipynb)\n",
    ">\n",
    "> [⏪ Last Module - Lists Of Other Types](12.0.Lists_Of_Other_Types.ipynb)\n",
    ">\n",
    "> [Documentation: Pattern matching](https://learn.microsoft.com/en-us/archive/msdn-magazine/2019/may/csharp-8-0-pattern-matching-in-csharp-8-0)"
   ]
  }
 ],
 "metadata": {
  "language_info": {
   "name": "python"
  },
  "orig_nbformat": 4
 },
 "nbformat": 4,
 "nbformat_minor": 2
}
