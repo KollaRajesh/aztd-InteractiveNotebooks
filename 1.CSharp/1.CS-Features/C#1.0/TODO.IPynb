{
 "cells": [
  {
   "cell_type": "code",
   "execution_count": null,
   "metadata": {
    "dotnet_interactive": {
     "language": "csharp"
    },
    "polyglot_notebook": {
     "kernelName": "csharp"
    },
    "vscode": {
     "languageId": "polyglot-notebook"
    }
   },
   "outputs": [],
   "source": [
    "//TODO: \n",
    "\n",
    "      //IDisposable \n",
    "      //Using \n",
    "      //IObservable<>\n",
    "      //IObserver<>\n",
    "\n",
    "// Type Script \n",
    "//.NET CORE\n",
    "//ASP.NET CORE \n",
    "//.NET CORE \n",
    "\n",
    "//Cloud Design Patterns\n",
    "\n",
    "// Python\n",
    "// Powershell\n",
    "\n",
    "\n",
    "// What is Chain of Responsibility design pattern ? what are the challenges solved by Chain of Responsibility  design pattern \n",
    "// What are the Advantages and Disadvantages with Chain of Responsibility  pattern  and \n",
    "// what are the components of Chain of Responsibility  Design pattern \n",
    "// Provide two code examples of Chain of Responsibility  Design Pattern using C# and explain them step by step  \n"
   ]
  }
 ],
 "metadata": {
  "language_info": {
   "name": "python"
  },
  "orig_nbformat": 4
 },
 "nbformat": 4,
 "nbformat_minor": 2
}
