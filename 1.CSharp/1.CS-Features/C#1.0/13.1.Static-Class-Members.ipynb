{
 "cells": [
  {
   "cell_type": "markdown",
   "metadata": {},
   "source": [
    "> ### Static Class and members\n",
    ">    Version *C# 1.0*"
   ]
  },
  {
   "cell_type": "markdown",
   "metadata": {},
   "source": [
    ">  In C#, the `static` keyword is used to declare a class or a member of a class as static.\n",
    ">  A `static` class is a class that cannot be instantiated and can only contain static members.\n",
    ">  A `static` member is a member that belongs to the class itself, rather than to instances of the class ¹².\n",
    "> \n",
    ">  Here are some key features of `static` classes and members:\n",
    ">\n",
    ">   - A `static` class cannot be instantiated.\n",
    ">   - A `static` member belongs to the class itself, rather than to instances of the class.\n",
    ">   - `static` members can be accessed without creating an instance of the class.\n",
    ">   - `static` members cannot access non-static members of the class.\n",
    ">   - `static` members can be used to create utility classes that contain only `static` members."
   ]
  },
  {
   "cell_type": "markdown",
   "metadata": {},
   "source": [
    "> Here is an example of a `static` class in C#:\n",
    ">\n",
    "> In this example, `UtilityClass` is a `static` class that contains a `static` method `MethodA()`.\n",
    "> The `MethodA()` method can be called without creating an instance of the `UtilityClass` class ¹."
   ]
  },
  {
   "cell_type": "code",
   "execution_count": null,
   "metadata": {
    "dotnet_interactive": {
     "language": "csharp"
    },
    "polyglot_notebook": {
     "kernelName": "csharp"
    },
    "vscode": {
     "languageId": "polyglot-notebook"
    }
   },
   "outputs": [],
   "source": [
    "static class UtilityClass {\n",
    "    public static void MethodA() {\n",
    "        Console.WriteLine(\"MethodA called\");\n",
    "    }\n",
    "}\n",
    "UtilityClass.MethodA();"
   ]
  },
  {
   "cell_type": "markdown",
   "metadata": {},
   "source": [
    "> Here is an example of a `static` property in C#:\n",
    ">\n",
    ">\n",
    "> In this example, `Count` is a `static` property of the `MyClass` class. \n",
    "> The `Count` property can be accessed without creating an instance of the `MyClass` class ."
   ]
  },
  {
   "cell_type": "code",
   "execution_count": null,
   "metadata": {
    "dotnet_interactive": {
     "language": "csharp"
    },
    "polyglot_notebook": {
     "kernelName": "csharp"
    },
    "vscode": {
     "languageId": "polyglot-notebook"
    }
   },
   "outputs": [],
   "source": [
    "class MyClass {\n",
    "    private static int _count;\n",
    "    public static int Count {\n",
    "        get { return _count; }\n",
    "        set { _count = value; }\n",
    "    }\n",
    "}\n",
    "\n",
    "MyClass.Count=4;\n",
    "Console.WriteLine(MyClass.Count);"
   ]
  },
  {
   "cell_type": "markdown",
   "metadata": {},
   "source": [
    "# Continue learning\n",
    "\n",
    "There are plenty more resources out there to learn!\n",
    "\n",
    "> [⏩ Next Module - Abstract Class and members ](13.2.Abstract-Class-Members.ipynb)\n",
    ">\n",
    "> [⏪ Last Module - Objects and Classes](13.0.Objects_And_Classes.ipynb)\n",
    ">\n",
    "> [Reference- static - C#](https://learn.microsoft.com/en-us/dotnet/csharp/programming-guide/classes-and-structs/static-classes-and-static-class-members)"
   ]
  }
 ],
 "metadata": {
  "language_info": {
   "name": "python"
  },
  "orig_nbformat": 4
 },
 "nbformat": 4,
 "nbformat_minor": 2
}
