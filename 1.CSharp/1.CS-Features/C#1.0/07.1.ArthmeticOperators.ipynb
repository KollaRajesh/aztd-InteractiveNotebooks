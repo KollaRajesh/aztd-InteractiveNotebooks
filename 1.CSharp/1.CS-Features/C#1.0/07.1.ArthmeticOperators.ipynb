{
 "cells": [
  {
   "cell_type": "markdown",
   "metadata": {},
   "source": [
    "> ### Logical Operator:\n",
    ">    Version *C# 1.0*"
   ]
  },
  {
   "cell_type": "markdown",
   "metadata": {},
   "source": [
    ">  C# provides several arithmetic operators that can be used to perform arithmetic operations with numeric operands.   \n",
    ">\n",
    ">  Here are the arithmetic operators in C# and an example for each operator:"
   ]
  },
  {
   "cell_type": "markdown",
   "metadata": {},
   "source": [
    "> 1. **Addition operator (+)** : The addition operator returns the sum of its operands. "
   ]
  },
  {
   "cell_type": "code",
   "execution_count": null,
   "metadata": {
    "dotnet_interactive": {
     "language": "csharp"
    },
    "polyglot_notebook": {
     "kernelName": "csharp"
    },
    "vscode": {
     "languageId": "polyglot-notebook"
    }
   },
   "outputs": [],
   "source": [
    "int a = 3;\n",
    "int b = 4;\n",
    "int c = a + b;\n",
    "Console.WriteLine(c); // Output: 7"
   ]
  },
  {
   "cell_type": "markdown",
   "metadata": {},
   "source": [
    "> 2. **Subtraction operator (-)**: The subtraction operator returns the difference of its operands.   \n",
    "> For example:"
   ]
  },
  {
   "cell_type": "code",
   "execution_count": null,
   "metadata": {
    "dotnet_interactive": {
     "language": "csharp"
    },
    "polyglot_notebook": {
     "kernelName": "csharp"
    },
    "vscode": {
     "languageId": "polyglot-notebook"
    }
   },
   "outputs": [],
   "source": [
    "int a = 3;\n",
    "int b = 4;\n",
    "int c = a * b;\n",
    "Console.WriteLine(c); // Output: 12\n"
   ]
  },
  {
   "cell_type": "markdown",
   "metadata": {},
   "source": [
    "> 3. **Division operator (/)**: The division operator returns the quotient of its operands.  \n",
    "> For example:"
   ]
  },
  {
   "cell_type": "code",
   "execution_count": null,
   "metadata": {
    "dotnet_interactive": {
     "language": "csharp"
    },
    "polyglot_notebook": {
     "kernelName": "csharp"
    },
    "vscode": {
     "languageId": "polyglot-notebook"
    }
   },
   "outputs": [],
   "source": [
    "int a = 12;\n",
    "int b = 4;\n",
    "int c = a / b;\n",
    "Console.WriteLine(c); // Output: 3\n"
   ]
  },
  {
   "cell_type": "markdown",
   "metadata": {},
   "source": [
    "> 4. **Modulus operator (%)** : The modulus operator returns the remainder of its operands.\n",
    "> For example:"
   ]
  },
  {
   "cell_type": "code",
   "execution_count": null,
   "metadata": {
    "dotnet_interactive": {
     "language": "csharp"
    },
    "polyglot_notebook": {
     "kernelName": "csharp"
    },
    "vscode": {
     "languageId": "polyglot-notebook"
    }
   },
   "outputs": [],
   "source": [
    "int a = 12;\n",
    "int b = 5;\n",
    "int c = a % b;\n",
    "Console.WriteLine(c); // Output: 2"
   ]
  },
  {
   "cell_type": "markdown",
   "metadata": {},
   "source": [
    "# Continue learning\n",
    "\n",
    "There are plenty more resources out there to learn!\n",
    "\n",
    "> [⏩ Next Module - Conditional Operators](07.2.ConditionalOperators.ipynb)\n",
    ">\n",
    "> [⏪ Last Module - Logical Operators](07.0.logicalOperators.ipynb)\n",
    ">\n",
    "> [Reference-  Logical Operator ](https://learn.microsoft.com/en-us/dotnet/csharp/language-reference/operators/boolean-logical-operators)"
   ]
  }
 ],
 "metadata": {
  "language_info": {
   "name": "python"
  },
  "orig_nbformat": 4
 },
 "nbformat": 4,
 "nbformat_minor": 2
}
