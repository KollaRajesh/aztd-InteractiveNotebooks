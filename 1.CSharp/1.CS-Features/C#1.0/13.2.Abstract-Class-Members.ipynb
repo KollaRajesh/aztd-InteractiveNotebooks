{
 "cells": [
  {
   "cell_type": "markdown",
   "metadata": {},
   "source": [
    "> ### Abstract \n",
    ">    Version *C# 1.0*"
   ]
  },
  {
   "cell_type": "markdown",
   "metadata": {},
   "source": [
    ">  In C#, the `abstract` keyword is used to indicate that a class or a member of a class is incomplete and must be implemented by a derived class.  \n",
    ">  The `abstract` modifier can be used with classes, methods, properties, indexers, and events.  \n",
    ">\n",
    ">\n",
    ">   Abstract classes have the following features:\n",
    ">    - An abstract class cannot be instantiated.\n",
    ">    - An abstract class may contain abstract methods and accessors.\n",
    ">     - A non-abstract class derived from an abstract class must include actual implementations of all inherited abstract methods and accessors ¹.\n",
    ">\n",
    ">  Abstract methods are implicitly virtual and can only be declared in an abstract class. They do not contain any implementation and must be overridden by a \n",
    ">  non-abstract derived class ."
   ]
  },
  {
   "cell_type": "markdown",
   "metadata": {},
   "source": [
    ">  Here is an example of an abstract class in C#: \n",
    ">\n",
    "> In this example, `Shape` is an abstract class that contains an abstract method `GetArea()`.  \n",
    "> The `Square` class derives from `Shape` and provides an implementation for `GetArea()` .  "
   ]
  },
  {
   "cell_type": "code",
   "execution_count": null,
   "metadata": {
    "dotnet_interactive": {
     "language": "csharp"
    },
    "polyglot_notebook": {
     "kernelName": "csharp"
    },
    "vscode": {
     "languageId": "polyglot-notebook"
    }
   },
   "outputs": [],
   "source": [
    "abstract class Shape {\n",
    "    public abstract int GetArea();\n",
    "}\n",
    "\n",
    "class Square : Shape {\n",
    "    private int _side;\n",
    "    public Square(int n) => _side = n;\n",
    "    public override int GetArea() => _side * _side;\n",
    "}\n",
    "int side=3;\n",
    "Square square=new Square(side);\n",
    "Console.WriteLine($\"Area of square  with side:{side} is {square.GetArea()}\");"
   ]
  },
  {
   "cell_type": "markdown",
   "metadata": {},
   "source": [
    "# Continue learning\n",
    "\n",
    "There are plenty more resources out there to learn!\n",
    "\n",
    "> [⏩ Next Module - Virtual Class and Override members ](13.3.Virtual-Override-Members.ipynb)\n",
    ">\n",
    "> [⏪ Last Module -  Abstract Class and members](13.2.Abstract-Class-Members.ipynb)\n",
    ">\n",
    "> [abstract - C#](https://learn.microsoft.com/en-us/dotnet/csharp/language-reference/keywords/abstract)"
   ]
  }
 ],
 "metadata": {
  "language_info": {
   "name": "python"
  },
  "orig_nbformat": 4
 },
 "nbformat": 4,
 "nbformat_minor": 2
}
