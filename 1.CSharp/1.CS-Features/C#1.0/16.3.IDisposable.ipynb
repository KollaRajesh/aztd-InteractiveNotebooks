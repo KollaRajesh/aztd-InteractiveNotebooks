{
 "cells": [
  {
   "cell_type": "markdown",
   "metadata": {},
   "source": [
    "> ### IDisposable"
   ]
  },
  {
   "cell_type": "markdown",
   "metadata": {},
   "source": [
    "> The **IDisposable** interface is defined in the System namespace in C#.   \n",
    "> It provides a mechanism for releasing unmanaged resources, such as file handles, network connections, and database connections, that are not automatically managed by the garbage collector.  \n",
    "> \n",
    ">  When a class implements the *IDisposable* interface, it must provide an implementation for the *Dispose()* method.  \n",
    ">  This method is called when the object is no longer needed, and it should release any unmanaged resources that the object holds.  \n",
    ">"
   ]
  },
  {
   "cell_type": "markdown",
   "metadata": {},
   "source": [
    "> Here is an example of how to use the *IDisposable* interface:\n",
    ">\n",
    "> In this example, DatabaseConnection implements the IDisposable interface.\n",
    ">   - The Dispose() method is called when the object is no longer needed, and it releases any unmanaged resources that the object holds.\n",
    ">   - The Dispose(bool) method is called by the Dispose() method and releases both managed and unmanaged resources.\n",
    ">   - The finalizer (~MyClass()) is called by the garbage collector and releases any unmanaged resources that the object holds.\n",
    ">    \n",
    ">  *Note*: \n",
    ">   Some use cases for the IDisposable interface include managing objects that encapsulate resources like hardware devices or third-party libraries.\n",
    ">   It enables proper resource cleanup, even in complex scenarios "
   ]
  },
  {
   "cell_type": "code",
   "execution_count": null,
   "metadata": {
    "vscode": {
     "languageId": "polyglot-notebook"
    }
   },
   "outputs": [],
   "source": [
    "//#!r \n",
    "#r \"nuget: System.Data.SqlClient\"\n",
    "using System.Data;\n",
    "using System.Data.SqlClient;\n",
    "public class DatabaseConnection : IDisposable\n",
    "{\n",
    "    private bool _disposed = false;\n",
    "    private SqlConnection _connection;\n",
    "\n",
    "    public DatabaseConnection(string connectionString)\n",
    "    {\n",
    "        _connection = new SqlConnection(connectionString);\n",
    "       // _connection.Open();  //Note: Need to uncomment when we provide valid connection string for testing\n",
    "    }\n",
    "\n",
    "    public void ExecuteNonQuery(string commandText)\n",
    "    {\n",
    "        using (var command = new SqlCommand(commandText, _connection))\n",
    "        {\n",
    "            command.ExecuteNonQuery();\n",
    "        }\n",
    "    }\n",
    "\n",
    "    protected virtual void Dispose(bool disposing)\n",
    "    {\n",
    "        if (!_disposed)\n",
    "        {\n",
    "            if (disposing)\n",
    "            {\n",
    "                _connection.Dispose();\n",
    "            }\n",
    "\n",
    "            _disposed = true;\n",
    "        }\n",
    "    }\n",
    "\n",
    "    public void Dispose()\n",
    "    {\n",
    "        Dispose(true);\n",
    "        GC.SuppressFinalize(this);\n",
    "    }\n",
    "\n",
    "    ~DatabaseConnection()\n",
    "    {\n",
    "        Dispose(false);\n",
    "    }\n",
    "}\n",
    "using (var sqlDatabase=new DatabaseConnection( \"Data Source=ServerAddress;Initial Catalog=DataBase;Integrated Security=True;\")){\n",
    "     //Note: Need to uncomment below line when we provide valid connection string for testing\n",
    "    //sqlDatabase.ExecuteNonQuery(\"Select Top 1  1 from Products\");\n",
    "\n",
    "}"
   ]
  },
  {
   "cell_type": "markdown",
   "metadata": {},
   "source": [
    " \n",
    " # Continue learning\n",
    "\n",
    "There are plenty more resources out there to learn!\n",
    "\n",
    "> [⏩ Next Module - Generic Class](../C#2.0/17.Generic_Class.ipynb)\n",
    ">\n",
    "> [⏪ Last Module - Lock Statement ](16.2.lockStatement.ipynb)\n",
    ">\n",
    "> [Reference-  iDisposable](https://learn.microsoft.com/en-us/dotnet/api/system.idisposable?view=net-8.0)"
   ]
  }
 ],
 "metadata": {
  "language_info": {
   "name": "python"
  },
  "orig_nbformat": 4
 },
 "nbformat": 4,
 "nbformat_minor": 2
}
