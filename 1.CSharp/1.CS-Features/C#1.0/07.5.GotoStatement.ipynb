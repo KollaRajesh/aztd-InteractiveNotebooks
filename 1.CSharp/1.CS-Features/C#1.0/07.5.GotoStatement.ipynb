{
 "cells": [
  {
   "cell_type": "markdown",
   "metadata": {},
   "source": [
    "### goto statement"
   ]
  },
  {
   "cell_type": "markdown",
   "metadata": {},
   "source": [
    "> **goto** Statement : A goto statement in C# is a control statement that transfers the program control to a labeled statement.\n",
    ">  - It is used to jump to another part of the program unconditionally.\n",
    ">\n",
    "> - However, *it is generally considered a bad practice to use goto statements in modern programming languages, as it can make the code harder to read and maintain*."
   ]
  },
  {
   "cell_type": "code",
   "execution_count": null,
   "metadata": {
    "dotnet_interactive": {
     "language": "csharp"
    },
    "polyglot_notebook": {
     "kernelName": "csharp"
    },
    "vscode": {
     "languageId": "polyglot-notebook"
    }
   },
   "outputs": [],
   "source": [
    "int i = 0;\n",
    "\n",
    "start:\n",
    "Console.WriteLine(i);\n",
    "i++;\n",
    "if (i < 10)\n",
    "    goto start;\n"
   ]
  },
  {
   "cell_type": "markdown",
   "metadata": {},
   "source": [
    "> In the above example,\n",
    "> \n",
    ">   the goto statement is used to jump to the start label, which is defined before the Console.WriteLine statement.\n",
    ">   The program prints the value of i and increments it until it reaches 10. \n",
    ">  \n",
    ">  \n",
    ">  However, it is generally recommended to use structured control statements such as for, while, and do-while loops instead of goto statements, as they make the code more  readable and easier to maintain.\n"
   ]
  },
  {
   "cell_type": "markdown",
   "metadata": {},
   "source": [
    "# Continue learning\n",
    "\n",
    "There are plenty more resources out there to learn!\n",
    "> [⏩ Next Module - What Are Loops](08.What_Are_Loops.ipynb)\n",
    ">\n",
    "> [⏪ Last Module - Switch Statement](07.4.SwitchStatement.ipynb)\n",
    ">\n",
    "> [Documentation: Pattern matching](https://learn.microsoft.com/en-us/archive/msdn-magazine/2019/may/csharp-8-0-pattern-matching-in-csharp-8-0)"
   ]
  }
 ],
 "metadata": {
  "language_info": {
   "name": "python"
  },
  "orig_nbformat": 4
 },
 "nbformat": 4,
 "nbformat_minor": 2
}
