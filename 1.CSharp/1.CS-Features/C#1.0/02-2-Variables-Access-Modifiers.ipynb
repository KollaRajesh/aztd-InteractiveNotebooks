{
 "cells": [
  {
   "cell_type": "markdown",
   "metadata": {},
   "source": [
    "> ### Variables , Properties , Access Specifiers\\Modifiers\n",
    ">    Version *C# 1.0*\n",
    ">"
   ]
  },
  {
   "cell_type": "markdown",
   "metadata": {},
   "source": [
    "> In C#, a **variable** is a named storage location that stores a value of a specific data type . Here is an example of how to declare and initialize variables of different data types in C#:\n",
    "\n",
    "```csharp\n",
    "    int myInt = 123;\n",
    "    string myString = \"Hello, world!\";\n",
    "    bool myBool = true;\n",
    "```"
   ]
  },
  {
   "cell_type": "markdown",
   "metadata": {},
   "source": [
    ">  A **property** is a member of a class that provides access to a private field by using a get accessor (read) or a set accessor (write) .\n",
    ">  Properties are used to encapsulate the data of a class and provide a way to access it from outside the class. Here is an example of how to declare a property in C#:\n",
    "\n",
    "```csharp\n",
    "    public class MyClass\n",
    "    {\n",
    "        private int _myField;\n",
    "\n",
    "        public int MyProperty\n",
    "        {\n",
    "            get { return _myField; }\n",
    "            set { _myField = value; }\n",
    "        }\n",
    "    }\n",
    "```\n",
    "\n",
    "> In this example, `MyProperty` is a property that provides access to the private field `_myField`.\n",
    "> The `get` accessor returns the value of `_myField`, and the `set` >accessor sets the value of `_myField` to the specified value."
   ]
  },
  {
   "cell_type": "markdown",
   "metadata": {},
   "source": [
    "> In C#, `readonly` and `const` are used to declare variables that cannot be modified after initialization. \n",
    "> The main difference between `readonly` and `const` is that `const` is a compile-time constant, while `readonly` can be set at runtime.\n",
    ">\n",
    "> Here are some examples of how to use `const` and `readonly` in C#:\n",
    ">\n",
    "```csharp\n",
    "        public class MyClass\n",
    "        {\n",
    "            public const float Pi = 3.14f; // A compile-time constant.\n",
    "            public readonly int MyInt; // A runtime constant.\n",
    "\n",
    "            public MyClass(int myInt)\n",
    "            {\n",
    "                MyInt = myInt;\n",
    "            }\n",
    "        }\n",
    "```\n",
    ">In this example, `Pi` is a `const` field that is initialized at compile time and cannot be modified at runtime. `MyInt` is a `readonly` field that is initialized at runtime and cannot be modified after initialization."
   ]
  },
  {
   "cell_type": "markdown",
   "metadata": {},
   "source": [
    "> Here is a list of access modifiers and access specifiers in C# :\n",
    ">\n",
    "> - Access Modifiers:\n",
    ">    * `public`: The type or member can be accessed by any other code in the same assembly or another assembly that references it.   \n",
    ">        For example, a public method in a    class can be called from any other class in the same assembly or another assembly that references it.  \n",
    ">\n",
    ">    * `private`: The type or member can be accessed only by code in the same class or struct.\n",
    ">         For example, a private field in a class can only be accessed by methods within the same class.\n",
    ">\n",
    ">    * `protected`: The type or member can be accessed only by code in the same class, or in a class that is derived from that class.  \n",
    ">    For example, a protected method in a class can be called by any method in the same class or any method in a derived class.\n",
    ">\n",
    ">    * `internal`: The type or member can be accessed by any code in the same assembly, but not from another assembly.   \n",
    ">    For example, an internal class can be accessed by any code in the same assembly, but not by code in another assembly.\n",
    "> \n",
    ">    * `protected internal`: The type or member can be accessed by any code in the assembly in which it's declared, or from within a derived class in another assembly.  \n",
    ">      For example, a protected internal method in a class can be called by any method in the same assembly or any method in a derived class in another assembly.\n",
    ">  \n",
    ">    * `private protected`: The type or member can be accessed by types derived from the class that are declared within its containing assembly.  \n",
    ">       For example, a private protected field in a class can only be accessed by methods within the same class or any method in a derived class that is declared  \n",
    ">       within the same assembly."
   ]
  },
  {
   "cell_type": "markdown",
   "metadata": {},
   "source": [
    ">\n",
    "> - Access Specifiers:\n",
    ">    * `public`: Access isn't restricted. For example, a public field in a class can be accessed by any code in the same assembly or another assembly that references\n",
    ">    it   \n",
    ">\n",
    ">    * `protected`: Access is limited to the containing class or types derived from the containing class. For example, a protected field in a class can be accessed by\n",
    ">      any method in the same class or any method in a derived class.  \n",
    ">\n",
    ">    * `internal`: Access is limited to the current assembly. For example, an internal field in a class can be accessed by any code in the same assembly, but not by\n",
    ">     code in another assembly.\n",
    ">\n",
    ">    * `private`: Access is limited to the containing type. For example, a private field in a class can only be accessed by methods within the same class.\n",
    ">\n",
    ">    * `protected internal`: Access is limited to the current assembly or types derived from the containing class. \n",
    ">     For example, a protected internal field in a class can be accessed by any method in the same assembly or any method in a derived class in another assembly."
   ]
  },
  {
   "cell_type": "code",
   "execution_count": null,
   "metadata": {
    "dotnet_interactive": {
     "language": "csharp"
    },
    "polyglot_notebook": {
     "kernelName": "csharp"
    },
    "vscode": {
     "languageId": "polyglot-notebook"
    }
   },
   "outputs": [],
   "source": [
    "public class MyClass\n",
    "{\n",
    "    public int myPublicField; // Can be accessed by any code in the same assembly or another assembly that references it.\n",
    "    private int myPrivateField; // Can only be accessed by methods within the same class.\n",
    "    protected int myProtectedField; // Can be accessed by any method in the same class or any method in a derived class.\n",
    "    internal int myInternalField; // Can be accessed by any code in the same assembly, but not by code in another assembly.\n",
    "    protected internal int myProtectedInternalField; // Can be accessed by any method in the same assembly or any method in a derived class in another assembly.\n",
    "    private protected int myPrivateProtectedField; // Can only be accessed by methods within the same class or any method in a derived class that is declared within the same assembly.\n",
    "}\n",
    "\n",
    "public class MyDerivedClass : MyClass\n",
    "{\n",
    "    public void MyMethod()\n",
    "    {\n",
    "        myPublicField = 1; // OK\n",
    "        // myPrivateField = 2; // Error: Cannot access private field.\n",
    "        myProtectedField = 3; // OK\n",
    "        myInternalField = 4; // OK\n",
    "        myProtectedInternalField = 5; // OK\n",
    "        // myPrivateProtectedField = 6; // Error: Cannot access private protected field.\n",
    "    }\n",
    "}\n",
    "MyClass obj=new MyClass();\n",
    "Console.WriteLine($\"value of {nameof(obj.myInternalField)} is {obj.myInternalField}\");\n",
    "\n",
    "MyDerivedClass obj1=new MyDerivedClass();\n",
    "Console.WriteLine($\"value of {nameof(obj1.myPublicField)} is {obj1.myPublicField}\");"
   ]
  },
  {
   "cell_type": "markdown",
   "metadata": {},
   "source": [
    "# Continue learning\n",
    "\n",
    "There are plenty more resources out there to learn!\n",
    "\n",
    "> [⏩ Next Module - Type Casting](02-3-TypeCasting.ipynb)\n",
    ">\n",
    "> [⏪ Last Module - DataTypes in C#](02-1-DataTypes.ipynb)\n",
    ">\n",
    ">[Variables](https://docs.microsoft.com/en-us/dotnet/csharp/programming-guide/variables/)  \n",
    ">[Data types](https://learn.microsoft.com/en-us/dotnet/csharp/programming-guide/classes-and-structs/using-properties)  \n",
    ">[Microsoft Learn: Constants](https://docs.microsoft.com/en-us/dotnet/csharp/programming-guide/classes-and-structs/constants)   \n",
    ">[Microsoft Learn: readonly keyword](https://docs.microsoft.com/en-us/dotnet/csharp/language-reference/keywords/readonly)  \n",
    ">[How to declare and use read write properties](https://learn.microsoft.com/en-us/dotnet/csharp/programming-guide/classes-and-structs/how-to-declare-and-use-read-write-properties)  \n",
    ">[Reference : Properties](https://learn.microsoft.com/en-us/dotnet/csharp/properties)   \n",
    ">[Reference : Access Modifiers](https://learn.microsoft.com/en-us/dotnet/csharp/programming-guide/classes-and-structs/access-modifiers)  \n",
    "\n",
    "\n"
   ]
  }
 ],
 "metadata": {
  "language_info": {
   "name": "python"
  },
  "orig_nbformat": 4
 },
 "nbformat": 4,
 "nbformat_minor": 2
}
