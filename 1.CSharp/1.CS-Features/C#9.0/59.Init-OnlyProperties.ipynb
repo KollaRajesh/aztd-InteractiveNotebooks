{
 "cells": [
  {
   "cell_type": "markdown",
   "metadata": {},
   "source": [
    "> ### **Init-only properties** in in C#\n",
    ">    Version *C# 9.0*"
   ]
  },
  {
   "cell_type": "markdown",
   "metadata": {},
   "source": [
    ">  - Init-only properties are properties that can only be assigned during object initialization, either through an object initializer or a constructor.\n",
    ">  - They are declared with the init accessor, which is similar to the set accessor but restricted to initialization.\n",
    ">  - Init-only properties enable immutable objects and non-destructive mutation."
   ]
  },
  {
   "cell_type": "code",
   "execution_count": null,
   "metadata": {
    "dotnet_interactive": {
     "language": "csharp"
    },
    "polyglot_notebook": {
     "kernelName": "csharp"
    },
    "vscode": {
     "languageId": "polyglot-notebook"
    }
   },
   "outputs": [],
   "source": [
    "//Before c# 9.0 \n",
    "public class Person\n",
    "{\n",
    "    public string FirstName { get; set; }\n",
    "    public string LastName { get; set; }\n",
    "}\n",
    "\n",
    "Person person=new Person();\n",
    "person.FirstName =\"Rob\";\n",
    "person.FirstName =\"Mike\"; //will not give error\n",
    "\n",
    "//After c# 9.0 \n",
    "public class Employee\n",
    "{\n",
    "    public Employee ()\n",
    "    {}\n",
    "    public Employee (string firstName,string lastName)\n",
    "    {\n",
    "        FirstName=firstName;\n",
    "        LastName=lastName;\n",
    "    }\n",
    "\n",
    "    public string FirstName { get; init; }\n",
    "    public string LastName { get; init; }\n",
    "}\n",
    "\n",
    "Employee emp=new Employee(\"ROb\",\"M\");\n",
    "emp.Display();\n",
    "\n",
    "Employee employee=new Employee();\n",
    "//employee.FirstName =\"Rob\";// it will give error "
   ]
  },
  {
   "cell_type": "markdown",
   "metadata": {},
   "source": [
    "> **Init accessors and readonly fields**\n",
    ">\n",
    "> init accessors can only be called during initialization, they are allowed to mutate readonly fields of the enclosing class, just like you can in a constructor."
   ]
  },
  {
   "cell_type": "code",
   "execution_count": 17,
   "metadata": {
    "dotnet_interactive": {
     "language": "csharp"
    },
    "polyglot_notebook": {
     "kernelName": "csharp"
    },
    "vscode": {
     "languageId": "polyglot-notebook"
    }
   },
   "outputs": [
    {
     "data": {
      "text/html": [
       "<details open=\"open\" class=\"dni-treeview\"><summary><span class=\"dni-code-hint\"><code>Submission#18+Person</code></span></summary><div><table><thead><tr></tr></thead><tbody><tr><td>FirstName</td><td><div class=\"dni-plaintext\"><pre>Rob</pre></div></td></tr><tr><td>LastName</td><td><div class=\"dni-plaintext\"><pre>M</pre></div></td></tr></tbody></table></div></details><style>\r\n",
       ".dni-code-hint {\r\n",
       "    font-style: italic;\r\n",
       "    overflow: hidden;\r\n",
       "    white-space: nowrap;\r\n",
       "}\r\n",
       ".dni-treeview {\r\n",
       "    white-space: nowrap;\r\n",
       "}\r\n",
       ".dni-treeview td {\r\n",
       "    vertical-align: top;\r\n",
       "    text-align: start;\r\n",
       "}\r\n",
       "details.dni-treeview {\r\n",
       "    padding-left: 1em;\r\n",
       "}\r\n",
       "table td {\r\n",
       "    text-align: start;\r\n",
       "}\r\n",
       "table tr { \r\n",
       "    vertical-align: top; \r\n",
       "    margin: 0em 0px;\r\n",
       "}\r\n",
       "table tr td pre \r\n",
       "{ \r\n",
       "    vertical-align: top !important; \r\n",
       "    margin: 0em 0px !important;\r\n",
       "} \r\n",
       "table th {\r\n",
       "    text-align: start;\r\n",
       "}\r\n",
       "</style>"
      ]
     },
     "metadata": {},
     "output_type": "display_data"
    }
   ],
   "source": [
    "public class Person\n",
    "{\n",
    "    private readonly string firstName;\n",
    "    private readonly string lastName;\n",
    "     public Person(){}\n",
    "      public Person(string fName,string lName)\n",
    "    {\n",
    "        firstName=fName;\n",
    "        lastName=lName;\n",
    "    }\n",
    "    public string FirstName \n",
    "    { \n",
    "        get => firstName; \n",
    "        init => firstName = (value ?? throw new ArgumentNullException(nameof(FirstName)));\n",
    "    }\n",
    "    public string LastName \n",
    "    { \n",
    "        get => lastName; \n",
    "        init => lastName = (value ?? throw new ArgumentNullException(nameof(LastName)));\n",
    "    }\n",
    "}\n",
    "Person person=new Person(\"Rob\",\"M\");\n",
    "person.Display();"
   ]
  },
  {
   "cell_type": "markdown",
   "metadata": {},
   "source": [
    "# Continue learning\n",
    "\n",
    "There are plenty more resources out there to learn!\n",
    "\n",
    "> [⏩ Next Module - ](../C#8.0/58.StackAlloc_in_Nested_Expression.ipynb)\n",
    ">\n",
    "> [⏪ Last Module - Make Class As Record](60.MakeClassAsRecord.ipynb)\n",
    ">\n",
    "> [Reference - init](https://learn.microsoft.com/en-us/dotnet/csharp/language-reference/keywords/init)  \n",
    "> [Reference - c-version-9](https://learn.microsoft.com/en-us/dotnet/csharp/whats-new/csharp-version-history#c-version-9)    \n",
    "> [Reference - welcome-to-c-9-0/](https://devblogs.microsoft.com/dotnet/welcome-to-c-9-0/)    "
   ]
  }
 ],
 "metadata": {
  "language_info": {
   "name": "python"
  },
  "orig_nbformat": 4
 },
 "nbformat": 4,
 "nbformat_minor": 2
}
