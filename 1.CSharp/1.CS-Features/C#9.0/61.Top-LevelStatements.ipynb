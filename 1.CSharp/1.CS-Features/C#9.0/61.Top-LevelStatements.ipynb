{
 "cells": [
  {
   "cell_type": "markdown",
   "metadata": {},
   "source": [
    "> ### **Top- Level Statements** in in C#\n",
    ">    Version *C# 9.0*"
   ]
  },
  {
   "cell_type": "markdown",
   "metadata": {},
   "source": [
    "> - Top-level statements allow omitting the boilerplate code of a typical C# program, such as the namespace, class, and Main declarations. \n",
    ">\n",
    "> - They enable writing simple programs and scripts with minimal ceremony.\n",
    "> - Top-level statements are only allowed in a single file per project, and are implicitly wrapped in a Main method by the compiler. Writing a simple program in C# requires a remarkable amount of boilerplate code:\n",
    "\n",
    "```csharp\n",
    "    // Before C# 9.0\n",
    "        using System;\n",
    "        class Program\n",
    "        {\n",
    "            static void Main()\n",
    "            {\n",
    "                Console.WriteLine(\"Hello World!\");\n",
    "            }\n",
    "        }\n",
    "\n",
    "    //C# 9.0\n",
    "    using System;\n",
    "    Console.WriteLine(\"Hello World!\");\n",
    "```"
   ]
  },
  {
   "cell_type": "markdown",
   "metadata": {},
   "source": [
    "# Continue learning\n",
    "\n",
    "There are plenty more resources out there to learn!\n",
    "\n",
    "> [⏩ Next Module - Pattern Matching Enhancements ](62.PatternMatchingEnhancements.ipynb)\n",
    ">\n",
    "> [⏪ Last Module - Record](60.Record.ipynb)\n",
    ">\n",
    "> [Reference - top level statements](https://learn.microsoft.com/en-us/dotnet/csharp/fundamentals/program-structure/top-level-statements)  \n",
    "> [Reference - c#-version-9](https://learn.microsoft.com/en-us/dotnet/csharp/whats-new/csharp-version-history#c-version-9)     \n",
    "> [Reference - welcome-to-c-9-0/](https://devblogs.microsoft.com/dotnet/welcome-to-c-9-0/)    \n",
    "\n"
   ]
  }
 ],
 "metadata": {
  "language_info": {
   "name": "python"
  },
  "orig_nbformat": 4
 },
 "nbformat": 4,
 "nbformat_minor": 2
}
