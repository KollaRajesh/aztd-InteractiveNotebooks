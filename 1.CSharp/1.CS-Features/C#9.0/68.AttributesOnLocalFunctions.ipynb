{
 "cells": [
  {
   "cell_type": "markdown",
   "metadata": {},
   "source": [
    "> ### **AttributesOnLocalFunctions** in C#\n",
    ">    Version *C# 9.0*"
   ]
  },
  {
   "cell_type": "markdown",
   "metadata": {},
   "source": [
    ">  - **Attributes On Local Functions**: Attributes on local functions allow you to apply attributes to local function declarations, parameters, and type parameters."
   ]
  },
  {
   "cell_type": "code",
   "execution_count": 1,
   "metadata": {
    "dotnet_interactive": {
     "language": "csharp"
    },
    "polyglot_notebook": {
     "kernelName": "csharp"
    },
    "vscode": {
     "languageId": "polyglot-notebook"
    }
   },
   "outputs": [
    {
     "name": "stdout",
     "output_type": "stream",
     "text": [
      "This is an obsolete local function.\r\n"
     ]
    }
   ],
   "source": [
    "void Method()\n",
    "{\n",
    "    [Obsolete]\n",
    "    void LocalFunction()\n",
    "    {\n",
    "        Console.WriteLine(\"This is an obsolete local function.\");\n",
    "    }\n",
    "\n",
    "    LocalFunction();\n",
    "}\n",
    "\n",
    "Method();"
   ]
  },
  {
   "cell_type": "markdown",
   "metadata": {},
   "source": [
    "# Continue learning\n",
    "\n",
    "There are plenty more resources out there to learn!\n",
    "\n",
    "> [⏩ Next Module - ]()\n",
    ">\n",
    "> [⏪ Last Module - Lambda Discard Parameters](67.LambdaDiscardParameters.ipynb)\n",
    ">\n",
    "> [Reference - lambda-discard-parameters](https://learn.microsoft.com/en-us/dotnet/csharp/language-reference/proposals/csharp-9.0/local-function-attributes)    \n",
    "> [Reference - C#-version-9](https://learn.microsoft.com/en-us/dotnet/csharp/whats-new/csharp-version-history#c-version-9)    \n",
    "> [Reference - welcome-to-c-9-0/](https://devblogs.microsoft.com/dotnet/welcome-to-c-9-0/)    "
   ]
  }
 ],
 "metadata": {
  "language_info": {
   "name": "python"
  },
  "orig_nbformat": 4
 },
 "nbformat": 4,
 "nbformat_minor": 2
}
