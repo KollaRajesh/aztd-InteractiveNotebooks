{
 "cells": [
  {
   "cell_type": "markdown",
   "metadata": {},
   "source": [
    "> ### **Record** in in C#\n",
    ">    Version *C# 9.0*"
   ]
  },
  {
   "cell_type": "markdown",
   "metadata": {},
   "source": [
    "> **Records**\n",
    ">  - Records are a new kind of reference type that enable value-based semantics and immutability.\n",
    ">\n",
    ">  - They are declared with the data keyword and support concise syntax for creating and copying instances. \n",
    ">  - Records also provide built-in methods for equality, cloning, and deconstruction\n",
    ">  - The *data* keyword on the class declaration marks it as a record.\n",
    ">\n",
    ">  **With-expressions**\n",
    "> When working with immutable data, a common  pattern is to create new values from existing ones to represent a new state.  \n",
    ">\n",
    ">    For instance, \n",
    ">  -  if our person were to change their last name we would represent it as a new object that’s a copy of the old one, except with a different last name.\n",
    ">  -  This technique is often referred to as non-destructive mutation."
   ]
  },
  {
   "cell_type": "code",
   "execution_count": null,
   "metadata": {
    "dotnet_interactive": {
     "language": "csharp"
    },
    "polyglot_notebook": {
     "kernelName": "csharp"
    },
    "vscode": {
     "languageId": "polyglot-notebook"
    }
   },
   "outputs": [],
   "source": [
    "//public data class Person  //C# 9.0\n",
    "public record  Person\n",
    "{\n",
    "    public string FirstName { get; init; }\n",
    "    public string LastName { get; init; }\n",
    "\n",
    "}\n",
    "Person person= new Person() with { LastName = \"Mike\" };\n",
    "person.Display();"
   ]
  },
  {
   "cell_type": "code",
   "execution_count": null,
   "metadata": {
    "dotnet_interactive": {
     "language": "csharp"
    },
    "polyglot_notebook": {
     "kernelName": "csharp"
    },
    "vscode": {
     "languageId": "polyglot-notebook"
    }
   },
   "outputs": [],
   "source": [
    "//public data class Person //C# 9.0\n",
    "public  record Person\n",
    "{\n",
    "    public string FirstName { get; init; }\n",
    "    public string LastName { get; init; }\n",
    "}\n",
    "\n",
    "Person person= new Person();\n",
    "var otherPerson = person with { LastName = \"Mike\" };\n",
    "otherPerson.Display();"
   ]
  },
  {
   "cell_type": "markdown",
   "metadata": {},
   "source": [
    "> **Positional records**\n",
    ">  - It is useful to have a more positional approach to a record, where its contents are given via constructor arguments, and can be extracted with positional deconstruction.\n",
    "> \n",
    ">  - It’s perfectly possible to specify your own constructor and deconstructor in a record:"
   ]
  },
  {
   "cell_type": "code",
   "execution_count": null,
   "metadata": {
    "dotnet_interactive": {
     "language": "csharp"
    },
    "polyglot_notebook": {
     "kernelName": "csharp"
    },
    "vscode": {
     "languageId": "polyglot-notebook"
    }
   },
   "outputs": [],
   "source": [
    "//public data class Person\n",
    "public  record Person\n",
    "{\n",
    "    public string FirstName { get; init; }\n",
    "    public string LastName { get; init; }\n",
    "    \n",
    "    public Person(string firstName, string lastName) \n",
    "      => (FirstName, LastName) = (firstName, lastName);\n",
    "\n",
    "    public void Deconstruct(out string firstName, out string lastName) \n",
    "      => (firstName, lastName) = (FirstName, LastName);\n",
    "}\n",
    "var person = new Person(\"Scott\", \"Hunter\"); // positional construction\n",
    "var (f, l) = person;                        // positional deconstruction\n",
    "\n",
    "(f, l).Display();\n",
    "f.Display();\n",
    "l.Display();"
   ]
  },
  {
   "cell_type": "code",
   "execution_count": null,
   "metadata": {
    "dotnet_interactive": {
     "language": "csharp"
    },
    "polyglot_notebook": {
     "kernelName": "csharp"
    },
    "vscode": {
     "languageId": "polyglot-notebook"
    }
   },
   "outputs": [],
   "source": [
    "//public data class Person  C#9.0 \n",
    "public record Person\n",
    "{ \n",
    "    string FirstName; \n",
    "    string LastName; \n",
    "    public Person(string firstName, string lastName) \n",
    "      => (FirstName, LastName) = (firstName, lastName);\n",
    "    public void Deconstruct(out string firstName, out string lastName) \n",
    "      => (firstName, lastName) = (FirstName, LastName);\n",
    "}\n",
    "\n",
    "var person = new Person(\"Rob\", \"M\"); // positional construction\n",
    "var (f, l) = person;                        // positional deconstruction\n",
    "\n",
    "(f, l).Display();\n",
    "f.Display();\n",
    "l.Display();"
   ]
  },
  {
   "cell_type": "markdown",
   "metadata": {},
   "source": [
    ">  **Value-based equality**\n",
    ">\n",
    "> All objects inherit a virtual Equals(object) method from the object class.\n",
    ">\n",
    "> This is used as the basis for the Object.Equals(object, object) static method when both parameters are non-null.\n",
    "\n",
    ">  -We would now have ReferenceEquals(person, originalPerson) = false (they aren’t the same object)\n",
    ">  but Equals(person, originalPerson) = true (they have the same value)."
   ]
  },
  {
   "cell_type": "code",
   "execution_count": null,
   "metadata": {
    "dotnet_interactive": {
     "language": "csharp"
    },
    "polyglot_notebook": {
     "kernelName": "csharp"
    },
    "vscode": {
     "languageId": "polyglot-notebook"
    }
   },
   "outputs": [],
   "source": [
    "//public data class Person  C#9.0 \n",
    "\n",
    "public  record Person\n",
    "{\n",
    "    public string FirstName { get; init; }\n",
    "    public string LastName { get; init; }\n",
    "}\n",
    "\n",
    "Person person =new Person() with {LastName=\"Rob\"};\n",
    "var otherPerson = person with { LastName = \"M\" };\n",
    "person.Equals(otherPerson).Display();\n",
    "\n",
    "var originalPerson = otherPerson with { LastName = \"Rob\" };\n",
    "\n",
    "Person.ReferenceEquals( person,originalPerson).Display();\n",
    "person.Equals(originalPerson).Display();\n",
    "\n",
    "person.GetHashCode().Display();\n",
    "otherPerson.GetHashCode().Display();\n",
    "originalPerson.GetHashCode().Display();"
   ]
  },
  {
   "cell_type": "markdown",
   "metadata": {},
   "source": [
    "> **Data members**\n",
    ">   - Records are overwhelmingly intended to be immutable, with init-only public properties that can be non-destructively modified through with-expressions.\n",
    "\n",
    "> Below two are exactly same \n",
    ">\n",
    "```csharp\n",
    "        public data class Person { string FirstName; string LastName; } \n",
    " ```\n",
    "\n",
    " ```csharp\n",
    "        public data class Person\n",
    "        {\n",
    "            public string FirstName { get; init; }\n",
    "            public string LastName { get; init; }\n",
    "        }\n",
    " ```\n",
    "\n",
    " > If you really want a private field, you can just add the private modifier explicitly but both are exactly same.\n",
    "\n",
    "  ```csharp\n",
    "        public data class Person\n",
    "        {\n",
    "            string FirstName; \n",
    "            string LastName; \n",
    "            \n",
    "            public Person(string firstName, string lastName)   => (FirstName, LastName) = (firstName, lastName);\n",
    "            \n",
    "            public string FirstName { get; init; }\n",
    "            public string LastName { get; init; }\n",
    "        }\n",
    " ```\n"
   ]
  },
  {
   "cell_type": "markdown",
   "metadata": {},
   "source": [
    "> **With-expressions and inheritance**\n",
    "> Value-based equality and non-destructive mutation are notoriously challenging when combined with inheritance"
   ]
  },
  {
   "cell_type": "code",
   "execution_count": null,
   "metadata": {
    "dotnet_interactive": {
     "language": "csharp"
    },
    "polyglot_notebook": {
     "kernelName": "csharp"
    },
    "vscode": {
     "languageId": "polyglot-notebook"
    }
   },
   "outputs": [],
   "source": [
    "using System;\n",
    "//public data class Person //C# 9.0\n",
    "public record Person { public string FirstName;public  string LastName; }\n",
    "//public data class Student //C# 9.0\n",
    "public record Student : Person {public int ID; }\n",
    "\n",
    "Person person = new Student { FirstName = \"Scott\", LastName = \"Linder\", ID = 1 };\n",
    "//otherPerson = person with { LastName = \"ROb\" };\n",
    "person.Display();\n",
    "\n",
    "Person person1 = new Person { FirstName = \"Ben\", LastName = \"D\" };\n",
    "Person person2 = new Student { FirstName = \"Ben\", LastName = \"D\", ID = 2};\n",
    "\n"
   ]
  },
  {
   "cell_type": "markdown",
   "metadata": {},
   "source": [
    "# Continue learning\n",
    "\n",
    "There are plenty more resources out there to learn!\n",
    "\n",
    "> [⏩ Next Module - Top Level Statements ](61.Top-LevelStatements.ipynb)\n",
    ">\n",
    "> [⏪ Last Module - Init Only Properties](59.Init-OnlyProperties.ipynb)\n",
    ">\n",
    "> [Reference - record](https://learn.microsoft.com/en-us/dotnet/csharp/language-reference/builtin-types/record)  \n",
    "> [Reference - c-version-9](https://learn.microsoft.com/en-us/dotnet/csharp/whats-new/csharp-version-history#c-version-9)    \n",
    "> [Reference - welcome-to-c-9-0/](https://devblogs.microsoft.com/dotnet/welcome-to-c-9-0/)    "
   ]
  }
 ],
 "metadata": {
  "language_info": {
   "name": "python"
  },
  "orig_nbformat": 4
 },
 "nbformat": 4,
 "nbformat_minor": 2
}
