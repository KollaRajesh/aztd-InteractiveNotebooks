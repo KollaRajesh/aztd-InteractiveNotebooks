{
 "cells": [
  {
   "cell_type": "markdown",
   "metadata": {},
   "source": [
    "> ### **Target-typed new expressions** in C#\n",
    ">    Version *C# 9.0*"
   ]
  },
  {
   "cell_type": "markdown",
   "metadata": {},
   "source": [
    "> **Target-typed new expressions** is a feature introduced in C# 9.0 that allows you to omit the type name when creating a new instance of a type, if the target type is known from the context.      \n",
    ">\n",
    ">  -  This can make your code less verbose and more readable."
   ]
  },
  {
   "cell_type": "code",
   "execution_count": null,
   "metadata": {
    "dotnet_interactive": {
     "language": "csharp"
    },
    "polyglot_notebook": {
     "kernelName": "csharp"
    },
    "vscode": {
     "languageId": "polyglot-notebook"
    }
   },
   "outputs": [],
   "source": [
    "(int a, int b) t = new(1, 2); // \"new\" is redundant\n",
    "(int a, int b) t1 = new(); // OK; same as (0, 0)\n",
    "\n",
    "Action a = new(() => {}); // \"new\" is redundant\n",
    "Action a1 = new();// no constructor found\n",
    "\n",
    "List<int> xs = new();\n"
   ]
  },
  {
   "cell_type": "markdown",
   "metadata": {},
   "source": [
    "> Another example"
   ]
  },
  {
   "cell_type": "code",
   "execution_count": null,
   "metadata": {
    "dotnet_interactive": {
     "language": "csharp"
    },
    "polyglot_notebook": {
     "kernelName": "csharp"
    },
    "vscode": {
     "languageId": "polyglot-notebook"
    }
   },
   "outputs": [],
   "source": [
    "class Customer\n",
    "{\n",
    "    public string FirstName { get; set; }\n",
    "    public string LastName { get; set; }\n",
    "    public Customer(){}\n",
    "    public Customer(string firstName, string lastName)\n",
    "    {\n",
    "        FirstName = firstName;\n",
    "        LastName = lastName;\n",
    "    }\n",
    "}\n",
    "     Customer customer = new(\"Mark\", \"Upston\");\n",
    "     customer.Display();\n",
    "     Customer othercustomer = new();\n",
    "     othercustomer.Display();"
   ]
  },
  {
   "cell_type": "markdown",
   "metadata": {},
   "source": [
    ">   **Target-typed Conditional Expressions** : Target-typed conditional expressions allow the compiler to determine the type of a ternary expression based on the context in which it is used."
   ]
  },
  {
   "cell_type": "code",
   "execution_count": 1,
   "metadata": {
    "dotnet_interactive": {
     "language": "csharp"
    },
    "polyglot_notebook": {
     "kernelName": "csharp"
    },
    "vscode": {
     "languageId": "polyglot-notebook"
    }
   },
   "outputs": [],
   "source": [
    "int? a = null;\n",
    "int b = 5;\n",
    "int c = a ?? b;  // c is 5\n",
    "\n",
    "List<int> list = new() {1, 2, 3};\n",
    "IEnumerable<int> enumerable = list ?? new List<int>();"
   ]
  },
  {
   "cell_type": "markdown",
   "metadata": {},
   "source": [
    "# Continue learning\n",
    "\n",
    "There are plenty more resources out there to learn!\n",
    "\n",
    "> [⏩ Next Module - ]()\n",
    ">\n",
    "> [⏪ Last Module - Null-Coalescing Assignment](63.CovariantReturnTypes.ipynb)\n",
    ">\n",
    "> [Reference - Target-typed-new](https://learn.microsoft.com/en-us/dotnet/csharp/language-reference/proposals/csharp-9.0/target-typed-new)  \n",
    "> [Reference - c# -version-9](https://learn.microsoft.com/en-us/dotnet/csharp/whats-new/csharp-version-history#c-version-9)  \n",
    "> [Reference - welcome-to-c-9-0/](https://devblogs.microsoft.com/dotnet/welcome-to-c-9-0/)  "
   ]
  }
 ],
 "metadata": {
  "language_info": {
   "name": "python"
  },
  "orig_nbformat": 4
 },
 "nbformat": 4,
 "nbformat_minor": 2
}
