{
 "cells": [
  {
   "cell_type": "markdown",
   "metadata": {},
   "source": [
    "> ###  Pattern Matching:\n",
    ">    Version *C# 7.0*"
   ]
  },
  {
   "cell_type": "markdown",
   "metadata": {},
   "source": [
    "> - **Pattern matching**: You can now use patterns to test that a value has a certain “shape” and extract information from the value when it does."
   ]
  },
  {
   "cell_type": "code",
   "execution_count": null,
   "metadata": {
    "dotnet_interactive": {
     "language": "csharp"
    },
    "polyglot_notebook": {
     "kernelName": "csharp"
    },
    "vscode": {
     "languageId": "polyglot-notebook"
    }
   },
   "outputs": [],
   "source": [
    "public static string GetTypeName(object obj) {\n",
    "    switch (obj) {\n",
    "        case int i:\n",
    "            return \"System.Int32\";\n",
    "        case string s:\n",
    "            return \"System.String\";\n",
    "        case bool b:\n",
    "            return \"System.Boolean\";\n",
    "        default:\n",
    "            return \"Unknown type\";\n",
    "    }\n",
    "}\n",
    "\n",
    "int j =0;\n",
    "GetTypeName(j).Display();\n",
    "\n",
    "\n",
    "string x =\"\";\n",
    "GetTypeName(x).Display();\n",
    "\n",
    "bool check =false;\n",
    "GetTypeName(check).Display();"
   ]
  },
  {
   "cell_type": "markdown",
   "metadata": {},
   "source": [
    "> Here is the another example of pattern matching \n",
    "> In this example, the PrintAnimalSound method takes an Animal argument and uses the is expression to test the type of the argument and conditionally declare a new variable to the result of that expression.\n",
    "\n",
    "> creates instances of Dog, Cat, Bird, and Animal and passes them to the PrintAnimalSound method."
   ]
  },
  {
   "cell_type": "code",
   "execution_count": null,
   "metadata": {
    "dotnet_interactive": {
     "language": "csharp"
    },
    "polyglot_notebook": {
     "kernelName": "csharp"
    },
    "vscode": {
     "languageId": "polyglot-notebook"
    }
   },
   "outputs": [],
   "source": [
    "public  class Animal{\n",
    " public virtual string  Name {get; set;}\n",
    " public virtual bool CanFly {get; set;}\n",
    "}\n",
    "\n",
    "public class Dog :Animal {\n",
    "     \n",
    " public  override string  Name {get; set;}=nameof(Dog);\n",
    " public override bool CanFly {get; set;}=false;\n",
    "}\n",
    "\n",
    "public class Cat:Animal{\n",
    "     \n",
    " public  override string  Name {get; set;}=nameof(Cat);\n",
    " public override bool CanFly {get; set;}=false;\n",
    "}\n",
    "\n",
    "public class Bird:Animal{\n",
    "     public  override string  Name {get; set;}=nameof(Bird);\n",
    " public override bool CanFly {get; set;}=true;\n",
    "}\n",
    "\n",
    "public static void PrintAnimalSound(Animal animal) {\n",
    "    if (animal is Dog dog) {\n",
    "        Console.WriteLine(\"The dog says woof!\");\n",
    "    } else if (animal is Cat cat) {\n",
    "        Console.WriteLine(\"The cat says meow!\");\n",
    "    } else if (animal is Bird bird) {\n",
    "        Console.WriteLine(\"The bird says tweet!\");\n",
    "    } else {\n",
    "        Console.WriteLine(\"Unknown animal.\");\n",
    "    }\n",
    "}\n",
    "\n",
    "    Animal dog = new Dog();\n",
    "    Animal cat = new Cat();\n",
    "    Animal bird = new Bird();\n",
    "    Animal unknown = new Animal();\n",
    "    PrintAnimalSound(dog); // Output: The dog says woof!\n",
    "    PrintAnimalSound(cat); // Output: The cat says meow!\n",
    "    PrintAnimalSound(bird); // Output: The bird says tweet!\n",
    "    PrintAnimalSound(unknown); // Output: Unknown animal.\n"
   ]
  },
  {
   "cell_type": "markdown",
   "metadata": {},
   "source": [
    "# Continue learning\n",
    "\n",
    "There are plenty more resources out there to learn!\n",
    "\n",
    "> [⏩ Next Module - Tuples ](40.Tuples.ipynb)\n",
    ">\n",
    "> [⏪ Last Module - Declaration Expressions](38.DeclarationExpressions.ipynb)\n",
    ">\n",
    "> [Reference- C# 7.0 features](https://dotnettutorials.net/lesson/csharp-7-new-features/)"
   ]
  }
 ],
 "metadata": {
  "language_info": {
   "name": "python"
  },
  "orig_nbformat": 4
 },
 "nbformat": 4,
 "nbformat_minor": 2
}
