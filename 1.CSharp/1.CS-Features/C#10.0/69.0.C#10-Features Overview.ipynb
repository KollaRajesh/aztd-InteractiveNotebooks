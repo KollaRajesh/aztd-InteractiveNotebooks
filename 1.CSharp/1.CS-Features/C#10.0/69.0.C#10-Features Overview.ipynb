{
 "cells": [
  {
   "cell_type": "markdown",
   "metadata": {},
   "source": [
    "> #### Overview of C#10.0 features \n",
    ">\n",
    "> C# 10.0, supported on .NET 6 and Visual Studio 2022, introduced several new features and enhancements to the C# language.    \n",
    ">  \n",
    "> Here are some of the key features:  \n",
    ">  \n",
    "> **Record Structs**: You can declare value type records using the record struct or readonly record struct declarations.  \n",
    ">  \n",
    "> **Improvements of Structure Types**: You can declare an instance parameterless constructor in a structure type and initialize an instance field or property at its declaration.  \n",
    "> \n",
    "> **Interpolated String Handlers**: You can create a type that builds the resulting string from an interpolated string expression.     \n",
    "> \n",
    "> **Global Using Directives**: You can add the global modifier to any using directive to instruct the compiler that the directive applies to all source files in the compilation.  \n",
    "> \n",
    "> **File-Scoped Namespace Declaration**: You can use a new form of the namespace declaration to declare that all declarations that follow are members of the declared namespace.   \n",
    "> \n",
    "> **Extended Property Patterns**: You can reference nested properties or fields within a property pattern.   \n",
    "> \n",
    "> **Improvements on Lambda Expressions**: C# 10 introduces several improvements to lambda expressions.   \n",
    "> \n",
    "> **Allow Const Interpolated Strings**: You can now use constant interpolated strings.  \n",
    "> \n",
    "> **Record Types Can Seal ToString()**: Record types can now seal the ToString() method.   \n",
    "> \n",
    "> **Improved Definite Assignment**: C# 10 introduces improvements to definite assignment.  \n",
    "> \n",
    "> **Allow Both Assignment and Declaration in the Same Deconstruction**: You can now both assign and declare in the same deconstruction.   \n",
    "> \n",
    "> **Allow AsyncMethodBuilder Attribute on Methods**: You can now use the AsyncMethodBuilder attribute on methods.   \n",
    "> \n",
    "> **CallerArgumentExpression Attribute**: This new attribute allows you to capture the expression passed to a method, which can be useful for certain types of APIs.\n",
    ">   \n",
    "> **Enhanced #line Pragma**: The #line pragma has been enhanced in C#.      \n",
    "> \n",
    "> **Warning Wave 6**: This feature introduces a new set of warnings.   "
   ]
  },
  {
   "cell_type": "markdown",
   "metadata": {},
   "source": [
    "# Continue learning\n",
    "\n",
    "There are plenty more resources out there to learn!\n",
    "\n",
    "> [⏩ Next Module - Record Structs ](69.RecordStructs.ipynb)\n",
    ">\n",
    "> [⏪ Last Module - Attributes On Local Functions](../C#9.0/68.AttributesOnLocalFunctions.ipynb)\n",
    ">\n",
    "> [Reference - C#-version-10](https://learn.microsoft.com/en-us/dotnet/csharp/whats-new/csharp-10)   "
   ]
  }
 ],
 "metadata": {
  "language_info": {
   "name": "python"
  },
  "orig_nbformat": 4
 },
 "nbformat": 4,
 "nbformat_minor": 2
}
