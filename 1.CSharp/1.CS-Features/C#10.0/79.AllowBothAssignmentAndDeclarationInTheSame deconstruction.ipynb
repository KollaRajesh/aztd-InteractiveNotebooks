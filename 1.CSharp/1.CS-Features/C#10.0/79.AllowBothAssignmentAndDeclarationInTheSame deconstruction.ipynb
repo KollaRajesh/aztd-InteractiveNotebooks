{
 "cells": [
  {
   "cell_type": "markdown",
   "metadata": {},
   "source": [
    "> ### **Allow Both Assignment and Declaration in the Same Deconstruction** in C#\n",
    ">    Version *C# 10.0*"
   ]
  },
  {
   "cell_type": "markdown",
   "metadata": {},
   "source": [
    "> **Allow Both Assignment and Declaration in the Same Deconstruction**: “Allow both assignment and declaration in the same deconstruction” is a new feature introduced in C# 10.0 version. \n",
    ">\n",
    ">  - It allows the developer to mix declarations and assignments in the same deconstruction statement. \n",
    ">  - This feature enables the developer to declare new variables and assign values to existing variables in a single deconstruction statement."
   ]
  },
  {
   "cell_type": "code",
   "execution_count": null,
   "metadata": {
    "dotnet_interactive": {
     "language": "csharp"
    },
    "polyglot_notebook": {
     "kernelName": "csharp"
    },
    "vscode": {
     "languageId": "polyglot-notebook"
    }
   },
   "outputs": [],
   "source": [
    "var point = (1, 1);\n",
    "int x = 0;\n",
    "(x, int y) = point;\n",
    "Console.WriteLine($\"{x} - {y}\");\n",
    "\n",
    "/*\n",
    "In the above example, the point tuple is deconstructed into two variables x and y.   \n",
    "The x variable is declared and assigned a value of 1 from the point tuple.  \n",
    " The y variable is declared and assigned a value of 1 from the point tuple.*/"
   ]
  },
  {
   "cell_type": "code",
   "execution_count": null,
   "metadata": {
    "dotnet_interactive": {
     "language": "csharp"
    },
    "polyglot_notebook": {
     "kernelName": "csharp"
    },
    "vscode": {
     "languageId": "polyglot-notebook"
    }
   },
   "outputs": [],
   "source": [
    " (string firstName , string lastName) GetPerson()\n",
    " {\n",
    "    return (\"Rob\",\"M\");\n",
    " }\n",
    "var (firstName, lastName) = GetPerson();\n",
    "/*In the above example, the GetPerson() method returns a tuple with two values: firstName and lastName. \n",
    "The firstName and lastName variables are declared and assigned values from the tuple in a single deconstruction statement. \n",
    "The fullName variable is declared and assigned a value using the firstName and lastName variables.\n",
    "*/\n",
    "var fullName = $\"{firstName} {lastName}\";\n",
    "Console.WriteLine(fullName);\n"
   ]
  },
  {
   "cell_type": "markdown",
   "metadata": {},
   "source": [
    "# Continue learning\n",
    "\n",
    "There are plenty more resources out there to learn!\n",
    "\n",
    "> [⏩ Next Module - Allow Async Method Builder Attribute On Methods](80.AllowAsyncMethodBuilderAttributeOnMethods.ipynb)\n",
    ">\n",
    "> [⏪ Last Module - Improved Definite Assignment](78.ImprovedDefiniteAssignment.ipynb)\n",
    ">\n",
    "> [Reference - assignment-and-declaration-in-same-deconstruction](https://learn.microsoft.com/en-us/dotnet/csharp/whats-new/csharp-10#assignment-and-declaration-in-same-deconstruction)    \n",
    ">\n",
    "> [Reference - C#-version-10](https://learn.microsoft.com/en-us/dotnet/csharp/whats-new/csharp-10)  "
   ]
  }
 ],
 "metadata": {
  "language_info": {
   "name": "python"
  },
  "orig_nbformat": 4
 },
 "nbformat": 4,
 "nbformat_minor": 2
}
