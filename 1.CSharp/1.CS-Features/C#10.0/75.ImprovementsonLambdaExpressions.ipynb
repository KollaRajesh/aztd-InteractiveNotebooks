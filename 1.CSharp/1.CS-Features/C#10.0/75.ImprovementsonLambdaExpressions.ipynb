{
 "cells": [
  {
   "cell_type": "markdown",
   "metadata": {},
   "source": [
    "> ### **Improvements on Lambda Expressions** in C#\n",
    ">    Version *C# 10.0*"
   ]
  },
  {
   "cell_type": "markdown",
   "metadata": {},
   "source": [
    "> **Improvements on Lambda Expressions**:\n",
    "\n",
    ">  “Improvements on lambda expressions” in C# 10.0 refer to several enhancements that make lambda expressions more similar to methods and local functions.\n",
    ">\n",
    "> These improvements include:\n",
    ">\n",
    ">   1. **Natural Type for Lambda Expressions**: The compiler can infer a delegate type from the lambda expression or method group.\n",
    ">   2. **Return Type Declaration**: Lambda expressions may declare a return type when the compiler can’t infer it.\n",
    ">   3. **Attributes on Lambda Expressions**: Attributes can be applied to lambda expressions.\n",
    ">"
   ]
  },
  {
   "cell_type": "markdown",
   "metadata": {},
   "source": [
    "> Here are two examples of these improvements:\n",
    ">\n",
    ">Example 1: Natural Type for Lambda Expressions In C# 10.0, you can use a lambda expression where a delegate type is expected."
   ]
  },
  {
   "cell_type": "code",
   "execution_count": 1,
   "metadata": {
    "dotnet_interactive": {
     "language": "csharp"
    },
    "polyglot_notebook": {
     "kernelName": "csharp"
    },
    "vscode": {
     "languageId": "polyglot-notebook"
    }
   },
   "outputs": [
    {
     "name": "stdout",
     "output_type": "stream",
     "text": [
      "25\r\n"
     ]
    }
   ],
   "source": [
    "Func<int, int> square = x => x * x;\n",
    "Console.WriteLine(square(5));  // Output: 25\n",
    "//In this example, the lambda expression x => x * x is assigned to a variable of the Func<int, int> delegate type34."
   ]
  },
  {
   "cell_type": "markdown",
   "metadata": {},
   "source": [
    ">Example 2: Attributes on Lambda Expressions In C# 10.0, we  can apply attributes to lambda expressions."
   ]
  },
  {
   "cell_type": "code",
   "execution_count": 15,
   "metadata": {
    "dotnet_interactive": {
     "language": "csharp"
    },
    "polyglot_notebook": {
     "kernelName": "csharp"
    },
    "vscode": {
     "languageId": "polyglot-notebook"
    }
   },
   "outputs": [
    {
     "name": "stdout",
     "output_type": "stream",
     "text": [
      "10\n",
      "12\n"
     ]
    }
   ],
   "source": [
    "//Using Conditional Attribute In C# 10.0, you can apply the Conditional attribute to lambda expressions. \n",
    "[Obsolete(\"This method is obsolete.\")]\n",
    "static Action<int> Log = x => Console.WriteLine(x);\n",
    "Log(10);\n",
    "//Using Obsolete Attribute In C# 10.0, you can apply the Obsolete attribute to lambda expressions.\n",
    "[Obsolete(\"This method is obsolete.\")]\n",
    "static Action<int> OldMethod = x => Console.WriteLine(x);\n",
    "OldMethod(12);\n",
    "\n",
    " //Using Custom Attribute In C# 10.0, you can apply custom attributes to lambda expressions. \n",
    " //[MyCustomAttribute]\n",
    "static Action<int> CustomMethod() => x => Console.WriteLine(x);"
   ]
  },
  {
   "cell_type": "markdown",
   "metadata": {},
   "source": [
    "> Example 3: Return Type Declaration In C# 10.0, lambda expressions may declare a return type when the compiler can’t infer it. For example:"
   ]
  },
  {
   "cell_type": "code",
   "execution_count": 21,
   "metadata": {
    "dotnet_interactive": {
     "language": "csharp"
    },
    "polyglot_notebook": {
     "kernelName": "csharp"
    },
    "vscode": {
     "languageId": "polyglot-notebook"
    }
   },
   "outputs": [
    {
     "data": {
      "text/html": [
       "<div class=\"dni-plaintext\"><pre>100</pre></div><style>\r\n",
       ".dni-code-hint {\r\n",
       "    font-style: italic;\r\n",
       "    overflow: hidden;\r\n",
       "    white-space: nowrap;\r\n",
       "}\r\n",
       ".dni-treeview {\r\n",
       "    white-space: nowrap;\r\n",
       "}\r\n",
       ".dni-treeview td {\r\n",
       "    vertical-align: top;\r\n",
       "    text-align: start;\r\n",
       "}\r\n",
       "details.dni-treeview {\r\n",
       "    padding-left: 1em;\r\n",
       "}\r\n",
       "table td {\r\n",
       "    text-align: start;\r\n",
       "}\r\n",
       "table tr { \r\n",
       "    vertical-align: top; \r\n",
       "    margin: 0em 0px;\r\n",
       "}\r\n",
       "table tr td pre \r\n",
       "{ \r\n",
       "    vertical-align: top !important; \r\n",
       "    margin: 0em 0px !important;\r\n",
       "} \r\n",
       "table th {\r\n",
       "    text-align: start;\r\n",
       "}\r\n",
       "</style>"
      ]
     },
     "metadata": {},
     "output_type": "display_data"
    }
   ],
   "source": [
    " Func<int, int> GetSquareFunction()\n",
    "{  \n",
    "    return int (x) => x * x;\n",
    "}\n",
    "\n",
    "GetSquareFunction().Invoke(10).Display();"
   ]
  },
  {
   "cell_type": "markdown",
   "metadata": {},
   "source": [
    "# Continue learning\n",
    "\n",
    "There are plenty more resources out there to learn!\n",
    "\n",
    "> [⏩ Next Module - Allow Const Interpolated Strings](76.AllowConstInterpolatedStrings.ipynb)\n",
    ">\n",
    "> [⏪ Last Module - Extended Property Patterns](74.ExtendedPropertyPatterns.ipynb)\n",
    ">\n",
    "> [Reference - lambda-expression-improvements](https://learn.microsoft.com/en-us/dotnet/csharp/whats-new/csharp-10#lambda-expression-improvements)    \n",
    ">\n",
    "> [Reference - C#-version-10](https://learn.microsoft.com/en-us/dotnet/csharp/whats-new/csharp-10)  "
   ]
  }
 ],
 "metadata": {
  "language_info": {
   "name": "python"
  },
  "orig_nbformat": 4
 },
 "nbformat": 4,
 "nbformat_minor": 2
}
