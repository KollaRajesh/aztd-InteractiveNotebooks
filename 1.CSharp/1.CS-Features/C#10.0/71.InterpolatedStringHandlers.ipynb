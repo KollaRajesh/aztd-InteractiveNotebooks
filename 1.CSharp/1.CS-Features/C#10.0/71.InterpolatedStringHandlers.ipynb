{
 "cells": [
  {
   "cell_type": "markdown",
   "metadata": {},
   "source": [
    "> ### **Interpolated String Handlers** in C#\n",
    ">    Version *C# 10.0*"
   ]
  },
  {
   "cell_type": "markdown",
   "metadata": {},
   "source": [
    "> **Interpolated String Handlers**: You can create a type that builds the resulting string from an interpolated string expression.   \n",
    ">\n",
    ">   In C# 10.0, an interpolated string handler is a type that processes the placeholder expression in an interpolated string. W\n",
    ">   Without a custom handler, placeholders are processed similar to String.Format. \n",
    ">   Each placeholder is formatted as text, and then the components are concatenated to form the resulting string. \n",
    ">\n",
    ">   We can write a handler for any scenario where you use information about the resulting string."
   ]
  },
  {
   "cell_type": "markdown",
   "metadata": {},
   "source": [
    ">  Here are two examples\n",
    "> \n",
    ">  1. *Logging libraries*: Depending on the configured log level, the work to construct a log message isn’t needed.   \n",
    ">         If logging is off, the work to construct a string from an interpolated string expression isn’t needed.                                                                                                                                                                                                     \n",
    ">         The message is never printed, so any string concatenation can be skipped. In addition, any expressions used in the placeholders, including generating stack traces, doesn’t need to be done.  \n",
    ">         An interpolated string handler can determine if the formatted string will be used, and only perform the necessary work if needed.\n",
    ">\n",
    ">   2. *Fixed-length buffer*: We can process the interpolated strings to fill a fixed-length buffer, and stop processing once that buffer length is reached.\n",
    "        We may have a tabular format, and each placeholder must have a fixed length. A custom handler can enforce that, rather than forcing all client code to conform."
   ]
  },
  {
   "cell_type": "code",
   "execution_count": null,
   "metadata": {
    "dotnet_interactive": {
     "language": "csharp"
    },
    "polyglot_notebook": {
     "kernelName": "csharp"
    },
    "vscode": {
     "languageId": "polyglot-notebook"
    }
   },
   "outputs": [],
   "source": [
    "//LogInterpolatedStringHandler: This handler builds a log message based on the log level and the logger object. It can skip unnecessary work when the log level is too low or the logger is disabled \n",
    "#r \"nuget: Microsoft.Extensions.Logging\"\n",
    "using Microsoft.Extensions.Logging;\n",
    "\n",
    "public enum LogLevel\n",
    "{\n",
    "    Off,\n",
    "    Critical,\n",
    "    Error,\n",
    "    Warning,\n",
    "    Information,\n",
    "    Trace\n",
    "}\n",
    "public interface ILogger{\n",
    "\n",
    "   void  LogMessage(LogLevel level, string msg);\n",
    "}\n",
    "public class Logger :ILogger\n",
    "{\n",
    "    public LogLevel EnabledLevel { get; init; } = LogLevel.Error;\n",
    "\n",
    "    public void LogMessage(LogLevel level, string msg)\n",
    "    {\n",
    "        if (EnabledLevel < level) return;\n",
    "        Console.WriteLine(msg);\n",
    "    }\n",
    "}\n",
    "\n",
    "[System.Runtime.CompilerServices.InterpolatedStringHandler]\n",
    "public class LogInterpolatedStringHandler \n",
    "{\n",
    "    private readonly ILogger _logger;\n",
    "    private readonly LogLevel _logLevel;\n",
    "\n",
    "    public LogInterpolatedStringHandler(ILogger logger, LogLevel logLevel)\n",
    "    {\n",
    "        _logger = logger;\n",
    "        _logLevel = logLevel;\n",
    "    }\n",
    "\n",
    "    public void AppendLiteral(string literal) { }\n",
    "\n",
    "    public void AppendFormatted<T>(T value, string format, IFormatProvider formatProvider)\n",
    "    {\n",
    "       // if (_logger.IsEnabled(_logLevel)){\n",
    "            _logger.LogMessage(_logLevel, value.ToString());\n",
    "        //}\n",
    "    }\n",
    "\n",
    "    public string ToString(IFormatProvider formatProvider) => string.Empty;\n",
    "}\n",
    "\n",
    "var logger = new Logger() { EnabledLevel = LogLevel.Warning };\n",
    "var time = DateTime.Now;\n",
    "\n",
    "logger.LogMessage(LogLevel.Error, $\"Error Level. CurrentTime: {time}. This is an error. It will be printed.\");\n",
    "logger.LogMessage(LogLevel.Trace, $\"Trace Level. CurrentTime: {time}. This won't be printed.\");\n",
    "logger.LogMessage(LogLevel.Warning, \"Warning Level. This warning is a string, not an interpolated string expression.\");"
   ]
  },
  {
   "cell_type": "markdown",
   "metadata": {},
   "source": [
    "> Example :2 Adding Caller Information"
   ]
  },
  {
   "cell_type": "code",
   "execution_count": null,
   "metadata": {
    "dotnet_interactive": {
     "language": "csharp"
    },
    "polyglot_notebook": {
     "kernelName": "csharp"
    },
    "vscode": {
     "languageId": "polyglot-notebook"
    }
   },
   "outputs": [],
   "source": [
    "using System.Runtime.CompilerServices;\n",
    "[InterpolatedStringHandler]\n",
    "public readonly ref struct LogInterpolatedStringHandler  \n",
    "{  \n",
    "  private readonly StringBuilder _builder;   \n",
    "\n",
    "  public LogInterpolatedStringHandler (int literalLength, int formattedCount, [CallerFilePath] string filePath = \"\", [CallerLineNumber] int lineNumber = 0)  \n",
    "  {  \n",
    "    _builder = new StringBuilder (literalLength);   \n",
    "    _builder.Append (filePath);  \n",
    "    _builder.Append (':');  \n",
    "    _builder.Append (lineNumber);  \n",
    "  }   \n",
    "\n",
    "  public void AppendLiteral (string s)  \n",
    "  {  \n",
    "    _builder.Append (s);  \n",
    "  }   \n",
    "\n",
    "  public void AppendFormatted<T> (T t)  \n",
    "  {  \n",
    "    _builder.Append (t);  \n",
    "  }   \n",
    "\n",
    "  internal string GetFormattedText () => _builder.ToString (); \n",
    "}\n",
    "static void LogMessage (LogInterpolatedStringHandler handler) \n",
    "{ \n",
    "  Console.WriteLine (handler.GetFormattedText ()); \n",
    "} \n",
    "  LogMessage ($\"string is {s}, int is {i}\"); \n"
   ]
  },
  {
   "cell_type": "markdown",
   "metadata": {},
   "source": [
    "# Continue learning\n",
    "\n",
    "There are plenty more resources out there to learn!\n",
    "\n",
    "> [⏩ Next Module - Global Using Directives](72.GlobalUsingDirectives.ipynb)\n",
    ">\n",
    "> [⏪ Last Module - Improvements Of StructureTypes](70.ImprovementsOfStructureTypes.ipynb)\n",
    ">\n",
    "> [Reference - interpolated-string-handler](https://learn.microsoft.com/en-us/dotnet/csharp/whats-new/csharp-10#interpolated-string-handler)    \n",
    "> [Reference - interpolated-string-handler](https://learn.microsoft.com/en-us/dotnet/csharp/whats-new/tutorials/interpolated-string-handler)\n",
    "> [Reference - C#-version-10](https://learn.microsoft.com/en-us/dotnet/csharp/whats-new/csharp-10)  "
   ]
  }
 ],
 "metadata": {
  "language_info": {
   "name": "python"
  },
  "orig_nbformat": 4
 },
 "nbformat": 4,
 "nbformat_minor": 2
}
