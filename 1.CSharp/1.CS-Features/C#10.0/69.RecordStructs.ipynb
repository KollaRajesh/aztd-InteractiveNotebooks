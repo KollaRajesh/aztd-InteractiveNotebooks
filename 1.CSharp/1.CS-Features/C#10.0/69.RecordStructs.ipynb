{
 "cells": [
  {
   "cell_type": "markdown",
   "metadata": {},
   "source": [
    "> ### **Record Structs** in C#\n",
    ">    Version *C# 10.0*"
   ]
  },
  {
   "cell_type": "markdown",
   "metadata": {},
   "source": [
    "> **Record Structs**: We can declare value type records using the record struct or readonly record struct declarations.  \n",
    ">\n",
    ">    -  Record structs are a feature introduced in C# 10.0. They are value types and implicitly inherit from the class System.ValueType.\n",
    ">\n",
    ">   ** Primary Constructor** - When you declare a primary constructor on a record, the compiler generates public properties for the primary constructor parameters.  \n",
    ">    -  The primary constructor parameters to a record are referred to as positional parameters. \n",
    ">    -  The compiler creates positional properties that mirror the primary constructor or positional parameters.\n",
    ">    -  The compiler doesn't synthesize properties for primary constructor parameters on types that don't have the record modifier.\n",
    ">\n",
    ">\n",
    ">   Here are some key features of record structs:\n",
    ">\n",
    ">  1. **Immutability**: Record structs are immutable by default, meaning you cannot modify their properties once they are created.\n",
    ">\n",
    ">  2. **Equality Members**: The synthesized equality members are similar as in a record class (Equals for this type, Equals for object type, == and != operators for this type), except for the lack of EqualityContract, null checks or inheritance.\n",
    "> \n",
    ">  3. **Synthesized Members**: In addition to the members declared in the record struct body, a record struct type has additional synthesized members.\n",
    ">\n",
    ">\n"
   ]
  },
  {
   "cell_type": "markdown",
   "metadata": {},
   "source": [
    "> The following two examples demonstrate record (or record class) reference types for Primary constructor:"
   ]
  },
  {
   "cell_type": "code",
   "execution_count": null,
   "metadata": {
    "dotnet_interactive": {
     "language": "csharp"
    },
    "polyglot_notebook": {
     "kernelName": "csharp"
    },
    "vscode": {
     "languageId": "polyglot-notebook"
    }
   },
   "outputs": [],
   "source": [
    "public record Person(string FirstName, string LastName,string[] PhoneNumbers);\n",
    " Person person =new(\"Rob\",\"M\", new string[1] { \"224-43244\" });\n",
    " //person.FirstName =\"dafs\"; //Error: (3,2): error CS8852: Init-only property or indexer 'Person.FirstName' can only be assigned in an object initializer, or on 'this' or 'base' in an instance constructor or an 'init' accessor.\n",
    "Console.WriteLine(person.PhoneNumbers[0]); // output: 224-43244\n",
    "person.PhoneNumbers[0] = \"324-67891\";\n",
    "Console.WriteLine(person.PhoneNumbers[0]); // output: 324-67891\n",
    " \n",
    "person.Display();\n"
   ]
  },
  {
   "cell_type": "code",
   "execution_count": null,
   "metadata": {
    "dotnet_interactive": {
     "language": "csharp"
    },
    "polyglot_notebook": {
     "kernelName": "csharp"
    },
    "vscode": {
     "languageId": "polyglot-notebook"
    }
   },
   "outputs": [],
   "source": [
    "public record Person\n",
    "{\n",
    "    public required string FirstName { get; init; }\n",
    "    public required string LastName { get; init; }\n",
    "};\n",
    "//Person person =new Person(); // will throw exception Required member 'Person.FirstName' and  'Person.LastName'  must be set in the object initializer or attribute constructor.\n",
    "  Person person =new Person(){FirstName=\"\",LastName=\"\"};\n",
    "person.Display();"
   ]
  },
  {
   "cell_type": "markdown",
   "metadata": {},
   "source": [
    "> The following two examples demonstrate record struct value types:"
   ]
  },
  {
   "cell_type": "code",
   "execution_count": null,
   "metadata": {
    "dotnet_interactive": {
     "language": "csharp"
    },
    "polyglot_notebook": {
     "kernelName": "csharp"
    },
    "vscode": {
     "languageId": "polyglot-notebook"
    }
   },
   "outputs": [],
   "source": [
    "public readonly record struct Point(double X, double Y, double Z);\n",
    "\n",
    "Point point =new();\n",
    "point.Display();\n",
    "\n",
    "Point point1 =new(10,20,10);\n",
    "point1.Display();"
   ]
  },
  {
   "cell_type": "code",
   "execution_count": null,
   "metadata": {
    "dotnet_interactive": {
     "language": "csharp"
    },
    "polyglot_notebook": {
     "kernelName": "csharp"
    },
    "vscode": {
     "languageId": "polyglot-notebook"
    }
   },
   "outputs": [],
   "source": [
    "public record struct Point\n",
    "{\n",
    "    public  double X { get; init; }\n",
    "    public  double Y { get; init; }\n",
    "    public  double Z { get; init; }\n",
    "}\n",
    "\n",
    "Point point =new();\n",
    " //point.X=1;  throw exception - Error: (9,2): error CS8852: Init-only property or indexer 'Point.X' can only be assigned in an object initializer, or on 'this' or 'base' in an instance constructor or an 'init' accessor.\n",
    "point.Display();\n",
    "\n",
    " Point point1 =new(){X=1,Y=2};\n",
    " point1.Display();"
   ]
  },
  {
   "cell_type": "markdown",
   "metadata": {},
   "source": [
    "> 2. Example of  **Equity Members** :"
   ]
  },
  {
   "cell_type": "code",
   "execution_count": null,
   "metadata": {
    "dotnet_interactive": {
     "language": "csharp"
    },
    "polyglot_notebook": {
     "kernelName": "csharp"
    },
    "vscode": {
     "languageId": "polyglot-notebook"
    }
   },
   "outputs": [],
   "source": [
    "public record Person(string FirstName, string LastName,string[] PhoneNumbers);\n",
    "  var phoneNumbers = new string[2];\n",
    "Person person1 = new(\"Rob\", \"M\", phoneNumbers);\n",
    "Person person2 = new(\"Rob\", \"M\", phoneNumbers);\n",
    "\n",
    "(person1==person2).Display();\n",
    "\n",
    "Person person3 = new(\"Mark\", \"M\", phoneNumbers);\n",
    "(person1==person3).Display();"
   ]
  },
  {
   "cell_type": "markdown",
   "metadata": {},
   "source": [
    "> 3. Example of **Inheritance**\n",
    "> - A record can inherit from another record. However, a record can't inherit from a class, and a class can't inherit from a record."
   ]
  },
  {
   "cell_type": "code",
   "execution_count": null,
   "metadata": {
    "dotnet_interactive": {
     "language": "csharp"
    },
    "polyglot_notebook": {
     "kernelName": "csharp"
    },
    "vscode": {
     "languageId": "polyglot-notebook"
    }
   },
   "outputs": [],
   "source": [
    "public abstract record Person(string FirstName, string LastName);\n",
    "public record Teacher(string FirstName, string LastName, int Grade) : Person(FirstName, LastName);\n",
    "Person teacher = new Teacher(\"Mark\", \"Davidson\", 3);\n",
    "Console.WriteLine(teacher);"
   ]
  },
  {
   "cell_type": "markdown",
   "metadata": {},
   "source": [
    "> 4. Example of  **Synthesized Members** :"
   ]
  },
  {
   "cell_type": "code",
   "execution_count": null,
   "metadata": {
    "dotnet_interactive": {
     "language": "csharp"
    },
    "polyglot_notebook": {
     "kernelName": "csharp"
    },
    "vscode": {
     "languageId": "polyglot-notebook"
    }
   },
   "outputs": [],
   "source": [
    "public abstract record Person(string FirstName, string LastName, string[] PhoneNumbers)\n",
    "{\n",
    "    protected virtual bool PrintMembers(StringBuilder stringBuilder)\n",
    "    {\n",
    "        stringBuilder.Append($\"FirstName = {FirstName}, LastName = {LastName}, \");\n",
    "        stringBuilder.Append($\"PhoneNumber1 = {PhoneNumbers[0]}, PhoneNumber2 = {PhoneNumbers[1]}\");\n",
    "        return true;\n",
    "    }\n",
    "}\n",
    "\n",
    "public record Teacher(string FirstName, string LastName, string[] PhoneNumbers, int Grade)\n",
    "    : Person(FirstName, LastName, PhoneNumbers)\n",
    "{\n",
    "    protected override bool PrintMembers(StringBuilder stringBuilder)\n",
    "    {\n",
    "        if (base.PrintMembers(stringBuilder))\n",
    "        {\n",
    "            stringBuilder.Append(\", \");\n",
    "        };\n",
    "        stringBuilder.Append($\"Grade1 = {Grade}\");\n",
    "        return true;\n",
    "    }\n",
    "};\n",
    "    Person teacher = new Teacher(\"Scott\", \"Davidson\", new string[2] { \"224-48534\", \"342-636789\" }, 1);\n",
    "    Console.WriteLine(teacher);\n",
    "    \n",
    "    // output: Teacher { FirstName = Scott, LastName = Davidson, PhoneNumber1 = 224-48534, PhoneNumber2 = 342-636789, Grade1 = 1 }\n"
   ]
  },
  {
   "cell_type": "markdown",
   "metadata": {},
   "source": [
    "> **Deconstructor** behavior in derived records :\n",
    "\n",
    ">  - The Deconstruct method of a derived record returns the values of all positional properties of the compile-time type. \n",
    ">  - If the variable type is a base record, only the base record properties are deconstructed unless the object is cast to the derived type. "
   ]
  },
  {
   "cell_type": "code",
   "execution_count": null,
   "metadata": {
    "dotnet_interactive": {
     "language": "csharp"
    },
    "polyglot_notebook": {
     "kernelName": "csharp"
    },
    "vscode": {
     "languageId": "polyglot-notebook"
    }
   },
   "outputs": [],
   "source": [
    "public abstract record Person(string FirstName, string LastName);\n",
    "\n",
    "public record Teacher(string FirstName, string LastName, int Grade): Person(FirstName, LastName);\n",
    "public record Student(string FirstName, string LastName, int Grade): Person(FirstName, LastName);\n",
    "\n",
    "    Person teacher = new Teacher(\"Mark\", \"Davinco\", 3);\n",
    "    var (firstName, lastName) = teacher; // Doesn't deconstruct Grade\n",
    "    Console.WriteLine($\"{firstName}, {lastName}\");// output: Mark, Davinco\n",
    "\n",
    "    var (fName, lName, grade) = (Teacher)teacher;\n",
    "    Console.WriteLine($\"{fName}, {lName}, {grade}\");// output: Mark, Davinco, 3"
   ]
  },
  {
   "cell_type": "markdown",
   "metadata": {},
   "source": [
    "# Continue learning\n",
    "\n",
    "There are plenty more resources out there to learn!\n",
    "\n",
    "> [⏩ Next Module - Improvements Of Structure Types ](70.ImprovementsOfStructureTypes.ipynb)\n",
    ">\n",
    "> [⏪ Last Module - C#10 Features Overview](69.0.C#10-Features%20Overview.ipynb)\n",
    ">\n",
    "> [Reference - record-structs](https://learn.microsoft.com/en-us/dotnet/csharp/whats-new/csharp-10#record-structs)    \n",
    "> [Reference - C#-version-10](https://learn.microsoft.com/en-us/dotnet/csharp/whats-new/csharp-10)   "
   ]
  }
 ],
 "metadata": {
  "language_info": {
   "name": "python"
  },
  "orig_nbformat": 4
 },
 "nbformat": 4,
 "nbformat_minor": 2
}
