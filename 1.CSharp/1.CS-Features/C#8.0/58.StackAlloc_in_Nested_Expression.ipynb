{
 "cells": [
  {
   "cell_type": "markdown",
   "metadata": {},
   "source": [
    "> ### **Stackalloc** in in C#\n",
    ">    Version *C# 8.0*"
   ]
  },
  {
   "cell_type": "markdown",
   "metadata": {},
   "source": [
    "> **Stackalloc** -\n",
    ">  - The stackalloc operator in C# creates a block of memory on the stack and returns a pointer to the start of that memory address.\n",
    ">  - Stack-allocated memory is automatically destroyed when the scope it was created in is exited.\n",
    ">  - We cannot explicitly free the memory allocated with stackalloc.\n",
    "> \n",
    ">\n",
    ">**Note**: \n",
    ">   -  The stackalloc operator allocates memory in an unsafe context (so it should be used with caution).\n",
    ">   -  It is similar to the alloc function of our traditional C language.\n",
    ">   -  The stackalloc operator implements a form of malloc that frees the memory when the calling function returns."
   ]
  },
  {
   "cell_type": "code",
   "execution_count": null,
   "metadata": {
    "dotnet_interactive": {
     "language": "csharp"
    },
    "polyglot_notebook": {
     "kernelName": "csharp"
    },
    "vscode": {
     "languageId": "polyglot-notebook"
    }
   },
   "outputs": [],
   "source": [
    "//Before C# 7.2\n",
    "            unsafe\n",
    "            {\n",
    "                //Allocate Some Memory on the stack using stackalloc\n",
    "                //Int = 4 Bytes, so it will allocate 40 (10*4) Bytes of Memory in Stack\n",
    "                int* ptr = stackalloc int[10];\n",
    "                for (int i = 0; i < 10; i++)\n",
    "                {\n",
    "                    ptr[i] = i + 1;\n",
    "                }\n",
    "                for (int i = 0; i < 10; i++)\n",
    "                {\n",
    "                    Console.Write($\"{ptr[i]} \");\n",
    "                }\n",
    "            } \n",
    "            \n",
    "    "
   ]
  },
  {
   "cell_type": "code",
   "execution_count": null,
   "metadata": {
    "dotnet_interactive": {
     "language": "csharp"
    },
    "polyglot_notebook": {
     "kernelName": "csharp"
    },
    "vscode": {
     "languageId": "polyglot-notebook"
    }
   },
   "outputs": [],
   "source": [
    "using System;\n",
    "using System.Dynamic;\n",
    "using System.Reflection;\n",
    "\n",
    "    //Storing the result of stackalloc in Span<int>\n",
    "    Span<int>  numbers = stackalloc int[] { 10, 20, 30, 40, 50, 60, 70, 80, 80, 100 };\n",
    "    //Now we can use stackalloc expression i.e. numbers in other expressions\n",
    "    //IndexOfAny: Searches for the first index of any of the specified values.\n",
    "    var index = numbers.IndexOfAny(stackalloc[] {11, 40, 60, 100 });\n",
    "    Console.WriteLine(index); // output: 3  "
   ]
  },
  {
   "cell_type": "code",
   "execution_count": null,
   "metadata": {
    "dotnet_interactive": {
     "language": "csharp"
    },
    "polyglot_notebook": {
     "kernelName": "csharp"
    },
    "vscode": {
     "languageId": "polyglot-notebook"
    }
   },
   "outputs": [],
   "source": [
    "using System;\n",
    "using System.Dynamic;\n",
    "using System.Reflection;\n",
    "\n",
    " //Storing the result of stackalloc in Span<int> so that we can resue it in another expression\n",
    "Span<int> set = stackalloc int[6] { 1, 2, 3, 4, 5, 6 };\n",
    "//Reusing stackalloc expression  \n",
    "//Forms a slice out of the current span starting at a specified index for a specified length.\n",
    "Span<int> subSet = set.Slice(3, 2);\n",
    "foreach (var n in subSet)\n",
    "{\n",
    "    Console.WriteLine(n); // Output: 4 5\n",
    "}"
   ]
  },
  {
   "cell_type": "markdown",
   "metadata": {},
   "source": [
    "> When to use stackalloc in C#?\n",
    ">\n",
    "> The stackalloc should only be used for performance optimizations (either for computation or interop). This is due to the following facts:\n",
    ">\n",
    ">  - The garbage collector is not required as the memory is allocated on the stack rather than the heap.   \n",
    ">  - The memory is released as soon as the variable goes out of scope.\n",
    ">  - It is faster to allocate memory on the stack rather than the heap."
   ]
  },
  {
   "cell_type": "markdown",
   "metadata": {},
   "source": [
    "# Continue learning\n",
    "\n",
    "There are plenty more resources out there to learn!\n",
    "\n",
    "> [⏩ Next Module -Init-OnlyProperties ](../C#9.0/59.Init-OnlyProperties.ipynb)\n",
    ">\n",
    "> [⏪ Last Module - UnManaged ConstructedTypes](57.UnManagedConstructedTypes.ipynb)\n",
    ">\n",
    "> [Reference - unmanaged types](https://learn.microsoft.com/en-us/dotnet/csharp/language-reference/builtin-types/unmanaged-types)\n",
    "> [Reference - unmanaged constructed types in csharp-8](https://dotnettutorials.net/lesson/unmanaged-constructed-types-in-csharp-8/)"
   ]
  }
 ],
 "metadata": {
  "language_info": {
   "name": "python"
  },
  "orig_nbformat": 4
 },
 "nbformat": 4,
 "nbformat_minor": 2
}
