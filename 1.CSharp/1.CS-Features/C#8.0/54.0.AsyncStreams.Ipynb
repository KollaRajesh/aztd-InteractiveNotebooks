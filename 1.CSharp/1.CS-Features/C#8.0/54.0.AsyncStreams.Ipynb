{
 "cells": [
  {
   "cell_type": "markdown",
   "metadata": {},
   "source": [
    "> ### **Async streams**:\n",
    ">    Version *C# 8.0*"
   ]
  },
  {
   "cell_type": "markdown",
   "metadata": {},
   "source": [
    "> **Async streams**: This feature allows you to create asynchronous streams of data using the yield return syntax.  \n",
    ">\n",
    ">   This can help simplify asynchronous programming and make it easier to work with streams of data."
   ]
  },
  {
   "cell_type": "code",
   "execution_count": 1,
   "metadata": {
    "dotnet_interactive": {
     "language": "csharp"
    },
    "polyglot_notebook": {
     "kernelName": "csharp"
    },
    "vscode": {
     "languageId": "polyglot-notebook"
    }
   },
   "outputs": [],
   "source": [
    "using System;\n",
    "using System.IO;\n",
    "using System.Threading.Tasks;\n",
    "\n",
    "\n",
    "public static async IAsyncEnumerable<string> ReadLinesAsync(string path)\n",
    "{\n",
    "    using var reader = File.OpenText(path);\n",
    "    string line;\n",
    "    while ((line = await reader.ReadLineAsync()) != null)\n",
    "    {\n",
    "        yield return line;\n",
    "    }\n",
    "}\n",
    "    //add complete file path \n",
    "    await foreach (var line in ReadLinesAsync(\"sample.txt\"))\n",
    "    {\n",
    "        Console.WriteLine(line);\n",
    "    }\n"
   ]
  },
  {
   "cell_type": "markdown",
   "metadata": {},
   "source": [
    "> **Example 2**:\n",
    "> - Generating Fibonacci numbers asynchronously"
   ]
  },
  {
   "cell_type": "code",
   "execution_count": null,
   "metadata": {
    "dotnet_interactive": {
     "language": "csharp"
    },
    "polyglot_notebook": {
     "kernelName": "csharp"
    },
    "vscode": {
     "languageId": "polyglot-notebook"
    }
   },
   "outputs": [],
   "source": [
    "using System;\n",
    "using System.Threading.Tasks;\n",
    "\n",
    "public static async IAsyncEnumerable<int> GenerateFibonacciAsync(int count)\n",
    "{\n",
    "    int current = 0, next = 1;\n",
    "    for (int i = 0; i < count; i++)\n",
    "    {\n",
    "        await Task.Delay(500); // simulate some work\n",
    "        yield return current;\n",
    "        int temp = next;\n",
    "        next = current + next;\n",
    "        current = temp;\n",
    "    }\n",
    "}\n",
    "\n",
    "\n",
    "    await foreach (var number in GenerateFibonacciAsync(10)){\n",
    "                Console.WriteLine(number);\n",
    "     }"
   ]
  },
  {
   "cell_type": "markdown",
   "metadata": {},
   "source": [
    "# Continue learning\n",
    "\n",
    "There are plenty more resources out there to learn!\n",
    "\n",
    "> [⏩ Next Module - ASynchronous Disposable](54.1.ASynchronousDisposable.ipynb)\n",
    ">\n",
    "> [⏪ Last Module - Nullable ReferenceTypes](53.NullableReferenceTypes.ipynb)\n",
    ">\n",
    "> [Reference - asynchronous streams in csharp-8](https://dotnettutorials.net/lesson/asynchronous-streams-in-csharp-8/)\n",
    "> [Reference - generate consume asynchronous stream](https://learn.microsoft.com/en-us/dotnet/csharp/asynchronous-programming/generate-consume-asynchronous-stream)"
   ]
  }
 ],
 "metadata": {
  "language_info": {
   "name": "python"
  },
  "orig_nbformat": 4
 },
 "nbformat": 4,
 "nbformat_minor": 2
}
