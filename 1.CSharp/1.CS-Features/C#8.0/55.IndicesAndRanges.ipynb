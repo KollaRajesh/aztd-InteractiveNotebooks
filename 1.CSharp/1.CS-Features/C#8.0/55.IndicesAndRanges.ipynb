{
 "cells": [
  {
   "cell_type": "markdown",
   "metadata": {},
   "source": [
    "> ### **Indices and Ranges**:\n",
    ">    Version *C# 8.0*"
   ]
  },
  {
   "cell_type": "markdown",
   "metadata": {},
   "source": [
    "> **Ranges and indices**: This feature allows you to work with ranges and indices in a more natural way.\n",
    ">\n",
    "> You can use the .. operator to create a range and the ^ operator to create an index from the end of an array."
   ]
  },
  {
   "cell_type": "code",
   "execution_count": null,
   "metadata": {
    "dotnet_interactive": {
     "language": "csharp"
    },
    "polyglot_notebook": {
     "kernelName": "csharp"
    },
    "vscode": {
     "languageId": "polyglot-notebook"
    }
   },
   "outputs": [],
   "source": [
    "int[] numbers = { 0, 1, 2, 3, 4, 5 };\n",
    "numbers.Display();\n",
    "int[] slice = numbers[1..4]; // slice contains { 1, 2, 3 }\n",
    "slice.Display();"
   ]
  },
  {
   "cell_type": "code",
   "execution_count": null,
   "metadata": {
    "dotnet_interactive": {
     "language": "csharp"
    },
    "polyglot_notebook": {
     "kernelName": "csharp"
    },
    "vscode": {
     "languageId": "polyglot-notebook"
    }
   },
   "outputs": [],
   "source": [
    "   var countries = new string[]\n",
    "            {\n",
    "                                        //Index From Start      \n",
    "                \"INDIA\",                //0                                  \n",
    "                \"USA\",                  //1                     \n",
    "                \"UK\",                   //2                     \n",
    "                \"NZ\",                   //3                     \n",
    "                \"CANADA\",               //4                   \n",
    "                \"CHINA\",                //5                    \n",
    "                \"NEPAL\",                //6                    \n",
    "                \"RUSIA\",                //7                    \n",
    "                \"SRILANKA\",             //8                  \n",
    "                \"INDONESIA\"             //9                     \n",
    "            };\n",
    "            //Fetching Elements from the Middle of the Collection\n",
    "            //It will fetch elements from Index Position 2 to Index Position 4 (5-1)\n",
    "            var subCountries = countries[2..5];\n",
    "            subCountries.Display();"
   ]
  },
  {
   "cell_type": "code",
   "execution_count": null,
   "metadata": {
    "dotnet_interactive": {
     "language": "csharp"
    },
    "polyglot_notebook": {
     "kernelName": "csharp"
    },
    "vscode": {
     "languageId": "polyglot-notebook"
    }
   },
   "outputs": [],
   "source": [
    "List<string> names = new List<string> { \"Alice\", \"Bob\", \"Charlie\",\"Rob\",\"Mag\" };\n",
    "names.Display();\n",
    "var d=names.ToArray();\n",
    "d[1..3].Display();\n",
    "d[1..].Display();\n",
    "d[..3].Display();"
   ]
  },
  {
   "cell_type": "markdown",
   "metadata": {},
   "source": [
    "# Continue learning\n",
    "\n",
    "There are plenty more resources out there to learn!\n",
    "\n",
    "> [⏩ Next Module - Null Coalescing Assignment](56.Null-CoalescingAssignment.ipynb)\n",
    ">\n",
    "> [⏪ Last Module - ASynchronous Disposable](54.1.ASynchronousDisposable.ipynb)\n",
    ">\n",
    "> [Reference - Indices and Ranges in C#](https://learn.microsoft.com/en-us/dotnet/csharp/language-reference/proposals/csharp-8.0/ranges)\n",
    "> [Reference - ranges indexes in C#](https://learn.microsoft.com/en-us/dotnet/csharp/tutorials/ranges-indexes)"
   ]
  }
 ],
 "metadata": {
  "language_info": {
   "name": "python"
  },
  "orig_nbformat": 4
 },
 "nbformat": 4,
 "nbformat_minor": 2
}
