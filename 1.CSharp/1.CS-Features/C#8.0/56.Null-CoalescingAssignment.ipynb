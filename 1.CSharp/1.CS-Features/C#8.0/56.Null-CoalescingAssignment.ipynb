{
 "cells": [
  {
   "cell_type": "markdown",
   "metadata": {},
   "source": [
    "> ### **NULL- Coalesing Assignments**:\n",
    ">    Version *C# 8.0*"
   ]
  },
  {
   "cell_type": "markdown",
   "metadata": {},
   "source": [
    ">**Null coalescing assignment**: This feature allows you to assign a value to a variable only if it is null.\n",
    ">\n",
    "> We can use the ??= operator to achieve this."
   ]
  },
  {
   "cell_type": "code",
   "execution_count": null,
   "metadata": {
    "dotnet_interactive": {
     "language": "csharp"
    },
    "polyglot_notebook": {
     "kernelName": "csharp"
    },
    "vscode": {
     "languageId": "polyglot-notebook"
    }
   },
   "outputs": [],
   "source": [
    "int? x = null;\n",
    "int y = 5;\n",
    "\n",
    "// Example 1\n",
    "x ??= y;\n",
    "Console.WriteLine(x); // Output: 5\n",
    "\n",
    "// Example 2\n",
    "int? z = null;\n",
    "int w = z ??= y;\n",
    "Console.WriteLine(z); // Output: 5\n",
    "Console.WriteLine(w); // Output: 5\n"
   ]
  },
  {
   "cell_type": "markdown",
   "metadata": {},
   "source": [
    ">  - In Example 1,  \n",
    ">  \n",
    ">    - x is assigned the value of y because x is null. Therefore, the output is 5.  \n",
    ">  \n",
    ">  \n",
    ">  \n",
    ">  - In Example 2,   \n",
    ">  \n",
    ">    - z is assigned the value of y because z is null.   \n",
    ">    - The expression z ??= y returns the value of y and assigns it to z. Therefore, the output of z is 5 and the output of w is also 5.  "
   ]
  },
  {
   "cell_type": "code",
   "execution_count": null,
   "metadata": {
    "dotnet_interactive": {
     "language": "csharp"
    },
    "polyglot_notebook": {
     "kernelName": "csharp"
    },
    "vscode": {
     "languageId": "polyglot-notebook"
    }
   },
   "outputs": [],
   "source": [
    "//Creating null variables\n",
    "List<int>? numbersList = null;\n",
    "int? number = null;\n",
    "\n",
    "//The numbersList is null, so will create new List<int>() object\n",
    "numbersList ??= new List<int>();\n",
    "\n",
    "//As number is null, so it will assign 25 to number and store it in the list\n",
    "numbersList.Add(number ??= 25);\n",
    "\n",
    "//Now number is not null, so it will not assign 30 to number,\n",
    "//so the previous value 25 will store again in the list\n",
    "numbersList.Add(number ??= 30);\n",
    "\n",
    "foreach (var item in numbersList)\n",
    "{\n",
    "    Console.Write(item + \" \"); // output:25 25\n",
    "}\n",
    "\n",
    "Console.WriteLine();\n",
    "Console.WriteLine(number);  // output:25"
   ]
  },
  {
   "cell_type": "markdown",
   "metadata": {},
   "source": [
    "# Continue learning\n",
    "\n",
    "There are plenty more resources out there to learn!\n",
    "\n",
    "> [⏩ Next Module - UnManaged Constructed Types](57.UnManagedConstructedTypes.ipynb)\n",
    ">\n",
    "> [⏪ Last Module - Indices and Ranges](55.IndicesAndRanges.ipynb)\n",
    ">\n",
    "> [Reference - null coalescing operator](https://learn.microsoft.com/en-us/dotnet/csharp/language-reference/operators/null-coalescing-operator)\n",
    "> [Reference - null coalescing assignment operator in csharp-8](https://dotnettutorials.net/lesson/null-coalescing-assignment-operator-in-csharp-8/)"
   ]
  }
 ],
 "metadata": {
  "language_info": {
   "name": "python"
  },
  "orig_nbformat": 4
 },
 "nbformat": 4,
 "nbformat_minor": 2
}
