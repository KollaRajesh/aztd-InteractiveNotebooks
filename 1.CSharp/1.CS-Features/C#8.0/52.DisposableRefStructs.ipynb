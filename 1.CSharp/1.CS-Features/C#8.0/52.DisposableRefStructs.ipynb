{
 "cells": [
  {
   "cell_type": "markdown",
   "metadata": {},
   "source": [
    "> ### Disposable Ref Structs\n",
    ">    Version *C# 8.0*"
   ]
  },
  {
   "cell_type": "markdown",
   "metadata": {},
   "source": [
    ">  In C# 8.0, a new feature called disposable ref structs was introduced. Ref structs are a type of struct that are allocated on the stack instead of the heap\n",
    ">\n",
    "> **Disposable ref struct**: This feature allows you to define a struct that implements the IDisposable interface.  \n",
    ">  This can help reduce memory allocations and improve performance.\n"
   ]
  },
  {
   "cell_type": "markdown",
   "metadata": {},
   "source": [
    ">  -  Disposable ref structs allow ref structs to be disposable without implementing the IDisposable interface, simply by having a Dispose method in them.\n",
    ">  - This is possible because the Dispose method in the Book struct is automatically consumed by the using statement."
   ]
  },
  {
   "cell_type": "code",
   "execution_count": 18,
   "metadata": {
    "dotnet_interactive": {
     "language": "csharp"
    },
    "polyglot_notebook": {
     "kernelName": "csharp"
    },
    "vscode": {
     "languageId": "polyglot-notebook"
    }
   },
   "outputs": [
    {
     "ename": "Error",
     "evalue": "(8,7): error CS4012: Parameters or locals of type 'Book' cannot be declared in async methods or async lambda expressions.",
     "output_type": "error",
     "traceback": [
      "(8,7): error CS4012: Parameters or locals of type 'Book' cannot be declared in async methods or async lambda expressions."
     ]
    }
   ],
   "source": [
    " //struct Book:IDisposable\n",
    "ref struct Book\n",
    "{\n",
    "    public void Dispose() { }\n",
    "}\n",
    "\n",
    "\n",
    "using(var book = new Book())\n",
    "{\n",
    "    // ...\n",
    "}"
   ]
  },
  {
   "cell_type": "markdown",
   "metadata": {},
   "source": [
    "# Continue learning\n",
    "\n",
    "There are plenty more resources out there to learn!\n",
    "\n",
    "> [⏩ Next Module - Nullable Reference Types](53.NullableReferenceTypes.ipynb)\n",
    ">\n",
    "> [⏪ Last Module - Static Local Functions](51.StaticLocalFunctions.ipynb)\n",
    ">\n",
    "> [Reference - disposable ref structs in csharp-8](https://dotnettutorials.net/lesson/disposable-ref-structs-in-csharp-8/)"
   ]
  }
 ],
 "metadata": {
  "language_info": {
   "name": "python"
  },
  "orig_nbformat": 4
 },
 "nbformat": 4,
 "nbformat_minor": 2
}
