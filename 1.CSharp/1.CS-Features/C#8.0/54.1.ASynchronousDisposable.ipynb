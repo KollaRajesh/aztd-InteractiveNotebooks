{
 "cells": [
  {
   "cell_type": "markdown",
   "metadata": {},
   "source": [
    "> ### **Async Disposable**:\n",
    ">    Version *C# 8.0*"
   ]
  },
  {
   "cell_type": "markdown",
   "metadata": {},
   "source": [
    "> The **DisposeAsync()** method of the **IAsyncDisposable** Interface in C#  \n",
    ">\n",
    "> The public parameterless DisposeAsync() method is called automatically in an await using statement, and the purpose of this DisposeAsync() method is to free the unmanaged resources.   \n",
    ">\n",
    ">\n",
    "> Freeing the memory associated with a managed object is always the responsibility of the garbage collector. Because of this, it has a standard implementation as follows:  \n",
    "\n",
    "```csharp\n",
    "    public async ValueTask DisposeAsync(){\n",
    "        // Perform async clean-up.\n",
    "        await DisposeAsyncCore();\n",
    "\n",
    "        // Dispose of unmanaged resources.\n",
    "        Dispose(false);\n",
    "\n",
    "        // Dispose methods should call SuppressFinalize\n",
    "        // Suppress finalization.\n",
    "        GC.SuppressFinalize(this);\n",
    "    }\n",
    "```"
   ]
  },
  {
   "cell_type": "markdown",
   "metadata": {},
   "source": [
    "> Implement the **DisposeAsync** Method of the **IAsyncDisposable** Interface in C#\n",
    ">\n",
    ">  - The *IAsyncDisposable* interface was introduced as part of C# 8.0.  \n",
    ">\n",
    ">  - We need to implement the *DisposeAsync()* method when we want to perform resource clean-up in the same way as we used to by implementing the *Dispose()* method of *IDisposable* Interface.     \n",
    ">\n",
    ">  - The difference between these two interfaces is that the *DisposeAsync()* method allows for asynchronous clean-up operations whereas the *Dispose()* method performs synchronous clean-up operations.   \n",
    ">\n",
    ">  - The *DisposeAsync()* method of the *IAsyncDisposable* interface returns a ValueTask that represents the asynchronous dispose of operation. \n",
    ">\n",
    ">\n",
    "```csharp\n",
    "    public async ValueTask DisposeAsync()\n",
    "    {\n",
    "        // Perform async clean-up.\n",
    "        await DisposeAsyncCore();\n",
    "        // Dispose of unmanaged resources.\n",
    "        Dispose(false);\n",
    "        // Dispose methods should call SuppressFinalize\n",
    "        // Suppress finalization.\n",
    "        GC.SuppressFinalize(this);\n",
    "    }\n",
    "```"
   ]
  },
  {
   "cell_type": "markdown",
   "metadata": {},
   "source": [
    "> **The DisposeAsyncCore() Method**\n",
    "> \n",
    ">\n",
    ">  - The *DisposeAsyncCore()* method is intended to perform the asynchronous clean-up of managed resources.\n",
    ">\n",
    ">  - It encapsulates the common asynchronous clean-up operations when a subclass inherits a base class that is an implementation of *IAsyncDisposable*.\n",
    ">\n",
    ">  - The *DisposeAsyncCore()* method is virtual so that derived classes can define additional clean-up by overriding this method.\n",
    ">\n",
    ">  - If an implementation of IAsyncDisposable is sealed, the *DisposeAsyncCore()* method is not needed, and the asynchronous clean-up can be performed directly in the *DisposeAsync()* method."
   ]
  },
  {
   "cell_type": "markdown",
   "metadata": {},
   "source": [
    "> **Simple example**:\n",
    ">\n",
    ">  This example shows how to create a class called Sample that implements the IAsyncDisposable interface and provides the implementation for the DisposeAsync method.\n",
    ">\n",
    ">  This method performs some asynchronous clean-up operations and disposes of an unmanaged resource (a TextWriter object)."
   ]
  },
  {
   "cell_type": "code",
   "execution_count": 2,
   "metadata": {
    "dotnet_interactive": {
     "language": "csharp"
    },
    "polyglot_notebook": {
     "kernelName": "csharp"
    },
    "vscode": {
     "languageId": "polyglot-notebook"
    }
   },
   "outputs": [],
   "source": [
    "using System;\n",
    "using System.IO;\n",
    "using System.Threading.Tasks;\n",
    "\n",
    "public class SampleTextWriter : IAsyncDisposable\n",
    "{\n",
    "    private TextWriter _writer;\n",
    "    public SampleTextWriter(string filePath)\n",
    "    {\n",
    "        _writer = File.CreateText(filePath);\n",
    "    }\n",
    "\n",
    "    public async ValueTask DisposeAsync()\n",
    "    {\n",
    "        // Perform async clean-up.\n",
    "        await _writer.WriteLineAsync(\"Async disposal!\");\n",
    "        await Task.Delay(1000);\n",
    "\n",
    "        // Dispose of unmanaged resources.\n",
    "        _writer.Dispose();\n",
    "\n",
    "        // Suppress finalization.\n",
    "        GC.SuppressFinalize(this);\n",
    "    }\n",
    "}\n",
    "        await using (var sample = new SampleTextWriter(\"test.txt\"))  // DisposeAsync is called implicitly at the end of the await using block.\n",
    "        {\n",
    "            // Do some work with sample.\n",
    "        }"
   ]
  },
  {
   "cell_type": "markdown",
   "metadata": {},
   "source": [
    "> **Inheritance example**:\n",
    ">\n",
    "> - This example shows how to create a base class called Sample that implements the IAsyncDisposable interface and provides a virtual method called DisposeAsyncCore for subclasses to override.   \n",
    ">\n",
    ">  - The base class also implements the IDisposable interface for synchronous disposal.\n",
    ">\n",
    ">  - The subclass called SampleInherited overrides the DisposeAsyncCore method and performs some additional asynchronous clean-up operations."
   ]
  },
  {
   "cell_type": "code",
   "execution_count": null,
   "metadata": {
    "dotnet_interactive": {
     "language": "csharp"
    },
    "polyglot_notebook": {
     "kernelName": "csharp"
    },
    "vscode": {
     "languageId": "polyglot-notebook"
    }
   },
   "outputs": [],
   "source": [
    "using System;\n",
    "using System.IO;\n",
    "using System.Threading.Tasks;\n",
    "\n",
    "public class SampleTextWriter : IAsyncDisposable, IDisposable\n",
    "{\n",
    "    private TextWriter _writer;\n",
    "\n",
    "    public SampleTextWriter(string filePath)\n",
    "    {\n",
    "        _writer = File.CreateText(filePath);\n",
    "    }\n",
    "\n",
    "    public async ValueTask DisposeAsync()\n",
    "    {\n",
    "        // Perform async clean-up.\n",
    "        await DisposeAsyncCore();\n",
    "\n",
    "        // Dispose of unmanaged resources.\n",
    "        Dispose(false);\n",
    "\n",
    "        // Suppress finalization.\n",
    "        GC.SuppressFinalize(this);\n",
    "    }\n",
    "\n",
    "    protected virtual async ValueTask DisposeAsyncCore()\n",
    "    {\n",
    "        // Perform async clean-up of managed resources.\n",
    "        await _writer.WriteLineAsync(\"Async disposal from base class!\");\n",
    "        await Task.Delay(1000);\n",
    "    }\n",
    "\n",
    "    public void Dispose()\n",
    "    {\n",
    "        // Dispose of unmanaged resources.\n",
    "        Dispose(true);\n",
    "\n",
    "        // Suppress finalization.\n",
    "        GC.SuppressFinalize(this);\n",
    "    }\n",
    "\n",
    "    protected virtual void Dispose(bool disposing)\n",
    "    {\n",
    "        if (disposing)\n",
    "        {\n",
    "            // Dispose of managed resources.\n",
    "            _writer.Dispose();\n",
    "        }\n",
    "    }\n",
    "}\n",
    "\n",
    "public class ExtendedTextWriter : SampleTextWriter\n",
    "{\n",
    "    public ExtendedTextWriter(string filePath) : base(filePath)\n",
    "    {\n",
    "    }\n",
    "\n",
    "    protected override async ValueTask DisposeAsyncCore()\n",
    "    {\n",
    "        // Perform async clean-up of subclass resources.\n",
    "        await base.DisposeAsyncCore();\n",
    "        await Console.Out.WriteLineAsync(\"Async disposal from subclass!\");\n",
    "        await Task.Delay(1000);\n",
    "    }\n",
    "}\n",
    "\n",
    "\n",
    "        await using (var sample = new ExtendedTextWriter(\"test.txt\"))\n",
    "        {\n",
    "            // Do some work with sample.\n",
    "        }\n",
    "        // DisposeAsync is called implicitly at the end of the await using block."
   ]
  },
  {
   "cell_type": "markdown",
   "metadata": {},
   "source": [
    "> **Example:1**\n",
    "> \n",
    ">   Using a database connection to execute a query asynchronously: \n",
    ">    - A database connection is another class that implements both IDisposable and IAsyncDisposable interfaces, so it can be used with either using or await using statements.\n",
    ">    - The following code snippet shows how to use a database connection to execute a query asynchronously and display the result on the console."
   ]
  },
  {
   "cell_type": "code",
   "execution_count": null,
   "metadata": {
    "dotnet_interactive": {
     "language": "csharp"
    },
    "polyglot_notebook": {
     "kernelName": "csharp"
    },
    "vscode": {
     "languageId": "polyglot-notebook"
    }
   },
   "outputs": [],
   "source": [
    "using System;\n",
    "using System.IO;\n",
    "using System.Threading.Tasks;\n",
    "\n",
    "\n",
    "// Use await using to dispose the stream reader asynchronously\n",
    "await using (var reader = new StreamReader(\"sample.txt\"))\n",
    "{\n",
    "    string line;\n",
    "    // Read the file line by line asynchronously\n",
    "    while ((line = await reader.ReadLineAsync()) != null)\n",
    "    {\n",
    "        // Display the line on the console\n",
    "        Console.WriteLine(line);\n",
    "    }\n",
    "}"
   ]
  },
  {
   "cell_type": "markdown",
   "metadata": {},
   "source": [
    "> **Example:2**\n",
    "> \n",
    ">Using a database connection to execute a query asynchronously: \n",
    "> - A database connection is another class that implements both IDisposable and IAsyncDisposable interfaces, so it can be used with either using or await using statements.\n",
    "> - The following code snippet shows how to use a database connection to execute a query asynchronously and display the result on the console."
   ]
  },
  {
   "cell_type": "code",
   "execution_count": null,
   "metadata": {
    "dotnet_interactive": {
     "language": "csharp"
    },
    "polyglot_notebook": {
     "kernelName": "csharp"
    },
    "vscode": {
     "languageId": "polyglot-notebook"
    }
   },
   "outputs": [],
   "source": [
    "using System;\n",
    "using System.Data.SqlClient;\n",
    "using System.Threading.Tasks;\n",
    "\n",
    "\n",
    "// Use await using to dispose the database connection asynchronously\n",
    "await using (var connection = new SqlConnection(\"connection string\"))\n",
    "{\n",
    "    // Open the connection asynchronously\n",
    "    await connection.OpenAsync();\n",
    "    // Create a command to execute a query asynchronously\n",
    "    using var command = new SqlCommand(\"select * from table\", connection);\n",
    "    // Execute the query and get a data reader asynchronously\n",
    "    using var reader = await command.ExecuteReaderAsync();\n",
    "    // Read the data reader and display the result on the console\n",
    "    while (await reader.ReadAsync())\n",
    "    {\n",
    "        Console.WriteLine(reader[0]);\n",
    "    }\n",
    "}"
   ]
  },
  {
   "cell_type": "markdown",
   "metadata": {},
   "source": [
    "# Continue learning\n",
    "\n",
    "There are plenty more resources out there to learn!\n",
    "\n",
    "> [⏩ Next Module - Indices and Ranges](55.IndicesAndRanges.ipynb)\n",
    ">\n",
    "> [⏪ Last Module - Async Streams](54.0.AsyncStreams.Ipynb)\n",
    ">\n",
    "> [Reference - asynchronous disposable in csharp-8](https://dotnettutorials.net/lesson/asynchronous-disposable-in-csharp-8/)"
   ]
  }
 ],
 "metadata": {
  "language_info": {
   "name": "python"
  },
  "orig_nbformat": 4
 },
 "nbformat": 4,
 "nbformat_minor": 2
}
