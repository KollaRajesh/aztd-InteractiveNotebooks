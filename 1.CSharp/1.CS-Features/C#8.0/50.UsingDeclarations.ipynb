{
 "cells": [
  {
   "cell_type": "markdown",
   "metadata": {},
   "source": [
    "> ### Using Declaration\n",
    ">    Version *C# 8.0*"
   ]
  },
  {
   "cell_type": "markdown",
   "metadata": {},
   "source": [
    ">  **Using declarations**: This feature allows you to declare a variable and dispose of it automatically when it goes out of scope.  \n",
    ">\n",
    "> We can use the using keyword to achieve this."
   ]
  },
  {
   "cell_type": "markdown",
   "metadata": {},
   "source": [
    "> Example 1:\n",
    ">\n",
    ">  - In this example, we use a using declaration to create a new StreamReader object and read the contents of a file.  \n",
    ">  - The using declaration ensures that the StreamReader object is disposed of properly when it goes out of scope."
   ]
  },
  {
   "cell_type": "code",
   "execution_count": null,
   "metadata": {
    "dotnet_interactive": {
     "language": "csharp"
    },
    "polyglot_notebook": {
     "kernelName": "csharp"
    },
    "vscode": {
     "languageId": "polyglot-notebook"
    }
   },
   "outputs": [],
   "source": [
    "    using System.IO;\n",
    "    using (StreamReader reader = new StreamReader(\"example.txt\")){\n",
    "        string contents = reader.ReadToEnd();\n",
    "        Console.WriteLine(contents);\n",
    "    }\n"
   ]
  },
  {
   "cell_type": "markdown",
   "metadata": {},
   "source": [
    "> Example 2:\n",
    ">\n",
    "> - In this example, we use a using declaration to create a new SqlConnection object and execute a SQL query.\n",
    "> - The using declaration ensures that the SqlConnection object is disposed of properly when it goes out of scope."
   ]
  },
  {
   "cell_type": "code",
   "execution_count": null,
   "metadata": {
    "dotnet_interactive": {
     "language": "csharp"
    },
    "polyglot_notebook": {
     "kernelName": "csharp"
    },
    "vscode": {
     "languageId": "polyglot-notebook"
    }
   },
   "outputs": [],
   "source": [
    "//give full path System.Data.SqlClient.dll  \n",
    "#!csharp\n",
    "//#r \"c:\\users\\<UserName>\\.nuget\\packages\\system.data.sqlclient\\4.8.5\\lib\\net461\\System.Data.SqlClient.dll\"  \n",
    "#r \"nuget: System.Data.SqlClient\"\n",
    "using System.Data;\n",
    "using System.Data.SqlClient;\n",
    "\n",
    "string connectionString = \"Data Source=ServerAddress;Initial Catalog=DataBase;Integrated Security=True;\";\n",
    "using (SqlConnection connection = new SqlConnection(connectionString)){\n",
    "await connection.OpenAsync();\n",
    "\n",
    "using SqlCommand command = new SqlCommand(\"SELECT * FROM Customers\", connection);\n",
    "using SqlDataReader reader = await command.ExecuteReaderAsync();\n",
    "while (await reader.ReadAsync())\n",
    "{\n",
    "    Console.WriteLine($\"{reader[\"FirstName\"]} {reader[\"LastName\"]}\");\n",
    "}\n",
    "}"
   ]
  },
  {
   "cell_type": "markdown",
   "metadata": {},
   "source": [
    "# Continue learning\n",
    "\n",
    "There are plenty more resources out there to learn!\n",
    "\n",
    "> [⏩ Next Module - Pattern Matching ](51.StaticLocalFunctions.ipynb)\n",
    ">\n",
    "> [⏪ Last Module - Default Interface](49.PatternMatchingEnhancements.ipynb)\n",
    ">\n",
    "> [Reference - using](https://learn.microsoft.com/en-us/dotnet/csharp/language-reference/statements/using)\n",
    "> [Reference - statement declaration](https://learn.microsoft.com/en-us/dotnet/csharp/language-reference/statements/declarations)"
   ]
  }
 ],
 "metadata": {
  "language_info": {
   "name": "python"
  },
  "orig_nbformat": 4
 },
 "nbformat": 4,
 "nbformat_minor": 2
}
