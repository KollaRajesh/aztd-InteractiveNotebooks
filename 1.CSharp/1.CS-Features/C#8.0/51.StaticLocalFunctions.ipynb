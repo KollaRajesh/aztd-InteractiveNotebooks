{
 "cells": [
  {
   "cell_type": "markdown",
   "metadata": {},
   "source": [
    "> ### Static local function\n",
    ">    Version *C# 8.0*"
   ]
  },
  {
   "cell_type": "markdown",
   "metadata": {},
   "source": [
    ">**Static local functions**: This feature allows you to define a local function inside a method and call it multiple times.   \n",
    ">\n",
    ">  This can help reduce code duplication and improve readability."
   ]
  },
  {
   "cell_type": "markdown",
   "metadata": {},
   "source": [
    "> **Example 1**:\n",
    "> - In this example, we define a method named ProcessData that takes an array of integers as input.\n",
    "> - We then define a static local function named IsEven that takes an integer as input and returns a boolean value indicating whether the integer is even or not.\n",
    "> - We use the IsEven function to filter out all the odd numbers from the input array and return the result."
   ]
  },
  {
   "cell_type": "code",
   "execution_count": null,
   "metadata": {
    "dotnet_interactive": {
     "language": "csharp"
    },
    "polyglot_notebook": {
     "kernelName": "csharp"
    },
    "vscode": {
     "languageId": "polyglot-notebook"
    }
   },
   "outputs": [],
   "source": [
    "public static int[] ProcessData(int[] input)\n",
    "{\n",
    "    static bool IsEven(int x) => x % 2 == 0;\n",
    "\n",
    "    return input.Where(IsEven).ToArray();\n",
    "}\n",
    "ProcessData(new[]{21,30,25,27,21,5,10,100,2,8,9}).Display()"
   ]
  },
  {
   "cell_type": "markdown",
   "metadata": {},
   "source": [
    "> **Example 2**:\n",
    "> -  In this example, we define a method named GetPersonDetails that takes a Person object as input.\n",
    "> -  We then define a static local function named GetFullName that takes a Person object as input and returns the person’s full name.\n",
    "> -  We use the GetFullName function to get the full name of the input Person object and return the result."
   ]
  },
  {
   "cell_type": "code",
   "execution_count": null,
   "metadata": {
    "dotnet_interactive": {
     "language": "csharp"
    },
    "polyglot_notebook": {
     "kernelName": "csharp"
    },
    "vscode": {
     "languageId": "polyglot-notebook"
    }
   },
   "outputs": [],
   "source": [
    "public class Person\n",
    "{\n",
    "    public string FirstName {get;set;}\n",
    "    public string LastName {get;set;}\n",
    "    public int Age {get;set;}\n",
    "\n",
    "}\n",
    "\n",
    "public static string GetPersonDetails(Person person)\n",
    "{\n",
    "    static string GetFullName(Person p) => $\"{p.FirstName} {p.LastName}\";\n",
    "\n",
    "    return $\"Name: {GetFullName(person)}, Age: {person.Age}\";\n",
    "}\n",
    "GetPersonDetails(new Person{FirstName=\"Rob\", LastName=\"M\" , Age=20}).Display();"
   ]
  },
  {
   "cell_type": "markdown",
   "metadata": {},
   "source": [
    "# Continue learning\n",
    "\n",
    "There are plenty more resources out there to learn!\n",
    "\n",
    "> [⏩ Next Module - Disposable Ref Structs ](52.DisposableRefStructs.ipynb)\n",
    ">\n",
    "> [⏪ Last Module - Using Declarations](50.UsingDeclarations.ipynb)\n",
    ">\n",
    "> [Reference - static local functions](https://www.c-sharpcorner.com/article/c-sharp-8-0-static-local-functions/)  "
   ]
  }
 ],
 "metadata": {
  "language_info": {
   "name": "python"
  },
  "orig_nbformat": 4
 },
 "nbformat": 4,
 "nbformat_minor": 2
}
