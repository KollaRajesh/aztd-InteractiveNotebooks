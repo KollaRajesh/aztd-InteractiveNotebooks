{
 "cells": [
  {
   "cell_type": "markdown",
   "metadata": {},
   "source": [
    "> ### Anonymous Methods\n",
    ">    Version *C# 2.0*\n",
    ">\n",
    "> Anonymous Methods: Anonymous methods provide a technique to pass a code block as a delegate parameter"
   ]
  },
  {
   "cell_type": "code",
   "execution_count": null,
   "metadata": {
    "dotnet_interactive": {
     "language": "csharp"
    },
    "polyglot_notebook": {
     "kernelName": "csharp"
    },
    "vscode": {
     "languageId": "polyglot-notebook"
    }
   },
   "outputs": [],
   "source": [
    "   public delegate void MyDelegate(string value);\n",
    "\n",
    "   MyDelegate myDelegate = delegate(string message)\n",
    "{\n",
    "    Console.WriteLine(message);\n",
    "};\n",
    "myDelegate(\"Hello, World!\");"
   ]
  },
  {
   "cell_type": "code",
   "execution_count": null,
   "metadata": {
    "dotnet_interactive": {
     "language": "csharp"
    },
    "polyglot_notebook": {
     "kernelName": "csharp"
    },
    "vscode": {
     "languageId": "polyglot-notebook"
    }
   },
   "outputs": [],
   "source": [
    "public class DelegateClass\n",
    "{\n",
    "    public delegate void Print(int value);\n",
    "    public void PrintHelper(Print printDel, int val)\n",
    "    {\n",
    "        val += 10;\n",
    "        printDel(val);\n",
    "    }\n",
    "\n",
    "\n",
    "    public void Main(string[] args)\n",
    "    {\n",
    "        PrintHelper(delegate(int val)\n",
    "        {\n",
    "            Console.WriteLine(\"Anonymous method: {0}\", val);\n",
    "        }, 100);\n",
    "    }\n",
    "}\n",
    "\n",
    "DelegateClass delegateClass= new DelegateClass();\n",
    "delegateClass.Main(null);"
   ]
  },
  {
   "cell_type": "markdown",
   "metadata": {},
   "source": [
    "# Continue learning\n",
    "\n",
    "There are plenty more resources out there to learn!\n",
    "> [⏩ Next Module - Nullable Types](20.NullableTypes.ipynb)\n",
    ">\n",
    "> [⏪ Last Module - Partial Class](18.PartialClasses.ipynb)"
   ]
  }
 ],
 "metadata": {
  "language_info": {
   "name": "python"
  },
  "orig_nbformat": 4
 },
 "nbformat": 4,
 "nbformat_minor": 2
}
