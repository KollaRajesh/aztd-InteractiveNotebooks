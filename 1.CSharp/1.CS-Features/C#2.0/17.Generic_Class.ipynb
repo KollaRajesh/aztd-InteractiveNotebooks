{
 "cells": [
  {
   "cell_type": "markdown",
   "metadata": {},
   "source": [
    "> ### Generic Classes\n",
    ">    Version *C# 2.0*\n",
    ">\n",
    "> Generics: Generics allow you to define type-safe data structures, without committing to actual data types."
   ]
  },
  {
   "cell_type": "markdown",
   "metadata": {},
   "source": [
    "> #### Example-1\n",
    ">   - *In this example, Stack is a generic class that can be used to create a stack of any type of data.* \n",
    ">   - *The T in Stack<T> is a type parameter that specifies the type of data that the stack will hold.* "
   ]
  },
  {
   "cell_type": "code",
   "execution_count": null,
   "metadata": {
    "dotnet_interactive": {
     "language": "csharp"
    },
    "polyglot_notebook": {
     "kernelName": "csharp"
    },
    "vscode": {
     "languageId": "polyglot-notebook"
    }
   },
   "outputs": [],
   "source": [
    "#!time\n",
    "\n",
    "/// <summary>\n",
    "/// This is Stack class with generic type T\n",
    "/// </summary>\n",
    "/// <typeparam name=\"T\"> Type of data that the stack will hold</typeparam>\n",
    "public class Stack<T>\n",
    "{\n",
    "    private T[] elements;\n",
    "    private int top;\n",
    "    \n",
    "    /// <summary>\n",
    "    /// Constructor for Stack class\n",
    "    /// </summary>\n",
    "    /// <param name=\"size\"> size of stack </param>\n",
    "    public Stack(int size)\n",
    "    {\n",
    "        elements = new T[size];\n",
    "        top = -1;\n",
    "    }\n",
    "\n",
    "   /// <summary>\n",
    "   /// push function used to insert element into stack \n",
    "   /// </summary>\n",
    "   /// <param name=\"element\">element  value of  Type T</param>\n",
    "    public void Push(T element)\n",
    "    {\n",
    "        if (top == elements.Length - 1)\n",
    "        {\n",
    "            throw new StackOverflowException();\n",
    "        }\n",
    "\n",
    "        elements[++top] = element;\n",
    "    }\n",
    "\n",
    "   /// <summary>\n",
    "   /// pop function used to remove element from stack.\n",
    "   /// </summary>\n",
    "   /// <returns>return top element value of type T</returns>\n",
    "    public T Pop()\n",
    "    {\n",
    "        if (top == -1)\n",
    "        {\n",
    "            throw new InvalidOperationException();\n",
    "        }\n",
    "\n",
    "        return elements[top--];\n",
    "    }\n",
    "}\n"
   ]
  },
  {
   "cell_type": "markdown",
   "metadata": {},
   "source": [
    "> Here is an example of how to use the Stack class:\n",
    ">\n",
    "> - *This will create a stack of integers with a maximum size of 10. Three integers are then pushed onto the stack, and then popped off the stack in reverse order.*"
   ]
  },
  {
   "cell_type": "code",
   "execution_count": null,
   "metadata": {
    "dotnet_interactive": {
     "language": "csharp"
    },
    "polyglot_notebook": {
     "kernelName": "csharp"
    },
    "vscode": {
     "languageId": "polyglot-notebook"
    }
   },
   "outputs": [],
   "source": [
    "#!time\n",
    "\n",
    "// Define Stack with type int\n",
    "Stack<int> intStack = new Stack<int>(10);\n",
    "\n",
    "//push int value 1 to stack \n",
    "intStack.Push(1);\n",
    "\n",
    "//push int value 2 to stack \n",
    "intStack.Push(2);\n",
    "\n",
    "//push int value 3 to stack \n",
    "intStack.Push(3);\n",
    "\n",
    "\n",
    "//pop int value 1 from stack \n",
    "Console.WriteLine(intStack.Pop()); // Output: 3\n",
    "\n",
    "//pop int value 2 from stack \n",
    "Console.WriteLine(intStack.Pop()); // Output: 2\n",
    "\n",
    "//pop int value 3 from stack \n",
    "Console.WriteLine(intStack.Pop()); // Output: 1\n"
   ]
  },
  {
   "cell_type": "markdown",
   "metadata": {},
   "source": [
    "> #### Example-2\n",
    "> Below is another example of a more complex generic class in C#:\n",
    ">\n",
    "> - *In this example, BinaryTree is a generic class that can be used to create a binary tree of any type of data.*\n",
    "> - *The T in BinaryTree<T> is a type parameter that specifies the type of data that the binary tree will hold.*"
   ]
  },
  {
   "cell_type": "code",
   "execution_count": null,
   "metadata": {
    "dotnet_interactive": {
     "language": "csharp"
    },
    "polyglot_notebook": {
     "kernelName": "csharp"
    },
    "vscode": {
     "languageId": "polyglot-notebook"
    }
   },
   "outputs": [],
   "source": [
    "#!time\n",
    "\n",
    "/// <summary>\n",
    "/// This is BinaryTree generic class that can be used to create a tree of any type of data.\n",
    "/// </summary>\n",
    "/// <typeparam name=\"T\">The T in BinaryTree<T> is a type parameter that specifies the type of data that the binary tree will hold.</typeparam>\n",
    "public class BinaryTree<T>\n",
    "{\n",
    "    private T value;\n",
    "    private BinaryTree<T> left;\n",
    "    private BinaryTree<T> right;\n",
    "\n",
    "    /// <summary>\n",
    "    /// Parameter Constructor for Binary Tree with Vlaue of type T\n",
    "    /// </summary>\n",
    "    /// <param name=\"value\"></param>\n",
    "    public BinaryTree(T value)\n",
    "    {\n",
    "        this.value = value;\n",
    "    }\n",
    "\n",
    "    /// <summary>\n",
    "    /// this function is used to add left child to root in the binary tree.\n",
    "    /// </summary>\n",
    "    /// <param name=\"child\"></param>\n",
    "    public void AddLeftChild(BinaryTree<T> child)\n",
    "    {\n",
    "        left = child;\n",
    "    }\n",
    "\n",
    "    /// <summary>\n",
    "    /// this function is used to add right child to root in the binary tree.\n",
    "    /// </summary>\n",
    "    /// <param name=\"child\"></param>\n",
    "    public void AddRightChild(BinaryTree<T> child)\n",
    "    {\n",
    "        right = child;\n",
    "    }\n",
    "    \n",
    "    /// <summary>\n",
    "    ///  This function is used to traverse in order.\n",
    "    /// </summary>\n",
    "    /// <param name=\"action\"></param>\n",
    "    public void TraverseInOrder(Action<T> action)\n",
    "    {\n",
    "        if (left != null)\n",
    "        {\n",
    "            left.TraverseInOrder(action);\n",
    "        }\n",
    "\n",
    "        action(value);\n",
    "\n",
    "        if (right != null)\n",
    "        {\n",
    "            right.TraverseInOrder(action);\n",
    "        }\n",
    "    }\n",
    "}\n"
   ]
  },
  {
   "cell_type": "markdown",
   "metadata": {},
   "source": [
    "> *Below  is an example of how to use the BinaryTree class:*\n",
    "> \n",
    "> - *This will create a binary tree of integers with a root node of 1, a left child node of 2, and a right child node of 3.*\n",
    "> - *The TraverseInOrder method is then called on the root node, which will traverse the binary tree in order and print out the values of each node.*"
   ]
  },
  {
   "cell_type": "code",
   "execution_count": null,
   "metadata": {
    "dotnet_interactive": {
     "language": "csharp"
    },
    "polyglot_notebook": {
     "kernelName": "csharp"
    },
    "vscode": {
     "languageId": "polyglot-notebook"
    }
   },
   "outputs": [],
   "source": [
    "//Define root element for Binary tree\n",
    "BinaryTree<int> root = new BinaryTree<int>(1);\n",
    "\n",
    "//Define Binary tree to add left child for root element.\n",
    "BinaryTree<int> leftChild = new BinaryTree<int>(2);\n",
    "\n",
    "//Define Binary tree to add right child for root element.\n",
    "BinaryTree<int> rightChild = new BinaryTree<int>(3);\n",
    "\n",
    "//Add left child to root element.\n",
    "root.AddLeftChild(leftChild);\n",
    "\n",
    "//Add right child to root element.\n",
    "root.AddRightChild(rightChild);\n",
    "\n",
    "root.TraverseInOrder(Console.WriteLine); // Output: 2 1 3\n"
   ]
  },
  {
   "cell_type": "markdown",
   "metadata": {},
   "source": [
    "> #### Constraints on Generic Types in C#\n",
    ">    Version: *C# 2.0*"
   ]
  },
  {
   "cell_type": "markdown",
   "metadata": {},
   "source": [
    "> In C#, We can create a constraint on a type parameter by using the where keyword followed by the name of the type parameter  \n",
    ">\n",
    "> Here is an example:\n",
    ">\n",
    "```csharp\n",
    "public class MyClass<T> where T : SomeClass\n",
    "{\n",
    "    // ..\n",
    "}\n",
    "```\n",
    "> - *In this example, MyClass is a generic class that has a type parameter T.*\n",
    "> - *The where keyword is used to specify a constraint on the type parameter T.*  \n",
    "> - *The constraint in this case is that T must be a subclass of SomeClass.*\n",
    ">\n",
    "> **Here are some common constraints that you can use:**\n",
    "\n",
    "```csharp\n",
    "        public class MyClass<T> where T : <class>  //T must be a reference type.*  \n",
    "        {\n",
    "        }\n",
    "        public class MyClass<T> where T : struct  //T must be a value type.*  \n",
    "        {\n",
    "        }\n",
    "        public class MyClass<T> where T : new() //T must have a public parameterless constructor.*  \n",
    "        {\n",
    "        }\n",
    "        public class MyClass<T> where T : <base class name> //T must be or derive from the specified base class.*  \n",
    "        {\n",
    "        }\n",
    "        public class MyClass<T> where T : <interface name>  //T must be or implement the specified interface.*  \n",
    "        {\n",
    "        }\n",
    "```\n",
    ">\n",
    "> - We can also specify multiple constraints on a single type parameter by separating them with a comma.\n",
    "> \n",
    "\n",
    "```csharp\n",
    "        public class MyClass<T> where T : SomeClass, IMyInterface, new()\n",
    "        {\n",
    "            // ...\n",
    "        }\n",
    "```\n",
    "> - *In above example, T must be a subclass of SomeClass, implement the IMyInterface interface, and have a public parameterless constructor*"
   ]
  },
  {
   "cell_type": "markdown",
   "metadata": {},
   "source": [
    "> #### Example-3\n",
    "> - *In this example, Stack is a generic class that can be used to create a stack of any value type.*   \n",
    "> - *The T in Stack<T> is a type parameter that specifies the type of data that the stack will hold.*  \n",
    "> - *The where keyword is used to specify a constraint on the type parameter T. The constraint in this case is that T must be a value type.*"
   ]
  },
  {
   "cell_type": "code",
   "execution_count": null,
   "metadata": {
    "dotnet_interactive": {
     "language": "csharp"
    },
    "polyglot_notebook": {
     "kernelName": "csharp"
    },
    "vscode": {
     "languageId": "polyglot-notebook"
    }
   },
   "outputs": [],
   "source": [
    "#!time\n",
    "/// <summary>\n",
    "/// This is Stack class with generic type T\n",
    "/// </summary>\n",
    "/// <typeparam name=\"T\"> Type of data that the stack will hold and Constraint on Type T is struct </typeparam>\n",
    "public class Stack<T> where T : struct\n",
    "{\n",
    "    private T[] elements;\n",
    "    private int top;\n",
    "\n",
    "    /// <summary>\n",
    "    /// Constructor for Stack class\n",
    "    /// </summary>\n",
    "    /// <param name=\"size\"> size of stack </param>\n",
    "    public Stack(int size)\n",
    "    {\n",
    "        elements = new T[size];\n",
    "        top = -1;\n",
    "    }\n",
    "\n",
    "    /// <summary>\n",
    "    /// push function used to insert element into stack \n",
    "   /// </summary>\n",
    "   /// <param name=\"element\">element  value of  Type T</param>\n",
    "    public void Push(T element)\n",
    "    {\n",
    "        if (top == elements.Length - 1)\n",
    "        {\n",
    "            throw new StackOverflowException();\n",
    "        }\n",
    "\n",
    "        elements[++top] = element;\n",
    "    }\n",
    "\n",
    "    /// <summary>\n",
    "   /// pop function used to remove element from stack.\n",
    "   /// </summary>\n",
    "   /// <returns>return top element value of type T</returns>\n",
    "    public T Pop()\n",
    "    {\n",
    "        if (top == -1)\n",
    "        {\n",
    "            throw new InvalidOperationException();\n",
    "        }\n",
    "\n",
    "        return elements[top--];\n",
    "    }\n",
    "}\n"
   ]
  },
  {
   "cell_type": "code",
   "execution_count": null,
   "metadata": {
    "dotnet_interactive": {
     "language": "csharp"
    },
    "polyglot_notebook": {
     "kernelName": "csharp"
    },
    "vscode": {
     "languageId": "polyglot-notebook"
    }
   },
   "outputs": [],
   "source": [
    "#!time\n",
    "\n",
    "// Define Stack with type int\n",
    "Stack<int> intStack = new Stack<int>(10);\n",
    "\n",
    "//push int value 1 to stack \n",
    "intStack.Push(1);\n",
    "\n",
    "//push int value 2 to stack \n",
    "intStack.Push(2);\n",
    "\n",
    "//push int value 3 to stack \n",
    "intStack.Push(3);\n",
    "\n",
    "\n",
    "//pop int value 1 from stack \n",
    "Console.WriteLine(intStack.Pop()); // Output: 3\n",
    "\n",
    "//pop int value 2 from stack \n",
    "Console.WriteLine(intStack.Pop()); // Output: 2\n",
    "\n",
    "//pop int value 3 from stack \n",
    "Console.WriteLine(intStack.Pop()); // Output: 1\n"
   ]
  },
  {
   "cell_type": "markdown",
   "metadata": {},
   "source": [
    "> #### Example-4\n",
    "> Below is another example of a more complex generic class in C#:\n",
    ">\n",
    "> - *In this example, BinaryTree is a generic class that can be used to create a binary tree of any type of data.*\n",
    "> - *The T in BinaryTree<T> is a type parameter that specifies the type of data that the binary tree will hold.*"
   ]
  },
  {
   "cell_type": "code",
   "execution_count": null,
   "metadata": {
    "dotnet_interactive": {
     "language": "csharp"
    },
    "polyglot_notebook": {
     "kernelName": "csharp"
    },
    "vscode": {
     "languageId": "polyglot-notebook"
    }
   },
   "outputs": [],
   "source": [
    "#!time\n",
    "\n",
    "/// <summary>\n",
    "/// This is BinaryTree generic class that can be used to create a tree of any type of data.\n",
    "/// </summary>\n",
    "/// <typeparam name=\"T\">The T in BinaryTree<T> is a type parameter that specifies the type of data that the binary tree will hold.</typeparam>\n",
    "public class BinaryTree<T>  where T : IComparable<T>\n",
    "{\n",
    "    private T value;\n",
    "    private BinaryTree<T> left;\n",
    "    private BinaryTree<T> right;\n",
    "\n",
    "    /// <summary>\n",
    "    /// Parameter Constructor for Binary Tree with Vlaue of type T\n",
    "    /// </summary>\n",
    "    /// <param name=\"value\"></param>\n",
    "    public BinaryTree(T value)\n",
    "    {\n",
    "        this.value = value;\n",
    "    }\n",
    "\n",
    "    /// <summary>\n",
    "    /// this function is used to add left child to root in the binary tree.\n",
    "    /// </summary>\n",
    "    /// <param name=\"child\"></param>\n",
    "    public void AddLeftChild(BinaryTree<T> child)\n",
    "    {\n",
    "        left = child;\n",
    "    }\n",
    "    /// <summary>\n",
    "    /// this function is used to add right child to root in the binary tree.\n",
    "    /// </summary>\n",
    "    /// <param name=\"child\"></param>\n",
    "    public void AddRightChild(BinaryTree<T> child)\n",
    "    {\n",
    "        right = child;\n",
    "    }\n",
    "    /// <summary>\n",
    "    ///  This function is used to traverse in order.\n",
    "    /// </summary>\n",
    "    /// <param name=\"action\"></param>\n",
    "    public void TraverseInOrder(Action<T> action)\n",
    "    {\n",
    "        if (left != null)\n",
    "        {\n",
    "            left.TraverseInOrder(action);\n",
    "        }\n",
    "\n",
    "        action(value);\n",
    "\n",
    "        if (right != null)\n",
    "        {\n",
    "            right.TraverseInOrder(action);\n",
    "        }\n",
    "    }\n",
    "}\n"
   ]
  },
  {
   "cell_type": "markdown",
   "metadata": {},
   "source": [
    "> *Below  is an example of how to use the BinaryTree class:*\n",
    "> \n",
    "> - *This will create a binary tree of integers with a root node of 1, a left child node of 2, and a right child node of 3.*\n",
    "> - *The TraverseInOrder method is then called on the root node, which will traverse the binary tree in order and print out the values of each node.*"
   ]
  },
  {
   "cell_type": "code",
   "execution_count": null,
   "metadata": {
    "dotnet_interactive": {
     "language": "csharp"
    },
    "polyglot_notebook": {
     "kernelName": "csharp"
    },
    "vscode": {
     "languageId": "polyglot-notebook"
    }
   },
   "outputs": [],
   "source": [
    "//Define root element for Binary tree\n",
    "BinaryTree<int> root = new BinaryTree<int>(5);\n",
    "\n",
    "//Define Binary tree to add left child for root element.\n",
    "BinaryTree<int> leftChild = new BinaryTree<int>(3);\n",
    "\n",
    "//Define Binary tree to add right child for root element.\n",
    "BinaryTree<int> rightChild = new BinaryTree<int>(7);\n",
    "\n",
    "//Add left child to root element.\n",
    "root.AddLeftChild(leftChild);\n",
    "\n",
    "//Add right child to root element.\n",
    "root.AddRightChild(rightChild);\n",
    "\n",
    "root.TraverseInOrder(Console.WriteLine); // Output: 2 1 3"
   ]
  },
  {
   "cell_type": "markdown",
   "metadata": {},
   "source": [
    "# Continue learning\n",
    "\n",
    "There are plenty more resources out there to learn!\n",
    "> [⏩ Next Module - Partial Class](18.PartialClasses.ipynb)\n",
    ">\n",
    "> [⏪ Last Module - iDisposable](../C#1.0/16.3.IDisposable.ipynb)"
   ]
  }
 ],
 "metadata": {
  "language_info": {
   "name": "python"
  },
  "orig_nbformat": 4
 },
 "nbformat": 4,
 "nbformat_minor": 2
}
