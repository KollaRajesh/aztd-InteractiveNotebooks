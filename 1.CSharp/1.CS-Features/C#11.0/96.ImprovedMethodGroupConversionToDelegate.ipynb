{
 "cells": [
  {
   "cell_type": "markdown",
   "metadata": {},
   "source": [
    "> ### **Improved method group conversion to delegate** in C#\n",
    ">    Version *C# 11.0*"
   ]
  },
  {
   "cell_type": "markdown",
   "metadata": {},
   "source": [
    ">  - *Improved method group conversion to delegate* : This feature improves the conversion of method groups to delegates. "
   ]
  },
  {
   "cell_type": "markdown",
   "metadata": {},
   "source": [
    ">  Example :1 \n",
    ">\n",
    ">  - In this example, Logger has a method MyMethod that takes an integer parameter and writes it to the console.  \n",
    ">     -  The Log method is assigned to an Action&lt;string&gt; delegate using the method group conversion syntax.  \n",
    ">     -  The Action&lt;string&gt; delegate is then invoked with the value."
   ]
  },
  {
   "cell_type": "code",
   "execution_count": 2,
   "metadata": {
    "dotnet_interactive": {
     "language": "csharp"
    },
    "polyglot_notebook": {
     "kernelName": "csharp"
    },
    "vscode": {
     "languageId": "polyglot-notebook"
    }
   },
   "outputs": [
    {
     "name": "stdout",
     "output_type": "stream",
     "text": [
      "Info:calling from action delegate usign method group conversion to delegate\r\n"
     ]
    }
   ],
   "source": [
    "public class Logger\n",
    "{\n",
    "    public void Log(string message)\n",
    "    {\n",
    "        Console.WriteLine(message);\n",
    "    }\n",
    "}\n",
    "\n",
    "\n",
    "var logger = new Logger();\n",
    "Action<string> action = logger.Log;\n",
    "action(\"Info:calling from action delegate usign method group conversion to delegate\");\n"
   ]
  },
  {
   "cell_type": "markdown",
   "metadata": {},
   "source": [
    "# Continue learning\n",
    "\n",
    "There are plenty more resources out there to learn!\n",
    "\n",
    "> [⏩ Next Module - Warning Wave7](97.WarningWave_7.ipynb)\n",
    ">\n",
    "> [⏪ Last Module - Numeric IntPtr ref fields scoped ref](95.Numeric_IntPtr_ref_fields_scoped_ref.ipynb)\n",
    ">\n",
    "> [Reference - Improved-method-group-conversion-to-delegate](https://learn.microsoft.com/en-us/dotnet/csharp/whats-new/csharp-11#improved-method-group-conversion-to-delegate)    \n",
    ">\n",
    "> [Reference - C#-version-11](https://learn.microsoft.com/en-us/dotnet/csharp/whats-new/csharp-11)  "
   ]
  }
 ],
 "metadata": {
  "language_info": {
   "name": "python"
  },
  "orig_nbformat": 4
 },
 "nbformat": 4,
 "nbformat_minor": 2
}
