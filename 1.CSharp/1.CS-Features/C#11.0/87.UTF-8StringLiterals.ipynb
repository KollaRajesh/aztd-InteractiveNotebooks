{
 "cells": [
  {
   "cell_type": "markdown",
   "metadata": {},
   "source": [
    "> ### **UTF-8 string literals** in C#\n",
    ">    Version *C# 11.0*"
   ]
  },
  {
   "cell_type": "markdown",
   "metadata": {},
   "source": [
    ">  - *UTF-8 string literals* : This feature allows you to create UTF-8 string literals.    \n",
    ">  - \"UTF-8 string literals feature allows developers to write UTF-8 encoded string literals in C# and have them automatically encoded into their UTF-8 byte representation.  \n",
    ">  - This feature enables the creation of more efficient and readable code.  \n",
    ">\n",
    ">   The main advantage of using UTF-8 string literals is that they allow developers to write more efficient and readable code.\n",
    ">    By using UTF-8 encoded string literals, developers can avoid the overhead of encoding at runtime and the hassle of manually translating the bytes and storing them in a byte array.\n"
   ]
  },
  {
   "cell_type": "code",
   "execution_count": null,
   "metadata": {
    "dotnet_interactive": {
     "language": "csharp"
    },
    "polyglot_notebook": {
     "kernelName": "csharp"
    },
    "vscode": {
     "languageId": "polyglot-notebook"
    }
   },
   "outputs": [],
   "source": [
    " //UTF-8 literals are stored as ReadOnlySpan<byte> objects.\n",
    "\n",
    "//ReadOnlySpan<byte> utf8String = \"Hello, !\"u8;\n",
    "byte[] AuthStringLiteral = \"AUTH \"u8.ToArray();\n",
    "AuthStringLiteral.Display();"
   ]
  },
  {
   "cell_type": "markdown",
   "metadata": {},
   "source": [
    "# Continue learning\n",
    "\n",
    "There are plenty more resources out there to learn!\n",
    "\n",
    "> [⏩ Next Module - New Lines In StringInterpolation Expression](88.NewLinesInStringInterpolationExpression.ipynb)\n",
    ">\n",
    "> [⏪ Last Module - Generic Attributes](86.GenericAttributes.ipynb)\n",
    ">\n",
    "> [Reference - utf-8-string-literals](https://learn.microsoft.com/en-us/dotnet/csharp/whats-new/csharp-11#utf-8-string-literals)    \n",
    ">\n",
    "> [Reference - C#-version-11](https://learn.microsoft.com/en-us/dotnet/csharp/whats-new/csharp-11)  "
   ]
  }
 ],
 "metadata": {
  "language_info": {
   "name": "python"
  },
  "orig_nbformat": 4
 },
 "nbformat": 4,
 "nbformat_minor": 2
}
