{
 "cells": [
  {
   "cell_type": "markdown",
   "metadata": {},
   "source": [
    "> ### **Extended nameof scope** in C#\n",
    ">    Version *C# 11.0*"
   ]
  },
  {
   "cell_type": "markdown",
   "metadata": {},
   "source": [
    ">  - *Extended nameof scope* : This feature extends the scope of the nameof operator.  \n",
    ">\n",
    ">      the Extended nameof scope feature allows developers to use the nameof operator inside an attribute on a method or parameter. This feature enables the creation of more robust and maintainable code.\n",
    ">     -  The main advantage of using nameof inside an attribute is that it allows developers to create more robust and maintainable code.\n",
    ">     -  By using nameof to refer to methods and parameters, developers can avoid hard-coding names in attributes and ensure that the attributes always refer to the correct members.\n"
   ]
  },
  {
   "cell_type": "code",
   "execution_count": 6,
   "metadata": {
    "dotnet_interactive": {
     "language": "csharp"
    },
    "polyglot_notebook": {
     "kernelName": "csharp"
    },
    "vscode": {
     "languageId": "polyglot-notebook"
    }
   },
   "outputs": [],
   "source": [
    "using System;\n",
    "\n",
    "[AttributeUsage(AttributeTargets.Class | AttributeTargets.Method |AttributeTargets.Parameter, AllowMultiple = true)]\n",
    "public class MetaAttribute : Attribute\n",
    "{\n",
    "    public string Name { get; set; }\n",
    "    public int Version { get; set; }\n",
    "\n",
    "    public MetaAttribute(string name)  \n",
    "    {\n",
    "        Name = name;\n",
    "    }\n",
    "}\n",
    "\n",
    "public class Test\n",
    "{\n",
    "    [Meta(nameof(Get))]  \n",
    "    public void Get()\n",
    "    {\n",
    "        //In this example, we use the nameof operator inside an attribute to refer to the Get method. \n",
    "        //This ensures that the attribute always refers to the correct method, even if the method name change\n",
    "        // Method code\n",
    "    }\n",
    "}\n",
    "\n",
    "public class Test2\n",
    "{\n",
    "    \n",
    "    public void Get([Meta(nameof(Get))] int value)\n",
    "    {\n",
    "        // Method code\n",
    "    }\n",
    "}"
   ]
  },
  {
   "cell_type": "markdown",
   "metadata": {},
   "source": [
    "# Continue learning\n",
    "\n",
    "There are plenty more resources out there to learn!\n",
    "\n",
    "> [⏩ Next Module - Numeric IntPtr ref fields scoped ref](95.Numeric_IntPtr_ref_fields_scoped_ref.ipynb)\n",
    ">\n",
    "> [⏪ Last Module - Pattern Match](93.PatternMatch.ipynb)\n",
    ">\n",
    "> [Reference - extended-nameof-scope](https://learn.microsoft.com/en-us/dotnet/csharp/whats-new/csharp-11#extended-nameof-scope)    \n",
    ">\n",
    "> [Reference - C#-version-11](https://learn.microsoft.com/en-us/dotnet/csharp/whats-new/csharp-11)  "
   ]
  }
 ],
 "metadata": {
  "language_info": {
   "name": "python"
  },
  "orig_nbformat": 4
 },
 "nbformat": 4,
 "nbformat_minor": 2
}
