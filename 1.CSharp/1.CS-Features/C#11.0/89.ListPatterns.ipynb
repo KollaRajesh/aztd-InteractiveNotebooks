{
 "cells": [
  {
   "cell_type": "markdown",
   "metadata": {},
   "source": [
    "> ### **List patterns** in C#\n",
    ">    Version *C# 11.0*"
   ]
  },
  {
   "cell_type": "markdown",
   "metadata": {},
   "source": [
    ">  - *List patterns* : This feature allows you to match and deconstruct arrays and System.Collections.Generic.List<T> instances.  \n",
    ">\n",
    ">  - In C#11, the List patterns feature allows developers to match an array or a list with a sequence of patterns.\n",
    ">  -  This feature enables the creation of more flexible and readable code.\n",
    ">  - The main advantage of using list patterns is that they allow developers to write more flexible and readable code.\n",
    ">  -  By using list patterns, developers can match arrays and lists with a sequence of patterns, which makes the code more concise and easier to understand."
   ]
  },
  {
   "cell_type": "code",
   "execution_count": null,
   "metadata": {
    "dotnet_interactive": {
     "language": "csharp"
    },
    "polyglot_notebook": {
     "kernelName": "csharp"
    },
    "vscode": {
     "languageId": "polyglot-notebook"
    }
   },
   "outputs": [],
   "source": [
    "int[] numbers = { 1, 2, 3, 4 };\n",
    "\n",
    " Console.Write($\"{nameof(numbers)}:\" );\n",
    " numbers.Display();\n",
    "\n",
    "if (numbers is { Length: 4 } && numbers is  [1, 2, 3, 4] )\n",
    "{\n",
    "    Console.WriteLine(\"Matched array\");\n",
    "}\n",
    "// if (numbers is [1, 2, 3, 4]) \n",
    "// Console.WriteLine(\"Matched array\");\n",
    "\n",
    "if (numbers is [var first, .. var rest]){\n",
    "    Console.WriteLine($\"first element:{first}\");\n",
    "    Console.WriteLine($\"second element in the rest of list:{rest[1]}\");\n",
    "}\n",
    "\n",
    "if (numbers is [ .. ,var last]){\n",
    "    Console.WriteLine($\"last element:{last}\");\n",
    "    \n",
    "}\n",
    "void Validate(int[] list)\n",
    "{\n",
    "    Console.WriteLine(\"******************************************Begin of Validate method ******************************************\");\n",
    "    Console.Write($\"{nameof(list)}:\" );\n",
    "    list.Display();\n",
    "    var result = numbers is [< 0, .. { Length: 2 or 4 }, > 0] ? \"valid\" : \"not valid\";\n",
    "    Console.WriteLine(result);\n",
    "    Console.WriteLine($\"{nameof(list)} is having [< 0, ..  Length: 2 or 4 , > 0]: { list is [< 0, .. { Length: 2 or 4 }, > 0]}\");\n",
    "    Console.WriteLine($\"{nameof(list)} is having [1, 2, 3]: { list is [1, 2, 3]}\");\n",
    "    Console.WriteLine($\"{nameof(list)} is having [1, 2, 4]: { list is [1, 2, 3,4]}\");\n",
    "    Console.WriteLine($\"{nameof(list)} is having [1, 2, _, 4]:{ list is  [1, 2, _, 4]}\");\n",
    "    Console.WriteLine($\"{nameof(list)} is having [1,..,4]:{ list is [1,..,4]}\");\n",
    "    Console.WriteLine($\"{nameof(list)} is having [0 or 1, <= 2, >= 3]:{ list is [0 or 1, <= 2, >= 3]}\");\n",
    "    Console.WriteLine($\"{nameof(list)} is having [0 or 1, <= 2, >= 3,>=4]:{ list is [0 or 1, <= 2, >= 3,>=4]}\");\n",
    "    Console.WriteLine(\"\");\n",
    "    Console.WriteLine(\"******************************************End of Validate method ******************************************\");\n",
    "}\n",
    "Validate(new[]{-1,1,2,4});\n",
    "//uncomment each line to verify each arry with validate method.\n",
    "\n",
    "// Validate(new[]{-1,1,4});\n",
    "// Validate(numbers[0..2]);\n",
    "// Validate(numbers.ToList().GetRange(0, 3).ToArray());\n",
    "// Validate(new[]{1,4});\n",
    "// Validate(numbers);\n",
    "\n"
   ]
  },
  {
   "cell_type": "markdown",
   "metadata": {},
   "source": [
    "# Continue learning\n",
    "\n",
    "There are plenty more resources out there to learn!\n",
    "\n",
    "> [⏩ Next Module - File Local Types](90.FileLocalTypes.ipynb)\n",
    ">\n",
    "> [⏪ Last Module - New Lines In StringInterpolation Expression](88.NewLinesInStringInterpolationExpression.ipynb)\n",
    ">\n",
    "> [Reference - List-patterns](https://learn.microsoft.com/en-us/dotnet/csharp/whats-new/csharp-11#list-patterns)    \n",
    ">\n",
    "> [Reference - C#-version-11](https://learn.microsoft.com/en-us/dotnet/csharp/whats-new/csharp-11)  "
   ]
  }
 ],
 "metadata": {
  "language_info": {
   "name": "python"
  },
  "orig_nbformat": 4
 },
 "nbformat": 4,
 "nbformat_minor": 2
}
