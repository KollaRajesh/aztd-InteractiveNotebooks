{
 "cells": [
  {
   "cell_type": "markdown",
   "metadata": {},
   "source": [
    "> ### **Numeric IntPtr, ref fields, and scoped ref** in C#\n",
    ">    Version *C# 11.0*"
   ]
  },
  {
   "cell_type": "markdown",
   "metadata": {},
   "source": [
    ">  - **Numeric IntPtr**: This feature introduces numeric IntPtr and UIntPtr, ref fields, and scoped ref.  \n",
    "> \n",
    ">     -  “Numeric IntPtr” is a feature in C#11 that allows the use of nint and nuint types as simple types aliasing System IntPtr and System.UIntPtr, respectively.  \n",
    ">     -  This feature is an extension of the initial native integers feature, where the nint and nuint types were distinct from the underlying types System.IntPtr and System.UIntPtr.  \n",
    ">     -   The System.Runtime.CompilerServices.RuntimeFeature.NumericIntPtr runtime feature flag triggers this new behavior .  \n",
    ">\n",
    "> The added value of this feature is that it provides a more natural way to work with native-sized integers in C#. It also simplifies the code by reducing the need for explicit conversions between nint/nuint and System.IntPtr/System.UIntPtr"
   ]
  },
  {
   "cell_type": "code",
   "execution_count": null,
   "metadata": {
    "dotnet_interactive": {
     "language": "csharp"
    },
    "polyglot_notebook": {
     "kernelName": "csharp"
    },
    "vscode": {
     "languageId": "polyglot-notebook"
    }
   },
   "outputs": [],
   "source": [
    "nint x = -42;\n",
    "nuint y = 42u;\n",
    "//nuint z = -42; //will throw error:  error CS0031: Constant value '-42' cannot be converted to a 'nuint'\n",
    "Console.WriteLine($\"{nameof(x)} : {x}\");\n",
    "Console.WriteLine($\"{nameof(y)} : {y}\");\n",
    "//nint q = x + y; //will throw error - error CS0034: Operator '+' is ambiguous on operands of type 'nint' and 'nuint'\n",
    "nint p = -42;\n",
    "nint r = 42;\n",
    "nint s = p + r;\n",
    "Console.WriteLine($\"{nameof(s)} : {s}\");"
   ]
  },
  {
   "cell_type": "markdown",
   "metadata": {},
   "source": [
    ">  - **ref fields, and scoped ref**:   \n",
    ">     - “Ref fields and scoped ref” is a feature in C#11 that allows the use of ref fields inside a ref struct. \n",
    ">      - This feature is part of the “Low-Level Struct Improvements” and is aimed at improving performance in critical hot paths.  \n",
    "\n",
    ">  \n",
    ">  - **Scoped ref** is a feature that restricts the lifetime of a value. This feature is used to keep the object’s lifetime but allows us to cross some boundaries that were previously unreachable.  \n",
    ">      - The scoped modifier will be used to restrict the lifetime of a value. The scoped notation asserts that your code won’t extend the lifetime of the variable. \n",
    ">\n",
    "> The added value of this feature is that it provides a more natural way to work with native-sized integers in C#.  \n",
    ">It also simplifies the code by reducing the need for explicit conversions between nint/nuint and System.IntPtr/System.UIntPtr.  \n",
    "\n",
    "```csharp\n",
    "\n",
    "        public ref struct RefFieldExample\n",
    "        {\n",
    "            private ref int number;\n",
    "\n",
    "            public int GetNumber()\n",
    "            {\n",
    "                if (System.Runtime.CompilerServices.Unsafe.IsNullRef(ref number))\n",
    "                {\n",
    "                    throw new InvalidOperationException(\"The number ref field is not initialized.\");\n",
    "                }\n",
    "\n",
    "                return number;\n",
    "            }\n",
    "        }\n",
    "```\n",
    "\n",
    "```csharp\n",
    "        var values = stackalloc char[3] { 'T', 'o', 'm' };\n",
    "        Span<char> span = new(values, 3).Slice(0, 2);\n",
    "        ref char firstChar = ref span[0];\n",
    "        scoped ref var scopedFirstChar = ref firstChar;\n",
    "```"
   ]
  },
  {
   "cell_type": "code",
   "execution_count": null,
   "metadata": {
    "dotnet_interactive": {
     "language": "csharp"
    },
    "polyglot_notebook": {
     "kernelName": "csharp"
    },
    "vscode": {
     "languageId": "polyglot-notebook"
    }
   },
   "outputs": [],
   "source": [
    "\n"
   ]
  },
  {
   "cell_type": "code",
   "execution_count": null,
   "metadata": {
    "dotnet_interactive": {
     "language": "csharp"
    },
    "polyglot_notebook": {
     "kernelName": "csharp"
    },
    "vscode": {
     "languageId": "polyglot-notebook"
    }
   },
   "outputs": [],
   "source": []
  },
  {
   "cell_type": "markdown",
   "metadata": {},
   "source": [
    "# Continue learning\n",
    "\n",
    "There are plenty more resources out there to learn!\n",
    "\n",
    "> [⏩ Next Module - Improved Method Group Conversion To Delegate](96.ImprovedMethodGroupConversionToDelegate.ipynb)\n",
    ">\n",
    "> [⏪ Last Module - Extended nameof scope](94.Extended_nameof_scope.ipynb)\n",
    ">\n",
    ">  [Reference - numeric-intptr-and-uintptr](https://learn.microsoft.com/en-us/dotnet/csharp/whats-new/csharp-11#numeric-intptr-and-uintptr)    \n",
    ">\n",
    "> [Reference - ref-fields-and-ref-scoped-variables](https://learn.microsoft.com/en-us/dotnet/csharp/whats-new/csharp-11#ref-fields-and-ref-scoped-variables)\n",
    ">\n",
    "> [Reference - C#-version-11](https://learn.microsoft.com/en-us/dotnet/csharp/whats-new/csharp-11)  "
   ]
  }
 ],
 "metadata": {
  "language_info": {
   "name": "python"
  },
  "orig_nbformat": 4
 },
 "nbformat": 4,
 "nbformat_minor": 2
}
