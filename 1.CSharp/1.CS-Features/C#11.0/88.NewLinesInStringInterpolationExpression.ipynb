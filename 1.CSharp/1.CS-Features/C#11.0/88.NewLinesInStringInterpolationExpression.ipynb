{
 "cells": [
  {
   "cell_type": "markdown",
   "metadata": {},
   "source": [
    "> ### **Newlines in string interpolation expressions** in C#\n",
    ">    Version *C# 11.0*"
   ]
  },
  {
   "cell_type": "markdown",
   "metadata": {},
   "source": [
    ">  *Newlines in string interpolation expressions* :\n",
    ">   - \"Newlines in string interpolation expressions\" feature allows developers to split the embedded expressions over multiple lines. \n",
    ">   - This feature enables the creation of more readable and maintainable code."
   ]
  },
  {
   "cell_type": "code",
   "execution_count": null,
   "metadata": {
    "dotnet_interactive": {
     "language": "csharp"
    },
    "polyglot_notebook": {
     "kernelName": "csharp"
    },
    "vscode": {
     "languageId": "polyglot-notebook"
    }
   },
   "outputs": [],
   "source": [
    "string message = $\"Hello,{Environment.NewLine}world!\";\n",
    "message.Display();\n",
    "\n",
    "//In this example, we use the Environment.NewLine property to insert a newline character in the string interpolation expression.\n",
    "// This makes the resulting string more readable and easier to understand."
   ]
  },
  {
   "cell_type": "code",
   "execution_count": null,
   "metadata": {
    "dotnet_interactive": {
     "language": "csharp"
    },
    "polyglot_notebook": {
     "kernelName": "csharp"
    },
    "vscode": {
     "languageId": "polyglot-notebook"
    }
   },
   "outputs": [],
   "source": [
    "var value =1;\n",
    "string message = $\"{value switch {1 => \"one\", 2 => \"two\", _ => \"other\"}}, {Environment.NewLine} flower!\";\n",
    "message.Display();\n",
    "var  anotherMessage = $\"{10 switch {1 => \"one\", 2 => \"two\", _ => \"other\"}}, \\n fruits!\";\n",
    "anotherMessage.Display();"
   ]
  },
  {
   "cell_type": "markdown",
   "metadata": {},
   "source": [
    "# Continue learning\n",
    "\n",
    "There are plenty more resources out there to learn!\n",
    "\n",
    "> [⏩ Next Module - List Patterns](89.ListPatterns.ipynb)\n",
    ">\n",
    "> [⏪ Last Module - UTF-8 String Literals](87.UTF-8StringLiterals.ipynb)\n",
    ">\n",
    "> [Reference - Newlines-in-string-interpolations](https://learn.microsoft.com/en-us/dotnet/csharp/whats-new/csharp-11#newlines-in-string-interpolations)    \n",
    ">\n",
    "> [Reference - C#-version-11](https://learn.microsoft.com/en-us/dotnet/csharp/whats-new/csharp-11)  "
   ]
  }
 ],
 "metadata": {
  "language_info": {
   "name": "python"
  },
  "orig_nbformat": 4
 },
 "nbformat": 4,
 "nbformat_minor": 2
}
