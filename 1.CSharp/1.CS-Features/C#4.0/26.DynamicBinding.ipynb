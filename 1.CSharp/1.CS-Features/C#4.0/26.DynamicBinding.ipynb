{
 "cells": [
  {
   "cell_type": "markdown",
   "metadata": {},
   "source": []
  },
  {
   "cell_type": "markdown",
   "metadata": {
    "vscode": {
     "languageId": "polyglot-notebook"
    }
   },
   "source": [
    "> ### Dynamic Binding \n",
    ">    Version *C# 4.0*\n",
    ">\n",
    "> Dynamic Binding  :\n",
    ">\n",
    "> Dynamic binding in C# is a feature that allows you to write code that can interact with objects whose types are not known until runtime.\n",
    ">     This means that you can write code that can work with objects that are not known at compile time, which can be useful in certain scenario"
   ]
  },
  {
   "cell_type": "markdown",
   "metadata": {},
   "source": [
    "> #### Example -1 \n",
    ">\n",
    ">  - In the below example, we create a dynamic object called obj and assign it the value \"Hello, Dynamic Binding!\".\n",
    ">\n",
    ">  - We then call the ToUpper() method on the obj object, which converts the string to uppercase.\n",
    ">\n",
    ">  - Since obj is a dynamic object, the ToUpper() method is resolved at runtime, rather than at compile time."
   ]
  },
  {
   "cell_type": "code",
   "execution_count": 2,
   "metadata": {
    "dotnet_interactive": {
     "language": "csharp"
    },
    "polyglot_notebook": {
     "kernelName": "csharp"
    },
    "vscode": {
     "languageId": "polyglot-notebook"
    }
   },
   "outputs": [
    {
     "name": "stdout",
     "output_type": "stream",
     "text": [
      "HELLO, DYNAMIC BINDING!\r\n"
     ]
    }
   ],
   "source": [
    "dynamic obj = \"Hello, Dynamic Binding!\";\n",
    "Console.WriteLine(obj.ToUpper());"
   ]
  },
  {
   "cell_type": "markdown",
   "metadata": {},
   "source": [
    "> #### Example - 2\n",
    "\n",
    "```csharp \n",
    "    using System;\n",
    "    using System.Reflection;\n",
    "\n",
    "    class Program\n",
    "    {\n",
    "        static void Main()\n",
    "        {\n",
    "            Assembly assembly = Assembly.LoadFrom(\"Library.dll\");\n",
    "            Type type = assembly.GetType(\"Library.CustomClass\");\n",
    "            dynamic obj = Activator.CreateInstance(type);\n",
    "            obj.CustomMethod();\n",
    "        }\n",
    "    }\n",
    "\n",
    "```\n",
    ">\n",
    ">  - In this example, we load an external assembly called *Library.dll* and get a reference to a type called MyClass.\n",
    ">\n",
    ">  - We then create an instance of the *CustomClass* type using the *Activator.CreateInstance* method and call the MyMethod method on the obj object.\n",
    ">\n",
    ">  - Since obj is a dynamic object, the *CustomMethod* method is resolved at runtime, rather than at compile time."
   ]
  },
  {
   "cell_type": "markdown",
   "metadata": {},
   "source": [
    "# Continue learning\n",
    "\n",
    "There are plenty more resources out there to learn!\n",
    "\n",
    "> [⏩ Next Module - Named And Optional Arguments](27.NamedAndOptionalArguments.ipynb)\n",
    ">\n",
    "> [⏪ Last Module - Extension Methods](../C#3.0/25.ExtensionMethods.ipynb)\n",
    ">\n",
    "> [Reference : Dynamice Binding](https://learn.microsoft.com/en-us/dotnet/csharp/advanced-topics/interop/walkthrough-creating-and-using-dynamic-objects)"
   ]
  }
 ],
 "metadata": {
  "language_info": {
   "name": "python"
  },
  "orig_nbformat": 4
 },
 "nbformat": 4,
 "nbformat_minor": 2
}
