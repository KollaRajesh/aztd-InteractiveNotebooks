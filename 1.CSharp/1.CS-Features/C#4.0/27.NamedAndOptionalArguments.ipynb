{
 "cells": [
  {
   "cell_type": "markdown",
   "metadata": {},
   "source": [
    "> ### Named and optional Parameters\n",
    ">    Version *C# 4.0*\n",
    ">\n",
    "> Named and optional Parameters :\n",
    ">\n",
    ">  Named and optional parameters are a feature in C# that allow you to specify arguments for a method by name, rather than by position. \n",
    ">  This can make your code more readable and easier to maintain, especially when you have methods with many parameters "
   ]
  },
  {
   "cell_type": "markdown",
   "metadata": {},
   "source": [
    "> #### Example -1\n",
    ">\n",
    ">  Below is a simple example of named and optional parameters in C#  \n",
    ">\n",
    ">  In the below example, we have a method called PrintOrderDetails that takes three parameters: sellerName, orderNum, and productName. \n",
    ">  The productName parameter is optional and has a default value of \"None\".\n",
    ">  We can call the method using either positional arguments or named arguments."
   ]
  },
  {
   "cell_type": "code",
   "execution_count": null,
   "metadata": {
    "dotnet_interactive": {
     "language": "csharp"
    },
    "polyglot_notebook": {
     "kernelName": "csharp"
    },
    "vscode": {
     "languageId": "polyglot-notebook"
    }
   },
   "outputs": [],
   "source": [
    "public void PrintOrderDetails(string sellerName, int orderNum, string productName = \"None\")\n",
    "{\n",
    "    Console.WriteLine(\"Seller: {0}\", sellerName);\n",
    "    Console.WriteLine(\"Order Number: {0}\", orderNum);\n",
    "    Console.WriteLine(\"Product Name: {0}\", productName);\n",
    "\n",
    "    Console.WriteLine(\"\");\n",
    "    \n",
    "}\n",
    "\n",
    "// Call the method using positional arguments and without passing optional parameters\n",
    "PrintOrderDetails(\"Gift Shop\", 31);\n",
    "\n",
    "// Call the method using positional arguments\n",
    "PrintOrderDetails(\"Gift Shop\", 31, \"Red Mug\");\n",
    "\n",
    "// Call the method using named arguments\n",
    "PrintOrderDetails(orderNum: 31, productName: \"Red Mug\", sellerName: \"Gift Shop\");\n",
    "\n"
   ]
  },
  {
   "cell_type": "markdown",
   "metadata": {},
   "source": [
    "> #### Example -2\n",
    ">\n",
    ">  Below is a simple example of named and optional parameters in C#  \n",
    ">\n",
    ">\n",
    ">  In the below example, we have a method called SendEmail that takes five parameters: to, subject, body, cc, and bcc.\n",
    ">\n",
    ">  The cc and bcc parameters are optional and have default values of null. We can call the method using named arguments to specify only the parameters we need."
   ]
  },
  {
   "cell_type": "code",
   "execution_count": 12,
   "metadata": {
    "dotnet_interactive": {
     "language": "csharp"
    },
    "polyglot_notebook": {
     "kernelName": "csharp"
    },
    "vscode": {
     "languageId": "polyglot-notebook"
    }
   },
   "outputs": [
    {
     "name": "stdout",
     "output_type": "stream",
     "text": [
      "Send email to: to@example.com , cc: cc@example.com and bcc: bcc@example.com \n",
      "subject: Test email!\n",
      "body: body  Hello , This is a test email using positional arguments.\n",
      "\n",
      "Send email to: to@example.com , cc: cc@example.com and bcc: bcc@example.com \n",
      "subject: Test email!\n",
      "body: body  Hello , This is a test email using named arguments\n",
      "\n",
      "Send email to: to@example.com , cc:  and bcc:  \n",
      "subject: Test email!\n",
      "body: body  Hello , This is a test email using named arguments\n",
      "\n"
     ]
    }
   ],
   "source": [
    "public void SendEmail(string to, string subject, string body, string cc = null, string bcc = null)\n",
    "{\n",
    "    Console.WriteLine( $\"Send email to: {to} , cc: {cc} and bcc: {bcc} \");\n",
    "    Console.WriteLine( $\"subject: {subject}\");\n",
    "    Console.WriteLine( $\"body: body {body}\");\n",
    "    Console.WriteLine(\"\");\n",
    "}\n",
    "\n",
    "// Call the method using positional arguments\n",
    "SendEmail( \"to@example.com\",\"Test email!\",\" Hello , This is a test email using positional arguments.\", \"cc@example.com\", \"bcc@example.com\");\n",
    "\n",
    "// Call the method using named arguments\n",
    "SendEmail(to: \"to@example.com\", subject: \"Test email!\", body: \" Hello , This is a test email using named arguments\", cc: \"cc@example.com\", bcc: \"bcc@example.com\");\n",
    "\n",
    "// Call the method using positional arguments and without passing optional parameters\n",
    "SendEmail(to: \"to@example.com\", subject: \"Test email!\", body: \" Hello , This is a test email using named arguments\");\n"
   ]
  },
  {
   "cell_type": "markdown",
   "metadata": {},
   "source": [
    "# Continue learning\n",
    "\n",
    "There are plenty more resources out there to learn!\n",
    "\n",
    "> [⏩ Next Module - Generic Co-Variance and ContraVariance](28.GenericCoAndContravariance.ipynb)\n",
    ">\n",
    "> [⏪ Last Module - Named And Optional Arguments](27.NamedAndOptionalArguments.ipynb)\n",
    ">\n",
    "> [Reference : Named and Optional arguments](https://learn.microsoft.com/en-us/dotnet/csharp/programming-guide/classes-and-structs/named-and-optional-arguments)"
   ]
  }
 ],
 "metadata": {
  "language_info": {
   "name": "python"
  },
  "orig_nbformat": 4
 },
 "nbformat": 4,
 "nbformat_minor": 2
}
