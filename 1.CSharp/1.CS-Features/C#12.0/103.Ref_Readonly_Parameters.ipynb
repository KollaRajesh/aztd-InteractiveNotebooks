{
 "cells": [
  {
   "cell_type": "markdown",
   "metadata": {},
   "source": [
    "> ### Ref Redonly feature \n",
    ">    Version *C# 12.0*  and available with .NET8.0 SDK"
   ]
  },
  {
   "cell_type": "markdown",
   "metadata": {},
   "source": [
    "> ** Ref readonly parameters**:  Ref readonly parameters is a feature introduced in C# 7.2 that allows passing readonly references to a method. \n",
    "   It is used to enforce that the method does not modify the passed parameter.\n",
    "   \n",
    " >   In C# 12, the feature has been extended to allow declaring ref readonly parameters. \n",
    " >   This feature is useful when a method needs to capture or return a reference from its parameter and wants to disallow rvalues and enforce some indication at the callsite that a reference is being captured.\n",
    "\n",
    " \n",
    ">  Example :\n",
    "```c#\n",
    "    // This is preview feature , it may throw below error with current version \n",
    "    //error CS9070: 'readonly' is not supported as a parameter modifier. Did you mean 'in'?\n",
    "    public void PrintArray(ref readonly int[] arr)\n",
    "    {\n",
    "        for (int i = 0; i < arr.Length; i++)\n",
    "        {\n",
    "            Console.Write(arr[i] + \" \");\n",
    "        }\n",
    "    }\n",
    "```"
   ]
  },
  {
   "cell_type": "code",
   "execution_count": null,
   "metadata": {
    "dotnet_interactive": {
     "language": "csharp"
    },
    "polyglot_notebook": {
     "kernelName": "csharp"
    },
    "vscode": {
     "languageId": "polyglot-notebook"
    }
   },
   "outputs": [],
   "source": [
    "    //readonly span of characters as an in parameter and prints it to the console.\n",
    "    public void PrintString(in ReadOnlySpan<char> str)  \n",
    "        {\n",
    "            Console.WriteLine(str.ToArray());\n",
    "        }\n",
    "        PrintString(new char[]{'R','o','b'})"
   ]
  },
  {
   "cell_type": "markdown",
   "metadata": {},
   "source": [
    "# Continue learning\n",
    "\n",
    "There are plenty more resources out there to learn!\n",
    "\n",
    "> [⏩ Next Module - Alias Any Type ](104.Alias_AnyType.ipynb)\n",
    ">\n",
    "> [⏪ Last Module - Optional Parameters In Lambda Expressions](102.Optional_Parameters_In_Lambda_Expressions.ipynb)\n",
    ">\n",
    "> [Reference- ref-readonly-parameters](https://learn.microsoft.com/en-us/dotnet/csharp/whats-new/csharp-12#ref-readonly-parameters)\n",
    ">\n",
    "> [Reference- C# 12 Version](https://learn.microsoft.com/en-us/dotnet/csharp/whats-new/csharp-12)\n",
    ">"
   ]
  }
 ],
 "metadata": {
  "language_info": {
   "name": "python"
  },
  "orig_nbformat": 4
 },
 "nbformat": 4,
 "nbformat_minor": 2
}
