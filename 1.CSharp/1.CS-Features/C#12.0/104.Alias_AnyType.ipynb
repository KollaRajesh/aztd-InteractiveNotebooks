{
 "cells": [
  {
   "cell_type": "markdown",
   "metadata": {},
   "source": [
    "> ### Alias Any Type feature \n",
    ">    Version *C# 12.0*  and available with .NET8.0 SDK"
   ]
  },
  {
   "cell_type": "markdown",
   "metadata": {},
   "source": [
    "> **Alias any type **:  *\"Alias any type\"* is a feature introduced in C# 12 that allows using the using alias directive to reference any kind of type, not just named types.  \n",
    ">       This means that you can create semantic aliases for tuple types, array types, pointer types, or other unsafe types.  \n",
    ">\n",
    ">\n",
    ">    The added value of this feature is that it provides a way to introduce non-conflicting names in cases where a normal named pulled in from using_directives might be ambiguous, and it allowed a way to provide a simpler name when dealing with complex generic types.\n",
    ">\n",
    "> Examples :\n",
    "```c#\n",
    "    // This is preview feature , it may throw below error with current version/\n",
    "    //error CS8652: The feature 'using type alias' is currently in Preview and *unsupported*. To use Preview features, use the 'preview' language version.\n",
    "\n",
    "    //Example 1:\n",
    "        using Point = (int x, int y);\n",
    "\n",
    "    //Example 2:\n",
    "        using SuperJSON = System.Text.Json.JsonSerializer;\n",
    "```"
   ]
  },
  {
   "cell_type": "markdown",
   "metadata": {},
   "source": [
    "# Continue learning\n",
    "\n",
    "There are plenty more resources out there to learn!\n",
    "\n",
    "> [⏩ Next Module - Experimental_Attribute ](105.Experimental_Attribute.ipynb)\n",
    ">\n",
    "> [⏪ Last Module - Ref Readonly Parameters](103.Ref_Readonly_Parameters.ipynb)\n",
    ">\n",
    "> [Reference- alias-any-type](https://learn.microsoft.com/en-us/dotnet/csharp/whats-new/csharp-12#alias-any-type)\n",
    ">\n",
    "> [Reference- C# 12 Version](https://learn.microsoft.com/en-us/dotnet/csharp/whats-new/csharp-12)\n",
    ">"
   ]
  }
 ],
 "metadata": {
  "language_info": {
   "name": "python"
  },
  "orig_nbformat": 4
 },
 "nbformat": 4,
 "nbformat_minor": 2
}
