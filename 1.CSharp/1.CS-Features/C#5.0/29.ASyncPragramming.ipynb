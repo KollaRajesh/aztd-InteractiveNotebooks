{
 "cells": [
  {
   "cell_type": "markdown",
   "metadata": {},
   "source": [
    "> ### Asynchronous Programming\n",
    ">    Version *C# 5.0*\n",
    ">\n",
    "> **Asynchronous programming** in C# is a way to write code that can perform long-running operations without blocking the main thread. \n",
    "> This allows the application to remain responsive while the operation is being performed. \n",
    "> Asynchronous programming is achieved using the async and await keywords in C#.\n",
    ">"
   ]
  },
  {
   "cell_type": "code",
   "execution_count": null,
   "metadata": {
    "dotnet_interactive": {
     "language": "csharp"
    },
    "polyglot_notebook": {
     "kernelName": "csharp"
    },
    "vscode": {
     "languageId": "polyglot-notebook"
    }
   },
   "outputs": [],
   "source": [
    "using System.Net.Http; \n",
    "public async Task<string> DownloadDataAsync(string url)\n",
    "{\n",
    "    using (HttpClient client = new HttpClient())\n",
    "    {\n",
    "        HttpResponseMessage response = await client.GetAsync(url);\n",
    "        return await response.Content.ReadAsStringAsync();\n",
    "    }\n",
    "}\n",
    "var response =await DownloadDataAsync(\"Http://google.com\");\n",
    "response.Display();"
   ]
  },
  {
   "cell_type": "code",
   "execution_count": null,
   "metadata": {
    "dotnet_interactive": {
     "language": "csharp"
    },
    "polyglot_notebook": {
     "kernelName": "csharp"
    },
    "vscode": {
     "languageId": "polyglot-notebook"
    }
   },
   "outputs": [],
   "source": [
    "#r \"C:\\Program Files\\dotnet\\sdk\\8.0.100\\Microsoft\\Microsoft.NET.Build.Extensions\\net461\\lib\\System.Threading.dll\"\n",
    "\n",
    "//#r \"nuget:PackageName,1.0.0-beta\"\n",
    "\n",
    "public async Task<int> CalculateSumAsync(int[] numbers)\n",
    "{\n",
    "    int sum = 0;\n",
    "\n",
    "    await Task.Run(() =>\n",
    "    {\n",
    "        for (int i = 0; i < numbers.Length; i++)\n",
    "        {\n",
    "            sum += numbers[i];\n",
    "            System.Threading.Thread.Sleep(1000);\n",
    "        }\n",
    "    });\n",
    "\n",
    "    return sum;\n",
    "}\n",
    "await CalculateSumAsync(new[] {1 ,2,3,4,5,6,7,8,10,11,12,13,14,15,16,17,18,19})"
   ]
  },
  {
   "cell_type": "markdown",
   "metadata": {},
   "source": [
    "# Continue learning\n",
    "\n",
    "There are plenty more resources out there to learn!\n",
    "\n",
    "> [⏩ Next Module -Caller Information ](30.CallerInformation.ipynb)\n",
    ">\n",
    "> [⏪ Last Module - IObserable  and IObserver interfaces](../C#4.0/29.IObserable_IObserver.Ipynb)\n",
    ">\n",
    "> [Reference : ASync Programming](https://learn.microsoft.com/en-us/dotnet/csharp/asynchronous-programming/async-scenarios)"
   ]
  }
 ],
 "metadata": {
  "language_info": {
   "name": "python"
  },
  "orig_nbformat": 4
 },
 "nbformat": 4,
 "nbformat_minor": 2
}
