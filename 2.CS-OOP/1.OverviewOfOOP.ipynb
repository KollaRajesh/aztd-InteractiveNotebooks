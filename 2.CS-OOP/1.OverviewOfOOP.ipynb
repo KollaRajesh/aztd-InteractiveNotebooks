{
 "cells": [
  {
   "cell_type": "code",
   "execution_count": null,
   "metadata": {},
   "outputs": [],
   "source": [
    "### Object-oriented programming (OOP)"
   ]
  },
  {
   "cell_type": "markdown",
   "metadata": {},
   "source": [
    ">  Object-oriented programming (OOP) is a programming paradigm that relies on the concept of classes and objects. \n",
    ">\n",
    ">   It is used to structure a software program into simple, reusable pieces of code blueprints (usually called classes), which are used to create individual instances of objects .\n",
    ">   There are four basic principles of OOP.\n",
    ">\n",
    ">  1. Encapsulation\n",
    ">  2. Abstraction\n",
    ">  3. Inheritance\n",
    ">  4. Polymorphism\n",
    "\n",
    "> 1. **Encapsulation**: Encapsulation is the practice of keeping the internal workings of an object hidden from the outside world.     \n",
    ">     This is achieved by defining a public interface for the object, which allows other objects to interact with it, while keeping the details of its implementation hidden.  \n",
    ">\n",
    "> 2. **Abstraction**: Abstraction is the process of identifying the essential characteristics of an object, and ignoring everything else.    \n",
    ">     This allows us to create models of complex systems that are easier to understand and work with     \n",
    ">\n",
    "> 3. **Inheritance**: Inheritance is the process of creating new classes from existing ones.   \n",
    ">     This allows us to reuse code that has already been written, and to create new classes that are similar to existing ones, but with some modifications.  \n",
    ">\n",
    "> 4. **Polymorphism**: Polymorphism is the ability of objects to take on many forms.   \n",
    ">     This allows us to write code that can work with objects of different types, without having to know the details of those types   "
   ]
  },
  {
   "cell_type": "markdown",
   "metadata": {},
   "source": [
    "# Continue learning\n",
    "\n",
    "There are plenty more resources out there to learn!\n",
    "\n",
    "> [⏩ Next Module -  Encapsulatipon](2.Encapsulation.ipynb)\n",
    ">\n",
    "<!-- > [⏪ Last Module - Primart Constructors](99.PrimartConstructors.ipynb) -->\n",
    ">\n",
    "> [Reference- Object-Oriented programming](https://learn.microsoft.com/en-us/dotnet/csharp/fundamentals/tutorials/oop)\n"
   ]
  }
 ],
 "metadata": {
  "language_info": {
   "name": "python"
  },
  "orig_nbformat": 4
 },
 "nbformat": 4,
 "nbformat_minor": 2
}
