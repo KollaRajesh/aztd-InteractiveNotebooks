{
 "cells": [
  {
   "cell_type": "markdown",
   "metadata": {},
   "source": [
    ">  ### Encapsulation"
   ]
  },
  {
   "cell_type": "markdown",
   "metadata": {},
   "source": [
    "> **Encapsulation** is a fundamental principle of object-oriented programming that refers to the practice of keeping the internal workings of an object hidden from the outside world.\n",
    ">   - This is achieved by defining a public interface for the object, which allows other objects to interact with it, while keeping the details of its implementation hidden.\n",
    ">   - This is nothing but *Data hiding*\n",
    "\n",
    "> Here’s an example of encapsulation in C#.\n",
    "\n",
    "> Example 1:"
   ]
  },
  {
   "cell_type": "code",
   "execution_count": null,
   "metadata": {
    "dotnet_interactive": {
     "language": "csharp"
    },
    "polyglot_notebook": {
     "kernelName": "csharp"
    },
    "vscode": {
     "languageId": "polyglot-notebook"
    }
   },
   "outputs": [],
   "source": [
    "public class BankAccount\n",
    "{\n",
    "    private decimal balance;\n",
    "     private long accountNumber;\n",
    "    public BankAccount(long accountNumber)\n",
    "    {\n",
    "        this.accountNumber= accountNumber;\n",
    "\n",
    "    }\n",
    "    public void Deposit(decimal amount)\n",
    "    {\n",
    "        balance += amount;\n",
    "    }\n",
    "\n",
    "    public void Withdraw(decimal amount)\n",
    "    {\n",
    "        if (amount > balance)\n",
    "        {\n",
    "            throw new InvalidOperationException(\"Insufficient funds\");\n",
    "        }\n",
    "\n",
    "        balance -= amount;\n",
    "    }\n",
    "\n",
    "    public decimal GetBalance()\n",
    "    {\n",
    "        return balance;\n",
    "    }\n",
    "}"
   ]
  },
  {
   "cell_type": "markdown",
   "metadata": {},
   "source": [
    "> In the above example,\n",
    ">   -  the BankAccount class has a private field called balance and _accountNumber, which is not accessible from outside the class.  \n",
    ">   -  Instead, the class provides a public blue print consisting of three methods:  Deposit, Withdraw and GetBalance.  \n",
    ">   -  These methods allow other objects to interact with the BankAccount object, while keeping the details of its implementation hidden.  \n",
    ">\n",
    ">       -  The Deposit method allows other objects to deposit money into the account    \n",
    ">       - The Withdraw method allows other objects to withdraw money from the account    \n",
    ">       - and the GetBalance method allows other objects to check the current balance of the account.    \n",
    ">       - However, the balance field itself is not accessible from outside the class, ensuring that the internal workings of the BankAccount object remain hidden   "
   ]
  },
  {
   "cell_type": "markdown",
   "metadata": {},
   "source": [
    "> Example 2: "
   ]
  },
  {
   "cell_type": "code",
   "execution_count": null,
   "metadata": {
    "dotnet_interactive": {
     "language": "csharp"
    },
    "polyglot_notebook": {
     "kernelName": "csharp"
    },
    "vscode": {
     "languageId": "polyglot-notebook"
    }
   },
   "outputs": [],
   "source": [
    "public class Person\n",
    "{\n",
    "    private string name;\n",
    "    private int age;\n",
    "\n",
    "    public Person(string name, int age)\n",
    "    {\n",
    "        this.name = name;\n",
    "        this.age = age;\n",
    "    }\n",
    "\n",
    "    public string GetName()\n",
    "    {\n",
    "        return name;\n",
    "    }\n",
    "\n",
    "    public int GetAge()\n",
    "    {\n",
    "        return age;\n",
    "    }\n",
    "}\n"
   ]
  },
  {
   "cell_type": "markdown",
   "metadata": {},
   "source": [
    ">  - In this example, the Person class has two private fields called name and age, which are not accessible from outside the class. \n",
    ">  - Instead, the class provides a public interface consisting of two methods: GetName and GetAge.\n",
    ">  - These methods allow other objects to interact with the Person object, while keeping the details of its implementation hidden.\n",
    ">\n",
    ">  - The GetName method allows other objects to get the name of the person, and the GetAge method allows other objects to get the age of the person.\n",
    ">  - However, the name and age fields themselves are not accessible from outside the class, ensuring that the internal workings of the Person object remain hidden."
   ]
  },
  {
   "cell_type": "markdown",
   "metadata": {},
   "source": [
    "# Continue learning\n",
    "\n",
    "There are plenty more resources out there to learn!\n",
    "\n",
    "> [⏩ Next Module - Abstraction ](3.Abstraction.ipynb)\n",
    ">\n",
    "> [⏪ Last Module - Overview Of OOP](1.OverviewOfOOP.ipynb)\n",
    ">\n",
    "> [Reference- Object-Oriented programming](https://learn.microsoft.com/en-us/dotnet/csharp/fundamentals/tutorials/oop)"
   ]
  }
 ],
 "metadata": {
  "language_info": {
   "name": "python"
  },
  "orig_nbformat": 4
 },
 "nbformat": 4,
 "nbformat_minor": 2
}
