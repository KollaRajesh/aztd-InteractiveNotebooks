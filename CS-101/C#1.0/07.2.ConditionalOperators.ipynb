{
 "cells": [
  {
   "cell_type": "markdown",
   "metadata": {},
   "source": [
    "> ### Conditional Operator:\n",
    ">    Version *C# 1.0*"
   ]
  },
  {
   "cell_type": "markdown",
   "metadata": {},
   "source": [
    ">  Conditional Operator: is used to check condition \n",
    ">\n",
    "> Following are list of Conditional Operators\n",
    ">\n",
    ">  1. **Ternary conditional operator ?:** evaluates a Boolean expression and returns one of the two expressions, depending on whether the Boolean expression evaluates to true or false. \n",
    ">\n",
    ">  2. **The null-coalescing operator ??** returns the left-hand operand if it is not null; otherwise, it returns the right-hand operand.\n",
    ">\n",
    ">  3. **null-coalescing assignment operator ??=** assigns the value of its right-hand operand to its left-hand operand only if the left-hand operand evaluates to null. "
   ]
  },
  {
   "cell_type": "markdown",
   "metadata": {},
   "source": [
    "> Here is the example of *Ternary conditional operator ?:*"
   ]
  },
  {
   "cell_type": "code",
   "execution_count": null,
   "metadata": {
    "dotnet_interactive": {
     "language": "csharp"
    },
    "polyglot_notebook": {
     "kernelName": "csharp"
    },
    "vscode": {
     "languageId": "polyglot-notebook"
    }
   },
   "outputs": [],
   "source": [
    "string GetWeatherDisplay(double tempInCelsius) => tempInCelsius < 20.0 ? \"Cold.\" : \"Perfect!\";\n",
    "Console.WriteLine (GetWeatherDisplay (15)); // output: Cold.\n",
    "Console.WriteLine (GetWeatherDisplay (27)); // output: Perfect!\n"
   ]
  },
  {
   "cell_type": "markdown",
   "metadata": {},
   "source": [
    "> Here is the example of *The null-coalescing operator ??*"
   ]
  },
  {
   "cell_type": "code",
   "execution_count": null,
   "metadata": {
    "dotnet_interactive": {
     "language": "csharp"
    },
    "polyglot_notebook": {
     "kernelName": "csharp"
    },
    "vscode": {
     "languageId": "polyglot-notebook"
    }
   },
   "outputs": [],
   "source": [
    "string GetWeatherDisplay(dynamic tempInCelsius) => tempInCelsius?? \"Unknown\";\n",
    "Console.WriteLine (GetWeatherDisplay(15)); // output: 15\n",
    "Console.WriteLine (GetWeatherDisplay(null)); // output: Unknown\n"
   ]
  },
  {
   "cell_type": "markdown",
   "metadata": {},
   "source": [
    "> Here is the example of *null-coalescing assignment operator ??=*"
   ]
  },
  {
   "cell_type": "code",
   "execution_count": null,
   "metadata": {
    "dotnet_interactive": {
     "language": "csharp"
    },
    "polyglot_notebook": {
     "kernelName": "csharp"
    },
    "vscode": {
     "languageId": "polyglot-notebook"
    }
   },
   "outputs": [],
   "source": [
    "string weatherDisplay = null;\n",
    "weatherDisplay ??= \"Unknown\";\n",
    "Console.WriteLine (weatherDisplay); // output: Unknown\n"
   ]
  },
  {
   "cell_type": "markdown",
   "metadata": {},
   "source": [
    "# Continue learning\n",
    "\n",
    "There are plenty more resources out there to learn!\n",
    "\n",
    "> [⏩ Next Module - Branch if condition](07.3.Braches_if.ipynb)\n",
    ">\n",
    "> [⏪ Last Module - Arthmetic Operators](07.1.ArthmeticOperators.ipynb)\n",
    ">\n",
    "> [Reference-  Conditional Operator ](https://learn.microsoft.com/en-us/dotnet/csharp/language-reference/operators/conditional-operator)"
   ]
  }
 ],
 "metadata": {
  "language_info": {
   "name": "python"
  },
  "orig_nbformat": 4
 },
 "nbformat": 4,
 "nbformat_minor": 2
}
