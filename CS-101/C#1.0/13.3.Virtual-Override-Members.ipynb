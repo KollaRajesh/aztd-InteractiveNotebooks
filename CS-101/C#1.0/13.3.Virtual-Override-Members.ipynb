{
 "cells": [
  {
   "cell_type": "markdown",
   "metadata": {},
   "source": [
    "> ### Virtual and Override \n",
    ">    Version *C# 1.0*"
   ]
  },
  {
   "cell_type": "markdown",
   "metadata": {},
   "source": [
    "> In C#, the `virtual` keyword is used to modify a method, property, indexer, or event declaration and allow for it to be overridden in a derived class.  \n",
    "> When a method is declared as `virtual` in a base class, it allows a derived class to provide its own implementation of the method.  \n",
    "> The implementation of a `virtual` member can be changed by an overriding member in a derived class.  \n",
    ">\n",
    ">\n",
    ">Here are some key features of `virtual` members:  \n",
    ">  - A `virtual` member can be overridden in a derived class.  \n",
    ">  - When a `virtual` method is invoked, the run-time type of the object is checked for an overriding member.  \n",
    ">  - The overriding member in the most derived class is called, which might be the original member, if no derived class has overridden the member.  \n",
    ">  - By default, methods are non-virtual. You cannot override a non-virtual method.   \n",
    ">\n",
    ">  *Note:* we cannot use the `virtual` modifier with the `static`, `abstract`, `private`, or `override` modifiers.  "
   ]
  },
  {
   "cell_type": "markdown",
   "metadata": {},
   "source": [
    "> Here is an example of a `virtual` method in C#:  \n",
    ">\n",
    "> In this example, `Shape` is a class that contains a `virtual` method `Area()`. The `Circle` class derives from `Shape` and provides an implementation for `Area()`.\n"
   ]
  },
  {
   "cell_type": "code",
   "execution_count": null,
   "metadata": {
    "dotnet_interactive": {
     "language": "csharp"
    },
    "polyglot_notebook": {
     "kernelName": "csharp"
    },
    "vscode": {
     "languageId": "polyglot-notebook"
    }
   },
   "outputs": [],
   "source": [
    "class Shape {\n",
    "    public virtual double Area() {\n",
    "        return 0;\n",
    "    }\n",
    "}\n",
    "\n",
    "class Circle : Shape {\n",
    "    private int _radius;\n",
    "    public Circle(int radius) => _radius = radius;\n",
    "    public override double Area() {\n",
    "        return Math.PI * _radius * _radius;\n",
    "    }\n",
    "}\n"
   ]
  },
  {
   "cell_type": "markdown",
   "metadata": {},
   "source": [
    "# Continue learning\n",
    "\n",
    "There are plenty more resources out there to learn!\n",
    "\n",
    "> [⏩ Next Module - Methods and Members](14.Methods_And_Members.ipynb)\n",
    ">\n",
    "> [⏪ Last Module - Abstract Class and members](13.2.Abstract-Class-Members.ipynb)\n",
    ">\n",
    "> [Virtual - C#](https://learn.microsoft.com/en-us/dotnet/csharp/language-reference/keywords/virtual.)"
   ]
  }
 ],
 "metadata": {
  "language_info": {
   "name": "python"
  },
  "orig_nbformat": 4
 },
 "nbformat": 4,
 "nbformat_minor": 2
}
