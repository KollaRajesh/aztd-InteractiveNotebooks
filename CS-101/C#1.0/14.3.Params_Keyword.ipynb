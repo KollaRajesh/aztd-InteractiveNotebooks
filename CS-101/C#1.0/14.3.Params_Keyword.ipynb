{
 "cells": [
  {
   "cell_type": "markdown",
   "metadata": {},
   "source": [
    "> ### Params Parameters:\n",
    ">    Version *C# 1.0*"
   ]
  },
  {
   "cell_type": "markdown",
   "metadata": {},
   "source": [
    "> - *params* keyword: In C#, the params keyword is used to specify a method parameter that can take a variable number of arguments. \n",
    ">\n",
    ">  It is useful when you don’t know the number of arguments that will be passed to the method in advance.\n",
    ">\n",
    "> Here is the example of params"
   ]
  },
  {
   "cell_type": "markdown",
   "metadata": {},
   "source": [
    ">In this example, the Sum method takes a variable number of integer arguments using the params keyword. \n",
    "\n",
    "> We can call the Sum method with two different sets of integer arguments."
   ]
  },
  {
   "cell_type": "code",
   "execution_count": null,
   "metadata": {
    "dotnet_interactive": {
     "language": "csharp"
    },
    "polyglot_notebook": {
     "kernelName": "csharp"
    },
    "vscode": {
     "languageId": "polyglot-notebook"
    }
   },
   "outputs": [],
   "source": [
    "public static int Sum(params int[] numbers) {\n",
    "    int sum = 0;\n",
    "    foreach (int number in numbers) {\n",
    "        sum += number;\n",
    "    }\n",
    "    return sum;\n",
    "}\n",
    "\n",
    "int sum1 = Sum(1, 2, 3);\n",
    "int sum2 = Sum(4, 5, 6, 7, 8);\n",
    "Console.WriteLine($\"Sum1: {sum1}, Sum2: {sum2}\");\n"
   ]
  },
  {
   "cell_type": "markdown",
   "metadata": {},
   "source": [
    ">  Here is the another example of params\n",
    ">\n",
    ">  In this example, the Format method takes a string and a variable number of objects using the params keyword. \n",
    ">\n",
    ">  We can call the Format method with a string and two objects."
   ]
  },
  {
   "cell_type": "code",
   "execution_count": null,
   "metadata": {
    "dotnet_interactive": {
     "language": "csharp"
    },
    "polyglot_notebook": {
     "kernelName": "csharp"
    },
    "vscode": {
     "languageId": "polyglot-notebook"
    }
   },
   "outputs": [],
   "source": [
    "public static string Format(string format, params object[] args) {\n",
    "    return string.Format(format, args);\n",
    "}\n",
    "\n",
    "string message = Format(\"Hello, {0}! Today is {1}.\", \"Alice\", DateTime.Today);\n",
    "Console.WriteLine(message);"
   ]
  },
  {
   "cell_type": "markdown",
   "metadata": {},
   "source": [
    "# Continue learning\n",
    "\n",
    "There are plenty more resources out there to learn!\n",
    "\n",
    "> [⏩ Next Module - Methods and Exceptions](15.Methods_And_Exceptions.ipynb)\n",
    ">\n",
    "> [⏪ Last Module - Ref and Out parameters](14.2.Ref_Out_parameters.ipynb)\n",
    ">\n",
    "> [Reference- method-parameters](https://learn.microsoft.com/en-us/dotnet/csharp/language-reference/keywords/method-parameters)"
   ]
  }
 ],
 "metadata": {
  "language_info": {
   "name": "python"
  },
  "orig_nbformat": 4
 },
 "nbformat": 4,
 "nbformat_minor": 2
}
