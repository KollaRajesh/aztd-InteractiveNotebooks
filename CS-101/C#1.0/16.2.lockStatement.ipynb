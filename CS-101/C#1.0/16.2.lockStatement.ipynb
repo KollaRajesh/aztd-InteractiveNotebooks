{
 "cells": [
  {
   "cell_type": "markdown",
   "metadata": {},
   "source": [
    "> ### lock statement\n",
    ">  *C# 1.0* version"
   ]
  },
  {
   "cell_type": "markdown",
   "metadata": {},
   "source": [
    "> a lock statement is used to synchronize thread access to a shared resource.  \n",
    "> It ensures that only one thread can execute a block of code at a time, while other threads wait for the lock to be released.  \n",
    ">\n",
    ">  The syntax for a lock statement is as follows:  \n",
    ">\n",
    "```csharp\n",
    "    lock (lockObject)\n",
    "    {\n",
    "        // Code to be executed exclusively\n",
    "    }\n",
    "```\n",
    "> Example :\n",
    ">"
   ]
  },
  {
   "cell_type": "code",
   "execution_count": 1,
   "metadata": {
    "dotnet_interactive": {
     "language": "csharp"
    },
    "polyglot_notebook": {
     "kernelName": "csharp"
    },
    "vscode": {
     "languageId": "polyglot-notebook"
    }
   },
   "outputs": [],
   "source": [
    "public class BankAccount\n",
    "{\n",
    "    private decimal balance = 0;\n",
    "    private object balanceLock = new object();\n",
    "\n",
    "    public void Deposit(decimal amount)\n",
    "    {\n",
    "        lock (balanceLock)\n",
    "        {\n",
    "            balance += amount;\n",
    "        }\n",
    "    }\n",
    "\n",
    "    public void Withdraw(decimal amount)\n",
    "    {\n",
    "        lock (balanceLock)\n",
    "        {\n",
    "            if (balance >= amount)\n",
    "            {\n",
    "                balance -= amount;\n",
    "            }\n",
    "            else\n",
    "            {\n",
    "                throw new Exception(\"Insufficient funds\");\n",
    "            }\n",
    "        }\n",
    "    }\n",
    "\n",
    "    public decimal GetBalance()\n",
    "    {\n",
    "        lock (balanceLock)\n",
    "        {\n",
    "            return balance;\n",
    "        }\n",
    "    }\n",
    "}\n",
    "\n",
    "/* In this example, the BankAccount class uses a lock statement to synchronize access to the balance field.\n",
    " The Deposit, Withdraw, and GetBalance methods all use the same balanceLock object to ensure that only one thread can access the balance field at a time.*/\n"
   ]
  },
  {
   "cell_type": "markdown",
   "metadata": {},
   "source": [
    " \n",
    " # Continue learning\n",
    "\n",
    "There are plenty more resources out there to learn!\n",
    "\n",
    "> [⏩ Next Module - Generic Class](../C#2.0/17.Generic_Class.ipynb)\n",
    ">\n",
    "> [⏪ Last Module - ExceptionalHandling ](17.ExceptionalHandling.ipynb)\n",
    ">\n",
    "> [Reference-  lock](https://learn.microsoft.com/en-us/dotnet/csharp/language-reference/statements/lock)\n",
    "\n"
   ]
  }
 ],
 "metadata": {
  "language_info": {
   "name": "python"
  },
  "orig_nbformat": 4
 },
 "nbformat": 4,
 "nbformat_minor": 2
}
