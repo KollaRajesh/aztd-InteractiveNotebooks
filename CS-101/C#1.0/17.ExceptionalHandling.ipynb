{
 "cells": [
  {
   "cell_type": "markdown",
   "metadata": {},
   "source": [
    " > ### Exception Handling:\n",
    ">    Version *C# 1.0*"
   ]
  },
  {
   "cell_type": "markdown",
   "metadata": {},
   "source": [
    "> **Exception handling** is a mechanism in C# that allows you to handle runtime errors gracefully.\n",
    ">\n",
    "> The **try**, **catch**, and **finally** blocks are used to implement exception handling in C#.\n",
    ">\n",
    "> The try block is used to enclose the code that might throw an exception.\n",
    "> If an exception is thrown, the corresponding catch block is executed. \n",
    "> The finally block is used to execute code that must be executed regardless of whether an exception was thrown or not."
   ]
  },
  {
   "cell_type": "markdown",
   "metadata": {},
   "source": [
    ">  Below is the structure of exception handling in C#."
   ]
  },
  {
   "cell_type": "code",
   "execution_count": null,
   "metadata": {
    "dotnet_interactive": {
     "language": "csharp"
    },
    "polyglot_notebook": {
     "kernelName": "csharp"
    },
    "vscode": {
     "languageId": "polyglot-notebook"
    }
   },
   "outputs": [],
   "source": [
    "try\n",
    "{\n",
    "    // Code that might throw an exception goes here.\n",
    "}\n",
    "catch (Exception ex)\n",
    "{\n",
    "    // Code to handle the exception goes here.\n",
    "}\n",
    "finally\n",
    "{\n",
    "    // Code that must be executed regardless of whether an exception was thrown or not goes here.\n",
    "}"
   ]
  },
  {
   "cell_type": "code",
   "execution_count": null,
   "metadata": {
    "dotnet_interactive": {
     "language": "csharp"
    },
    "polyglot_notebook": {
     "kernelName": "csharp"
    },
    "vscode": {
     "languageId": "polyglot-notebook"
    }
   },
   "outputs": [],
   "source": [
    "try  //try block\n",
    "{\n",
    "    var result = Process(3, 1);\n",
    "    Console.WriteLine($\"Processing succeeded: {result}\");\n",
    "}\n",
    "catch (ArgumentException e) //catch block\n",
    "{\n",
    "    Console.WriteLine($\"Processing failed: {e.Message}\");\n",
    "}\n",
    "finally  //final block\n",
    "{\n",
    "    Console.WriteLine(\"Completed.\");\n",
    "}\n",
    "\n",
    "int Process(int x, int y )\n",
    "{\n",
    " if (x==0 ||y==0){ throw new ArgumentException(\"argument should be greater than zero.\");}\n",
    " return x+y;\n",
    "}"
   ]
  },
  {
   "cell_type": "code",
   "execution_count": null,
   "metadata": {
    "dotnet_interactive": {
     "language": "csharp"
    },
    "polyglot_notebook": {
     "kernelName": "csharp"
    },
    "vscode": {
     "languageId": "polyglot-notebook"
    }
   },
   "outputs": [],
   "source": [
    "int shapeAmount= -1;\n",
    "if (shapeAmount <= 0) \n",
    "{\n",
    "    throw new ArgumentOutOfRangeException(nameof(shapeAmount), \"Amount of shapes must be positive.\"); // throw Built-in exception i.e., ArgumentOutOfRangeException\n",
    "}"
   ]
  },
  {
   "cell_type": "markdown",
   "metadata": {},
   "source": [
    "> **Custom Exception** : Custom Exception is derived from exception class to throw custom exception in the application. Exception classhas a constructor that takes a message as a parameter. "
   ]
  },
  {
   "cell_type": "code",
   "execution_count": null,
   "metadata": {
    "dotnet_interactive": {
     "language": "csharp"
    },
    "polyglot_notebook": {
     "kernelName": "csharp"
    },
    "vscode": {
     "languageId": "polyglot-notebook"
    }
   },
   "outputs": [],
   "source": [
    "//Defined Custom Exception\n",
    "class ArgumentNegitiveException : Exception\n",
    "{\n",
    "    public ArgumentNegitiveException(string message) : base(message)\n",
    "    {\n",
    "    }\n",
    "}\n",
    "\n",
    "int Process(int value){\n",
    "    if (value < 0){\n",
    "        throw new ArgumentNegitiveException(\"Value can not be negative.\"); // throwing Custom Exception.\n",
    "    }\n",
    "    return value;\n",
    "} \n",
    "\n",
    "\n",
    " try //Try block\n",
    " {\n",
    "   Process(-5);\n",
    " }\n",
    " catch (ArgumentNegitiveException ex){ //Catch block\n",
    "    Console.WriteLine($\"Processing failed: {ex.Message}\"); //Handling Exception.\n",
    " }\n",
    " finally // Final Block.\n",
    " {\n",
    "    Console.WriteLine($\"Completed.\");\n",
    " }"
   ]
  },
  {
   "cell_type": "markdown",
   "metadata": {},
   "source": [
    "# Continue learning\n",
    "\n",
    "There are plenty more resources out there to learn!\n",
    "\n",
    "> [⏩ Next Module - Generic Class](../C#2.0/17.Generic_Class.ipynb)\n",
    ">\n",
    "> [⏪ Last Module - Struct , Interfact and Class ](16.Struct_interface_Class.ipynb)\n",
    ">\n",
    "> [Reference-  exception handling Statements](https://learn.microsoft.com/en-us/dotnet/csharp/language-reference/statements/exception-handling-statements)\n",
    ">\n",
    "> [Reference-  exception handling ](https://learn.microsoft.com/en-us/dotnet/csharp/fundamentals/exceptions/exception-handling)"
   ]
  }
 ],
 "metadata": {
  "language_info": {
   "name": "python"
  },
  "orig_nbformat": 4
 },
 "nbformat": 4,
 "nbformat_minor": 2
}
