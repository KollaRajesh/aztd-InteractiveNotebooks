{
 "cells": [
  {
   "cell_type": "markdown",
   "metadata": {},
   "source": [
    "### Class\n",
    " Classes are the building blocks of object-oriented programming. They encapsulate data and behavior into a single unit.\n",
    "\n",
    "    *Version - C# 1.0*"
   ]
  },
  {
   "cell_type": "code",
   "execution_count": null,
   "metadata": {
    "dotnet_interactive": {
     "language": "csharp"
    },
    "polyglot_notebook": {
     "kernelName": "csharp"
    },
    "vscode": {
     "languageId": "polyglot-notebook"
    }
   },
   "outputs": [],
   "source": [
    "public class Account\n",
    "{\n",
    "    public string Type { get; set; }\n",
    "    public int Number { get; set; }\n",
    "}\n",
    "Account account =new Account();\n",
    "display(account);\n",
    "account.Type=\"Checking\";\n",
    "display(account);\n",
    "account.Number=123141;\n",
    "display(account);"
   ]
  },
  {
   "cell_type": "markdown",
   "metadata": {},
   "source": [
    "### Struct\n",
    "\n",
    "Structs: Structs are value types and can be used to create objects that behave like built-in types.\n",
    "   \n",
    "    *Version - C# 1.0*"
   ]
  },
  {
   "cell_type": "code",
   "execution_count": null,
   "metadata": {
    "dotnet_interactive": {
     "language": "csharp"
    },
    "polyglot_notebook": {
     "kernelName": "csharp"
    },
    "vscode": {
     "languageId": "polyglot-notebook"
    }
   },
   "outputs": [],
   "source": [
    "public struct Coords  \n",
    "{ \n",
    "    public Coords(double x, double y) \n",
    "    { \n",
    "        X = x;  \n",
    "        Y = y;  \n",
    "    } \n",
    "\n",
    "    public double X { get; } \n",
    "    public double Y { get; } \n",
    "\n",
    "    public override string ToString() => $\" ({X}, {Y})\"; \n",
    "} \n",
    "\n",
    "Coords myCoords = new Coords(1.0, 2.0);\n",
    "display (myCoords);\n",
    "\n",
    "double x = myCoords.X;\n",
    "display($\"x value: {x}\");\n",
    "\n",
    "double y = myCoords.Y;\n",
    "display($\"y value: {y}\");"
   ]
  },
  {
   "cell_type": "markdown",
   "metadata": {},
   "source": [
    "### Another example for Struct\n",
    "\n",
    "    *Version - C# 1.0*"
   ]
  },
  {
   "cell_type": "code",
   "execution_count": null,
   "metadata": {
    "dotnet_interactive": {
     "language": "csharp"
    },
    "polyglot_notebook": {
     "kernelName": "csharp"
    },
    "vscode": {
     "languageId": "polyglot-notebook"
    }
   },
   "outputs": [],
   "source": [
    "public readonly  struct Measurement\n",
    "{\n",
    "    public Measurement(double value)\n",
    "    {\n",
    "        Value = value;\n",
    "    }\n",
    "\n",
    "    public Measurement(double value, string description)\n",
    "    {\n",
    "        Value = value;\n",
    "        Description = description;\n",
    "    }\n",
    "\n",
    "    public Measurement(string description)\n",
    "    {\n",
    "        Description = description;\n",
    "    }\n",
    "\n",
    "    public double Value { get; init; }\n",
    "    public string Description { get; init; } = \"Ordinary measurement\";\n",
    "\n",
    "    public override string ToString() => $\"{Value} ({Description})\";\n",
    "}\n",
    "\n",
    "  var m1 = new Measurement(5);\n",
    "    Console.WriteLine(m1);  // output: 5 (Ordinary measurement)\n",
    "\n",
    "    var m2 = new Measurement();\n",
    "    Console.WriteLine(m2);  // output: 0 ()\n",
    "\n",
    "    var m3 = default(Measurement);\n",
    "    Console.WriteLine(m3);  // output: 0 ()"
   ]
  },
  {
   "cell_type": "markdown",
   "metadata": {},
   "source": [
    "### Interface\n",
    "Interfaces: Interfaces define a contract for classes and structs. They can contain methods, properties, events, and indexers.\n",
    "\n",
    "    *Version - C# 1.0*"
   ]
  },
  {
   "cell_type": "markdown",
   "metadata": {},
   "source": [
    "> *In C#, interfaces and abstract classes are two different concepts that can be used to achieve similar goals.*\n",
    ">\n",
    "> Here are some differences between the two:\n",
    ">\n",
    "> **Implementation**: An interface only contains method signatures, while an abstract class can contain both abstract and non-abstract methods with implementations.    \n",
    "> \n",
    "> **Inheritance**: A class can inherit from multiple interfaces, but can inherit from only one abstract class.  \n",
    "> \n",
    "> **Fields and constructors**: An abstract class can have fields and constructors, while an interface cannot.  \n",
    ">\n",
    "> **Default implementation**: Beginning with C# 8.0, an interface may define a default implementation for members, including properties.  \n",
    ">\n",
    "> **Usage**: Abstract classes are generally used as a building basis for similar classes, while interfaces are generally used to specify an ability for classes, where the classes don’t have to be very similar  "
   ]
  },
  {
   "cell_type": "code",
   "execution_count": null,
   "metadata": {
    "dotnet_interactive": {
     "language": "csharp"
    },
    "polyglot_notebook": {
     "kernelName": "csharp"
    },
    "vscode": {
     "languageId": "polyglot-notebook"
    }
   },
   "outputs": [],
   "source": [
    "interface IPolygon \n",
    "{ \n",
    "    void calculateArea(int l, int b); \n",
    "} \n",
    "\n",
    "class Rectangle : IPolygon \n",
    "{ \n",
    "    public void calculateArea(int l, int b) \n",
    "    { \n",
    "        int area = l * b; \n",
    "        Console.WriteLine(\"Area of Rectangle: \" + area); \n",
    "    } \n",
    "} \n",
    "\n",
    "IPolygon r = new Rectangle(); \n",
    "r.calculateArea(10, 20);"
   ]
  },
  {
   "cell_type": "markdown",
   "metadata": {},
   "source": [
    "### Delegates\n",
    "Delegates are type-safe function pointers. They can reference a method that has the same return type and parameters.  \n",
    "\n",
    "    *Version - C# 1.0*"
   ]
  },
  {
   "cell_type": "code",
   "execution_count": null,
   "metadata": {
    "dotnet_interactive": {
     "language": "csharp"
    },
    "polyglot_notebook": {
     "kernelName": "csharp"
    },
    "vscode": {
     "languageId": "polyglot-notebook"
    }
   },
   "outputs": [],
   "source": [
    "public delegate void Callback(string message);\n",
    " void DisplayMessage(string message){Console.WriteLine(message);}\n",
    "\n",
    " Callback handler = new Callback(DisplayMessage);\n",
    "\n",
    "handler(\"Hello World\");"
   ]
  },
  {
   "cell_type": "markdown",
   "metadata": {},
   "source": [
    "# Continue learning\n",
    "\n",
    "There are plenty more resources out there to learn!\n",
    "> [⏩ Next Module - Exception Handling](17.ExceptionalHandling.ipynb)\n",
    ">\n",
    "> [⏪ Last Module - Methods and Exceptions](15.Methods_And_Exceptions.ipynb)"
   ]
  }
 ],
 "metadata": {
  "language_info": {
   "name": "python"
  },
  "orig_nbformat": 4
 },
 "nbformat": 4,
 "nbformat_minor": 2
}
