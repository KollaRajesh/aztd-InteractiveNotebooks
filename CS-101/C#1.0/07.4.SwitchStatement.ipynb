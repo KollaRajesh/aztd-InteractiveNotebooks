{
 "cells": [
  {
   "cell_type": "markdown",
   "metadata": {},
   "source": [
    "### Switch statement"
   ]
  },
  {
   "cell_type": "markdown",
   "metadata": {},
   "source": [
    ">  - A switch statement in C# is a control statement that allows a value to be tested against a list of possible cases.   \n",
    ">  - It is used to execute one of several blocks of code depending on the value of the expression being tested.  \n",
    ">\n",
    ">  The syntax for a switch statement is as follows:  \n",
    "\n",
    "```csharp\n",
    "    switch (expression)\n",
    "    {\n",
    "        case value1:\n",
    "            // code block\n",
    "            break;\n",
    "        case value2:\n",
    "            // code block\n",
    "            break;\n",
    "        ...\n",
    "        default:\n",
    "            // code block\n",
    "            break;\n",
    "    }\n",
    "  \n",
    " /* Here expression is the value to be tested, and value1, value2, etc. are the possible cases.\n",
    "            If the value of expression matches any of the cases, the corresponding code block is executed.\n",
    "            If none of the cases match, the code block in the default case is executed.\n",
    "*/\n",
    "```"
   ]
  },
  {
   "cell_type": "code",
   "execution_count": null,
   "metadata": {
    "dotnet_interactive": {
     "language": "csharp"
    },
    "polyglot_notebook": {
     "kernelName": "csharp"
    },
    "vscode": {
     "languageId": "polyglot-notebook"
    }
   },
   "outputs": [],
   "source": [
    "int day = 4;\n",
    "string dayString;\n",
    "\n",
    "switch (day)\n",
    "{\n",
    "    case 1:\n",
    "        dayString = \"Monday\";\n",
    "        break;\n",
    "    case 2:\n",
    "        dayString = \"Tuesday\";\n",
    "        break;\n",
    "    case 3:\n",
    "        dayString = \"Wednesday\";\n",
    "        break;\n",
    "    case 4:\n",
    "        dayString = \"Thursday\";\n",
    "        break;\n",
    "    case 5:\n",
    "        dayString = \"Friday\";\n",
    "        break;\n",
    "    case 6:\n",
    "        dayString = \"Saturday\";\n",
    "        break;\n",
    "    case 7:\n",
    "        dayString = \"Sunday\";\n",
    "        break;\n",
    "    default:\n",
    "        dayString = \"Invalid day\";\n",
    "        break;\n",
    "}\n",
    "\n",
    "Console.WriteLine(\"Today is \" + dayString);\n"
   ]
  },
  {
   "cell_type": "markdown",
   "metadata": {},
   "source": [
    "# Continue learning\n",
    "\n",
    "There are plenty more resources out there to learn!\n",
    "> [⏩ Next Module - Goto Statement](07.5.GotoStatement.ipynb)\n",
    ">\n",
    "> [⏪ Last Module - Braches_if](07.3.Braches_if.ipynb)\n",
    ">\n",
    "> [Documentation: Pattern matching](https://learn.microsoft.com/en-us/archive/msdn-magazine/2019/may/csharp-8-0-pattern-matching-in-csharp-8-0)"
   ]
  }
 ],
 "metadata": {
  "language_info": {
   "name": "python"
  },
  "orig_nbformat": 4
 },
 "nbformat": 4,
 "nbformat_minor": 2
}
