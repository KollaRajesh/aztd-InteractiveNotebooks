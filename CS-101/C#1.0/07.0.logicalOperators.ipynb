{
 "cells": [
  {
   "cell_type": "markdown",
   "metadata": {},
   "source": [
    "> ### Logical Operator:\n",
    ">    Version *C# 1.0*"
   ]
  },
  {
   "cell_type": "markdown",
   "metadata": {},
   "source": [
    "> C# provides several logical operators that can be used to perform logical operations with boolean operands.\n",
    ">   Logical Operators are \n",
    ">    1. *Logical Not Operator* (**!**)  - The logical NOT operator returns the opposite of the boolean value of its operand.\n",
    ">    2. *Logical AND Operator* (**&&**) - The logical AND operator returns true if both of its operands are true. Otherwise, it returns false.\n",
    ">    3. *Logical OR Operator* (**||**)  - The logical OR operator returns true if at least one of its operands is true. Otherwise, it returns false.\n",
    ">\n",
    "> Here are the> logical operators in C# and an example for each operator:"
   ]
  },
  {
   "cell_type": "code",
   "execution_count": null,
   "metadata": {
    "dotnet_interactive": {
     "language": "csharp"
    },
    "polyglot_notebook": {
     "kernelName": "csharp"
    },
    "vscode": {
     "languageId": "polyglot-notebook"
    }
   },
   "outputs": [],
   "source": [
    "bool a = true;\n",
    "bool b = !a;\n",
    "Console.WriteLine(b); // Output: false\n",
    "\n",
    "\n",
    "bool x = true;\n",
    "bool y = false;\n",
    "bool z = x && y;\n",
    "Console.WriteLine(z); // Output: false\n",
    "\n",
    "\n",
    "bool p = true;\n",
    "bool q = false;\n",
    "bool r = p || q;\n",
    "Console.WriteLine(r); // Output: true\n"
   ]
  },
  {
   "cell_type": "markdown",
   "metadata": {},
   "source": [
    "# Continue learning\n",
    "\n",
    "There are plenty more resources out there to learn!\n",
    "\n",
    "> [⏩ Next Module - Arthmetic Operators](07.1.ArthmeticOperators.ipynb)\n",
    ">\n",
    "> [⏪ Last Module - Numbers and Decimals](06.NumbersAndDecimals.ipynb)\n",
    ">\n",
    "> [Reference-  Logical Operator ](https://learn.microsoft.com/en-us/dotnet/csharp/language-reference/operators/boolean-logical-operators)"
   ]
  }
 ],
 "metadata": {
  "language_info": {
   "name": "python"
  },
  "orig_nbformat": 4
 },
 "nbformat": 4,
 "nbformat_minor": 2
}
