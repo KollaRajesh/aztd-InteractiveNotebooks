{
 "cells": [
  {
   "cell_type": "markdown",
   "metadata": {},
   "source": [
    "> ### Ref and Out Parameters:\n",
    ">    Version *C# 1.0*"
   ]
  },
  {
   "cell_type": "markdown",
   "metadata": {},
   "source": [
    "> **ref** Parameter: The *ref* keyword is used to pass an argument to a method by reference.    \n",
    ">\n",
    "> When you use the *ref* keyword, must initialize the variable before passing it to the method.\n",
    ">\n",
    ">\n",
    "> Here is the example of *ref* key word"
   ]
  },
  {
   "cell_type": "markdown",
   "metadata": {},
   "source": [
    "> In this example, the Swap method takes two integer arguments by reference using the ref keyword.\n",
    ">\n",
    "> initializes two integer variables and passes them to the Swap method by reference using the ref keyword. \n",
    ">\n",
    "> The Swap method swaps the values of the two variables."
   ]
  },
  {
   "cell_type": "code",
   "execution_count": null,
   "metadata": {
    "dotnet_interactive": {
     "language": "csharp"
    },
    "polyglot_notebook": {
     "kernelName": "csharp"
    },
    "vscode": {
     "languageId": "polyglot-notebook"
    }
   },
   "outputs": [],
   "source": [
    "public static void Swap(ref int x, ref int y) {\n",
    "    int temp = x;\n",
    "    x = y;\n",
    "    y = temp;\n",
    "}\n",
    "\n",
    "int a = 10;\n",
    "int b = 20;\n",
    "Console.WriteLine($\"Before swap: a = {a}, b = {b}\");\n",
    "Swap(ref a, ref b);\n",
    "Console.WriteLine($\"After swap: a = {a}, b = {b}\");"
   ]
  },
  {
   "cell_type": "markdown",
   "metadata": {},
   "source": [
    "> **out** Parameter:The *out* keyword is used to pass an argument to a method by reference and  initialize it inside the method. \n",
    ">\n",
    "> When  use the out keyword, don’t need to initialize the variable before passing it to the method.\n",
    ">\n",
    "> Here is the example of *out* key word"
   ]
  },
  {
   "cell_type": "markdown",
   "metadata": {},
   "source": [
    "> In this example, the TryParse method takes a string argument and an integer argument by reference using the out keyword. \n",
    ">\n",
    ">The TryParse method initializes the integer argument inside the method and returns a boolean indicating whether the string could be parsed as an integer.\n",
    ">\n",
    "> Calls the TryParse method and prints the result to the console."
   ]
  },
  {
   "cell_type": "code",
   "execution_count": null,
   "metadata": {
    "dotnet_interactive": {
     "language": "csharp"
    },
    "polyglot_notebook": {
     "kernelName": "csharp"
    },
    "vscode": {
     "languageId": "polyglot-notebook"
    }
   },
   "outputs": [],
   "source": [
    "public static bool TryParse(string s, out int result) {\n",
    "    result = 0;\n",
    "    foreach (char c in s) {\n",
    "        if (char.IsDigit(c)) {\n",
    "            result = result * 10 + (c - '0');\n",
    "        } else {\n",
    "            return false;\n",
    "        }\n",
    "    }\n",
    "    return true;\n",
    "}\n",
    "\n",
    "string s = \"1234\";\n",
    "if (TryParse(s, out int result)) {\n",
    "    Console.WriteLine($\"Parsed value: {result}\");\n",
    "} else {\n",
    "    Console.WriteLine(\"Could not parse value.\");\n",
    "}"
   ]
  },
  {
   "cell_type": "markdown",
   "metadata": {},
   "source": [
    "# Continue learning\n",
    "\n",
    "There are plenty more resources out there to learn!\n",
    "\n",
    "> [⏩ Next Module - Params Keyword](14.3.Params_Keyword.ipynb)\n",
    ">\n",
    "> [⏪ Last Module - Funcation Overloading](14.1.FunctionOverloading.ipynb)\n",
    ">\n",
    "> [Reference- ref-vs-out-in-csharp](https://dotnettutorials.net/lesson/ref-vs-out-in-csharp/)"
   ]
  },
  {
   "cell_type": "markdown",
   "metadata": {},
   "source": []
  }
 ],
 "metadata": {
  "language_info": {
   "name": "python"
  },
  "orig_nbformat": 4
 },
 "nbformat": 4,
 "nbformat_minor": 2
}
