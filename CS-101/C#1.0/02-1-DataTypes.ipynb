{
 "cells": [
  {
   "cell_type": "markdown",
   "metadata": {},
   "source": [
    "> ### Data Types in C#\n",
    ">    Version *C# 1.0*\n",
    ">\n",
    "> C# has two main categories of data types: **value types** and **reference types**. "
   ]
  },
  {
   "cell_type": "markdown",
   "metadata": {},
   "source": [
    ">\n",
    "> **Value types** are simple types that store data directly, such as integers, floating-point numbers, and characters. They are stored on the stack and are passed by \n",
    ">\n",
    "> Here are some examples of value types in C#:\n",
    ">\n",
    "> - `bool`: Represents a Boolean value of true or false.\n",
    ">\n",
    "> - `char`: Represents a single Unicode character.\n",
    "> - `byte`: Represents an 8-bit unsigned integer.  The minimum value is 0 and the maximum value is 255.\n",
    "> - `sbyte`: Represents an 8-bit signed integer.   The minimum value is -128 and the maximum value is 127.\n",
    "> - `short`: Represents a 16-bit signed integer.  The minimum value is -32768 and the maximum value is 32767.\n",
    "> - `ushort`: Represents a 16-bit unsigned integer. The minimum value is 0 and the maximum value is 65535\n",
    "> - `int`: Represents a 32-bit signed integer. The minimum value is -2147483648 and the maximum value is 21474836475.\n",
    "> - `uint`: Represents a 32-bit unsigned integer. The maximum value is 42949672956.\n",
    "> - `long`: Represents a 64-bit signed integer.  The minimum value is -9223372036854775808 and the maximum value is 92233720368547758077.\n",
    "> - `ulong`: Represents a 64-bit unsigned integer. The maximum value is 184467440737095516156.\n",
    "> - `decimal`: Represents a decimal value with 28-29 significant digit.  \n",
    ">       The minimum value is -79228162514264337593543950335 and the maximum value is 792281625142643375935439503353.\n",
    "> - `double`: Represents a double-precision floating-point number.  \n",
    ">      The minimum value is -1.7976931348623157E+308 and the maximum value is 1.7976931348623157E+308\n",
    "> - `float`: Represents a single-precision floating-point number. The minimum value is 1.4E-45 and the maximum value is 3.4028235E384.\n",
    ">\n",
    ">\n",
    "> Here is an example of how to declare and initialize variables of different data types in C#:"
   ]
  },
  {
   "cell_type": "code",
   "execution_count": null,
   "metadata": {
    "dotnet_interactive": {
     "language": "csharp"
    },
    "polyglot_notebook": {
     "kernelName": "csharp"
    },
    "vscode": {
     "languageId": "polyglot-notebook"
    }
   },
   "outputs": [],
   "source": [
    "bool myBool = true;\n",
    "Console.WriteLine($\"value of {nameof(myBool)} is {myBool}\");\n",
    "\n",
    "char myChar = 'A';\n",
    "Console.WriteLine($\"value of {nameof(myChar)} is {myChar}\");\n",
    "\n",
    "byte myByte = 255;\n",
    "Console.WriteLine($\"value of {nameof(myByte)} is {myByte}\");\n",
    "\n",
    "sbyte mySByte = -128;\n",
    "Console.WriteLine($\"value of  {nameof(mySByte)} is {mySByte}\");\n",
    "\n",
    "short myShort = 123;\n",
    "Console.WriteLine($\"value of {nameof(myShort)} is {myShort}\");\n",
    "\n",
    "ushort myUShort = 123;\n",
    "Console.WriteLine($\"value of {nameof(myUShort)} is {myUShort}\");\n",
    "\n",
    "int myInt = 123;\n",
    "Console.WriteLine($\"value of {nameof(myInt)} is {myInt}\");\n",
    "\n",
    "uint myUInt = 123;\n",
    "Console.WriteLine($\"value of {nameof(myUInt)} is {myUInt}\");\n",
    "\n",
    "long myLong = 123;\n",
    "Console.WriteLine($\"value of {nameof(myLong)} is {myLong}\");\n",
    "\n",
    "ulong myULong = 123;\n",
    "Console.WriteLine($\"value of {nameof(myULong)} is {myULong}\");\n",
    "\n",
    "double myDouble = 123.45;\n",
    "Console.WriteLine($\"value of {nameof(myDouble)} is {myDouble}\");\n",
    "\n",
    "float myFloat = 123.45f;\n",
    "Console.WriteLine($\"value of {nameof(myFloat)} is {myFloat}\");\n",
    "\n",
    "decimal myDecimal = 123.45m;\n",
    "Console.WriteLine($\"value of {nameof(myDecimal)} is {myDecimal}\");\n"
   ]
  },
  {
   "cell_type": "markdown",
   "metadata": {},
   "source": [
    "> **Reference types** store a reference to the memory location where the data is stored, rather than the data itself. \n",
    "> They are stored on the heap and are passed by reference . \n",
    ">\n",
    "> - `object`: Represents any type of object.\n",
    "> - `string`: Represents a sequence of Unicode characters.\n",
    "> - `dynamic`: Represents an object whose type is not known until runtime.\n",
    "> \n",
    ">  Here are some examples of reference types in C#:"
   ]
  },
  {
   "cell_type": "code",
   "execution_count": null,
   "metadata": {
    "dotnet_interactive": {
     "language": "csharp"
    },
    "polyglot_notebook": {
     "kernelName": "csharp"
    },
    "vscode": {
     "languageId": "polyglot-notebook"
    }
   },
   "outputs": [],
   "source": [
    "object myObject = new object();\n",
    "myObject=1;\n",
    "Console.WriteLine($\"value of {nameof(myObject)} is {myObject}\");\n",
    "Console.WriteLine($\"Type  of {nameof(myObject)} is {myObject.GetType()}\");\n",
    "\n",
    "myObject=\"adfs\";\n",
    "Console.WriteLine($\"value of {nameof(myObject)} is {myObject}\");\n",
    "Console.WriteLine($\"Type  of {nameof(myObject)} is {myObject.GetType()}\");\n",
    "Console.WriteLine();\n",
    "\n",
    "string myString = \"Hello, world!\";\n",
    "Console.WriteLine($\"value of {nameof(myString)} is {myString}\");\n",
    "Console.WriteLine($\"Type  of {nameof(myString)} is {myString.GetType()}\");\n",
    "Console.WriteLine();\n",
    "\n",
    "dynamic myDynamic = 123.45;\n",
    "Console.WriteLine($\"value of {nameof(myDynamic)} is {myDynamic}\");\n",
    "Console.WriteLine($\"Type  of {nameof(myDynamic)} is {myDynamic.GetType()}\");\n",
    "\n",
    "myDynamic = \"123.45\";\n",
    "Console.WriteLine($\"value of {nameof(myDynamic)} is {myDynamic}\");\n",
    "Console.WriteLine($\"Type  of {nameof(myDynamic)} is {myDynamic.GetType()}\");\n",
    "Console.WriteLine();\n"
   ]
  },
  {
   "cell_type": "markdown",
   "metadata": {},
   "source": [
    "> Data types in programming languages have their own strengths and limitations. Here are some limitations of data types in C#:\n",
    ">\n",
    "> - **Limited range**: Some data types have a limited range of values that they can represent.\n",
    "> For example, the `byte` data type can only represent values from 0 to 255.\n",
    ">\n",
    "> - **Limited precision**: Some data types have a limited precision, which can lead to rounding errors when performing calculations.\n",
    ">    For example, the `float` data type has a precision of 7 digits.\n",
    ">\n",
    "> - **Memory limitations**: Some data types require more memory than others to store the same amount of data.\n",
    ">  For example, the `decimal` data type requires 16 bytes of memory to store a single value, while the `int` data type requires only 4 bytes.\n",
    ">\n",
    ">- **Performance limitations**: Some data types can be slower to perform calculations with than others. \n",
    ">   For example, the `decimal` data type is slower to perform calculations with than the `float` or `double` data types.\n",
    "\n"
   ]
  },
  {
   "cell_type": "markdown",
   "metadata": {},
   "source": [
    "# Continue learning\n",
    "\n",
    "There are plenty more resources out there to learn!\n",
    "\n",
    "> [⏩ Next Module -Variable and access Modifiers ](02-2-Variables-Access-Modifiers.ipynb)\n",
    ">\n",
    "> [⏪ Last Module - Hello World](01-HelloWorld.ipynb)\n",
    ">\n",
    ">[Microsoft Learn: Built-in types](https://learn.microsoft.com/en-us/dotnet/csharp/language-reference/builtin-types/built-in-types)     \n",
    "> [Value : Value Types](https://learn.microsoft.com/en-us/dotnet/csharp/language-reference/builtin-types/value-types)   \n",
    "> [Reference : Reference Types](https://learn.microsoft.com/en-us/dotnet/csharp/language-reference/keywords/reference-types)  \n",
    "> [Reference :  Integral Numeric types](https://learn.microsoft.com/en-us/dotnet/csharp/language-reference/builtin-types/integral-numeric-types)  \n",
    "> [Reference : Interger Limits](https://learn.microsoft.com/en-us/cpp/cpp/integer-limits?view=msvc-170)"
   ]
  }
 ],
 "metadata": {
  "language_info": {
   "name": "python"
  },
  "orig_nbformat": 4
 },
 "nbformat": 4,
 "nbformat_minor": 2
}
