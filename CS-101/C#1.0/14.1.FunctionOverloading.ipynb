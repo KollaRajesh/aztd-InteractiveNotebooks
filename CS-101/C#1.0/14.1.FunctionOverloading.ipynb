{
 "cells": [
  {
   "cell_type": "markdown",
   "metadata": {},
   "source": [
    " > ### Function\\Method Overloading:\n",
    ">    Version *C# 1.0*"
   ]
  },
  {
   "cell_type": "markdown",
   "metadata": {},
   "source": [
    "> **Function\\method overloading** is a feature in C# that allows you to define multiple methods with the same name in a class.   \n",
    ">\n",
    ">   -  The methods must have different signatures, which means that they must have different parameter types, numbers, or order.    \n",
    ">   -  Function overloading is useful when you want to perform similar operations on different types of data.      \n",
    ">   -  Function overloading can be used to make your code more readable and maintainable.   \n",
    ">   -  It allows you to use the same method name for similar operations on different types of data, which can make your code easier to understand. "
   ]
  },
  {
   "cell_type": "markdown",
   "metadata": {},
   "source": [
    "> Here is the example of function overloading   \n",
    ">  \n",
    ">   In the this example, the Calculator class has two Add methods with different signatures.   \n",
    ">   One method takes two integers as parameters, and the other takes two doubles. Both methods perform addition, but on different types of data."
   ]
  },
  {
   "cell_type": "code",
   "execution_count": null,
   "metadata": {
    "dotnet_interactive": {
     "language": "csharp"
    },
    "polyglot_notebook": {
     "kernelName": "csharp"
    },
    "vscode": {
     "languageId": "polyglot-notebook"
    }
   },
   "outputs": [],
   "source": [
    "class Calculator\n",
    "{\n",
    "    public int Add(int a, int b)\n",
    "    {\n",
    "        return a + b;\n",
    "    }\n",
    "\n",
    "    public double Add(double a, double b)\n",
    "    {\n",
    "        return a + b;\n",
    "    }\n",
    "}\n",
    "Calculator calc = new Calculator();\n",
    "int sum1= calc.Add(1,2);\n",
    "Console.WriteLine(sum1);\n",
    "double  sum2= calc.Add(1.0,2.2);\n",
    "Console.WriteLine(sum2);"
   ]
  },
  {
   "cell_type": "markdown",
   "metadata": {},
   "source": [
    "> Here is the another example of function overloading   \n",
    ">\n",
    ">  In the this example, the Shape class has two GetArea methods with different signatures.\n",
    ">  One method takes a radius as a parameter and calculates the area of a circle, while the other takes the length and width of a rectangle and calculates its area."
   ]
  },
  {
   "cell_type": "code",
   "execution_count": null,
   "metadata": {
    "dotnet_interactive": {
     "language": "csharp"
    },
    "polyglot_notebook": {
     "kernelName": "csharp"
    },
    "vscode": {
     "languageId": "polyglot-notebook"
    }
   },
   "outputs": [],
   "source": [
    "class Shape\n",
    "{\n",
    "    public double GetArea(double radius)\n",
    "    {\n",
    "        return Math.PI * radius * radius;\n",
    "    }\n",
    "\n",
    "    public double GetArea(double length, double width)\n",
    "    {\n",
    "        return length * width;\n",
    "    }\n",
    "}\n",
    "\n",
    "\n",
    "Shape shape = new Shape();\n",
    "double areaOfCircle= shape.GetArea(1.4);\n",
    "Console.WriteLine(\"Area of Circle \"+Math.Round(areaOfCircle,2));\n",
    "double areaOfSQuare= shape.GetArea(4.5,1.5);\n",
    "Console.WriteLine(\"Area of Square\"+areaOfSQuare);"
   ]
  },
  {
   "cell_type": "markdown",
   "metadata": {},
   "source": [
    "# Continue learning\n",
    "\n",
    "There are plenty more resources out there to learn!\n",
    "\n",
    "> [⏩ Next Module - Methods and Exceptions](15.Methods_And_Exceptions.ipynb)\n",
    ">\n",
    "> [⏪ Last Module - Methods and Members](14.0.Methods_And_Members.ipynb)\n",
    ">\n",
    "> [Reference-  Conditional Operator ](https://learn.microsoft.com/en-us/dotnet/csharp/language-reference/operators/conditional-operator)"
   ]
  }
 ],
 "metadata": {
  "language_info": {
   "name": "python"
  },
  "orig_nbformat": 4
 },
 "nbformat": 4,
 "nbformat_minor": 2
}
