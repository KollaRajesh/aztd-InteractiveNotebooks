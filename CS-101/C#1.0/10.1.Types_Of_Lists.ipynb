{
 "cells": [
  {
   "cell_type": "code",
   "execution_count": null,
   "metadata": {
    "dotnet_interactive": {
     "language": "csharp"
    },
    "polyglot_notebook": {
     "kernelName": "csharp"
    },
    "vscode": {
     "languageId": "polyglot-notebook"
    }
   },
   "outputs": [],
   "source": [
    "> ### Types of Lists in C#\n",
    ">    Version *C# 1.0*\n",
    ">\n",
    "> C# has two main categories of data types: **value types** and **reference types**. "
   ]
  },
  {
   "cell_type": "markdown",
   "metadata": {},
   "source": [
    "> In C#, There are several data structures that you can use to store and manipulate collections of data. Here are some of the most commonly used ones:\n",
    ">\n",
    ">  1. **Array**: A fixed-size collection of elements of the same type.\n",
    ">      -  You can access elements by their index, but you cannot add or remove elements once the array is created.\n",
    ">  2. **ArrayList**: A dynamic collection of elements of any type.\n",
    ">      -  You can add or remove elements at any time, but you must cast elements to their original type when you retrieve them.\n",
    ">  3. **List**: A generic version of ArrayList that allows you to specify the type of elements it contains.\n",
    ">      -  You can add or remove elements at any time, and you do not need to cast elements when you retrieve them.\n",
    "> 4. **LinkedList**: A collection of elements that are linked together in a chain.\n",
    ">      -  You can add or remove elements at any time, and you can access elements by their index or by traversing the chain.\n",
    "> 5. **Queue**: A collection of elements that supports adding elements to the end and removing elements from the beginning.   \n",
    ">      - It follows the First-In-First-Out (FIFO) principle. \n",
    "> 6. **Stack**: A collection of elements that supports adding elements to the top and removing elements from the top.       \n",
    ">      - It follows the Last-In-First-Out (LIFO) principle.  \n",
    "> 7. **Dictionary**: A collection of key-value pairs.  \n",
    ">    -  You can add or remove elements at any time, and you can access elements by their key.   \n",
    "> 8. **SortedList**: A collection of key-value pairs that are sorted by their keys.   \n",
    ">    -  You can add or remove elements at any time, and you can access elements by their key.    \n",
    "> 9. **SortedDictionary**: A generic version of SortedList that allows you to specify the type of keys and values it contains.  \n",
    ">\n",
    "> Each data structure has its own strengths and weaknesses, and the best one to use depends on the specific requirements of your application.    \n"
   ]
  },
  {
   "cell_type": "markdown",
   "metadata": {},
   "source": [
    "> #### Here are some examples of how to use the data structures you mentioned in C#:"
   ]
  },
  {
   "cell_type": "markdown",
   "metadata": {},
   "source": [
    "> ##### 1. **Array**: \n",
    "> An array is a fixed-size collection of elements of the same type. Here's an example of how to create an array of integers:\n",
    ">\n",
    "```csharp\n",
    "int[] numbers = new int[5];\n",
    "```"
   ]
  },
  {
   "cell_type": "code",
   "execution_count": null,
   "metadata": {
    "dotnet_interactive": {
     "language": "csharp"
    },
    "polyglot_notebook": {
     "kernelName": "csharp"
    },
    "vscode": {
     "languageId": "polyglot-notebook"
    }
   },
   "outputs": [],
   "source": [
    "int[] numbers = new int[5];\n",
    "numbers[0]=1;\n",
    "numbers[2]=2;\n",
    "numbers.Display();\n",
    "for(int i=0; i<5 ;i++)\n",
    "{\n",
    "    numbers[i]=i+2;\n",
    "}\n",
    "\n",
    "numbers.Display();"
   ]
  },
  {
   "cell_type": "markdown",
   "metadata": {},
   "source": [
    "> ##### 2. **ArrayList**: \n",
    "> An ArrayList is a dynamic collection of elements of any type.\n",
    ">\n",
    "> Here's an example of how to create an ArrayList of strings:"
   ]
  },
  {
   "cell_type": "code",
   "execution_count": null,
   "metadata": {
    "dotnet_interactive": {
     "language": "csharp"
    },
    "polyglot_notebook": {
     "kernelName": "csharp"
    },
    "vscode": {
     "languageId": "polyglot-notebook"
    }
   },
   "outputs": [],
   "source": [
    "ArrayList list = new ArrayList();\n",
    "list.Add(\"apple\");\n",
    "list.Add(\"banana\");\n",
    "list.Add(\"cherry\");\n",
    "list.Display();\n",
    "\n",
    "list.Add(123);\n",
    "list.Display();"
   ]
  },
  {
   "cell_type": "markdown",
   "metadata": {},
   "source": [
    "> ##### 3. **List**: \n",
    "> A List is a generic version of ArrayList that allows you to specify the type of elements it contains. \n",
    ">\n",
    "> Here's an example of how to create a List of integers and List of strings:"
   ]
  },
  {
   "cell_type": "code",
   "execution_count": null,
   "metadata": {
    "dotnet_interactive": {
     "language": "csharp"
    },
    "polyglot_notebook": {
     "kernelName": "csharp"
    },
    "vscode": {
     "languageId": "polyglot-notebook"
    }
   },
   "outputs": [],
   "source": [
    "List<int> numbers = new List<int>();\n",
    "numbers.Add(1);\n",
    "numbers.Add(2);\n",
    "numbers.Add(3);\n",
    "numbers.Display();\n",
    "\n",
    "foreach(int number in numbers)\n",
    "{\n",
    "   Console.WriteLine(number);\n",
    "}\n",
    "\n",
    "List<string> Names = new List<string>(){\"Scott\",\"Naren\",\"Kate\"};\n",
    "foreach(string name in Names)\n",
    "{\n",
    "   Console.WriteLine(name);\n",
    "}"
   ]
  },
  {
   "cell_type": "markdown",
   "metadata": {},
   "source": [
    "> ##### 4. **LinkedList**: \n",
    "> A LinkedList is a collection of elements that are linked together in a chain. \n",
    ">\n",
    "> Here's an example of how to create a LinkedList of strings:"
   ]
  },
  {
   "cell_type": "code",
   "execution_count": null,
   "metadata": {
    "dotnet_interactive": {
     "language": "csharp"
    },
    "polyglot_notebook": {
     "kernelName": "csharp"
    },
    "vscode": {
     "languageId": "polyglot-notebook"
    }
   },
   "outputs": [],
   "source": [
    "\n",
    "LinkedList<string> list = new LinkedList<string>();\n",
    "list.Clear();\n",
    "list.AddLast(\"apple\");\n",
    "list.AddLast(\"banana\");\n",
    "list.AddLast(\"cherry\");\n",
    "list.AddFirst(\"first\");\n",
    "\n",
    "list.Display();\n",
    "list.First().Display();\n",
    "list.RemoveFirst();\n",
    "list.First().Display();"
   ]
  },
  {
   "cell_type": "markdown",
   "metadata": {},
   "source": [
    "> ##### 5. **Queue**: \n",
    "> A Queue is a collection of elements that supports adding elements to the end and removing elements from the beginning.\n",
    ">\n",
    ">  Here's an example of how to create a Queue of integers:"
   ]
  },
  {
   "cell_type": "code",
   "execution_count": null,
   "metadata": {
    "dotnet_interactive": {
     "language": "csharp"
    },
    "polyglot_notebook": {
     "kernelName": "csharp"
    },
    "vscode": {
     "languageId": "polyglot-notebook"
    }
   },
   "outputs": [],
   "source": [
    "Queue<int> queue = new Queue<int>();\n",
    "queue.Enqueue(1);\n",
    "queue.Enqueue(2);\n",
    "queue.Enqueue(3);\n",
    "queue.Display();\n",
    "\n",
    "$\"{queue.Dequeue()} is removed from queue and remaining elements in queue is \".Display();\n",
    "queue.Display();\n",
    "\n",
    "$\"{queue.Dequeue()} is removed from queue and remaining elements in queue is \".Display();\n",
    "queue.Display();\n",
    "\n",
    "$\"{queue.Dequeue()} is removed from queue and remaining elements in queue is \".Display();\n",
    "queue.Display();"
   ]
  },
  {
   "cell_type": "markdown",
   "metadata": {},
   "source": [
    "> ##### 6. **Stack**:\n",
    "> A Stack is a collection of elements that supports adding elements to the top and removing elements from the top.\n",
    ">\n",
    "> Here's an example of how to create a Stack of strings:"
   ]
  },
  {
   "cell_type": "code",
   "execution_count": null,
   "metadata": {
    "dotnet_interactive": {
     "language": "csharp"
    },
    "polyglot_notebook": {
     "kernelName": "csharp"
    },
    "vscode": {
     "languageId": "polyglot-notebook"
    }
   },
   "outputs": [],
   "source": [
    "Stack<string> stack = new Stack<string>();\n",
    "stack.Push(\"apple\");\n",
    "stack.Push(\"banana\");\n",
    "stack.Push(\"cherry\");\n",
    "\n",
    "stack.Display();\n",
    " \n",
    "$\"{stack.Pop()} is removed from stack and remaining elements in stack are \".Display();\n",
    "stack.Display();\n",
    "\n",
    "$\"{stack.Pop()} is removed from stack and remaining stack are \".Display();\n",
    "stack.Display();\n",
    "\n",
    "$\"{stack.Pop()} is removed from stack and remaining stack are \".Display();\n",
    "stack.Display();"
   ]
  },
  {
   "cell_type": "markdown",
   "metadata": {},
   "source": [
    "> ##### 7. HashTable: \n",
    ">A non-generic collection that stores key-value pairs. \n",
    ">\n",
    ">It optimizes lookups by computing the hash code of each key and stores it in a different bucket internally and then matches the hash code of the specified key at the time of accessing values .\n",
    ">\n",
    ">Here is an example of how to create and use a `Hashtable` in C#:"
   ]
  },
  {
   "cell_type": "code",
   "execution_count": null,
   "metadata": {
    "dotnet_interactive": {
     "language": "csharp"
    },
    "polyglot_notebook": {
     "kernelName": "csharp"
    },
    "vscode": {
     "languageId": "polyglot-notebook"
    }
   },
   "outputs": [],
   "source": [
    "using System;\n",
    "using System.Collections;\n",
    "\n",
    "\n",
    "        // Create a new Hashtable.\n",
    "        Hashtable hashtable = new Hashtable();\n",
    "\n",
    "        // Add some key-value pairs to the Hashtable.\n",
    "        hashtable.Add(\"apple\", 1);\n",
    "        hashtable.Add(\"banana\", 2);\n",
    "        hashtable.Add(\"cherry\", 3);\n",
    "    \n",
    "        hashtable.Display();\n",
    "        // Access the value associated with a key.\n",
    "        int value = (int)hashtable[\"banana\"];\n",
    "        \n",
    "        // Update the value associated with a key.\n",
    "        hashtable[\"banana\"] = 4;\n",
    "   \n",
    "        hashtable.Display();\n",
    "\n",
    "        // Remove a key-value pair from the Hashtable.\n",
    "        hashtable.Remove(\"cherry\");\n",
    "\n",
    "        // Iterate over the key-value pairs in the Hashtable.\n",
    "        foreach (DictionaryEntry entry in hashtable)\n",
    "        {\n",
    "            Console.WriteLine(\"{0}: {1}\", entry.Key, entry.Value);\n",
    "        }\n"
   ]
  },
  {
   "cell_type": "markdown",
   "metadata": {},
   "source": [
    "> ##### 7. **Dictionary**:\n",
    "> A Stack is a collection of elements that supports adding elements to the top and removing elements from the top.\n",
    ">\n",
    ">\n",
    ">   -  *KeyValuePair<TKey, TValue>* is a struct in C# that represents a key-value pair. \n",
    ">   -  It is used to store a single key-value pair in a collection such as a Dictionary<TKey, TValue>.\n",
    ">   -  The TKey and TValue parameters specify the types of the key and value, respectively.\n",
    ">\n",
    "> Here's an example of how to create a Stack of strings:"
   ]
  },
  {
   "cell_type": "code",
   "execution_count": null,
   "metadata": {
    "dotnet_interactive": {
     "language": "csharp"
    },
    "polyglot_notebook": {
     "kernelName": "csharp"
    },
    "vscode": {
     "languageId": "polyglot-notebook"
    }
   },
   "outputs": [],
   "source": [
    "using System.Collections.Generic;\n",
    "Dictionary<string, string> dict = new Dictionary<string, string>();\n",
    "    dict.Add(\"apple\", \"red\");\n",
    "    dict.Add(\"banana\", \"yellow\");\n",
    "    dict.Add(\"cherry\", \"red\");\n",
    "\n",
    "KeyValuePair<string, string> grapePair = new KeyValuePair<string, string>(\"Grape\",\"green\" );\n",
    "dict.Add(grapePair.Key,grapePair.Value);\n",
    "\n",
    "dict.Display();\n",
    "\n",
    "// Access the value associated with a key.\n",
    "string value = dict[\"banana\"];\n",
    "\n",
    "// Update the value associated with a key.\n",
    "dict[\"banana\"] = \"blue\";\n",
    "\n",
    "dict.Display();\n",
    "\n",
    "// Remove a key-value pair from the Dictionary.\n",
    "dict.Remove(\"cherry\");\n",
    "\n",
    "\n",
    "// Iterate over the key-value pairs in the Dictionary.\n",
    "foreach (KeyValuePair<string, string> keyValuePair in dict)\n",
    "{\n",
    "    Console.WriteLine(\"{0}: {1}\", keyValuePair.Key, keyValuePair.Value);\n",
    "}\n",
    "\n",
    "\n",
    "\n",
    "Dictionary<string, int> dictObj = new Dictionary<string, int>(){\n",
    "                         {\"apple\",10},\n",
    "                         {\"banana\",20},\n",
    "                         {\"cherry\",23}\n",
    "                         };\n",
    "dictObj.Display();\n",
    "dictObj.Remove(\"cherry\");\n",
    "foreach (KeyValuePair<string, int> keyValuePair in dictObj)\n",
    "{\n",
    "    Console.WriteLine(\"{0}: {1}\", keyValuePair.Key, keyValuePair.Value);\n",
    "} "
   ]
  },
  {
   "cell_type": "markdown",
   "metadata": {},
   "source": [
    "# Continue learning\n",
    "\n",
    "There are plenty more resources out there to learn!\n",
    "\n",
    "> [⏩ Next Module - Arrays, Lists, and Collections](10.Arrays_ListsAndCollections.ipynb)\n",
    ">\n",
    "> [⏪ Last Module -  Combining Branches and Loops](09.Combining_Branches_and_Loops.ipynb)\n",
    ">\n",
    ">[Commonly-used-collection-types](https://learn.microsoft.com/en-us/dotnet/standard/collections/commonly-used-collection-types)     \n",
    "> [Thread-Safe collections](https://learn.microsoft.com/en-us/dotnet/standard/collections/thread-safe/)   "
   ]
  }
 ],
 "metadata": {
  "language_info": {
   "name": "python"
  },
  "orig_nbformat": 4
 },
 "nbformat": 4,
 "nbformat_minor": 2
}
