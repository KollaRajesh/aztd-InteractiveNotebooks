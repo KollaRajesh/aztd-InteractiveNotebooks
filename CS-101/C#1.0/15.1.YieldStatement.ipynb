{
 "cells": [
  {
   "cell_type": "markdown",
   "metadata": {},
   "source": [
    "> ### Yield statement\n",
    "> *C# 1.0 Version *"
   ]
  },
  {
   "cell_type": "markdown",
   "metadata": {},
   "source": [
    "> A **yield** statement in C# is used in an iterator to provide the next value in the sequence.  \n",
    ">\n",
    ">  It has two forms: yield return and yield break.   \n",
    ">  The yield return statement is used to provide the next value in the sequence, while the yield break statement is used to signal the end of the sequence."
   ]
  },
  {
   "cell_type": "code",
   "execution_count": null,
   "metadata": {
    "dotnet_interactive": {
     "language": "csharp"
    },
    "polyglot_notebook": {
     "kernelName": "csharp"
    },
    "vscode": {
     "languageId": "polyglot-notebook"
    }
   },
   "outputs": [],
   "source": [
    "public static IEnumerable<int> ProduceEvenNumbers(int upto)\n",
    "{\n",
    "    for (int i = 0; i <= upto; i += 2)\n",
    "    {\n",
    "        yield return i;\n",
    "    }\n",
    "}\n",
    "ProduceEvenNumbers(20).Display();\n",
    "/*\n",
    "Note: In this example, the ProduceEvenNumbers method returns an IEnumerable<int> that generates even numbers from 0 to upto.\n",
    "      The yield return statement is used to provide the next even number in the sequence.\n",
    "*/"
   ]
  },
  {
   "cell_type": "code",
   "execution_count": null,
   "metadata": {
    "dotnet_interactive": {
     "language": "csharp"
    },
    "polyglot_notebook": {
     "kernelName": "csharp"
    },
    "vscode": {
     "languageId": "polyglot-notebook"
    }
   },
   "outputs": [],
   "source": [
    "public static IEnumerable<int> TakeWhilePositive(IEnumerable<int> numbers)\n",
    "{\n",
    "    foreach (int n in numbers)\n",
    "    {\n",
    "        if (n > 0)\n",
    "        {\n",
    "            yield return n;\n",
    "        }\n",
    "        else\n",
    "        {\n",
    "            yield break;\n",
    "        }\n",
    "    }\n",
    "}\n",
    "TakeWhilePositive(new int[]{5,2,-1,2,1}).Display();\n",
    "/*\n",
    "Note: In this example, the TakeWhilePositive method returns an IEnumerable<int> that generates positive numbers from the input sequence numbers.\n",
    "             The yield break statement is used to signal the end of the sequence when a non-positive number is encountered.\n",
    "*/\n"
   ]
  },
  {
   "cell_type": "markdown",
   "metadata": {},
   "source": [
    "# Continue learning\n",
    "\n",
    "There are plenty more resources out there to learn!\n",
    "> [⏩ Next Module - Struct_interface_Class](16.0.Struct_interface_Class.ipynb)\n",
    ">\n",
    "> [⏪ Last Module - Methods_And_Exceptions](15.0.Methods_And_Exceptions.ipynb)\n",
    ">\n",
    "> [Documentation: yield](https://learn.microsoft.com/en-us/dotnet/csharp/language-reference/statements/yield)"
   ]
  }
 ],
 "metadata": {
  "language_info": {
   "name": "python"
  },
  "orig_nbformat": 4
 },
 "nbformat": 4,
 "nbformat_minor": 2
}
