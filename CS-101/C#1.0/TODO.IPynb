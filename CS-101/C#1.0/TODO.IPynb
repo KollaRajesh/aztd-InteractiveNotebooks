{
 "cells": [
  {
   "cell_type": "code",
   "execution_count": null,
   "metadata": {
    "dotnet_interactive": {
     "language": "csharp"
    },
    "polyglot_notebook": {
     "kernelName": "csharp"
    },
    "vscode": {
     "languageId": "polyglot-notebook"
    }
   },
   "outputs": [],
   "source": [
    "// TODO: \n",
    "// Object Oriented Programming\n",
    "    // Encapsulation\n",
    "    // Abstraction\n",
    "    // Inheritence \n",
    "    // polymarphim \n",
    "// Design Principles\n",
    "    //  1. Open closed \n",
    "    //  2. Single responsiblity \n",
    "    //  3. Liskov's substitution Principle\n",
    "    //  4. Interface segregation Principle\n",
    "    //  5. Dependency inversion Principle\n",
    "\n",
    "// Design Patterns\n",
    " //  1. Creational\n",
    " //  2. Behavioural \n",
    " //  3. Structural \n",
    " \n",
    "// Type Script \n",
    "// Python\n",
    "// Powershell\n",
    "// Cloud Design Patterns\n",
    "\n"
   ]
  }
 ],
 "metadata": {
  "language_info": {
   "name": "python"
  },
  "orig_nbformat": 4
 },
 "nbformat": 4,
 "nbformat_minor": 2
}
