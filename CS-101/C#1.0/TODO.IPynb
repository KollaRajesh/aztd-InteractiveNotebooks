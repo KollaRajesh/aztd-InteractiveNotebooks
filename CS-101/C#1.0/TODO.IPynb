{
 "cells": [
  {
   "cell_type": "code",
   "execution_count": null,
   "metadata": {
    "dotnet_interactive": {
     "language": "csharp"
    },
    "polyglot_notebook": {
     "kernelName": "csharp"
    },
    "vscode": {
     "languageId": "polyglot-notebook"
    }
   },
   "outputs": [],
   "source": [
    "// TODO: \n",
    "\n",
    "// Switch\n",
    "//yield\n",
    "// go to \n",
    "// break , Continue \n",
    "//lock\n",
    "// lambda function , action , func \n",
    "\n",
    "// Object Oriented Programming\n",
    "    // Encapsulation\n",
    "    // Abstraction\n",
    "    // Inheritence \n",
    "    // polymarphim \n",
    "\n",
    "// Design Patterns\n",
    "// Design Principles\n",
    "\n",
    "// Type Script \n",
    "// Python\n",
    "// Cloud Design Patterns\n",
    "\n"
   ]
  }
 ],
 "metadata": {
  "language_info": {
   "name": "python"
  },
  "orig_nbformat": 4
 },
 "nbformat": 4,
 "nbformat_minor": 2
}
