{
 "cells": [
  {
   "cell_type": "markdown",
   "metadata": {},
   "source": [
    "> ### **Warning Wave 6** in C#\n",
    ">    Version *C# 10.0*"
   ]
  },
  {
   "cell_type": "markdown",
   "metadata": {},
   "source": [
    "> **Warning Wave 6**: This feature introduces a new set of warnings.  "
   ]
  },
  {
   "cell_type": "code",
   "execution_count": null,
   "metadata": {
    "dotnet_interactive": {
     "language": "csharp"
    },
    "polyglot_notebook": {
     "kernelName": "csharp"
    },
    "vscode": {
     "languageId": "polyglot-notebook"
    }
   },
   "outputs": [],
   "source": []
  },
  {
   "cell_type": "markdown",
   "metadata": {},
   "source": [
    "# Continue learning\n",
    "\n",
    "There are plenty more resources out there to learn!\n",
    "\n",
    "> [⏩ Next Module - ]()\n",
    ">\n",
    "> [⏪ Last Module - Enhanced #linePragma](82.Enhanced#linePragma.ipynb)\n",
    ">\n",
    "> [Reference - Warning wave 6](https://learn.microsoft.com/en-us/dotnet/csharp/language-reference/compiler-messages/warning-waves#cs8826---partial-method-declarations-have-signature-differences)    \n",
    ">\n",
    "> [Reference - C#-version-10](https://learn.microsoft.com/en-us/dotnet/csharp/whats-new/csharp-10)  "
   ]
  }
 ],
 "metadata": {
  "language_info": {
   "name": "python"
  },
  "orig_nbformat": 4
 },
 "nbformat": 4,
 "nbformat_minor": 2
}
