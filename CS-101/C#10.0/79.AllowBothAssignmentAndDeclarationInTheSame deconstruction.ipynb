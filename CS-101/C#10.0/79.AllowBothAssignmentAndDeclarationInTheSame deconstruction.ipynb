{
 "cells": [
  {
   "cell_type": "markdown",
   "metadata": {},
   "source": [
    "> ### **Allow Both Assignment and Declaration in the Same Deconstruction** in C#\n",
    ">    Version *C# 10.0*"
   ]
  },
  {
   "cell_type": "markdown",
   "metadata": {},
   "source": [
    "> **Allow Both Assignment and Declaration in the Same Deconstruction**: You can now both assign and declare in the same deconstruction.   "
   ]
  },
  {
   "cell_type": "code",
   "execution_count": null,
   "metadata": {
    "dotnet_interactive": {
     "language": "csharp"
    },
    "polyglot_notebook": {
     "kernelName": "csharp"
    },
    "vscode": {
     "languageId": "polyglot-notebook"
    }
   },
   "outputs": [],
   "source": []
  },
  {
   "cell_type": "markdown",
   "metadata": {},
   "source": [
    "# Continue learning\n",
    "\n",
    "There are plenty more resources out there to learn!\n",
    "\n",
    "> [⏩ Next Module - Allow Async Method Builder Attribute On Methods](80.AllowAsyncMethodBuilderAttributeOnMethods.ipynb)\n",
    ">\n",
    "> [⏪ Last Module - Improved Definite Assignment](78.ImprovedDefiniteAssignment.ipynb)\n",
    ">\n",
    "> [Reference - assignment-and-declaration-in-same-deconstruction](https://learn.microsoft.com/en-us/dotnet/csharp/whats-new/csharp-10#assignment-and-declaration-in-same-deconstruction)    \n",
    ">\n",
    "> [Reference - C#-version-10](https://learn.microsoft.com/en-us/dotnet/csharp/whats-new/csharp-10)  "
   ]
  }
 ],
 "metadata": {
  "language_info": {
   "name": "python"
  },
  "orig_nbformat": 4
 },
 "nbformat": 4,
 "nbformat_minor": 2
}
