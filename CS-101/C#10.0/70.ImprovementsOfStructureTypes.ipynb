{
 "cells": [
  {
   "cell_type": "markdown",
   "metadata": {},
   "source": [
    "> ### **Improvements of Structure Types** in C#\n",
    ">    Version *C# 10.0*"
   ]
  },
  {
   "cell_type": "markdown",
   "metadata": {},
   "source": [
    "> **Improvements of Structure Types**: You can declare an instance parameterless constructor in a structure type and initialize an instance field or property at its declaration."
   ]
  },
  {
   "cell_type": "markdown",
   "metadata": {},
   "source": [
    ">  Before explaining improvements of Structure Types in C#\n",
    ">  \n",
    ">  In C#, Struct, Record, and Class are all user-defined data types, but they have different characteristics and use cases :\n",
    ">\n",
    ">  **Struct**: Structs are value types. They are typically used when you need a lightweight object that holds a few data fields.   \n",
    ">\n",
    ">    - For example, a struct can be used to represent a 2D point with x and y coordinates.\n",
    ">\n",
    "> Structs in C# 10.0 can have instance parameterless constructors and support with expressions.\n",
    "\n",
    "```csharp  \n",
    "        public struct Point\n",
    "        {\n",
    "            public double X { get; init; }\n",
    "            public double Y { get; init; }\n",
    "\n",
    "            public Point()\n",
    "            {\n",
    "                X = 0;\n",
    "                Y = 0;\n",
    "            }\n",
    "        }\n",
    "```  \n",
    ">\n",
    ">  **Record: Records are reference types and are immutable by default. ( Note: *Immutable* : Once an immutable object is created, its state cannot be changed3. Any operation that appears to change the object will actually create a new object)   \n",
    ">\n",
    ">   They are ideal for representing a complex value that is expected to be immutable and used in a unidirectional (one-way) flow1. \n",
    ">   \n",
    ">  -  For example, a record can be used to represent a person with FirstName and LastName.\n",
    ">\n",
    "\n",
    "```csharp\n",
    "    public record Person(string FirstName, string LastName);    \n",
    "```\n",
    ">\n",
    ">  \n",
    ">  **Class**: Classes are also reference types, but unlike records, they are mutable.  ( *Mutable*: Mutable objects are those that allow you to change their value or data in place without affecting the object’s identity)\n",
    ">  Classes are typically used to define complex types that have both data and behavior.\n",
    "> \n",
    ">  For example, a class can be used to represent a bank account that has a balance and methods to deposit and withdraw money.\n",
    "\n",
    "```C#\n",
    "    public class BankAccount\n",
    "    {\n",
    "        public decimal Balance { get; private set; }\n",
    "\n",
    "        public void Deposit(decimal amount)\n",
    "        {\n",
    "            Balance += amount;\n",
    "        }\n",
    "\n",
    "        public void Withdraw(decimal amount)\n",
    "        {\n",
    "            if (amount <= Balance)\n",
    "            {\n",
    "                Balance -= amount;\n",
    "            }\n",
    "            else\n",
    "            {\n",
    "                throw new InvalidOperationException(\"Not enough balance\");\n",
    "            }\n",
    "        }\n",
    "    }\n",
    "```\n",
    ">\n",
    "> In summary, you would use a struct for simple, lightweight data structures, a record for complex, immutable data structures, and a class for complex data structures that require behavior."
   ]
  },
  {
   "cell_type": "markdown",
   "metadata": {},
   "source": [
    "> C# 10.0 introduces several improvements to structure types:  \n",
    ">  \n",
    ">  **Instance Parameterless Constructor** : You can declare an instance parameterless constructor in a structure type and initialize an instance field or property at its declaration.    \n",
    ">\n",
    "> **With Expression**: A left-hand operand of the with expression can be of any structure type.   "
   ]
  },
  {
   "cell_type": "code",
   "execution_count": null,
   "metadata": {
    "dotnet_interactive": {
     "language": "csharp"
    },
    "polyglot_notebook": {
     "kernelName": "csharp"
    },
    "vscode": {
     "languageId": "polyglot-notebook"
    }
   },
   "outputs": [],
   "source": [
    "// Example 1: Instance Parameterless Constructor\n",
    "//public class Person(string FirstName, string LastName);  //Error: (2,20): error CS8652: The feature 'primary constructors' is currently in Preview and *unsupported*. To use Preview features, use the 'preview' language version.\n",
    "//public struct Person(string FirstName, string LastName);  //Error: (3,21): error CS8652: The feature 'primary constructors' is currently in Preview and *unsupported*. To use Preview features, use the 'preview' language version.\n",
    "public record Person(string FirstName, string LastName);\n",
    "Person person=new  Person(\"Rob\",\"M\");\n",
    "person.Display();"
   ]
  },
  {
   "cell_type": "markdown",
   "metadata": {},
   "source": [
    "> #### 1.Parameterless constructor in a structure type and initialize an instance field or property at its declaration."
   ]
  },
  {
   "cell_type": "code",
   "execution_count": null,
   "metadata": {
    "dotnet_interactive": {
     "language": "csharp"
    },
    "polyglot_notebook": {
     "kernelName": "csharp"
    },
    "vscode": {
     "languageId": "polyglot-notebook"
    }
   },
   "outputs": [],
   "source": [
    "public  struct Student\n",
    "{\n",
    "    public string FirstName { get; init; }\n",
    "    //public string LastName { get; init; } = \"Donalld\";  //Error: (27,16): error CS8983: A 'struct' with field initializers must include an explicitly declared constructor.\n",
    "    public string LastName { get; init; } \n",
    "}\n",
    "\n",
    "Student student=new Student(); \n",
    "//student.FirstName=\"Sachin\"; //Error: (9,1): error CS8852: Init-only property or indexer 'Student.FirstName' can only be assigned in an object initializer, or on 'this' or 'base' in an instance constructor or an 'init' accessor.\n",
    "Student anotherStudent=new Student() {FirstName=\"Rob\",LastName=\"M\"};\n",
    "anotherStudent.Display();"
   ]
  },
  {
   "cell_type": "markdown",
   "metadata": {},
   "source": [
    ">  #### 2. readonly struct\n",
    ">  - Use the readonly modifier to declare that a structure type is immutable.\n",
    ">  - All data members of a readonly struct must be read-only as follows:"
   ]
  },
  {
   "cell_type": "code",
   "execution_count": null,
   "metadata": {
    "dotnet_interactive": {
     "language": "csharp"
    },
    "polyglot_notebook": {
     "kernelName": "csharp"
    },
    "vscode": {
     "languageId": "polyglot-notebook"
    }
   },
   "outputs": [],
   "source": [
    "public readonly struct Employee\n",
    "{\n",
    "    public Employee(string firstName)\n",
    "    {\n",
    "        FirstName = firstName;\n",
    "    }\n",
    "    \n",
    "    public string FirstName { get; init; }\n",
    "    public string LastName { get; init; } = \"Donalld\";  /* note : will not throw exception as A 'struct' with field initializers because This struct is having explicit constructor .*/\n",
    "}\n",
    "\n",
    "Employee employee=new Employee(\"Mark\");\n",
    "employee.Display();\n",
    "//employee.LastName=\"Damo\";//error CS8852: Init-only property or indexer 'Employee.LastName' can only be assigned in an object initializer, or on 'this' or 'base' in an instance constructor or an 'init' accessor.\n",
    "\n"
   ]
  },
  {
   "cell_type": "markdown",
   "metadata": {},
   "source": [
    ">  #### 3. with expression - Nondestructive mutation creates a new object with modified properties"
   ]
  },
  {
   "cell_type": "code",
   "execution_count": 51,
   "metadata": {
    "dotnet_interactive": {
     "language": "csharp"
    },
    "polyglot_notebook": {
     "kernelName": "csharp"
    },
    "vscode": {
     "languageId": "polyglot-notebook"
    }
   },
   "outputs": [
    {
     "data": {
      "text/html": [
       "<details open=\"open\" class=\"dni-treeview\"><summary><span class=\"dni-code-hint\"><code>Teacher { FirstName = Tom, LastName = Willim, isScienceTeacher = True }</code></span></summary><div><table><thead><tr></tr></thead><tbody><tr><td>FirstName</td><td><div class=\"dni-plaintext\"><pre>Tom</pre></div></td></tr><tr><td>LastName</td><td><div class=\"dni-plaintext\"><pre>Willim</pre></div></td></tr><tr><td>isScienceTeacher</td><td><div class=\"dni-plaintext\"><pre>True</pre></div></td></tr></tbody></table></div></details><style>\r\n",
       ".dni-code-hint {\r\n",
       "    font-style: italic;\r\n",
       "    overflow: hidden;\r\n",
       "    white-space: nowrap;\r\n",
       "}\r\n",
       ".dni-treeview {\r\n",
       "    white-space: nowrap;\r\n",
       "}\r\n",
       ".dni-treeview td {\r\n",
       "    vertical-align: top;\r\n",
       "    text-align: start;\r\n",
       "}\r\n",
       "details.dni-treeview {\r\n",
       "    padding-left: 1em;\r\n",
       "}\r\n",
       "table td {\r\n",
       "    text-align: start;\r\n",
       "}\r\n",
       "table tr { \r\n",
       "    vertical-align: top; \r\n",
       "    margin: 0em 0px;\r\n",
       "}\r\n",
       "table tr td pre \r\n",
       "{ \r\n",
       "    vertical-align: top !important; \r\n",
       "    margin: 0em 0px !important;\r\n",
       "} \r\n",
       "table th {\r\n",
       "    text-align: start;\r\n",
       "}\r\n",
       "</style>"
      ]
     },
     "metadata": {},
     "output_type": "display_data"
    },
    {
     "name": "stdout",
     "output_type": "stream",
     "text": [
      "\n",
      "************************************************\n",
      "\n",
      "drawingTeacher: Teacher { FirstName = Tom, LastName = Jack, isScienceTeacher = False }\n",
      "\n",
      "************************************************\n",
      "\n"
     ]
    },
    {
     "data": {
      "text/html": [
       "<details open=\"open\" class=\"dni-treeview\"><summary><span class=\"dni-code-hint\"><code>Submission#52+Employee</code></span></summary><div><table><thead><tr></tr></thead><tbody><tr><td>FirstName</td><td><div class=\"dni-plaintext\"><pre>Mark</pre></div></td></tr><tr><td>LastName</td><td><div class=\"dni-plaintext\"><pre>&lt;null&gt;</pre></div></td></tr><tr><td>isScienceTeacher</td><td><div class=\"dni-plaintext\"><pre>False</pre></div></td></tr><tr><td>isManager</td><td><div class=\"dni-plaintext\"><pre>False</pre></div></td></tr></tbody></table></div></details><style>\r\n",
       ".dni-code-hint {\r\n",
       "    font-style: italic;\r\n",
       "    overflow: hidden;\r\n",
       "    white-space: nowrap;\r\n",
       "}\r\n",
       ".dni-treeview {\r\n",
       "    white-space: nowrap;\r\n",
       "}\r\n",
       ".dni-treeview td {\r\n",
       "    vertical-align: top;\r\n",
       "    text-align: start;\r\n",
       "}\r\n",
       "details.dni-treeview {\r\n",
       "    padding-left: 1em;\r\n",
       "}\r\n",
       "table td {\r\n",
       "    text-align: start;\r\n",
       "}\r\n",
       "table tr { \r\n",
       "    vertical-align: top; \r\n",
       "    margin: 0em 0px;\r\n",
       "}\r\n",
       "table tr td pre \r\n",
       "{ \r\n",
       "    vertical-align: top !important; \r\n",
       "    margin: 0em 0px !important;\r\n",
       "} \r\n",
       "table th {\r\n",
       "    text-align: start;\r\n",
       "}\r\n",
       "</style>"
      ]
     },
     "metadata": {},
     "output_type": "display_data"
    },
    {
     "name": "stdout",
     "output_type": "stream",
     "text": [
      "************************************************\r\n"
     ]
    },
    {
     "data": {
      "text/html": [
       "<details open=\"open\" class=\"dni-treeview\"><summary><span class=\"dni-code-hint\"><code>Submission#52+Employee</code></span></summary><div><table><thead><tr></tr></thead><tbody><tr><td>FirstName</td><td><div class=\"dni-plaintext\"><pre>Mark</pre></div></td></tr><tr><td>LastName</td><td><div class=\"dni-plaintext\"><pre>Donalld</pre></div></td></tr><tr><td>isScienceTeacher</td><td><div class=\"dni-plaintext\"><pre>False</pre></div></td></tr><tr><td>isManager</td><td><div class=\"dni-plaintext\"><pre>True</pre></div></td></tr></tbody></table></div></details><style>\r\n",
       ".dni-code-hint {\r\n",
       "    font-style: italic;\r\n",
       "    overflow: hidden;\r\n",
       "    white-space: nowrap;\r\n",
       "}\r\n",
       ".dni-treeview {\r\n",
       "    white-space: nowrap;\r\n",
       "}\r\n",
       ".dni-treeview td {\r\n",
       "    vertical-align: top;\r\n",
       "    text-align: start;\r\n",
       "}\r\n",
       "details.dni-treeview {\r\n",
       "    padding-left: 1em;\r\n",
       "}\r\n",
       "table td {\r\n",
       "    text-align: start;\r\n",
       "}\r\n",
       "table tr { \r\n",
       "    vertical-align: top; \r\n",
       "    margin: 0em 0px;\r\n",
       "}\r\n",
       "table tr td pre \r\n",
       "{ \r\n",
       "    vertical-align: top !important; \r\n",
       "    margin: 0em 0px !important;\r\n",
       "} \r\n",
       "table th {\r\n",
       "    text-align: start;\r\n",
       "}\r\n",
       "</style>"
      ]
     },
     "metadata": {},
     "output_type": "display_data"
    },
    {
     "name": "stdout",
     "output_type": "stream",
     "text": [
      "************************************************\r\n"
     ]
    }
   ],
   "source": [
    "public record Teacher(string FirstName,string LastName, bool isScienceTeacher);\n",
    "Teacher teacher =new(\"Tom\",\"Willim\",true);\n",
    "teacher.Display();\n",
    "Console.WriteLine(\"\");\n",
    "Console.WriteLine(\"************************************************\"); \n",
    "Console.WriteLine(\"\");\n",
    "Teacher drawingTeacher=teacher with{LastName=\"Jack\",isScienceTeacher=false};\n",
    "Console.WriteLine($\"{nameof(drawingTeacher)}: {drawingTeacher}\");   \n",
    "Console.WriteLine(\"\");\n",
    "Console.WriteLine(\"************************************************\"); \n",
    "Console.WriteLine(\"\");\n",
    "//public struct Employee(string FirstName,string LastName, bool isManager); //The feature 'primary constructors' is currently in Preview and *unsupported*. To use Preview features, use the 'preview' language version.\n",
    "\n",
    "public struct Employee{\n",
    "\n",
    "     public string FirstName { get; init; }\n",
    "    public string LastName { get; init; } \n",
    "    public bool isScienceTeacher { get; set; } \n",
    "    public bool isManager { get; set; }\n",
    "}\n",
    "\n",
    "var employee =new Employee(){FirstName=\"Mark\"};\n",
    "//Console.WriteLine($\"{nameof(employee)}: {employee}\"); this doesn't display value of fields \n",
    "employee.Display();\n",
    "Console.WriteLine(\"************************************************\");\n",
    "\n",
    "var Manager= employee with {LastName=\"Donalld\",isManager=true};  // this will create new instance of Employee\n",
    "Manager.Display();\n",
    "Console.WriteLine(\"************************************************\");\n"
   ]
  },
  {
   "cell_type": "markdown",
   "metadata": {},
   "source": [
    "# Continue learning\n",
    "\n",
    "There are plenty more resources out there to learn!\n",
    "\n",
    "> [⏩ Next Module - Interpolated String Handlers](71.InterpolatedStringHandlers.ipynb)\n",
    ">\n",
    "> [⏪ Last Module - Record Structs](69.RecordStructs.ipynb)\n",
    ">\n",
    "> [Reference - record-structs](https://learn.microsoft.com/en-us/dotnet/csharp/whats-new/csharp-10#improvements-of-structure-types)    \n",
    "> [Reference - C#-version-10](https://learn.microsoft.com/en-us/dotnet/csharp/whats-new/csharp-10)  "
   ]
  }
 ],
 "metadata": {
  "language_info": {
   "name": "python"
  },
  "orig_nbformat": 4
 },
 "nbformat": 4,
 "nbformat_minor": 2
}
