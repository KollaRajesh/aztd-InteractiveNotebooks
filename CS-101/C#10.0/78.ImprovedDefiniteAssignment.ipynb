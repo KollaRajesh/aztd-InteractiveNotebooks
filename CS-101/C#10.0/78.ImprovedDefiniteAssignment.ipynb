{
 "cells": [
  {
   "cell_type": "markdown",
   "metadata": {},
   "source": [
    "> ### **Improved Definite Assignment** in C#\n",
    ">    Version *C# 10.0*"
   ]
  },
  {
   "cell_type": "markdown",
   "metadata": {},
   "source": [
    "> **Improved Definite Assignment**: “Improved definite assignment” is a new feature introduced in C# 10.0 version.   \n",
    ">\n",
    ">   - It enhances the rules for definite assignment analysis, which results in more accurate warnings for when a variable may not be definitely assigned or may not be null .\n",
    ">   - These examples generated warnings in previous versions of C#, but don't in C# 10:"
   ]
  },
  {
   "cell_type": "code",
   "execution_count": 3,
   "metadata": {
    "dotnet_interactive": {
     "language": "csharp"
    },
    "polyglot_notebook": {
     "kernelName": "csharp"
    },
    "vscode": {
     "languageId": "polyglot-notebook"
    }
   },
   "outputs": [
    {
     "name": "stdout",
     "output_type": "stream",
     "text": [
      "Today is not Monday\r\n"
     ]
    }
   ],
   "source": [
    "public void GetDescriptionOfDay()\n",
    "{\n",
    "    string? myString;\n",
    "    if (DateTime.Now.DayOfWeek == DayOfWeek.Monday)\n",
    "    {\n",
    "        myString = \"Today is Monday\";\n",
    "    }\n",
    "    else\n",
    "    {\n",
    "        myString = \"Today is not Monday\";\n",
    "    }\n",
    "\n",
    "\n",
    "    Console.WriteLine(myString!);\n",
    "\n",
    "     /*In the above example, the myString variable is assigned a value only if the current day of the week is either Monday or Tuesday.\n",
    "    The ! operator is used to indicate that the myString variable is definitely assigned.*/\n",
    "\n",
    "}\n",
    "GetDescriptionOfDay();\n"
   ]
  },
  {
   "cell_type": "code",
   "execution_count": 4,
   "metadata": {
    "dotnet_interactive": {
     "language": "csharp"
    },
    "polyglot_notebook": {
     "kernelName": "csharp"
    },
    "vscode": {
     "languageId": "polyglot-notebook"
    }
   },
   "outputs": [
    {
     "name": "stdout",
     "output_type": "stream",
     "text": [
      "\r\n"
     ]
    }
   ],
   "source": [
    "    public void GetDescriptionOfToday()\n",
    "    {\n",
    "        string? myString = null;\n",
    "        if (DateTime.Now.DayOfWeek == DayOfWeek.Monday)\n",
    "        {\n",
    "            myString = \"Today is Monday\";\n",
    "        }\n",
    "        Console.WriteLine(myString!);\n",
    "\n",
    "        /*In the above example, the myString variable is assigned a value only if the current day of the week is either Monday or Tuesday. \n",
    "        If the current day of the week is any other day, an exception is thrown.\n",
    "         The ! operator is used to indicate that the myString variable is definitely assigned.*/\n",
    "    }\n",
    "GetDescriptionOfToday();\n",
    "\n"
   ]
  },
  {
   "cell_type": "markdown",
   "metadata": {},
   "source": [
    "# Continue learning\n",
    "\n",
    "There are plenty more resources out there to learn!\n",
    "\n",
    "> [⏩ Next Module - Allow Both Assignment And Declaration In The Same deconstruction](79.AllowBothAssignmentAndDeclarationInTheSame%20deconstruction.ipynb)\n",
    ">\n",
    "> [⏪ Last Module - RecordTypes Can Seal ToString](77.RecordTypesCanSealToString.ipynb)\n",
    ">\n",
    "> [Reference - improved-definite-assignment](https://learn.microsoft.com/en-us/dotnet/csharp/whats-new/csharp-10#improved-definite-assignment)    \n",
    ">\n",
    "> [Reference - C#-version-10](https://learn.microsoft.com/en-us/dotnet/csharp/whats-new/csharp-10)  "
   ]
  }
 ],
 "metadata": {
  "language_info": {
   "name": "python"
  },
  "orig_nbformat": 4
 },
 "nbformat": 4,
 "nbformat_minor": 2
}
