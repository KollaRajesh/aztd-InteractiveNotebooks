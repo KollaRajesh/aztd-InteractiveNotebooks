{
 "cells": [
  {
   "cell_type": "markdown",
   "metadata": {},
   "source": [
    "> ### **CallerArgumentExpression Attribute** in C#\n",
    ">    Version *C# 10.0*"
   ]
  },
  {
   "cell_type": "markdown",
   "metadata": {},
   "source": [
    "> **CallerArgumentExpression Attribute**:  “CallerArgumentExpression attribute” is a new feature introduced in C# 10.0 version.This new attribute allows you to capture the expression passed to a method, which can be useful for certain types of APIs.  \n",
    ">\n",
    "> - It allows developers to capture the expressions passed to a method, to enable better error messages in diagnostic/testing APIs and reduce keystrokes ."
   ]
  },
  {
   "cell_type": "code",
   "execution_count": null,
   "metadata": {
    "dotnet_interactive": {
     "language": "csharp"
    },
    "polyglot_notebook": {
     "kernelName": "csharp"
    },
    "vscode": {
     "languageId": "polyglot-notebook"
    }
   },
   "outputs": [],
   "source": [
    "using System.Runtime.CompilerServices;\n",
    "\n",
    "void Foo(int a, TimeSpan b, [CallerArgumentExpression(\"a\")] string c = \"\", [CallerArgumentExpression(\"b\")] string d = \"\")\n",
    "{\n",
    "    Console.WriteLine($\"Called with value {a} from expression '{c}'\");\n",
    "    Console.WriteLine($\"Called with value {b} from expression '{d}'\");\n",
    "}\n",
    "\n",
    "Foo(2,TimeSpan.FromMinutes(10));\n",
    "Foo(2,TimeSpan.FromMinutes(10),\"Test\");\n",
    "\n",
    "/*In the above example, the Foo() method is attributed with CallerArgumentExpression attribute to capture the expressions passed to the method.\n",
    " This enables better error messages in diagnostic/testing APIs and reduces keystrokes.*/"
   ]
  },
  {
   "cell_type": "code",
   "execution_count": null,
   "metadata": {
    "dotnet_interactive": {
     "language": "csharp"
    },
    "polyglot_notebook": {
     "kernelName": "csharp"
    },
    "vscode": {
     "languageId": "polyglot-notebook"
    }
   },
   "outputs": [],
   "source": [
    "public static void Validate(bool condition, [CallerArgumentExpression(\"condition\")] string? message=null)\n",
    "{\n",
    "    if (!condition)\n",
    "    {\n",
    "        throw new InvalidOperationException($\"Argument failed validation: <{message}>\");\n",
    "    }\n",
    "}\n",
    "Validate(false);\n",
    "/*In the above example, Validate method is attributed with CallerArgumentExpression attribute to obtain the string associated with a particular method argument.\n",
    " This helps the developer determine what failed when an assertion or argument condition fails.\n",
    " */\n",
    "\n",
    "//Validate(false,\"test\");\n"
   ]
  },
  {
   "cell_type": "markdown",
   "metadata": {},
   "source": [
    "# Continue learning\n",
    "\n",
    "There are plenty more resources out there to learn!\n",
    "\n",
    "> [⏩ Next Module - Enhanced # line Pragma](82.Enhanced#linePragma.ipynb)\n",
    ">\n",
    "> [⏪ Last Module - Allow Async Method Builder Attribute On Methods](80.AllowAsyncMethodBuilderAttributeOnMethods.ipynb)\n",
    ">\n",
    "> [Reference - callerargumentexpression-attribute-diagnostics](https://learn.microsoft.com/en-us/dotnet/csharp/whats-new/csharp-10#callerargumentexpression-attribute-diagnostics)    \n",
    ">\n",
    "> [Reference - C#-version-10](https://learn.microsoft.com/en-us/dotnet/csharp/whats-new/csharp-10)  "
   ]
  }
 ],
 "metadata": {
  "language_info": {
   "name": "python"
  },
  "orig_nbformat": 4
 },
 "nbformat": 4,
 "nbformat_minor": 2
}
