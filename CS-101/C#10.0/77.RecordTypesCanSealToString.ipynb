{
 "cells": [
  {
   "cell_type": "markdown",
   "metadata": {},
   "source": [
    "> ### **Record Types Can Seal ToString()** in C#\n",
    ">    Version *C# 10.0*"
   ]
  },
  {
   "cell_type": "markdown",
   "metadata": {},
   "source": [
    "> **Record Types Can Seal ToString()**: “Record types can seal ToString()” is a new feature introduced in C# 10.0 version.     \n",
    ">  - It allows the developer to add the sealed modifier when overriding the ToString() method in a record type.   \n",
    ">  - This prevents the compiler from synthesizing a ToString() method for any derived record types.    \n",
    ">  - A sealed ToString() ensures all derived record types use the ToString() method defined in a common base record type  "
   ]
  },
  {
   "cell_type": "code",
   "execution_count": 7,
   "metadata": {
    "dotnet_interactive": {
     "language": "csharp"
    },
    "polyglot_notebook": {
     "kernelName": "csharp"
    },
    "vscode": {
     "languageId": "polyglot-notebook"
    }
   },
   "outputs": [
    {
     "data": {
      "text/plain": [
       "Rob Michel"
      ]
     },
     "metadata": {},
     "output_type": "display_data"
    }
   ],
   "source": [
    "public record Person(string FirstName, string LastName)\n",
    "{\n",
    "    public override sealed string ToString() => $\"{FirstName} {LastName}\";\n",
    "}\n",
    "\n",
    "/*In the above example, the ToString() method is overridden and sealed in the Person record type.\n",
    " This ensures that any derived record types will use the ToString() method defined in the Person record type.*/\n",
    "Person person =new(\"Rob\",\"Michel\");\n",
    "person.ToString().Display();"
   ]
  },
  {
   "cell_type": "code",
   "execution_count": 4,
   "metadata": {
    "dotnet_interactive": {
     "language": "csharp"
    },
    "polyglot_notebook": {
     "kernelName": "csharp"
    },
    "vscode": {
     "languageId": "polyglot-notebook"
    }
   },
   "outputs": [
    {
     "ename": "Error",
     "evalue": "(3,28): error CS0239: 'Employee.ToString()': cannot override inherited member 'Person.ToString()' because it is sealed",
     "output_type": "error",
     "traceback": [
      "(3,28): error CS0239: 'Employee.ToString()': cannot override inherited member 'Person.ToString()' because it is sealed"
     ]
    }
   ],
   "source": [
    "public record Employee(string FirstName, string LastName, string Department) : Person(FirstName, LastName)\n",
    "{\n",
    "    public override string ToString() => $\"{base.ToString()} works in {Department}\";\n",
    "    // this will throw error \n",
    "    // error CS0239: 'Employee.ToString()': cannot override inherited member 'Person.ToString()' because it is sealed\n",
    "}\n",
    "\n",
    "/*In the above example, the Employee record type is derived from the Person record type. \n",
    "The ToString() method is overridden in the Employee record type to include the Department property. \n",
    "Since the ToString() method in the Person record type is sealed,\n",
    "the Employee record type will use the ToString() method defined in the Person record type*/\n",
    "\n"
   ]
  },
  {
   "cell_type": "markdown",
   "metadata": {},
   "source": [
    "# Continue learning\n",
    "\n",
    "There are plenty more resources out there to learn!\n",
    "\n",
    "> [⏩ Next Module - Improved Definite Assignment](78.ImprovedDefiniteAssignment.ipynbb)\n",
    ">\n",
    "> [⏪ Last Module - Allow Const Interpolated Strings](76.AllowConstInterpolatedStrings.ipynb)\n",
    ">\n",
    "> [Reference - record-types-can-seal-tostring](https://learn.microsoft.com/en-us/dotnet/csharp/whats-new/csharp-10#record-types-can-seal-tostring)    \n",
    ">\n",
    "> [Reference - C#-version-10](https://learn.microsoft.com/en-us/dotnet/csharp/whats-new/csharp-10)  "
   ]
  }
 ],
 "metadata": {
  "language_info": {
   "name": "python"
  },
  "orig_nbformat": 4
 },
 "nbformat": 4,
 "nbformat_minor": 2
}
