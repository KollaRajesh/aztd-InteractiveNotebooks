{
 "cells": [
  {
   "cell_type": "markdown",
   "metadata": {},
   "source": [
    "> ### **Extended Property Patterns** in C#\n",
    ">    Version *C# 10.0*"
   ]
  },
  {
   "cell_type": "markdown",
   "metadata": {},
   "source": [
    "> **Extended Property Patterns**: You can reference nested properties or fields within a property pattern.\n",
    "> \n",
    ">   “Extended property patterns” is a feature introduced in C# 10.0 that allows you to match patterns based on nested properties of an object.\n",
    ">   This feature simplifies the syntax for accessing nested properties, making your code more concise and readable.\n",
    ">\n",
    "In C# 10.0, you can use the dot token to access nested properties directly:\n",
    "\n",
    "\n",
    "\n",
    "Remember, you’ll need to set up your machine to run .NET 6, including the C# 10 compiler. The C# 10 compiler is available starting with Visual Studio 2022 or .NET 6 SDK1."
   ]
  },
  {
   "cell_type": "markdown",
   "metadata": {},
   "source": [
    "> Example :\n",
    ">\n",
    ">Basic Usage In C# 9.0, if you wanted to match a pattern based on a nested property, you would have to use a somewhat verbose syntax  "
   ]
  },
  {
   "cell_type": "code",
   "execution_count": null,
   "metadata": {
    "dotnet_interactive": {
     "language": "csharp"
    },
    "polyglot_notebook": {
     "kernelName": "csharp"
    },
    "vscode": {
     "languageId": "polyglot-notebook"
    }
   },
   "outputs": [],
   "source": [
    "public class Name{\n",
    "  public string FirstName{get;set;}\n",
    "  public string LastName{get;set;}\n",
    "}\n",
    "public class Person{\n",
    "  public Name Name {get;set;}\n",
    "}\n",
    "public class Manager:Person{\n",
    "  public string Dept {get;set;}\n",
    "\n",
    "}\n",
    "public class Developer:Person{\n",
    "  public Manager ReportingTo {get;set;}\n",
    "}\n",
    "\n",
    " object obj =new  Developer(){ Name=new(){FirstName=\"Rob\"}, ReportingTo=  new(){ Name =new(){FirstName=\"Thomas\"}}};\n",
    "\n",
    "if (obj is Developer { ReportingTo: { Name: {FirstName:\"Thomas\"} } } developerWithThomasAsManager) \n",
    "{  \n",
    "  \n",
    "  // Use the developerWithThomasAsManager variable here  \n",
    "  developerWithThomasAsManager.ReportingTo.Name.LastName=\"Clark\";\n",
    "  developerWithThomasAsManager.Display();\n",
    "}\n",
    "\n",
    "\n",
    "//In C# 10.0, you can use the dot token to access nested properties directly:\n",
    "if (obj is Developer { ReportingTo.Name.LastName: \"Clark\" } directDeveloperWithThomasAsManager)  \n",
    "{  \n",
    "  // Use the developerWithThomasAsManager variable here  \n",
    "  directDeveloperWithThomasAsManager.Display();\n",
    "}"
   ]
  },
  {
   "cell_type": "markdown",
   "metadata": {},
   "source": [
    "# Continue learning\n",
    "\n",
    "There are plenty more resources out there to learn!\n",
    "\n",
    "> [⏩ Next Module - Improvements On Lambda Expressions](75.ImprovementsonLambdaExpressions.ipynb)\n",
    ">\n",
    "> [⏪ Last Module - File Scoped Namespace Declaration](73.File-ScopedNamespaceDeclaration.ipynb)\n",
    ">\n",
    "> [Reference - extended-property-patterns](https://learn.microsoft.com/en-us/dotnet/csharp/whats-new/csharp-10#extended-property-patterns)    \n",
    ">\n",
    "> [Reference - C#-version-10](https://learn.microsoft.com/en-us/dotnet/csharp/whats-new/csharp-10)  "
   ]
  }
 ],
 "metadata": {
  "language_info": {
   "name": "python"
  },
  "orig_nbformat": 4
 },
 "nbformat": 4,
 "nbformat_minor": 2
}
