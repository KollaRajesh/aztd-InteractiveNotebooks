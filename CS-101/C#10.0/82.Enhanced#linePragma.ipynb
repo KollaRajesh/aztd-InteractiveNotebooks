{
 "cells": [
  {
   "cell_type": "markdown",
   "metadata": {},
   "source": [
    "> ### **Enhanced #line Pragma** in C#\n",
    ">    Version *C# 10.0*"
   ]
  },
  {
   "cell_type": "markdown",
   "metadata": {},
   "source": [
    "> **Enhanced #line Pragma**: “Enhanced #line pragma” is a new feature introduced in C# 10.0 version. It enables more fine-grained output in domain-specific languages (DSLs) like Razor.  \n",
    "> The Razor engine uses these enhancements to improve the debugging experience ."
   ]
  },
  {
   "cell_type": "code",
   "execution_count": null,
   "metadata": {
    "dotnet_interactive": {
     "language": "csharp"
    },
    "polyglot_notebook": {
     "kernelName": "csharp"
    },
    "vscode": {
     "languageId": "polyglot-notebook"
    }
   },
   "outputs": [],
   "source": [
    "#line (1,10)-(1,15) \"a\"\n",
    "A ();B ();C ();D ();\n",
    "\n",
    "/*In the above example,  the #line pragma is used to specify the mapping between the generated code and the original source code. \n",
    " The #line pragma maps the sequence point emitted by the compiler for the A(), B(), C(), and D() statements\n",
    " to the line 1, columns 10-15 of the original source code.*/\n",
    "\n",
    "//This will work in Razor pages\n"
   ]
  },
  {
   "cell_type": "markdown",
   "metadata": {},
   "source": [
    "# Continue learning\n",
    "\n",
    "There are plenty more resources out there to learn!\n",
    "\n",
    "> [⏩ Next Module - Warning Wave6](83.WarningWave6.ipynb)\n",
    ">\n",
    "> [⏪ Last Module - Caller Argument Expression Attribute](81.CallerArgumentExpressionAttribute.ipynb)\n",
    ">\n",
    "> [Reference - enhanced-line-pragma](https://learn.microsoft.com/en-us/dotnet/csharp/whats-new/csharp-10#enhanced-line-pragma)    \n",
    ">\n",
    "> [Reference - C#-version-10](https://learn.microsoft.com/en-us/dotnet/csharp/whats-new/csharp-10)  "
   ]
  }
 ],
 "metadata": {
  "language_info": {
   "name": "python"
  },
  "orig_nbformat": 4
 },
 "nbformat": 4,
 "nbformat_minor": 2
}
