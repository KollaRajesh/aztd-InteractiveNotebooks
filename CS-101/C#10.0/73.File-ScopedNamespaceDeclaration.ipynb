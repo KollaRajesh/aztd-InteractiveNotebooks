{
 "cells": [
  {
   "cell_type": "markdown",
   "metadata": {},
   "source": [
    "> ### **File-Scoped Namespace Declaration** in C#\n",
    ">    Version *C# 10.0*"
   ]
  },
  {
   "cell_type": "markdown",
   "metadata": {},
   "source": [
    "> **File-Scoped Namespace Declaration**: You can use a new form of the namespace declaration to declare that all declarations that follow are members of the declared namespace.\n",
    ">\n",
    ">    “File-scoped namespace declaration” is a feature introduced in C# 10.0 that allows you to declare a namespace for all types defined in a file.\n",
    ">    This feature reduces the amount of indentation and nesting in your code, making it more readable."
   ]
  },
  {
   "cell_type": "markdown",
   "metadata": {},
   "source": [
    "> Example 1: Basic Usage"
   ]
  },
  {
   "cell_type": "code",
   "execution_count": 1,
   "metadata": {
    "dotnet_interactive": {
     "language": "csharp"
    },
    "polyglot_notebook": {
     "kernelName": "csharp"
    },
    "vscode": {
     "languageId": "polyglot-notebook"
    }
   },
   "outputs": [
    {
     "ename": "Error",
     "evalue": "(1,1): error CS7021: Cannot declare namespace in script code",
     "output_type": "error",
     "traceback": [
      "(1,1): error CS7021: Cannot declare namespace in script code"
     ]
    }
   ],
   "source": [
    "namespace SampleNamespace;// this is syntax but might not be work in notebooks\n",
    "class MyClassA \n",
    "{\n",
    "    // Class A implementation\n",
    "}\n",
    "//In this example, the MyClassA class is defined within the SampleNamespace namespace"
   ]
  },
  {
   "cell_type": "markdown",
   "metadata": {},
   "source": [
    "> Example 2: Multiple Classes in a File"
   ]
  },
  {
   "cell_type": "code",
   "execution_count": 3,
   "metadata": {
    "dotnet_interactive": {
     "language": "csharp"
    },
    "polyglot_notebook": {
     "kernelName": "csharp"
    },
    "vscode": {
     "languageId": "polyglot-notebook"
    }
   },
   "outputs": [
    {
     "ename": "Error",
     "evalue": "(1,1): error CS7021: Cannot declare namespace in script code",
     "output_type": "error",
     "traceback": [
      "(1,1): error CS7021: Cannot declare namespace in script code"
     ]
    }
   ],
   "source": [
    "namespace EmployeeManager.Model;// this is syntax but might not be work in notebooks\n",
    "\n",
    "public class Employee \n",
    "{\n",
    "    public string? FirstName { get; set; }\n",
    "    public DateTime? Birthday { get; set; }\n",
    "}\n",
    "//In this example, the Employee class is defined within the EmployeeManager.Model namespace.\n",
    "// All types in this file, like classes and interfaces, are in the EmployeeManager.Model namespace."
   ]
  },
  {
   "cell_type": "code",
   "execution_count": null,
   "metadata": {
    "dotnet_interactive": {
     "language": "csharp"
    },
    "polyglot_notebook": {
     "kernelName": "csharp"
    },
    "vscode": {
     "languageId": "polyglot-notebook"
    }
   },
   "outputs": [],
   "source": [
    "namespace MyCompany.Project.Model; // this is syntax but might not be work in notebooks\n",
    "public class Employee \n",
    "{\n",
    "    public string? FirstName { get; set; }\n",
    "    public DateTime? Birthday { get; set; }\n",
    "}\n",
    "\n",
    "namespace MyCompany.Project.Services;// this is syntax but might not be work in notebooks\n",
    "public class EmployeeService \n",
    "{\n",
    "    public void SaveEmployee(Employee employee) \n",
    "    {\n",
    "        // Save employee implementation\n",
    "    }\n",
    "}\n",
    "\n",
    "//In this example, the Employee class is defined within the MyCompany.Project.\n",
    "//Model namespace, and the EmployeeService class is defined within the MyCompany.Project.Services namespace."
   ]
  },
  {
   "cell_type": "markdown",
   "metadata": {},
   "source": [
    "# Continue learning\n",
    "\n",
    "There are plenty more resources out there to learn!\n",
    "\n",
    "> [⏩ Next Module - Extended Property Patterns](74.ExtendedPropertyPatterns.ipynb)\n",
    ">\n",
    "> [⏪ Last Module - GlobalUsingDirectives](72.GlobalUsingDirectives.ipynb)\n",
    ">\n",
    "> [Reference - file-scoped-namespace-declaration](https://learn.microsoft.com/en-us/dotnet/csharp/whats-new/csharp-10#file-scoped-namespace-declaration)    \n",
    "> [Reference - C#-version-10](https://learn.microsoft.com/en-us/dotnet/csharp/whats-new/csharp-10)  \n"
   ]
  }
 ],
 "metadata": {
  "language_info": {
   "name": "python"
  },
  "orig_nbformat": 4
 },
 "nbformat": 4,
 "nbformat_minor": 2
}
