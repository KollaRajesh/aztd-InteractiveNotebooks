{
 "cells": [
  {
   "cell_type": "markdown",
   "metadata": {},
   "source": [
    "> ### **Improvements on Lambda Expressions** in C#\n",
    ">    Version *C# 10.0*"
   ]
  },
  {
   "cell_type": "markdown",
   "metadata": {},
   "source": [
    "> **Improvements on Lambda Expressions**: C# 10 introduces several improvements to lambda expressions.   "
   ]
  },
  {
   "cell_type": "code",
   "execution_count": null,
   "metadata": {
    "dotnet_interactive": {
     "language": "csharp"
    },
    "polyglot_notebook": {
     "kernelName": "csharp"
    },
    "vscode": {
     "languageId": "polyglot-notebook"
    }
   },
   "outputs": [],
   "source": []
  },
  {
   "cell_type": "markdown",
   "metadata": {},
   "source": [
    "# Continue learning\n",
    "\n",
    "There are plenty more resources out there to learn!\n",
    "\n",
    "> [⏩ Next Module - Allow Const Interpolated Strings](76.AllowConstInterpolatedStrings.ipynb)\n",
    ">\n",
    "> [⏪ Last Module - Extended Property Patterns](74.ExtendedPropertyPatterns.ipynb)\n",
    ">\n",
    "> [Reference - lambda-expression-improvements](https://learn.microsoft.com/en-us/dotnet/csharp/whats-new/csharp-10#lambda-expression-improvements)    \n",
    ">\n",
    "> [Reference - C#-version-10](https://learn.microsoft.com/en-us/dotnet/csharp/whats-new/csharp-10)  "
   ]
  }
 ],
 "metadata": {
  "language_info": {
   "name": "python"
  },
  "orig_nbformat": 4
 },
 "nbformat": 4,
 "nbformat_minor": 2
}
