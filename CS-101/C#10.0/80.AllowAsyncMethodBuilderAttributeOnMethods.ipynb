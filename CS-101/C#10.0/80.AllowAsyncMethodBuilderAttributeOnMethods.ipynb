{
 "cells": [
  {
   "cell_type": "markdown",
   "metadata": {},
   "source": [
    "> ### **Allow AsyncMethodBuilder Attribute on Methods** in C#\n",
    ">    Version *C# 10.0*"
   ]
  },
  {
   "cell_type": "markdown",
   "metadata": {},
   "source": [
    "> **Allow AsyncMethodBuilder Attribute on Methods**:  “Allow AsyncMethodBuilder Attribute on Methods” is a new feature introduced in C# 10.0 version.\n",
    ">  -  It allows the developer to specify a different async method builder for a single method, in addition to specifying the method builder type for all methods that return a given task-like type ."
   ]
  },
  {
   "cell_type": "code",
   "execution_count": null,
   "metadata": {
    "dotnet_interactive": {
     "language": "csharp"
    },
    "polyglot_notebook": {
     "kernelName": "csharp"
    },
    "vscode": {
     "languageId": "polyglot-notebook"
    }
   },
   "outputs": [],
   "source": [
    "[System.Runtime.CompilerServices.AsyncMethodBuilder(typeof(System.Runtime.CompilerServices.PoolingAsyncValueTaskMethodBuilder<>))]\n",
    "static async ValueTask<int> GetCount()\n",
    "{\n",
    "     \n",
    "      int count = 0;\n",
    "        await Task.Run(() =>\n",
    "        {\n",
    "            for (int i = 0; i < 100; i++)\n",
    "            {\n",
    "                Console.WriteLine($\"GetCount - {i}\" );\n",
    "                count += 1;\n",
    "            }\n",
    "        });\n",
    "        return count;\n",
    "}\n",
    "(await GetCount()).Display();\n",
    "/*In the above example, the GetCount() method is attributed with AsyncMethodBuilder \n",
    "attribute to use PoolingAsyncValueTaskMethodBuilder as the async method builder. \n",
    "This overrides the default async method builder for ValueTask<int> */"
   ]
  },
  {
   "cell_type": "code",
   "execution_count": null,
   "metadata": {
    "dotnet_interactive": {
     "language": "csharp"
    },
    "polyglot_notebook": {
     "kernelName": "csharp"
    },
    "vscode": {
     "languageId": "polyglot-notebook"
    }
   },
   "outputs": [],
   "source": [
    "using System.Runtime.CompilerServices;\n",
    "public sealed class TaskLikeMethodBuilder\n",
    "{\n",
    "    public TaskLikeMethodBuilder()\n",
    "        => Console.WriteLine(\".ctor\");\n",
    " \n",
    "    public static TaskLikeMethodBuilder Create()\n",
    "        => new TaskLikeMethodBuilder();\n",
    " \n",
    "    public void SetResult() => Console.WriteLine(\"SetResult\");\n",
    "\n",
    "    public void SetException(Exception ex) => Console.WriteLine(\"SetException\");\n",
    "\n",
    "    public void SetStateMachine(IAsyncStateMachine stateMachine)=> Console.WriteLine(\"SetStateMachine\");\n",
    "\n",
    "\n",
    "\n",
    " \n",
    "    public void Start<TStateMachine>(ref TStateMachine stateMachine)\n",
    "        where TStateMachine : IAsyncStateMachine\n",
    "    {\n",
    "        Console.WriteLine(\"Start\");\n",
    "        stateMachine.MoveNext();\n",
    "    }\n",
    " \n",
    "    public TaskLike Task => default(TaskLike);\n",
    " \n",
    "\n",
    "      public void AwaitOnCompleted<TAwaiter, TStateMachine>(ref TAwaiter awaiter, ref TStateMachine stateMachine) where TAwaiter : INotifyCompletion where TStateMachine : IAsyncStateMachine\n",
    "      => Console.WriteLine(\"AwaitOnCompleted\");\n",
    "\n",
    "    public void AwaitUnsafeOnCompleted<TAwaiter, TStateMachine>(ref TAwaiter awaiter, ref TStateMachine stateMachine) where TAwaiter : ICriticalNotifyCompletion where TStateMachine : IAsyncStateMachine\n",
    "    => Console.WriteLine(\"AwaitUnsafeOnCompleted\");\n",
    "\n",
    "    // AwaitOnCompleted, AwaitUnsafeOnCompleted, SetException \n",
    "    // and SetStateMachine are empty\n",
    "\n",
    "}\n",
    "\n",
    "[System.Runtime.CompilerServices.AsyncMethodBuilder(typeof(TaskLikeMethodBuilder))]\n",
    "public struct TaskLike\n",
    "{\n",
    "    public TaskLikeAwaiter GetAwaiter() => default(TaskLikeAwaiter);\n",
    "}\n",
    " \n",
    "public struct TaskLikeAwaiter : INotifyCompletion\n",
    "{\n",
    "    public void GetResult() { }\n",
    " \n",
    "    public bool IsCompleted => true;\n",
    " \n",
    "    public void OnCompleted(Action continuation) { }\n",
    "}\n",
    "\n",
    "    public async TaskLike GetTaskLikeAsync()\n",
    "    {\n",
    "        await Task.Yield();\n",
    "        await new TaskLike();\n",
    "    }\n",
    "\n",
    "GetTaskLikeAsync();\n",
    "\n",
    "[System.Runtime.CompilerServices.AsyncMethodBuilder(typeof(TaskLikeMethodBuilder))]\n",
    "static async TaskLike GetCount()\n",
    "{\n",
    "    \n",
    "     int count = 0;\n",
    "        await Task.Run(() =>\n",
    "        {\n",
    "            for (int i = 0; i < 100; i++)\n",
    "            {\n",
    "                count += 1;\n",
    "            }\n",
    "        });\n",
    "          await new TaskLike();\n",
    "}\n",
    "GetCount();\n",
    "\n",
    "/*In the above example, the GetCount() method is attributed with TaskLikeMethodBuilder attribute to use TaskLikeMethodBuilder as the async method builder. \n",
    "This overrides the default async method builder for TaskLike\n",
    "*/"
   ]
  },
  {
   "cell_type": "markdown",
   "metadata": {},
   "source": [
    "# Continue learning\n",
    "\n",
    "There are plenty more resources out there to learn!\n",
    "\n",
    "> [⏩ Next Module - Allow Async Method Builder Attribute On Methods](81.CallerArgumentExpressionAttribute.ipynb)\n",
    ">\n",
    "> [⏪ Last Module - Allow Both Assignment And Declaration In The Same deconstruction](79.AllowBothAssignmentAndDeclarationInTheSame%20deconstruction.ipynb)\n",
    ">\n",
    "> [Reference - allow-asyncmethodbuilder-attribute-on-methods](https://learn.microsoft.com/en-us/dotnet/csharp/whats-new/csharp-10#allow-asyncmethodbuilder-attribute-on-methods)    \n",
    ">\n",
    "> [Reference - C#-version-10](https://learn.microsoft.com/en-us/dotnet/csharp/whats-new/csharp-10)  "
   ]
  }
 ],
 "metadata": {
  "language_info": {
   "name": "python"
  },
  "orig_nbformat": 4
 },
 "nbformat": 4,
 "nbformat_minor": 2
}
