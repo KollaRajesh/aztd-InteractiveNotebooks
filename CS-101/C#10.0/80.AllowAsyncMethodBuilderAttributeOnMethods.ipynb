{
 "cells": [
  {
   "cell_type": "markdown",
   "metadata": {},
   "source": [
    "> ### **Allow AsyncMethodBuilder Attribute on Methods** in C#\n",
    ">    Version *C# 10.0*"
   ]
  },
  {
   "cell_type": "markdown",
   "metadata": {},
   "source": [
    "> **Allow AsyncMethodBuilder Attribute on Methods**: You can now use the AsyncMethodBuilder attribute on methods.   "
   ]
  },
  {
   "cell_type": "code",
   "execution_count": null,
   "metadata": {
    "dotnet_interactive": {
     "language": "csharp"
    },
    "polyglot_notebook": {
     "kernelName": "csharp"
    },
    "vscode": {
     "languageId": "polyglot-notebook"
    }
   },
   "outputs": [],
   "source": []
  },
  {
   "cell_type": "markdown",
   "metadata": {},
   "source": [
    "# Continue learning\n",
    "\n",
    "There are plenty more resources out there to learn!\n",
    "\n",
    "> [⏩ Next Module - Allow Async Method Builder Attribute On Methods](81.CallerArgumentExpressionAttribute.ipynb)\n",
    ">\n",
    "> [⏪ Last Module - Allow Both Assignment And Declaration In The Same deconstruction](79.AllowBothAssignmentAndDeclarationInTheSame%20deconstruction.ipynb)\n",
    ">\n",
    "> [Reference - allow-asyncmethodbuilder-attribute-on-methods](https://learn.microsoft.com/en-us/dotnet/csharp/whats-new/csharp-10#allow-asyncmethodbuilder-attribute-on-methods)    \n",
    ">\n",
    "> [Reference - C#-version-10](https://learn.microsoft.com/en-us/dotnet/csharp/whats-new/csharp-10)  "
   ]
  }
 ],
 "metadata": {
  "language_info": {
   "name": "python"
  },
  "orig_nbformat": 4
 },
 "nbformat": 4,
 "nbformat_minor": 2
}
