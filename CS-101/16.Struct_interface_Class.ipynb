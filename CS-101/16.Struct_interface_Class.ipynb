{
 "cells": [
  {
   "cell_type": "markdown",
   "metadata": {},
   "source": [
    "### Class\n",
    " Classes are the building blocks of object-oriented programming. They encapsulate data and behavior into a single unit.\n",
    "\n",
    "    *Version - C# 1.0*"
   ]
  },
  {
   "cell_type": "code",
   "execution_count": null,
   "metadata": {
    "dotnet_interactive": {
     "language": "csharp"
    },
    "polyglot_notebook": {
     "kernelName": "csharp"
    },
    "vscode": {
     "languageId": "polyglot-notebook"
    }
   },
   "outputs": [],
   "source": [
    "public class Account\n",
    "{\n",
    "    public string Type { get; set; }\n",
    "    public int Number { get; set; }\n",
    "}\n",
    "Account account =new Account();\n",
    "display(account);\n",
    "account.Type=\"Checking\";\n",
    "display(account);\n",
    "account.Number=123141;\n",
    "display(account);"
   ]
  },
  {
   "cell_type": "markdown",
   "metadata": {},
   "source": [
    "### Struct\n",
    "\n",
    "Structs: Structs are value types and can be used to create objects that behave like built-in types.\n",
    "   \n",
    "    *Version - C# 1.0*"
   ]
  },
  {
   "cell_type": "code",
   "execution_count": null,
   "metadata": {
    "dotnet_interactive": {
     "language": "csharp"
    },
    "polyglot_notebook": {
     "kernelName": "csharp"
    },
    "vscode": {
     "languageId": "polyglot-notebook"
    }
   },
   "outputs": [],
   "source": [
    "public struct Coords  \n",
    "{ \n",
    "    public Coords(double x, double y) \n",
    "    { \n",
    "        X = x;  \n",
    "        Y = y;  \n",
    "    } \n",
    "\n",
    "    public double X { get; } \n",
    "    public double Y { get; } \n",
    "\n",
    "    public override string ToString() => $\" ({X}, {Y})\"; \n",
    "} \n",
    "\n",
    "Coords myCoords = new Coords(1.0, 2.0);\n",
    "display (myCoords);\n",
    "\n",
    "double x = myCoords.X;\n",
    "display($\"x value: {x}\");\n",
    "\n",
    "double y = myCoords.Y;\n",
    "display($\"y value: {y}\");"
   ]
  },
  {
   "cell_type": "markdown",
   "metadata": {},
   "source": [
    "### Another example for Struct\n",
    "\n",
    "    *Version - C# 1.0*"
   ]
  },
  {
   "cell_type": "code",
   "execution_count": null,
   "metadata": {
    "dotnet_interactive": {
     "language": "csharp"
    },
    "polyglot_notebook": {
     "kernelName": "csharp"
    },
    "vscode": {
     "languageId": "polyglot-notebook"
    }
   },
   "outputs": [],
   "source": [
    "public readonly  struct Measurement\n",
    "{\n",
    "    public Measurement(double value)\n",
    "    {\n",
    "        Value = value;\n",
    "    }\n",
    "\n",
    "    public Measurement(double value, string description)\n",
    "    {\n",
    "        Value = value;\n",
    "        Description = description;\n",
    "    }\n",
    "\n",
    "    public Measurement(string description)\n",
    "    {\n",
    "        Description = description;\n",
    "    }\n",
    "\n",
    "    public double Value { get; init; }\n",
    "    public string Description { get; init; } = \"Ordinary measurement\";\n",
    "\n",
    "    public override string ToString() => $\"{Value} ({Description})\";\n",
    "}\n",
    "\n",
    "  var m1 = new Measurement(5);\n",
    "    Console.WriteLine(m1);  // output: 5 (Ordinary measurement)\n",
    "\n",
    "    var m2 = new Measurement();\n",
    "    Console.WriteLine(m2);  // output: 0 ()\n",
    "\n",
    "    var m3 = default(Measurement);\n",
    "    Console.WriteLine(m3);  // output: 0 ()"
   ]
  },
  {
   "cell_type": "markdown",
   "metadata": {},
   "source": [
    "### Interface\n",
    "Interfaces: Interfaces define a contract for classes and structs. They can contain methods, properties, events, and indexers.\n",
    "\n",
    "    *Version - C# 1.0*"
   ]
  },
  {
   "cell_type": "code",
   "execution_count": null,
   "metadata": {
    "dotnet_interactive": {
     "language": "csharp"
    },
    "polyglot_notebook": {
     "kernelName": "csharp"
    },
    "vscode": {
     "languageId": "polyglot-notebook"
    }
   },
   "outputs": [],
   "source": [
    "interface IPolygon \n",
    "{ \n",
    "    void calculateArea(int l, int b); \n",
    "} \n",
    "\n",
    "class Rectangle : IPolygon \n",
    "{ \n",
    "    public void calculateArea(int l, int b) \n",
    "    { \n",
    "        int area = l * b; \n",
    "        Console.WriteLine(\"Area of Rectangle: \" + area); \n",
    "    } \n",
    "} \n",
    "\n",
    "IPolygon r = new Rectangle(); \n",
    "r.calculateArea(10, 20);"
   ]
  },
  {
   "cell_type": "markdown",
   "metadata": {},
   "source": [
    "Delegates: Delegates are type-safe function pointers. They can reference a method that has the same return type and parameters.  \n",
    "\n",
    "    *Version - C# 1.0*"
   ]
  },
  {
   "cell_type": "code",
   "execution_count": 2,
   "metadata": {
    "dotnet_interactive": {
     "language": "csharp"
    },
    "polyglot_notebook": {
     "kernelName": "csharp"
    },
    "vscode": {
     "languageId": "polyglot-notebook"
    }
   },
   "outputs": [
    {
     "name": "stdout",
     "output_type": "stream",
     "text": [
      "Hello World\r\n"
     ]
    }
   ],
   "source": [
    "public delegate void Callback(string message);\n",
    " void DisplayMessage(string message){Console.WriteLine(message);}\n",
    "\n",
    " Callback handler = new Callback(DisplayMessage);\n",
    "\n",
    "handler(\"Hello World\");"
   ]
  }
 ],
 "metadata": {
  "language_info": {
   "name": "python"
  },
  "orig_nbformat": 4
 },
 "nbformat": 4,
 "nbformat_minor": 2
}
