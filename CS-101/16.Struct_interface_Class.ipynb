{
 "cells": [
  {
   "cell_type": "markdown",
   "metadata": {},
   "source": [
    "### Class\n",
    " Classes are the building blocks of object-oriented programming. They encapsulate data and behavior into a single unit."
   ]
  },
  {
   "cell_type": "code",
   "execution_count": 9,
   "metadata": {
    "vscode": {
     "languageId": "polyglot-notebook"
    }
   },
   "outputs": [
    {
     "data": {
      "text/html": [
       "<details open=\"open\" class=\"dni-treeview\"><summary><span class=\"dni-code-hint\"><code>Submission#10+Account</code></span></summary><div><table><thead><tr></tr></thead><tbody><tr><td>Type</td><td><div class=\"dni-plaintext\"><pre>&lt;null&gt;</pre></div></td></tr><tr><td>Number</td><td><div class=\"dni-plaintext\"><pre>0</pre></div></td></tr></tbody></table></div></details><style>\r\n",
       ".dni-code-hint {\r\n",
       "    font-style: italic;\r\n",
       "    overflow: hidden;\r\n",
       "    white-space: nowrap;\r\n",
       "}\r\n",
       ".dni-treeview {\r\n",
       "    white-space: nowrap;\r\n",
       "}\r\n",
       ".dni-treeview td {\r\n",
       "    vertical-align: top;\r\n",
       "    text-align: start;\r\n",
       "}\r\n",
       "details.dni-treeview {\r\n",
       "    padding-left: 1em;\r\n",
       "}\r\n",
       "table td {\r\n",
       "    text-align: start;\r\n",
       "}\r\n",
       "table tr { \r\n",
       "    vertical-align: top; \r\n",
       "    margin: 0em 0px;\r\n",
       "}\r\n",
       "table tr td pre \r\n",
       "{ \r\n",
       "    vertical-align: top !important; \r\n",
       "    margin: 0em 0px !important;\r\n",
       "} \r\n",
       "table th {\r\n",
       "    text-align: start;\r\n",
       "}\r\n",
       "</style>"
      ]
     },
     "metadata": {},
     "output_type": "display_data"
    },
    {
     "data": {
      "text/html": [
       "<details open=\"open\" class=\"dni-treeview\"><summary><span class=\"dni-code-hint\"><code>Submission#10+Account</code></span></summary><div><table><thead><tr></tr></thead><tbody><tr><td>Type</td><td><div class=\"dni-plaintext\"><pre>Checking</pre></div></td></tr><tr><td>Number</td><td><div class=\"dni-plaintext\"><pre>0</pre></div></td></tr></tbody></table></div></details><style>\r\n",
       ".dni-code-hint {\r\n",
       "    font-style: italic;\r\n",
       "    overflow: hidden;\r\n",
       "    white-space: nowrap;\r\n",
       "}\r\n",
       ".dni-treeview {\r\n",
       "    white-space: nowrap;\r\n",
       "}\r\n",
       ".dni-treeview td {\r\n",
       "    vertical-align: top;\r\n",
       "    text-align: start;\r\n",
       "}\r\n",
       "details.dni-treeview {\r\n",
       "    padding-left: 1em;\r\n",
       "}\r\n",
       "table td {\r\n",
       "    text-align: start;\r\n",
       "}\r\n",
       "table tr { \r\n",
       "    vertical-align: top; \r\n",
       "    margin: 0em 0px;\r\n",
       "}\r\n",
       "table tr td pre \r\n",
       "{ \r\n",
       "    vertical-align: top !important; \r\n",
       "    margin: 0em 0px !important;\r\n",
       "} \r\n",
       "table th {\r\n",
       "    text-align: start;\r\n",
       "}\r\n",
       "</style>"
      ]
     },
     "metadata": {},
     "output_type": "display_data"
    },
    {
     "data": {
      "text/html": [
       "<details open=\"open\" class=\"dni-treeview\"><summary><span class=\"dni-code-hint\"><code>Submission#10+Account</code></span></summary><div><table><thead><tr></tr></thead><tbody><tr><td>Type</td><td><div class=\"dni-plaintext\"><pre>Checking</pre></div></td></tr><tr><td>Number</td><td><div class=\"dni-plaintext\"><pre>123141</pre></div></td></tr></tbody></table></div></details><style>\r\n",
       ".dni-code-hint {\r\n",
       "    font-style: italic;\r\n",
       "    overflow: hidden;\r\n",
       "    white-space: nowrap;\r\n",
       "}\r\n",
       ".dni-treeview {\r\n",
       "    white-space: nowrap;\r\n",
       "}\r\n",
       ".dni-treeview td {\r\n",
       "    vertical-align: top;\r\n",
       "    text-align: start;\r\n",
       "}\r\n",
       "details.dni-treeview {\r\n",
       "    padding-left: 1em;\r\n",
       "}\r\n",
       "table td {\r\n",
       "    text-align: start;\r\n",
       "}\r\n",
       "table tr { \r\n",
       "    vertical-align: top; \r\n",
       "    margin: 0em 0px;\r\n",
       "}\r\n",
       "table tr td pre \r\n",
       "{ \r\n",
       "    vertical-align: top !important; \r\n",
       "    margin: 0em 0px !important;\r\n",
       "} \r\n",
       "table th {\r\n",
       "    text-align: start;\r\n",
       "}\r\n",
       "</style>"
      ]
     },
     "metadata": {},
     "output_type": "display_data"
    }
   ],
   "source": [
    "public class Account\n",
    "{\n",
    "    public string Type { get; set; }\n",
    "    public int Number { get; set; }\n",
    "}\n",
    "Account account =new Account();\n",
    "display(account);\n",
    "account.Type=\"Checking\";\n",
    "display(account);\n",
    "account.Number=123141;\n",
    "display(account);"
   ]
  },
  {
   "cell_type": "markdown",
   "metadata": {},
   "source": [
    "### Struct\n",
    "\n",
    "Structs: Structs are value types and can be used to create objects that behave like built-in types."
   ]
  },
  {
   "cell_type": "code",
   "execution_count": 16,
   "metadata": {
    "vscode": {
     "languageId": "polyglot-notebook"
    }
   },
   "outputs": [
    {
     "data": {
      "text/html": [
       "<details open=\"open\" class=\"dni-treeview\"><summary><span class=\"dni-code-hint\"><code>(1, 2)</code></span></summary><div><table><thead><tr></tr></thead><tbody><tr><td>X</td><td><div class=\"dni-plaintext\"><pre>1</pre></div></td></tr><tr><td>Y</td><td><div class=\"dni-plaintext\"><pre>2</pre></div></td></tr></tbody></table></div></details><style>\r\n",
       ".dni-code-hint {\r\n",
       "    font-style: italic;\r\n",
       "    overflow: hidden;\r\n",
       "    white-space: nowrap;\r\n",
       "}\r\n",
       ".dni-treeview {\r\n",
       "    white-space: nowrap;\r\n",
       "}\r\n",
       ".dni-treeview td {\r\n",
       "    vertical-align: top;\r\n",
       "    text-align: start;\r\n",
       "}\r\n",
       "details.dni-treeview {\r\n",
       "    padding-left: 1em;\r\n",
       "}\r\n",
       "table td {\r\n",
       "    text-align: start;\r\n",
       "}\r\n",
       "table tr { \r\n",
       "    vertical-align: top; \r\n",
       "    margin: 0em 0px;\r\n",
       "}\r\n",
       "table tr td pre \r\n",
       "{ \r\n",
       "    vertical-align: top !important; \r\n",
       "    margin: 0em 0px !important;\r\n",
       "} \r\n",
       "table th {\r\n",
       "    text-align: start;\r\n",
       "}\r\n",
       "</style>"
      ]
     },
     "metadata": {},
     "output_type": "display_data"
    },
    {
     "data": {
      "text/plain": [
       "x value: 1"
      ]
     },
     "metadata": {},
     "output_type": "display_data"
    },
    {
     "data": {
      "text/plain": [
       "y value: 2"
      ]
     },
     "metadata": {},
     "output_type": "display_data"
    }
   ],
   "source": [
    "public struct Coords  \n",
    "{ \n",
    "    public Coords(double x, double y) \n",
    "    { \n",
    "        X = x;  \n",
    "        Y = y;  \n",
    "    } \n",
    "\n",
    "    public double X { get; } \n",
    "    public double Y { get; } \n",
    "\n",
    "    public override string ToString() => $\" ({X}, {Y})\"; \n",
    "} \n",
    "\n",
    "Coords myCoords = new Coords(1.0, 2.0);\n",
    "display (myCoords);\n",
    "\n",
    "double x = myCoords.X;\n",
    "display($\"x value: {x}\");\n",
    "\n",
    "double y = myCoords.Y;\n",
    "display($\"y value: {y}\");"
   ]
  },
  {
   "cell_type": "markdown",
   "metadata": {},
   "source": [
    "Another example for "
   ]
  },
  {
   "cell_type": "code",
   "execution_count": 21,
   "metadata": {
    "dotnet_interactive": {
     "language": "csharp"
    },
    "polyglot_notebook": {
     "kernelName": "csharp"
    },
    "vscode": {
     "languageId": "polyglot-notebook"
    }
   },
   "outputs": [
    {
     "name": "stdout",
     "output_type": "stream",
     "text": [
      "5 (Ordinary measurement)\n",
      "0 ()\n",
      "0 ()\n"
     ]
    }
   ],
   "source": [
    "public readonly  struct Measurement\n",
    "{\n",
    "    public Measurement(double value)\n",
    "    {\n",
    "        Value = value;\n",
    "    }\n",
    "\n",
    "    public Measurement(double value, string description)\n",
    "    {\n",
    "        Value = value;\n",
    "        Description = description;\n",
    "    }\n",
    "\n",
    "    public Measurement(string description)\n",
    "    {\n",
    "        Description = description;\n",
    "    }\n",
    "\n",
    "    public double Value { get; init; }\n",
    "    public string Description { get; init; } = \"Ordinary measurement\";\n",
    "\n",
    "    public override string ToString() => $\"{Value} ({Description})\";\n",
    "}\n",
    "\n",
    "  var m1 = new Measurement(5);\n",
    "    Console.WriteLine(m1);  // output: 5 (Ordinary measurement)\n",
    "\n",
    "    var m2 = new Measurement();\n",
    "    Console.WriteLine(m2);  // output: 0 ()\n",
    "\n",
    "    var m3 = default(Measurement);\n",
    "    Console.WriteLine(m3);  // output: 0 ()"
   ]
  },
  {
   "cell_type": "markdown",
   "metadata": {},
   "source": [
    "### Interface\n",
    "Interfaces: Interfaces define a contract for classes and structs. They can contain methods, properties, events, and indexers."
   ]
  },
  {
   "cell_type": "code",
   "execution_count": 25,
   "metadata": {
    "vscode": {
     "languageId": "polyglot-notebook"
    }
   },
   "outputs": [
    {
     "name": "stdout",
     "output_type": "stream",
     "text": [
      "Area of Rectangle: 200\r\n"
     ]
    }
   ],
   "source": [
    "interface IPolygon \n",
    "{ \n",
    "    void calculateArea(int l, int b); \n",
    "} \n",
    "\n",
    "class Rectangle : IPolygon \n",
    "{ \n",
    "    public void calculateArea(int l, int b) \n",
    "    { \n",
    "        int area = l * b; \n",
    "        Console.WriteLine(\"Area of Rectangle: \" + area); \n",
    "    } \n",
    "} \n",
    "\n",
    "IPolygon r = new Rectangle(); \n",
    "r.calculateArea(10, 20);"
   ]
  }
 ],
 "metadata": {
  "language_info": {
   "name": "python"
  },
  "orig_nbformat": 4
 },
 "nbformat": 4,
 "nbformat_minor": 2
}
