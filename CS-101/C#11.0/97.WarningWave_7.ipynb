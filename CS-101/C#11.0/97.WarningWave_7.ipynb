{
 "cells": [
  {
   "cell_type": "markdown",
   "metadata": {},
   "source": [
    "> ### **Warning wave 7** in C#\n",
    ">    Version *C# 11.0*"
   ]
  },
  {
   "cell_type": "markdown",
   "metadata": {},
   "source": [
    ">  - **Warning wave 7** :  “Warning wave 7” is a feature in C#11 that introduces new warnings and errors to the C# compiler.   \n",
    ">   These warnings are enabled using the AnalysisLevel element in your project file.\n",
    "\n",
    "```csharp\n",
    "    // CS8981 - The type name only contains lower-cased ascii characters.\n",
    "    public class lowercasename { }\n",
    "```"
   ]
  },
  {
   "cell_type": "markdown",
   "metadata": {},
   "source": [
    "# Continue learning\n",
    "\n",
    "There are plenty more resources out there to learn!\n",
    "\n",
    "> [⏩ Next Module - ]()\n",
    ">\n",
    "> [⏪ Last Module - Improved Method Group Conversion To Delegate](96.ImprovedMethodGroupConversionToDelegate.ipynb)\n",
    ">\n",
    "> [Reference - warnings wave](https://learn.microsoft.com/en-us/dotnet/csharp/language-reference/compiler-messages/warning-waves#cs8981---the-type-name-only-contains-lower-cased-ascii-characters)    \n",
    ">\n",
    "> [Reference - C#-version-11](https://learn.microsoft.com/en-us/dotnet/csharp/whats-new/csharp-11)  "
   ]
  }
 ],
 "metadata": {
  "language_info": {
   "name": "python"
  },
  "orig_nbformat": 4
 },
 "nbformat": 4,
 "nbformat_minor": 2
}
