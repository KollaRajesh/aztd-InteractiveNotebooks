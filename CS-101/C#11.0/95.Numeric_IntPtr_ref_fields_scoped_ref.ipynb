{
 "cells": [
  {
   "cell_type": "markdown",
   "metadata": {},
   "source": [
    "> ### **Numeric IntPtr, ref fields, and scoped ref** in C#\n",
    ">    Version *C# 11.0*"
   ]
  },
  {
   "cell_type": "markdown",
   "metadata": {},
   "source": [
    ">  - *Numeric IntPtr, ref fields, and scoped ref*: This feature introduces numeric IntPtr and UIntPtr, ref fields, and scoped ref."
   ]
  },
  {
   "cell_type": "markdown",
   "metadata": {},
   "source": [
    "# Continue learning\n",
    "\n",
    "There are plenty more resources out there to learn!\n",
    "\n",
    "> [⏩ Next Module - Improved Method Group Conversion To Delegate](96.ImprovedMethodGroupConversionToDelegate.ipynb)\n",
    ">\n",
    "> [⏪ Last Module - Extended nameof scope](94.Extended_nameof_scope.ipynb)\n",
    ">\n",
    "> [Reference - raw-string-literals](https://learn.microsoft.com/en-us/dotnet/csharp/whats-new/csharp-11#raw-string-literals)    \n",
    ">\n",
    "> [Reference - C#-version-11](https://learn.microsoft.com/en-us/dotnet/csharp/whats-new/csharp-11)  "
   ]
  }
 ],
 "metadata": {
  "language_info": {
   "name": "python"
  },
  "orig_nbformat": 4
 },
 "nbformat": 4,
 "nbformat_minor": 2
}
