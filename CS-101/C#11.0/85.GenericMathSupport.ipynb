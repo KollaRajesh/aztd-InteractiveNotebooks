{
 "cells": [
  {
   "cell_type": "markdown",
   "metadata": {},
   "source": [
    "> ### **Generic math support** in C#\n",
    ">    Version *C# 11.0*"
   ]
  },
  {
   "cell_type": "markdown",
   "metadata": {},
   "source": [
    ">  - *Generic math support*: The “Generic Math Support” feature in C# 11 is a significant enhancement that allows you to perform mathematical operations generically,\n",
    " without having to know the exact type you’re working with.  \n",
    ">\n",
    ">  - This feature is also known as abstracting over static members."
   ]
  },
  {
   "cell_type": "markdown",
   "metadata": {},
   "source": [
    ">  Before C# 11, if you wanted to write a method that adds two numbers, you had to add an overload of the method for each type (for example, static int Add (int first, int second) and static float Add (float first, float second)).    \n",
    " > But with C# 11, you can write a single, generic method, where the type parameter is constrained to be a number-like type1."
   ]
  },
  {
   "cell_type": "markdown",
   "metadata": {},
   "source": [
    ">The interfaces in System.Numerics that describe number-like types and the functionality available to them.  \n",
    ">\n",
    "> |Interface name\t|Description|\n",
    "> |---|---|\n",
    "> |IBinaryFloatingPointIeee754<TSelf>\t| Exposes APIs common to binary floating-point types that implement the IEEE 754 standard.|\n",
    "> |IBinaryInteger<TSelf>\t| Exposes APIs common to binary integers.|\n",
    "> |IBinaryNumber<TSelf>\t| \tExposes APIs common to binary numbers.|\n",
    "> |IFloatingPoint<TSelf>\t\t| Exposes APIs common to floating-point types.|\n",
    "> |IFloatingPointIeee754<TSelf>\t\t| Exposes APIs common to floating-point types that implement the IEEE 754 standard.|\n",
    "> |INumber<TSelf>\t\t| Exposes APIs common to comparable number types (effectively the “real” number domain).|\n",
    "> |INumberBase<TSelf>\t| \tExposes APIs common to all number types (effectively the “complex” number domain).|\n",
    "> |ISignedNumber<TSelf>\t| \tExposes APIs common to all signed number types (such as the concept of NegativeOne).|\n",
    "> |IUnsignedNumber<TSelf>\t| \tExposes APIs common to all unsigned number types.|\n",
    "> |IAdditiveIdentity<TSelf,TResult>\t| \tExposes the concept of (x + T.AdditiveIdentity) == x.|\n",
    "> |IMinMaxValue<TSelf>\t\t| Exposes the concept of T.MinValue and T.MaxValue.|\n",
    "> |IMultiplicativeIdentity<TSelf,TResult>\t| \tExposes the concept of (x * T.MultiplicativeIdentity) == x.|"
   ]
  },
  {
   "cell_type": "code",
   "execution_count": null,
   "metadata": {
    "dotnet_interactive": {
     "language": "csharp"
    },
    "polyglot_notebook": {
     "kernelName": "csharp"
    },
    "vscode": {
     "languageId": "polyglot-notebook"
    }
   },
   "outputs": [],
   "source": [
    "using System.Numerics;\n",
    "\n",
    "//Example :1\n",
    "static T Add<T> (T left, T right) where T :  INumber<T>\n",
    "{\n",
    "    return left + right;\n",
    "}\n",
    "\n",
    "$\"Add:{Add(1,2)}\".Display();\n",
    "$\"Add:{Add(1.23,2.32)}\".Display();\n",
    "\n",
    "\n",
    "//Example :2\n",
    "static T Multiply<T> (T left, T right) where T : INumber<T>\n",
    "{\n",
    "    return left * right;\n",
    "}\n",
    "$\"Multiply:{Multiply(1,2)}\".Display();\n",
    "$\"Multiply:{Multiply(1.23,2.32)}\".Display();\n"
   ]
  },
  {
   "cell_type": "markdown",
   "metadata": {},
   "source": [
    "# Continue learning\n",
    "\n",
    "There are plenty more resources out there to learn!\n",
    "\n",
    "> [⏩ Next Module - Generic Attributes](86.GenericAttributes.ipynb)\n",
    ">\n",
    "> [⏪ Last Module - RawString Literals](84.RawStringLiterals.ipynb)\n",
    ">\n",
    "> [Reference - generic-math-support](https://learn.microsoft.com/en-us/dotnet/csharp/whats-new/csharp-11#generic-math-support)    \n",
    ">\n",
    "> [Reference - C#-version-11](https://learn.microsoft.com/en-us/dotnet/csharp/whats-new/csharp-11)  "
   ]
  }
 ],
 "metadata": {
  "language_info": {
   "name": "python"
  },
  "orig_nbformat": 4
 },
 "nbformat": 4,
 "nbformat_minor": 2
}
