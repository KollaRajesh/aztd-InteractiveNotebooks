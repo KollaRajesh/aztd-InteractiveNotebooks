{
 "cells": [
  {
   "cell_type": "markdown",
   "metadata": {},
   "source": [
    "> ### **Generic attributes** in C#\n",
    ">    Version *C# 11.0*"
   ]
  },
  {
   "cell_type": "markdown",
   "metadata": {},
   "source": [
    ">  - *Generic attributes* : the “Generic Attributes” feature in C# 11 is a significant enhancement that allows you to declare a generic class whose base class is System.Attribute.  \n",
    ">  -  This feature provides a more convenient syntax for attributes that require a System.Type parameter. \n",
    "\n",
    "Before C# 11, if you wanted to create an attribute that takes a Type as its constructor parameter, you would need to do something like this:"
   ]
  },
  {
   "cell_type": "code",
   "execution_count": 7,
   "metadata": {
    "dotnet_interactive": {
     "language": "csharp"
    },
    "polyglot_notebook": {
     "kernelName": "csharp"
    },
    "vscode": {
     "languageId": "polyglot-notebook"
    }
   },
   "outputs": [
    {
     "name": "stdout",
     "output_type": "stream",
     "text": [
      "Toyota Camry car with 2020 model is in good condition\n",
      "Toyota Camry car with 1999 model is not in good condition with Invalid year: 1999\n",
      "Honda CRV car with 2010 model is not in good condition with Invalid year: 2010\n"
     ]
    }
   ],
   "source": [
    "[AttributeUsage(AttributeTargets.Class)]\n",
    "public class VehicleValidatorAttribute<T> : Attribute where T : class\n",
    "{\n",
    "}\n",
    "\n",
    "public interface IVehicleValidator<T> where T : class\n",
    "{\n",
    "    bool IsValid(T vehicle);\n",
    "}\n",
    "\n",
    "public class CarValidator : IVehicleValidator<Car>\n",
    "{\n",
    "    public bool IsValid(Car car)\n",
    "    {\n",
    "        // Validation logic\n",
    "        if (DateTime.Now.Year - car.Year > 10)\n",
    "        {\n",
    "            Console.WriteLine($\"{car.Make} {car.Model} {nameof(car)} with {car.Year} model is not in good condition with Invalid year: {car.Year}\");\n",
    "            return false;\n",
    "        }\n",
    "        if ( car.Mileage > 100000)\n",
    "        {\n",
    "            Console.WriteLine($\"{car.Make} {car.Model} {nameof(car)} with {car.Year} model is not in good condition with Invalid mileage: {car.Mileage}\");\n",
    "            return false;\n",
    "        }\n",
    "\n",
    "        Console.WriteLine($\"{car.Make} {car.Model} {nameof(car)} with {car.Year} model is in good condition\");\n",
    "        return true;\n",
    "\n",
    "    }\n",
    "}\n",
    "\n",
    "[VehicleValidator<CarValidator>]\n",
    "public class Car\n",
    "{\n",
    "     public string Make { get; set; }\n",
    "     public string Model { get; set; }\n",
    "     public int Year { get; set; }\n",
    "     public int Mileage { get; set; }\n",
    "}\n",
    "\n",
    "\n",
    "static void ValidateVehicle<T>(T vehicle) where T:class \n",
    "{\n",
    "    var attributes = vehicle.GetType().GetCustomAttributes(typeof(VehicleValidatorAttribute<>), inherit: false);\n",
    "\n",
    "    if (attributes.Length == 1  && attributes[0].GetType().GetGenericTypeDefinition() == typeof(VehicleValidatorAttribute<>))\n",
    "    {\n",
    "        var vehicleValidatorType = attributes[0].GetType().GetGenericArguments()[0];\n",
    "        var vehicleValidator = Activator.CreateInstance(vehicleValidatorType) as IVehicleValidator<T>;\n",
    "        if (vehicleValidator is not null)\n",
    "        {\n",
    "            vehicleValidator.IsValid(vehicle);\n",
    "        }\n",
    "    }\n",
    "\n",
    "}\n",
    "\n",
    "Car camry2020 =new(){Make=\"Toyota\",Model= \"Camry\",Year= 2020,Mileage= 5000};\n",
    "Car camry1999 =new(){Make=\"Toyota\",Model= \"Camry\",Year= 1999,Mileage= 1000000};\n",
    "Car crv2010 =new(){Make=\"Honda\",Model= \"CRV\",Year= 2010,Mileage= 50000};\n",
    "\n",
    "ValidateVehicle(camry2020);\n",
    "ValidateVehicle(camry1999);\n",
    "ValidateVehicle(crv2010);\n"
   ]
  },
  {
   "cell_type": "code",
   "execution_count": null,
   "metadata": {
    "dotnet_interactive": {
     "language": "csharp"
    },
    "polyglot_notebook": {
     "kernelName": "csharp"
    },
    "vscode": {
     "languageId": "polyglot-notebook"
    }
   },
   "outputs": [],
   "source": [
    "var person = new Person { FirstName = \"Thomas\", LastName = \"Huber\" };\n",
    "var address = new Address { City = \"Frankfurt\" };\n",
    "var department = new Department { Name = \"Marketing\" };\n",
    "\n",
    "WriteObjectToConsole(person);\n",
    "WriteObjectToConsole(address);\n",
    "WriteObjectToConsole(department);\n",
    "\n",
    "\n",
    "[ConsoleWriter<PersonConsoleWriter>]\n",
    "public class Person\n",
    "{\n",
    "    public string? FirstName { get; set; }\n",
    "    public string? LastName { get; set; }\n",
    "}\n",
    "\n",
    "[ConsoleWriter<AddressConsoleWriter>]\n",
    "public class Address\n",
    "{\n",
    "    public string? City { get; set; }\n",
    "}\n",
    "\n",
    "[ConsoleWriter<DepartmentConsoleWriter>]\n",
    "public class Department\n",
    "{\n",
    "    public string? Name { get; set; }\n",
    "}\n",
    "\n",
    "\n",
    "[AttributeUsage(AttributeTargets.Class, AllowMultiple = false)]\n",
    "public class ConsoleWriterAttribute<T> : Attribute where T : class { }\n",
    "\n",
    "public interface IConsoleWriter<T> where  T:class\n",
    "{\n",
    "    void Write(T obj);\n",
    "}\n",
    "\n",
    "\n",
    "public class PersonConsoleWriter : IConsoleWriter<Person>\n",
    "{\n",
    "    public void Write(Person person) =>Console.WriteLine($\"Person => FirstName:{person.FirstName} LastName:{person.LastName}\");\n",
    "}\n",
    "\n",
    "public class AddressConsoleWriter : IConsoleWriter<Address>\n",
    "{\n",
    "    public void Write(Address address) => Console.WriteLine($\"Address => City:{address.City}\");\n",
    "}\n",
    "\n",
    "public class DepartmentConsoleWriter : IConsoleWriter<Department>\n",
    "{\n",
    "    public void Write(Department department) =>   Console.WriteLine($\"Department => Name:{department.Name}\");\n",
    "}\n",
    "\n",
    "static void WriteObjectToConsole<T>(T obj) where T:class\n",
    "{\n",
    "    var wasWritten = false;\n",
    "    var attributes = obj.GetType().GetCustomAttributes(typeof(ConsoleWriterAttribute<>), inherit: false);\n",
    "\n",
    "    if (attributes.Length == 1  && attributes[0].GetType().GetGenericTypeDefinition() == typeof(ConsoleWriterAttribute<>))\n",
    "    {\n",
    "        var consoleWriterType = attributes[0].GetType().GetGenericArguments()[0];\n",
    "        var consoleWriter = Activator.CreateInstance(consoleWriterType) as IConsoleWriter<T>;\n",
    "        if (consoleWriter is not null)\n",
    "        {\n",
    "            consoleWriter.Write(obj);\n",
    "            wasWritten = true;\n",
    "        }\n",
    "    }\n",
    "\n",
    "    if (!wasWritten)\n",
    "    {\n",
    "        Console.WriteLine(obj);\n",
    "    }\n",
    "}\n",
    "\n"
   ]
  },
  {
   "cell_type": "markdown",
   "metadata": {},
   "source": [
    "# Continue learning\n",
    "\n",
    "There are plenty more resources out there to learn!\n",
    "\n",
    "> [⏩ Next Module - UTF-8 String Literals](87.UTF-8StringLiterals.ipynb)\n",
    ">\n",
    "> [⏪ Last Module - Generic Math Support](85.GenericMathSupport.ipynb)\n",
    ">\n",
    "> [Reference - Generic-attributes](https://learn.microsoft.com/en-us/dotnet/csharp/whats-new/csharp-11#generic-attributes)    \n",
    ">\n",
    "> [Reference - C#-version-11](https://learn.microsoft.com/en-us/dotnet/csharp/whats-new/csharp-11)  "
   ]
  }
 ],
 "metadata": {
  "language_info": {
   "name": "python"
  },
  "orig_nbformat": 4
 },
 "nbformat": 4,
 "nbformat_minor": 2
}
