{
 "cells": [
  {
   "cell_type": "markdown",
   "metadata": {},
   "source": [
    "> ### **UTF-8 string literals** in C#\n",
    ">    Version *C# 11.0*"
   ]
  },
  {
   "cell_type": "markdown",
   "metadata": {},
   "source": [
    ">  - *UTF-8 string literals* : This feature allows you to create UTF-8 string literals.  "
   ]
  },
  {
   "cell_type": "markdown",
   "metadata": {},
   "source": [
    "# Continue learning\n",
    "\n",
    "There are plenty more resources out there to learn!\n",
    "\n",
    "> [⏩ Next Module - New Lines In StringInterpolation Expression](88.NewLinesInStringInterpolationExpression.ipynb)\n",
    ">\n",
    "> [⏪ Last Module - Generic Attributes](86.GenericAttributes.ipynb)\n",
    ">\n",
    "> [Reference - raw-string-literals](https://learn.microsoft.com/en-us/dotnet/csharp/whats-new/csharp-11#raw-string-literals)    \n",
    ">\n",
    "> [Reference - C#-version-11](https://learn.microsoft.com/en-us/dotnet/csharp/whats-new/csharp-11)  "
   ]
  }
 ],
 "metadata": {
  "language_info": {
   "name": "python"
  },
  "orig_nbformat": 4
 },
 "nbformat": 4,
 "nbformat_minor": 2
}
