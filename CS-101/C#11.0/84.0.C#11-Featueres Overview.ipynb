{
 "cells": [
  {
   "cell_type": "markdown",
   "metadata": {},
   "source": [
    "> #### Overview of C#11.0 features \n",
    ">\n",
    "> C# 11.0, supported on .NET 7 and Visual Studio 2022, introduced several new features and enhancements to the C# language.    \n",
    ">  \n",
    "> Here are some of the key features:  \n",
    ">\n",
    ">   - *Raw string literals*: This feature allows you to create strings that don’t recognize escape sequences.\n",
    ">\n",
    ">  - *Generic math support*: This feature includes static virtual members in interfaces, checked user-defined operators, relaxed shift operators, and an unsigned right-shift operator.  \n",
    ">\n",
    ">  - *Generic attributes*: You can now declare a generic class whose base class is System.Attribute. This provides a more convenient syntax for attributes that require a System.Type parameter.\n",
    ">\n",
    ">  - *UTF-8 string literals* : This feature allows you to create UTF-8 string literals.  \n",
    ">\n",
    ">  - *Newlines in string interpolation expressions* : This feature allows you to include newlines in the “holes” of interpolated strings.  \n",
    ">\n",
    ">  - *List patterns* : This feature allows you to match and deconstruct arrays and System.Collections.Generic.List<T> instances.  \n",
    ">\n",
    ">  - *File-local types* : This feature allows you to declare types that are local to a single file.\n",
    ">\n",
    ">  - *Required members* : This feature allows you to declare that certain members must be overridden in any non-abstract derived class.  \n",
    ">\n",
    ">  - *Auto-default structs* : This feature allows you to declare that a struct type will automatically have a public parameterless instance constructor.  \n",
    ">\n",
    ">  - *Pattern match Span &lt;char&gt; on a constant string* : This feature allows you to use pattern matching with Span&lt;char&gt;.  \n",
    ">\n",
    ">  - *Extended nameof scope* : This feature extends the scope of the nameof operator.  \n",
    ">\n",
    ">  - *Numeric IntPtr, ref fields, and scoped ref* : This feature introduces numeric IntPtr and UIntPtr, ref fields, and scoped ref.  \n",
    ">\n",
    ">  - *Improved method group conversion to delegate* : This feature improves the conversion of method groups to delegates.  \n",
    ">\n",
    ">  - *Warning wave 7*: This feature introduces a new set of compiler warnings.\n",
    ">"
   ]
  },
  {
   "cell_type": "code",
   "execution_count": null,
   "metadata": {
    "dotnet_interactive": {
     "language": "csharp"
    },
    "polyglot_notebook": {
     "kernelName": "csharp"
    },
    "vscode": {
     "languageId": "polyglot-notebook"
    }
   },
   "outputs": [],
   "source": []
  }
 ],
 "metadata": {
  "language_info": {
   "name": "python"
  },
  "orig_nbformat": 4
 },
 "nbformat": 4,
 "nbformat_minor": 2
}
