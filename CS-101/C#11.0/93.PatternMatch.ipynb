{
 "cells": [
  {
   "cell_type": "markdown",
   "metadata": {},
   "source": [
    "> ### **Pattern match Span&lt;char&gt; on a constant string** in C#\n",
    ">    Version *C# 11.0"
   ]
  },
  {
   "cell_type": "markdown",
   "metadata": {},
   "source": [
    ">  - *Pattern match Span&lt;char&gt; on a constant string* : This feature allows you to use pattern matching with Span&lt;char&gt; or  or ReadOnlySpan&lt;char&gt; with a constant string. \n",
    ">   This feature enables the creation of more efficient and readable code.\n",
    ">\n",
    ">     -  The main advantage of using pattern matching with Span<char> and ReadOnlySpan<char> is that it allows developers to write more efficient and readable code.\n",
    ">   By using pattern matching to match a span with a constant string, developers can avoid the overhead of creating a new string object and the hassle of manually translating the bytes and storing them in a byte array.   \n",
    ">"
   ]
  },
  {
   "cell_type": "markdown",
   "metadata": {},
   "source": [
    ">  Example :1 \n",
    "> \n",
    "```csharp\n",
    "    Span<char> mySpan = \"Hello, Scott!\".AsSpan();\n",
    "\n",
    "    if (mySpan is \"Hello, scott!\")\n",
    "    {\n",
    "        Console.WriteLine(\"Matched span\");\n",
    "    }\n",
    "\n",
    "```\n",
    "\n",
    "> In this example, we use pattern matching to match a Span&lt;char&gt; with the constant string \"Hello, Scott!\".\n",
    " >  The is operator returns true if the span matches the specified pattern."
   ]
  },
  {
   "cell_type": "markdown",
   "metadata": {},
   "source": [
    ">  Example :2\n",
    "> \n",
    "```csharp\n",
    "   ReadOnlySpan<char> myReadOnlySpan = \"Hello, Mark!\".AsSpan();\n",
    "\n",
    "if (myReadOnlySpan is \"Hello, Mark!\")\n",
    "{\n",
    "    Console.WriteLine(\"Matched read-only span\");\n",
    "}\n",
    "\n",
    "\n",
    "```\n",
    "> In this example, we use pattern matching to match a ReadOnlySpan&lt;char&gt; with the constant string \"Hello, Mark!\".\n",
    " The is operator returns true if the span matches the specified pattern."
   ]
  },
  {
   "cell_type": "markdown",
   "metadata": {},
   "source": [
    "# Continue learning\n",
    "\n",
    "There are plenty more resources out there to learn!\n",
    "\n",
    "> [⏩ Next Module - Extended nameof scope](94.Extended_nameof_scope.ipynb)\n",
    ">\n",
    "> [⏪ Last Module - Auto default Structs](92.Auto-defaultStructs.ipynb)\n",
    ">\n",
    "> [Reference - pattern-match](https://learn.microsoft.com/en-us/dotnet/csharp/whats-new/csharp-11#pattern-match-spanchar-or-readonlyspanchar-on-a-constant-string)    \n",
    ">\n",
    "> [Reference - C#-version-11](https://learn.microsoft.com/en-us/dotnet/csharp/whats-new/csharp-11)  "
   ]
  }
 ],
 "metadata": {
  "language_info": {
   "name": "python"
  },
  "orig_nbformat": 4
 },
 "nbformat": 4,
 "nbformat_minor": 2
}
