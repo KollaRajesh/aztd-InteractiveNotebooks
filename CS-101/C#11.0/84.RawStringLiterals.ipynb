{
 "cells": [
  {
   "cell_type": "markdown",
   "metadata": {},
   "source": [
    "> ### **Raw string literals** in C#\n",
    ">    Version *C# 11.0*"
   ]
  },
  {
   "cell_type": "markdown",
   "metadata": {},
   "source": [
    ">  *Raw string literals*: \"Raw string literals” is a new feature introduced in C# 11 that allows you to create strings that can contain any arbitrary text without the need for special escape sequences. \n",
    ">  - You begin and end a raw string literal with a minimum of three double-quote characters.\n",
    ">\n",
    "> \n",
    "> \n",
    "> "
   ]
  },
  {
   "cell_type": "markdown",
   "metadata": {},
   "source": [
    ">  Example :1\n",
    ">\n",
    "> In this example, the raw string literal is defined in a single line. It starts and ends with three double-quote characters."
   ]
  },
  {
   "cell_type": "code",
   "execution_count": null,
   "metadata": {
    "dotnet_interactive": {
     "language": "csharp"
    },
    "polyglot_notebook": {
     "kernelName": "csharp"
    },
    "vscode": {
     "languageId": "polyglot-notebook"
    }
   },
   "outputs": [],
   "source": [
    "var singleLine = \"\"\"This is a \"raw string literal\". It can contain characters like \\\\, 'and \".\"\"\";\n",
    "singleLine.Display();"
   ]
  },
  {
   "cell_type": "markdown",
   "metadata": {},
   "source": [
    ">  Example :2\n",
    ">\n",
    "> In this example, the raw string literal spans multiple lines. It starts and ends with three double-quote characters.The indentation specified for all lines of string literals.\n",
    "The indentation specified on the last line is removed from all lines of the raw string literal."
   ]
  },
  {
   "cell_type": "code",
   "execution_count": null,
   "metadata": {
    "dotnet_interactive": {
     "language": "csharp"
    },
    "polyglot_notebook": {
     "kernelName": "csharp"
    },
    "vscode": {
     "languageId": "polyglot-notebook"
    }
   },
   "outputs": [],
   "source": [
    "var singleLine = \"\"\"\n",
    " This is a \"raw string literal\". \n",
    " It can contain characters like \\\\, '\n",
    " and \".\n",
    " \"\"\";\n",
    "\n",
    "singleLine.Display();"
   ]
  },
  {
   "cell_type": "markdown",
   "metadata": {},
   "source": [
    "> Example :3\n",
    ">  In this example, the raw string literal spans multiple lines. It starts with three double-quote characters, \n",
    ">  followed by the string content, and ends with three double-quote characters. The indentation specified on the last line is removed from all lines of the raw string literal."
   ]
  },
  {
   "cell_type": "code",
   "execution_count": null,
   "metadata": {
    "dotnet_interactive": {
     "language": "csharp"
    },
    "polyglot_notebook": {
     "kernelName": "csharp"
    },
    "vscode": {
     "languageId": "polyglot-notebook"
    }
   },
   "outputs": [],
   "source": [
    "var xml = \"\"\"\n",
    "          <element attr=\"content\">\n",
    "          <body>\n",
    "          </body>\n",
    "          </element>\n",
    "  \"\"\";\n",
    "\n",
    "  xml.Display();"
   ]
  },
  {
   "cell_type": "markdown",
   "metadata": {},
   "source": [
    "# Continue learning\n",
    "\n",
    "There are plenty more resources out there to learn!\n",
    "\n",
    "> [⏩ Next Module - Generic Math Support](85.GenericMathSupport.ipynb)\n",
    ">\n",
    "> [⏪ Last Module - Warning Wave 6](84.0.C#11-Featueres%20Overview.ipynb)\n",
    ">\n",
    "> [Reference - raw-string-literals](https://learn.microsoft.com/en-us/dotnet/csharp/whats-new/csharp-11#raw-string-literals)    \n",
    ">\n",
    "> [Reference - C#-version-11](https://learn.microsoft.com/en-us/dotnet/csharp/whats-new/csharp-11)  "
   ]
  }
 ],
 "metadata": {
  "language_info": {
   "name": "python"
  },
  "orig_nbformat": 4
 },
 "nbformat": 4,
 "nbformat_minor": 2
}
