{
 "cells": [
  {
   "cell_type": "markdown",
   "metadata": {},
   "source": [
    "> ### **Auto-default structs** in C#\n",
    ">    Version *C# 11.0*"
   ]
  },
  {
   "cell_type": "markdown",
   "metadata": {},
   "source": [
    ">  - *Auto-default structs* : This feature allows you to declare that a struct type will automatically have a public parameterless instance constructor.   \n",
    ">    - the Auto-default structs feature allows developers to initialize fields in a struct implicitly to their default values.   \n",
    ">    - This feature simplifies the syntax for struct initialization and makes the code more concise.   "
   ]
  },
  {
   "cell_type": "markdown",
   "metadata": {},
   "source": [
    "> Example: 1 \n",
    ">\n",
    ">In this example, we define a struct Person with three fields FirstName, and LastName. \n",
    "We then use the new() syntax to create an instance of the struct and initialize its fields implicitly to their default values."
   ]
  },
  {
   "cell_type": "code",
   "execution_count": 11,
   "metadata": {
    "dotnet_interactive": {
     "language": "csharp"
    },
    "polyglot_notebook": {
     "kernelName": "csharp"
    },
    "vscode": {
     "languageId": "polyglot-notebook"
    }
   },
   "outputs": [],
   "source": [
    "public struct Person\n",
    "{\n",
    "    public string FirstName;\n",
    "    public string LastName;\n",
    "}\n",
    "\n",
    "Person person = new();"
   ]
  },
  {
   "cell_type": "markdown",
   "metadata": {},
   "source": [
    "> Example -2\n",
    "\n",
    "> In this example, we define a struct Person with three fields FirstName and LastName. these properties should be initialize at the time of instance creation.\n",
    "> We then use the new() syntax to create an instance of the struct and initialize its fields implicitly to their default values.\n",
    ">  We then pass the required arguments to the constructor to initialize the fields with non-default values."
   ]
  },
  {
   "cell_type": "code",
   "execution_count": 12,
   "metadata": {
    "dotnet_interactive": {
     "language": "csharp"
    },
    "polyglot_notebook": {
     "kernelName": "csharp"
    },
    "vscode": {
     "languageId": "polyglot-notebook"
    }
   },
   "outputs": [
    {
     "data": {
      "text/html": [
       "<details open=\"open\" class=\"dni-treeview\"><summary><span class=\"dni-code-hint\"><code>Submission#13+Person</code></span></summary><div><table><thead><tr></tr></thead><tbody><tr><td>FirstName</td><td><div class=\"dni-plaintext\"><pre>Rob</pre></div></td></tr><tr><td>LastName</td><td><div class=\"dni-plaintext\"><pre>M</pre></div></td></tr></tbody></table></div></details><style>\r\n",
       ".dni-code-hint {\r\n",
       "    font-style: italic;\r\n",
       "    overflow: hidden;\r\n",
       "    white-space: nowrap;\r\n",
       "}\r\n",
       ".dni-treeview {\r\n",
       "    white-space: nowrap;\r\n",
       "}\r\n",
       ".dni-treeview td {\r\n",
       "    vertical-align: top;\r\n",
       "    text-align: start;\r\n",
       "}\r\n",
       "details.dni-treeview {\r\n",
       "    padding-left: 1em;\r\n",
       "}\r\n",
       "table td {\r\n",
       "    text-align: start;\r\n",
       "}\r\n",
       "table tr { \r\n",
       "    vertical-align: top; \r\n",
       "    margin: 0em 0px;\r\n",
       "}\r\n",
       "table tr td pre \r\n",
       "{ \r\n",
       "    vertical-align: top !important; \r\n",
       "    margin: 0em 0px !important;\r\n",
       "} \r\n",
       "table th {\r\n",
       "    text-align: start;\r\n",
       "}\r\n",
       "</style>"
      ]
     },
     "metadata": {},
     "output_type": "display_data"
    }
   ],
   "source": [
    "public struct Person\n",
    "{\n",
    "    public string FirstName{get; init;}\n",
    "    public string LastName{get; init;}\n",
    "}\n",
    "\n",
    "Person person = new(){FirstName=\"Rob\", LastName=\"M\"};\n",
    "person.Display();"
   ]
  },
  {
   "cell_type": "markdown",
   "metadata": {},
   "source": [
    "> Example -3\n",
    "\n",
    "> In this example, we define a struct Person with three fields FirstName and LastName, and a constructor that takes two arguments. \n",
    "> We then use the new() syntax to create an instance of the struct and initialize its fields implicitly to their default values.\n",
    ">  We then pass the required arguments to the constructor to initialize the fields with non-default values."
   ]
  },
  {
   "cell_type": "code",
   "execution_count": 13,
   "metadata": {
    "dotnet_interactive": {
     "language": "csharp"
    },
    "polyglot_notebook": {
     "kernelName": "csharp"
    },
    "vscode": {
     "languageId": "polyglot-notebook"
    }
   },
   "outputs": [
    {
     "data": {
      "text/html": [
       "<details open=\"open\" class=\"dni-treeview\"><summary><span class=\"dni-code-hint\"><code>Submission#14+Person</code></span></summary><div><table><thead><tr></tr></thead><tbody><tr><td>FirstName</td><td><div class=\"dni-plaintext\"><pre>Rob</pre></div></td></tr><tr><td>LastName</td><td><div class=\"dni-plaintext\"><pre>Meckle</pre></div></td></tr></tbody></table></div></details><style>\r\n",
       ".dni-code-hint {\r\n",
       "    font-style: italic;\r\n",
       "    overflow: hidden;\r\n",
       "    white-space: nowrap;\r\n",
       "}\r\n",
       ".dni-treeview {\r\n",
       "    white-space: nowrap;\r\n",
       "}\r\n",
       ".dni-treeview td {\r\n",
       "    vertical-align: top;\r\n",
       "    text-align: start;\r\n",
       "}\r\n",
       "details.dni-treeview {\r\n",
       "    padding-left: 1em;\r\n",
       "}\r\n",
       "table td {\r\n",
       "    text-align: start;\r\n",
       "}\r\n",
       "table tr { \r\n",
       "    vertical-align: top; \r\n",
       "    margin: 0em 0px;\r\n",
       "}\r\n",
       "table tr td pre \r\n",
       "{ \r\n",
       "    vertical-align: top !important; \r\n",
       "    margin: 0em 0px !important;\r\n",
       "} \r\n",
       "table th {\r\n",
       "    text-align: start;\r\n",
       "}\r\n",
       "</style>"
      ]
     },
     "metadata": {},
     "output_type": "display_data"
    }
   ],
   "source": [
    "public struct Person\n",
    "{\n",
    "    public string FirstName{get; init;}\n",
    "    public string LastName{get; init;}\n",
    "\n",
    "    public Person(string firstName, string lastName)\n",
    "    {\n",
    "        FirstName=firstName;\n",
    "        LastName=lastName;\n",
    "    }\n",
    "}\n",
    "\n",
    "Person person = new(\"Rob\", \"Meckle\");\n",
    "person.Display();\n"
   ]
  },
  {
   "cell_type": "markdown",
   "metadata": {},
   "source": [
    "# Continue learning\n",
    "\n",
    "There are plenty more resources out there to learn!\n",
    "\n",
    "> [⏩ Next Module - Pattern Match](93.PatternMatch.ipynb)\n",
    ">\n",
    "> [⏪ Last Module - Required members](91.Requiredmembers.ipynb)\n",
    ">\n",
    "> [Reference - auto-default-struct](https://learn.microsoft.com/en-us/dotnet/csharp/whats-new/csharp-11#auto-default-struct)    \n",
    ">\n",
    "> [Reference - C#-version-11](https://learn.microsoft.com/en-us/dotnet/csharp/whats-new/csharp-11)  "
   ]
  }
 ],
 "metadata": {
  "language_info": {
   "name": "python"
  },
  "orig_nbformat": 4
 },
 "nbformat": 4,
 "nbformat_minor": 2
}
