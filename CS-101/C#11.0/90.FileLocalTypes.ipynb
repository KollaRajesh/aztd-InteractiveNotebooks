{
 "cells": [
  {
   "cell_type": "markdown",
   "metadata": {},
   "source": [
    "> ### **File-local types** in C#\n",
    ">    Version *C# 11.0*"
   ]
  },
  {
   "cell_type": "markdown",
   "metadata": {},
   "source": [
    ">  - *File-local types* : This feature allows you to declare types that are local to a **single file**.\n",
    ">    -  In C#11, the File-local types feature allows developers to declare a type that is only visible within the file it is declared in.  \n",
    ">    -  This feature enables the creation of more modular and maintainable code.   \n",
    ">\n",
    ">    - The main advantage of using file-local types is that they allow developers to create types that are only visible within the file they are declared in.\n",
    ">    - This makes the code more modular and easier to maintain.\n",
    "\n",
    "> -  C# 11, the file contextual keyword is a type modifier.\n",
    ">  - The file modifier restricts a top-level type's scope and visibility to the file in which it's declared.\n",
    "\n",
    "```csharp\n",
    "    file class HiddenWidget\n",
    "    {\n",
    "        // implementation\n",
    "    }\n",
    "```\n",
    "\n",
    "```csharp\n",
    "    // In File1.cs:\n",
    "    file interface IWidget\n",
    "    {\n",
    "        int ProvideAnswer();\n",
    "    }\n",
    "\n",
    "    file class HiddenWidget\n",
    "    {\n",
    "        public int Work() => 42;\n",
    "    }\n",
    "\n",
    "    public class Widget : IWidget\n",
    "    {\n",
    "        public int ProvideAnswer()\n",
    "        {\n",
    "            var worker = new HiddenWidget();\n",
    "            return worker.Work();\n",
    "        }\n",
    "    }\n",
    "```\n",
    "\n",
    "```csharp\n",
    "    // In File2.cs:\n",
    "    // Doesn't conflict with HiddenWidget declared in File1.cs\n",
    "    public class HiddenWidget\n",
    "    {\n",
    "        public void RunTask()\n",
    "        {\n",
    "            // omitted\n",
    "        }\n",
    "    }\n",
    "```"
   ]
  },
  {
   "cell_type": "markdown",
   "metadata": {},
   "source": [
    "# Continue learning\n",
    "\n",
    "There are plenty more resources out there to learn!\n",
    "\n",
    "> [⏩ Next Module - Required members](91.Requiredmembers.ipynb)\n",
    ">\n",
    "> [⏪ Last Module - List Patterns](89.ListPatterns.ipynb)\n",
    ">\n",
    "> [Reference - File-local-types](https://learn.microsoft.com/en-us/dotnet/csharp/whats-new/csharp-11#file-local-types)    \n",
    ">\n",
    "> [Reference - C#-version-11](https://learn.microsoft.com/en-us/dotnet/csharp/whats-new/csharp-11)  "
   ]
  }
 ],
 "metadata": {
  "language_info": {
   "name": "python"
  },
  "orig_nbformat": 4
 },
 "nbformat": 4,
 "nbformat_minor": 2
}
