{
 "cells": [
  {
   "cell_type": "markdown",
   "metadata": {},
   "source": [
    "> ### **Required members** in C#\n",
    ">    Version *C# 11.0*"
   ]
  },
  {
   "cell_type": "markdown",
   "metadata": {},
   "source": [
    ">  - *Required members* : This feature allows you to declare that certain members must be overridden in any non-abstract derived class.  "
   ]
  },
  {
   "cell_type": "markdown",
   "metadata": {},
   "source": [
    "# Continue learning\n",
    "\n",
    "There are plenty more resources out there to learn!\n",
    "\n",
    "> [⏩ Next Module - Auto-default Structs](92.Auto-defaultStructs.ipynb)\n",
    ">\n",
    "> [⏪ Last Module - File Local Types](90.FileLocalTypes.ipynb)\n",
    ">\n",
    "> [Reference - raw-string-literals](https://learn.microsoft.com/en-us/dotnet/csharp/whats-new/csharp-11#raw-string-literals)    \n",
    ">\n",
    "> [Reference - C#-version-11](https://learn.microsoft.com/en-us/dotnet/csharp/whats-new/csharp-11)  "
   ]
  }
 ],
 "metadata": {
  "language_info": {
   "name": "python"
  },
  "orig_nbformat": 4
 },
 "nbformat": 4,
 "nbformat_minor": 2
}
