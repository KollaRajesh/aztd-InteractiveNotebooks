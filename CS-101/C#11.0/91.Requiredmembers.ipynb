{
 "cells": [
  {
   "cell_type": "markdown",
   "metadata": {},
   "source": [
    "> ### **Required members** in C#\n",
    ">    Version *C# 11.0*"
   ]
  },
  {
   "cell_type": "markdown",
   "metadata": {},
   "source": [
    ">  - *Required members* : \"Required members\" feature allows developers to specify that a property or field is required to be set during object initialization, forcing the instance creator to provide an initial value for the member in an object initializer at the creation site. This feature enables the creation of more robust and maintainable code.  \n",
    ">\n",
    ">    - The main advantage of using required members is that they allow developers to create types that are more robust and maintainable.  \n",
    ">    -  By specifying that certain members are required to be set during object initialization, developers can catch errors at compile-time rather than at runtime, which makes the code more reliable and easier to debug.  "
   ]
  },
  {
   "cell_type": "markdown",
   "metadata": {},
   "source": [
    ">  Example -1\n",
    ">\n",
    ">  - In this example, we use the required modifier to specify that the FirstName and LastName properties are required to be set during object initialization. \n",
    ">  - This forces the instance creator to provide an initial value for these members in an object initializer at the creation site."
   ]
  },
  {
   "cell_type": "code",
   "execution_count": null,
   "metadata": {
    "dotnet_interactive": {
     "language": "csharp"
    },
    "polyglot_notebook": {
     "kernelName": "csharp"
    },
    "vscode": {
     "languageId": "polyglot-notebook"
    }
   },
   "outputs": [],
   "source": [
    "public class Person\n",
    "{\n",
    "    public required string FirstName { get; init; }\n",
    "    public required string LastName { get; init; }\n",
    "}\n",
    "\n",
    "Person person =new(){FirstName=\"Rob\",LastName=\"M\"};\n",
    "person.Display();\n",
    "\n",
    "//Person anotherPerson =new(){FirstName =\"Rob\"}; //Error: (9,23): error CS9035: Required member 'Person.LastName' must be set in the object initializer or attribute constructor.\n",
    "//Person anotherPerson1 =new(); \n",
    "/*(10,24): error CS9035: Required member 'Person.FirstName' must be set in the object initializer or attribute constructor.\n",
    "                                (10,24): error CS9035: Required member 'Person.LastName' must be set in the object initializer or attribute constructor.*/"
   ]
  },
  {
   "cell_type": "code",
   "execution_count": null,
   "metadata": {
    "dotnet_interactive": {
     "language": "csharp"
    },
    "polyglot_notebook": {
     "kernelName": "csharp"
    },
    "vscode": {
     "languageId": "polyglot-notebook"
    }
   },
   "outputs": [],
   "source": [
    "public struct Point\n",
    "{\n",
    "    public int X { get; init; }\n",
    "    public int Y { get; init; }\n",
    "    public required int Z { get; init; }\n",
    "}\n"
   ]
  },
  {
   "cell_type": "markdown",
   "metadata": {},
   "source": [
    "# Continue learning\n",
    "\n",
    "There are plenty more resources out there to learn!\n",
    "\n",
    "> [⏩ Next Module - Auto-default Structs](92.Auto-defaultStructs.ipynb)\n",
    ">\n",
    "> [⏪ Last Module - File Local Types](90.FileLocalTypes.ipynb)\n",
    ">\n",
    "> [Reference - Required members](https://learn.microsoft.com/en-us/dotnet/csharp/whats-new/csharp-11#required-members)    \n",
    ">\n",
    "> [Reference - C#-version-11](https://learn.microsoft.com/en-us/dotnet/csharp/whats-new/csharp-11)  "
   ]
  }
 ],
 "metadata": {
  "language_info": {
   "name": "python"
  },
  "orig_nbformat": 4
 },
 "nbformat": 4,
 "nbformat_minor": 2
}
