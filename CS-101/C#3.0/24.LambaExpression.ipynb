{
 "cells": [
  {
   "cell_type": "markdown",
   "metadata": {},
   "source": [
    "> ### Lambda Expressions\n",
    ">    Version *C# 3.0*\n",
    ">\n",
    "> Lambda expression  : \n",
    ">\n",
    ">  - A lambda expression is an anonymous function that you can use to create delegates or expression tree types.\n",
    ">  - A lambda expression consists of a list of parameters, the lambda operator =>, and a body.\n",
    ">  - The body of the lambda expression can be either an expression or a statement block 1. "
   ]
  },
  {
   "cell_type": "markdown",
   "metadata": {},
   "source": [
    "> #### Example - 1\n",
    "> \n",
    "> Below is the  examples of how to use lambda expressions in C#:\n",
    "> \n",
    "> In this example, \n",
    "> 1. square is a lambda expression that takes an int parameter and returns the square of that parameter.\n",
    "> 2. greet is a lambda expression that takes a string parameter and prints a greeting to the console.\n",
    "> 3. evenNumbers is a lambda expression that filters a list of integers to return only the even numbers."
   ]
  },
  {
   "cell_type": "code",
   "execution_count": null,
   "metadata": {
    "dotnet_interactive": {
     "language": "csharp"
    },
    "polyglot_notebook": {
     "kernelName": "csharp"
    },
    "vscode": {
     "languageId": "polyglot-notebook"
    }
   },
   "outputs": [],
   "source": [
    "Func<int, int> square = x => x * x;\n",
    "Console.WriteLine(square(5)); // Output: 25\n",
    "\n",
    "Action<string> greet = name => Console.WriteLine($\"Hello, {name}!\");\n",
    "greet(\"World\"); // Output: Hello, World!\n",
    "\n",
    "var numbers = new List<int> { 1, 2, 3, 4, 5 };\n",
    "var evenNumbers = numbers.Where(x => x % 2 == 0);\n",
    "foreach (var number in evenNumbers)\n",
    "{\n",
    "    Console.WriteLine(number);\n",
    "}\n"
   ]
  },
  {
   "cell_type": "markdown",
   "metadata": {},
   "source": [
    "> #### Example - 2\n",
    "> \n",
    "> Below is the  examples of how to use lambda expressions in C#:\n",
    "> \n",
    "> In this example, \n",
    ">\n",
    ">  1. where function is having lambda expression for Func<Product,bool> delegate that takes an  each product value in the products list and returns bool value.\n",
    ">  2. OrderByDescending function is having lambda expression for Func<Product,TResult> delegate that takes an  each product value in the products list and returns key  value.\n",
    ">  3. Select function is having lambda expression for Func<Product,TResult> delegate that takes an  each product value in the products list and returns anonymous type.\n"
   ]
  },
  {
   "cell_type": "code",
   "execution_count": null,
   "metadata": {
    "dotnet_interactive": {
     "language": "csharp"
    },
    "polyglot_notebook": {
     "kernelName": "csharp"
    },
    "vscode": {
     "languageId": "polyglot-notebook"
    }
   },
   "outputs": [],
   "source": [
    "public class Product{\n",
    "    public string Name {get; set;}\n",
    "    public double Price {get; set;}\n",
    "    public string Color  {get; set;}\n",
    "}\n",
    "\n",
    "var products = new List<Product>{\n",
    "    new Product { Name = \"Phone X\", Price = 999.99, Color = \"Black\" },\n",
    "    new Product { Name = \"Phone Y\", Price = 899.99, Color = \"White\" },\n",
    "    new Product { Name = \"Phone Z\", Price = 799.99, Color = \"Red\" }\n",
    "};\n",
    "\n",
    "var productQuery = products\n",
    "    .Where(p => p.Price > 900)\n",
    "    .OrderByDescending(p => p.Price)\n",
    "    .Select(p => new { p.Name, p.Color });\n",
    "\n",
    "foreach (var product in productQuery)\n",
    "{\n",
    "    Console.WriteLine($\"Name: {product.Name}, Color: {product.Color}\");\n",
    "}"
   ]
  },
  {
   "cell_type": "markdown",
   "metadata": {},
   "source": [
    "> #### Example - 2\n",
    "> \n",
    "> Below is the  examples of how to use lambda expressions in C#:\n",
    "> \n",
    "> In this example, \n",
    "> -  We have a list of integers called numbers.\n",
    "> -  We use Expression Lambda to find all the even numbers in the list and Statement Lambda to find all the odd numbers in the list. "
   ]
  },
  {
   "cell_type": "code",
   "execution_count": null,
   "metadata": {
    "dotnet_interactive": {
     "language": "csharp"
    },
    "polyglot_notebook": {
     "kernelName": "csharp"
    },
    "vscode": {
     "languageId": "polyglot-notebook"
    }
   },
   "outputs": [],
   "source": [
    "using System;\n",
    "using System.Collections.Generic;\n",
    "\n",
    "\n",
    "    List<int> numbers = new List<int> { 2, 3, 4, 5, 6, 7, 8, 9 };\n",
    "\n",
    "    // Expression Lambda\n",
    "    var evenNumbers = numbers.FindAll(num => num % 2 == 0);\n",
    "\n",
    "    // Statement Lambda\n",
    "    var oddNumbers = numbers.FindAll(num =>\n",
    "    {\n",
    "        if (num % 2 != 0)\n",
    "        {\n",
    "            return true;\n",
    "        }\n",
    "        else\n",
    "        {\n",
    "            return false;\n",
    "        }\n",
    "    });\n",
    "\n",
    "    Console.WriteLine(\"Even Numbers:\");\n",
    "    foreach (var num in evenNumbers)\n",
    "    {\n",
    "        Console.WriteLine(num);\n",
    "    }\n",
    "\n",
    "    Console.WriteLine(\"Odd Numbers:\");\n",
    "    foreach (var num in oddNumbers)\n",
    "    {\n",
    "        Console.WriteLine(num);\n",
    "    }\n"
   ]
  },
  {
   "cell_type": "markdown",
   "metadata": {},
   "source": [
    "# Continue learning\n",
    "\n",
    "There are plenty more resources out there to learn!\n",
    "\n",
    "> [⏩ Next Module - Extension Methods](25.ExtensionMethods.ipynb)\n",
    ">\n",
    "> [⏪ Last Module - Anonymous Types ](23.AnonymousTypes.ipynb)\n",
    ">\n",
    "> [Reference : Lambda expressions](https://learn.microsoft.com/en-us/dotnet/csharp/language-reference/operators/lambda-expressions)"
   ]
  }
 ],
 "metadata": {
  "language_info": {
   "name": "python"
  },
  "orig_nbformat": 4
 },
 "nbformat": 4,
 "nbformat_minor": 2
}
