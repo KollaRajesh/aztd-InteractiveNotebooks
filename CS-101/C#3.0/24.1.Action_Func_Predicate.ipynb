{
 "cells": [
  {
   "cell_type": "markdown",
   "metadata": {},
   "source": [
    "> ### Action , Func , Predicate\n",
    ">  *C# 3.0* version"
   ]
  },
  {
   "cell_type": "markdown",
   "metadata": {},
   "source": [
    "> There are three important delegate types: Action, Func, and Predicate.\n",
    "> \n",
    "> 1. Action: An Action is a delegate that can take up to 16 input parameters, but it does not return a value. \n",
    ">        It is used to represent an operation that does not return a value.\n",
    ">\n",
    "> Here’s an example:"
   ]
  },
  {
   "cell_type": "code",
   "execution_count": null,
   "metadata": {
    "dotnet_interactive": {
     "language": "csharp"
    },
    "polyglot_notebook": {
     "kernelName": "csharp"
    },
    "vscode": {
     "languageId": "polyglot-notebook"
    }
   },
   "outputs": [],
   "source": [
    "Action<string> printMessage = (message) => Console.WriteLine(message);\n",
    "printMessage(\"Hello, Rob!\");\n",
    "\n",
    "//In this example, the printMessage delegate takes a string parameter and writes it to the console.\n"
   ]
  },
  {
   "cell_type": "markdown",
   "metadata": {},
   "source": [
    "> 2. Func:  A Func is a delegate that can take up to 16 input parameters and returns a value.  \n",
    ">    It is used to represent a function that takes input parameters and returns a value.\n",
    ">\n",
    "> Here’s an example:"
   ]
  },
  {
   "cell_type": "code",
   "execution_count": null,
   "metadata": {
    "dotnet_interactive": {
     "language": "csharp"
    },
    "polyglot_notebook": {
     "kernelName": "csharp"
    },
    "vscode": {
     "languageId": "polyglot-notebook"
    }
   },
   "outputs": [],
   "source": [
    "Func<int, int, int> addNumbers = (a, b) => a + b;\n",
    "int result = addNumbers(3, 5);\n",
    "Console.WriteLine(result);\n",
    "//In this example, the addNumbers delegate takes two int parameters and returns their sum.\n"
   ]
  },
  {
   "cell_type": "markdown",
   "metadata": {},
   "source": [
    "> 2. Predicate: A Predicate is a delegate that takes one input parameter and returns a bool value.\n",
    ">    It is used to represent a function that tests a condition and returns a bool value.\n",
    ">\n",
    "> Here’s an example:"
   ]
  },
  {
   "cell_type": "code",
   "execution_count": null,
   "metadata": {
    "dotnet_interactive": {
     "language": "csharp"
    },
    "polyglot_notebook": {
     "kernelName": "csharp"
    },
    "vscode": {
     "languageId": "polyglot-notebook"
    }
   },
   "outputs": [],
   "source": [
    "Predicate<int> isEven = (n) => n % 2 == 0;\n",
    "bool result = isEven(4);\n",
    "Console.WriteLine(result);\n",
    "//In this example, the isEven delegate takes an int parameter and returns true if the number is even, and false otherwise.\n"
   ]
  },
  {
   "cell_type": "markdown",
   "metadata": {},
   "source": [
    "# Continue learning\n",
    "\n",
    "There are plenty more resources out there to learn!\n",
    "\n",
    "> [⏩ Next Module - Extension Methods](25.ExtensionMethods.ipynb)\n",
    ">\n",
    "> [⏪ Last Module - Lambda Expression](24.0.LambaExpression.ipynb)\n",
    ">\n",
    "> [Reference : Lambda expressions](https://learn.microsoft.com/en-us/dotnet/csharp/language-reference/operators/lambda-expressions)"
   ]
  }
 ],
 "metadata": {
  "language_info": {
   "name": "python"
  },
  "orig_nbformat": 4
 },
 "nbformat": 4,
 "nbformat_minor": 2
}
