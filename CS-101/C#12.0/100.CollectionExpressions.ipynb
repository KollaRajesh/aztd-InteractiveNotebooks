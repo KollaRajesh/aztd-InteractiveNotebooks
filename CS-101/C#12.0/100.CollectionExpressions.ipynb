{
 "cells": [
  {
   "cell_type": "markdown",
   "metadata": {},
   "source": [
    "> ### Collection expressions\n",
    ">    Version *C# 12.0*  and available with .NET8.0 SDK"
   ]
  },
  {
   "cell_type": "markdown",
   "metadata": {},
   "source": [
    "> **Collection expressions**: \"Collection expressions\" is a new feature introduced in C# 12 that allows for the creation of common collection values using a new terse syntax, [e1, e2, e3, etc].   \n",
    ">\n",
    ">  - This syntax can be used to inline other collections into these values using a spread operator .. like so: [e1, ..c2, e2, ..c2].\n",
    "\n",
    "> This is preview -5  feature \n",
    "\n",
    "```c# \n",
    "    // Example 1: Creating an array of integers\n",
    "\n",
    "    int[] numbers = [1, 2, 3, 4, 5];\n",
    "```\n",
    "\n",
    "```c# \n",
    "    // Example 2: Creating a list of strings\n",
    "    List<string> fruits = [\"apple\", \"banana\", \"cherry\"];\n",
    "```\n",
    "\n",
    "```c# \n",
    "    // Example 3:Create a span\n",
    "    Span<char> c  = ['a', 'b', 'c', 'd', 'e', 'f', 'h', 'i'];\n",
    "```\n",
    "\n",
    "```c# \n",
    "    // Example 4:Create a jagged 2D array:\n",
    "    int[][] twoD = [[1, 2, 3], [4, 5, 6], [7, 8, 9]];\n",
    "```\n",
    "\n",
    "```c# \n",
    "    // Example 5:Create a jagged 2D array from variables:\n",
    "    int[] row0 = [2, 4, 6];\n",
    "    int[] row1 = [3, 6, 9];\n",
    "    int[] row2 = [4, 8, 12];\n",
    "    int[][] twoDFromVariables = [row0, row1, row2];\n",
    "```"
   ]
  },
  {
   "cell_type": "markdown",
   "metadata": {},
   "source": [
    "# Continue learning\n",
    "\n",
    "There are plenty more resources out there to learn!\n",
    "\n",
    "> [⏩ Next Module - Inline Arrays ](101.InlineArrays.ipynb)\n",
    ">\n",
    "> [⏪ Last Module - Primart Constructors](99.PrimartConstructors.ipynb)\n",
    ">\n",
    "> [Reference- Collection-expressions](https://learn.microsoft.com/en-us/dotnet/csharp/whats-new/csharp-12#collection-expressions)\n",
    ">\n",
    "> [Reference- C# 12 Version](https://learn.microsoft.com/en-us/dotnet/csharp/whats-new/csharp-12)"
   ]
  }
 ],
 "metadata": {
  "language_info": {
   "name": "python"
  },
  "orig_nbformat": 4
 },
 "nbformat": 4,
 "nbformat_minor": 2
}
