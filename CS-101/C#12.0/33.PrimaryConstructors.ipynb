{
 "cells": [
  {
   "cell_type": "markdown",
   "metadata": {},
   "source": [
    "> ### Primary Constructor feature \n",
    ">    Version *C# 12.0*  and available with .NET8.0 SDK"
   ]
  },
  {
   "cell_type": "markdown",
   "metadata": {},
   "source": [
    "> **Primary Constructor feature**:  C# 12 introduces primary constructors,a concise syntax to declare constructors whose parameters are available anywhere in the body of the type.  \n",
    ">   We can add parameters to a struct or class declaration to create a primary constructor. Primary constructor parameters are in scope throughout the class definition.\n",
    ">   It's important to view primary constructor parameters as parameters even though they are in scope throughout the class definition. \n",
    ">   Several rules clarify that they're parameters:\n",
    ">\n",
    ">    - Primary constructor parameters may not be stored if they aren't needed.\n",
    ">    - Primary constructor parameters aren't members of the class. For example, a primary constructor parameter named param can't be accessed as this.param.\n",
    ">    - Primary constructor parameters can be assigned to.\n",
    ">    - Primary constructor parameters don't become properties, except in record types.\n",
    ">\n",
    ">  These rules are the same as parameters to any method, including other constructor declarations.\n",
    "> \n",
    "> The most common uses for a primary constructor parameter are:\n",
    ">   -   As an argument to a base() constructor invocation.\n",
    ">   -   To initialize a member field or property.\n",
    ">   - Referencing the constructor parameter in an instance member.\n",
    ">\n",
    "> Here is the example of Primary Constructor feature"
   ]
  },
  {
   "cell_type": "code",
   "execution_count": null,
   "metadata": {
    "dotnet_interactive": {
     "language": "csharp"
    },
    "polyglot_notebook": {
     "kernelName": "csharp"
    },
    "vscode": {
     "languageId": "polyglot-notebook"
    }
   },
   "outputs": [],
   "source": [
    "public class Point(int x, int y) {\n",
    "    public int X { get; } = x;\n",
    "    public int Y { get; } = y;\n",
    "}\n",
    "\n",
    "Point point = new Point(3, 4);\n",
    "Console.WriteLine(point.X); // Output: 3\n",
    "Console.WriteLine(point.Y); // Output: 4\n"
   ]
  },
  {
   "cell_type": "code",
   "execution_count": null,
   "metadata": {
    "dotnet_interactive": {
     "language": "csharp"
    },
    "polyglot_notebook": {
     "kernelName": "csharp"
    },
    "vscode": {
     "languageId": "polyglot-notebook"
    }
   },
   "outputs": [],
   "source": [
    "public readonly struct Distance(double dx, double dy)\n",
    "{\n",
    "    public readonly double Magnitude { get; } = Math.Sqrt(dx * dx + dy * dy);\n",
    "    public readonly double Direction { get; } = Math.Atan2(dy, dx);\n",
    "}"
   ]
  },
  {
   "cell_type": "markdown",
   "metadata": {},
   "source": [
    ">  The preceding struct is as though we had written the following code:"
   ]
  },
  {
   "cell_type": "code",
   "execution_count": null,
   "metadata": {
    "dotnet_interactive": {
     "language": "csharp"
    },
    "polyglot_notebook": {
     "kernelName": "csharp"
    },
    "vscode": {
     "languageId": "polyglot-notebook"
    }
   },
   "outputs": [],
   "source": [
    "public readonly struct Distance\n",
    "{\n",
    "    public readonly double Magnitude { get; }\n",
    "\n",
    "    public readonly double Direction { get; }\n",
    "\n",
    "    public Distance(double dx, double dy)\n",
    "    {\n",
    "        Magnitude = Math.Sqrt(dx * dx + dy * dy);\n",
    "        Direction = Math.Atan2(dy, dx);\n",
    "    }\n",
    "}"
   ]
  },
  {
   "cell_type": "markdown",
   "metadata": {},
   "source": [
    "> ##### Create mutable state\n",
    ">\n",
    "> The preceding examples use primary constructor parameters to initialize readonly properties.\n",
    "> You can also use primary constructors when the properties aren't readonly. Consider the following code:"
   ]
  },
  {
   "cell_type": "code",
   "execution_count": null,
   "metadata": {
    "dotnet_interactive": {
     "language": "csharp"
    },
    "polyglot_notebook": {
     "kernelName": "csharp"
    },
    "vscode": {
     "languageId": "polyglot-notebook"
    }
   },
   "outputs": [],
   "source": [
    "public struct Distance(double dx, double dy)\n",
    "{\n",
    "    public readonly double Magnitude => Math.Sqrt(dx * dx + dy * dy);\n",
    "    public readonly double Direction => Math.Atan2(dy, dx);\n",
    "\n",
    "    public void Translate(double deltaX, double deltaY)\n",
    "    {\n",
    "        dx += deltaX;\n",
    "        dy += deltaY;\n",
    "    }\n",
    "\n",
    "    public Distance() : this(0,0) { }\n",
    "}\n"
   ]
  },
  {
   "cell_type": "markdown",
   "metadata": {},
   "source": [
    ">  The preceding struct is as though we had written the following code:"
   ]
  },
  {
   "cell_type": "code",
   "execution_count": null,
   "metadata": {
    "dotnet_interactive": {
     "language": "csharp"
    },
    "polyglot_notebook": {
     "kernelName": "csharp"
    },
    "vscode": {
     "languageId": "polyglot-notebook"
    }
   },
   "outputs": [],
   "source": [
    "public struct Distance\n",
    "{\n",
    "    private double __unspeakable_dx;\n",
    "    private double __unspeakable_dy;\n",
    "\n",
    "    public readonly double Magnitude => Math.Sqrt(__unspeakable_dx * __unspeakable_dx + __unspeakable_dy * __unspeakable_dy);\n",
    "    public readonly double Direction => Math.Atan2(__unspeakable_dy, __unspeakable_dx);\n",
    "\n",
    "    public void Translate(double deltaX, double deltaY)\n",
    "    {\n",
    "        __unspeakable_dx += deltaX;\n",
    "        __unspeakable_dy += deltaY;\n",
    "    }\n",
    "\n",
    "    public Distance(double dx, double dy)\n",
    "    {\n",
    "        __unspeakable_dx = dx;\n",
    "        __unspeakable_dy = dy;\n",
    "    }\n",
    "    public Distance() : this(0, 0) { }\n",
    "}"
   ]
  },
  {
   "cell_type": "markdown",
   "metadata": {},
   "source": [
    "> ##### Dependency injection\n",
    ">\n",
    "> Another common use for primary constructors is to specify parameters for dependency injection. \n",
    ">\n",
    "> The following code creates a simple controller that requires a service interface for its use:"
   ]
  },
  {
   "cell_type": "code",
   "execution_count": null,
   "metadata": {
    "dotnet_interactive": {
     "language": "csharp"
    },
    "polyglot_notebook": {
     "kernelName": "csharp"
    },
    "vscode": {
     "languageId": "polyglot-notebook"
    }
   },
   "outputs": [],
   "source": [
    "public interface IService\n",
    "{\n",
    "    Distance GetDistance();\n",
    "}\n",
    "\n",
    "public class ExampleController(IService service) : ControllerBase\n",
    "{\n",
    "    [HttpGet]\n",
    "    public ActionResult<Distance> Get()\n",
    "    {\n",
    "        return service.GetDistance();\n",
    "    }\n",
    "}"
   ]
  },
  {
   "cell_type": "markdown",
   "metadata": {},
   "source": [
    "> ##### Initialize base class\n",
    ">\n",
    "> You can invoke a base class' primary constructor from the derived class' primary constructor.\n",
    "> It's the easiest way for you to write a derived class that must invoke a primary constructor in the base class."
   ]
  },
  {
   "cell_type": "code",
   "execution_count": null,
   "metadata": {
    "dotnet_interactive": {
     "language": "csharp"
    },
    "polyglot_notebook": {
     "kernelName": "csharp"
    },
    "vscode": {
     "languageId": "polyglot-notebook"
    }
   },
   "outputs": [],
   "source": [
    "public class BankAccount(string accountID, string owner)\n",
    "{\n",
    "    public string AccountID { get; } = accountID;\n",
    "    public string Owner { get; } = owner;\n",
    "\n",
    "    public override string ToString() => $\"Account ID: {AccountID}, Owner: {Owner}\";\n",
    "}"
   ]
  },
  {
   "cell_type": "code",
   "execution_count": null,
   "metadata": {
    "dotnet_interactive": {
     "language": "csharp"
    },
    "polyglot_notebook": {
     "kernelName": "csharp"
    },
    "vscode": {
     "languageId": "polyglot-notebook"
    }
   },
   "outputs": [],
   "source": [
    "public class Account(string accountID, string owner)\n",
    "{\n",
    "    public string AccountID { get; } = ValidAccountNumber(accountID) \n",
    "        ? accountID \n",
    "        : throw new ArgumentException(\"Invalid account number\", nameof(accountID));\n",
    "\n",
    "    public string Owner { get; } = string.IsNullOrWhiteSpace(owner) \n",
    "        ? throw new ArgumentException(\"Owner name cannot be empty\", nameof(owner)) \n",
    "        : owner;\n",
    "\n",
    "    public override string ToString() => $\"Account ID: {AccountID}, Owner: {Owner}\";\n",
    "\n",
    "    public static bool ValidAccountNumber(string accountID) => \n",
    "    accountID?.Length == 10 && accountID.All(c => char.IsDigit(c));\n",
    "}\n",
    "\n",
    "public class CheckingAccount(string accountID, string owner, decimal overdraftLimit = 0) : Account(accountID, owner)\n",
    "{\n",
    "    public decimal CurrentBalance { get; private set; } = 0;\n",
    "\n",
    "    public void Deposit(decimal amount)\n",
    "    {\n",
    "        if (amount < 0)\n",
    "        {\n",
    "            throw new ArgumentOutOfRangeException(nameof(amount), \"Deposit amount must be positive\");\n",
    "        }\n",
    "        CurrentBalance += amount;\n",
    "    }\n",
    "\n",
    "    public void Withdrawal(decimal amount)\n",
    "    {\n",
    "        if (amount < 0)\n",
    "        {\n",
    "            throw new ArgumentOutOfRangeException(nameof(amount), \"Withdrawal amount must be positive\");\n",
    "        }\n",
    "        if (CurrentBalance - amount < -overdraftLimit)\n",
    "        {\n",
    "            throw new InvalidOperationException(\"Insufficient funds for withdrawal\");\n",
    "        }\n",
    "        CurrentBalance -= amount;\n",
    "    }\n",
    "    \n",
    "    public override string ToString() => $\"Account ID: {AccountID}, Owner: {Owner}, Balance: {CurrentBalance}\";\n",
    "}"
   ]
  },
  {
   "cell_type": "markdown",
   "metadata": {},
   "source": [
    "# Continue learning\n",
    "\n",
    "There are plenty more resources out there to learn!\n",
    "\n",
    "> [⏩ Next Module - Auto Property Initializer ](32.AutoPropertyInitializer.ipynb)\n",
    ">\n",
    "> [⏪ Last Module - Caller Information](../C#5.0/30.CallerInformation.ipynb)\n",
    ">\n",
    "> [Reference- Primary Constructors](https://learn.microsoft.com/en-us/dotnet/csharp/whats-new/tutorials/primary-constructors)\n",
    ">"
   ]
  }
 ],
 "metadata": {
  "language_info": {
   "name": "python"
  },
  "orig_nbformat": 4
 },
 "nbformat": 4,
 "nbformat_minor": 2
}
