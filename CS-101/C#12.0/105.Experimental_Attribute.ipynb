{
 "cells": [
  {
   "cell_type": "markdown",
   "metadata": {},
   "source": [
    "> ### Experimental attributes\n",
    ">    Version *C# 12.0*  and available with .NET8.0 SDK"
   ]
  },
  {
   "cell_type": "markdown",
   "metadata": {},
   "source": [
    "> **Experimental attributes**:  \"Experimental attributes\" are a set of attributes that can be applied to types, methods, or assemblies to indicate that they are experimental features.\n",
    ">\n",
    ">  They are used to provide early access to new features and to gather feedback from developers before the features are finalized. \n",
    ">  The System.Diagnostics.CodeAnalysis.ExperimentalAttribute attribute is used to mark experimental features in C# 12.\n",
    "\n",
    "\n",
    ">  Here is a list of all experimental attributes in C# 12:\n",
    ">\n",
    ">  1. *Experimental Attribute*: Marks a type, method, or assembly as an experimental feature .\n",
    ">  2. *InterceptsLocation Attribute*: Specifies the location of an interceptor method for use with the Interceptors feature.\n",
    ">  3. *UsingAlias Attribute*: Provides an alias for any type, not just named types.\n",
    "\n",
    "\n",
    "```csharp \n",
    "        using System.Diagnostics.CodeAnalysis;\n",
    "\n",
    "        [Experimental(\"New Feature for up coming release\")]\n",
    "        public class Logger\n",
    "        {\n",
    "            // ...\n",
    "        }\n",
    "\n",
    "        [Experimental(\"New Feature for up coming release\")]\n",
    "        public void Log()\n",
    "        {\n",
    "            // ...\n",
    "        }\n",
    "\n",
    "        [Experimental(\"New Feature for up coming release\")]\n",
    "        public static class Authentication\n",
    "        {\n",
    "            // ...\n",
    "        }\n",
    "```\n",
    "> Example of UsingAliasAttribute: : \n",
    ">\n",
    "```csharp \n",
    "       using System.Runtime.CompilerServices;\n",
    "\n",
    "        [UsingAlias(\"Point\", \"(int x, int y)\")]\n",
    "        public partial class Math\n",
    "        {\n",
    "            public Point Add(Point p1, Point p2)\n",
    "            {\n",
    "                return (p1.x + p2.x, p1.y + p2.y);\n",
    "            }\n",
    "        }\n",
    "\n",
    "/*Note:  In this example, we have a class Math with a method Add. \n",
    "         We want to create an alias for the tuple type (int x, int y) and use it as the parameter and return type of Add. \n",
    "         To do this, we add the UsingAliasAttribute to Math and specify the name of the alias (Point) and its definition ((int x, int y)).\n",
    "         We then use Point as the parameter and return type of Add.\n",
    "*/\n",
    "```"
   ]
  },
  {
   "cell_type": "markdown",
   "metadata": {},
   "source": [
    "# Continue learning\n",
    "\n",
    "There are plenty more resources out there to learn!\n",
    "\n",
    "> [⏩ Next Module - Interceptors ](106.Interceptors.ipynb)\n",
    ">\n",
    "> [⏪ Last Module - Alias AnyType](104.Alias_AnyType.ipynb)\n",
    ">\n",
    "> [Reference- experimental-attribute](https://learn.microsoft.com/en-us/dotnet/csharp/whats-new/csharp-12#experimental-attribute)\n",
    ">\n",
    "> [Reference- C# 12 Version](https://learn.microsoft.com/en-us/dotnet/csharp/whats-new/csharp-12)\n",
    ">"
   ]
  }
 ],
 "metadata": {
  "language_info": {
   "name": "python"
  },
  "orig_nbformat": 4
 },
 "nbformat": 4,
 "nbformat_minor": 2
}
