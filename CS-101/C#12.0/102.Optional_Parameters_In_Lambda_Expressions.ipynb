{
 "cells": [
  {
   "cell_type": "markdown",
   "metadata": {},
   "source": [
    "> ### Optional Parameter feature \n",
    ">    Version *C# 12.0*  and available with .NET8.0 SDK"
   ]
  },
  {
   "cell_type": "markdown",
   "metadata": {},
   "source": [
    "> **Optional Parameters in Lambda Expressions**: \"Optional Parameters in Lambda Expressions\" feature in C# 12. \n",
    "> This feature allows for the declaration of default values for parameters on lambda expressions\n",
    ">\n",
    ">  The added value of this feature is that it provides a more concise and readable syntax for declaring default parameters in lambda expressions in C# programs.  \n",
    ">  It also allows for the creation of more flexible and reusable lambda expressions.  \n",
    "> \n",
    "> Examples: \n",
    ">\n",
    "```csharp \n",
    "// This is preview feature 2 . it will throw below error with current version.  \n",
    "//Error: The feature 'lambda optional parameters' is currently in Preview and *unsupported*. To use Preview features, use the 'preview' language version.\n",
    "\n",
    "    // Example 1: Creating a lambda expression with a default parameter\n",
    "    Func<int, int> square = (int x = 5) => x * x;\n",
    "    Console.WriteLine(square()); // Output: 25\n",
    "\n",
    "    // Example 2: Creating a lambda expression with multiple default parameters\n",
    "    Func<int, int, int> add = (int x = 1, int y = 2) => x + y;\n",
    "    Console.WriteLine(add()); // Output: 3\n",
    "\n",
    "```\n"
   ]
  },
  {
   "cell_type": "markdown",
   "metadata": {},
   "source": [
    "# Continue learning\n",
    "\n",
    "There are plenty more resources out there to learn!\n",
    "\n",
    "> [⏩ Next Module - Ref_Readonly_Parameters ](103.Ref_Readonly_Parameters.ipynb)\n",
    ">\n",
    "> [⏪ Last Module - Inline Arrays](101.InlineArrays.ipynb)\n",
    ">\n",
    "> [Reference- default-lambda-parameters](https://learn.microsoft.com/en-us/dotnet/csharp/whats-new/csharp-12#default-lambda-parameters)\n",
    ">\n",
    "> [Reference- C# 12 Version](https://learn.microsoft.com/en-us/dotnet/csharp/whats-new/csharp-12)\n",
    ">"
   ]
  }
 ],
 "metadata": {
  "language_info": {
   "name": "python"
  },
  "orig_nbformat": 4
 },
 "nbformat": 4,
 "nbformat_minor": 2
}
