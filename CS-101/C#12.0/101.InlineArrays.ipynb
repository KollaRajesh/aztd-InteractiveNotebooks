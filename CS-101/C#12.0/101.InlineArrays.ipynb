{
 "cells": [
  {
   "cell_type": "markdown",
   "metadata": {},
   "source": [
    "> ### Inline Array feature \n",
    ">    Version *C# 12.0*  and available with .NET8.0 SDK"
   ]
  },
  {
   "cell_type": "markdown",
   "metadata": {},
   "source": [
    ">   - \"Inline Arrays feature\" in C# 12 allows for the declaration of inline arrays within C# classes, structs, and interfaces.\n",
    ">\n",
    "> The added value of this feature is that it provides a more concise and readable syntax for declaring inline arrays in C# programs.  \n",
    ">\n",
    "> Here is the example of Primary Constructor feature\n",
    "\n",
    "```Csharp\n",
    "        // As This is preview -3 feature , it may not work with current version\n",
    "        // Example: Creating an inline array of integers\n",
    "        public struct Buffer\n",
    "        {\n",
    "            public int Length;\n",
    "            public int[] Data = new int[10];\n",
    "        }\n",
    "\n",
    "        // Usage\n",
    "        Buffer buffer = new Buffer\n",
    "        {\n",
    "            Length = 5,\n",
    "            Data = [1, 2, 3, 4, 5]  // Creating an inline array of integers\n",
    "        };\n",
    "```"
   ]
  },
  {
   "cell_type": "markdown",
   "metadata": {},
   "source": [
    "# Continue learning\n",
    "\n",
    "There are plenty more resources out there to learn!\n",
    "\n",
    "> [⏩ Next Module - Optional Parameters In Lambda Expressions ](102.Optional_Parameters_In_Lambda_Expressions.ipynb)\n",
    ">\n",
    "> [⏪ Last Module - Collection Expressions](100.CollectionExpressions.ipynb)\n",
    ">\n",
    "> [Reference- inline-arrays](https://learn.microsoft.com/en-us/dotnet/csharp/whats-new/csharp-12#inline-arrays)\n",
    ">\n",
    "> [Reference- C# 12 Version](https://learn.microsoft.com/en-us/dotnet/csharp/whats-new/csharp-12)"
   ]
  }
 ],
 "metadata": {
  "language_info": {
   "name": "python"
  },
  "orig_nbformat": 4
 },
 "nbformat": 4,
 "nbformat_minor": 2
}
