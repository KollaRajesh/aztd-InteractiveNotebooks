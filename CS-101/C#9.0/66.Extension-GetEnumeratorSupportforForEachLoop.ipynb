{
 "cells": [
  {
   "cell_type": "markdown",
   "metadata": {},
   "source": [
    "> ### **Extension GetEnumerator Support for Foreach Loops** in C#\n",
    ">    Version *C# 9.0*"
   ]
  },
  {
   "cell_type": "markdown",
   "metadata": {},
   "source": [
    ">  - **Extension GetEnumerator Support for Foreach Loops**: This feature allows foreach loops to recognize an extension method GetEnumerator method that otherwise satisfies the foreach pattern."
   ]
  },
  {
   "cell_type": "code",
   "execution_count": 4,
   "metadata": {
    "dotnet_interactive": {
     "language": "csharp"
    },
    "polyglot_notebook": {
     "kernelName": "csharp"
    },
    "vscode": {
     "languageId": "polyglot-notebook"
    }
   },
   "outputs": [
    {
     "ename": "Error",
     "evalue": "(3,36): error CS1109: Extension methods must be defined in a top level static class; Extensions is a nested class",
     "output_type": "error",
     "traceback": [
      "(3,36): error CS1109: Extension methods must be defined in a top level static class; Extensions is a nested class"
     ]
    }
   ],
   "source": [
    "public static class Extensions // this should work in C# app . extension should not work in notebook because \"Extension methods must be defined in a top level static class; Extensions is a nested class\"\n",
    "{\n",
    "    public static IEnumerator<int> GetEnumerator(this int[] array)\n",
    "    {\n",
    "        foreach (var item in array)\n",
    "        {\n",
    "            yield return item * 2;\n",
    "        }\n",
    "    }\n",
    "}\n",
    "\n",
    "int[] array = {1, 2, 3};\n",
    "foreach (var item in array)\n",
    "{\n",
    "    Console.WriteLine(item);  // Outputs: 2, 4, 6\n",
    "}\n"
   ]
  },
  {
   "cell_type": "markdown",
   "metadata": {},
   "source": [
    "# Continue learning\n",
    "\n",
    "There are plenty more resources out there to learn!\n",
    "\n",
    "> [⏩ Next Module - ]()\n",
    ">\n",
    "> [⏪ Last Module - Null-Coalescing Assignment](65.StaticAnonymousFunctions.ipynb)\n",
    ">\n",
    "> [Reference - Extension GetEnumerator](https://learn.microsoft.com/en-us/dotnet/csharp/language-reference/proposals/csharp-9.0/extension-getenumerator)    \n",
    "> [Reference - c-version-9](https://learn.microsoft.com/en-us/dotnet/csharp/whats-new/csharp-version-history#c-version-9)    \n",
    "> [Reference - welcome-to-c-9-0/](https://devblogs.microsoft.com/dotnet/welcome-to-c-9-0/)    "
   ]
  }
 ],
 "metadata": {
  "language_info": {
   "name": "python"
  },
  "orig_nbformat": 4
 },
 "nbformat": 4,
 "nbformat_minor": 2
}
