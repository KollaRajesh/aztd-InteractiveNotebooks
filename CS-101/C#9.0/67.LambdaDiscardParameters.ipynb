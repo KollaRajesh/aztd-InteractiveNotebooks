{
 "cells": [
  {
   "cell_type": "markdown",
   "metadata": {},
   "source": [
    "> ### **Lambda Discard Parameters** in C#\n",
    ">    Version *C# 9.0*"
   ]
  },
  {
   "cell_type": "markdown",
   "metadata": {},
   "source": [
    ">  - **Lambda Discard Parameters**: Lambda discard parameters allow you to ignore one or more parameters of a lambda expression."
   ]
  },
  {
   "cell_type": "code",
   "execution_count": null,
   "metadata": {
    "dotnet_interactive": {
     "language": "csharp"
    },
    "polyglot_notebook": {
     "kernelName": "csharp"
    },
    "vscode": {
     "languageId": "polyglot-notebook"
    }
   },
   "outputs": [],
   "source": [
    "Action<int, int> printSecond = (_, y) => Console.WriteLine(y);\n",
    "printSecond(5, 10);  // Outputs: 10\n",
    "\n",
    "Func<int, int, int> add = (_, y) => y + 5;\n",
    "Console.WriteLine(add(5, 10));  // Outputs: 15"
   ]
  },
  {
   "cell_type": "markdown",
   "metadata": {},
   "source": [
    "# Continue learning\n",
    "\n",
    "There are plenty more resources out there to learn!\n",
    "\n",
    "> [⏩ Next Module - Attributes On Local Functions](68.AttributesOnLocalFunctions.ipynb)\n",
    ">\n",
    "> [⏪ Last Module - Extension GetEnumerator Support for ForEach Loop](66.Extension-GetEnumeratorSupportforForEachLoop.ipynb)\n",
    ">\n",
    "> [Reference - lambda-discard-parameters](https://learn.microsoft.com/en-us/dotnet/csharp/language-reference/proposals/csharp-9.0/lambda-discard-parameters)    \n",
    "> [Reference - C#-version-9](https://learn.microsoft.com/en-us/dotnet/csharp/whats-new/csharp-version-history#c-version-9)    \n",
    "> [Reference - welcome-to-c-9-0/](https://devblogs.microsoft.com/dotnet/welcome-to-c-9-0/)    "
   ]
  }
 ],
 "metadata": {
  "language_info": {
   "name": "python"
  },
  "orig_nbformat": 4
 },
 "nbformat": 4,
 "nbformat_minor": 2
}
