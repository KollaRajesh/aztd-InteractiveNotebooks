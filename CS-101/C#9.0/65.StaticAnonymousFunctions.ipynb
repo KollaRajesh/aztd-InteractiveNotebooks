{
 "cells": [
  {
   "cell_type": "markdown",
   "metadata": {},
   "source": [
    "> ### **Static Anonymous Functions** in C#\n",
    ">    Version *C# 9.0*"
   ]
  },
  {
   "cell_type": "markdown",
   "metadata": {},
   "source": [
    ">  - **Static Anonymous Functions**: Static anonymous functions are a feature introduced in C# 9.0 that allows you to declare anonymous methods or lambda expressions as static. \n",
    "> - This means they do not capture any variables from the enclosing scope."
   ]
  },
  {
   "cell_type": "code",
   "execution_count": 1,
   "metadata": {
    "dotnet_interactive": {
     "language": "csharp"
    },
    "polyglot_notebook": {
     "kernelName": "csharp"
    },
    "vscode": {
     "languageId": "polyglot-notebook"
    }
   },
   "outputs": [
    {
     "name": "stdout",
     "output_type": "stream",
     "text": [
      "10\n",
      "6\n"
     ]
    }
   ],
   "source": [
    "Action<int> multiplyByTwo = static x => Console.WriteLine(x * 2);\n",
    "multiplyByTwo(5);  // Outputs: 10\n",
    "\n",
    "Func<int, int> addOne = static x => x + 1;\n",
    "Console.WriteLine(addOne(5));  // Outputs: 6\n"
   ]
  },
  {
   "cell_type": "markdown",
   "metadata": {},
   "source": [
    "# Continue learning\n",
    "\n",
    "There are plenty more resources out there to learn!\n",
    "\n",
    "> [⏩ Next Module - Extension GetEnumerator Support for ForEach Loop ](66.Extension-GetEnumeratorSupportforForEachLoop.ipynb)\n",
    ">\n",
    "> [⏪ Last Module - Covariant Return Types](63.CovariantReturnTypes.ipynb)\n",
    ">\n",
    "> [Reference - Static Anonymous Functions](https://learn.microsoft.com/en-us/dotnet/csharp/language-reference/proposals/csharp-9.0/static-anonymous-functions)  \n",
    "> [Reference - C#-version-9](https://learn.microsoft.com/en-us/dotnet/csharp/whats-new/csharp-version-history#c-version-9)  \n",
    "> [Reference - welcome-to-c-9-0/](https://devblogs.microsoft.com/dotnet/welcome-to-c-9-0/)  "
   ]
  }
 ],
 "metadata": {
  "language_info": {
   "name": "python"
  },
  "orig_nbformat": 4
 },
 "nbformat": 4,
 "nbformat_minor": 2
}
