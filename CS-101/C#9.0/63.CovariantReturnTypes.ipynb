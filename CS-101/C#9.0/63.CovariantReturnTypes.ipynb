{
 "cells": [
  {
   "cell_type": "markdown",
   "metadata": {},
   "source": [
    "> ### **Covariant return types** in C#\n",
    ">    Version *C# 9.0*"
   ]
  },
  {
   "cell_type": "markdown",
   "metadata": {},
   "source": [
    ">  - **Covariant return types** is a feature introduced in C# 9.0 that allows an overridden method or property to return a more specific (derived) type than the one declared in the base method or property.   \n",
    ">\n",
    ">  - This can be particularly useful in scenarios like the factory pattern   \n",
    ">\n",
    ">  -  Here  is the example of *Covariant return types*."
   ]
  },
  {
   "cell_type": "code",
   "execution_count": null,
   "metadata": {
    "dotnet_interactive": {
     "language": "csharp"
    },
    "polyglot_notebook": {
     "kernelName": "csharp"
    },
    "vscode": {
     "languageId": "polyglot-notebook"
    }
   },
   "outputs": [],
   "source": [
    "public class Food{}\n",
    "\n",
    "public class Meat:Food{}\n",
    "\n",
    "public class SeaFood:Food{ }\n",
    "\n",
    "public class FastFood:Food{}\n",
    "public class Grass:Food{}\n",
    "abstract class Animal\n",
    "{\n",
    "    public abstract Food GetFood();\n",
    "}\n",
    "class Tiger : Animal\n",
    "{\n",
    "    public override Meat GetFood() => new Meat();\n",
    "}\n",
    "class Cow : Animal\n",
    "{\n",
    "    public override Grass GetFood() => new Grass();\n",
    "}\n",
    "var food =new Tiger().GetFood();\n",
    "food.GetType().Display();\n",
    "\n",
    "var cowFood =new Cow().GetFood();\n",
    "cowFood.GetType().Display();"
   ]
  },
  {
   "cell_type": "code",
   "execution_count": null,
   "metadata": {
    "dotnet_interactive": {
     "language": "csharp"
    },
    "polyglot_notebook": {
     "kernelName": "csharp"
    },
    "vscode": {
     "languageId": "polyglot-notebook"
    }
   },
   "outputs": [],
   "source": [
    "public class Employee\n",
    "{\n",
    "    public virtual EmployeeSkills GetSkills()\n",
    "    {\n",
    "        return new EmployeeSkills { CanSendEmails = true };\n",
    "    }\n",
    "}\n",
    "\n",
    "public class Developer : Employee\n",
    "{\n",
    "    public override DeveloperSkills GetSkills()\n",
    "    {\n",
    "        return new DeveloperSkills { CanSendEmails = true, KnowsDotNet = true };\n",
    "    }\n",
    "}\n",
    "\n",
    "public class EmployeeSkills\n",
    "{\n",
    "    public bool CanSendEmails { get; set; }\n",
    "}\n",
    "\n",
    "public class DeveloperSkills : EmployeeSkills\n",
    "{\n",
    "    public bool KnowsDotNet { get; set; }\n",
    "}\n",
    "\n",
    "new Employee().GetSkills().Display();\n",
    "new Developer().GetSkills().Display();\n"
   ]
  },
  {
   "cell_type": "markdown",
   "metadata": {},
   "source": [
    "# Continue learning\n",
    "\n",
    "There are plenty more resources out there to learn!\n",
    "\n",
    "> [⏩ Next Module - Target-typedNewExpression](64.Target-typedNewExpression.ipynb)\n",
    ">\n",
    "> [⏪ Last Module - PatternMatchingEnhancements](62.PatternMatchingEnhancements.ipynb)\n",
    ">\n",
    "> [Reference - covariant-returns](https://learn.microsoft.com/en-us/dotnet/csharp/language-reference/proposals/csharp-9.0/covariant-returns)  \n",
    "> [Reference - c-version-9](https://learn.microsoft.com/en-us/dotnet/csharp/whats-new/csharp-version-history#c-version-9)  \n",
    "> [Reference - welcome-to-c-9-0/](https://devblogs.microsoft.com/dotnet/welcome-to-c-9-0/)  "
   ]
  }
 ],
 "metadata": {
  "language_info": {
   "name": "python"
  },
  "orig_nbformat": 4
 },
 "nbformat": 4,
 "nbformat_minor": 2
}
