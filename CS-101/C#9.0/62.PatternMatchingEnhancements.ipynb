{
 "cells": [
  {
   "cell_type": "markdown",
   "metadata": {},
   "source": [
    "> ### **Pattern Matching Enhancements** in in C#\n",
    ">    Version *C# 9.0*"
   ]
  },
  {
   "cell_type": "markdown",
   "metadata": {},
   "source": [
    "> **Pattern matching enhancements**: Pattern matching is a feature that enables checking the shape of an object and extracting information from it.   \n",
    ">  \n",
    ">      C# 9.0 introduces several enhancements to pattern matching, such as relational patterns, logical patterns, type patterns, and parenthesized patterns.  \n",
    ">\n",
    ">      These enhancements make pattern matching more expressive and concise  "
   ]
  },
  {
   "cell_type": "markdown",
   "metadata": {},
   "source": [
    ">  -A **Declaration pattern** is a type of pattern that is used to test if an expression has a given type and, if the test succeeds, assign the expression result to a new variable of that type.       \n",
    ">\n",
    ">\n",
    ">   For example,    \n",
    ">           the following code uses a declaration pattern to check if the object greeting is a string and, if so, assign it to a new variable message:"
   ]
  },
  {
   "cell_type": "code",
   "execution_count": null,
   "metadata": {
    "dotnet_interactive": {
     "language": "csharp"
    },
    "polyglot_notebook": {
     "kernelName": "csharp"
    },
    "vscode": {
     "languageId": "polyglot-notebook"
    }
   },
   "outputs": [],
   "source": [
    "object greeting = \"Hello, user!\";\n",
    "if (greeting is string message)\n",
    "{\n",
    "    Console.WriteLine(message.ToLower()); // output: hello, user!\n",
    "}\n"
   ]
  },
  {
   "cell_type": "markdown",
   "metadata": {},
   "source": [
    "> - Another example of a declaration pattern is to check if an expression is non-null and implements a certain interface.  \n",
    "> \n",
    "> For example,   \n",
    ">   the following code uses a declaration pattern to check if the sequence parameter is not null and implements the IList<T> interface and, if so, assign it to a new variable list:"
   ]
  },
  {
   "cell_type": "code",
   "execution_count": null,
   "metadata": {
    "dotnet_interactive": {
     "language": "csharp"
    },
    "polyglot_notebook": {
     "kernelName": "csharp"
    },
    "vscode": {
     "languageId": "polyglot-notebook"
    }
   },
   "outputs": [],
   "source": [
    "public static T MidPoint<T>(IEnumerable<T> sequence)\n",
    "{\n",
    "    if (sequence is IList<T> list)\n",
    "    {\n",
    "        return list[list.Count / 2];\n",
    "    }\n",
    "    else if (sequence is null)\n",
    "    {\n",
    "        throw new ArgumentNullException(nameof(sequence), \"Sequence can't be null.\");\n",
    "    }\n",
    "    else\n",
    "    {\n",
    "        int halfLength = sequence.Count() / 2 - 1;\n",
    "        if (halfLength < 0) halfLength = 0;\n",
    "        return sequence.Skip(halfLength).First();\n",
    "    }\n",
    "}\n",
    "MidPoint(new[]{10,20,30,2,4,12}).Display();\n",
    "MidPoint<int>(null).Display();"
   ]
  },
  {
   "cell_type": "markdown",
   "metadata": {},
   "source": [
    "> Type pattern: to check the run-time type of an expression.  \n",
    ">\n",
    ">  For example:"
   ]
  },
  {
   "cell_type": "code",
   "execution_count": null,
   "metadata": {
    "dotnet_interactive": {
     "language": "csharp"
    },
    "polyglot_notebook": {
     "kernelName": "csharp"
    },
    "vscode": {
     "languageId": "polyglot-notebook"
    }
   },
   "outputs": [],
   "source": [
    "object obj = \"Hello\";\n",
    "if (obj is string s) // type pattern with variable declaration\n",
    "{\n",
    "    Console.WriteLine(s.Length); // output: 5\n",
    "}\n"
   ]
  },
  {
   "cell_type": "markdown",
   "metadata": {},
   "source": [
    "> Another example:"
   ]
  },
  {
   "cell_type": "code",
   "execution_count": null,
   "metadata": {
    "dotnet_interactive": {
     "language": "csharp"
    },
    "polyglot_notebook": {
     "kernelName": "csharp"
    },
    "vscode": {
     "languageId": "polyglot-notebook"
    }
   },
   "outputs": [],
   "source": [
    "int x = 10;\n",
    "if (x is int) // type pattern without variable declaration\n",
    "{\n",
    "    Console.WriteLine(x + 1); // output: 11\n",
    "}\n"
   ]
  },
  {
   "cell_type": "markdown",
   "metadata": {},
   "source": [
    ">   **Constant pattern**: to test if an expression result equals a specified constant.\n",
    ">\n",
    "> For example:"
   ]
  },
  {
   "cell_type": "code",
   "execution_count": null,
   "metadata": {
    "dotnet_interactive": {
     "language": "csharp"
    },
    "polyglot_notebook": {
     "kernelName": "csharp"
    },
    "vscode": {
     "languageId": "polyglot-notebook"
    }
   },
   "outputs": [],
   "source": [
    "char c = 'a';\n",
    "if (c is 'A' or 'a') // constant pattern with logical pattern\n",
    "{\n",
    "    Console.WriteLine(\"It's an A\"); // output: It's an A\n",
    "}\n"
   ]
  },
  {
   "cell_type": "markdown",
   "metadata": {},
   "source": [
    "> Another example of *Constant Pattern*:"
   ]
  },
  {
   "cell_type": "code",
   "execution_count": null,
   "metadata": {
    "dotnet_interactive": {
     "language": "csharp"
    },
    "polyglot_notebook": {
     "kernelName": "csharp"
    },
    "vscode": {
     "languageId": "polyglot-notebook"
    }
   },
   "outputs": [],
   "source": [
    "string s = null;\n",
    "if (s is null) // constant pattern\n",
    "{\n",
    "    Console.WriteLine(\"It's null\"); // output: It's null\n",
    "}\n"
   ]
  },
  {
   "cell_type": "markdown",
   "metadata": {},
   "source": [
    "> **Relational pattern**: to compare an expression result with a specified constant using relational operators.\n",
    ">\n",
    "> For example:"
   ]
  },
  {
   "cell_type": "code",
   "execution_count": null,
   "metadata": {
    "dotnet_interactive": {
     "language": "csharp"
    },
    "polyglot_notebook": {
     "kernelName": "csharp"
    },
    "vscode": {
     "languageId": "polyglot-notebook"
    }
   },
   "outputs": [],
   "source": [
    "double score = 75.5;\n",
    "if (score is > 90) // relational pattern\n",
    "{\n",
    "    Console.WriteLine(\"You got an A\");\n",
    "}\n",
    "else\n",
    "{\n",
    "    Console.WriteLine(\"You didn't get an A\"); // output: You didn't get an A\n",
    "}\n"
   ]
  },
  {
   "cell_type": "code",
   "execution_count": null,
   "metadata": {
    "dotnet_interactive": {
     "language": "csharp"
    },
    "polyglot_notebook": {
     "kernelName": "csharp"
    },
    "vscode": {
     "languageId": "polyglot-notebook"
    }
   },
   "outputs": [],
   "source": [
    "int age = 25;\n",
    "if (age is >= 18 and < 65) // relational pattern with logical pattern\n",
    "{\n",
    "    Console.WriteLine(\"You are eligible to work\"); // output: You are eligible to work\n",
    "}\n",
    "\n"
   ]
  },
  {
   "cell_type": "code",
   "execution_count": null,
   "metadata": {
    "dotnet_interactive": {
     "language": "csharp"
    },
    "polyglot_notebook": {
     "kernelName": "csharp"
    },
    "vscode": {
     "languageId": "polyglot-notebook"
    }
   },
   "outputs": [],
   "source": [
    "static string Classify(double measurement) => measurement switch  // relational pattern\n",
    "{\n",
    "    < -4.0 => \"Too low\",  \n",
    "    > 10.0 => \"Too high\",\n",
    "    double.NaN => \"Unknown\",\n",
    "    _ => \"Acceptable\",\n",
    "};\n",
    "Console.WriteLine(Classify(13));  // output: Too high\n",
    "Console.WriteLine(Classify(double.NaN));  // output: Unknown\n",
    "Console.WriteLine(Classify(2.4));  // output: Acceptable"
   ]
  },
  {
   "cell_type": "code",
   "execution_count": null,
   "metadata": {
    "dotnet_interactive": {
     "language": "csharp"
    },
    "polyglot_notebook": {
     "kernelName": "csharp"
    },
    "vscode": {
     "languageId": "polyglot-notebook"
    }
   },
   "outputs": [],
   "source": [
    "static string GetCalendarSeason(DateTime date) => date.Month switch\n",
    "{\n",
    "    >= 3 and < 6 => \"spring\",\n",
    "    >= 6 and < 9 => \"summer\",\n",
    "    >= 9 and < 12 => \"autumn\",\n",
    "    12 or (>= 1 and < 3) => \"winter\",\n",
    "    _ => throw new ArgumentOutOfRangeException(nameof(date), $\"Date with unexpected month: {date.Month}.\"),\n",
    "};\n",
    "\n",
    "GetCalendarSeason(new DateTime(2021, 3, 14)).Display();  // output: spring\n",
    "GetCalendarSeason(new DateTime(2021, 7, 19)).Display();   // output: summer\n",
    "GetCalendarSeason(new DateTime(2021, 2, 17)).Display();   // output: winter"
   ]
  },
  {
   "cell_type": "markdown",
   "metadata": {},
   "source": [
    ">  **Logical pattern**: to test if an expression matches a logical combination of patterns using and, or, and not keywords.   \n",
    "> \n",
    "> For example:"
   ]
  },
  {
   "cell_type": "code",
   "execution_count": null,
   "metadata": {
    "dotnet_interactive": {
     "language": "csharp"
    },
    "polyglot_notebook": {
     "kernelName": "csharp"
    },
    "vscode": {
     "languageId": "polyglot-notebook"
    }
   },
   "outputs": [],
   "source": [
    "int n = 10;\n",
    "if (n is not 0 and not 1) // logical pattern with not keyword\n",
    "{\n",
    "    Console.WriteLine(\"It's not 0 or 1\"); // output: It's not 0 or 1\n",
    "}\n"
   ]
  },
  {
   "cell_type": "code",
   "execution_count": null,
   "metadata": {
    "dotnet_interactive": {
     "language": "csharp"
    },
    "polyglot_notebook": {
     "kernelName": "csharp"
    },
    "vscode": {
     "languageId": "polyglot-notebook"
    }
   },
   "outputs": [],
   "source": [
    "object o = 100;\n",
    "if (o is int or long) // logical pattern with or keyword\n",
    "{\n",
    "    Console.WriteLine(\"It's an int or a long\"); // output: It's an int or a long\n",
    "}\n"
   ]
  },
  {
   "cell_type": "code",
   "execution_count": null,
   "metadata": {
    "dotnet_interactive": {
     "language": "csharp"
    },
    "polyglot_notebook": {
     "kernelName": "csharp"
    },
    "vscode": {
     "languageId": "polyglot-notebook"
    }
   },
   "outputs": [],
   "source": [
    "static string Classify(double measurement) => measurement switch\n",
    "{\n",
    "    < -40.0 => \"Too low\",\n",
    "    >= -40.0 and < 0 => \"Low\",\n",
    "    >= 0 and < 10.0 => \"Acceptable\",\n",
    "    >= 10.0 and < 20.0 => \"High\",\n",
    "    >= 20.0 => \"Too high\",\n",
    "    double.NaN => \"Unknown\",\n",
    "};\n",
    "\n",
    "Classify(13).Display();  // output: High\n",
    "Classify(-100).Display();  // output: Too low\n",
    "Classify(5.7).Display();  // output: Acceptable"
   ]
  },
  {
   "cell_type": "markdown",
   "metadata": {},
   "source": [
    "> **Property pattern** to test if an expression’s properties or fields match nested patterns.  \n",
    ">\n",
    ">  For example:  "
   ]
  },
  {
   "cell_type": "code",
   "execution_count": null,
   "metadata": {
    "dotnet_interactive": {
     "language": "csharp"
    },
    "polyglot_notebook": {
     "kernelName": "csharp"
    },
    "vscode": {
     "languageId": "polyglot-notebook"
    }
   },
   "outputs": [],
   "source": [
    "class Person\n",
    "{\n",
    "    public string Name { get; set; }\n",
    "    public int Age { get; set; }\n",
    "}\n",
    "\n",
    "Person p = new Person { Name = \"Rob\", Age = 20 };\n",
    "if (p is { Name: \"Rob\" }) // property pattern\n",
    "{\n",
    "    Console.WriteLine(\"Hello, Rob\"); // output: Hello, ROb\n",
    "}\n"
   ]
  },
  {
   "cell_type": "code",
   "execution_count": null,
   "metadata": {
    "dotnet_interactive": {
     "language": "csharp"
    },
    "polyglot_notebook": {
     "kernelName": "csharp"
    },
    "vscode": {
     "languageId": "polyglot-notebook"
    }
   },
   "outputs": [],
   "source": [
    "class Point\n",
    "{\n",
    "    public int X { get; set; }\n",
    "    public int Y { get; set; }\n",
    "}\n",
    "\n",
    "Point pt = new Point { X = 0, Y = 0 };\n",
    "if (pt is { X: 0, Y: not 0 }) // property pattern with logical pattern\n",
    "{\n",
    "    Console.WriteLine(\"On the Y axis\");\n",
    "}\n",
    "else\n",
    "{\n",
    "    Console.WriteLine(\"Not on the Y axis\"); // output: Not on the Y axis\n",
    "}\n"
   ]
  },
  {
   "cell_type": "markdown",
   "metadata": {},
   "source": [
    "> **Positional pattern**: to deconstruct an expression result and test if the resulting values match nested patterns.  \n",
    ">  For example:"
   ]
  },
  {
   "cell_type": "code",
   "execution_count": null,
   "metadata": {
    "dotnet_interactive": {
     "language": "csharp"
    },
    "polyglot_notebook": {
     "kernelName": "csharp"
    },
    "vscode": {
     "languageId": "polyglot-notebook"
    }
   },
   "outputs": [],
   "source": [
    "class Point\n",
    "{\n",
    "    public int X { get; set; }\n",
    "    public int Y { get; set; }\n",
    "\n",
    "    public void Deconstruct(out int x, out int y)\n",
    "    {\n",
    "        x = X;\n",
    "        y = Y;\n",
    "    }\n",
    "}\n",
    "\n",
    "Point pt = new Point { X = 0, Y = 0 };\n",
    "if (pt is (0, 0)) // positional pattern\n",
    "{\n",
    "    Console.WriteLine(\"Origin\"); // output: Origin\n",
    "}\n"
   ]
  },
  {
   "cell_type": "code",
   "execution_count": null,
   "metadata": {
    "dotnet_interactive": {
     "language": "csharp"
    },
    "polyglot_notebook": {
     "kernelName": "csharp"
    },
    "vscode": {
     "languageId": "polyglot-notebook"
    }
   },
   "outputs": [],
   "source": [
    "var tuple = (10, 20);\n",
    "if (tuple is (>= 10, <= 20)) // positional pattern with relational pattern\n",
    "{\n",
    "    Console.WriteLine(\"In range\"); // output: In range\n",
    "}\n"
   ]
  },
  {
   "cell_type": "markdown",
   "metadata": {},
   "source": [
    "> **var pattern**: to match any expression and assign its result to a declared variable. \n",
    ">  For example:"
   ]
  },
  {
   "cell_type": "code",
   "execution_count": null,
   "metadata": {
    "dotnet_interactive": {
     "language": "csharp"
    },
    "polyglot_notebook": {
     "kernelName": "csharp"
    },
    "vscode": {
     "languageId": "polyglot-notebook"
    }
   },
   "outputs": [],
   "source": [
    "object o = \"Hello\";\n",
    "if (o is var x) // var pattern\n",
    "{\n",
    "    Console.WriteLine(x?.GetType()?.Name); // output: String\n",
    "}\n"
   ]
  },
  {
   "cell_type": "code",
   "execution_count": null,
   "metadata": {
    "dotnet_interactive": {
     "language": "csharp"
    },
    "polyglot_notebook": {
     "kernelName": "csharp"
    },
    "vscode": {
     "languageId": "polyglot-notebook"
    }
   },
   "outputs": [],
   "source": [
    "int[] numbers = { 1, 2, 3 };\n",
    "if (numbers is { Length: var n }) // var pattern with property pattern\n",
    "{\n",
    "    Console.WriteLine(n); // output: 3\n",
    "}\n"
   ]
  },
  {
   "cell_type": "markdown",
   "metadata": {},
   "source": [
    "> **Discard pattern**: to match any expression and ignore its result.  \n",
    ">\n",
    ">  For example:\n",
    ">"
   ]
  },
  {
   "cell_type": "code",
   "execution_count": null,
   "metadata": {
    "dotnet_interactive": {
     "language": "csharp"
    },
    "polyglot_notebook": {
     "kernelName": "csharp"
    },
    "vscode": {
     "languageId": "polyglot-notebook"
    }
   },
   "outputs": [],
   "source": [
    "int x = 10;\n",
    "if (x is (_) ) // discard pattern\n",
    "{\n",
    "    Console.WriteLine(\"It's something\"); // output: It's something\n",
    "}\n"
   ]
  },
  {
   "cell_type": "code",
   "execution_count": null,
   "metadata": {
    "dotnet_interactive": {
     "language": "csharp"
    },
    "polyglot_notebook": {
     "kernelName": "csharp"
    },
    "vscode": {
     "languageId": "polyglot-notebook"
    }
   },
   "outputs": [],
   "source": [
    "var tuple = (10, 20);\n",
    "if (tuple is (10, _)) // discard pattern with positional pattern\n",
    "{\n",
    "    Console.WriteLine(\"First element is 10\"); // output: First element is 10\n",
    "}\n"
   ]
  },
  {
   "cell_type": "markdown",
   "metadata": {},
   "source": [
    "> **List patterns**: to test if sequence elements match corresponding nested patterns.  \n",
    ">\n",
    "> For example:"
   ]
  },
  {
   "cell_type": "code",
   "execution_count": null,
   "metadata": {
    "dotnet_interactive": {
     "language": "csharp"
    },
    "polyglot_notebook": {
     "kernelName": "csharp"
    },
    "vscode": {
     "languageId": "polyglot-notebook"
    }
   },
   "outputs": [],
   "source": [
    "int[] numbers = { 1, 2, 3 };\n",
    "if (numbers is [1, 2, 3]) // list pattern\n",
    "{\n",
    "    Console.WriteLine(\"It's a match\"); // output: It's a match\n",
    "}\n"
   ]
  },
  {
   "cell_type": "code",
   "execution_count": null,
   "metadata": {
    "dotnet_interactive": {
     "language": "csharp"
    },
    "polyglot_notebook": {
     "kernelName": "csharp"
    },
    "vscode": {
     "languageId": "polyglot-notebook"
    }
   },
   "outputs": [],
   "source": [
    "char[] letters = { 'a', 'b', 'c' };\n",
    "if (letters is ['a', .., 'c']) // list pattern with slice pattern\n",
    "{\n",
    "    Console.WriteLine(\"Starts with a and ends with c\"); // output: Starts with a and ends with c\n",
    "}\n"
   ]
  },
  {
   "cell_type": "markdown",
   "metadata": {},
   "source": [
    "# Continue learning\n",
    "\n",
    "There are plenty more resources out there to learn!\n",
    "\n",
    "> [⏩ Next Module - Covariant Return Types](63.CovariantReturnTypes.ipynb)\n",
    ">\n",
    "> [⏪ Last Module - Top Level Statements](61.Top-LevelStatements.ipynb)\n",
    ">\n",
    "> [Reference - patterns](https://learn.microsoft.com/en-us/dotnet/csharp/language-reference/operators/patterns)    \n",
    "> [Reference - pattern-matching](https://learn.microsoft.com/en-us/dotnet/csharp/fundamentals/functional/pattern-matching)  \n",
    "> [Reference - c#-version-9](https://learn.microsoft.com/en-us/dotnet/csharp/whats-new/csharp-version-history#c-version-9)     \n",
    "> [Reference - welcome-to-c-9-0/](https://devblogs.microsoft.com/dotnet/welcome-to-c-9-0/)    \n"
   ]
  }
 ],
 "metadata": {
  "language_info": {
   "name": "python"
  },
  "orig_nbformat": 4
 },
 "nbformat": 4,
 "nbformat_minor": 2
}
