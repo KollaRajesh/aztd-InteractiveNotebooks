{
 "cells": [
  {
   "cell_type": "markdown",
   "metadata": {},
   "source": [
    "> ### Readonly  Struct Members\n",
    ">    Version *C# 8.0*"
   ]
  },
  {
   "cell_type": "markdown",
   "metadata": {},
   "source": [
    "> **Readonly members**: This feature allows you to mark fields as readonly to prevent them from being modified after initialization.\n",
    ">\n",
    ">   This can help improve code safety and maintainability."
   ]
  },
  {
   "cell_type": "markdown",
   "metadata": {},
   "source": [
    "> Example 1: \n",
    ">\n",
    ">\n",
    "> In this example, we define a ReadOnly struct named Person with two read-only members: Name and Age.   \n",
    "> We then create an instance of the Person struct and initialize its members. Finally, we print the values of the Name and Age members."
   ]
  },
  {
   "cell_type": "code",
   "execution_count": null,
   "metadata": {
    "dotnet_interactive": {
     "language": "csharp"
    },
    "polyglot_notebook": {
     "kernelName": "csharp"
    },
    "vscode": {
     "languageId": "polyglot-notebook"
    }
   },
   "outputs": [],
   "source": [
    "public readonly struct Person\n",
    "{\n",
    "    public readonly string Name;\n",
    "    public readonly int Age;\n",
    "\n",
    "    public Person(string name, int age)\n",
    "    {\n",
    "        Name = name;\n",
    "        Age = age;\n",
    "    }\n",
    "}\n",
    "\n",
    "    var person = new Person(\"John Doe\", 30);\n",
    "    Console.WriteLine($\"Name: {person.Name}, Age: {person.Age}\");\n",
    "\n"
   ]
  },
  {
   "cell_type": "markdown",
   "metadata": {},
   "source": [
    "> Example 2:\n",
    ">\n",
    ">\n",
    "> In this example, we define a ReadOnly struct named Point with two read-only members: X and Y.\n",
    ">\n",
    ">  -  We then define a read-only method named Translate that takes two integer parameters xOffset and yOffset.  \n",
    ">  -  The method returns a new Point struct with the X and Y members translated by the given offsets.  \n",
    ">  -  We then create an instance of the Point struct and call the Translate method.     \n",
    ">  -  Finally, we print the values of the X and Y members of the translated Point struct.   "
   ]
  },
  {
   "cell_type": "code",
   "execution_count": null,
   "metadata": {
    "dotnet_interactive": {
     "language": "csharp"
    },
    "polyglot_notebook": {
     "kernelName": "csharp"
    },
    "vscode": {
     "languageId": "polyglot-notebook"
    }
   },
   "outputs": [],
   "source": [
    "public readonly struct Point\n",
    "{\n",
    "    public readonly int X;\n",
    "    public readonly int Y;\n",
    "\n",
    "    public Point(int x, int y)\n",
    "    {\n",
    "        X = x;\n",
    "        Y = y;\n",
    "    }\n",
    "\n",
    "    public readonly Point Translate(int xOffset, int yOffset) =>\n",
    "        new Point(X + xOffset, Y + yOffset);\n",
    "}\n",
    "\n",
    "\n",
    "  var point = new Point(10, 20);\n",
    "  var translatedPoint = point.Translate(5, 5);\n",
    "  Console.WriteLine($\"Original Point: X={point.X}, Y={point.Y}\");\n",
    "   Console.WriteLine($\"Translated Point: X={translatedPoint.X}, Y={translatedPoint.Y}\");\n",
    "\n"
   ]
  },
  {
   "cell_type": "markdown",
   "metadata": {},
   "source": [
    "# Continue learning\n",
    "\n",
    "There are plenty more resources out there to learn!\n",
    "\n",
    "> [⏩ Next Module - Default Interface ](48.DefaultInterface.ipynb)\n",
    ">\n",
    "> [⏪ Last Module - Throw Exceptions](../C#7.0/46.ThrowExceptions.ipynb)\n",
    ">\n",
    "> [Reference- readonly structs in csharp](https://dotnettutorials.net/lesson/readonly-structs-in-csharp-8/)"
   ]
  }
 ],
 "metadata": {
  "language_info": {
   "name": "python"
  },
  "orig_nbformat": 4
 },
 "nbformat": 4,
 "nbformat_minor": 2
}
