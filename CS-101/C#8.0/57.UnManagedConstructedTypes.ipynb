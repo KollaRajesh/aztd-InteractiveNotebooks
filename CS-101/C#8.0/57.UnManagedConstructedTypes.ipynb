{
 "cells": [
  {
   "cell_type": "markdown",
   "metadata": {},
   "source": [
    "> ### **Un Managed Constructed Types**:\n",
    ">    Version *C# 8.0*"
   ]
  },
  {
   "cell_type": "markdown",
   "metadata": {},
   "source": [
    "> **What is Unmanaged Type in C#?**\n",
    ">   -   A type is called unmanaged type when it is being used in an unsafe context.     \n",
    ">   -   This is true for many built-in basic types.    \n",
    ">   -   A type is an unmanaged type, if it is any of the following types:    \n",
    ">\n",
    ">        - sbyte, byte, short, ushort, int, uint, long, ulong, char, float, double, decimal, or bool     \n",
    ">        - Any enum type     \n",
    ">        - Any pointer types    \n",
    ">        - Any user-defined struct type that contains fields of unmanaged types only.    \n",
    ">\n",
    ">\n",
    ">  **What is Constructed Type in C#?**    \n",
    ">  A type is called constructed type if it is generic and the type parameter is already defined.     \n",
    ">\n",
    ">  - For example, \n",
    ">     List<string> is a constructed type while List<T> is not.     \n",
    ">     This is because the string is already defined as a data type whereas T is not already defined as a data type.    \n",
    ">\n",
    ">    In C# 7 and earlier, a Constructed Type can’t be an Unmanaged Type.  \n",
    ">   \n",
    ">    Starting with C# 8.0, a constructed value type is unmanaged if it contains fields of unmanaged types only.     "
   ]
  },
  {
   "cell_type": "code",
   "execution_count": null,
   "metadata": {
    "dotnet_interactive": {
     "language": "csharp"
    },
    "polyglot_notebook": {
     "kernelName": "csharp"
    },
    "vscode": {
     "languageId": "polyglot-notebook"
    }
   },
   "outputs": [],
   "source": [
    "public struct Coords<T>{\n",
    "  public T X;\n",
    "  public T Y;\n",
    "}\n",
    " private unsafe static void DisplaySize<T>() where T : unmanaged\n",
    " {\n",
    "        Console.WriteLine($\"{typeof(T)} is unmanaged and its size is {sizeof(T)} bytes\");\n",
    " }\n",
    "\n",
    "\n",
    "DisplaySize<Coords<int>>();\n",
    "DisplaySize<Coords<double>>();"
   ]
  },
  {
   "cell_type": "code",
   "execution_count": null,
   "metadata": {
    "dotnet_interactive": {
     "language": "csharp"
    },
    "polyglot_notebook": {
     "kernelName": "csharp"
    },
    "vscode": {
     "languageId": "polyglot-notebook"
    }
   },
   "outputs": [],
   "source": [
    " public struct Coords<T> where T : unmanaged\n",
    "    {\n",
    "        public T X;\n",
    "        public T Y;\n",
    "        public T Z;\n",
    "    }\n",
    "\n",
    "      var  bars =new  List<Coords<int>>{\n",
    "                new Coords<int> { X = 10, Y = 20, Z = 30 },\n",
    "                new Coords<int> { X = 3, Y = 21, Z = 31 },\n",
    "                new Coords<int> { X = 21, Y = 22, Z = 32 },\n",
    "    };\n",
    "    //bars.Display();\n",
    "    foreach (var bar in bars){\n",
    "            Console.WriteLine($\"X: {bar.X} Y: {bar.Y} Z: {bar.Z}\");\n",
    "            Console.WriteLine();\n",
    "        }"
   ]
  },
  {
   "cell_type": "markdown",
   "metadata": {},
   "source": [
    "> **Note**:\n",
    "> 1. This feature is a performance enhancement.\n",
    "> 2. Constructed value types are now unmanaged if it only contains fields of unmanaged types.\n",
    "> 3. This feature means that you can do things like allocate instances on the stack"
   ]
  },
  {
   "cell_type": "markdown",
   "metadata": {},
   "source": [
    "# Continue learning\n",
    "\n",
    "There are plenty more resources out there to learn!\n",
    "\n",
    "> [⏩ Next Module - StackAlloc  in Nested Expression](58.StackAlloc_in_Nested_Expression.ipynb)\n",
    ">\n",
    "> [⏪ Last Module - Null-Coalescing Assignment](56.Null-CoalescingAssignment.ipynb)\n",
    ">\n",
    "> [Reference - unmanaged types](https://learn.microsoft.com/en-us/dotnet/csharp/language-reference/builtin-types/unmanaged-types)\n",
    "> [Reference - unmanaged constructed types in csharp-8](https://dotnettutorials.net/lesson/unmanaged-constructed-types-in-csharp-8/)"
   ]
  }
 ],
 "metadata": {
  "language_info": {
   "name": "python"
  },
  "orig_nbformat": 4
 },
 "nbformat": 4,
 "nbformat_minor": 2
}
