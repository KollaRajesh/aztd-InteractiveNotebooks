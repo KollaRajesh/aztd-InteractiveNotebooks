{
 "cells": [
  {
   "cell_type": "markdown",
   "metadata": {},
   "source": [
    "> ### Pattern Matching Enhancements\n",
    ">    Version *C# 8.0*"
   ]
  },
  {
   "cell_type": "markdown",
   "metadata": {},
   "source": [
    "> Example 1:\n",
    ">\n",
    "> - In this example, we define a Person class with two properties: Name and Age. \n",
    "> - We then use pattern matching to check if the object is of type Person and has an age greater than or equal to 18. \n",
    "> - If the object satisfies both conditions, we print a message saying that the person is an adult."
   ]
  },
  {
   "cell_type": "code",
   "execution_count": null,
   "metadata": {
    "dotnet_interactive": {
     "language": "csharp"
    },
    "polyglot_notebook": {
     "kernelName": "csharp"
    },
    "vscode": {
     "languageId": "polyglot-notebook"
    }
   },
   "outputs": [],
   "source": [
    "public class Person\n",
    "{\n",
    "    public string Name { get; set; }\n",
    "    public int Age { get; set; }\n",
    "}\n",
    "\n",
    "    var person = new Person { Name = \"John Doe\", Age = 30 };\n",
    "\n",
    "    if (person is Person { Age: >= 18 } adult)\n",
    "    {\n",
    "        Console.WriteLine($\"{adult.Name} is an adult.\");\n",
    "    }"
   ]
  },
  {
   "cell_type": "markdown",
   "metadata": {},
   "source": [
    "> Example 2:\n",
    ">\n",
    ">  - In this example, we define a Shape class with two properties: Type and Dimensions.\n",
    ">  - We then use pattern matching to check if the object is of type Shape and has dimensions of type Rectangle.\n",
    ">  - If the object satisfies both conditions, we calculate and print the area of the rectangle."
   ]
  },
  {
   "cell_type": "code",
   "execution_count": null,
   "metadata": {
    "dotnet_interactive": {
     "language": "csharp"
    },
    "polyglot_notebook": {
     "kernelName": "csharp"
    },
    "vscode": {
     "languageId": "polyglot-notebook"
    }
   },
   "outputs": [],
   "source": [
    "public class Rectangle\n",
    "{\n",
    "    public double Width { get; set; }\n",
    "    public double Height { get; set; }\n",
    "}\n",
    "\n",
    "public class Shape\n",
    "{\n",
    "    public string Type { get; set; }\n",
    "    public object Dimensions { get; set; }\n",
    "}\n",
    "\n",
    "    var shape = new Shape { Type = \"Rectangle\", Dimensions = new Rectangle { Width = 10, Height = 20 } };\n",
    "\n",
    "    if (shape is Shape { Type: \"Rectangle\", Dimensions: Rectangle { Width: var width, Height: var height } })\n",
    "    {\n",
    "        var area = width * height;\n",
    "        Console.WriteLine($\"The area of the rectangle is {area}.\");\n",
    "    }\n"
   ]
  },
  {
   "cell_type": "markdown",
   "metadata": {},
   "source": [
    "# Continue learning\n",
    "\n",
    "There are plenty more resources out there to learn!\n",
    "\n",
    "> [⏩ Next Module - Pattern Matching ](50.UsingDeclarations.ipynb)\n",
    ">\n",
    "> [⏪ Last Module - Default Interface](48.DefaultInterface.ipynb)\n",
    ">\n",
    "> [Reference - pattern-matching](https://learn.microsoft.com/en-us/dotnet/csharp/fundamentals/functional/pattern-matching)  "
   ]
  }
 ],
 "metadata": {
  "language_info": {
   "name": "python"
  },
  "orig_nbformat": 4
 },
 "nbformat": 4,
 "nbformat_minor": 2
}
