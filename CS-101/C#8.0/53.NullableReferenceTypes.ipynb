{
 "cells": [
  {
   "cell_type": "markdown",
   "metadata": {},
   "source": [
    "> ### Nullable Reference Type\n",
    ">    Version *C# 8.0*"
   ]
  },
  {
   "cell_type": "markdown",
   "metadata": {},
   "source": [
    ">**Nullable reference types**: This feature allows you to annotate reference types with a ? to indicate that they are nullable.   \n",
    ">\n",
    ">This can help prevent null reference exceptions and improve code safety."
   ]
  },
  {
   "cell_type": "markdown",
   "metadata": {},
   "source": [
    "> **Benefits of Nullable Reference Types** in C#\n",
    "> The introduction of this feature from C# 8.0 allows for several benefits that are not present in earlier versions:\n",
    ">\n",
    ">   1. Allows the programmer to clearly show their intent when declaring variables. \n",
    ">   2. Provides protection against Null Reference Exceptions.  \n",
    ">   3. The compiler warns you if you dereference a nullable reference when it may be null.  \n",
    ">\n",
    ">\n",
    "> **Rules for Non-nullable Reference Type** in C#    \n",
    "> When a variable is not supposed to be null, the compiler enforces some rules to make sure that it is safe to dereference that variable without checking that it is not null.  \n",
    ">\n",
    "> 1. The variable must be initialized to a non-null value.    \n",
    "> 2. The variable can never be assigned the null value.    \n",
    ">\n",
    ">\n",
    "> **Rules for Nullable Reference Type** in C#     \n",
    "> When a variable can be null, in that case, the compiler enforces different rules to make sure that you have correctly checked for a null reference.  \n",
    ">\n",
    "> \n",
    ">  1. The variable may only be dereferenced when the compiler can guarantee that the value is not null.    \n",
    ">  2. It may be initialized with the default null value and may be assigned the value null in another code.     "
   ]
  },
  {
   "cell_type": "code",
   "execution_count": null,
   "metadata": {
    "dotnet_interactive": {
     "language": "csharp"
    },
    "polyglot_notebook": {
     "kernelName": "csharp"
    },
    "vscode": {
     "languageId": "polyglot-notebook"
    }
   },
   "outputs": [],
   "source": [
    "string? name = null;\n",
    "\n",
    "int length = name?.Length ?? 0;\n",
    "length.Display();\n",
    "\n",
    "name = \"test\";\n",
    "length = name?.Length ?? 0;\n",
    "length.Display();"
   ]
  },
  {
   "cell_type": "markdown",
   "metadata": {},
   "source": [
    "# Continue learning\n",
    "\n",
    "There are plenty more resources out there to learn!\n",
    "\n",
    "> [⏩ Next Module - Async Streams](54.0.AsyncStreams.Ipynb)\n",
    ">\n",
    "> [⏪ Last Module - Disposable Ref Structs](52.DisposableRefStructs.ipynb)\n",
    ">\n",
    "> [Reference - nullable reference types in csharp-8](https://dotnettutorials.net/lesson/nullable-reference-types-in-csharp-8/)"
   ]
  }
 ],
 "metadata": {
  "language_info": {
   "name": "python"
  },
  "orig_nbformat": 4
 },
 "nbformat": 4,
 "nbformat_minor": 2
}
