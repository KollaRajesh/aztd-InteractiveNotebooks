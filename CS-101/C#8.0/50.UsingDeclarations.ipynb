{
 "cells": [
  {
   "cell_type": "markdown",
   "metadata": {},
   "source": [
    "> ### Using Declaration\n",
    ">    Version *C# 8.0*"
   ]
  },
  {
   "cell_type": "markdown",
   "metadata": {},
   "source": [
    ">  **Using declarations**: This feature allows you to declare a variable and dispose of it automatically when it goes out of scope.  \n",
    ">\n",
    "> We can use the using keyword to achieve this."
   ]
  },
  {
   "cell_type": "markdown",
   "metadata": {},
   "source": [
    "> Example 1:\n",
    ">\n",
    ">  - In this example, we use a using declaration to create a new StreamReader object and read the contents of a file.  \n",
    ">  - The using declaration ensures that the StreamReader object is disposed of properly when it goes out of scope."
   ]
  },
  {
   "cell_type": "code",
   "execution_count": 3,
   "metadata": {
    "dotnet_interactive": {
     "language": "csharp"
    },
    "polyglot_notebook": {
     "kernelName": "csharp"
    },
    "vscode": {
     "languageId": "polyglot-notebook"
    }
   },
   "outputs": [
    {
     "ename": "Error",
     "evalue": "(1,24): error CS1002: ; expected",
     "output_type": "error",
     "traceback": [
      "(1,24): error CS1002: ; expected"
     ]
    }
   ],
   "source": [
    "    using System.IO;\n",
    "    using StreamReader reader = new StreamReader(\"example.txt\");\n",
    "        string contents = reader.ReadToEnd();\n",
    "        Console.WriteLine(contents);\n"
   ]
  },
  {
   "cell_type": "markdown",
   "metadata": {},
   "source": [
    "> Example 2:\n",
    ">\n",
    "> - In this example, we use a using declaration to create a new SqlConnection object and execute a SQL query.\n",
    "> - The using declaration ensures that the SqlConnection object is disposed of properly when it goes out of scope."
   ]
  },
  {
   "cell_type": "code",
   "execution_count": 2,
   "metadata": {
    "dotnet_interactive": {
     "language": "csharp"
    },
    "polyglot_notebook": {
     "kernelName": "csharp"
    },
    "vscode": {
     "languageId": "polyglot-notebook"
    }
   },
   "outputs": [
    {
     "ename": "Error",
     "evalue": "(3,21): error CS1002: ; expected\r\n(6,18): error CS1002: ; expected\r\n(7,21): error CS1002: ; expected",
     "output_type": "error",
     "traceback": [
      "(3,21): error CS1002: ; expected\r\n",
      "(6,18): error CS1002: ; expected\r\n",
      "(7,21): error CS1002: ; expected"
     ]
    }
   ],
   "source": [
    "//give full path System.Data.SqlClient.dll  \n",
    "#!r System.Data.SqlClient.dll  \n",
    "\n",
    "using System.Data;\n",
    "using System.Data.SqlClient;\n",
    "using SqlConnection connection = new SqlConnection(connectionString);\n",
    "await connection.OpenAsync();\n",
    "\n",
    "using SqlCommand command = new SqlCommand(\"SELECT * FROM Customers\", connection);\n",
    "using SqlDataReader reader = await command.ExecuteReaderAsync();\n",
    "while (await reader.ReadAsync())\n",
    "{\n",
    "    Console.WriteLine($\"{reader[\"FirstName\"]} {reader[\"LastName\"]}\");\n",
    "}"
   ]
  },
  {
   "cell_type": "markdown",
   "metadata": {},
   "source": [
    "# Continue learning\n",
    "\n",
    "There are plenty more resources out there to learn!\n",
    "\n",
    "> [⏩ Next Module - Pattern Matching ](51.StaticLocalFunctions.ipynb)\n",
    ">\n",
    "> [⏪ Last Module - Default Interface](49.PatternMatchingEnhancements.ipynb)\n",
    ">\n",
    "> [Reference - using](https://learn.microsoft.com/en-us/dotnet/csharp/language-reference/statements/using)\n",
    "> [Reference - statement declaration](https://learn.microsoft.com/en-us/dotnet/csharp/language-reference/statements/declarations)"
   ]
  }
 ],
 "metadata": {
  "language_info": {
   "name": "python"
  },
  "orig_nbformat": 4
 },
 "nbformat": 4,
 "nbformat_minor": 2
}
