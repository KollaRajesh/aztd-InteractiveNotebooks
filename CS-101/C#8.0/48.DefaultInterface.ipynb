{
 "cells": [
  {
   "cell_type": "markdown",
   "metadata": {},
   "source": [
    "> **Default interface method**:\n",
    ">    Version *C# 8.0*"
   ]
  },
  {
   "cell_type": "markdown",
   "metadata": {},
   "source": [
    "> **Default interface method**: This feature allows you to define a default implementation for an interface method.\n",
    "> \n",
    ">  This can help reduce code duplication and make it easier to evolve interfaces over time."
   ]
  },
  {
   "cell_type": "code",
   "execution_count": 2,
   "metadata": {
    "dotnet_interactive": {
     "language": "csharp"
    },
    "polyglot_notebook": {
     "kernelName": "csharp"
    },
    "vscode": {
     "languageId": "polyglot-notebook"
    }
   },
   "outputs": [
    {
     "ename": "Error",
     "evalue": "(5,5): error CS1519: Invalid token 'default' in class, record, struct, or interface member declaration",
     "output_type": "error",
     "traceback": [
      "(5,5): error CS1519: Invalid token 'default' in class, record, struct, or interface member declaration"
     ]
    }
   ],
   "source": [
    "public interface IAnimal\n",
    "{\n",
    "    void Move();\n",
    "\n",
    "    default void MakeSound()\n",
    "    {\n",
    "        Console.WriteLine(\"The animal makes a default sound.\");\n",
    "    }\n",
    "}"
   ]
  },
  {
   "cell_type": "markdown",
   "metadata": {},
   "source": [
    "> Example 2: Consider an interface IRepository with a method GetById(int id). \n",
    ">\n",
    "> We can define a default implementation for GetById() that throws a NotImplementedException. \n",
    ">\n",
    ">Here’s an example:"
   ]
  },
  {
   "cell_type": "code",
   "execution_count": 3,
   "metadata": {
    "dotnet_interactive": {
     "language": "csharp"
    },
    "polyglot_notebook": {
     "kernelName": "csharp"
    },
    "vscode": {
     "languageId": "polyglot-notebook"
    }
   },
   "outputs": [
    {
     "ename": "Error",
     "evalue": "(5,5): error CS1519: Invalid token 'default' in class, record, struct, or interface member declaration",
     "output_type": "error",
     "traceback": [
      "(5,5): error CS1519: Invalid token 'default' in class, record, struct, or interface member declaration"
     ]
    }
   ],
   "source": [
    "public interface IRepository<T>\n",
    "{\n",
    "    T GetById(int id);\n",
    "\n",
    "    default T GetById(int id)\n",
    "    {\n",
    "        throw new NotImplementedException();\n",
    "    }\n",
    "}\n"
   ]
  },
  {
   "cell_type": "markdown",
   "metadata": {},
   "source": [
    "> **Example 3**: Consider an interface IFormatter with a method Format(string input).  \n",
    "> We can define a default implementation for Format() that returns the input string.    \n",
    ">\n",
    "> Here’s an example:"
   ]
  },
  {
   "cell_type": "code",
   "execution_count": 4,
   "metadata": {
    "dotnet_interactive": {
     "language": "csharp"
    },
    "polyglot_notebook": {
     "kernelName": "csharp"
    },
    "vscode": {
     "languageId": "polyglot-notebook"
    }
   },
   "outputs": [
    {
     "ename": "Error",
     "evalue": "(5,5): error CS1519: Invalid token 'default' in class, record, struct, or interface member declaration",
     "output_type": "error",
     "traceback": [
      "(5,5): error CS1519: Invalid token 'default' in class, record, struct, or interface member declaration"
     ]
    }
   ],
   "source": [
    "public interface IFormatter\n",
    "{\n",
    "    string Format(string input);\n",
    "\n",
    "    default string Format(string input)\n",
    "    {\n",
    "        return input;\n",
    "    }\n",
    "}\n"
   ]
  },
  {
   "cell_type": "markdown",
   "metadata": {},
   "source": [
    "# Continue learning\n",
    "\n",
    "There are plenty more resources out there to learn!\n",
    "\n",
    "> [⏩ Next Module - Pattern Matching ](49.PatternMatchingEnhancements.ipynb)\n",
    ">\n",
    "> [⏪ Last Module - ReadOnly Struct Members](47.ReadOnlyStructMembers.ipynb)\n",
    ">\n",
    "> [Reference - default interface methods csharp-8](https://dotnettutorials.net/lesson/default-interface-methods-csharp-8/)\n",
    "> [Reference - default interface methods versions](https://learn.microsoft.com/en-us/dotnet/csharp/advanced-topics/interface-implementation/default-interface-methods-versions)\n",
    "> [Reference - default interface methods ](https://learn.microsoft.com/en-us/dotnet/csharp/language-reference/proposals/csharp-8.0/default-interface-methods)"
   ]
  }
 ],
 "metadata": {
  "language_info": {
   "name": "python"
  },
  "orig_nbformat": 4
 },
 "nbformat": 4,
 "nbformat_minor": 2
}
