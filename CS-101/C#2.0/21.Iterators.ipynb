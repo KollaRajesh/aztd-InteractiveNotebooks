{
 "cells": [
  {
   "cell_type": "markdown",
   "metadata": {},
   "source": [
    "> ### Iterators\n",
    ">    Version *C# 2.0*\n",
    ">\n",
    "> Iterators : An iterator is a method that returns an IEnumerable<T> that you can enumerate in a foreach loop.  \n",
    ">   - An enumerator is an object that traverses a container, particularly lists.   \n",
    ">   - Enumerators can be used for performing an action on each item in a collection, enumerating a custom collection, extending LINQ or other libraries, and creating a data pipeline where data flows efficiently through iterator methods.  "
   ]
  },
  {
   "cell_type": "markdown",
   "metadata": {},
   "source": [
    "#### Example -1\n",
    "\n",
    "> Below is the example of how to use an iterator in C#:\n",
    ">\n",
    "> - In this example, GetNumbers is an iterator method that returns an IEnumerable<int> containing three integers. \n",
    "> - The yield return statement is used to return each integer one at a time. "
   ]
  },
  {
   "cell_type": "code",
   "execution_count": null,
   "metadata": {
    "dotnet_interactive": {
     "language": "csharp"
    },
    "polyglot_notebook": {
     "kernelName": "csharp"
    },
    "vscode": {
     "languageId": "polyglot-notebook"
    }
   },
   "outputs": [],
   "source": [
    "public static IEnumerable<int> GetNumbers()\n",
    "{\n",
    "    yield return 1;\n",
    "    yield return 2;\n",
    "    yield return 3;\n",
    "}\n",
    "\n",
    "foreach (int number in GetNumbers())\n",
    "{\n",
    "    Console.WriteLine(number);\n",
    "}"
   ]
  },
  {
   "cell_type": "markdown",
   "metadata": {},
   "source": [
    "#### Example-2\n",
    "\n",
    "> Below is the example of how to use an iterator in C#:"
   ]
  },
  {
   "cell_type": "code",
   "execution_count": null,
   "metadata": {
    "dotnet_interactive": {
     "language": "csharp"
    },
    "polyglot_notebook": {
     "kernelName": "csharp"
    },
    "vscode": {
     "languageId": "polyglot-notebook"
    }
   },
   "outputs": [],
   "source": [
    "public class Numbers\n",
    "{\n",
    "    public IEnumerable<int> GetEnumerator()\n",
    "    {\n",
    "         int[] numbers = { 0, 1, 2, 3, 4 };\n",
    "            for (int i = 0; i < numbers.Length; i++)\n",
    "            {\n",
    "                yield return numbers[i];\n",
    "            }\n",
    "    }\n",
    "    public  void PrintNumbers(){\n",
    "        foreach (int number in GetEnumerator()){\n",
    "            Console.WriteLine(number);\n",
    "        }\n",
    "    }\n",
    "}\n",
    "\n",
    "Numbers numbers= new Numbers();\n",
    "numbers.PrintNumbers();\n"
   ]
  },
  {
   "cell_type": "markdown",
   "metadata": {},
   "source": [
    "#### Example-3\n",
    "\n",
    "> Below is the example of how to use an iterator in C#:\n",
    "> - In this example, GetNames is an iterator method that returns an IEnumerable<string> containing three names.\n",
    "> - The yield return statement is used to return each name one at a time. The PrintNames method takes an IEnumerable<string> as a parameter and prints each name to the console using a foreach loop. \n",
    "> - The PrintNames method is then called with the result of the GetNames method as the parameter"
   ]
  },
  {
   "cell_type": "code",
   "execution_count": null,
   "metadata": {
    "dotnet_interactive": {
     "language": "csharp"
    },
    "polyglot_notebook": {
     "kernelName": "csharp"
    },
    "vscode": {
     "languageId": "polyglot-notebook"
    }
   },
   "outputs": [],
   "source": [
    "public static IEnumerable<string> GetNames()\n",
    "{\n",
    "    yield return \"Johan\";\n",
    "    yield return \"Bob\";\n",
    "    yield return \"Charlie\";\n",
    "    yield return \"Bob\";\n",
    "}\n",
    "\n",
    "public static void PrintNames(IEnumerable<string> names)\n",
    "{\n",
    "    foreach (string name in names)\n",
    "    {\n",
    "        Console.WriteLine(name);\n",
    "    }\n",
    "}\n",
    "\n",
    "PrintNames(GetNames());"
   ]
  },
  {
   "cell_type": "markdown",
   "metadata": {},
   "source": [
    "# Continue learning\n",
    "\n",
    "There are plenty more resources out there to learn!\n",
    "\n",
    "> [⏩ Next Module - Implicit Typed Variables](../C#3.0/22.ImplicitlyTypedVariables.ipynb)\n",
    ">\n",
    "> [⏪ Last Module - Nullable Types](20.NullableTypes.ipynb)\n",
    ">\n",
    "> [Reference : Nullable Types](https://learn.microsoft.com/en-us/dotnet/csharp/iterators)"
   ]
  }
 ],
 "metadata": {
  "language_info": {
   "name": "python"
  },
  "orig_nbformat": 4
 },
 "nbformat": 4,
 "nbformat_minor": 2
}
