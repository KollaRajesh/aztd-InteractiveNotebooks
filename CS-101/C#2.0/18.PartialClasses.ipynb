{
 "cells": [
  {
   "cell_type": "markdown",
   "metadata": {},
   "source": [
    "> ### Partial Types\n",
    ">    Version *C# 2.0*\n",
    ">\n",
    "> Partial types allow the implementation of a class, struct, or interface to be split into multiple files."
   ]
  },
  {
   "cell_type": "markdown",
   "metadata": {},
   "source": [
    ">  - *In this example, Stack is a partial class that is defined in two separate files( here defined in two separate cells).*\n",
    ">  -  *The partial keyword is used to indicate that the class is defined in multiple parts.*\n",
    ">  -  *Both parts of the class must use the partial keyword, and all parts must be available at compile time to form the final type*"
   ]
  },
  {
   "cell_type": "code",
   "execution_count": null,
   "metadata": {
    "dotnet_interactive": {
     "language": "csharp"
    },
    "polyglot_notebook": {
     "kernelName": "csharp"
    },
    "vscode": {
     "languageId": "polyglot-notebook"
    }
   },
   "outputs": [],
   "source": [
    "#!time\n",
    "// Stack.cs\n",
    "\n",
    "    public partial class Stack<T> where T : struct\n",
    "    {\n",
    "        private T[] elements;\n",
    "        private int top;\n",
    "\n",
    "        public Stack(int size)\n",
    "        {\n",
    "            elements = new T[size];\n",
    "            top = -1;\n",
    "        }\n",
    "\n",
    "        public void Push(T element)\n",
    "        {\n",
    "            if (top == elements.Length - 1)\n",
    "            {\n",
    "                throw new StackOverflowException();\n",
    "            }\n",
    "\n",
    "            elements[++top] = element;\n",
    "        }\n",
    "    }\n",
    "    /************************* End of Stack1.cs*************************/\n",
    "\n",
    "    // Define Stack with type int\n",
    "    Stack<int> intStack = new Stack<int>(10);\n",
    "    //push int value 1 to stack \n",
    "    intStack.Push(1);\n",
    "    intStack.Push(10);\n",
    "\n",
    "   /**************************************************/\n",
    "    // Stack2.cs\n",
    "    public partial class Stack<T> where T : struct\n",
    "    {\n",
    "        public T Pop()\n",
    "        {\n",
    "            if (top == -1)\n",
    "            {\n",
    "                throw new InvalidOperationException();\n",
    "            }\n",
    "\n",
    "            return elements[top--];\n",
    "        }\n",
    "    }\n",
    "    /************************* End of Stack2.cs*************************/\n",
    "\n",
    "    //pop int value  from stack \n",
    "  Console.WriteLine(intStack.Pop()); // Output: 10\n",
    "\n",
    "  //pop int value  from stack \n",
    "  Console.WriteLine(intStack.Pop()); // Output: 1\n"
   ]
  },
  {
   "cell_type": "markdown",
   "metadata": {},
   "source": [
    "# Continue learning\n",
    "\n",
    "There are plenty more resources out there to learn!\n",
    "> [⏩ Next Module - Anonymous Methods](19.AnonymousMethods.ipynb)\n",
    ">\n",
    "> [⏪ Last Module - Generic Class](17.Generic_Class.ipynb)"
   ]
  }
 ],
 "metadata": {
  "language_info": {
   "name": "python"
  },
  "orig_nbformat": 4
 },
 "nbformat": 4,
 "nbformat_minor": 2
}
