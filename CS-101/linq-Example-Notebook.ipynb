{
 "cells": [
  {
   "cell_type": "markdown",
   "metadata": {},
   "source": [
    "## Linq Examples in C#\n",
    "Run this code cell to import all the necessary libraries required for the examples provided in the notebook."
   ]
  },
  {
   "cell_type": "code",
   "execution_count": 14,
   "metadata": {
    "dotnet_interactive": {
     "language": "csharp"
    },
    "polyglot_notebook": {
     "kernelName": "csharp"
    },
    "vscode": {
     "languageId": "polyglot-notebook"
    }
   },
   "outputs": [],
   "source": [
    "#!csharp\n",
    "\n",
    "using System.Threading;\n",
    "using System.Text;\n",
    "using System.Text.RegularExpressions;\n",
    "using System.Collections.Generic;\n",
    "using System.Linq;\n"
   ]
  },
  {
   "cell_type": "markdown",
   "metadata": {},
   "source": [
    "### Create Test Data\n",
    "The test data is created for examples provided in this notebook.\n"
   ]
  },
  {
   "cell_type": "code",
   "execution_count": 1,
   "metadata": {
    "dotnet_interactive": {
     "language": "csharp"
    },
    "polyglot_notebook": {
     "kernelName": "csharp"
    },
    "vscode": {
     "languageId": "polyglot-notebook"
    }
   },
   "outputs": [],
   "source": [
    "#!csharp\n",
    "\n",
    "class Person\n",
    "{\n",
    "  public string FirstName {get; set;}\n",
    "  public string LastName {get; set;}\n",
    "  public string Gender {get; set;}\n",
    "\n",
    "  public string[] Skills {get; set; }\n",
    "\n",
    "  public Person(string firstName, string lastName, string gender, int age, string[] skills = null)\n",
    "  {\n",
    "    FirstName = firstName;\n",
    "    LastName = lastName;\n",
    "    Gender = gender;\n",
    "    Age = age;\n",
    "    Skills = skills ?? new string[]{};\n",
    "  }\n",
    "\n",
    "  public string FullName\n",
    "  {\n",
    "    get { return FirstName+\" \"+LastName; }\n",
    "  }\n",
    "  \n",
    "  public int Age {get; set;}\n",
    "}\n",
    "\n",
    "var persons = new List<Person>()\n",
    "{\n",
    "  new Person(\"John\", \"Doe\", \"male\", 35, new string[] {\"c#\", \"php\", \"javascript\"}),\n",
    "  new Person(\"Ann\", \"Peterson\", \"female\", 30, new string[] {\"photoshop\", \"painting\", \"video\"}),\n",
    "  new Person(\"Corey\", \"Barker\", \"male\", 28, new string[] {\"ArcGis\", \"QGIS\", \"javascript\"}),\n",
    "  new Person(\"Debra\", \"Varner\", \"female\", 47, new string[] {\"python\", \"php\", \"ai\"}),\n",
    "  new Person(\"Eric\", \"Davis\", \"male\", 64, new string[] {\"java\", \"c#\", \"ruby\"}),\n",
    "  new Person(\"Eileen\", \"Murillo\", \"female\", 19, new string[] {\"QA\", \"net\", \"video\"}),\n",
    "  new Person(\"Jason\", \"Wilson\", \"male\", 38, new string[] {\"c#\", \"node\", \"python\"})\n",
    "};\n",
    "\n",
    "Action<Person> PrintPersonDetails = s => Console.WriteLine(\n",
    "  $\"First name: {s.FirstName}, \"+ \n",
    "  $\"Last name: {s.LastName}, \" +\n",
    "  $\"Gender: {s.Gender}, \" +\n",
    "  $\"Age: {s.Age}, \"+\n",
    "  \"Skils: \"+ String.Join(',',s.Skills)\n",
    ");\n",
    "\n",
    "Action<Person[]> PrintPersonArray = prs => { foreach (var p in prs) PrintPersonDetails(p); };\n"
   ]
  },
  {
   "cell_type": "markdown",
   "metadata": {},
   "source": [
    "## Some Illustrative Linq Examples in C#\n"
   ]
  },
  {
   "cell_type": "markdown",
   "metadata": {},
   "source": [
    "### Filtering, Ordering, and Selecting Data\n",
    "The code below shows how to filter order data and select from it the specified properties."
   ]
  },
  {
   "cell_type": "code",
   "execution_count": 2,
   "metadata": {
    "dotnet_interactive": {
     "language": "csharp"
    },
    "polyglot_notebook": {
     "kernelName": "csharp"
    },
    "vscode": {
     "languageId": "polyglot-notebook"
    }
   },
   "outputs": [
    {
     "name": "stdout",
     "output_type": "stream",
     "text": [
      "Eileen Murillo\r\n"
     ]
    }
   ],
   "source": [
    "#!csharp\n",
    "\n",
    "var youngFullNames = persons.Where(p => p.Age < 36)\n",
    "    .OrderByDescending(p => (p.FirstName, p.LastName))\n",
    "    .Select(p => p.FullName);\n",
    "\n",
    "Console.WriteLine(youngFullNames.ToArray()[1]);\n"
   ]
  },
  {
   "cell_type": "markdown",
   "metadata": {},
   "source": [
    "#!markdown\n",
    "\n",
    "### Filtering With Index\n",
    "How to get the data with the index in a list? See the solution below.\n",
    "\n"
   ]
  },
  {
   "cell_type": "code",
   "execution_count": 17,
   "metadata": {
    "dotnet_interactive": {
     "language": "csharp"
    },
    "polyglot_notebook": {
     "kernelName": "csharp"
    },
    "vscode": {
     "languageId": "polyglot-notebook"
    }
   },
   "outputs": [
    {
     "name": "stdout",
     "output_type": "stream",
     "text": [
      "First name: Corey, Last name: Barker, Gender: male, Age: 28, Skils: ArcGis,QGIS,javascript\n",
      "First name: Debra, Last name: Varner, Gender: female, Age: 47, Skils: python,php,ai\n",
      "First name: Eric, Last name: Davis, Gender: male, Age: 64, Skils: java,c#,ruby\n"
     ]
    }
   ],
   "source": [
    "#!csharp\n",
    "\n",
    "var from2to4 = persons\n",
    "              .Where((p, index) => (index>=2 && index<=4))\n",
    "              .Select((p, index) => p);\n",
    "\n",
    "PrintPersonArray(from2to4.ToArray());\n",
    "\n"
   ]
  },
  {
   "cell_type": "markdown",
   "metadata": {},
   "source": [
    "#!markdown\n",
    "\n",
    "### Using Partitioning Operators\n",
    "#### Take Method\n",
    "The Take method first N elements from a  sequence \n",
    "\n"
   ]
  },
  {
   "cell_type": "code",
   "execution_count": 18,
   "metadata": {
    "dotnet_interactive": {
     "language": "csharp"
    },
    "polyglot_notebook": {
     "kernelName": "csharp"
    },
    "vscode": {
     "languageId": "polyglot-notebook"
    }
   },
   "outputs": [
    {
     "name": "stdout",
     "output_type": "stream",
     "text": [
      "First name: John, Last name: Doe, Gender: male, Age: 35, Skils: c#,php,javascript\n",
      "First name: Ann, Last name: Peterson, Gender: female, Age: 30, Skils: photoshop,painting,video\n",
      "First name: Corey, Last name: Barker, Gender: male, Age: 28, Skils: ArcGis,QGIS,javascript\n",
      "First name: Debra, Last name: Varner, Gender: female, Age: 47, Skils: python,php,ai\n"
     ]
    }
   ],
   "source": [
    "#!csharp\n",
    "\n",
    "var first4 = persons.Take(4);\n",
    "\n",
    "PrintPersonArray(first4.ToArray());"
   ]
  },
  {
   "cell_type": "markdown",
   "metadata": {},
   "source": [
    "#!markdown\n",
    "\n",
    "#### Skip Method\n",
    "The skip method gets elements after first N element:\n",
    "\n"
   ]
  },
  {
   "cell_type": "code",
   "execution_count": 19,
   "metadata": {
    "dotnet_interactive": {
     "language": "csharp"
    },
    "polyglot_notebook": {
     "kernelName": "csharp"
    },
    "vscode": {
     "languageId": "polyglot-notebook"
    }
   },
   "outputs": [
    {
     "name": "stdout",
     "output_type": "stream",
     "text": [
      "First name: Eric, Last name: Davis, Gender: male, Age: 64, Skils: java,c#,ruby\n",
      "First name: Eileen, Last name: Murillo, Gender: female, Age: 19, Skils: QA,net,video\n",
      "First name: Jason, Last name: Wilson, Gender: male, Age: 38, Skils: c#,node,python\n"
     ]
    }
   ],
   "source": [
    "#!csharp\n",
    "\n",
    "var after4 = persons.Skip(4);\n",
    "\n",
    "PrintPersonArray(after4.ToArray());\n",
    "\n"
   ]
  },
  {
   "cell_type": "markdown",
   "metadata": {},
   "source": [
    "#!markdown\n",
    "\n",
    "#### TakeWhile Method\n",
    "Returns elements from a specified sequence while a specified condition is true.  \n",
    "> **Note**: the algorithm works until first discovering false, and the rest of the elements will be not checked for the condition.\n",
    "\n"
   ]
  },
  {
   "cell_type": "code",
   "execution_count": 20,
   "metadata": {
    "dotnet_interactive": {
     "language": "csharp"
    },
    "polyglot_notebook": {
     "kernelName": "csharp"
    },
    "vscode": {
     "languageId": "polyglot-notebook"
    }
   },
   "outputs": [],
   "source": [
    "#!csharp\n",
    "\n",
    "var from3to5 = persons.TakeWhile((p, index) =>index>5);\n",
    "\n",
    "PrintPersonArray(from3to5.ToArray());\n",
    "\n"
   ]
  },
  {
   "cell_type": "markdown",
   "metadata": {},
   "source": [
    "#!markdown\n",
    "\n",
    "#### SkipWhile Method\n",
    "The elements are skipped in a sequence while a specified condition is true.\n",
    "> **Note**: Examine the result and take note that after the first false condition, the algorithm does not skip the rest of the elements with a true condition.\n",
    " \n",
    "\n"
   ]
  },
  {
   "cell_type": "code",
   "execution_count": 21,
   "metadata": {
    "dotnet_interactive": {
     "language": "csharp"
    },
    "polyglot_notebook": {
     "kernelName": "csharp"
    },
    "vscode": {
     "languageId": "polyglot-notebook"
    }
   },
   "outputs": [
    {
     "name": "stdout",
     "output_type": "stream",
     "text": [
      "First name: Eric, Last name: Davis, Gender: male, Age: 64, Skils: java,c#,ruby\n",
      "First name: Eileen, Last name: Murillo, Gender: female, Age: 19, Skils: QA,net,video\n",
      "First name: Jason, Last name: Wilson, Gender: male, Age: 38, Skils: c#,node,python\n"
     ]
    }
   ],
   "source": [
    "#!csharp\n",
    "\n",
    "var firstJava = persons.SkipWhile(p=>!p.Skills.Contains(\"java\"));\n",
    "\n",
    "PrintPersonArray(firstJava.ToArray());\n",
    "\n"
   ]
  },
  {
   "cell_type": "code",
   "execution_count": 22,
   "metadata": {
    "dotnet_interactive": {
     "language": "csharp"
    },
    "polyglot_notebook": {
     "kernelName": "csharp"
    },
    "vscode": {
     "languageId": "polyglot-notebook"
    }
   },
   "outputs": [
    {
     "data": {
      "text/html": [
       "<h3 id=\"filter-object-array-by-type\">Filter Object Array by Type</h3>\n",
       "<p>The code below demonstrates how to get items of a specific type from an object array.</p>\n"
      ]
     },
     "metadata": {},
     "output_type": "display_data"
    }
   ],
   "source": [
    "#!markdown\n",
    "\n",
    "### Filter Object Array by Type\n",
    "The code below demonstrates how to get items of a specific type from an object array.\n",
    "\n"
   ]
  },
  {
   "cell_type": "code",
   "execution_count": 23,
   "metadata": {
    "dotnet_interactive": {
     "language": "csharp"
    },
    "polyglot_notebook": {
     "kernelName": "csharp"
    },
    "vscode": {
     "languageId": "polyglot-notebook"
    }
   },
   "outputs": [
    {
     "name": "stdout",
     "output_type": "stream",
     "text": [
      "First name: Ann, Last name: Peterson, Gender: female, Age: 30, Skils: photoshop,painting,video\n",
      "First name: Eric, Last name: Davis, Gender: male, Age: 64, Skils: java,c#,ruby\n"
     ]
    }
   ],
   "source": [
    "#!csharp\n",
    "\n",
    "object[] objectArray = {\n",
    "  \"star\", \n",
    "  persons[1], \n",
    "  \"lake\", \n",
    "  154.75, \n",
    "  false, \n",
    "  new int[] {1,5,7},\n",
    "  persons[4],\n",
    "  true\n",
    "};\n",
    "\n",
    "var onlyPersons = objectArray.OfType<Person>();\n",
    "\n",
    "PrintPersonArray(onlyPersons.ToArray());\n",
    "\n"
   ]
  },
  {
   "cell_type": "markdown",
   "metadata": {},
   "source": [
    "#!markdown\n",
    "\n",
    "### Compound Filtering with Complex Objects\n",
    "If you have a list of complex objects and one property is enumerable, then you can use compound filtering in order to filter the list by that property.\n",
    "\n"
   ]
  },
  {
   "cell_type": "code",
   "execution_count": 24,
   "metadata": {
    "dotnet_interactive": {
     "language": "csharp"
    },
    "polyglot_notebook": {
     "kernelName": "csharp"
    },
    "vscode": {
     "languageId": "polyglot-notebook"
    }
   },
   "outputs": [
    {
     "name": "stdout",
     "output_type": "stream",
     "text": [
      "First name: John, Last name: Doe, Gender: male, Age: 35, Skils: c#,php,javascript\n",
      "First name: Eric, Last name: Davis, Gender: male, Age: 64, Skils: java,c#,ruby\n",
      "First name: Jason, Last name: Wilson, Gender: male, Age: 38, Skils: c#,node,python\n"
     ]
    }
   ],
   "source": [
    "#!csharp\n",
    "\n",
    "var selectedPesrsons = \n",
    "  from p in persons \n",
    "  from skill in p.Skills \n",
    "  where skill==\"c#\" \n",
    "  select p;\n",
    "\n",
    "PrintPersonArray(selectedPesrsons.ToArray());\n",
    "\n"
   ]
  },
  {
   "cell_type": "markdown",
   "metadata": {},
   "source": [
    "#!markdown\n",
    "\n",
    "### Grouping\n",
    "The example code below shows how to group query results based on a key value.\n",
    "\n"
   ]
  },
  {
   "cell_type": "code",
   "execution_count": 25,
   "metadata": {
    "dotnet_interactive": {
     "language": "csharp"
    },
    "polyglot_notebook": {
     "kernelName": "csharp"
    },
    "vscode": {
     "languageId": "polyglot-notebook"
    }
   },
   "outputs": [
    {
     "name": "stdout",
     "output_type": "stream",
     "text": [
      "Gender: male, Count: 4\n",
      "Gender: female, Count: 3\n"
     ]
    }
   ],
   "source": [
    "#!csharp\n",
    "\n",
    "var genders = from p in persons\n",
    "group p by p.Gender into g\n",
    "orderby g.Key descending\n",
    "where g.Count()>0 \n",
    "select new {Gender = g.Key, Count = g.Count()};\n",
    "\n",
    "foreach (var g in genders)\n",
    "  Console.WriteLine($\"Gender: {g.Gender}, Count: {g.Count}\");\n",
    "\n"
   ]
  },
  {
   "cell_type": "markdown",
   "metadata": {},
   "source": [
    "#!markdown\n",
    "\n",
    "And this example demonstrates how to make grouping with the nested objects.\n",
    "\n"
   ]
  },
  {
   "cell_type": "code",
   "execution_count": 26,
   "metadata": {
    "dotnet_interactive": {
     "language": "csharp"
    },
    "polyglot_notebook": {
     "kernelName": "csharp"
    },
    "vscode": {
     "languageId": "polyglot-notebook"
    }
   },
   "outputs": [
    {
     "name": "stdout",
     "output_type": "stream",
     "text": [
      "Gender: male, Count: 4\n",
      "\t Full name: John Doe\n",
      "\t Full name: Corey Barker\n",
      "\t Full name: Eric Davis\n",
      "\t Full name: Jason Wilson\n",
      "Gender: female, Count: 3\n",
      "\t Full name: Ann Peterson\n",
      "\t Full name: Debra Varner\n",
      "\t Full name: Eileen Murillo\n"
     ]
    }
   ],
   "source": [
    "#!csharp\n",
    "\n",
    "var genders = from p in persons\n",
    "group p by p.Gender into g\n",
    "orderby g.Key descending\n",
    "where g.Count()>0 \n",
    "select new {\n",
    "  Gender = g.Key, \n",
    "  Count = g.Count(),\n",
    "  fullNames = from r1 in g\n",
    "  select r1.FullName\n",
    "};\n",
    "\n",
    "foreach (var g in genders)\n",
    "{\n",
    "  Console.WriteLine($\"Gender: {g.Gender}, Count: {g.Count}\");\n",
    "  foreach (var fn1 in g.fullNames) \n",
    "    Console.WriteLine($\"\\t Full name: {fn1}\");\n",
    "}\n",
    "\n"
   ]
  },
  {
   "cell_type": "markdown",
   "metadata": {},
   "source": [
    "#!markdown\n",
    "\n",
    "### How to Use Methods as Selectors and Filters\n",
    "The following example demonstrates how to create a selector by declaring and using a Func<t,TResult> delegate and assigning it a lambda expression. \n",
    "\n"
   ]
  },
  {
   "cell_type": "code",
   "execution_count": 27,
   "metadata": {
    "dotnet_interactive": {
     "language": "csharp"
    },
    "polyglot_notebook": {
     "kernelName": "csharp"
    },
    "vscode": {
     "languageId": "polyglot-notebook"
    }
   },
   "outputs": [
    {
     "name": "stdout",
     "output_type": "stream",
     "text": [
      "Skills: c#,php,javascript\n",
      "Skills: photoshop,painting,video\n",
      "Skills: ArcGis,QGIS,javascript\n",
      "Skills: python,php,ai\n",
      "Skills: java,c#,ruby\n",
      "Skills: QA,net,video\n",
      "Skills: c#,node,python\n"
     ]
    }
   ],
   "source": [
    "#!csharp\n",
    "\n",
    "Func<Person, string> selector = p => String.Join(',', p.Skills);\n",
    "\n",
    "var skills = persons.Select(selector);\n",
    "\n",
    "foreach (var skill in skills) \n",
    "  Console.WriteLine($\"Skills: {skill}\");\n",
    "\n"
   ]
  },
  {
   "cell_type": "markdown",
   "metadata": {},
   "source": [
    "#!markdown\n",
    "\n",
    "The code below shows how to filter data using a method.\n",
    "\n"
   ]
  },
  {
   "cell_type": "code",
   "execution_count": 28,
   "metadata": {
    "dotnet_interactive": {
     "language": "csharp"
    },
    "polyglot_notebook": {
     "kernelName": "csharp"
    },
    "vscode": {
     "languageId": "polyglot-notebook"
    }
   },
   "outputs": [
    {
     "name": "stdout",
     "output_type": "stream",
     "text": [
      "First name: John, Last name: Doe, Gender: male, Age: 35, Skils: c#,php,javascript\n",
      "First name: Corey, Last name: Barker, Gender: male, Age: 28, Skils: ArcGis,QGIS,javascript\n",
      "First name: Eric, Last name: Davis, Gender: male, Age: 64, Skils: java,c#,ruby\n",
      "First name: Jason, Last name: Wilson, Gender: male, Age: 38, Skils: c#,node,python\n"
     ]
    }
   ],
   "source": [
    "#!csharp\n",
    "\n",
    "Func<Person, string, Boolean> isGender =  ((person, gender)=>\n",
    "{\n",
    "    return person.Gender == gender;\n",
    "});\n",
    "\n",
    "var males = persons.Where(p=>isGender(p, \"male\"));\n",
    "\n",
    "PrintPersonArray(males.ToArray());\n",
    "\n"
   ]
  },
  {
   "cell_type": "markdown",
   "metadata": {},
   "source": [
    "#!markdown\n",
    "\n",
    "### Using JOIN Clause in LINQ Query\n",
    "In the following example, we show how to make two sequences from one and then make a third by joining a common element.\n",
    "\n"
   ]
  },
  {
   "cell_type": "code",
   "execution_count": 29,
   "metadata": {
    "dotnet_interactive": {
     "language": "csharp"
    },
    "polyglot_notebook": {
     "kernelName": "csharp"
    },
    "vscode": {
     "languageId": "polyglot-notebook"
    }
   },
   "outputs": [
    {
     "name": "stdout",
     "output_type": "stream",
     "text": [
      "Name: John Doe, Age: 35, Skills: c#,php,javascript\n",
      "Name: Eric Davis, Age: 64, Skills: java,c#,ruby\n",
      "Name: Jason Wilson, Age: 38, Skills: c#,node,python\n"
     ]
    }
   ],
   "source": [
    "#!csharp\n",
    "\n",
    "var csharpSkilled = persons\n",
    "                    .Where(p=>p.Skills.Contains(\"c#\"))\n",
    "                    .Select(p=> new {Name = p.FullName, Skills = p.Skills});\n",
    "\n",
    "var personAges = persons.Select(p=> new {Name = p.FullName, Age = p.Age});\n",
    "\n",
    "var csharpSkilledAges = \n",
    "(\n",
    "  from s1 in csharpSkilled\n",
    "  join a1 in personAges on s1.Name equals a1.Name\n",
    "  select new {s1.Name, a1.Age, s1.Skills}\n",
    ");\n",
    "\n",
    "foreach(var cs1 in csharpSkilledAges) \n",
    "  Console.WriteLine($\"Name: {cs1.Name}, Age: {cs1.Age}, Skills: {String.Join(',',cs1.Skills)}\");\n",
    "\n"
   ]
  },
  {
   "cell_type": "markdown",
   "metadata": {},
   "source": [
    "#!markdown\n",
    "\n",
    "LINQ allows you to perform a JOIN by comparing objects with anonymous types created on the fly:\n",
    "> Take note of the variable **numberSkils**, it shows how you can specify variables in a LINQ query.\n",
    "\n"
   ]
  },
  {
   "cell_type": "code",
   "execution_count": 30,
   "metadata": {
    "dotnet_interactive": {
     "language": "csharp"
    },
    "polyglot_notebook": {
     "kernelName": "csharp"
    },
    "vscode": {
     "languageId": "polyglot-notebook"
    }
   },
   "outputs": [
    {
     "name": "stdout",
     "output_type": "stream",
     "text": [
      "First name: John, Last name: Doe, Age: 35, Skills: c#,php,javascript, numberSkils: 3\n",
      "First name: Eric, Last name: Davis, Age: 64, Skills: java,c#,ruby, numberSkils: 3\n",
      "First name: Jason, Last name: Wilson, Age: 38, Skills: c#,node,python, numberSkils: 3\n"
     ]
    }
   ],
   "source": [
    "#!csharp\n",
    "\n",
    "var csharpSkilled = persons\n",
    "                    .Where(p=>p.Skills.Contains(\"c#\"))\n",
    "                    .Select(p=> new {FirstName = p.FirstName, LastName = p.LastName, Skills = p.Skills});\n",
    "\n",
    "var personAges = persons.Select(p=> new {FirstName = p.FirstName, LastName = p.LastName, Age = p.Age});\n",
    "\n",
    "var csharpSkilledAges = \n",
    "(\n",
    "  from s1 in csharpSkilled\n",
    "  let numberSkils = s1.Skills.Count()\n",
    "  join a1 in personAges on new {s1.FirstName, s1.LastName} equals new {a1.FirstName, a1.LastName}\n",
    "  select new {s1.FirstName, s1.LastName, a1.Age, s1.Skills, numberSkils}\n",
    ");\n",
    "\n",
    "foreach(var cs1 in csharpSkilledAges) \n",
    "  Console.WriteLine(\n",
    "    $\"First name: {cs1.FirstName}, \"+\n",
    "    $\"Last name: {cs1.LastName}, \"+\n",
    "    $\"Age: {cs1.Age}, \"+\n",
    "    $\"Skills: {String.Join(',',cs1.Skills)}, \"+\n",
    "    $\"numberSkils: {cs1.numberSkils}\"\n",
    "  );\n",
    "\n"
   ]
  },
  {
   "cell_type": "markdown",
   "metadata": {},
   "source": [
    "#!markdown\n",
    "\n",
    "### Type Casting in LINQ Query\n",
    "In the previous example, we demonstrated how to select anonymous type objects from an existing object sequence on the fly.\n",
    "But consuming the anonymous types during coding is difficult. The following code shows how to cast an anonymous type to a known type:\n",
    "\n"
   ]
  },
  {
   "cell_type": "code",
   "execution_count": 31,
   "metadata": {
    "dotnet_interactive": {
     "language": "csharp"
    },
    "polyglot_notebook": {
     "kernelName": "csharp"
    },
    "vscode": {
     "languageId": "polyglot-notebook"
    }
   },
   "outputs": [
    {
     "name": "stdout",
     "output_type": "stream",
     "text": [
      "First name: John, Last name: Doe, Gender: male, Age: 35, Skils: c#,php,javascript\n",
      "First name: Eric, Last name: Davis, Gender: male, Age: 64, Skils: java,c#,ruby\n",
      "First name: Jason, Last name: Wilson, Gender: male, Age: 38, Skils: c#,node,python\n"
     ]
    }
   ],
   "source": [
    "#!csharp\n",
    "\n",
    "var anonymoisTypeSequence = persons\n",
    "                    .Where(p=>p.Skills.Contains(\"c#\"))\n",
    "                    .Select(\n",
    "                      p=> new {\n",
    "                        FirstName = p.FirstName, \n",
    "                        LastName = p.LastName, \n",
    "                        Gender = p.Gender,\n",
    "                        Age = p.Age,\n",
    "                        Skills = p.Skills\n",
    "                      }\n",
    "                    ).ToArray();\n",
    "\n",
    "var knownTypeSequence = Array.ConvertAll<dynamic, Person>(anonymoisTypeSequence, new Converter<dynamic, Person>(\n",
    "  an=> new Person(\n",
    "        an.FirstName.ToString(), \n",
    "        an.LastName.ToString(),\n",
    "        an.Gender.ToString(), \n",
    "        Convert.ToInt32(an.Age), \n",
    "        an.Skills as string[]\n",
    "      )\n",
    "));\n",
    "\n",
    "PrintPersonArray(knownTypeSequence);"
   ]
  }
 ],
 "metadata": {
  "language_info": {
   "name": "python"
  },
  "orig_nbformat": 4
 },
 "nbformat": 4,
 "nbformat_minor": 2
}
