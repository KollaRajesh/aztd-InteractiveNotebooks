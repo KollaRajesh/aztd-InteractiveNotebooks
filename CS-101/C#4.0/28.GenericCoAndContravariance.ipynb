{
 "cells": [
  {
   "cell_type": "markdown",
   "metadata": {},
   "source": [
    "> ### Generic Co-Variant and Contra Variance \n",
    ">    Version *C# 4.0*\n",
    ">\n",
    ">  **Co-Variance and Contra Variance** :\n",
    ">\n",
    "> **Covariance** allows you to use a more derived type than originally specified. \n",
    "> This means that you can assign an object of a more specific type to a variable of a more general type. Covariance is supported for array types, delegate types, and generic type arguments.\n",
    ">\n",
    "> **Contravariance** allows you to use a less derived type than originally specified.\n",
    "> This means that you can assign an object of a more general type to a variable of a more > specific type. Contravariance is supported for delegate types and generic type arguments 1.nario"
   ]
  },
  {
   "cell_type": "markdown",
   "metadata": {},
   "source": [
    "> #### Example -1 \n",
    "> \n",
    "> In the below example, we have a List<string> called strings. We use *covariance* to assign it to a variable of type IEnumerable<object>."
   ]
  },
  {
   "cell_type": "code",
   "execution_count": null,
   "metadata": {
    "dotnet_interactive": {
     "language": "csharp"
    },
    "polyglot_notebook": {
     "kernelName": "csharp"
    },
    "vscode": {
     "languageId": "polyglot-notebook"
    }
   },
   "outputs": [],
   "source": [
    "//covariance\n",
    "IEnumerable<string> strings = new List<string>(){\"This\",\"is\",\"Co-Variance example\"};\n",
    "IEnumerable<object> objects = strings;\n",
    "objects.Display();"
   ]
  },
  {
   "cell_type": "markdown",
   "metadata": {},
   "source": [
    "> #### Example -2 \n",
    "> \n",
    "> In the below example, we have an Action<object> called objectAction. We use *contravariance* to assign it to a variable of type Action<string>."
   ]
  },
  {
   "cell_type": "code",
   "execution_count": null,
   "metadata": {
    "dotnet_interactive": {
     "language": "csharp"
    },
    "polyglot_notebook": {
     "kernelName": "csharp"
    },
    "vscode": {
     "languageId": "polyglot-notebook"
    }
   },
   "outputs": [],
   "source": [
    "//contravariance\n",
    "Action<object> objectAction = (obj) => Console.WriteLine(obj);\n",
    "Action<string> stringAction = objectAction;\n",
    "\n",
    "stringAction(\"This is contravariance\");\n",
    "objectAction(\"Example\");\n",
    "objectAction(2.13);"
   ]
  },
  {
   "cell_type": "markdown",
   "metadata": {},
   "source": [
    "> #### Example -3 \n",
    "> \n",
    "> In the below example, We have an interface called *IAnimal* with a covariant type parameter T. We also have a class called *Animal* that implements *IAnimal*.  \n",
    ">\n",
    ">  We then create a Dog class that inherits from *Animal<string>*.\n",
    ">  Finally, we create an instance of Dog and assign it to a variable of type *IAnimal<string>*.\n",
    ">  We then use covariance to assign it to a variable of type *IAnimal<object>*."
   ]
  },
  {
   "cell_type": "code",
   "execution_count": null,
   "metadata": {
    "dotnet_interactive": {
     "language": "csharp"
    },
    "polyglot_notebook": {
     "kernelName": "csharp"
    },
    "vscode": {
     "languageId": "polyglot-notebook"
    }
   },
   "outputs": [],
   "source": [
    "public interface IAnimal<out  T>\n",
    "{\n",
    "    T GetSpecies();\n",
    "}\n",
    "\n",
    "public class Animal<T> : IAnimal<T>\n",
    "{\n",
    "    private T species;\n",
    "\n",
    "    public Animal(T species)\n",
    "    {\n",
    "        this.species = species;\n",
    "    }\n",
    "\n",
    "    public T GetSpecies()\n",
    "    {\n",
    "        return species;\n",
    "    }\n",
    "}\n",
    "\n",
    "public class Dog : Animal<string>\n",
    "{\n",
    "    public Dog(string species) : base(species)\n",
    "    {\n",
    "    }\n",
    "}\n",
    "\n",
    "//Covariance\n",
    "IAnimal<string> dog = new Dog(\"Canis lupus familiaris\");\n",
    "IAnimal<object> animal = dog;\n",
    "\n",
    "    Console.WriteLine(animal.GetSpecies());\n"
   ]
  },
  {
   "cell_type": "markdown",
   "metadata": {},
   "source": []
  },
  {
   "cell_type": "code",
   "execution_count": null,
   "metadata": {
    "dotnet_interactive": {
     "language": "csharp"
    },
    "polyglot_notebook": {
     "kernelName": "csharp"
    },
    "vscode": {
     "languageId": "polyglot-notebook"
    }
   },
   "outputs": [],
   "source": [
    "public class Animal {   public string Name { get; set; }}\n",
    "public class Dog : Animal { }\n",
    "public class Cat : Animal { }\n",
    "\n",
    "public interface IAnimalHandler<in T>\n",
    "{\n",
    "    void MakeSound(T animal);\n",
    "}\n",
    "public class AnimalHandler : IAnimalHandler<Animal>\n",
    "{\n",
    "    public void MakeSound(Animal animal) { /*...*/ }\n",
    "}\n",
    "public class DogHandler : IAnimalHandler<Dog>\n",
    "{\n",
    "    public void MakeSound(Dog dog) {    Console.WriteLine($\"{dog.Name} is making sound as BWoof!\"); }\n",
    "}\n",
    "public class CatHandler : IAnimalHandler<Cat>\n",
    "{\n",
    "    public void MakeSound(Cat cat) {    Console.WriteLine($\"{cat.Name} is making sound as Meow!\"); }\n",
    "}\n",
    "\n",
    "public void ProcessAnimals<TAnimal>(List<TAnimal> animals, IAnimalHandler<TAnimal> handler) where TAnimal : Animal\n",
    "{\n",
    "    foreach (var animal in animals)\n",
    "    {\n",
    "        handler.MakeSound(animal);\n",
    "    }\n",
    "    Console.WriteLine(\"\");\n",
    "}\n",
    "var  Animals=new List<Animal> { new Animal(), new Animal() };\n",
    "ProcessAnimals(Animals, new AnimalHandler());\n",
    "\n",
    "//Contravariant\n",
    "var  Dogs=new List<Dog> { new Dog(){Name=\"Addie\"}, new Dog() {Name=\"Baiey\"}};\n",
    "    ProcessAnimals(Dogs, new DogHandler());\n",
    "\n",
    "    //Contravariant\n",
    "var  Cats=new List<Cat> { new Cat(){Name=\"Alfie\"}, new Cat() {Name=\"Bella\"}};\n",
    "    ProcessAnimals(Cats, new CatHandler());"
   ]
  },
  {
   "cell_type": "markdown",
   "metadata": {},
   "source": [
    "# Continue learning\n",
    "\n",
    "There are plenty more resources out there to learn!\n",
    "\n",
    "> [⏩ Next Module - ]()\n",
    ">\n",
    "> [⏪ Last Module - Named And Optional Arguments](27.NamedAndOptionalArguments.ipynb)\n",
    ">\n",
    "> [Reference : Covariance and Contravariance](https://learn.microsoft.com/en-us/dotnet/standard/generics/covariance-and-contravariance)"
   ]
  }
 ],
 "metadata": {
  "language_info": {
   "name": "python"
  },
  "orig_nbformat": 4
 },
 "nbformat": 4,
 "nbformat_minor": 2
}
