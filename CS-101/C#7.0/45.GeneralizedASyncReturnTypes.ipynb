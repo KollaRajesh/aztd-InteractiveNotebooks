{
 "cells": [
  {
   "cell_type": "markdown",
   "metadata": {},
   "source": [
    "> ###  Generalized async return types:\n",
    ">    Version *C# 7.0*"
   ]
  },
  {
   "cell_type": "markdown",
   "metadata": {},
   "source": [
    "> **Generalized async return types**:  \n",
    "> You can now use any type as the return type of an async method.  \n",
    "> For example,  \n",
    ">\n",
    ">\n",
    " ```csharp\n",
    " async ValueTask<int> GetValueAsync() { ... }\n",
    " ```"
   ]
  },
  {
   "cell_type": "code",
   "execution_count": 1,
   "metadata": {
    "dotnet_interactive": {
     "language": "csharp"
    },
    "polyglot_notebook": {
     "kernelName": "csharp"
    },
    "vscode": {
     "languageId": "polyglot-notebook"
    }
   },
   "outputs": [],
   "source": [
    "public static async ValueTask<int> GetValueAsync() {\n",
    "    await Task.Delay(1000);\n",
    "    return 42;\n",
    "}\n",
    "\n",
    "public static async Task Main() {\n",
    "    int value = await GetValueAsync();\n",
    "    Console.WriteLine($\"Value: {value}\");\n",
    "}\n"
   ]
  },
  {
   "cell_type": "markdown",
   "metadata": {},
   "source": [
    "# Continue learning\n",
    "\n",
    "There are plenty more resources out there to learn!\n",
    "\n",
    "> [⏩ Next Module - Throw Exceptions ](46.ThrowExceptions.ipynb)\n",
    ">\n",
    "> [⏪ Last Module - Ref Returns And Locals](44.RefReturnsAndLocals.ipynb)\n",
    ">\n",
    "> [Reference- C# 7.0 features](https://dotnettutorials.net/lesson/csharp-7-new-features/)"
   ]
  }
 ],
 "metadata": {
  "language_info": {
   "name": "python"
  },
  "orig_nbformat": 4
 },
 "nbformat": 4,
 "nbformat_minor": 2
}
