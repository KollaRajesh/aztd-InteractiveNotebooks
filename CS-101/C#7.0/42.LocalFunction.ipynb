{
 "cells": [
  {
   "cell_type": "markdown",
   "metadata": {},
   "source": [
    "> ###  Local Function:\n",
    ">    Version *C# 7.0*"
   ]
  },
  {
   "cell_type": "markdown",
   "metadata": {},
   "source": [
    "> Local functions: You can now define functions inside other functions.\n",
    "> \n",
    "> Suppose you have a method that performs a complex calculation and you want to break it down into smaller pieces.  \n",
    "> In C# 6.0, you would need to create separate methods for each piece.\n",
    "> In C# 7.0, you can define functions inside other functions. \n",
    ">\n",
    "> For example\n",
    "\n",
    "```csharp\n",
    "int Add(int x, int y){\n",
    "     return AddHelper(x, y);\n",
    "      \n",
    "      int AddHelper(int a, int b) { return a + b; } \n",
    "}\n",
    "```"
   ]
  },
  {
   "cell_type": "code",
   "execution_count": null,
   "metadata": {
    "dotnet_interactive": {
     "language": "csharp"
    },
    "polyglot_notebook": {
     "kernelName": "csharp"
    },
    "vscode": {
     "languageId": "polyglot-notebook"
    }
   },
   "outputs": [],
   "source": [
    "public static int Calculate(int x, int y) {\n",
    "    return Add(x, y) * Subtract(x, y);\n",
    "\n",
    "    int Add(int a, int b) {\n",
    "        return a + b;\n",
    "    }\n",
    "\n",
    "    int Subtract(int a, int b) {\n",
    "        return a - b;\n",
    "    }\n",
    "}\n"
   ]
  },
  {
   "cell_type": "markdown",
   "metadata": {},
   "source": [
    "# Continue learning\n",
    "\n",
    "There are plenty more resources out there to learn!\n",
    "\n",
    "> [⏩ Next Module -Literal Improvements ](43.LiteralImprovements.ipynb)\n",
    ">\n",
    "> [⏪ Last Module - Deconstruction](41.Deconstruction.ipynb)\n",
    ">\n",
    "> [Reference- C# 7.0 features](https://dotnettutorials.net/lesson/csharp-7-new-features/)"
   ]
  }
 ],
 "metadata": {
  "language_info": {
   "name": "python"
  },
  "orig_nbformat": 4
 },
 "nbformat": 4,
 "nbformat_minor": 2
}
