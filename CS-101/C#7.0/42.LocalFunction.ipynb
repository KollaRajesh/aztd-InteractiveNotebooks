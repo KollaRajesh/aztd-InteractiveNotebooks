{
 "cells": [
  {
   "cell_type": "markdown",
   "metadata": {},
   "source": [
    "> ###  Local Function:\n",
    ">    Version *C# 7.0*"
   ]
  },
  {
   "cell_type": "markdown",
   "metadata": {},
   "source": [
    "> Local functions: You can now define functions inside other functions.\n",
    "> \n",
    "> Suppose you have a method that performs a complex calculation and you want to break it down into smaller pieces.  \n",
    "> In C# 6.0, you would need to create separate methods for each piece.  \n",
    ">\n",
    ">\n",
    "> In C# 7.0, you can define functions inside other functions.   \n",
    ">\n",
    ">\n",
    "> For example\n",
    ">\n",
    "```csharp\n",
    "int Add(int x, int y){\n",
    "     return AddHelper(x, y);\n",
    "      \n",
    "      int AddHelper(int a, int b) { return a + b; } \n",
    "}\n",
    "```"
   ]
  },
  {
   "cell_type": "code",
   "execution_count": null,
   "metadata": {
    "dotnet_interactive": {
     "language": "csharp"
    },
    "polyglot_notebook": {
     "kernelName": "csharp"
    },
    "vscode": {
     "languageId": "polyglot-notebook"
    }
   },
   "outputs": [],
   "source": [
    "public static int Calculate(int x, int y) {\n",
    "    return Add(x, y) * Subtract(x, y);\n",
    "\n",
    "            int Add(int a, int b) {\n",
    "                return a + b;\n",
    "            }\n",
    "\n",
    "            int Subtract(int a, int b) {\n",
    "                return a - b;\n",
    "            }\n",
    "}\n",
    "\n",
    "Calculate(10,20).Display();"
   ]
  },
  {
   "cell_type": "markdown",
   "metadata": {},
   "source": [
    "> **Local function as a closure**: Local functions can be used as closures to capture variables from the enclosing method. \n",
    ">\n",
    "> For example, \n",
    ">\n",
    ">    Consider a method that takes an array of integers and returns a new array with each element multiplied by a factor.  \n",
    ">    We can use a local function to define the multiplication logic and capture the factor variable from the enclosing method. "
   ]
  },
  {
   "cell_type": "code",
   "execution_count": null,
   "metadata": {
    "dotnet_interactive": {
     "language": "csharp"
    },
    "polyglot_notebook": {
     "kernelName": "csharp"
    },
    "vscode": {
     "languageId": "polyglot-notebook"
    }
   },
   "outputs": [],
   "source": [
    "public static int[] Multiply(int[] numbers, int factor)\n",
    "{\n",
    "    return Array.ConvertAll(numbers, MultiplyByFactor);\n",
    "\n",
    "    int MultiplyByFactor(int number)\n",
    "    {\n",
    "        return number * factor;\n",
    "    }\n",
    "}\n",
    "Multiply(new []{10,20,30,40,50},2).Display();"
   ]
  },
  {
   "cell_type": "markdown",
   "metadata": {},
   "source": [
    "> **Local function with ref parameters**:  Local functions can have ref parameters, which allows them to modify variables in the enclosing method.  \n",
    "> \n",
    "> For example,\n",
    ">    Consider a method that takes an array of integers and sorts it in descending order.   \n",
    ">\n",
    ">     We can use a local function to swap two elements in the array and capture the array variable by reference. "
   ]
  },
  {
   "cell_type": "code",
   "execution_count": null,
   "metadata": {
    "dotnet_interactive": {
     "language": "csharp"
    },
    "polyglot_notebook": {
     "kernelName": "csharp"
    },
    "vscode": {
     "languageId": "polyglot-notebook"
    }
   },
   "outputs": [],
   "source": [
    "public static void SortDescending(int[] numbers)\n",
    "{\n",
    "    for (int i = 0; i < numbers.Length - 1; i++)\n",
    "    {\n",
    "        for (int j = i + 1; j < numbers.Length; j++)\n",
    "        {\n",
    "            if (numbers[j] > numbers[i])\n",
    "            {\n",
    "                Swap(ref numbers[i], ref numbers[j]);\n",
    "            }\n",
    "        }\n",
    "    }\n",
    "\n",
    "    void Swap(ref int a, ref int b)\n",
    "    {\n",
    "        int temp = a;\n",
    "        a = b;\n",
    "        b = temp;\n",
    "    }\n",
    "}\n",
    "var list =new []{20,-10,50, 40, 20, 70};\n",
    "SortDescending(list);\n",
    "list.Display();"
   ]
  },
  {
   "cell_type": "markdown",
   "metadata": {},
   "source": [
    "> **Local function with generic type parameters**: Local functions can have generic type parameters, which allows them to work with any type.   \n",
    ">\n",
    "> For example, \n",
    ">\n",
    ">  Consider a method that takes an array of objects and returns the first object that satisfies a given condition.   \n",
    ">\n",
    ">     We can use a local function with a generic type parameter to define the condition and work with any type of object."
   ]
  },
  {
   "cell_type": "code",
   "execution_count": null,
   "metadata": {
    "dotnet_interactive": {
     "language": "csharp"
    },
    "polyglot_notebook": {
     "kernelName": "csharp"
    },
    "vscode": {
     "languageId": "polyglot-notebook"
    }
   },
   "outputs": [],
   "source": [
    "public static T Find<T>(T[] objects, Func<T, bool> predicate)\n",
    "{\n",
    "    foreach (T obj in objects)\n",
    "    {\n",
    "        if (predicate(obj))\n",
    "        {\n",
    "            return obj;\n",
    "        }\n",
    "    }\n",
    "\n",
    "    return default(T);\n",
    "}\n",
    "Find(new int[]{10,20, 50, 60, 70,100,2},x=>x ==2).Display();\n",
    "\n",
    "public  class Animal{\n",
    " public virtual string  Name {get; set;}\n",
    " public virtual bool CanFly {get; set;}\n",
    " public virtual bool CanSwim {get; set;}\n",
    "}\n",
    "\n",
    "var animals =new List<Animal>{\n",
    "    new Animal {Name =\"Dog\", CanFly=false},\n",
    "    new Animal {Name =\"Cat\", CanFly=false},\n",
    "    new Animal {Name =\"Fish\", CanFly=false,CanSwim=true},\n",
    "    new Animal {Name =\"Tiger\", CanFly=false},\n",
    "    new Animal {Name =\"Tiger\", CanFly=false},\n",
    "    new Animal {Name =\"Liger\", CanFly=false},\n",
    "\n",
    "};\n",
    "Find<Animal>(animals.ToArray(),x=>x.CanSwim==true).Display();"
   ]
  },
  {
   "cell_type": "markdown",
   "metadata": {},
   "source": [
    "# Continue learning\n",
    "\n",
    "There are plenty more resources out there to learn!\n",
    "\n",
    "> [⏩ Next Module -Literal Improvements ](43.LiteralImprovements.ipynb)\n",
    ">\n",
    "> [⏪ Last Module - Deconstruction](41.Deconstruction.ipynb)\n",
    ">\n",
    "> [Reference- Local functions](https://learn.microsoft.com/en-us/dotnet/csharp/programming-guide/classes-and-structs/local-functions)\n",
    "> [Reference- C# 7.0 features](https://dotnettutorials.net/lesson/csharp-7-new-features/)\n",
    "> [Reference- Local functions in C#](https://dotnettutorials.net/lesson/local-functions-csharp/)\n"
   ]
  }
 ],
 "metadata": {
  "language_info": {
   "name": "python"
  },
  "orig_nbformat": 4
 },
 "nbformat": 4,
 "nbformat_minor": 2
}
