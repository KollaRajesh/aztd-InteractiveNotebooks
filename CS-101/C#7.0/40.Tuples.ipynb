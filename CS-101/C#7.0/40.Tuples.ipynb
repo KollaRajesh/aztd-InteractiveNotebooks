{
 "cells": [
  {
   "cell_type": "markdown",
   "metadata": {},
   "source": [
    "> ###  Tuples:\n",
    ">    Version *C# 7.0*"
   ]
  },
  {
   "cell_type": "markdown",
   "metadata": {},
   "source": [
    "> - **Tuples**: its type which represent \\hold more than one value.\n",
    "> \n",
    "> Suppose you have a method that returns a tuple containing a person’s name and age.  \n",
    "> \n",
    "> In C# 6.0, you would need to create a custom class or struct to represent the result.  \n",
    ">\n",
    "> In C# 7.0, you can use tuples to have multiple results.  \n",
    ">\n",
    "> Here’s an example:"
   ]
  },
  {
   "cell_type": "code",
   "execution_count": null,
   "metadata": {
    "dotnet_interactive": {
     "language": "csharp"
    },
    "polyglot_notebook": {
     "kernelName": "csharp"
    },
    "vscode": {
     "languageId": "polyglot-notebook"
    }
   },
   "outputs": [],
   "source": [
    "public static (string Name, int Age) GetPerson() {\n",
    "    return (\"Alice\", 30);\n",
    "}\n",
    "\n",
    "var person = GetPerson();\n",
    "\n",
    "Console.WriteLine($\"Name: {person.Name}, Age: {person.Age}\");\n"
   ]
  },
  {
   "cell_type": "markdown",
   "metadata": {
    "vscode": {
     "languageId": "polyglot-notebook"
    }
   },
   "source": [
    "# Continue learning\n",
    "\n",
    "There are plenty more resources out there to learn!\n",
    "\n",
    "> [⏩ Next Module - Deconstruction ](41.Deconstruction.ipynb)\n",
    ">\n",
    "> [⏪ Last Module - Pattern Matching](39.PatternMatching.ipynb)\n",
    ">\n",
    "> [Reference- C# 7.0 features](https://dotnettutorials.net/lesson/csharp-7-new-features/)"
   ]
  }
 ],
 "metadata": {
  "language_info": {
   "name": "python"
  },
  "orig_nbformat": 4
 },
 "nbformat": 4,
 "nbformat_minor": 2
}
