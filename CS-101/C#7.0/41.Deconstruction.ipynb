{
 "cells": [
  {
   "cell_type": "markdown",
   "metadata": {},
   "source": [
    "> ###  Deconstruction:\n",
    ">    Version *C# 7.0*"
   ]
  },
  {
   "cell_type": "markdown",
   "metadata": {},
   "source": [
    "> **Deconstruction** : You can now deconstruct tuples and other types into their constituent parts.   \n",
    ">\n",
    "> In C# 6.0, you would need to access the tuple elements by index. \n",
    ">\n",
    "> In C# 7.0, you can deconstruct tuples and other types into their constituent parts\n",
    ">\n",
    "> Deconstruction is a feature in C# that allows you to extract the values of fields or properties from an object and assign them to individual variables.\n",
    ">\n",
    ">  It is a concise way to retrieve multiple values from an object in a single operation 1.\n",
    "\n",
    ">For example\n",
    "\n",
    "```csharp\n",
    "        (int x, int y) = GetPoint();\n",
    "```\n",
    "\n",
    "> Here’s an example of using deconstruction to extract the values of fields from an object"
   ]
  },
  {
   "cell_type": "code",
   "execution_count": null,
   "metadata": {
    "dotnet_interactive": {
     "language": "csharp"
    },
    "polyglot_notebook": {
     "kernelName": "csharp"
    },
    "vscode": {
     "languageId": "polyglot-notebook"
    }
   },
   "outputs": [],
   "source": [
    "var person = (\"Bob\", 40);\n",
    "var (name, age) = person;\n",
    "Console.WriteLine($\"Name: {name}, Age: {age}\");\n"
   ]
  },
  {
   "cell_type": "code",
   "execution_count": null,
   "metadata": {
    "dotnet_interactive": {
     "language": "csharp"
    },
    "polyglot_notebook": {
     "kernelName": "csharp"
    },
    "vscode": {
     "languageId": "polyglot-notebook"
    }
   },
   "outputs": [],
   "source": [
    "public class Person {\n",
    "    public string Name { get; set; }\n",
    "    public int Age { get; set; }\n",
    "}\n",
    "\n",
    "Person person = new Person { Name = \"Alice\", Age = 30 };\n",
    "\n",
    "(string name, int age) =(person.Name,person.Age);\n",
    "Console.WriteLine($\"Name: {name}, Age: {age}\");\n"
   ]
  },
  {
   "cell_type": "code",
   "execution_count": 6,
   "metadata": {
    "dotnet_interactive": {
     "language": "csharp"
    },
    "polyglot_notebook": {
     "kernelName": "csharp"
    },
    "vscode": {
     "languageId": "polyglot-notebook"
    }
   },
   "outputs": [
    {
     "name": "stdout",
     "output_type": "stream",
     "text": [
      "Name: Bob, Age: 40\r\n"
     ]
    }
   ],
   "source": [
    "   (string name, int age) person = (\"Bob\", 40);\n",
    "    Console.WriteLine($\"Name: {person.name}, Age: {person.age}\");"
   ]
  },
  {
   "cell_type": "markdown",
   "metadata": {},
   "source": [
    "# Continue learning\n",
    "\n",
    "There are plenty more resources out there to learn!\n",
    "\n",
    "> [⏩ Next Module - Tuples ](40.Tuples.ipynb)\n",
    ">\n",
    "> [⏪ Last Module - Local Function](42.LocalFunction.ipynb)\n",
    ">\n",
    "> [Reference- C# 7.0 features](https://dotnettutorials.net/lesson/csharp-7-new-features/)\n"
   ]
  }
 ],
 "metadata": {
  "language_info": {
   "name": "python"
  },
  "orig_nbformat": 4
 },
 "nbformat": 4,
 "nbformat_minor": 2
}
