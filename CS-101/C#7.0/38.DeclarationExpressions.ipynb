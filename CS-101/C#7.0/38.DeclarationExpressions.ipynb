{
 "cells": [
  {
   "cell_type": "markdown",
   "metadata": {},
   "source": [
    "> ### Declaration expressions (Out Variables)\n",
    ">    Version *C# 7.0*"
   ]
  },
  {
   "cell_type": "markdown",
   "metadata": {},
   "source": [
    ">  - **Declaration expressions**: This feature allows you to declare a variable and assign a value to it in a single expression."
   ]
  },
  {
   "cell_type": "code",
   "execution_count": 1,
   "metadata": {
    "dotnet_interactive": {
     "language": "csharp"
    },
    "polyglot_notebook": {
     "kernelName": "csharp"
    },
    "vscode": {
     "languageId": "polyglot-notebook"
    }
   },
   "outputs": [
    {
     "name": "stdout",
     "output_type": "stream",
     "text": [
      "5\r\n"
     ]
    }
   ],
   "source": [
    "//if (int.TryParse(Console.ReadLine(), out int x)) {\n",
    "if (int.TryParse(\"5\", out int x)) {\n",
    "    Console.WriteLine(x);\n",
    "} else {\n",
    "    Console.WriteLine(\"Invalid input\");\n",
    "}\n"
   ]
  },
  {
   "cell_type": "code",
   "execution_count": 2,
   "metadata": {
    "dotnet_interactive": {
     "language": "csharp"
    },
    "polyglot_notebook": {
     "kernelName": "csharp"
    },
    "vscode": {
     "languageId": "polyglot-notebook"
    }
   },
   "outputs": [
    {
     "name": "stdout",
     "output_type": "stream",
     "text": [
      "12/5/2023\r\n"
     ]
    }
   ],
   "source": [
    "        //if (DateTime.TryParse(Console.ReadLine(), out DateTime date)) {\n",
    "        if (DateTime.TryParse(\"12/05/2023\", out DateTime date)) {\n",
    "            Console.WriteLine(date.ToShortDateString());\n",
    "        } else {\n",
    "            Console.WriteLine(\"Invalid input\");\n",
    "        }\n",
    "\n"
   ]
  },
  {
   "cell_type": "markdown",
   "metadata": {},
   "source": [
    "# Continue learning\n",
    "\n",
    "There are plenty more resources out there to learn!\n",
    "\n",
    "> [⏩ Next Module - Pattern Matching ](39.PatternMatching.ipynb)\n",
    ">\n",
    "> [⏪ Last Module - Null Conditional Operator](../C#6.0/37.NullConditionalOperator.ipynb)\n",
    ">\n",
    "> [Reference- C# 7.0 features](https://dotnettutorials.net/lesson/csharp-7-new-features/)"
   ]
  }
 ],
 "metadata": {
  "language_info": {
   "name": "python"
  },
  "orig_nbformat": 4
 },
 "nbformat": 4,
 "nbformat_minor": 2
}
