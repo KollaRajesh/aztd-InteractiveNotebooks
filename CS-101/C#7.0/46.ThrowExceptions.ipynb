{
 "cells": [
  {
   "cell_type": "markdown",
   "metadata": {},
   "source": [
    "> ###  Throw Exceptions:\n",
    ">    Version *C# 7.0*"
   ]
  },
  {
   "cell_type": "markdown",
   "metadata": {},
   "source": [
    "> **Throw expressions**: You can now throw exceptions as expressions.\n",
    ">\n",
    ">   We can use conditional logic to throw exceptions based on specific conditions.\n",
    ">\n",
    "> For example,\n",
    ">\n",
    "```csharp\n",
    " int x = y ?? throw new ArgumentNullException(nameof(y));\n",
    "```\n",
    "> In this Example consider a method that calculates the square root of a number and throws an exception if the number is negative. "
   ]
  },
  {
   "cell_type": "code",
   "execution_count": 1,
   "metadata": {
    "dotnet_interactive": {
     "language": "csharp"
    },
    "polyglot_notebook": {
     "kernelName": "csharp"
    },
    "vscode": {
     "languageId": "polyglot-notebook"
    }
   },
   "outputs": [
    {
     "ename": "Error",
     "evalue": "System.ArgumentNullException: Value cannot be null. (Parameter 'input')\r\n   at Submission#2.GetLength(String input)\r\n   at Submission#2.<<Initialize>>d__0.MoveNext()\r\n--- End of stack trace from previous location ---\r\n   at Microsoft.CodeAnalysis.Scripting.ScriptExecutionState.RunSubmissionsAsync[TResult](ImmutableArray`1 precedingExecutors, Func`2 currentExecutor, StrongBox`1 exceptionHolderOpt, Func`2 catchExceptionOpt, CancellationToken cancellationToken)",
     "output_type": "error",
     "traceback": [
      "System.ArgumentNullException: Value cannot be null. (Parameter 'input')\r\n",
      "   at Submission#2.GetLength(String input)\r\n",
      "   at Submission#2.<<Initialize>>d__0.MoveNext()\r\n",
      "--- End of stack trace from previous location ---\r\n",
      "   at Microsoft.CodeAnalysis.Scripting.ScriptExecutionState.RunSubmissionsAsync[TResult](ImmutableArray`1 precedingExecutors, Func`2 currentExecutor, StrongBox`1 exceptionHolderOpt, Func`2 catchExceptionOpt, CancellationToken cancellationToken)"
     ]
    }
   ],
   "source": [
    "public static int GetLength(string input) =>\n",
    "    input?.Length ?? throw new ArgumentNullException(nameof(input));\n",
    "\n",
    "\n",
    "    string input = null;\n",
    "    int length = GetLength(input);\n",
    "    Console.WriteLine($\"Length: {length}\");\n",
    "\n"
   ]
  },
  {
   "cell_type": "markdown",
   "metadata": {},
   "source": [
    "# Continue learning\n",
    "\n",
    "There are plenty more resources out there to learn!\n",
    "\n",
    "> [⏩ Next Module -  ]()\n",
    ">\n",
    "> [⏪ Last Module -Generalized ASync Return Types](45.GeneralizedASyncReturnTypes.ipynb)\n",
    ">\n",
    "> [Reference- C# 7.0 features](https://dotnettutorials.net/lesson/csharp-7-new-features/)\n",
    ">\n",
    "> [Reference- Exception handling statements](https://learn.microsoft.com/en-us/dotnet/csharp/language-reference/statements/exception-handling-statements)\n",
    ">\n",
    "> [Reference- Create throw exceptions in csharp/](https://learn.microsoft.com/en-us/training/modules/create-throw-exceptions-c-sharp/)"
   ]
  }
 ],
 "metadata": {
  "language_info": {
   "name": "python"
  },
  "orig_nbformat": 4
 },
 "nbformat": 4,
 "nbformat_minor": 2
}
