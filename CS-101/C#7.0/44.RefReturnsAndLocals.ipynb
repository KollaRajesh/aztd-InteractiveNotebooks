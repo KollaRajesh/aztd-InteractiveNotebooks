{
 "cells": [
  {
   "cell_type": "markdown",
   "metadata": {},
   "source": [
    "> ###  Ref Returns and locals:\n",
    ">    Version *C# 7.0*"
   ]
  },
  {
   "cell_type": "markdown",
   "metadata": {},
   "source": [
    "> **Ref returns and locals**:\n",
    ">  We  can now return references to variables and store references in variables.\n",
    ">\n",
    "> For example,\n",
    "> \n",
    " ```csharp\n",
    " ref int Find(int[] arr, int value) \n",
    " { \n",
    "    for (int i = 0; i < arr.Length; i++){\n",
    "     if (arr[i] == value) { return ref arr[i]; } } \n",
    "  throw new ArgumentException(\"Value not found.\", nameof(value)); \n",
    "  }\n",
    "  ```"
   ]
  },
  {
   "cell_type": "code",
   "execution_count": null,
   "metadata": {
    "dotnet_interactive": {
     "language": "csharp"
    },
    "polyglot_notebook": {
     "kernelName": "csharp"
    },
    "vscode": {
     "languageId": "polyglot-notebook"
    }
   },
   "outputs": [],
   "source": [
    "ref int Find(int[] arr, int value) {\n",
    "    for (int i = 0; i < arr.Length; i++) {\n",
    "        if (arr[i] == value) {\n",
    "            return ref arr[i];\n",
    "        }\n",
    "    }\n",
    "    throw new ArgumentException(\"Value not found.\", nameof(value));\n",
    "}\n",
    "\n",
    "int[] arr = { 1, 2, 3, 4, 5 };\n",
    "//ref int value = ref Find(arr, 3);\n",
    "//value = 6;\n",
    "//Console.WriteLine(string.Join(\", \", arr)); // Output: 1, 2, 6, 4, 5\n"
   ]
  },
  {
   "cell_type": "markdown",
   "metadata": {},
   "source": [
    "# Continue learning\n",
    "\n",
    "There are plenty more resources out there to learn!\n",
    "\n",
    "> [⏩ Next Module - RGeneralizedASyncReturnTypes ](45.GeneralizedASyncReturnTypes.ipynb)\n",
    ">\n",
    "> [⏪ Last Module - Literal Improvements](43.LiteralImprovements.ipynb)\n",
    ">\n",
    "> [Reference- C# 7.0 features](https://dotnettutorials.net/lesson/csharp-7-new-features/)"
   ]
  }
 ],
 "metadata": {
  "language_info": {
   "name": "python"
  },
  "orig_nbformat": 4
 },
 "nbformat": 4,
 "nbformat_minor": 2
}
