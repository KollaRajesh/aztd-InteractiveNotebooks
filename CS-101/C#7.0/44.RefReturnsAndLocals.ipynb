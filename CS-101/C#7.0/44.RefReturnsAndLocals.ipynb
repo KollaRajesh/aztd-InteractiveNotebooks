{
 "cells": [
  {
   "cell_type": "markdown",
   "metadata": {},
   "source": [
    "> ###  Ref Returns and locals:\n",
    ">    Version *C# 7.0*"
   ]
  },
  {
   "cell_type": "markdown",
   "metadata": {},
   "source": [
    "> **Ref returns and locals**:\n",
    ">  We  can now return references to variables and store references in variables.\n",
    ">\n",
    "> For example,\n",
    "> \n",
    " ```csharp\n",
    " ref int Find(int[] arr, int value) \n",
    " { \n",
    "    for (int i = 0; i < arr.Length; i++){\n",
    "     if (arr[i] == value) { return ref arr[i]; } } \n",
    "  throw new ArgumentException(\"Value not found.\", nameof(value)); \n",
    "  }\n",
    "  ```"
   ]
  },
  {
   "cell_type": "markdown",
   "metadata": {},
   "source": [
    "> **Ref return from a method**: Ref returns can be used to return a reference to a variable instead of a copy of its value.\n",
    ">  This can be useful when working with large data structures that need to be modified frequently.  \n",
    ">\n",
    ">\n",
    ">    For example,  consider a method that returns a reference to the first element of an array. "
   ]
  },
  {
   "cell_type": "code",
   "execution_count": null,
   "metadata": {
    "dotnet_interactive": {
     "language": "csharp"
    },
    "polyglot_notebook": {
     "kernelName": "csharp"
    },
    "vscode": {
     "languageId": "polyglot-notebook"
    }
   },
   "outputs": [],
   "source": [
    "public ref int GetFirstElement(int[] array)\n",
    "{\n",
    "    return ref array[0];\n",
    "}\n",
    "var input =new[]{10,20,30,50};\n",
    "input.Display();  // Output: 1-,20,30,50\n",
    "//ref int  firstVlaue= ref GetFirstElement(input);\n",
    "//firstVlaue=200;\n",
    "//input.Display();  // Output: 200,20,30,50"
   ]
  },
  {
   "cell_type": "code",
   "execution_count": null,
   "metadata": {
    "dotnet_interactive": {
     "language": "csharp"
    },
    "polyglot_notebook": {
     "kernelName": "csharp"
    },
    "vscode": {
     "languageId": "polyglot-notebook"
    }
   },
   "outputs": [],
   "source": [
    "ref int Find(int[] arr, int value) {\n",
    "    for (int i = 0; i < arr.Length; i++) {\n",
    "        if (arr[i] == value) {\n",
    "            return ref arr[i];\n",
    "        }\n",
    "    }\n",
    "    throw new ArgumentException(\"Value not found.\", nameof(value));\n",
    "}\n",
    "\n",
    "int[] arr = { 1, 2, 3, 4, 5 };\n",
    "//ref int value = ref Find(arr, 3);\n",
    "//value = 6;\n",
    "//Console.WriteLine(string.Join(\", \", arr)); // Output: 1, 2, 6, 4, 5"
   ]
  },
  {
   "cell_type": "markdown",
   "metadata": {},
   "source": [
    "> **Ref local with a lambda expression**: Ref locals can be used with lambda expressions to create a delegate that modifies a variable by reference. \n",
    ">\n",
    ">\n",
    ">For example,  \n",
    ">\n",
    ">    Consider a method that takes an integer and returns a delegate that increments the integer > by a given amount."
   ]
  },
  {
   "cell_type": "code",
   "execution_count": 44,
   "metadata": {
    "dotnet_interactive": {
     "language": "csharp"
    },
    "polyglot_notebook": {
     "kernelName": "csharp"
    },
    "vscode": {
     "languageId": "polyglot-notebook"
    }
   },
   "outputs": [],
   "source": [
    "// public static Func<int> GetIncrementer(ref int value, int amount)\n",
    "public static    Func<int> GetIncrementer( int value, int amount)\n",
    "{\n",
    "    return  () =>  \n",
    "    {\n",
    "        value += amount;\n",
    "        return   value;\n",
    "    };\n",
    "    \n",
    "}\n"
   ]
  },
  {
   "cell_type": "markdown",
   "metadata": {},
   "source": [
    ">**Ref return with a ternary operator**:  Ref returns can be used with a ternary operator to conditionally return a reference to a variable.\n",
    ">\n",
    "> For example,\n",
    ">\n",
    ">    Consider a method that takes two integers and returns a reference to the larger one. "
   ]
  },
  {
   "cell_type": "code",
   "execution_count": 26,
   "metadata": {
    "dotnet_interactive": {
     "language": "csharp"
    },
    "polyglot_notebook": {
     "kernelName": "csharp"
    },
    "vscode": {
     "languageId": "polyglot-notebook"
    }
   },
   "outputs": [],
   "source": [
    "public static ref int GetLarger(ref int a, ref int b)\n",
    "{\n",
    "    return ref (a > b ? ref a : ref b);\n",
    "}\n",
    "int x=10,y=20;\n",
    "// ref int z= ref GetLarger(ref x,ref y);\n",
    "// z.display();\n",
    "// z=5;\n",
    "// y.Display();"
   ]
  },
  {
   "cell_type": "markdown",
   "metadata": {},
   "source": [
    "# Continue learning\n",
    "\n",
    "There are plenty more resources out there to learn!\n",
    "\n",
    "> [⏩ Next Module - GeneralizedASyncReturnTypes ](45.GeneralizedASyncReturnTypes.ipynb)\n",
    ">\n",
    "> [⏪ Last Module - Literal Improvements](43.LiteralImprovements.ipynb)\n",
    ">\n",
    "> [Reference- C# 7.0 features](https://dotnettutorials.net/lesson/csharp-7-new-features/)"
   ]
  }
 ],
 "metadata": {
  "language_info": {
   "name": "python"
  },
  "orig_nbformat": 4
 },
 "nbformat": 4,
 "nbformat_minor": 2
}
