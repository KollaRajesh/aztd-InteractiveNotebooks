{
 "cells": [
  {
   "cell_type": "markdown",
   "metadata": {},
   "source": [
    "> ### Declaration expressions\n",
    ">    Version *C# 6.0*"
   ]
  },
  {
   "cell_type": "markdown",
   "metadata": {},
   "source": [
    ">  - **Declaration expressions**: This feature allows you to declare a variable and assign a value to it in a single expression."
   ]
  },
  {
   "cell_type": "code",
   "execution_count": 5,
   "metadata": {
    "dotnet_interactive": {
     "language": "csharp"
    },
    "polyglot_notebook": {
     "kernelName": "csharp"
    },
    "vscode": {
     "languageId": "polyglot-notebook"
    }
   },
   "outputs": [
    {
     "name": "stdout",
     "output_type": "stream",
     "text": [
      "5\r\n"
     ]
    }
   ],
   "source": [
    "//if (int.TryParse(Console.ReadLine(), out int x)) {\n",
    "if (int.TryParse(\"5\", out int x)) {\n",
    "    Console.WriteLine(x);\n",
    "} else {\n",
    "    Console.WriteLine(\"Invalid input\");\n",
    "}\n"
   ]
  },
  {
   "cell_type": "code",
   "execution_count": null,
   "metadata": {
    "dotnet_interactive": {
     "language": "csharp"
    },
    "polyglot_notebook": {
     "kernelName": "csharp"
    },
    "vscode": {
     "languageId": "polyglot-notebook"
    }
   },
   "outputs": [],
   "source": [
    "        if (DateTime.TryParse(Console.ReadLine(), out DateTime date)) {\n",
    "        if (DateTime.TryParse(Console.ReadLine(), out DateTime date)) {\n",
    "            Console.WriteLine(date.ToShortDateString());\n",
    "        } else {\n",
    "            Console.WriteLine(\"Invalid input\");\n",
    "        }\n",
    "\n"
   ]
  },
  {
   "cell_type": "markdown",
   "metadata": {},
   "source": [
    "# Continue learning\n",
    "\n",
    "There are plenty more resources out there to learn!\n",
    "\n",
    "> [⏩ Next Module - Await In Catch And Finally Blocks ](35.AwaitInCatchAndFinallyBlocks.ipynb)\n",
    ">\n",
    "> [⏪ Last Module - Dictionary Initializer](33.DictionaryInitializer.ipynb)\n",
    ">\n",
    "> [Reference- C# 6.0 ](https://learn.microsoft.com/en-us/xamarin/cross-platform/platform/csharp-six)\n",
    ">\n",
    "> [Reference- csharp-6-0-simplifies-clarifies-and-condenses](https://learn.microsoft.com/en-us/archive/msdn-magazine/2014/special-issue/csharp-how-csharp-6-0-simplifies-clarifies-and-condenses-your-code)"
   ]
  }
 ],
 "metadata": {
  "language_info": {
   "name": "python"
  },
  "orig_nbformat": 4
 },
 "nbformat": 4,
 "nbformat_minor": 2
}
