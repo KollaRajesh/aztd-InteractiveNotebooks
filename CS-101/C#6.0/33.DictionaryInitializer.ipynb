{
 "cells": [
  {
   "cell_type": "markdown",
   "metadata": {},
   "source": [
    "> ### Dictionary initializer \n",
    ">    Version *C# 6.0*"
   ]
  },
  {
   "cell_type": "markdown",
   "metadata": {},
   "source": [
    " > It allows you to initialize a dictionary with a collection initializer syntax. \n",
    " >\n",
    " >  - A Dictionary<TKey,TValue> contains a collection of key/value pairs.\n",
    " >  - Its *Add* method takes two parameters, one for the key and one for the value. \n",
    " >  - One way to initialize a Dictionary<TKey,TValue>, or any collection whose Add method takes multiple > parameters, is to enclose each set of parameters in braces as shown in the following example. \n",
    " > Another option is to use an index initializer, also shown in the following example.\n",
    "\n",
    " \n",
    " >Here is an example of how to use it"
   ]
  },
  {
   "cell_type": "code",
   "execution_count": null,
   "metadata": {
    "dotnet_interactive": {
     "language": "csharp"
    },
    "polyglot_notebook": {
     "kernelName": "csharp"
    },
    "vscode": {
     "languageId": "polyglot-notebook"
    }
   },
   "outputs": [],
   "source": [
    " class StudentName\n",
    "    {\n",
    "        public string? FirstName { get; set; }\n",
    "        public string? LastName { get; set; }\n",
    "        public int ID { get; set; }\n",
    "    }\n",
    "\n",
    "     var students = new Dictionary<int, StudentName>()\n",
    "        {\n",
    "            { 111, new StudentName { FirstName=\"Sachin\", LastName=\"K\", ID=211 } },\n",
    "            { 112, new StudentName { FirstName=\"Dina\", LastName=\"S\", ID=317 } },\n",
    "            { 113, new StudentName { FirstName=\"Andy\", LastName=\"Rose\", ID=198 } }\n",
    "        };\n",
    "\n",
    "        students.Display();\n",
    "\n",
    "          var students2 = new Dictionary<int, StudentName>(){\n",
    "            [111] = new StudentName { FirstName=\"Rohan\", LastName=\"Karnik\", ID=211 },\n",
    "            [112] = new StudentName { FirstName=\"Donald\", LastName=\"Salimzianova\", ID=317 } ,\n",
    "            [113] = new StudentName { FirstName=\"Ruby\", LastName=\"M\", ID=198 }\n",
    "        };\n",
    "\n",
    "        foreach (var index in Enumerable.Range(111, 3))\n",
    "        {\n",
    "            Console.WriteLine($\"Student {index} is {students2[index].FirstName} {students2[index].LastName}\");\n",
    "        }"
   ]
  },
  {
   "cell_type": "markdown",
   "metadata": {},
   "source": [
    "# Continue learning\n",
    "\n",
    "There are plenty more resources out there to learn!\n",
    "\n",
    "> [⏩ Next Module - Auto Property Initializer ](32.AutoPropertyInitializer.ipynb)\n",
    ">\n",
    "> [⏪ Last Module - Declaration Expressions](34.DeclarationExpressions.ipynb)\n",
    ">\n",
    "> [Reference- C# 6.0 ](https://learn.microsoft.com/en-us/xamarin/cross-platform/platform/csharp-six)\n",
    "\n"
   ]
  }
 ],
 "metadata": {
  "language_info": {
   "name": "python"
  },
  "orig_nbformat": 4
 },
 "nbformat": 4,
 "nbformat_minor": 2
}
