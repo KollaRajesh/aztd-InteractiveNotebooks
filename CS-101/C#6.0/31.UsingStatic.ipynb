{
 "cells": [
  {
   "cell_type": "markdown",
   "metadata": {},
   "source": [
    "> ### Using Static feature \n",
    ">    Version *C# 6.0*"
   ]
  },
  {
   "cell_type": "markdown",
   "metadata": {},
   "source": [
    "> **Using static:** This feature allows you to import static members of a type directly into scope, so you can use them without specifying the type name. \n",
    ">\n",
    "> *Here is an example:*\n",
    ">\n",
    "> In this example, the using static directive is used to import the WriteLine method of the *System.Console* class directly into scope.  \n",
    "> This allows you to use WriteLine without specifying the Console class name."
   ]
  },
  {
   "cell_type": "code",
   "execution_count": null,
   "metadata": {
    "dotnet_interactive": {
     "language": "csharp"
    },
    "polyglot_notebook": {
     "kernelName": "csharp"
    },
    "vscode": {
     "languageId": "polyglot-notebook"
    }
   },
   "outputs": [],
   "source": [
    "using static System.Console;\n",
    "\n",
    "WriteLine(\"Hello\");"
   ]
  },
  {
   "cell_type": "code",
   "execution_count": null,
   "metadata": {
    "dotnet_interactive": {
     "language": "csharp"
    },
    "polyglot_notebook": {
     "kernelName": "csharp"
    },
    "vscode": {
     "languageId": "polyglot-notebook"
    }
   },
   "outputs": [],
   "source": [
    "using static System.Math;\n",
    "using static System.Console;\n",
    "\n",
    "double x = 3.14;\n",
    "double y = Sqrt(x);\n",
    "WriteLine(y); // Output: 1.77200451467\n"
   ]
  },
  {
   "cell_type": "markdown",
   "metadata": {},
   "source": [
    "> *Static class:* This feature allows you to define a class that contains only static members.  This is different from Using Static directive\n",
    "> \n",
    "> Here is an example:\n",
    ">\n",
    "> In this example, the MyMath class is defined as a static class that contains only the Add method.\n",
    "> Because the MyMath class is static, We can call the Add method directly on the class, like this:"
   ]
  },
  {
   "cell_type": "code",
   "execution_count": null,
   "metadata": {
    "dotnet_interactive": {
     "language": "csharp"
    },
    "polyglot_notebook": {
     "kernelName": "csharp"
    },
    "vscode": {
     "languageId": "polyglot-notebook"
    }
   },
   "outputs": [],
   "source": [
    "public static class MyMath {\n",
    "    public static int Add(int x, int y) {\n",
    "        return x + y;\n",
    "    }\n",
    "}\n",
    "int result = MyMath.Add(3, 4);\n",
    "result.Display();"
   ]
  },
  {
   "cell_type": "markdown",
   "metadata": {},
   "source": [
    "# Continue learning\n",
    "\n",
    "There are plenty more resources out there to learn!\n",
    "\n",
    "> [⏩ Next Module - Auto Property Initializer ](32.AutoPropertyInitializer.ipynb)\n",
    ">\n",
    "> [⏪ Last Module - Caller Information](../C#5.0/30.CallerInformation.ipynb)\n",
    ">\n",
    "> [Reference- static class and Static members- C#](https://learn.microsoft.com/en-us/dotnet/csharp/programming-guide/classes-and-structs/static-classes-and-static-class-members)\n",
    ">\n",
    "> [Reference- C# 6.0 ](https://learn.microsoft.com/en-us/xamarin/cross-platform/platform/csharp-six)\n",
    "\n",
    "https://learn.microsoft.com/en-us/archive/msdn-magazine/2014/special-issue/csharp-how-csharp-6-0-simplifies-clarifies-and-condenses-your-code"
   ]
  }
 ],
 "metadata": {
  "language_info": {
   "name": "python"
  },
  "orig_nbformat": 4
 },
 "nbformat": 4,
 "nbformat_minor": 2
}
