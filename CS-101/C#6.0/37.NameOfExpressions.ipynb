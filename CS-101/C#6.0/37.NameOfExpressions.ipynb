{
 "cells": [
  {
   "cell_type": "markdown",
   "metadata": {},
   "source": [
    "> ### nameof expressions:\n",
    ">    Version *C# 6.0*"
   ]
  },
  {
   "cell_type": "markdown",
   "metadata": {},
   "source": [
    "> **nameof expressions**: This feature allows you to get the name of a variable, type, or member as a string.\n",
    ">\n",
    ">  - A nameof expression in C# produces the name of a variable, type, or member as a string constant.\n",
    ">  - It is evaluated at compile time and has no effect at runtime. When the operand is a type or a namespace, the produced name isn’t fully qualified\n",
    ">\n",
    ">  Here is the example of Exception filters"
   ]
  },
  {
   "cell_type": "code",
   "execution_count": null,
   "metadata": {
    "dotnet_interactive": {
     "language": "csharp"
    },
    "polyglot_notebook": {
     "kernelName": "csharp"
    },
    "vscode": {
     "languageId": "polyglot-notebook"
    }
   },
   "outputs": [],
   "source": [
    "using System;\n",
    "\n",
    "public class Employee {\n",
    "    public string Name { get; set; }\n",
    "}\n",
    "\n",
    "Employee employee =new Employee();\n",
    " Console.WriteLine(nameof(Employee)); // Output: Employee\n",
    " Console.WriteLine(nameof(Employee.Name)); // Output: Name\n",
    " Console.WriteLine(nameof(employee.Name)); // Output: Name    "
   ]
  },
  {
   "cell_type": "markdown",
   "metadata": {},
   "source": [
    "# Continue learning\n",
    "\n",
    "There are plenty more resources out there to learn!\n",
    "\n",
    "> [⏩ Next Module - Null Conditional Operator](38.NullConditionalOperator.ipynb)\n",
    ">\n",
    "> [⏪ Last Module - Exception Filters](36.ExceptionFilters.ipynb)\n",
    ">\n",
    "> [Reference- C# 6.0 ](https://learn.microsoft.com/en-us/xamarin/cross-platform/platform/csharp-six)\n",
    ">\n",
    "> [Reference- csharp-6-0-simplifies-clarifies-and-condenses](https://learn.microsoft.com/en-us/archive/msdn-magazine/2014/special-issue/csharp-how-csharp-6-0-simplifies-clarifies-and-condenses-your-code)\n",
    ">\n",
    "> [Reference- nameof- C#](https://learn.microsoft.com/en-us/dotnet/csharp/language-reference/operators/nameof)\n"
   ]
  }
 ],
 "metadata": {
  "language_info": {
   "name": "python"
  },
  "orig_nbformat": 4
 },
 "nbformat": 4,
 "nbformat_minor": 2
}
