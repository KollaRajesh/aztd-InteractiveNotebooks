{
 "cells": [
  {
   "cell_type": "markdown",
   "metadata": {},
   "source": [
    "> ### Exception filters\n",
    ">    Version *C# 6.0*"
   ]
  },
  {
   "cell_type": "markdown",
   "metadata": {},
   "source": [
    "> **Exception filters**: This feature allows you to filter exceptions based on a condition.\n",
    ">\n",
    "> Here is the example of Exception filters"
   ]
  },
  {
   "cell_type": "code",
   "execution_count": null,
   "metadata": {
    "dotnet_interactive": {
     "language": "csharp"
    },
    "polyglot_notebook": {
     "kernelName": "csharp"
    },
    "vscode": {
     "languageId": "polyglot-notebook"
    }
   },
   "outputs": [],
   "source": [
    "int x ;\n",
    "\n",
    "try {\n",
    "    //int x = int.Parse(\"Console.ReadLine()\");\n",
    "    int x = int.Parse(\"-1\");\n",
    "    if (x < 0) {\n",
    "        throw new ArgumentException(\"Negative number\", nameof(x));\n",
    "    }\n",
    "    Console.WriteLine(x);\n",
    "} catch (ArgumentException ex) when (ex.ParamName == nameof(x)) {  //Exception filter\n",
    "    Console.WriteLine(\"Invalid input\");\n",
    "}"
   ]
  },
  {
   "cell_type": "code",
   "execution_count": null,
   "metadata": {
    "dotnet_interactive": {
     "language": "csharp"
    },
    "polyglot_notebook": {
     "kernelName": "csharp"
    },
    "vscode": {
     "languageId": "polyglot-notebook"
    }
   },
   "outputs": [],
   "source": [
    "\n",
    "try {\n",
    "    //int x = int.Parse(Console.ReadLine());\n",
    "   // int x = int.Parse(\"0\"); //Cannot divide by zero\n",
    "    int x = int.Parse(\"\");    //FormatException\n",
    "    Console.WriteLine(10 / x);\n",
    "} catch (DivideByZeroException) {\n",
    "    Console.WriteLine(\"Cannot divide by zero\");\n",
    "} catch (Exception ex) when (ex is FormatException || ex is OverflowException) {  //Exception filter\n",
    "    Console.WriteLine(\"Invalid input\");\n",
    "}\n",
    "    "
   ]
  },
  {
   "cell_type": "markdown",
   "metadata": {},
   "source": [
    "# Continue learning\n",
    "\n",
    "There are plenty more resources out there to learn!\n",
    "\n",
    "> [⏩ Next Module - Await In Catch And Finally Blocks](34.AwaitInCatchAndFinallyBlocks.ipynb)\n",
    ">\n",
    "> [⏪ Last Module - Name Of Expressions](36.NameOfExpressions.ipynb)\n",
    ">\n",
    "> [Reference- C# 6.0 ](https://learn.microsoft.com/en-us/xamarin/cross-platform/platform/csharp-six)\n",
    ">\n",
    "> [Reference- csharp-6-0-simplifies-clarifies-and-condenses](https://learn.microsoft.com/en-us/archive/msdn-magazine/2014/special-issue/csharp-how-csharp-6-0-simplifies-clarifies-and-condenses-your-code)\n",
    "\n"
   ]
  }
 ],
 "metadata": {
  "language_info": {
   "name": "python"
  },
  "orig_nbformat": 4
 },
 "nbformat": 4,
 "nbformat_minor": 2
}
