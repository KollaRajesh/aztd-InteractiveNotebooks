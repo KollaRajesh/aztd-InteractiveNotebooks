{
 "cells": [
  {
   "cell_type": "markdown",
   "metadata": {},
   "source": [
    "> ### NULL Conditional Operator:\n",
    ">    Version *C# 6.0*"
   ]
  },
  {
   "cell_type": "markdown",
   "metadata": {},
   "source": [
    "> **Null-conditional operators** were introduced in C# 6.0 to simplify null-checking code and avoid null-reference exceptions.  \n",
    "> They also offer a safe way to access members and elements of an object or collection that may be null.\n",
    ">\n",
    ">  Here  is the example of Null-Conditional Operator\n",
    ">\n",
    "> In this example, Employee is null, so the null-conditional operator ?. returns null without attempting to access the Name property. The Length property of null is also null, so the output is null."
   ]
  },
  {
   "cell_type": "code",
   "execution_count": null,
   "metadata": {
    "dotnet_interactive": {
     "language": "csharp"
    },
    "polyglot_notebook": {
     "kernelName": "csharp"
    },
    "vscode": {
     "languageId": "polyglot-notebook"
    }
   },
   "outputs": [],
   "source": [
    "public class Employee {\n",
    "    public string Name { get; set; }\n",
    "}\n",
    " Employee employee = null;\n",
    " Console.WriteLine(employee?.Name?.Length); // Output: null\n",
    "    \n",
    " employee = new Employee();\n",
    " Console.WriteLine(employee?.Name?.Length); // Output: null\n",
    "\n",
    " employee = new Employee(){Name =\"Rob\"};\n",
    " Console.WriteLine(employee?.Name?.Length); // Output: 3\n"
   ]
  },
  {
   "cell_type": "code",
   "execution_count": null,
   "metadata": {
    "dotnet_interactive": {
     "language": "csharp"
    },
    "polyglot_notebook": {
     "kernelName": "csharp"
    },
    "vscode": {
     "languageId": "polyglot-notebook"
    }
   },
   "outputs": [],
   "source": [
    "public class Employer {\n",
    "    public List<Employee> Employees { get; set; }\n",
    "}\n",
    "\n",
    "        Employer employer = null ;\n",
    "        Console.WriteLine(employer?.Employees?[0]); // Output: null\n",
    "        employer = new Employer();\n",
    "        Console.WriteLine(employer?.Employees?[0]); // Output: null\n",
    "        employer.Employees =new List<Employee>(){new Employee{Name=\"Jack\"}};\n",
    "        Console.WriteLine(employer?.Employees?[0]?.Name); // Output: null\n",
    "    \n"
   ]
  },
  {
   "cell_type": "markdown",
   "metadata": {},
   "source": [
    "# Continue learning\n",
    "\n",
    "There are plenty more resources out there to learn!\n",
    "\n",
    "> [⏩ Next Module - Declaration Expressions](../C#7.0/38.DeclarationExpressions.ipynb)\n",
    ">\n",
    "> [⏪ Last Module - Name of Expression](36.NameOfExpressions.ipynb)\n",
    ">\n",
    "> [Reference- C# 6.0 ](https://learn.microsoft.com/en-us/xamarin/cross-platform/platform/csharp-six)\n",
    ">\n",
    "> [Reference- csharp-6-0-simplifies-clarifies-and-condenses](https://learn.microsoft.com/en-us/archive/msdn-magazine/2014/special-issue/csharp-how-csharp-6-0-simplifies-clarifies-and-condenses-your-code)\n",
    ">\n",
    "> [Reference- member access operator- C#](https://learn.microsoft.com/en-us/dotnet/csharp/language-reference/operators/member-access-operators)\n"
   ]
  }
 ],
 "metadata": {
  "kernelspec": {
   "display_name": ".NET (C#)",
   "language": "C#",
   "name": ".net-csharp"
  },
  "language_info": {
   "name": "python"
  },
  "orig_nbformat": 4,
  "polyglot_notebook": {
   "kernelInfo": {
    "defaultKernelName": "csharp",
    "items": [
     {
      "aliases": [],
      "name": "csharp"
     }
    ]
   }
  }
 },
 "nbformat": 4,
 "nbformat_minor": 2
}
