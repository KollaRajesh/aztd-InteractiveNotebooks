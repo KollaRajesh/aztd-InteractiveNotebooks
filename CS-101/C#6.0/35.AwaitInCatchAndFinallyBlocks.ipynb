{
 "cells": [
  {
   "cell_type": "markdown",
   "metadata": {},
   "source": [
    "> ### Await in catch and finally blocks\n",
    ">    Version *C# 6.0*"
   ]
  },
  {
   "cell_type": "markdown",
   "metadata": {},
   "source": [
    "> **Await in catch and finally blocks** : This feature allows you to use the await keyword in catch and finally blocks."
   ]
  },
  {
   "cell_type": "code",
   "execution_count": 6,
   "metadata": {
    "dotnet_interactive": {
     "language": "csharp"
    },
    "polyglot_notebook": {
     "kernelName": "csharp"
    },
    "vscode": {
     "languageId": "polyglot-notebook"
    }
   },
   "outputs": [],
   "source": [
    "using System.IO;\n",
    "\n",
    "static async Task Main() {\n",
    "    try {\n",
    "        await SomeMethodAsync(); //await used in try block\n",
    "    } catch (Exception ex) {\n",
    "        await LogErrorAsync(ex); //await used  in catch block\n",
    "    }\n",
    "}\n",
    "\n",
    "static async Task LogErrorAsync(Exception ex) {\n",
    "  using (StreamWriter writer = new StreamWriter(\"log.txt\", true)) {\n",
    "         await writer.WriteLineAsync(ex.ToString());\n",
    "       }\n",
    "}\n",
    "\n",
    "static async Task SomeMethodAsync(){\n",
    "     Task.Run(()=>{ Console.WriteLine(\"Do Something\");});\n",
    "}\n"
   ]
  },
  {
   "cell_type": "code",
   "execution_count": 7,
   "metadata": {
    "dotnet_interactive": {
     "language": "csharp"
    },
    "polyglot_notebook": {
     "kernelName": "csharp"
    },
    "vscode": {
     "languageId": "polyglot-notebook"
    }
   },
   "outputs": [],
   "source": [
    "\n",
    "public class Program {\n",
    "    static async Task Main() {\n",
    "        try {\n",
    "            await SomeMethodAsync();//await used in try block\n",
    "        } catch (Exception ex) {\n",
    "            Console.WriteLine(ex.Message);\n",
    "        } finally { \n",
    "            await LogInfo();  //await used  in finally block\n",
    "        }\n",
    "    }\n",
    "}\n",
    "\n",
    "static async Task LogInfo(){\n",
    "     Task.Run(()=>{ Console.WriteLine(\"Done\");});\n",
    "}\n",
    "\n",
    "static async Task SomeMethodAsync(){\n",
    "  Task.Run(()=>{ Console.WriteLine(\"Do Something\");});\n",
    "}"
   ]
  },
  {
   "cell_type": "markdown",
   "metadata": {},
   "source": [
    "# Continue learning\n",
    "\n",
    "There are plenty more resources out there to learn!\n",
    "\n",
    "> [⏩ Next Module - Exception Filters](36.ExceptionFilters.ipynb)\n",
    ">\n",
    "> [⏪ Last Module - Declaration Expressions](34.DeclarationExpressions.ipynb)\n",
    ">\n",
    "> [Reference- C# 6.0 ](https://learn.microsoft.com/en-us/xamarin/cross-platform/platform/csharp-six)\n",
    ">\n",
    "> [Reference- csharp-6-0-simplifies-clarifies-and-condenses](https://learn.microsoft.com/en-us/archive/msdn-magazine/2014/special-issue/csharp-how-csharp-6-0-simplifies-clarifies-and-condenses-your-code)"
   ]
  }
 ],
 "metadata": {
  "language_info": {
   "name": "python"
  },
  "orig_nbformat": 4
 },
 "nbformat": 4,
 "nbformat_minor": 2
}
