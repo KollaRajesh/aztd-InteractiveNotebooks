{
 "cells": [
  {
   "cell_type": "markdown",
   "metadata": {},
   "source": [
    "> ### Auto Property Initializer feature \n",
    ">    Version *C# 6.0*"
   ]
  },
  {
   "cell_type": "markdown",
   "metadata": {},
   "source": [
    "> **Auto-property initializers**: This feature allows you to initialize an auto-implemented property with a default value.\n",
    ">\n",
    "> Here is the example of Auto-property initializer"
   ]
  },
  {
   "cell_type": "code",
   "execution_count": null,
   "metadata": {
    "dotnet_interactive": {
     "language": "csharp"
    },
    "polyglot_notebook": {
     "kernelName": "csharp"
    },
    "vscode": {
     "languageId": "polyglot-notebook"
    }
   },
   "outputs": [],
   "source": [
    "public class Employee {\n",
    "    public string Name { get; set; } \n",
    "    public string Employer { get; set; }=\"MSFT\";\n",
    "}\n",
    "\n",
    "Employee employee = new Employee();\n",
    "Console.WriteLine(employee.Employer); // Output: 42\n"
   ]
  },
  {
   "cell_type": "code",
   "execution_count": null,
   "metadata": {
    "dotnet_interactive": {
     "language": "csharp"
    },
    "polyglot_notebook": {
     "kernelName": "csharp"
    },
    "vscode": {
     "languageId": "polyglot-notebook"
    }
   },
   "outputs": [],
   "source": [
    "public class Exam {\n",
    "    public TimeSpan Time { get; set; } = new TimeSpan(3, 0,0); \n",
    "}\n",
    "\n",
    "   Exam exam = new Exam();\n",
    "   Console.WriteLine(exam.Time); // Output: Hello, world!\n"
   ]
  },
  {
   "cell_type": "markdown",
   "metadata": {},
   "source": [
    "# Continue learning\n",
    "\n",
    "There are plenty more resources out there to learn!\n",
    "\n",
    "> [⏩ Next Module - Dictionary Initializer in C# ](33.DictionaryInitializer.ipynb)\n",
    ">\n",
    "> [⏪ Last Module - Using Static in C# ](31.UsingStatic.ipynb)\n",
    ">\n",
    ">\n",
    "> [Reference- C# 6.0 ](https://learn.microsoft.com/en-us/xamarin/cross-platform/platform/csharp-six)\n",
    ">\n",
    "> [Reference- csharp-how-csharp-6-0-simplifies-clarifies-and-condense ](https://learn.microsoft.com/en-us/archive/msdn-magazine/2014/special-issue/csharp-how-csharp-6-0-simplifies-clarifies-and-condenses-your-code)"
   ]
  }
 ],
 "metadata": {
  "language_info": {
   "name": "python"
  },
  "orig_nbformat": 4
 },
 "nbformat": 4,
 "nbformat_minor": 2
}
