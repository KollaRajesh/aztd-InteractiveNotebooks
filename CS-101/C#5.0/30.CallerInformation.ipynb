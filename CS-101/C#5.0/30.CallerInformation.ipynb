{
 "cells": [
  {
   "cell_type": "markdown",
   "metadata": {},
   "source": [
    "> ### Caller Information\n",
    ">    Version *C# 5.0*\n",
    ">\n",
    "> **Caller Information** in C# is a feature that allows you to obtain information about the caller of a method. \n",
    "> You can obtain the file path of the source code, the line number in the source code, and the member name of the caller. \n",
    "> To obtain member caller information, you use attributes that are applied to optional parameters. \n",
    "> Each optional parameter specifies a default value. The following table lists the Caller Info attributes that are defined in the System.Runtime.CompilerServices namespace:\n",
    ">\n",
    "> |Attribute\t| Description|\n",
    "> |--|--|\n",
    "> |CallerFilePathAttribute\t|Full path of the source file that contains the caller. The full path is the path at compile time.|\n",
    "> |CallerLineNumberAttribute|\tLine number in the source file from which the method is called.|\n",
    "> |CallerMemberNameAttribute|\tMethod name or property name of the caller.|\n",
    "> |CallerArgumentExpressionAttribute|\tString representation of the argument expression.|\n",
    "> \n",
    "> - This information helps you with tracing and debugging, and helps you to create diagnostic tools. Here is a simple example of how to use caller info attributes. On each call to the TraceMessage method, the caller information is inserted for the arguments to the optional parameters.\n"
   ]
  },
  {
   "cell_type": "markdown",
   "metadata": {},
   "source": [
    "> #### Example - 1\n",
    "> In this example, the TraceMessage method takes three optional parameters, each of which is marked with a Caller Information attribute. \n",
    "> When the TraceMessage method is called, the values of these parameters are automatically filled in with information about the caller."
   ]
  },
  {
   "cell_type": "code",
   "execution_count": null,
   "metadata": {
    "dotnet_interactive": {
     "language": "csharp"
    },
    "polyglot_notebook": {
     "kernelName": "csharp"
    },
    "vscode": {
     "languageId": "polyglot-notebook"
    }
   },
   "outputs": [],
   "source": [
    "using System.Runtime.CompilerServices;\n",
    "using System.Diagnostics;\n",
    "public void DoProcessing()\n",
    "{\n",
    "    TraceMessage(\"Something happened.\");\n",
    "}\n",
    "\n",
    "public void TraceMessage(string message,\n",
    "    [CallerMemberName] string memberName = \"\",\n",
    "    [CallerFilePath] string sourceFilePath = \"\",\n",
    "    [CallerLineNumber] int sourceLineNumber = 0)\n",
    "{\n",
    "    Trace.WriteLine(\"message: \" + message);\n",
    "    Trace.WriteLine(\"member name: \" + memberName);\n",
    "    Trace.WriteLine(\"source file path: \" + sourceFilePath);\n",
    "    Trace.WriteLine(\"source line number: \" + sourceLineNumber);\n",
    "\n",
    "    Console.WriteLine(\"Message: {0}\", message);\n",
    "    Console.WriteLine(\"Member Name: {0}\", memberName);\n",
    "    Console.WriteLine(\"Source File Path: {0}\", sourceFilePath);\n",
    "    Console.WriteLine(\"Source Line Number: {0}\", sourceLineNumber);\n",
    "}\n",
    "DoProcessing();"
   ]
  },
  {
   "cell_type": "markdown",
   "metadata": {},
   "source": [
    "#### Example - 2\n",
    "> - In this example, the Logger class has a Log method that takes a message and three optional parameters, each of which is marked with a Caller Information attribute.\n",
    ">  The Greet class uses an instance of the Logger class to log messages before and after it does something."
   ]
  },
  {
   "cell_type": "code",
   "execution_count": null,
   "metadata": {
    "dotnet_interactive": {
     "language": "csharp"
    },
    "polyglot_notebook": {
     "kernelName": "csharp"
    },
    "vscode": {
     "languageId": "polyglot-notebook"
    }
   },
   "outputs": [],
   "source": [
    "public class Logger\n",
    "{\n",
    "    public void Log(string message, [CallerMemberName] string memberName = \"\", [CallerFilePath] string sourceFilePath = \"\", [CallerLineNumber] int sourceLineNumber = 0)\n",
    "    {\n",
    "        Console.WriteLine(\"[{0}] {1}: {2} ({3}:{4})\", DateTime.Now, memberName, message, sourceFilePath, sourceLineNumber);\n",
    "    }\n",
    "}\n",
    "\n",
    "public class Greet\n",
    "{\n",
    "    private readonly Logger _logger = new Logger();\n",
    "\n",
    "    public void Wish(string Name )\n",
    "    {\n",
    "        _logger.Log(\"Starting DoSomething\");\n",
    "         Console.WriteLine($\"Hi {Name}\");\n",
    "        _logger.Log(\"Finished DoSomething\");\n",
    "    }\n",
    "}\n",
    "\n",
    "Greet greet = new Greet();\n",
    "greet.Wish(\"James\");"
   ]
  },
  {
   "cell_type": "markdown",
   "metadata": {},
   "source": [
    "# Continue learning\n",
    "\n",
    "There are plenty more resources out there to learn!\n",
    "\n",
    "> [⏩ Next Module - ](30.CallerInformation.ipynb)\n",
    ">\n",
    "> [⏪ Last Module - ASync Programming](29.ASyncPragramming.ipynb)\n",
    ">\n",
    "> [Reference : Caller Inforamtion](https://learn.microsoft.com/en-us/dotnet/csharp/language-reference/attributes/caller-information)\n"
   ]
  }
 ],
 "metadata": {
  "language_info": {
   "name": "python"
  },
  "orig_nbformat": 4
 },
 "nbformat": 4,
 "nbformat_minor": 2
}
