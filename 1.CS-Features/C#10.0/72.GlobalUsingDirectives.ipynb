{
 "cells": [
  {
   "cell_type": "markdown",
   "metadata": {},
   "source": [
    "> ### **Global Using Directives** in C#\n",
    ">    Version *C# 10.0*"
   ]
  },
  {
   "cell_type": "markdown",
   "metadata": {},
   "source": [
    "> **Global Using Directives**: We can add the global modifier to any using directive to instruct the compiler that the directive applies to all source files in the compilation.  \n",
    ">\n",
    ">\n",
    ">   - *Global using directives* is a feature introduced in C# 10.0 that allows us to use types defined in a namespace without specifying the fully qualified namespace of that type.\n",
    ">   -  The global modifier has the same effect as adding the same using directive to every source file in your project."
   ]
  },
  {
   "cell_type": "markdown",
   "metadata": {},
   "source": [
    "> - *Example 1*: Basic Usage In its basic form, the global using directive imports all the types from a single namespace and single file."
   ]
  },
  {
   "cell_type": "code",
   "execution_count": null,
   "metadata": {
    "dotnet_interactive": {
     "language": "csharp"
    },
    "polyglot_notebook": {
     "kernelName": "csharp"
    },
    "vscode": {
     "languageId": "polyglot-notebook"
    }
   },
   "outputs": [],
   "source": [
    "// here we can not see the difference , in actual project , we define imports all types globally in file using directive.\n",
    "global using System.Text;\n",
    "global using System;\n",
    "\n"
   ]
  },
  {
   "cell_type": "markdown",
   "metadata": {},
   "source": [
    "> - *Example 2*: Basic Usage In its basic form, the global using directive imports all the types from a single namespace"
   ]
  },
  {
   "cell_type": "code",
   "execution_count": null,
   "metadata": {
    "dotnet_interactive": {
     "language": "csharp"
    },
    "polyglot_notebook": {
     "kernelName": "csharp"
    },
    "vscode": {
     "languageId": "polyglot-notebook"
    }
   },
   "outputs": [],
   "source": [
    "global using log = System.Console;\n",
    "\n",
    "log.WriteLine(\"alias using global using\");\n"
   ]
  },
  {
   "cell_type": "markdown",
   "metadata": {},
   "source": [
    "> - *Example 3 :* The following example uses the using static directive to make the static members of the Console, Math, and String classes available without having to specify their type name."
   ]
  },
  {
   "cell_type": "code",
   "execution_count": null,
   "metadata": {
    "dotnet_interactive": {
     "language": "csharp"
    },
    "polyglot_notebook": {
     "kernelName": "csharp"
    },
    "vscode": {
     "languageId": "polyglot-notebook"
    }
   },
   "outputs": [],
   "source": [
    "using System;\n",
    "using static System.Console;\n",
    "using static System.Math;\n",
    "using static System.String;\n",
    "\n",
    "\n",
    "public class Circle\n",
    "{\n",
    "   public Circle(double radius)\n",
    "   {\n",
    "      Radius = radius;\n",
    "   }\n",
    "\n",
    "   public double Radius { get; set; }\n",
    "\n",
    "   public double Diameter\n",
    "   {\n",
    "      get { return 2 * Radius; }\n",
    "   }\n",
    "\n",
    "   public double Circumference\n",
    "   {\n",
    "      get { return 2 * Radius * PI; }\n",
    "   }\n",
    "\n",
    "   public double Area\n",
    "   {\n",
    "      get { return PI * Pow(Radius, 2); }\n",
    "   }\n",
    "}\n",
    "\n",
    "Write(\"Enter a circle's radius: \");\n",
    "var input =\"2.0\";\n",
    "\n",
    "if (!IsNullOrEmpty(input) && double.TryParse(input, out var radius)) {\n",
    "    var c = new Circle(radius);\n",
    "\n",
    "    string s = \"\\nInformation about the circle:\\n\";\n",
    "    s = s + Format(\"   Radius: {0:N2}\\n\", c.Radius);\n",
    "    s = s + Format(\"   Diameter: {0:N2}\\n\", c.Diameter);\n",
    "    s = s + Format(\"   Circumference: {0:N2}\\n\", c.Circumference);\n",
    "    s = s + Format(\"   Area: {0:N2}\\n\", c.Area);\n",
    "    WriteLine(s);\n",
    "}\n",
    "else {\n",
    "    WriteLine(\"Invalid input...\");\n",
    "}\n"
   ]
  },
  {
   "cell_type": "markdown",
   "metadata": {},
   "source": []
  },
  {
   "cell_type": "markdown",
   "metadata": {},
   "source": [
    "# Continue learning\n",
    "\n",
    "There are plenty more resources out there to learn!\n",
    "\n",
    "> [⏩ Next Module - File Scoped Namespace Declaration](73.File-ScopedNamespaceDeclaration.ipynb)\n",
    ">\n",
    "> [⏪ Last Module - Interpolated StringHandlers](71.InterpolatedStringHandlers.ipynb)\n",
    ">\n",
    "> [Reference - global-using-directives](https://learn.microsoft.com/en-us/dotnet/csharp/whats-new/csharp-10#global-using-directives)    \n",
    "> [Reference - global-using-directives](https://learn.microsoft.com/en-us/dotnet/csharp/language-reference/keywords/using-directive)  \n",
    "> [Reference - C#-version-10](https://learn.microsoft.com/en-us/dotnet/csharp/whats-new/csharp-10)  "
   ]
  }
 ],
 "metadata": {
  "language_info": {
   "name": "python"
  },
  "orig_nbformat": 4
 },
 "nbformat": 4,
 "nbformat_minor": 2
}
