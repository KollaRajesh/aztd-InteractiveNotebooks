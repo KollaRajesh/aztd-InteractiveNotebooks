{
 "cells": [
  {
   "cell_type": "markdown",
   "metadata": {},
   "source": [
    "> ### **Allow Const Interpolated Strings** in C#\n",
    ">    Version *C# 10.0*"
   ]
  },
  {
   "cell_type": "markdown",
   "metadata": {},
   "source": [
    "> **Allow Const Interpolated Strings**: You can now use constant interpolated strings.    \n",
    ">  \n",
    ">  “Allow const interpolated strings” is a feature introduced in C# 10.0 that enables constants to be generated from interpolated strings of type string constant.    \n",
    ">  This feature allows you to use an interpolated string to initialize a constant string, but only if all interpolation expressions within the interpolated string are constant strings.      \n"
   ]
  },
  {
   "cell_type": "markdown",
   "metadata": {},
   "source": [
    ">  Here are three examples of how to use “Allow const interpolated strings”:"
   ]
  },
  {
   "cell_type": "code",
   "execution_count": null,
   "metadata": {
    "dotnet_interactive": {
     "language": "csharp"
    },
    "polyglot_notebook": {
     "kernelName": "csharp"
    },
    "vscode": {
     "languageId": "polyglot-notebook"
    }
   },
   "outputs": [],
   "source": [
    "const string name = \"John\";\n",
    "const string greeting = $\"Hi, {name + \"with no LastName\"}!\";\n",
    "Console.WriteLine(greeting);  // Output: Hello, John!\n",
    "\n",
    "\n",
    "const string firstName = \"John\";\n",
    "const string lastName = \"Doe\";\n",
    "const string fullName = $\"{firstName} {lastName}\";\n",
    "Console.WriteLine(fullName);  // Output: John Doe\n",
    "\n",
    "\n"
   ]
  },
  {
   "cell_type": "code",
   "execution_count": null,
   "metadata": {
    "dotnet_interactive": {
     "language": "csharp"
    },
    "polyglot_notebook": {
     "kernelName": "csharp"
    },
    "vscode": {
     "languageId": "polyglot-notebook"
    }
   },
   "outputs": [],
   "source": [
    "const int x = 5;\n",
    "const int y = 10;\n",
    "\n",
    "const string  result = $\"The sum of {x} and {y} is {z}.\";   // Throw error CS0133: The expression being assigned to 'result' must be constant\n",
    "Console.WriteLine(result);  "
   ]
  },
  {
   "cell_type": "markdown",
   "metadata": {},
   "source": [
    "# Continue learning\n",
    "\n",
    "There are plenty more resources out there to learn!\n",
    "\n",
    "> [⏩ Next Module - RecordTypes Can Seal ToString](77.RecordTypesCanSealToString.ipynb)\n",
    ">\n",
    "> [⏪ Last Module - Improvements On Lambda Expressions](75.ImprovementsonLambdaExpressions.ipynb)\n",
    ">\n",
    "> [Reference - constant-interpolated-strings](https://learn.microsoft.com/en-us/dotnet/csharp/whats-new/csharp-10#constant-interpolated-strings)    \n",
    ">\n",
    "> [Reference - C#-version-10](https://learn.microsoft.com/en-us/dotnet/csharp/whats-new/csharp-10)  "
   ]
  }
 ],
 "metadata": {
  "language_info": {
   "name": "python"
  },
  "orig_nbformat": 4
 },
 "nbformat": 4,
 "nbformat_minor": 2
}
