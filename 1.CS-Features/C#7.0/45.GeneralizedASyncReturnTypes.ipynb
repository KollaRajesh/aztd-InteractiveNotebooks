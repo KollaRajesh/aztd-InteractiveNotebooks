{
 "cells": [
  {
   "cell_type": "markdown",
   "metadata": {},
   "source": [
    "> ###  Generalized async return types:\n",
    ">    Version *C# 7.0*"
   ]
  },
  {
   "cell_type": "markdown",
   "metadata": {},
   "source": [
    "> **Generalized async return types**:  \n",
    "> You can now use any type as the return type of an async method.  \n",
    ">\n",
    ">**Custom async return type**: C# 7 introduced the ability to define custom return types on async methods. \n",
    ">   The ValueTask<TResult> type is an example of such a custom type. \n",
    ">   It is designed for scenarios when the return value might be known immediately,\n",
    "\n",
    "> For example,  \n",
    ">\n",
    ">\n",
    " ```csharp\n",
    " async ValueTask<int> GetValueAsync() { ... }\n",
    " ```"
   ]
  },
  {
   "cell_type": "code",
   "execution_count": 3,
   "metadata": {
    "dotnet_interactive": {
     "language": "csharp"
    },
    "polyglot_notebook": {
     "kernelName": "csharp"
    },
    "vscode": {
     "languageId": "polyglot-notebook"
    }
   },
   "outputs": [
    {
     "name": "stdout",
     "output_type": "stream",
     "text": [
      "Value: 42\r\n"
     ]
    }
   ],
   "source": [
    "public static async ValueTask<int> GetValueAsync() {\n",
    "    await Task.Delay(1000);\n",
    "    return 42;\n",
    "}\n",
    "\n",
    "    int value = await GetValueAsync();\n",
    "    Console.WriteLine($\"Value: {value}\");\n",
    "\n"
   ]
  },
  {
   "cell_type": "markdown",
   "metadata": {},
   "source": [
    "> Another example"
   ]
  },
  {
   "cell_type": "code",
   "execution_count": 24,
   "metadata": {
    "dotnet_interactive": {
     "language": "csharp"
    },
    "polyglot_notebook": {
     "kernelName": "csharp"
    },
    "vscode": {
     "languageId": "polyglot-notebook"
    }
   },
   "outputs": [
    {
     "name": "stdout",
     "output_type": "stream",
     "text": [
      "Shaking dice...\n",
      "You rolled 2\n"
     ]
    }
   ],
   "source": [
    "  static readonly Random s_rnd = new Random();\n",
    "\n",
    "   Console.WriteLine($\"You rolled {await GetDiceRollAsync()}\");\n",
    "\n",
    "    static async ValueTask<int> GetDiceRollAsync()\n",
    "    {\n",
    "        Console.WriteLine(\"Shaking dice...\");\n",
    "\n",
    "        int roll1 = await RollAsync();\n",
    "        int roll2 = await RollAsync();\n",
    "\n",
    "        return roll1 + roll2;\n",
    "    }\n",
    "\n",
    "    static async ValueTask<int> RollAsync()\n",
    "    {\n",
    "        await Task.Delay(500);\n",
    "\n",
    "        int diceRoll = s_rnd.Next(1, 3);\n",
    "        return diceRoll;\n",
    "    }"
   ]
  },
  {
   "cell_type": "markdown",
   "metadata": {},
   "source": [
    "# Continue learning\n",
    "\n",
    "There are plenty more resources out there to learn!\n",
    "\n",
    "> [⏩ Next Module - Throw Exceptions ](46.ThrowExceptions.ipynb)\n",
    ">\n",
    "> [⏪ Last Module - Ref Returns And Locals](44.RefReturnsAndLocals.ipynb)\n",
    ">\n",
    "> [Reference- C# 7.0 features](https://dotnettutorials.net/lesson/csharp-7-new-features/)\n",
    "> [Reference- async return types](https://learn.microsoft.com/en-us/dotnet/csharp/asynchronous-programming/async-return-types)"
   ]
  }
 ],
 "metadata": {
  "language_info": {
   "name": "python"
  },
  "orig_nbformat": 4
 },
 "nbformat": 4,
 "nbformat_minor": 2
}
