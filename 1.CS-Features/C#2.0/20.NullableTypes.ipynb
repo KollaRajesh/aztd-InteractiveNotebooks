{
 "cells": [
  {
   "cell_type": "markdown",
   "metadata": {},
   "source": [
    "> ### Nullable Types\n",
    ">    Version *C# 2.0*\n",
    ">\n",
    "> Nullable Types: A nullable value type T? represents all values of its underlying value type T and an additional null value"
   ]
  },
  {
   "cell_type": "markdown",
   "metadata": {},
   "source": [
    "> - Here is an example of how to use nullable types in C#:\n",
    "\n",
    "```csharp\n",
    "    int? nullableInt = null;\n",
    "    DateTime? nullableDateTime = null;\n",
    "    bool? nullableBool = null;\n",
    "```\n",
    "> In the above example , we hold null  for value types ( int , DateTime , bool)"
   ]
  },
  {
   "cell_type": "markdown",
   "metadata": {},
   "source": [
    ">  - Below is the another example"
   ]
  },
  {
   "cell_type": "code",
   "execution_count": null,
   "metadata": {
    "dotnet_interactive": {
     "language": "csharp"
    },
    "polyglot_notebook": {
     "kernelName": "csharp"
    },
    "vscode": {
     "languageId": "polyglot-notebook"
    }
   },
   "outputs": [],
   "source": [
    "public void PrintTime(DateTime? time)\n",
    "{\n",
    "    if (time.HasValue)\n",
    "    {\n",
    "        Console.WriteLine($\"Time is {time.Value.ToString(\"hh:mm:ss tt\")}\");\n",
    "    }\n",
    "    else\n",
    "    {\n",
    "        Console.WriteLine(\"Time is null\");\n",
    "    }\n",
    "}\n",
    "PrintTime (null);\n",
    "PrintTime(DateTime.Now);"
   ]
  },
  {
   "cell_type": "markdown",
   "metadata": {},
   "source": [
    "# Continue learning\n",
    "\n",
    "There are plenty more resources out there to learn!\n",
    "\n",
    "> [⏩ Next Module - Nullable Types](20.NullableTypes.ipynb)\n",
    ">\n",
    "> [⏪ Last Module - Partial Class](18.PartialClasses.ipynb)\n",
    ">\n",
    "> [Reference : Nullable Types](https://learn.microsoft.com/en-us/dotnet/csharp/language-reference/builtin-types/nullable-value-types)"
   ]
  }
 ],
 "metadata": {
  "language_info": {
   "name": "python"
  },
  "orig_nbformat": 4
 },
 "nbformat": 4,
 "nbformat_minor": 2
}
