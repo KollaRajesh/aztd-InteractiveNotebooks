{
 "cells": [
  {
   "cell_type": "code",
   "execution_count": null,
   "metadata": {
    "dotnet_interactive": {
     "language": "csharp"
    },
    "polyglot_notebook": {
     "kernelName": "csharp"
    },
    "vscode": {
     "languageId": "polyglot-notebook"
    }
   },
   "outputs": [],
   "source": [
    "TODO: \n",
    "\n",
    "// Design Patterns\n",
    "    //  1. Creational\n",
    "    //  2. Behavioural \n",
    "    //  3. Structural \n",
    "\n",
    "// Cloud Design Patterns\n",
    "\n",
    "// Type Script \n",
    "\n",
    "// Python\n",
    "\n",
    "// Powershell"
   ]
  }
 ],
 "metadata": {
  "language_info": {
   "name": "python"
  },
  "orig_nbformat": 4
 },
 "nbformat": 4,
 "nbformat_minor": 2
}
