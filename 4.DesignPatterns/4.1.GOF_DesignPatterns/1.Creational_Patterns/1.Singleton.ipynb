{
 "cells": [
  {
   "cell_type": "markdown",
   "metadata": {},
   "source": [
    "### 1. Singleton Pattern"
   ]
  },
  {
   "cell_type": "markdown",
   "metadata": {},
   "source": [
    ">   The **Singleton Design Pattern** is a creational design pattern that ensures a class has only one instance and provides a global point of access to that instance. Let’s dive into the details:  \n",
    "  \n",
    "> **Problem:**\n",
    ">  - In software development, there are scenarios where you want to restrict the creation of multiple instances of a class.\n",
    ">  -  Common situations include managing shared resources (e.g., database connections, configuration settings) or ensuring consistent behavior across the application.\n",
    "\n",
    "> **Purpose**:   \n",
    ">    **Restrict Instantiation**: The primary purpose of a singleton class is to limit the number of object creations to only one.   \n",
    ">    **Access Control**: It ensures controlled access to resources (e.g., database connections, configuration settings).   \n",
    ">    **Memory Efficiency**: Singleton prevents memory space wastage by restricting instance creation.  \n",
    "\n",
    " > **Solution (Singleton Design Pattern)**:\n",
    ">\n",
    ">       The Singleton pattern ensures that a class has:\n",
    ">        1. One private constructor: Prevents external instantiation.\n",
    ">        2. One private static instance variable: Holds the single instance.\n",
    ">        3. One public static method (GetInstance()): Provides global access to the instance.\n",
    ">   Note The instance is created lazily (on-demand) or eagerly (at class loading time)."
   ]
  },
  {
   "cell_type": "markdown",
   "metadata": {},
   "source": [
    "> *Eager Initialization*:\n",
    ">  The instance is created at class loading time.   \n",
    ">  Suitable when the singleton class doesn’t consume many resources.  \n",
    "\n",
    "> *Example* :\n",
    ">  - The *EagerInitializedLogger* class follows the eager initialization approach for creating a singleton instance.\n",
    ">  - The instance is created immediately when the class is loaded (hence “eager”).\n",
    ">  - The *private constructor* ensures that no other instances can be created externally.\n",
    ">  - The *GetInstance()* method provides access to the existing instance."
   ]
  },
  {
   "cell_type": "code",
   "execution_count": null,
   "metadata": {
    "dotnet_interactive": {
     "language": "csharp"
    },
    "polyglot_notebook": {
     "kernelName": "csharp"
    },
    "vscode": {
     "languageId": "polyglot-notebook"
    }
   },
   "outputs": [],
   "source": [
    "public class EagerInitializedLogger\n",
    "{\n",
    "    // The singleton instance is created eagerly during class loading\n",
    "    private static readonly EagerInitializedLogger instance = new EagerInitializedLogger();\n",
    "\n",
    "    // Private constructor prevents external instantiation\n",
    "    private EagerInitializedLogger() { }\n",
    "\n",
    "    // Public method to get the singleton instance\n",
    "    public static EagerInitializedLogger GetInstance() => instance;\n",
    "}\n"
   ]
  },
  {
   "cell_type": "markdown",
   "metadata": {},
   "source": [
    ">   **Lazy Initialization** (*Double-Checked Locking*):  \n",
    "\n",
    "> Creates the instance only when needed (on the first call to GetInstance()).   \n",
    "> Ensures thread safety using double-checked locking.  \n",
    "\n",
    ">  Example:\n",
    "\n",
    "> The **LazyInitializedLogger** class follows the lazy initialization approach for creating a singleton instance.   \n",
    "> The **GetInstance()** method ensures that only one instance of LazyInitializedLogger is created.   \n",
    "> The **lockObject** is used to synchronize access during instance creation, preventing race conditions.   \n",
    "> The **volatile** keyword ensures that the instance is correctly handled in a multi-threaded environment.  "
   ]
  },
  {
   "cell_type": "code",
   "execution_count": 2,
   "metadata": {
    "dotnet_interactive": {
     "language": "csharp"
    },
    "polyglot_notebook": {
     "kernelName": "csharp"
    },
    "vscode": {
     "languageId": "polyglot-notebook"
    }
   },
   "outputs": [],
   "source": [
    "public class LazyInitializedLogger\n",
    "{\n",
    "    // The singleton instance, marked as volatile for thread safety\n",
    "    private static volatile LazyInitializedLogger instance;\n",
    "\n",
    "    // A lock object to ensure thread-safe initialization\n",
    "    private static readonly object lockObject = new object();\n",
    "\n",
    "    // Private constructor prevents external instantiation\n",
    "    private LazyInitializedLogger() { }\n",
    "\n",
    "    // Public method to get the singleton instance\n",
    "    public static LazyInitializedLogger GetInstance()\n",
    "    {\n",
    "        // Check if the instance is null (not yet created)\n",
    "        if (instance == null)\n",
    "        {\n",
    "            // Acquire a lock to prevent multiple threads from creating instances simultaneously\n",
    "            lock (lockObject)\n",
    "            {\n",
    "                // Double-check inside the lock to ensure thread safety\n",
    "                if (instance == null)\n",
    "                    instance = new LazyInitializedLogger(); // Create the instance\n",
    "            }\n",
    "        }\n",
    "        return instance; // Return the existing or newly created instance\n",
    "    }\n",
    "}"
   ]
  },
  {
   "cell_type": "markdown",
   "metadata": {},
   "source": [
    " # Continue learning\n",
    "\n",
    "There are plenty more resources out there to learn!\n",
    "\n",
    "> [⏩ Next Module - Factory ](2.Factory.ipynb)\n",
    "> \n",
    "> [⏪ Last Module -  ]()\n",
    "\n",
    "> [Reference- singleton-design-pattern](https://dotnettutorials.net/lesson/singleton-design-pattern/)  \n"
   ]
  }
 ],
 "metadata": {
  "language_info": {
   "name": "python"
  },
  "orig_nbformat": 4
 },
 "nbformat": 4,
 "nbformat_minor": 2
}
