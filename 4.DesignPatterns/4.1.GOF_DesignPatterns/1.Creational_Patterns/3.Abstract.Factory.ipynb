{
 "cells": [
  {
   "cell_type": "markdown",
   "metadata": {},
   "source": [
    "### 3. Abstract Factory Pattern"
   ]
  },
  {
   "cell_type": "markdown",
   "metadata": {},
   "source": [
    ">  The **Abstract Factory Pattern** is a creational pattern that provides an interface for creating families of related or dependent objects without specifying their concrete classes.   \n",
    "\n",
    ">  It allows the client code to create objects of different types that belong to the same family.\n",
    ">\n",
    "> This pattern addresses several challenges:\n",
    "\n",
    ">  **Independence of Object Creation**:\n",
    ">\n",
    ">    - How can an application be independent of how its objects are created?\n",
    ">    - How can a class be independent of how the objects it requires are created?\n",
    "\n",
    ">  **Creating Related Objects**:\n",
    ">\n",
    ">    - How can families of related or dependent objects be created?\n",
    "\n",
    "\n",
    "> **Advantages**:\n",
    ">\n",
    ">  - Flexibility: The pattern allows for interchangeable concrete implementations without changing the code that uses them, even at runtime.\n",
    ">  - Scalability: New derived types can be introduced without altering existing code that relies on the base class.\n",
    ">  - Modularity: It separates object creation from usage, promoting cleaner code.\n",
    "\n",
    "> **Disadvantages**:\n",
    ">\n",
    ">  - Complexity: Like other design patterns, excessive use can lead to unnecessary complexity.\n",
    ">  - Initial Overhead: Implementing factories and interfaces initially requires extra work.\n",
    ">  - Debugging Challenges: Higher abstraction levels can make systems harder to debug and maintain.\n",
    "\n",
    ">  **Structure**   \n",
    ">\n",
    "> The abstract factory pattern involves the following components:\n",
    ">\n",
    ">  1. **Abstract Factory Interface**:\n",
    ">       - Declares methods for creating related product objects.\n",
    ">       - Concrete factories implement this interface.\n",
    ">  \n",
    ">  2. **Concrete Factories**:\n",
    ">       - Implement the abstract factory interface.\n",
    ">       - Create specific families of related products.\n",
    ">  \n",
    ">  3. **Abstract Product Interfaces**:\n",
    ">       - Declare methods for product objects.\n",
    ">       - Concrete products implement these interfaces.\n",
    ">  \n",
    ">  4. **Concrete Products**:\n",
    ">       - Implement the abstract product interfaces.\n",
    ">       - Represent specific product variations.\n",
    ">\n",
    ">  5. **Client**:\n",
    ">       - Uses only interfaces declared by AbstractFactory and AbstractProduct classes.\n",
    "\n",
    "> *Differences Between Factory Method and Abstract Factory*\n",
    "\n",
    "> 1. *Factory Method*:\n",
    ">\n",
    ">   - Creates a single product type.\n",
    ">   - Subclasses define the product creation logic.\n",
    ">   - One factory per product type.\n",
    ">   - *Example*: Creating different types of pizzas.\n",
    "\n",
    ">  2. *Abstract Factory*:\n",
    ">\n",
    ">   - Creates families of related products.\n",
    ">   - Abstract factory defines the product creation logic.\n",
    ">   - One factory per product family.\n",
    ">   - *Example*: Creating GUI components (buttons, text boxes, etc.) for different operating systems."
   ]
  },
  {
   "cell_type": "code",
   "execution_count": null,
   "metadata": {
    "dotnet_interactive": {
     "language": "csharp"
    },
    "polyglot_notebook": {
     "kernelName": "csharp"
    },
    "vscode": {
     "languageId": "polyglot-notebook"
    }
   },
   "outputs": [],
   "source": [
    "// Enum representing car types\n",
    "enum CarType { MICRO, MINI, LUXURY }\n",
    "\n",
    "// Abstract class for Car\n",
    "abstract class Car\n",
    "{\n",
    "    public CarType Model { get; }\n",
    "    public string Location { get; }\n",
    "\n",
    "    protected Car(CarType model, string location)\n",
    "    {\n",
    "        Model = model;\n",
    "        Location = location;\n",
    "    }\n",
    "\n",
    "    public abstract void Construct();\n",
    "}\n",
    "\n",
    "// Concrete car classes\n",
    "class MicroCar : Car\n",
    "{\n",
    "    public MicroCar(string location) : base(CarType.MICRO, location) { }\n",
    "\n",
    "    public override void Construct()\n",
    "    {\n",
    "        Console.WriteLine($\"Building a Micro Car in {Location}\");\n",
    "        // Additional construction logic specific to Micro Car\n",
    "    }\n",
    "}\n",
    "\n",
    "class LuxuryCar : Car\n",
    "{\n",
    "    public LuxuryCar(string location) : base(CarType.LUXURY, location) { }\n",
    "\n",
    "    public override void Construct()\n",
    "    {\n",
    "        Console.WriteLine($\"Building a Luxury Car in {Location}\");\n",
    "        // Additional construction logic specific to Luxury Car\n",
    "    }\n",
    "}\n",
    "\n",
    "// Abstract factory interface\n",
    "interface ICarFactory\n",
    "{\n",
    "    Car CreateCar();\n",
    "}\n",
    "\n",
    "// Concrete factories\n",
    "class IndiaCarFactory : ICarFactory\n",
    "{\n",
    "    public Car CreateCar() => new MicroCar(\"India\");\n",
    "}\n",
    "\n",
    "class USACarFactory : ICarFactory\n",
    "{\n",
    "    public Car CreateCar() => new LuxuryCar(\"USA\");\n",
    "}\n",
    "\n",
    "// Client code\n",
    "class Client\n",
    "{\n",
    "    public void BuildCar(ICarFactory factory)\n",
    "    {\n",
    "        var car = factory.CreateCar();\n",
    "        car.Construct();\n",
    "    }\n",
    "}\n",
    "\n",
    "// Usage\n",
    "var indiaFactory = new IndiaCarFactory();\n",
    "var usaFactory = new USACarFactory();\n",
    "\n",
    "var client = new Client();\n",
    "client.BuildCar(indiaFactory);\n",
    "client.BuildCar(usaFactory);\n",
    "\n",
    "\n",
    "/*We have abstracted the creation of MicroCars and LuxuryCars using the ICarFactory.\n",
    "The client code (Client) uses the generic interface to create cars without knowing the specific factories or car types.*/"
   ]
  },
  {
   "cell_type": "code",
   "execution_count": 5,
   "metadata": {
    "dotnet_interactive": {
     "language": "csharp"
    },
    "polyglot_notebook": {
     "kernelName": "csharp"
    },
    "vscode": {
     "languageId": "polyglot-notebook"
    }
   },
   "outputs": [
    {
     "data": {
      "text/html": [
       "<div><div></div><div></div><div><strong>Installed Packages</strong><ul><li><span>Oracle.ManagedDataAccess.Core, 3.21.120</span></li><li><span>System.Data.SqlClient, 4.8.5</span></li></ul></div></div>"
      ]
     },
     "metadata": {},
     "output_type": "display_data"
    },
    {
     "name": "stdout",
     "output_type": "stream",
     "text": [
      "SQL Server connection type: SqlConnection\n",
      "Oracle connection type: OracleConnection\n"
     ]
    }
   ],
   "source": [
    "#r \"nuget: Oracle.ManagedDataAccess.Core\"\n",
    "#r \"nuget: System.Data.SqlClient\"\n",
    "\n",
    "using System;\n",
    "using System.Data;\n",
    "using System.Data.SqlClient;\n",
    "using Oracle.ManagedDataAccess.Client;\n",
    "using Oracle.ManagedDataAccess.Types;\n",
    "\n",
    "\n",
    "// Abstract factory interface\n",
    "interface IDatabaseFactory<TConnection, TCommand>\n",
    "    where TConnection : IDbConnection, new()\n",
    "    where TCommand : IDbCommand, new()\n",
    "{\n",
    "    TConnection CreateConnection(string connectionString );\n",
    "    TCommand CreateCommand(string commandText);\n",
    "}\n",
    "\n",
    "// Concrete factories\n",
    "class SqlServerFactory : IDatabaseFactory<SqlConnection, SqlCommand>\n",
    "{\n",
    "    public SqlConnection CreateConnection(string connectionString) => new SqlConnection(connectionString);\n",
    "    public SqlCommand CreateCommand(string commandText) => new SqlCommand(commandText);\n",
    "}\n",
    "\n",
    "class OracleFactory : IDatabaseFactory<OracleConnection, OracleCommand>\n",
    "{\n",
    "    public OracleConnection CreateConnection(string connectionString) => new OracleConnection(connectionString);\n",
    "    public OracleCommand CreateCommand(string commandText) => new OracleCommand(commandText);\n",
    "}\n",
    "\n",
    "// Usage\n",
    "var sqlServerFactory = new SqlServerFactory();\n",
    "var oracleFactory = new OracleFactory();\n",
    "\n",
    "string sqlConnectionString = \"Data Source=ServerAddress;Initial Catalog=DataBase;Integrated Security=True;\";\n",
    "var sqlServerCommand = sqlServerFactory.CreateCommand(\"Select top 1 ProductName from Product (nolock) where ProductId=1\");\n",
    "    sqlServerCommand.Connection=sqlServerFactory.CreateConnection(sqlConnectionString);\n",
    "\n",
    " var oracleConnectionString =\"Data Source=myServerAddress;User Id=myUsername;Password=myPassword;\";\n",
    " var oracleCommand = oracleFactory.CreateCommand(\"Select top 1 ProductName from Product (nolock) where ProductId=1\");\n",
    "   oracleCommand.Connection = oracleFactory.CreateConnection(oracleConnectionString);\n",
    "   \n",
    "\n",
    "Console.WriteLine(\"SQL Server connection type: \" + sqlServerConnection.GetType().Name);\n",
    "Console.WriteLine(\"Oracle connection type: \" + oracleConnection.GetType().Name);\n"
   ]
  },
  {
   "cell_type": "markdown",
   "metadata": {},
   "source": [
    "# Continue learning\n",
    "\n",
    "There are plenty more resources out there to learn!\n",
    "\n",
    "> [⏩ Next Module - Builder Pattern](4.Builder.ipynb)\n",
    "> \n",
    "> [⏪ Last Module - Factory method](2.Factory.ipynb)\n",
    "\n",
    "> [Reference- abstract-factory-design-pattern](https://dotnettutorials.net/lesson/abstract-factory-design-pattern-csharp/)  "
   ]
  }
 ],
 "metadata": {
  "language_info": {
   "name": "python"
  },
  "orig_nbformat": 4
 },
 "nbformat": 4,
 "nbformat_minor": 2
}
