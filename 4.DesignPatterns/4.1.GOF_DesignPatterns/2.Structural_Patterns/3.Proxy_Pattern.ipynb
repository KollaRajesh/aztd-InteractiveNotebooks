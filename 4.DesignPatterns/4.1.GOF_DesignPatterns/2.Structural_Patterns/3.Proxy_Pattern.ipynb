{
 "cells": [
  {
   "cell_type": "markdown",
   "metadata": {},
   "source": [
    "### 3. Proxy Pattern"
   ]
  },
  {
   "cell_type": "markdown",
   "metadata": {},
   "source": [
    ">   The **Proxy Pattern** is a structural design pattern that acts as a placeholder or surrogate for another object.  \n",
    ">    - It allows you to control access to the real object and provides additional functionality when accessing it.   \n",
    ">    - Proxies are used to manage access to expensive or sensitive resources, such as network connections, large objects in memory, or files.   \n",
    ">\n",
    "> **Components of the Proxy Pattern**  \n",
    ">\n",
    ">   1. *Subject (IObject)*:  \n",
    ">    -  The Subject interface defines the common interface between the real object and its proxy.  \n",
    ">    -  It declares methods that the proxy and real object must implement.  \n",
    ">    -  Represents the functionality that clients can access.  \n",
    ">   2. *Real Subject (Object)*:  \n",
    ">    - The Real Subject represents the actual object that the client wants to access.   \n",
    ">    - It implements the Subject interface.\n",
    ">    - Contains the real business logic.\n",
    ">   3. *Proxy*:\n",
    ">    - The Proxy class implements the Subject interface.\n",
    ">    - Acts as an intermediary between the client and the real subject.\n",
    ">    - Controls access to the real subject (e.g., by adding security checks, caching, or lazy initialization).\n",
    ">    - Can provide additional functionality before or after forwarding requests to the real subject.\n",
    ">\n",
    "> **Advantages of the Proxy Pattern**\n",
    ">    \n",
    ">   1. Controlled Access:\n",
    ">    - Proxies allow you to control access to the real object.\n",
    ">    - You can add security checks, logging, or other pre- or post-processing logic.\n",
    ">   2. Resource Management:\n",
    ">    - Proxies can manage expensive or limited resources (e.g., database connections, network sockets) by creating them lazily or releasing them when no longer needed.\n",
    ">\n",
    "> **Disadvantages of the Proxy Pattern**\n",
    ">   1. Complexity:\n",
    ">      - Introducing proxy classes can add complexity to the codebase.\n",
    ">      - Keeping proxies in sync with changes in the real subject can be challenging.\n",
    ">   2. Performance Overhead:\n",
    ">      - Proxies may introduce additional method calls and indirection, impacting performance."
   ]
  },
  {
   "cell_type": "code",
   "execution_count": null,
   "metadata": {
    "dotnet_interactive": {
     "language": "csharp"
    },
    "polyglot_notebook": {
     "kernelName": "csharp"
    },
    "vscode": {
     "languageId": "polyglot-notebook"
    }
   },
   "outputs": [],
   "source": [
    "using System;\n",
    "\n",
    "// Subject interface\n",
    "interface IImage\n",
    "{\n",
    "    void Display();\n",
    "}\n",
    "\n",
    "// Real Subject (Heavy Image)\n",
    "class RealImage : IImage\n",
    "{\n",
    "    private readonly string _filename;\n",
    "\n",
    "    public RealImage(string filename)\n",
    "    {\n",
    "        _filename = filename;\n",
    "        LoadImageFromDisk();\n",
    "    }\n",
    "\n",
    "    private void LoadImageFromDisk()\n",
    "    {\n",
    "        Console.WriteLine($\"Loading image from disk: {_filename}\");\n",
    "    }\n",
    "\n",
    "    public void Display()\n",
    "    {\n",
    "        Console.WriteLine($\"Displaying image: {_filename}\");\n",
    "    }\n",
    "}\n",
    "\n",
    "// Proxy (Virtual Image)\n",
    "class VirtualImage : IImage\n",
    "{\n",
    "    private RealImage _realImage;\n",
    "    private readonly string _filename;\n",
    "\n",
    "    public VirtualImage(string filename)\n",
    "    {\n",
    "        _filename = filename;\n",
    "    }\n",
    "\n",
    "    public void Display()\n",
    "    {\n",
    "        if (_realImage == null)  //Lazy loading\n",
    "            _realImage = new RealImage(_filename);\n",
    "\n",
    "        _realImage.Display();\n",
    "    }\n",
    "}\n",
    "\n",
    "// Client code\n",
    "class Client\n",
    "{\n",
    "    public void ShowImage(IImage image)\n",
    "    {\n",
    "        image.Display();\n",
    "    }\n",
    "}\n",
    "\n",
    "// Usage\n",
    "var client = new Client();\n",
    "var imageProxy = new VirtualImage(\"large_image.jpg\");\n",
    "client.ShowImage(imageProxy);\n",
    "\n",
    "/*In this example:\n",
    "\n",
    "The RealImage represents the actual heavy image that takes time to load.\n",
    "The VirtualImage acts as a proxy for the real image. It loads the real image lazily when needed.\n",
    "*/\n"
   ]
  },
  {
   "cell_type": "markdown",
   "metadata": {},
   "source": [
    "> Example 2:                    \n",
    ">  Protection Proxy (Access Control)                "
   ]
  },
  {
   "cell_type": "code",
   "execution_count": null,
   "metadata": {
    "dotnet_interactive": {
     "language": "csharp"
    },
    "polyglot_notebook": {
     "kernelName": "csharp"
    },
    "vscode": {
     "languageId": "polyglot-notebook"
    }
   },
   "outputs": [],
   "source": [
    "using System;\n",
    "\n",
    "// Subject interface\n",
    "interface IResource\n",
    "{\n",
    "    void Access(string user);\n",
    "}\n",
    "\n",
    "// Real Subject (Sensitive Resource)\n",
    "class SensitiveResource : IResource\n",
    "{\n",
    "    public void Access(string user)\n",
    "    {\n",
    "        Console.WriteLine($\"Accessing sensitive resource by user: {user}\");\n",
    "    }\n",
    "}\n",
    "\n",
    "// Proxy (Protection Proxy)\n",
    "class ProtectionProxy : IResource\n",
    "{\n",
    "    private readonly SensitiveResource _realResource;\n",
    "\n",
    "    public ProtectionProxy()\n",
    "    {\n",
    "        _realResource = new SensitiveResource();\n",
    "    }\n",
    "\n",
    "    public void Access(string user)\n",
    "    {\n",
    "        if (user == \"admin\")\n",
    "            _realResource.Access(user);\n",
    "        else\n",
    "            Console.WriteLine($\"Access denied for user {user}. Only admin can access the resource.\");\n",
    "    }\n",
    "}\n",
    "\n",
    "// Client code\n",
    "class Client\n",
    "{\n",
    "    public void UseResource(IResource resource, string user)\n",
    "    {\n",
    "        resource.Access(user);\n",
    "    }\n",
    "}\n",
    "\n",
    "// Usage\n",
    "var client = new Client();\n",
    "var proxy = new ProtectionProxy();\n",
    "client.UseResource(proxy, \"admin\"); // Access granted\n",
    "client.UseResource(proxy, \"guest\"); // Access denied\n",
    "\n",
    "/*\n",
    "In this Example\n",
    "    The SensitiveResource represents the actual sensitive resource.\n",
    "    The ProtectionProxy acts as a proxy to control access. It allows access only for the “admin” user.\n",
    "*/"
   ]
  },
  {
   "cell_type": "markdown",
   "metadata": {},
   "source": [
    "# Continue learning\n",
    "\n",
    "There are plenty more resources out there to learn!\n",
    "\n",
    "> [⏩ Next Module - 4.Flyweight Pattern](4.Flyweight_Pattern.ipynb)\n",
    "> \n",
    "> [⏪ Last Module - 2.Composite Pattern](2.Composite_Pattern.ipynb)\n",
    ">\n",
    "> [Reference- proxy-design-pattern](https://dotnettutorials.net/lesson/proxy-design-pattern/)  \n",
    "> [Reference- proxy-pattern](https://www.oodesign.com/proxy-pattern)"
   ]
  }
 ],
 "metadata": {
  "language_info": {
   "name": "python"
  },
  "orig_nbformat": 4
 },
 "nbformat": 4,
 "nbformat_minor": 2
}
