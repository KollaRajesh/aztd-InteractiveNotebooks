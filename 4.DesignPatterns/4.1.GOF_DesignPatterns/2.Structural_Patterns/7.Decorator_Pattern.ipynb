{
 "cells": [
  {
   "cell_type": "markdown",
   "metadata": {},
   "source": [
    "### 6. Decorator Pattern"
   ]
  },
  {
   "cell_type": "markdown",
   "metadata": {},
   "source": [
    "> The **Decorator Pattern** is a structural design pattern that allows you to attach additional responsibilities to an object dynamically.\n",
    ">  It provides a flexible way to extend the behavior of individual objects without altering their structure. Let’s dive into the details:\n",
    "> \n",
    "> **What Is the Decorator Pattern**?\n",
    ">   - The decorator pattern allows you to add new functionality to an existing object without modifying its structure.\n",
    ">   - It achieves this by wrapping the original object with one or more decorator classes. \n",
    ">   - Each decorator class extends the behavior of the original object transparently by forwarding requests to it and performing additional functionality before or after forwarding the request.\n",
    "> \n",
    "> **Purpose of the Decorator Pattern**\n",
    "> The decorator pattern serves several purposes:\n",
    ">\n",
    ">   1. *Responsibilities Extension*:\n",
    ">       - It allows responsibilities to be added to (and removed from) an object dynamically at runtime.\n",
    ">       - It provides a flexible alternative to subclassing for extending functionality.\n",
    ">   2. *Open-Closed Principle*:\n",
    ">       - It adheres to the Open-Closed Principle by allowing functionality to be extended without modifying existing code.\n",
    ">\n",
    "> **Advantages of the Decorator Pattern**\n",
    ">   1. *Flexibility and Reusability*:\n",
    ">       - It allows dynamic extension of an object’s behavior.\n",
    ">       - Decorators can be combined in various ways to create different combinations of functionality.\n",
    ">   2. *Composition over Inheritance*:\n",
    ">       - It promotes composition over inheritance, avoiding deep inheritance hierarchies.\n",
    ">\n",
    "> **Disadvantages of the Decorator Pattern**\n",
    ">   1. *Complexity*:\n",
    ">       - Implementing decorators can be complex, especially when multiple decorators are involved.\n",
    ">   2. *Performance Overhead*:\n",
    ">       - Decorators may introduce additional method calls and indirection, impacting performance.\n",
    ">\n",
    "> **Structure of the Decorator Pattern**\n",
    "> The decorator pattern consists of the following components:\n",
    "> \n",
    ">   1. *Component Interface*:\n",
    ">       - Defines the common interface for both the concrete component and decorators.\n",
    ">       - Represents the functionality that clients can access.\n",
    ">   2. *Concrete Component*:\n",
    ">       - The actual object that the client wants to decorate.\n",
    ">       - Implements the component interface.\n",
    ">   3. *Decorator*:\n",
    ">       - An abstract class or interface that wraps the concrete component.\n",
    ">       - Contains a reference to the component.\n",
    ">       - Implements the component interface.\n",
    ">       - May add additional behavior before or after forwarding requests to the component."
   ]
  },
  {
   "cell_type": "markdown",
   "metadata": {},
   "source": [
    ">  Example 1: (Coffee Shop )"
   ]
  },
  {
   "cell_type": "code",
   "execution_count": null,
   "metadata": {
    "dotnet_interactive": {
     "language": "csharp"
    },
    "polyglot_notebook": {
     "kernelName": "csharp"
    },
    "vscode": {
     "languageId": "polyglot-notebook"
    }
   },
   "outputs": [],
   "source": [
    "using System;\n",
    "\n",
    "// Component interface\n",
    "interface ICoffee\n",
    "{\n",
    "    string GetDescription();\n",
    "    double GetCost();\n",
    "}\n",
    "\n",
    "// Concrete component\n",
    "class SimpleCoffee : ICoffee\n",
    "{\n",
    "    public string GetDescription() => \"Simple coffee\";\n",
    "    public double GetCost() => 2.0;\n",
    "}\n",
    "\n",
    "// Decorator\n",
    "abstract class CoffeeDecorator : ICoffee\n",
    "{\n",
    "    protected readonly ICoffee _coffee;\n",
    "\n",
    "    public CoffeeDecorator(ICoffee coffee)\n",
    "    {\n",
    "        _coffee = coffee;\n",
    "    }\n",
    "\n",
    "    public abstract string GetDescription();\n",
    "    public abstract double GetCost();\n",
    "}\n",
    "\n",
    "// Concrete decorators\n",
    "class MilkDecorator : CoffeeDecorator\n",
    "{\n",
    "    public MilkDecorator(ICoffee coffee) : base(coffee) { }\n",
    "\n",
    "    public override string GetDescription() => _coffee.GetDescription() + \", milk\";\n",
    "    public override double GetCost() => _coffee.GetCost() + 0.5;\n",
    "}\n",
    "\n",
    "class SugarDecorator : CoffeeDecorator\n",
    "{\n",
    "    public SugarDecorator(ICoffee coffee) : base(coffee) { }\n",
    "\n",
    "    public override string GetDescription() => _coffee.GetDescription() + \", sugar\";\n",
    "    public override double GetCost() => _coffee.GetCost() + 0.3;\n",
    "}\n",
    "\n",
    "// Client code\n",
    "class Client\n",
    "{\n",
    "    public void ServeCoffee(ICoffee coffee)\n",
    "    {\n",
    "        Console.WriteLine($\"Serving: {coffee.GetDescription()} (${coffee.GetCost()})\");\n",
    "    }\n",
    "}\n",
    "\n",
    "// Usage\n",
    "var client = new Client();\n",
    "var simpleCoffee = new SimpleCoffee();\n",
    "var milkCoffee = new MilkDecorator(simpleCoffee);\n",
    "var sweetCoffee = new SugarDecorator(milkCoffee);\n",
    "\n",
    "client.ServeCoffee(sweetCoffee);\n"
   ]
  },
  {
   "cell_type": "markdown",
   "metadata": {},
   "source": [
    "> Example 2: (Text Encryption )"
   ]
  },
  {
   "cell_type": "code",
   "execution_count": null,
   "metadata": {
    "dotnet_interactive": {
     "language": "csharp"
    },
    "polyglot_notebook": {
     "kernelName": "csharp"
    },
    "vscode": {
     "languageId": "polyglot-notebook"
    }
   },
   "outputs": [],
   "source": [
    "using System;\n",
    "\n",
    "// Subsystem components\n",
    "class TextEncryptor\n",
    "{\n",
    "    public string Encrypt(string text)\n",
    "    {\n",
    "        Console.WriteLine($\"Encrypting: {text}\");\n",
    "        // Simulate encryption\n",
    "        return $\"[ENCRYPTED] {text}\";\n",
    "    }\n",
    "}\n",
    "\n",
    "// Facade\n",
    "class TextEncryptionFacade\n",
    "{\n",
    "    private readonly TextEncryptor _encryptor;\n",
    "\n",
    "    public TextEncryptionFacade()\n",
    "    {\n",
    "        _encryptor = new TextEncryptor();\n",
    "    }\n",
    "\n",
    "    public string EncryptText(string text)\n",
    "    {\n",
    "        return _encryptor.Encrypt(text);\n",
    "    }\n",
    "}\n",
    "\n",
    "// Client code\n",
    "class Client\n",
    "{\n",
    "    public void DisplayEncryptedText(TextEncryptionFacade facade, string text)\n",
    "    {\n",
    "        var encryptedText = facade.EncryptText(text);\n",
    "        Console.WriteLine($\"Encrypted text: {encryptedText}\");\n",
    "    }\n",
    "}\n",
    "\n",
    "// Usage\n",
    "var client = new Client();\n",
    "var encryptionFacade = new TextEncryptionFacade();\n",
    "client.DisplayEncryptedText(encryptionFacade, \"Hello, world!\");\n"
   ]
  },
  {
   "cell_type": "markdown",
   "metadata": {},
   "source": [
    "# Continue learning\n",
    "\n",
    "There are plenty more resources out there to learn!\n",
    "\n",
    "> [⏩ Next Module - 1.Template Pattern](../3.Behavioral_Patterns/1.Template_Method_Pattern.ipynb)\n",
    "> \n",
    "> [⏪ Last Module - 6.Bridge Pattern](6.Bridge_Pattern.ipynb)\n",
    "\n",
    "> [Reference- Decorator-design-pattern](https://dotnettutorials.net/lesson/decorator-design-pattern/)  \n",
    "> [Reference- Decorator-pattern](https://www.oodesign.com/decorator-pattern)"
   ]
  }
 ],
 "metadata": {
  "language_info": {
   "name": "python"
  },
  "orig_nbformat": 4
 },
 "nbformat": 4,
 "nbformat_minor": 2
}
