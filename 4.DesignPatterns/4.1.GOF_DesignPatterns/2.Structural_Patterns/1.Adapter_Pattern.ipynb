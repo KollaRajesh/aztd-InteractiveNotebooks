{
 "cells": [
  {
   "cell_type": "markdown",
   "metadata": {},
   "source": [
    "### 1. Adapter Pattern"
   ]
  },
  {
   "cell_type": "markdown",
   "metadata": {},
   "source": [
    "> The **Adapter Pattern** is a structural design pattern that allows two incompatible interfaces to work together.\n",
    ">   It acts as a bridge between two interfaces, making them collaborate without modifying their source code. \n",
    ">   This pattern is particularly useful when integrating legacy code or third-party libraries into your application.\n",
    "\n",
    "> **Challenges**:\n",
    ">\n",
    "> 1. Incompatible Interfaces:\n",
    ">\n",
    ">    - How can classes with different interfaces work together?\n",
    ">    - How can an existing class be reused when its interface doesn’t match what a client requires?\n",
    ">\n",
    "> 2. Integration with Existing Code:\n",
    ">\n",
    ">    - How can we integrate legacy code or third-party libraries that don’t conform to our desired interface?\n",
    "\n",
    ">**Advantages and Disadvantages**   \n",
    ">\n",
    "> *Advantages*:  \n",
    ">\n",
    ">    - *Interoperability*: Allows otherwise incompatible classes to collaborate.\n",
    ">    - *Reuse*: Enables reusing existing classes without modifying their source code.\n",
    ">    - *Composition* over Inheritance: Provides a way to adapt classes without relying on inheritance.\n",
    ">\n",
    ">*Disadvantages*:\n",
    ">\n",
    ">    - *Complexity*: Introduces additional layers (adapters) and complexity.\n",
    ">    - *Runtime Overhead*: Adapters may add some runtime overhead due to extra method calls.\n",
    "\n",
    "> **Structure**\n",
    "> The Adapter Pattern consists of the following components:\n",
    "> \n",
    "> 1. *Target Interface*:\n",
    ">\n",
    ">    - Defines the interface expected by the client.\n",
    ">    - Represents the desired functionality.\n",
    "> 2. *Adaptee*:\n",
    ">\n",
    ">    - The existing class with an incompatible interface.\n",
    ">    - The class we want to adapt.\n",
    "> 3. *Adapter*:\n",
    ">\n",
    ">    - Implements the target interface.\n",
    ">    - Wraps the adaptee and provides the required interface.\n",
    ">    - Converts calls from the target interface to the adaptee’s interface."
   ]
  },
  {
   "cell_type": "markdown",
   "metadata": {},
   "source": [
    "> Example 1:  \n",
    "> Class Adapter (using inheritance)"
   ]
  },
  {
   "cell_type": "code",
   "execution_count": null,
   "metadata": {
    "dotnet_interactive": {
     "language": "csharp"
    },
    "polyglot_notebook": {
     "kernelName": "csharp"
    },
    "vscode": {
     "languageId": "polyglot-notebook"
    }
   },
   "outputs": [],
   "source": [
    "using System;\n",
    "\n",
    "// Target interface\n",
    "interface ITarget\n",
    "{\n",
    "    void Request();\n",
    "}\n",
    "\n",
    "// Adaptee (existing class)\n",
    "class Adaptee\n",
    "{\n",
    "    public void SpecificRequest()\n",
    "    {\n",
    "        Console.WriteLine(\"Adaptee's specific request\");\n",
    "    }\n",
    "}\n",
    "\n",
    "// Adapter (class adapter)\n",
    "class Adapter : Adaptee, ITarget\n",
    "{\n",
    "    public void Request()\n",
    "    {\n",
    "        SpecificRequest(); // Call the adaptee's method\n",
    "    }\n",
    "}\n",
    "\n",
    "// Client code\n",
    "class Client\n",
    "{\n",
    "    public void UseAdapter(ITarget target)\n",
    "    {\n",
    "        target.Request();\n",
    "    }\n",
    "}\n",
    "\n",
    "// Usage\n",
    "var client = new Client();\n",
    "var adapter = new Adapter();\n",
    "client.UseAdapter(adapter);\n"
   ]
  },
  {
   "cell_type": "markdown",
   "metadata": {},
   "source": [
    "> Example 2:  \n",
    "> Object Adapter (using inheritance)"
   ]
  },
  {
   "cell_type": "code",
   "execution_count": null,
   "metadata": {
    "dotnet_interactive": {
     "language": "csharp"
    },
    "polyglot_notebook": {
     "kernelName": "csharp"
    },
    "vscode": {
     "languageId": "polyglot-notebook"
    }
   },
   "outputs": [],
   "source": [
    "using System;\n",
    "\n",
    "// Target interface\n",
    "interface ITarget\n",
    "{\n",
    "    void Request();\n",
    "}\n",
    "\n",
    "// Adaptee (existing class)\n",
    "class Adaptee\n",
    "{\n",
    "    public void SpecificRequest()\n",
    "    {\n",
    "        Console.WriteLine(\"Adaptee's specific request\");\n",
    "    }\n",
    "}\n",
    "\n",
    "// Adapter (object adapter)\n",
    "class Adapter : ITarget\n",
    "{\n",
    "    private readonly Adaptee _adaptee;\n",
    "\n",
    "    public Adapter(Adaptee adaptee)\n",
    "    {\n",
    "        _adaptee = adaptee;\n",
    "    }\n",
    "\n",
    "    public void Request()\n",
    "    {\n",
    "        _adaptee.SpecificRequest(); // Call the adaptee's method\n",
    "    }\n",
    "}\n",
    "\n",
    "// Client code\n",
    "class Client\n",
    "{\n",
    "    public void UseAdapter(ITarget target)\n",
    "    {\n",
    "        target.Request();\n",
    "    }\n",
    "}\n",
    "\n",
    "// Usage\n",
    "var client = new Client();\n",
    "var adaptee = new Adaptee();\n",
    "var adapter = new Adapter(adaptee);\n",
    "client.UseAdapter(adapter);\n"
   ]
  },
  {
   "cell_type": "markdown",
   "metadata": {},
   "source": [
    "> Example  3: CSV to JSON Adapter\n",
    ">   - Suppose we receive employee data from the legacy system in CSV format, but our application needs this data in JSON format.\n",
    ">   - We’ll create an adapter that takes CSV data and converts it to JSON."
   ]
  },
  {
   "cell_type": "code",
   "execution_count": null,
   "metadata": {
    "dotnet_interactive": {
     "language": "csharp"
    },
    "polyglot_notebook": {
     "kernelName": "csharp"
    },
    "vscode": {
     "languageId": "polyglot-notebook"
    }
   },
   "outputs": [],
   "source": [
    "using System;\n",
    "using System.Collections.Generic;\n",
    "using System.Linq;\n",
    "using Newtonsoft.Json;\n",
    "\n",
    "// Legacy system providing data in CSV format\n",
    "class CsvDataProvider\n",
    "{\n",
    "   // Simulate fetching CSV data from the legacy system\n",
    "    public string GetCsvData()=>  \"John,Doe,30\\nAlice,Smith,25\\nBob,Johnson,28\";\n",
    "}\n",
    "\n",
    "// Target interface (expected by the client)\n",
    "interface IJsonDataProvider\n",
    "{\n",
    "    string GetJsonData();\n",
    "}\n",
    "\n",
    "// Adapter (converts CSV to JSON)\n",
    "class CsvToJsonAdapter : IJsonDataProvider\n",
    "{\n",
    "    private readonly CsvDataProvider _csvProvider;\n",
    "\n",
    "    public CsvToJsonAdapter(CsvDataProvider csvProvider) =>  _csvProvider = csvProvider;\n",
    "\n",
    "    public string GetJsonData()\n",
    "    {\n",
    "        var csvData = _csvProvider.GetCsvData();\n",
    "        var employees = csvData.Split('\\n')\n",
    "            .Select(line => line.Split(','))\n",
    "            .Select(parts => new\n",
    "            {\n",
    "                FirstName = parts[0],\n",
    "                LastName = parts[1],\n",
    "                Age = int.Parse(parts[2])\n",
    "            });\n",
    "        return JsonConvert.SerializeObject(employees, Formatting.Indented);\n",
    "    }\n",
    "}\n",
    "// Client code\n",
    "class Client\n",
    "{\n",
    "    public void ProcessEmployeeData(IJsonDataProvider jsonProvider)\n",
    "    {\n",
    "        var jsonData = jsonProvider.GetJsonData();\n",
    "        Console.WriteLine(jsonData);\n",
    "    }\n",
    "}\n",
    "\n",
    "// Usage\n",
    "var legacyCsvProvider = new CsvDataProvider();\n",
    "var jsonAdapter = new CsvToJsonAdapter(legacyCsvProvider);\n",
    "\n",
    "var client = new Client();\n",
    "client.ProcessEmployeeData(jsonAdapter);\n",
    "\n",
    "/*\n",
    "    The CsvDataProvider represents the legacy system providing data in CSV format.\n",
    "    The CsvToJsonAdapter adapts the CSV data to the expected JSON format.\n",
    "    The client code works with the IJsonDataProvider interface, unaware of the underlying CSV-to-JSON conversion.*/"
   ]
  },
  {
   "cell_type": "markdown",
   "metadata": {},
   "source": [
    "# Continue learning\n",
    "\n",
    "There are plenty more resources out there to learn!\n",
    "\n",
    "> [⏩ Next Module - 2.Composite Pattern](2.Composite_Pattern.ipynb)\n",
    "> \n",
    "> [⏪ Last Module - 6.ObjectPool Pattern](../1.Creational_Patterns/6.ObjectPool_Patterns.ipynb)\n",
    "\n",
    "> [Reference- adapter-design-pattern](https://dotnettutorials.net/lesson/adapter-design-pattern/)  "
   ]
  }
 ],
 "metadata": {
  "language_info": {
   "name": "python"
  },
  "orig_nbformat": 4
 },
 "nbformat": 4,
 "nbformat_minor": 2
}
