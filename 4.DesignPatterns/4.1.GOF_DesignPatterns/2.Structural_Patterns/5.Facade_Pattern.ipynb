{
 "cells": [
  {
   "cell_type": "markdown",
   "metadata": {},
   "source": [
    "### 5. Facade Pattern"
   ]
  },
  {
   "cell_type": "markdown",
   "metadata": {
    "vscode": {
     "languageId": "polyglot-notebook"
    }
   },
   "source": [
    "> The Facade Pattern is a software design pattern commonly used in object-oriented programming.\n",
    ">    -  It provides a simplified interface to a complex system by acting as a front-facing interface that masks more complex underlying or structural code.\n",
    ">    -   Much like a facade in architecture, the facade pattern simplifies interactions with a system by presenting a unified and simplified API.\n",
    "> \n",
    "> **What Is the Facade Pattern**?\n",
    ">   The facade pattern serves several purposes:\n",
    "> \n",
    ">   1. *Simplification and Readability*:\n",
    ">      - It improves the readability and usability of a software library by masking interaction with more complex components behind a single, often simplified, API.\n",
    ">      - It provides a context-specific interface to more generic functionality, complete with context-specific input validation.\n",
    ">   2. *Minimization of Dependencies*:\n",
    ">      - It minimizes dependencies on a subsystem by providing a unified interface.\n",
    ">      - Clients that directly access a complex subsystem often refer to many different objects with different interfaces (tight coupling), making clients hard to implement, change, test, and reuse.\n",
    ">  3. *Refactoring and Decoupling*:\n",
    ">     - It can serve as a launching point for refactoring monolithic or tightly-coupled systems into more loosely-coupled code.\n",
    "\n",
    "> - Developers commonly use the facade design pattern when a system is very complex, difficult to understand, or has many interdependent classes.\n",
    ">    - It hides the complexities of the larger system and provides a simpler interface to the client.\n",
    "> **Structure of the Facade Pattern**\n",
    "> The facade pattern consists of the following components:\n",
    "> \n",
    ">   1. *Facade*:\n",
    ">      - The facade class is the central structuring unit of the pattern.\n",
    ">      - It implements a universal interface for the various interfaces of the subsystem.\n",
    ">      - It delegates important functionalities of the software to the respective sub-systems to simplify handling the various sub-components.\n",
    ">\n",
    ">   2. *Subsystem Interfaces and Classes*:\n",
    ">      - These are the individual components of the system.\n",
    ">      - The facade delegates calls to these subsystem components.\n",
    ">      - The facade hides the implementation details of these subsystems from the client.\n",
    ">\n",
    "> **Advantages of the Facade Pattern**\n",
    ">   1. *Simplification and Readability*:\n",
    ">      - It simplifies complex systems by providing a unified interface.\n",
    ">      - It improves code readability and usability.\n",
    ">   2.  *Decoupling and Loose Coupling*:\n",
    ">      - It minimizes direct dependencies on subsystem components.\n",
    ">      - It promotes the principle of loose coupling.\n",
    ">\n",
    "> **Disadvantages of the Facade Pattern**\n",
    ">   1.  Complexity:\n",
    ">      - Implementing the facade class can be complex, especially for large systems.\n",
    ">   2. Performance Overhead:\n",
    ">      - The facade may introduce additional method calls and indirection, impacting performance."
   ]
  },
  {
   "cell_type": "markdown",
   "metadata": {},
   "source": [
    "> Example 1: (Mortgage Application)\n",
    ">\n",
    ">    - In this example, we’ll create a facade for a mortgage application system.\n",
    ">    - The facade simplifies the process of checking an applicant’s creditworthiness by providing a unified interface to a large subsystem of classes."
   ]
  },
  {
   "cell_type": "code",
   "execution_count": 1,
   "metadata": {
    "dotnet_interactive": {
     "language": "csharp"
    },
    "polyglot_notebook": {
     "kernelName": "csharp"
    },
    "vscode": {
     "languageId": "polyglot-notebook"
    }
   },
   "outputs": [
    {
     "name": "stdout",
     "output_type": "stream",
     "text": [
      "Checking eligibility for John Doe\n",
      "Checking savings for John Doe\n",
      "Checking credit for John Doe\n",
      "Checking loans for John Doe\n",
      "John Doe is eligible for a mortgage.\n"
     ]
    }
   ],
   "source": [
    "using System;\n",
    "\n",
    "// Subsystem components\n",
    "class Bank\n",
    "{\n",
    "    public bool HasSufficientSavings(string applicant)\n",
    "    {\n",
    "        Console.WriteLine($\"Checking savings for {applicant}\");\n",
    "        // Simulate checking savings\n",
    "        return true;\n",
    "    }\n",
    "}\n",
    "\n",
    "class Credit\n",
    "{\n",
    "    public bool HasGoodCredit(string applicant)\n",
    "    {\n",
    "        Console.WriteLine($\"Checking credit for {applicant}\");\n",
    "        // Simulate checking credit\n",
    "        return true;\n",
    "    }\n",
    "}\n",
    "\n",
    "class Loan\n",
    "{\n",
    "    public bool HasNoBadLoans(string applicant)\n",
    "    {\n",
    "        Console.WriteLine($\"Checking loans for {applicant}\");\n",
    "        // Simulate checking loans\n",
    "        return true;\n",
    "    }\n",
    "}\n",
    "\n",
    "// Facade\n",
    "class MortgageApplication\n",
    "{\n",
    "    private readonly Bank _bank;\n",
    "    private readonly Credit _credit;\n",
    "    private readonly Loan _loan;\n",
    "\n",
    "    public MortgageApplication()\n",
    "    {\n",
    "        _bank = new Bank();\n",
    "        _credit = new Credit();\n",
    "        _loan = new Loan();\n",
    "    }\n",
    "\n",
    "    public bool IsEligible(string applicant)\n",
    "    {\n",
    "        Console.WriteLine($\"Checking eligibility for {applicant}\");\n",
    "        return _bank.HasSufficientSavings(applicant) &&\n",
    "               _credit.HasGoodCredit(applicant) &&\n",
    "               _loan.HasNoBadLoans(applicant);\n",
    "    }\n",
    "}\n",
    "\n",
    "// Client code\n",
    "class Client\n",
    "{\n",
    "    public void CheckMortgageEligibility(MortgageApplication mortgage, string applicant)\n",
    "    {\n",
    "        if (mortgage.IsEligible(applicant))\n",
    "            Console.WriteLine($\"{applicant} is eligible for a mortgage.\");\n",
    "        else\n",
    "            Console.WriteLine($\"{applicant} is not eligible for a mortgage.\");\n",
    "    }\n",
    "}\n",
    "\n",
    "// Usage\n",
    "var client = new Client();\n",
    "var mortgage = new MortgageApplication();\n",
    "client.CheckMortgageEligibility(mortgage, \"John Doe\");\n"
   ]
  },
  {
   "cell_type": "markdown",
   "metadata": {},
   "source": [
    "> Example 2: (Payment Gateway Facade)"
   ]
  },
  {
   "cell_type": "code",
   "execution_count": null,
   "metadata": {
    "dotnet_interactive": {
     "language": "csharp"
    },
    "polyglot_notebook": {
     "kernelName": "csharp"
    },
    "vscode": {
     "languageId": "polyglot-notebook"
    }
   },
   "outputs": [],
   "source": [
    "using System;\n",
    "\n",
    "// Subsystem components\n",
    "class PayPal\n",
    "{\n",
    "    public void Pay(decimal amount)\n",
    "    {\n",
    "        Console.WriteLine($\"Paid ${amount} via PayPal\");\n",
    "    }\n",
    "}\n",
    "\n",
    "class CreditCard\n",
    "{\n",
    "    public void Charge(decimal amount)\n",
    "    {\n",
    "        Console.WriteLine($\"Charged ${amount} to credit card\");\n",
    "    }\n",
    "}\n",
    "\n",
    "// Facade\n",
    "class PaymentGatewayFacade\n",
    "{\n",
    "    private readonly PayPal _payPal;\n",
    "    private readonly CreditCard _creditCard;\n",
    "\n",
    "    public PaymentGatewayFacade()\n",
    "    {\n",
    "        _payPal = new PayPal();\n",
    "        _creditCard = new CreditCard();\n",
    "    }\n",
    "\n",
    "    public void ProcessPayment(decimal amount)\n",
    "    {\n",
    "        _payPal.Pay(amount);\n",
    "        _creditCard.Charge(amount);\n",
    "    }\n",
    "}\n",
    "\n",
    "// Client code\n",
    "class Client\n",
    "{\n",
    "    public void MakePayment()\n",
    "    {\n",
    "        var facade = new PaymentGatewayFacade();\n",
    "        facade.ProcessPayment(100.50m);\n",
    "    }\n",
    "}\n",
    "\n",
    "// Usage\n",
    "var client = new Client();\n",
    "client.MakePayment();\n"
   ]
  },
  {
   "cell_type": "markdown",
   "metadata": {},
   "source": [
    "# Continue learning\n",
    "\n",
    "There are plenty more resources out there to learn!\n",
    "\n",
    "> [⏩ Next Module - 6.Bridge Pattern](6.Bridge_Pattern.ipynb)\n",
    "> \n",
    "> [⏪ Last Module - 4.Flyweight Pattern](4.Flyweight_Pattern.ipynb)\n",
    ">\n",
    "> [Reference- Facade-design-pattern](https://dotnettutorials.net/lesson/facade-design-pattern/)  \n"
   ]
  }
 ],
 "metadata": {
  "language_info": {
   "name": "python"
  },
  "orig_nbformat": 4
 },
 "nbformat": 4,
 "nbformat_minor": 2
}
